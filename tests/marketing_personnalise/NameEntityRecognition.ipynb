{
 "cells": [
  {
   "cell_type": "markdown",
   "metadata": {},
   "source": [
    "### Setting the Brand"
   ]
  },
  {
   "cell_type": "code",
   "execution_count": 2,
   "metadata": {
    "scrolled": true
   },
   "outputs": [],
   "source": [
    "brand = 'pepsi'"
   ]
  },
  {
   "cell_type": "markdown",
   "metadata": {},
   "source": [
    "# 1. Chargement du CSV"
   ]
  },
  {
   "cell_type": "code",
   "execution_count": 3,
   "metadata": {
    "pycharm": {
     "is_executing": false,
     "name": "#%%\n"
    },
    "scrolled": true
   },
   "outputs": [],
   "source": [
    "import csv \n",
    "def load_csv(file):\n",
    "    rows = []\n",
    "    with open(file, newline='',encoding='utf-8-sig') as csvfile:\n",
    "        reader = csv.DictReader(csvfile)\n",
    "        for row in reader:\n",
    "            rows.append(row)\n",
    "    return rows"
   ]
  },
  {
   "cell_type": "code",
   "execution_count": 4,
   "metadata": {
    "scrolled": true
   },
   "outputs": [],
   "source": [
    "import nltk\n",
    "from nltk.tokenize import word_tokenize\n",
    "\n",
    "def get_words(tweets):\n",
    "    L = []\n",
    "    tweets_2 = [row.get('tweet') for row in tweets if row.get('tweet') != None]\n",
    "    for k in range(len(tweets_2)) :\n",
    "        sentence = word_tokenize(tweets_2[k])\n",
    "        for word in sentence :\n",
    "            L.append(word)\n",
    "    return L "
   ]
  },
  {
   "cell_type": "code",
   "execution_count": 5,
   "metadata": {
    "scrolled": true
   },
   "outputs": [],
   "source": [
    "import nltk\n",
    "import string\n",
    "from nltk.corpus import stopwords\n",
    "\n",
    "def clean(words_list) :\n",
    "    filtered_words = [word for word in words_list if word not in stopwords.words('english')]\n",
    "    filtered_words = [''.join(c for c in s if c not in string.punctuation) for s in filtered_words]\n",
    "    filtered_words = [s for s in filtered_words if s]\n",
    "    filtered_words = [s for s in filtered_words if len(s) > 1]\n",
    "    return filtered_words"
   ]
  },
  {
   "cell_type": "markdown",
   "metadata": {},
   "source": [
    "## 1.1 Lecture du premier CSV Pepsi"
   ]
  },
  {
   "cell_type": "code",
   "execution_count": 8,
   "metadata": {
    "scrolled": false
   },
   "outputs": [
    {
     "name": "stdout",
     "output_type": "stream",
     "text": [
      "['@', 'PatMcAfeeShow', '@', 'Jaguars', 'Please', 'explain', 'how', 'the', '@', 'pepsi', 'NFL', 'ROY', 'will', 'have', 'only', 'won', 'the', 'Pepsi', 'Rookie', 'of']\n"
     ]
    }
   ],
   "source": [
    "BRAND = load_csv('../../data/extraction_twint/tweets_data/data_marketing_personalise/' + brand +'.csv')\n",
    "words = get_words(BRAND)\n",
    "print(words[:20])"
   ]
  },
  {
   "cell_type": "markdown",
   "metadata": {},
   "source": [
    "## 1.2 Detection de 'Faux' Tweets"
   ]
  },
  {
   "cell_type": "code",
   "execution_count": 6,
   "metadata": {
    "scrolled": true
   },
   "outputs": [
    {
     "name": "stdout",
     "output_type": "stream",
     "text": [
      "100\n"
     ]
    },
    {
     "data": {
      "text/plain": [
       "[]"
      ]
     },
     "execution_count": 6,
     "metadata": {},
     "output_type": "execute_result"
    }
   ],
   "source": [
    "Tweets = []\n",
    "for row in BRAND :\n",
    "    Tweets.append([row.get('tweet'),row.get('hashtags'), False, row.get('user_id')])\n",
    "\n",
    "for row in Tweets :\n",
    "    if brand.upper() in row[0].upper() :\n",
    "        row[2] = True\n",
    "    else :\n",
    "        for hastags in row[1] :\n",
    "            if brand.upper() in hastags.upper() :\n",
    "                row[2] = True\n",
    "Tweets[0:5]\n",
    "compte = 0\n",
    "false_users = []\n",
    "for row in Tweets :\n",
    "    if row[2] :\n",
    "        compte +=1\n",
    "    else :\n",
    "        false_users.append(int(row[3]))\n",
    "        \n",
    "print(compte)\n",
    "false_users"
   ]
  },
  {
   "cell_type": "code",
   "execution_count": 7,
   "metadata": {
    "scrolled": true
   },
   "outputs": [
    {
     "data": {
      "text/html": [
       "<div>\n",
       "<style scoped>\n",
       "    .dataframe tbody tr th:only-of-type {\n",
       "        vertical-align: middle;\n",
       "    }\n",
       "\n",
       "    .dataframe tbody tr th {\n",
       "        vertical-align: top;\n",
       "    }\n",
       "\n",
       "    .dataframe thead th {\n",
       "        text-align: right;\n",
       "    }\n",
       "</style>\n",
       "<table border=\"1\" class=\"dataframe\">\n",
       "  <thead>\n",
       "    <tr style=\"text-align: right;\">\n",
       "      <th></th>\n",
       "      <th>id</th>\n",
       "      <th>conversation_id</th>\n",
       "      <th>created_at</th>\n",
       "      <th>date</th>\n",
       "      <th>time</th>\n",
       "      <th>timezone</th>\n",
       "      <th>user_id</th>\n",
       "      <th>username</th>\n",
       "      <th>name</th>\n",
       "      <th>place</th>\n",
       "      <th>...</th>\n",
       "      <th>quote_url</th>\n",
       "      <th>video</th>\n",
       "      <th>near</th>\n",
       "      <th>geo</th>\n",
       "      <th>source</th>\n",
       "      <th>user_rt_id</th>\n",
       "      <th>user_rt</th>\n",
       "      <th>retweet_id</th>\n",
       "      <th>reply_to</th>\n",
       "      <th>retweet_date</th>\n",
       "    </tr>\n",
       "  </thead>\n",
       "  <tbody>\n",
       "  </tbody>\n",
       "</table>\n",
       "<p>0 rows × 31 columns</p>\n",
       "</div>"
      ],
      "text/plain": [
       "Empty DataFrame\n",
       "Columns: [id, conversation_id, created_at, date, time, timezone, user_id, username, name, place, tweet, mentions, urls, photos, replies_count, retweets_count, likes_count, hashtags, cashtags, link, retweet, quote_url, video, near, geo, source, user_rt_id, user_rt, retweet_id, reply_to, retweet_date]\n",
       "Index: []\n",
       "\n",
       "[0 rows x 31 columns]"
      ]
     },
     "execution_count": 7,
     "metadata": {},
     "output_type": "execute_result"
    }
   ],
   "source": [
    "import pandas as pd \n",
    "users_pd = pd.read_csv('../../data/extraction_twint/tweets_data/data_marketing_personalise/'+brand+'_users.csv')\n",
    "masque = users_pd['user_id'] == 2981521646\n",
    "users_pd[masque]"
   ]
  },
  {
   "cell_type": "markdown",
   "metadata": {},
   "source": [
    "## 1.3 Sentiment Analysis"
   ]
  },
  {
   "cell_type": "code",
   "execution_count": 8,
   "metadata": {
    "scrolled": true
   },
   "outputs": [
    {
     "name": "stdout",
     "output_type": "stream",
     "text": [
      "@PatMcAfeeShow @Jaguars Please explain how the @pepsi NFL ROY will have only won the Pepsi Rookie of the Week at most once. Yet @GardnerMinshew5 won that award 7 times and was left off the finals list. @pepsi is a STOOGE and a SELLAHT!!\n",
      "Please explain how the NFL ROY will have only won the Pepsi Rookie of the Week at most once Yet won that award 7 times and was left off the finals list is a STOOGE and a SELLAHT!!\n"
     ]
    },
    {
     "data": {
      "text/plain": [
       "'positive'"
      ]
     },
     "execution_count": 8,
     "metadata": {},
     "output_type": "execute_result"
    }
   ],
   "source": [
    "import re\n",
    "from textblob import TextBlob\n",
    "\n",
    "def clean_tweet(tweet): \n",
    "\n",
    "    return ' '.join(re.sub(\"(@[A-Za-z0-9]+)|([^0-9A-Za-z \\t]) |(\\w+:\\/\\/\\S+)\", \" \", tweet).split()) \n",
    "    \n",
    "def get_tweet_sentiment(tweet): \n",
    " \n",
    "    analysis = TextBlob(clean_tweet(tweet)) \n",
    "    if analysis.sentiment.polarity > 0: \n",
    "        return 'positive'\n",
    "    elif analysis.sentiment.polarity == 0: \n",
    "        return 'neutral'\n",
    "    else: \n",
    "        return 'negative'\n",
    "    \n",
    "print(Tweets[0][0])\n",
    "print(clean_tweet(Tweets[0][0]))\n",
    "get_tweet_sentiment(Tweets[0][0])"
   ]
  },
  {
   "cell_type": "code",
   "execution_count": 9,
   "metadata": {
    "scrolled": true
   },
   "outputs": [
    {
     "name": "stdout",
     "output_type": "stream",
     "text": [
      "100\n",
      "[['@PatMcAfeeShow @Jaguars Please explain how the @pepsi NFL ROY will have only won the Pepsi Rookie of the Week at most once. Yet @GardnerMinshew5 won that award 7 times and was left off the finals list. @pepsi is a STOOGE and a SELLAHT!!', '[]', True, '1209160423208964098', 'positive'], [\"Huh. They don't list Pepsi Max anymore. Is that not a thing? But yeah, Aspertame is horrible crap. Stevia has a weird aftertaste, but at least it's natural. (I just drink the regular sugared Pepsi)\", '[]', True, '3192235720', 'negative'], ['How very dismissive  of you @cocacola . taking you and your products off my shopping list. @pepsi was always better anyways.  https://twitter.com/SassBaller/status/1220408009270222848\\xa0…', '[]', True, '21125396', 'positive'], ['0. Universeclass, start a list of the stuff you plan to release because it slows you down. Line through--no return!--when achieved. 1. Here is our short list: Pepsi/soft drinks, meat, Fear, other . . .', '[]', True, '387079035', 'negative'], ['Hoping to check this off my bucket list!! @Pepsi #PepsiHalftimeSweeps', \"['#pepsihalftimesweeps']\", True, '1080290909789581312', 'neutral']]\n"
     ]
    },
    {
     "data": {
      "text/html": [
       "<div>\n",
       "<style scoped>\n",
       "    .dataframe tbody tr th:only-of-type {\n",
       "        vertical-align: middle;\n",
       "    }\n",
       "\n",
       "    .dataframe tbody tr th {\n",
       "        vertical-align: top;\n",
       "    }\n",
       "\n",
       "    .dataframe thead th {\n",
       "        text-align: right;\n",
       "    }\n",
       "</style>\n",
       "<table border=\"1\" class=\"dataframe\">\n",
       "  <thead>\n",
       "    <tr style=\"text-align: right;\">\n",
       "      <th></th>\n",
       "      <th>UserId</th>\n",
       "      <th>Sentiment</th>\n",
       "    </tr>\n",
       "  </thead>\n",
       "  <tbody>\n",
       "    <tr>\n",
       "      <td>0</td>\n",
       "      <td>1209160423208964098</td>\n",
       "      <td>positive</td>\n",
       "    </tr>\n",
       "    <tr>\n",
       "      <td>1</td>\n",
       "      <td>3192235720</td>\n",
       "      <td>negative</td>\n",
       "    </tr>\n",
       "    <tr>\n",
       "      <td>2</td>\n",
       "      <td>21125396</td>\n",
       "      <td>positive</td>\n",
       "    </tr>\n",
       "    <tr>\n",
       "      <td>3</td>\n",
       "      <td>387079035</td>\n",
       "      <td>negative</td>\n",
       "    </tr>\n",
       "    <tr>\n",
       "      <td>4</td>\n",
       "      <td>1080290909789581312</td>\n",
       "      <td>neutral</td>\n",
       "    </tr>\n",
       "    <tr>\n",
       "      <td>...</td>\n",
       "      <td>...</td>\n",
       "      <td>...</td>\n",
       "    </tr>\n",
       "    <tr>\n",
       "      <td>95</td>\n",
       "      <td>375886647</td>\n",
       "      <td>positive</td>\n",
       "    </tr>\n",
       "    <tr>\n",
       "      <td>96</td>\n",
       "      <td>4186795040</td>\n",
       "      <td>positive</td>\n",
       "    </tr>\n",
       "    <tr>\n",
       "      <td>97</td>\n",
       "      <td>701224416189898752</td>\n",
       "      <td>neutral</td>\n",
       "    </tr>\n",
       "    <tr>\n",
       "      <td>98</td>\n",
       "      <td>764662076644089856</td>\n",
       "      <td>positive</td>\n",
       "    </tr>\n",
       "    <tr>\n",
       "      <td>99</td>\n",
       "      <td>3949851383</td>\n",
       "      <td>neutral</td>\n",
       "    </tr>\n",
       "  </tbody>\n",
       "</table>\n",
       "<p>100 rows × 2 columns</p>\n",
       "</div>"
      ],
      "text/plain": [
       "                 UserId Sentiment\n",
       "0   1209160423208964098  positive\n",
       "1            3192235720  negative\n",
       "2              21125396  positive\n",
       "3             387079035  negative\n",
       "4   1080290909789581312   neutral\n",
       "..                  ...       ...\n",
       "95            375886647  positive\n",
       "96           4186795040  positive\n",
       "97   701224416189898752   neutral\n",
       "98   764662076644089856  positive\n",
       "99           3949851383   neutral\n",
       "\n",
       "[100 rows x 2 columns]"
      ]
     },
     "execution_count": 9,
     "metadata": {},
     "output_type": "execute_result"
    }
   ],
   "source": [
    "for row in Tweets :\n",
    "    sentiment = get_tweet_sentiment(row[0])\n",
    "    row.append(sentiment)\n",
    "print(len(Tweets))\n",
    "print(Tweets[:5])\n",
    "df = pd.DataFrame(Tweets, columns = ['Tweet', 'Hashtags', 'True', 'UserId', 'Sentiment'])\n",
    "df = df[['UserId','Sentiment']]\n",
    "UserSentiment = df\n",
    "df"
   ]
  },
  {
   "cell_type": "markdown",
   "metadata": {},
   "source": [
    "# 2. NER avec Spacy\n"
   ]
  },
  {
   "cell_type": "code",
   "execution_count": 31,
   "metadata": {
    "pycharm": {
     "is_executing": false
    },
    "scrolled": true
   },
   "outputs": [
    {
     "name": "stdout",
     "output_type": "stream",
     "text": [
      "Apple is a big company, located in California. It was created by Steve Jobs\n",
      "[('Apple', 'ORG'), ('California', 'GPE'), ('Steve Jobs', 'PERSON')]\n"
     ]
    }
   ],
   "source": [
    "import spacy\n",
    "from spacy import displacy\n",
    "from collections import Counter\n",
    "\n",
    "nlp = spacy.load(\"en_core_web_sm\")\n",
    "\n",
    "ex = 'Apple is a big company, located in California. It was created by Steve Jobs'\n",
    "doc = nlp(ex)\n",
    "print(ex)\n",
    "L = []\n",
    "for ent in doc.ents:\n",
    "    L.append((ent.text, ent.label_))\n",
    "print(L)"
   ]
  },
  {
   "cell_type": "code",
   "execution_count": 32,
   "metadata": {},
   "outputs": [
    {
     "name": "stdout",
     "output_type": "stream",
     "text": [
      "Apple is a big company, located in California. It was created by Steve Jobs\n",
      "[('Apple', 'ORG'), ('California', 'GPE'), ('Steve Jobs', 'PERSON')]\n"
     ]
    }
   ],
   "source": [
    "nlp = spacy.load(\"en_core_web_sm\")\n",
    "\n",
    "ex = 'Apple is a big company, located in California. It was created by Steve Jobs'\n",
    "doc = nlp(ex)\n",
    "print(ex)\n",
    "L = []\n",
    "for ent in doc.ents:\n",
    "    L.append((ent.text, ent.label_))\n",
    "print(L)"
   ]
  },
  {
   "cell_type": "code",
   "execution_count": 11,
   "metadata": {
    "pycharm": {
     "is_executing": false,
     "name": "#%%\n"
    },
    "scrolled": true
   },
   "outputs": [
    {
     "name": "stdout",
     "output_type": "stream",
     "text": [
      "4780\n"
     ]
    }
   ],
   "source": [
    "\n",
    "NER = []\n",
    "tweets = load_csv('../../data/extraction_twint/tweets_data/data_marketing_personalise/' +brand+ '_users.csv')\n",
    "print(len(tweets))\n",
    "for row in tweets :\n",
    "    if row.get('tweet') != None :\n",
    "        (text, user) = ( nlp(row.get('tweet')) , row.get('user_id') )\n",
    "        NER.append((text , user))          "
   ]
  },
  {
   "cell_type": "code",
   "execution_count": 12,
   "metadata": {
    "scrolled": true
   },
   "outputs": [
    {
     "name": "stdout",
     "output_type": "stream",
     "text": [
      "(Monique Wright on @sunriseon7 upset Jacinta Ardern didn't bring up climate change with @ScottMorrisonMP \n",
      "No surprise when you're worried your fudged figures by removing agriculture from emission count would be exposed, 'neutral', '2236728919')\n"
     ]
    }
   ],
   "source": [
    "from random import randint\n",
    "NER_2 = []\n",
    "for X in NER : \n",
    "    sentiment = get_tweet_sentiment(X[0].text)\n",
    "    NER_2.append((X[0], sentiment, X[1]))\n",
    "k = randint(1, len(NER_2))\n",
    "k\n",
    "print(NER_2[k])"
   ]
  },
  {
   "cell_type": "markdown",
   "metadata": {},
   "source": [
    "## Including our sentiment analysis"
   ]
  },
  {
   "cell_type": "code",
   "execution_count": 13,
   "metadata": {
    "scrolled": true
   },
   "outputs": [
    {
     "name": "stdout",
     "output_type": "stream",
     "text": [
      "['Mr Woods', 'Kay', 'Mr Woods', 'Kay', 'Mr Woods']\n",
      "[('Mr Woods', 'neutral', '387079035'), ('Kay', 'neutral', '387079035'), ('Mr Woods', 'neutral', '387079035'), ('Kay', 'neutral', '387079035'), ('Mr Woods', 'positive', '387079035')]\n",
      "1596\n",
      "1596\n"
     ]
    }
   ],
   "source": [
    "Organizations = []\n",
    "Groups = []\n",
    "Persons = []\n",
    "\n",
    "ORG = []\n",
    "GPE = []\n",
    "PER = []\n",
    "k = 0\n",
    "for text in NER_2 :\n",
    "    k += 1\n",
    "    sentiment = text[1]\n",
    "    for X in text[0].ents :\n",
    "        \n",
    "        if X.label_ == 'ORG' and len(X.text) > 1 :\n",
    "            Organizations.append(X.text)\n",
    "            ORG.append((X.text, sentiment, text[2]))\n",
    "        if X.label_ == 'GPE' and len(X.text) > 1 :\n",
    "            Groups.append(X.text)\n",
    "            GPE.append((X.text, sentiment, text[2]))\n",
    "        if X.label_ == 'PERSON' and len(X.text) > 1 :\n",
    "            Persons.append(X.text)\n",
    "            PER.append((X.text, sentiment, text[2]))\n",
    "            \n",
    "print(Persons[:5])\n",
    "print(PER[:5])\n",
    "print(len(Persons))\n",
    "print(len(PER))"
   ]
  },
  {
   "cell_type": "code",
   "execution_count": 14,
   "metadata": {
    "pycharm": {
     "name": "#%%\n"
    },
    "scrolled": true
   },
   "outputs": [],
   "source": [
    "def list_to_dict(list) :\n",
    "    counts = dict()\n",
    "    for i in list:\n",
    "        counts[i] = counts.get(i, 0) + 1\n",
    "    counts = {k: v for k, v in sorted(counts.items(), key=lambda item: item[1], reverse = True)}\n",
    "    return (counts)\n",
    "\n",
    "def to_perc(dict) :\n",
    "    for key in dict : \n",
    "        dict[key] = (dict[key]/ len(NER))*100\n",
    "               "
   ]
  },
  {
   "cell_type": "markdown",
   "metadata": {},
   "source": [
    "## Converting our list to a Dataframe"
   ]
  },
  {
   "cell_type": "code",
   "execution_count": 15,
   "metadata": {
    "scrolled": false
   },
   "outputs": [
    {
     "data": {
      "text/html": [
       "<div>\n",
       "<style scoped>\n",
       "    .dataframe tbody tr th:only-of-type {\n",
       "        vertical-align: middle;\n",
       "    }\n",
       "\n",
       "    .dataframe tbody tr th {\n",
       "        vertical-align: top;\n",
       "    }\n",
       "\n",
       "    .dataframe thead th {\n",
       "        text-align: right;\n",
       "    }\n",
       "</style>\n",
       "<table border=\"1\" class=\"dataframe\">\n",
       "  <thead>\n",
       "    <tr style=\"text-align: right;\">\n",
       "      <th></th>\n",
       "      <th>Negative</th>\n",
       "      <th>Neutral</th>\n",
       "      <th>Positive</th>\n",
       "      <th>Brand_negative</th>\n",
       "      <th>Brand_neutral</th>\n",
       "      <th>Brand_positive</th>\n",
       "    </tr>\n",
       "    <tr>\n",
       "      <th>Entity</th>\n",
       "      <th></th>\n",
       "      <th></th>\n",
       "      <th></th>\n",
       "      <th></th>\n",
       "      <th></th>\n",
       "      <th></th>\n",
       "    </tr>\n",
       "  </thead>\n",
       "  <tbody>\n",
       "    <tr>\n",
       "      <td>Trump</td>\n",
       "      <td>8.888889</td>\n",
       "      <td>4.122222</td>\n",
       "      <td>12.988889</td>\n",
       "      <td>3.0</td>\n",
       "      <td>13.0</td>\n",
       "      <td>10.0</td>\n",
       "    </tr>\n",
       "    <tr>\n",
       "      <td>Bernie</td>\n",
       "      <td>3.666667</td>\n",
       "      <td>3.833333</td>\n",
       "      <td>4.500000</td>\n",
       "      <td>4.0</td>\n",
       "      <td>3.0</td>\n",
       "      <td>5.0</td>\n",
       "    </tr>\n",
       "    <tr>\n",
       "      <td>Hillary</td>\n",
       "      <td>0.833333</td>\n",
       "      <td>5.666667</td>\n",
       "      <td>3.500000</td>\n",
       "      <td>2.0</td>\n",
       "      <td>5.0</td>\n",
       "      <td>3.0</td>\n",
       "    </tr>\n",
       "    <tr>\n",
       "      <td>Pete</td>\n",
       "      <td>0.000000</td>\n",
       "      <td>3.000000</td>\n",
       "      <td>5.000000</td>\n",
       "      <td>2.0</td>\n",
       "      <td>4.0</td>\n",
       "      <td>2.0</td>\n",
       "    </tr>\n",
       "    <tr>\n",
       "      <td>Clinton</td>\n",
       "      <td>2.500000</td>\n",
       "      <td>2.000000</td>\n",
       "      <td>3.500000</td>\n",
       "      <td>0.0</td>\n",
       "      <td>5.0</td>\n",
       "      <td>3.0</td>\n",
       "    </tr>\n",
       "    <tr>\n",
       "      <td>Joe</td>\n",
       "      <td>1.000000</td>\n",
       "      <td>1.000000</td>\n",
       "      <td>3.000000</td>\n",
       "      <td>1.0</td>\n",
       "      <td>3.0</td>\n",
       "      <td>1.0</td>\n",
       "    </tr>\n",
       "    <tr>\n",
       "      <td>Coronavirus</td>\n",
       "      <td>1.000000</td>\n",
       "      <td>1.500000</td>\n",
       "      <td>2.500000</td>\n",
       "      <td>1.0</td>\n",
       "      <td>1.0</td>\n",
       "      <td>3.0</td>\n",
       "    </tr>\n",
       "    <tr>\n",
       "      <td>Castro</td>\n",
       "      <td>0.000000</td>\n",
       "      <td>3.000000</td>\n",
       "      <td>1.000000</td>\n",
       "      <td>0.0</td>\n",
       "      <td>2.0</td>\n",
       "      <td>2.0</td>\n",
       "    </tr>\n",
       "    <tr>\n",
       "      <td>Biden</td>\n",
       "      <td>1.200000</td>\n",
       "      <td>1.600000</td>\n",
       "      <td>1.200000</td>\n",
       "      <td>2.0</td>\n",
       "      <td>2.0</td>\n",
       "      <td>0.0</td>\n",
       "    </tr>\n",
       "    <tr>\n",
       "      <td>Donald Trump</td>\n",
       "      <td>1.000000</td>\n",
       "      <td>0.000000</td>\n",
       "      <td>3.000000</td>\n",
       "      <td>1.0</td>\n",
       "      <td>1.0</td>\n",
       "      <td>2.0</td>\n",
       "    </tr>\n",
       "    <tr>\n",
       "      <td>Dude</td>\n",
       "      <td>1.000000</td>\n",
       "      <td>1.000000</td>\n",
       "      <td>2.000000</td>\n",
       "      <td>1.0</td>\n",
       "      <td>0.0</td>\n",
       "      <td>3.0</td>\n",
       "    </tr>\n",
       "    <tr>\n",
       "      <td>Warren</td>\n",
       "      <td>3.000000</td>\n",
       "      <td>1.000000</td>\n",
       "      <td>0.000000</td>\n",
       "      <td>1.0</td>\n",
       "      <td>2.0</td>\n",
       "      <td>1.0</td>\n",
       "    </tr>\n",
       "    <tr>\n",
       "      <td>Mike</td>\n",
       "      <td>0.000000</td>\n",
       "      <td>1.000000</td>\n",
       "      <td>3.000000</td>\n",
       "      <td>1.0</td>\n",
       "      <td>1.0</td>\n",
       "      <td>2.0</td>\n",
       "    </tr>\n",
       "    <tr>\n",
       "      <td>Larry</td>\n",
       "      <td>0.000000</td>\n",
       "      <td>1.500000</td>\n",
       "      <td>1.500000</td>\n",
       "      <td>0.0</td>\n",
       "      <td>3.0</td>\n",
       "      <td>0.0</td>\n",
       "    </tr>\n",
       "    <tr>\n",
       "      <td>Bernie Sanders</td>\n",
       "      <td>1.333333</td>\n",
       "      <td>0.333333</td>\n",
       "      <td>1.333333</td>\n",
       "      <td>1.0</td>\n",
       "      <td>0.0</td>\n",
       "      <td>2.0</td>\n",
       "    </tr>\n",
       "  </tbody>\n",
       "</table>\n",
       "</div>"
      ],
      "text/plain": [
       "                Negative   Neutral   Positive  Brand_negative  Brand_neutral  \\\n",
       "Entity                                                                         \n",
       "Trump           8.888889  4.122222  12.988889             3.0           13.0   \n",
       "Bernie          3.666667  3.833333   4.500000             4.0            3.0   \n",
       "Hillary         0.833333  5.666667   3.500000             2.0            5.0   \n",
       "Pete            0.000000  3.000000   5.000000             2.0            4.0   \n",
       "Clinton         2.500000  2.000000   3.500000             0.0            5.0   \n",
       "Joe             1.000000  1.000000   3.000000             1.0            3.0   \n",
       "Coronavirus     1.000000  1.500000   2.500000             1.0            1.0   \n",
       "Castro          0.000000  3.000000   1.000000             0.0            2.0   \n",
       "Biden           1.200000  1.600000   1.200000             2.0            2.0   \n",
       "Donald Trump    1.000000  0.000000   3.000000             1.0            1.0   \n",
       "Dude            1.000000  1.000000   2.000000             1.0            0.0   \n",
       "Warren          3.000000  1.000000   0.000000             1.0            2.0   \n",
       "Mike            0.000000  1.000000   3.000000             1.0            1.0   \n",
       "Larry           0.000000  1.500000   1.500000             0.0            3.0   \n",
       "Bernie Sanders  1.333333  0.333333   1.333333             1.0            0.0   \n",
       "\n",
       "                Brand_positive  \n",
       "Entity                          \n",
       "Trump                     10.0  \n",
       "Bernie                     5.0  \n",
       "Hillary                    3.0  \n",
       "Pete                       2.0  \n",
       "Clinton                    3.0  \n",
       "Joe                        1.0  \n",
       "Coronavirus                3.0  \n",
       "Castro                     2.0  \n",
       "Biden                      0.0  \n",
       "Donald Trump               2.0  \n",
       "Dude                       3.0  \n",
       "Warren                     1.0  \n",
       "Mike                       2.0  \n",
       "Larry                      0.0  \n",
       "Bernie Sanders             2.0  "
      ]
     },
     "execution_count": 15,
     "metadata": {},
     "output_type": "execute_result"
    }
   ],
   "source": [
    "import pandas as pd\n",
    "\n",
    "def to_df(L, Junk) :\n",
    "    L2 = []    \n",
    "    for X in L :\n",
    "\n",
    "        if X[1] == 'negative' :\n",
    "            L2.append([X[0],X[2],1,0,0,0,0,0])\n",
    "        if X[1] == 'neutral' :\n",
    "            L2.append([X[0],X[2],0,1,0,0,0,0])\n",
    "        if X[1] == 'positive' :\n",
    "            L2.append([X[0],X[2],0,0,1,0,0,0])  \n",
    "    for X in L2 : \n",
    "        sentiment = UserSentiment.loc[UserSentiment['UserId'] == X[1]]['Sentiment'].iloc[0]\n",
    "        if sentiment == 'negative' :\n",
    "            X[5] = 1\n",
    "        if sentiment == 'neutral' :\n",
    "            X[6] = 1\n",
    "        if sentiment == 'positive' :\n",
    "            X[7] = 1\n",
    "        \n",
    "    \n",
    "    df = pd.DataFrame(L2, columns =['Entity', 'UserId','Negative','Neutral','Positive', 'Brand_negative','Brand_neutral','Brand_positive'])\n",
    "    df = df.groupby(['Entity','UserId']).sum()  \n",
    "    df['Sum'] = df['Negative'] + df['Positive'] + df['Neutral']\n",
    "    for x in ['Negative','Neutral','Positive', 'Brand_negative','Brand_neutral','Brand_positive','Sum'] :\n",
    "        df[x] = df[x]/df['Sum']\n",
    "    df = df.groupby(['Entity']).sum()\n",
    "    df = df[~df.index.isin(Junk)]\n",
    "    df = df.sort_values('Sum', ascending=False)\n",
    "    df = df.head(15)\n",
    "    del df['Sum']\n",
    "    \n",
    "    return df\n",
    "\n",
    "Pers_df = to_df(PER, [])\n",
    "Pers_df"
   ]
  },
  {
   "cell_type": "code",
   "execution_count": 9,
   "metadata": {
    "scrolled": true
   },
   "outputs": [
    {
     "ename": "NameError",
     "evalue": "name 'GPE' is not defined",
     "output_type": "error",
     "traceback": [
      "\u001b[1;31m---------------------------------------------------------------------------\u001b[0m",
      "\u001b[1;31mNameError\u001b[0m                                 Traceback (most recent call last)",
      "\u001b[1;32m<ipython-input-9-023c83425cc4>\u001b[0m in \u001b[0;36m<module>\u001b[1;34m\u001b[0m\n\u001b[0;32m     42\u001b[0m     \u001b[1;32mreturn\u001b[0m \u001b[0mdf\u001b[0m\u001b[1;33m\u001b[0m\u001b[1;33m\u001b[0m\u001b[0m\n\u001b[0;32m     43\u001b[0m \u001b[1;33m\u001b[0m\u001b[0m\n\u001b[1;32m---> 44\u001b[1;33m \u001b[0mPers_df\u001b[0m \u001b[1;33m=\u001b[0m \u001b[0mto_df_2\u001b[0m\u001b[1;33m(\u001b[0m\u001b[0mGPE\u001b[0m\u001b[1;33m,\u001b[0m \u001b[1;33m[\u001b[0m\u001b[1;34m'America'\u001b[0m\u001b[1;33m]\u001b[0m\u001b[1;33m)\u001b[0m\u001b[1;33m\u001b[0m\u001b[1;33m\u001b[0m\u001b[0m\n\u001b[0m\u001b[0;32m     45\u001b[0m \u001b[0mprint\u001b[0m\u001b[1;33m(\u001b[0m\u001b[0mPers_df\u001b[0m\u001b[1;33m)\u001b[0m\u001b[1;33m\u001b[0m\u001b[1;33m\u001b[0m\u001b[0m\n\u001b[0;32m     46\u001b[0m \u001b[0mcols\u001b[0m \u001b[1;33m=\u001b[0m \u001b[1;33m[\u001b[0m\u001b[1;34m'Negative'\u001b[0m\u001b[1;33m,\u001b[0m\u001b[1;34m'Neutral'\u001b[0m\u001b[1;33m,\u001b[0m\u001b[1;34m'Positive'\u001b[0m\u001b[1;33m]\u001b[0m\u001b[1;33m\u001b[0m\u001b[1;33m\u001b[0m\u001b[0m\n",
      "\u001b[1;31mNameError\u001b[0m: name 'GPE' is not defined"
     ]
    }
   ],
   "source": [
    "import matplotlib.pyplot as plt\n",
    "import seaborn as sns\n",
    "import numpy as np\n",
    "\n",
    "def to_df_2(L, Target) :\n",
    "    L2 = []    \n",
    "    for X in L :\n",
    "\n",
    "        if X[1] == 'negative' :\n",
    "            L2.append([X[0],X[2],1,0,0,0,0,0])\n",
    "        if X[1] == 'neutral' :\n",
    "            L2.append([X[0],X[2],0,1,0,0,0,0])\n",
    "        if X[1] == 'positive' :\n",
    "            L2.append([X[0],X[2],0,0,1,0,0,0])  \n",
    "    for X in L2 : \n",
    "        sentiment = UserSentiment.loc[UserSentiment['UserId'] == X[1]]['Sentiment'].iloc[0]\n",
    "        if sentiment == 'negative' :\n",
    "            X[5] = 1\n",
    "        if sentiment == 'neutral' :\n",
    "            X[6] = 1\n",
    "        if sentiment == 'positive' :\n",
    "            X[7] = 1\n",
    "        \n",
    "    \n",
    "    df = pd.DataFrame(L2, columns =['Entity', 'UserId','Negative','Neutral','Positive', 'Brand_negative','Brand_neutral','Brand_positive'])\n",
    "    df = df.groupby(['Entity','UserId']).sum()  \n",
    "    df['Sum'] = df['Negative'] + df['Positive'] + df['Neutral']\n",
    "    df = df.reset_index()\n",
    "    df = df[df.Entity.isin(Target)]\n",
    "    for x in ['Negative','Neutral','Positive', 'Brand_negative','Brand_neutral','Brand_positive','Sum'] :\n",
    "        df[x] = df[x]/df['Sum']\n",
    "    df = df.groupby(['Brand_negative','Brand_neutral','Brand_positive']).sum()\n",
    "    df = df.reset_index()\n",
    "    del df['Sum']\n",
    "    del df['Brand_negative']\n",
    "    del df['Brand_neutral']\n",
    "    del df['Brand_positive']\n",
    "    labels = ['Positive', 'Neutral', 'Negative']\n",
    "    df['Pepsi Sentiment'] = labels\n",
    "    df = df.set_index('Pepsi Sentiment')\n",
    "    \n",
    "    return df\n",
    "\n",
    "Pers_df = to_df_2(GPE, ['America'])\n",
    "print(Pers_df)\n",
    "cols = ['Negative','Neutral','Positive']\n",
    "Pers_df[cols] = Pers_df[cols].div(Pers_df[cols].sum(axis=0), axis=1).multiply(100)\n",
    "print(Pers_df)\n",
    "\n",
    "\n",
    "f, ax = plt.subplots(figsize=(7, 4))\n",
    "sns.set()\n",
    "ax = sns.heatmap(Pers_df, annot=True,linewidths=.5, cmap = 'YlOrRd')\n",
    "for t in ax.texts: t.set_text(t.get_text() + \" %\")\n",
    "ax.xaxis.tick_top()\n",
    "ax.set_title('America Sentiment', fontsize = 16, fontweight='bold')\n",
    "ax.set_ylabel(brand.capitalize() + ' Sentiment', fontsize = 15, fontweight='bold')\n",
    "plt.yticks(np.arange(3)+0.5,('Positive','Neutral','Negative'), rotation=45, fontsize=\"10\", va=\"center\")\n",
    "ax.set_ylim(3.0, 0)"
   ]
  },
  {
   "cell_type": "markdown",
   "metadata": {},
   "source": [
    "## 2.1 Organisations"
   ]
  },
  {
   "cell_type": "code",
   "execution_count": 17,
   "metadata": {
    "scrolled": true
   },
   "outputs": [
    {
     "name": "stdout",
     "output_type": "stream",
     "text": [
      "[('GOP', 0.5649717514124294), ('House', 0.3347980749110693), ('DNC', 0.2929483155471856), ('CNN', 0.2929483155471856), ('Pelosi', 0.2301736765013601)]\n"
     ]
    }
   ],
   "source": [
    "Dict_Orga = list_to_dict(Organizations)\n",
    "to_perc(Dict_Orga)\n",
    "print(list(Dict_Orga.items())[:5])"
   ]
  },
  {
   "cell_type": "code",
   "execution_count": 18,
   "metadata": {
    "scrolled": false
   },
   "outputs": [
    {
     "data": {
      "image/png": "[encoded data removed]",
      "text/plain": [
       "<Figure size 432x288 with 1 Axes>"
      ]
     },
     "metadata": {
      "needs_background": "light"
     },
     "output_type": "display_data"
    }
   ],
   "source": [
    "import matplotlib.pyplot as plt\n",
    "from matplotlib.pyplot import figure\n",
    "\n",
    "D = dict(list(Dict_Orga.items())[:10])\n",
    "plt.barh(*zip(*D.items()))\n",
    "plt.title('Organizations linked with '+brand.capitalize())\n",
    "plt.xlabel('Percentage of related Tweets')\n",
    "plt.show()"
   ]
  },
  {
   "cell_type": "code",
   "execution_count": 19,
   "metadata": {
    "scrolled": true
   },
   "outputs": [
    {
     "data": {
      "image/png": "[encoded data removed]",
      "text/plain": [
       "<Figure size 720x560 with 1 Axes>"
      ]
     },
     "metadata": {},
     "output_type": "display_data"
    }
   ],
   "source": [
    "Org_df = to_df(ORG, [])\n",
    "\n",
    "import numpy as np\n",
    "\n",
    "barWidth = 0.4\n",
    "r1 = np.arange(15)\n",
    "r2 = [x + barWidth for x in r1]\n",
    "figure(num=None, figsize=(9, 7), dpi=80, facecolor='w', edgecolor='k')\n",
    "\n",
    "plt.bar(r1, Org_df['Negative'],color='#d40606',width=barWidth, label='Negative')\n",
    "plt.bar(r1, Org_df['Neutral'],width=barWidth,color='#f7bf45', bottom = Org_df['Negative'], label='Neutral')\n",
    "plt.bar(r1, Org_df['Positive'],width=barWidth, color='#68cc54',bottom = Org_df['Negative']+Org_df['Neutral'], label='Positive')\n",
    "\n",
    "plt.bar(r2, Org_df['Brand_negative'],color='#ab0909',width=barWidth, label=brand.capitalize()+' Negative')\n",
    "plt.bar(r2, Org_df['Brand_neutral'],color='#dba01f',width=barWidth, bottom = Org_df['Brand_negative'], label=brand.capitalize()+' Neutral')\n",
    "plt.bar(r2, Org_df['Brand_positive'],color='#408532',width=barWidth, bottom = Org_df['Brand_negative']+Org_df['Brand_neutral'], label=brand.capitalize()+' Positive')\n",
    "\n",
    "plt.xticks((r1+r2)/2, Org_df.index, fontweight='bold', rotation=70)\n",
    "plt.title('Organizations linked with '+brand.capitalize(),fontweight='bold', fontsize = 18)\n",
    "\n",
    "\n",
    "plt.legend()\n",
    "plt.show()"
   ]
  },
  {
   "cell_type": "markdown",
   "metadata": {},
   "source": [
    "## 2.2 Groupes"
   ]
  },
  {
   "cell_type": "code",
   "execution_count": 20,
   "metadata": {
    "scrolled": true
   },
   "outputs": [
    {
     "name": "stdout",
     "output_type": "stream",
     "text": [
      "[('America', 0.6277463904582549), ('US', 0.5021971123666039), ('China', 0.2929483155471856), ('Iran', 0.2720234358652438), ('Russia', 0.2720234358652438)]\n"
     ]
    }
   ],
   "source": [
    "Dict_Group = list_to_dict(Groups)\n",
    "to_perc(Dict_Group)\n",
    "print(list(Dict_Group.items())[:5])"
   ]
  },
  {
   "cell_type": "code",
   "execution_count": 21,
   "metadata": {
    "scrolled": true
   },
   "outputs": [
    {
     "data": {
      "image/png": "[encoded data removed]",
      "text/plain": [
       "<Figure size 432x288 with 1 Axes>"
      ]
     },
     "metadata": {
      "needs_background": "light"
     },
     "output_type": "display_data"
    }
   ],
   "source": [
    "D = dict(list(Dict_Group.items())[:10])\n",
    "plt.barh(*zip(*D.items()))\n",
    "plt.title('Groups linked with '+brand.capitalize())\n",
    "plt.xlabel('Percentage of related Tweets')\n",
    "plt.show()"
   ]
  },
  {
   "cell_type": "code",
   "execution_count": 22,
   "metadata": {
    "scrolled": true
   },
   "outputs": [
    {
     "data": {
      "image/png": "[encoded data removed]",
      "text/plain": [
       "<Figure size 720x560 with 1 Axes>"
      ]
     },
     "metadata": {},
     "output_type": "display_data"
    }
   ],
   "source": [
    "import numpy as np\n",
    "\n",
    "Gpe_df = to_df(GPE, ['kinda', 'Obama'])\n",
    "\n",
    "barWidth = 0.4\n",
    "r1 = np.arange(15)\n",
    "r2 = [x + barWidth for x in r1]\n",
    "\n",
    "figure(num=None, figsize=(9, 7), dpi=80, facecolor='w', edgecolor='k')\n",
    "\n",
    "plt.bar(r1, Gpe_df['Negative'],color='#d40606',width=barWidth, label='Negative')\n",
    "plt.bar(r1, Gpe_df['Neutral'],width=barWidth,color='#f7bf45', bottom = Gpe_df['Negative'], label='Neutral')\n",
    "plt.bar(r1, Gpe_df['Positive'],width=barWidth, color='#68cc54',bottom = Gpe_df['Negative']+Gpe_df['Neutral'], label='Positive')\n",
    "\n",
    "plt.bar(r2, Gpe_df['Brand_negative'],color='#ab0909',width=barWidth, label=brand.capitalize()+' Negative')\n",
    "plt.bar(r2, Gpe_df['Brand_neutral'],color='#dba01f',width=barWidth, bottom = Gpe_df['Brand_negative'], label=brand.capitalize()+' Neutral')\n",
    "plt.bar(r2, Gpe_df['Brand_positive'],color='#408532',width=barWidth, bottom = Gpe_df['Brand_negative']+Gpe_df['Brand_neutral'], label=brand.capitalize()+' Positive')\n",
    "\n",
    "plt.xticks((r1+r2)/2, Gpe_df.index, fontweight='bold', rotation=40)\n",
    "plt.title('Groups linked with '+brand.capitalize(),fontweight='bold', fontsize = 18)\n",
    "\n",
    "plt.legend()\n",
    "plt.show()\n"
   ]
  },
  {
   "cell_type": "markdown",
   "metadata": {},
   "source": [
    "## 2.3 Personnes"
   ]
  },
  {
   "cell_type": "code",
   "execution_count": 23,
   "metadata": {
    "scrolled": true
   },
   "outputs": [
    {
     "name": "stdout",
     "output_type": "stream",
     "text": [
      "[('Trump', 1.360117179326219), ('Bernie', 0.4184975936388366), ('Hillary', 0.39757271395689475), ('Joe Biden', 0.3766478342749529), ('Amy', 0.2929483155471856)]\n"
     ]
    }
   ],
   "source": [
    "Dict_Perso = list_to_dict(Persons)\n",
    "to_perc(Dict_Perso)\n",
    "print(list(Dict_Perso.items())[:5])"
   ]
  },
  {
   "cell_type": "code",
   "execution_count": 24,
   "metadata": {
    "scrolled": true
   },
   "outputs": [
    {
     "data": {
      "image/png": "[encoded data removed]",
      "text/plain": [
       "<Figure size 432x288 with 1 Axes>"
      ]
     },
     "metadata": {
      "needs_background": "light"
     },
     "output_type": "display_data"
    }
   ],
   "source": [
    "P = dict(list(Dict_Perso.items())[:10])\n",
    "plt.barh(*zip(*P.items()))\n",
    "plt.title('Persons linked with '+brand.capitalize())\n",
    "plt.xlabel('Percentage of related Tweets')\n",
    "plt.show()"
   ]
  },
  {
   "cell_type": "code",
   "execution_count": 25,
   "metadata": {
    "scrolled": false
   },
   "outputs": [
    {
     "data": {
      "image/png": "[encoded data removed]",
      "text/plain": [
       "<Figure size 720x560 with 1 Axes>"
      ]
     },
     "metadata": {},
     "output_type": "display_data"
    }
   ],
   "source": [
    "Pers_df = to_df(PER, ['Haha', 'lol', 'LOL'])\n",
    "\n",
    "barWidth = 0.4\n",
    "r1 = np.arange(15)\n",
    "r2 = [x + barWidth for x in r1]\n",
    "\n",
    "figure(num=None, figsize=(9, 7), dpi=80, facecolor='w', edgecolor='k')\n",
    "\n",
    "plt.bar(r1, Pers_df['Negative'],color='#d40606',width=barWidth, label='Negative')\n",
    "plt.bar(r1, Pers_df['Neutral'],width=barWidth,color='#f7bf45', bottom = Pers_df['Negative'], label='Neutral')\n",
    "plt.bar(r1, Pers_df['Positive'],width=barWidth, color='#68cc54',bottom = Pers_df['Negative']+Pers_df['Neutral'], label='Positive')\n",
    "\n",
    "plt.bar(r2, Pers_df['Brand_negative'],color='#ab0909',width=barWidth, label=brand.capitalize()+' Negative')\n",
    "plt.bar(r2, Pers_df['Brand_neutral'],color='#dba01f',width=barWidth, bottom = Pers_df['Brand_negative'], label=brand.capitalize()+' Neutral')\n",
    "plt.bar(r2, Pers_df['Brand_positive'],color='#408532',width=barWidth, bottom = Pers_df['Brand_negative']+Pers_df['Brand_neutral'], label=brand.capitalize()+' Positive')\n",
    "\n",
    "plt.xticks((r1+r2)/2, Pers_df.index, fontweight='bold', rotation=70)\n",
    "plt.title('Persons linked with '+brand.capitalize(), fontweight='bold', fontsize = 18)\n",
    "\n",
    "plt.legend()\n",
    "plt.show()"
   ]
  },
  {
   "cell_type": "markdown",
   "metadata": {},
   "source": [
    "# 3. Tentative avec Stanford NLP"
   ]
  },
  {
   "cell_type": "code",
   "execution_count": 26,
   "metadata": {
    "scrolled": true
   },
   "outputs": [
    {
     "name": "stdout",
     "output_type": "stream",
     "text": [
      "['Google', 'is', 'a', 'big', 'company', 'and', 'does', 'not', 'match', 'with', 'Apple']\n"
     ]
    }
   ],
   "source": [
    "import nltk\n",
    "from nltk.tag import StanfordPOSTagger\n",
    "from nltk import word_tokenize\n",
    "\n",
    "import os\n",
    "java_path = \"/Users/simon/jdk-13.0.2/bin/java.exe\"\n",
    "os.environ['JAVAHOME'] = java_path\n",
    "\n",
    "jar = '/Users/simon/stanford-postagger-2018-10-16/stanford-postagger.jar'\n",
    "model = '/Users/simon/stanford-postagger-2018-10-16/models/english-left3words-distsim.tagger'\n",
    "\n",
    "pos_tagger = StanfordPOSTagger(model, jar, encoding='utf8')\n",
    "\n",
    "pos_tagger.tag('Google is a big company and does not match with Apple'.split())\n",
    "print('Google is a big company and does not match with Apple'.split())\n"
   ]
  },
  {
   "cell_type": "code",
   "execution_count": 27,
   "metadata": {
    "scrolled": true
   },
   "outputs": [
    {
     "name": "stdout",
     "output_type": "stream",
     "text": [
      "4780\n",
      "96644\n",
      "49784\n",
      "['Mr', 'Woods', 'made', 'Sun', 'Kay', 'hides', 'Who', 'Cosmos', 'Mr', 'Woods', 'Kay', 'Said', 'yesterday', 'say', 'Today', 'stock', 'market', 'Dividends', 'keep', 'rolling', 'though', 'One', 'reasons', 'NEVER', 'try', 'TIME', 'market', 'Dividends', 'Investing', 'Money', 'Patience', 'https', 'wwwdividenddiplomatscomdonttimepredictmarket', 'MLK', 'III', 'pleads', 'Alabama', 'governor', 'stop', 'execution', 'Nathanial', 'Woods', 'convicted', 'slayings', 'cops', 'https', 'wwwyahoocomgmamlkiiipleadsalabamagovernorstopexecutionnathanial170300291', 'abcnewstopstorieshtml', 'Mr', 'Woods', 'Kay', 'Iveyproof', 'decide', 'go', 'return', 'help', 'us', 'KIL', 'HER', 'WHOLE', 'BLOODLINE', 'Insanity', '50', 'point', 'rate', 'cut', 'Sucks', 'savings', 'accounts', 'Great', 're', 'looking', 'refinance', 'buy', 'home', 'https', 'wwwcnbccom20200303fedcutsratesbyhalfapercentagepointtocombatcoronavirusslowdownhtml', 'Atlanta', 'Man', 'Pretended', 'Be', 'Gay', 'So', 'He', 'Could', 'Earn', 'Woman', 'Trust', 'Before', 'Violently', 'Raping', 'Her', 'https', 'wwwyahoocomentertainmentatlantamanpretendedgaycould145814232html', 'Tteam', 'bring', 'Camp', 'help', 'sister', 'recover']\n"
     ]
    }
   ],
   "source": [
    "tweets = load_csv('../data/extraction_twint/tweets_data/data_marketing_personalise/pepsi_users.csv')\n",
    "words_list = get_words(tweets)\n",
    "print(len(tweets))\n",
    "print(len(words_list))\n",
    "\n",
    "filtered_words = clean(words_list)\n",
    "print(len(filtered_words))\n",
    "print(filtered_words[:100])"
   ]
  },
  {
   "cell_type": "code",
   "execution_count": 28,
   "metadata": {
    "scrolled": true
   },
   "outputs": [
    {
     "name": "stdout",
     "output_type": "stream",
     "text": [
      "1.867680311203003 [('Mr', 'NNP')]\n",
      "1.6650900840759277 [('Woods', 'NNP')]\n",
      "1.6679813861846924 [('made', 'VBN')]\n",
      "2.198638916015625 [('Sun', 'NNP')]\n",
      "2.360909938812256 [('Kay', 'NNP')]\n",
      "2.2849948406219482 [('hides', 'NNS')]\n",
      "2.4153454303741455 [('Who', 'WP')]\n",
      "2.3432304859161377 [('Cosmos', 'NNP')]\n",
      "2.4259438514709473 [('Mr', 'NNP')]\n",
      "2.263519525527954 [('Woods', 'NNP')]\n",
      "2.165465831756592 [('Kay', 'NNP')]\n",
      "1.9029765129089355 [('Said', 'NNP')]\n",
      "1.828214168548584 [('yesterday', 'NN')]\n",
      "2.0744261741638184 [('say', 'VB')]\n",
      "2.2113285064697266 [('Today', 'NN')]\n",
      "1.781628131866455 [('stock', 'NN')]\n",
      "1.6366162300109863 [('market', 'NN')]\n",
      "1.7109637260437012 [('Dividends', 'NNS')]\n",
      "1.7307071685791016 [('keep', 'VB')]\n",
      "1.843763828277588 [('rolling', 'VBG')]\n",
      "1.6722619533538818 [('though', 'IN')]\n",
      "1.6326816082000732 [('One', 'CD')]\n",
      "1.5319421291351318 [('reasons', 'NNS')]\n",
      "1.6161448955535889 [('NEVER', 'NN')]\n",
      "1.7487459182739258 [('try', 'VB')]\n",
      "1.882364273071289 [('TIME', 'NN')]\n",
      "2.127577066421509 [('market', 'NN')]\n",
      "1.9541308879852295 [('Dividends', 'NNS')]\n",
      "1.8154382705688477 [('Investing', 'VBG')]\n",
      "1.7627015113830566 [('Money', 'NN')]\n",
      "[[('Mr', 'NNP')], [('Woods', 'NNP')], [('made', 'VBN')], [('Sun', 'NNP')], [('Kay', 'NNP')], [('hides', 'NNS')], [('Who', 'WP')], [('Cosmos', 'NNP')], [('Mr', 'NNP')], [('Woods', 'NNP')], [('Kay', 'NNP')], [('Said', 'NNP')], [('yesterday', 'NN')], [('say', 'VB')], [('Today', 'NN')], [('stock', 'NN')], [('market', 'NN')], [('Dividends', 'NNS')], [('keep', 'VB')], [('rolling', 'VBG')]]\n"
     ]
    }
   ],
   "source": [
    "import time\n",
    "NER_2 = []\n",
    "for k in range(30) :\n",
    "    start = time.time()\n",
    "    text = pos_tagger.tag(filtered_words[k].split())\n",
    "    end = time.time()\n",
    "    print(end-start, text)\n",
    "    NER_2.append(text)\n",
    "\n",
    "print(NER_2[:20])"
   ]
  },
  {
   "cell_type": "code",
   "execution_count": 29,
   "metadata": {
    "scrolled": true
   },
   "outputs": [
    {
     "name": "stdout",
     "output_type": "stream",
     "text": [
      "[[('Mr', 'NNP')], [('Woods', 'NNP')], [('made', 'VBN')], [('Sun', 'NNP')], [('Kay', 'NNP')], [('hides', 'NNS')], [('Who', 'WP')], [('Cosmos', 'NNP')], [('Mr', 'NNP')], [('Woods', 'NNP')], [('Kay', 'NNP')], [('Said', 'NNP')], [('yesterday', 'NN')], [('say', 'VB')], [('Today', 'NN')], [('stock', 'NN')], [('market', 'NN')], [('Dividends', 'NNS')], [('keep', 'VB')], [('rolling', 'VBG')], [('though', 'IN')], [('One', 'CD')], [('reasons', 'NNS')], [('NEVER', 'NN')], [('try', 'VB')], [('TIME', 'NN')], [('market', 'NN')], [('Dividends', 'NNS')], [('Investing', 'VBG')], [('Money', 'NN')]]\n"
     ]
    }
   ],
   "source": [
    "print(NER_2)"
   ]
  },
  {
   "cell_type": "code",
   "execution_count": 77,
   "metadata": {
    "scrolled": true
   },
   "outputs": [
    {
     "name": "stdout",
     "output_type": "stream",
     "text": [
      "[('Belarus', 6), ('Big', 2), ('Guisborough', 2), ('Russian', 1), ('Serbia', 1), ('Nadezhda', 1), ('Makarchenko', 1), ('World', 1), ('Museum', 1), ('Durham', 1), ('Neighbours', 1), ('Trade', 1), ('Obamacare', 1), ('Chris', 1), ('Brighton', 1), ('CO', 1), ('Europe', 1), ('Russia', 1), ('IMF', 1), ('UK', 1), ('Black', 1), ('Buttigieg', 1), ('South', 1), ('Bend', 1), ('Lukashenka', 1), ('Caviar', 1), ('UAE', 1), ('Qatar', 1), ('Jersey', 1), ('Merry', 1), ('Christmas', 1), ('Hope', 1)]\n"
     ]
    }
   ],
   "source": [
    "Orga_2 = []\n",
    "for row in NER_2 :\n",
    "    for word in row : \n",
    "        if word[1] == 'NNP' :\n",
    "            Orga_2.append(word[0])\n",
    "\n",
    "Dict_Orga_2 = list_to_dict(Orga_2)\n",
    "print(list(Dict_Orga_2.items())[:40])\n",
    "    "
   ]
  },
  {
   "cell_type": "code",
   "execution_count": 78,
   "metadata": {
    "scrolled": true
   },
   "outputs": [
    {
     "data": {
      "image/png": "[encoded data removed]",
      "text/plain": [
       "<Figure size 432x288 with 1 Axes>"
      ]
     },
     "metadata": {
      "needs_background": "light"
     },
     "output_type": "display_data"
    }
   ],
   "source": [
    "M = dict(list(Dict_Orga_2.items())[:10])\n",
    "plt.barh(*zip(*M.items()))\n",
    "plt.show()"
   ]
  }
 ],
 "metadata": {
  "kernelspec": {
   "display_name": "Python 3",
   "language": "python",
   "name": "python3"
  },
  "language_info": {
   "codemirror_mode": {
    "name": "ipython",
    "version": 3
   },
   "file_extension": ".py",
   "mimetype": "text/x-python",
   "name": "python",
   "nbconvert_exporter": "python",
   "pygments_lexer": "ipython3",
   "version": "3.7.4"
  },
  "pycharm": {
   "stem_cell": {
    "cell_type": "raw",
    "metadata": {
     "collapsed": false
    },
    "source": []
   }
  }
 },
 "nbformat": 4,
 "nbformat_minor": 1
}
