{
 "cells": [
  {
   "cell_type": "markdown",
   "metadata": {},
   "source": [
    "# 1. Chargement du CSV"
   ]
  },
  {
   "cell_type": "code",
   "execution_count": 1,
   "metadata": {
    "pycharm": {
     "is_executing": false,
     "name": "#%%\n"
    }
   },
   "outputs": [],
   "source": [
    "import csv \n",
    "def load_csv(file):\n",
    "    rows = []\n",
    "    with open(file, newline='',encoding='utf-8-sig') as csvfile:\n",
    "        reader = csv.DictReader(csvfile)\n",
    "        for row in reader:\n",
    "            rows.append(row)\n",
    "    return rows"
   ]
  },
  {
   "cell_type": "code",
   "execution_count": 2,
   "metadata": {},
   "outputs": [],
   "source": [
    "import nltk\n",
    "from nltk.tokenize import word_tokenize\n",
    "\n",
    "def get_words(tweets):\n",
    "    L = []\n",
    "    tweets_2 = [row.get('tweet') for row in tweets if row.get('tweet') != None]\n",
    "    for k in range(len(tweets_2)) :\n",
    "        sentence = word_tokenize(tweets_2[k])\n",
    "        for word in sentence :\n",
    "            L.append(word)\n",
    "    return L "
   ]
  },
  {
   "cell_type": "code",
   "execution_count": 3,
   "metadata": {},
   "outputs": [],
   "source": [
    "import nltk\n",
    "import string\n",
    "from nltk.corpus import stopwords\n",
    "\n",
    "def clean(words_list) :\n",
    "    filtered_words = [word for word in words_list if word not in stopwords.words('english')]\n",
    "    filtered_words = [''.join(c for c in s if c not in string.punctuation) for s in filtered_words]\n",
    "    filtered_words = [s for s in filtered_words if s]\n",
    "    filtered_words = [s for s in filtered_words if len(s) > 1]\n",
    "    return filtered_words"
   ]
  },
  {
   "cell_type": "markdown",
   "metadata": {},
   "source": [
    "## 1.1 Lecture du premier CSV Pepsi"
   ]
  },
  {
   "cell_type": "code",
   "execution_count": 4,
   "metadata": {
    "scrolled": true
   },
   "outputs": [
    {
     "name": "stdout",
     "output_type": "stream",
     "text": [
      "['0', '.', 'Universeclass', ',', 'start', 'a', 'list', 'of', 'the', 'stuff', 'you', 'plan', 'to', 'release', 'because', 'it', 'slows', 'you', 'down', '.']\n"
     ]
    }
   ],
   "source": [
    "pepsi = load_csv('../data/extraction_twint/tweets_data/data_marketing_personalise/pepsi.csv')\n",
    "words = get_words(pepsi)\n",
    "print(words[:20])\n"
   ]
  },
  {
   "cell_type": "markdown",
   "metadata": {},
   "source": [
    "## 1.2 Detection de 'Faux' Tweets"
   ]
  },
  {
   "cell_type": "code",
   "execution_count": 9,
   "metadata": {},
   "outputs": [
    {
     "name": "stdout",
     "output_type": "stream",
     "text": [
      "100\n"
     ]
    },
    {
     "data": {
      "text/plain": [
       "[]"
      ]
     },
     "execution_count": 9,
     "metadata": {},
     "output_type": "execute_result"
    }
   ],
   "source": [
    "for row in Tweets :\n",
    "    if 'PEPSI' in row[0].upper() :\n",
    "        row[2] = True\n",
    "    else :\n",
    "        for hastags in row[1] :\n",
    "            if 'PEPSI' in hastags.upper() :\n",
    "                row[2] = True\n",
    "Tweets[0:5]\n",
    "compte = 0\n",
    "false_users = []\n",
    "for row in Tweets :\n",
    "    if row[2] :\n",
    "        compte +=1\n",
    "    else :\n",
    "        false_users.append(int(row[3]))\n",
    "        \n",
    "print(compte)\n",
    "false_users"
   ]
  },
  {
   "cell_type": "code",
   "execution_count": 10,
   "metadata": {},
   "outputs": [
    {
     "data": {
      "text/html": [
       "<div>\n",
       "<style scoped>\n",
       "    .dataframe tbody tr th:only-of-type {\n",
       "        vertical-align: middle;\n",
       "    }\n",
       "\n",
       "    .dataframe tbody tr th {\n",
       "        vertical-align: top;\n",
       "    }\n",
       "\n",
       "    .dataframe thead th {\n",
       "        text-align: right;\n",
       "    }\n",
       "</style>\n",
       "<table border=\"1\" class=\"dataframe\">\n",
       "  <thead>\n",
       "    <tr style=\"text-align: right;\">\n",
       "      <th></th>\n",
       "      <th>id</th>\n",
       "      <th>conversation_id</th>\n",
       "      <th>created_at</th>\n",
       "      <th>date</th>\n",
       "      <th>time</th>\n",
       "      <th>timezone</th>\n",
       "      <th>user_id</th>\n",
       "      <th>username</th>\n",
       "      <th>name</th>\n",
       "      <th>place</th>\n",
       "      <th>...</th>\n",
       "      <th>quote_url</th>\n",
       "      <th>video</th>\n",
       "      <th>near</th>\n",
       "      <th>geo</th>\n",
       "      <th>source</th>\n",
       "      <th>user_rt_id</th>\n",
       "      <th>user_rt</th>\n",
       "      <th>retweet_id</th>\n",
       "      <th>reply_to</th>\n",
       "      <th>retweet_date</th>\n",
       "    </tr>\n",
       "  </thead>\n",
       "  <tbody>\n",
       "  </tbody>\n",
       "</table>\n",
       "<p>0 rows × 31 columns</p>\n",
       "</div>"
      ],
      "text/plain": [
       "Empty DataFrame\n",
       "Columns: [id, conversation_id, created_at, date, time, timezone, user_id, username, name, place, tweet, mentions, urls, photos, replies_count, retweets_count, likes_count, hashtags, cashtags, link, retweet, quote_url, video, near, geo, source, user_rt_id, user_rt, retweet_id, reply_to, retweet_date]\n",
       "Index: []\n",
       "\n",
       "[0 rows x 31 columns]"
      ]
     },
     "execution_count": 10,
     "metadata": {},
     "output_type": "execute_result"
    }
   ],
   "source": [
    "import pandas as pd \n",
    "users_pd = pd.read_csv('../data/extraction_twint/tweets_data/data_marketing_personalise/pepsi_users.csv')\n",
    "masque = users_pd['user_id'] == 2981521646\n",
    "users_pd[masque]"
   ]
  },
  {
   "cell_type": "markdown",
   "metadata": {},
   "source": [
    "## 1.3 Sentiment Analysis"
   ]
  },
  {
   "cell_type": "code",
   "execution_count": 7,
   "metadata": {},
   "outputs": [
    {
     "name": "stdout",
     "output_type": "stream",
     "text": [
      "0. Universeclass, start a list of the stuff you plan to release because it slows you down. Line through--no return!--when achieved. 1. Here is our short list: Pepsi/soft drinks, meat, Fear, other . . .\n",
      "0 Universeclass start a list of the stuff you plan to release because it slows you down Line through--no return!--when achieved 1 Here is our short list Pepsi/soft drinks meat Fear other .\n"
     ]
    },
    {
     "data": {
      "text/plain": [
       "'negative'"
      ]
     },
     "execution_count": 7,
     "metadata": {},
     "output_type": "execute_result"
    }
   ],
   "source": [
    "import re\n",
    "from textblob import TextBlob\n",
    "\n",
    "def clean_tweet(tweet): \n",
    "\n",
    "    return ' '.join(re.sub(\"(@[A-Za-z0-9]+)|([^0-9A-Za-z \\t]) |(\\w+:\\/\\/\\S+)\", \" \", tweet).split()) \n",
    "    \n",
    "def get_tweet_sentiment(tweet): \n",
    " \n",
    "    analysis = TextBlob(clean_tweet(tweet)) \n",
    "    if analysis.sentiment.polarity > 0: \n",
    "        return 'positive'\n",
    "    elif analysis.sentiment.polarity == 0: \n",
    "        return 'neutral'\n",
    "    else: \n",
    "        return 'negative'\n",
    "    \n",
    "print(Tweets[0][0])\n",
    "print(clean_tweet(Tweets[0][0]))\n",
    "get_tweet_sentiment(Tweets[0][0])"
   ]
  },
  {
   "cell_type": "code",
   "execution_count": 11,
   "metadata": {},
   "outputs": [
    {
     "name": "stdout",
     "output_type": "stream",
     "text": [
      "100\n",
      "[['0. Universeclass, start a list of the stuff you plan to release because it slows you down. Line through--no return!--when achieved. 1. Here is our short list: Pepsi/soft drinks, meat, Fear, other . . .', '[]', False, '387079035', 'negative'], ['Hoping to check this off my bucket list!! @Pepsi #PepsiHalftimeSweeps', \"['#pepsihalftimesweeps']\", False, '1080290909789581312', 'neutral'], ['Tweets from Billboard Charts, artists with most #1 hits on Hot 100, Cardi B has 3. Headline Planet update on Ed Sheeran, Camila Cabello & Cardi B \"South Of The Border\". Mike On Air with Billboard list. Pepsi Naija &…  https://www.instagram.com/p/B5_DrZAhX-n/?igshid=2eg4z6ualzy6\\xa0…', '[]', False, '1172754034886893568', 'positive'], ['you did not just list pepsi as a fave drink', '[]', False, '716061519599968257', 'neutral'], ['Too many to list.  “Pepsi > Coke”; “Android > iOS”; “Bing > Google”; “Walmart > Amazon”; “XRP > BTC”', '[]', False, '516997857', 'positive']]\n"
     ]
    },
    {
     "data": {
      "text/plain": [
       "'positive'"
      ]
     },
     "execution_count": 11,
     "metadata": {},
     "output_type": "execute_result"
    }
   ],
   "source": [
    "Tweets = []\n",
    "for row in pepsi :\n",
    "    Tweets.append([row.get('tweet'),row.get('hashtags'), False, row.get('user_id')])\n",
    "    \n",
    "for row in Tweets :\n",
    "    sentiment = get_tweet_sentiment(row[0])\n",
    "    row.append(sentiment)\n",
    "print(len(Tweets))\n",
    "print(Tweets[:5])\n",
    "df = pd.DataFrame(Tweets, columns = ['Tweet', 'Hashtags', 'True', 'UserId', 'Sentiment'])\n",
    "df = df[['UserId','Sentiment']]\n",
    "UserSentiment = df\n",
    "df\n",
    "df.loc[df['UserId'] == '516997857']['Sentiment'].iloc[0]"
   ]
  },
  {
   "cell_type": "markdown",
   "metadata": {},
   "source": [
    "# 2. NER avec Spacy\n"
   ]
  },
  {
   "cell_type": "code",
   "execution_count": 12,
   "metadata": {
    "pycharm": {
     "is_executing": false
    }
   },
   "outputs": [],
   "source": [
    "import spacy\n",
    "from spacy import displacy\n",
    "from collections import Counter\n",
    "\n",
    "nlp = spacy.load(\"en_core_web_sm\")"
   ]
  },
  {
   "cell_type": "code",
   "execution_count": 13,
   "metadata": {
    "pycharm": {
     "is_executing": false,
     "name": "#%%\n"
    }
   },
   "outputs": [
    {
     "name": "stdout",
     "output_type": "stream",
     "text": [
      "9164\n"
     ]
    }
   ],
   "source": [
    "\n",
    "NER = []\n",
    "tweets = load_csv('../data/extraction_twint/tweets_data/data_marketing_personalise/pepsi_users.csv')\n",
    "print(len(tweets))\n",
    "for row in tweets :\n",
    "    if row.get('tweet') != None :\n",
    "        (text, user) = ( nlp(row.get('tweet')) , row.get('user_id') )\n",
    "        NER.append((text , user))          "
   ]
  },
  {
   "cell_type": "code",
   "execution_count": 14,
   "metadata": {},
   "outputs": [
    {
     "name": "stdout",
     "output_type": "stream",
     "text": [
      "(I agree thank you Allen!, 'neutral', '172887246')\n"
     ]
    }
   ],
   "source": [
    "from random import randint\n",
    "NER_2 = []\n",
    "for X in NER : \n",
    "    sentiment = get_tweet_sentiment(X[0].text)\n",
    "    NER_2.append((X[0], sentiment, X[1]))\n",
    "k = randint(1, len(NER_2))\n",
    "k\n",
    "print(NER_2[k])"
   ]
  },
  {
   "cell_type": "markdown",
   "metadata": {},
   "source": [
    "## Including our sentiment analysis"
   ]
  },
  {
   "cell_type": "code",
   "execution_count": 15,
   "metadata": {},
   "outputs": [
    {
     "name": "stdout",
     "output_type": "stream",
     "text": [
      "['Belarus', 'Nadezhda Makarchenko', 'Belarus', 'Durham', 'Neighbours Need']\n",
      "[('Belarus', 'neutral', '4709135909'), ('Nadezhda Makarchenko', 'neutral', '4709135909'), ('Belarus', 'neutral', '4709135909'), ('Durham', 'neutral', '798251830140604416'), ('Neighbours Need', 'neutral', '4709135909')]\n",
      "3318\n",
      "3318\n"
     ]
    }
   ],
   "source": [
    "Organizations = []\n",
    "Groups = []\n",
    "Persons = []\n",
    "\n",
    "ORG = []\n",
    "GPE = []\n",
    "PER = []\n",
    "k = 0\n",
    "for text in NER_2 :\n",
    "    k += 1\n",
    "    sentiment = text[1]\n",
    "    for X in text[0].ents :\n",
    "        \n",
    "        if X.label_ == 'ORG' and len(X.text) > 1:\n",
    "            Organizations.append(X.text)\n",
    "            ORG.append((X.text, sentiment, text[2]))\n",
    "        if X.label_ == 'GPE' and len(X.text) > 1 :\n",
    "            Groups.append(X.text)\n",
    "            GPE.append((X.text, sentiment, text[2]))\n",
    "        if X.label_ == 'PERSON' and len(X.text) > 1 :\n",
    "            Persons.append(X.text)\n",
    "            PER.append((X.text, sentiment, text[2]))\n",
    "            \n",
    "print(Persons[:5])\n",
    "print(PER[:5])\n",
    "print(len(Persons))\n",
    "print(len(PER))"
   ]
  },
  {
   "cell_type": "code",
   "execution_count": 16,
   "metadata": {
    "pycharm": {
     "name": "#%%\n"
    }
   },
   "outputs": [],
   "source": [
    "def list_to_dict(list) :\n",
    "    counts = dict()\n",
    "    for i in list:\n",
    "        counts[i] = counts.get(i, 0) + 1\n",
    "    counts = {k: v for k, v in sorted(counts.items(), key=lambda item: item[1], reverse = True)}\n",
    "    return (counts)\n",
    "\n",
    "def to_perc(dict) :\n",
    "    for key in dict : \n",
    "        dict[key] = (dict[key]/ len(NER))*100\n",
    "               "
   ]
  },
  {
   "cell_type": "markdown",
   "metadata": {},
   "source": [
    "## Converting our list to a Dataframe"
   ]
  },
  {
   "cell_type": "code",
   "execution_count": 17,
   "metadata": {},
   "outputs": [
    {
     "data": {
      "text/html": [
       "<div>\n",
       "<style scoped>\n",
       "    .dataframe tbody tr th:only-of-type {\n",
       "        vertical-align: middle;\n",
       "    }\n",
       "\n",
       "    .dataframe tbody tr th {\n",
       "        vertical-align: top;\n",
       "    }\n",
       "\n",
       "    .dataframe thead th {\n",
       "        text-align: right;\n",
       "    }\n",
       "</style>\n",
       "<table border=\"1\" class=\"dataframe\">\n",
       "  <thead>\n",
       "    <tr style=\"text-align: right;\">\n",
       "      <th></th>\n",
       "      <th>Negative</th>\n",
       "      <th>Neutral</th>\n",
       "      <th>Positive</th>\n",
       "      <th>Pepsi_negative</th>\n",
       "      <th>Pepsi_neutral</th>\n",
       "      <th>Pepsi_positive</th>\n",
       "    </tr>\n",
       "    <tr>\n",
       "      <th>Entity</th>\n",
       "      <th></th>\n",
       "      <th></th>\n",
       "      <th></th>\n",
       "      <th></th>\n",
       "      <th></th>\n",
       "      <th></th>\n",
       "    </tr>\n",
       "  </thead>\n",
       "  <tbody>\n",
       "    <tr>\n",
       "      <td>Trump</td>\n",
       "      <td>10.844444</td>\n",
       "      <td>8.688889</td>\n",
       "      <td>19.466667</td>\n",
       "      <td>6.0</td>\n",
       "      <td>16.0</td>\n",
       "      <td>17.0</td>\n",
       "    </tr>\n",
       "    <tr>\n",
       "      <td>Hillary</td>\n",
       "      <td>3.566667</td>\n",
       "      <td>5.533333</td>\n",
       "      <td>6.900000</td>\n",
       "      <td>3.0</td>\n",
       "      <td>6.0</td>\n",
       "      <td>7.0</td>\n",
       "    </tr>\n",
       "    <tr>\n",
       "      <td>Clinton</td>\n",
       "      <td>4.000000</td>\n",
       "      <td>7.333333</td>\n",
       "      <td>1.666667</td>\n",
       "      <td>1.0</td>\n",
       "      <td>6.0</td>\n",
       "      <td>6.0</td>\n",
       "    </tr>\n",
       "    <tr>\n",
       "      <td>Jesus</td>\n",
       "      <td>3.375000</td>\n",
       "      <td>3.666667</td>\n",
       "      <td>2.958333</td>\n",
       "      <td>4.0</td>\n",
       "      <td>2.0</td>\n",
       "      <td>4.0</td>\n",
       "    </tr>\n",
       "    <tr>\n",
       "      <td>Warren</td>\n",
       "      <td>2.300000</td>\n",
       "      <td>3.200000</td>\n",
       "      <td>1.500000</td>\n",
       "      <td>1.0</td>\n",
       "      <td>3.0</td>\n",
       "      <td>3.0</td>\n",
       "    </tr>\n",
       "    <tr>\n",
       "      <td>Tom</td>\n",
       "      <td>1.000000</td>\n",
       "      <td>1.000000</td>\n",
       "      <td>5.000000</td>\n",
       "      <td>0.0</td>\n",
       "      <td>2.0</td>\n",
       "      <td>5.0</td>\n",
       "    </tr>\n",
       "    <tr>\n",
       "      <td>Chris</td>\n",
       "      <td>0.000000</td>\n",
       "      <td>2.000000</td>\n",
       "      <td>4.000000</td>\n",
       "      <td>2.0</td>\n",
       "      <td>3.0</td>\n",
       "      <td>1.0</td>\n",
       "    </tr>\n",
       "    <tr>\n",
       "      <td>Nancy</td>\n",
       "      <td>1.333333</td>\n",
       "      <td>3.166667</td>\n",
       "      <td>1.500000</td>\n",
       "      <td>1.0</td>\n",
       "      <td>3.0</td>\n",
       "      <td>2.0</td>\n",
       "    </tr>\n",
       "    <tr>\n",
       "      <td>Bernie</td>\n",
       "      <td>0.285714</td>\n",
       "      <td>1.476190</td>\n",
       "      <td>4.238095</td>\n",
       "      <td>2.0</td>\n",
       "      <td>1.0</td>\n",
       "      <td>3.0</td>\n",
       "    </tr>\n",
       "    <tr>\n",
       "      <td>Merry Christmas</td>\n",
       "      <td>0.000000</td>\n",
       "      <td>3.000000</td>\n",
       "      <td>3.000000</td>\n",
       "      <td>1.0</td>\n",
       "      <td>1.0</td>\n",
       "      <td>4.0</td>\n",
       "    </tr>\n",
       "  </tbody>\n",
       "</table>\n",
       "</div>"
      ],
      "text/plain": [
       "                  Negative   Neutral   Positive  Pepsi_negative  \\\n",
       "Entity                                                            \n",
       "Trump            10.844444  8.688889  19.466667             6.0   \n",
       "Hillary           3.566667  5.533333   6.900000             3.0   \n",
       "Clinton           4.000000  7.333333   1.666667             1.0   \n",
       "Jesus             3.375000  3.666667   2.958333             4.0   \n",
       "Warren            2.300000  3.200000   1.500000             1.0   \n",
       "Tom               1.000000  1.000000   5.000000             0.0   \n",
       "Chris             0.000000  2.000000   4.000000             2.0   \n",
       "Nancy             1.333333  3.166667   1.500000             1.0   \n",
       "Bernie            0.285714  1.476190   4.238095             2.0   \n",
       "Merry Christmas   0.000000  3.000000   3.000000             1.0   \n",
       "\n",
       "                 Pepsi_neutral  Pepsi_positive  \n",
       "Entity                                          \n",
       "Trump                     16.0            17.0  \n",
       "Hillary                    6.0             7.0  \n",
       "Clinton                    6.0             6.0  \n",
       "Jesus                      2.0             4.0  \n",
       "Warren                     3.0             3.0  \n",
       "Tom                        2.0             5.0  \n",
       "Chris                      3.0             1.0  \n",
       "Nancy                      3.0             2.0  \n",
       "Bernie                     1.0             3.0  \n",
       "Merry Christmas            1.0             4.0  "
      ]
     },
     "execution_count": 17,
     "metadata": {},
     "output_type": "execute_result"
    }
   ],
   "source": [
    "import pandas as pd\n",
    "\n",
    "def to_df(L) :\n",
    "    L2 = []    \n",
    "    for X in L :\n",
    "\n",
    "        if X[1] == 'negative' :\n",
    "            L2.append([X[0],X[2],1,0,0,0,0,0])\n",
    "        if X[1] == 'neutral' :\n",
    "            L2.append([X[0],X[2],0,1,0,0,0,0])\n",
    "        if X[1] == 'positive' :\n",
    "            L2.append([X[0],X[2],0,0,1,0,0,0])  \n",
    "    for X in L2 : \n",
    "        sentiment = UserSentiment.loc[UserSentiment['UserId'] == X[1]]['Sentiment'].iloc[0]\n",
    "        if sentiment == 'negative' :\n",
    "            X[5] = 1\n",
    "        if sentiment == 'neutral' :\n",
    "            X[6] = 1\n",
    "        if sentiment == 'positive' :\n",
    "            X[7] = 1\n",
    "        \n",
    "    \n",
    "    df = pd.DataFrame(L2, columns =['Entity', 'UserId','Negative','Neutral','Positive', 'Pepsi_negative','Pepsi_neutral','Pepsi_positive'])\n",
    "    df = df.groupby(['Entity','UserId']).sum()\n",
    "\n",
    "    \n",
    "    df['Sum'] = df['Negative'] + df['Positive'] + df['Neutral']\n",
    "    for x in ['Negative','Neutral','Positive', 'Pepsi_negative','Pepsi_neutral','Pepsi_positive','Sum'] :\n",
    "        df[x] = df[x]/df['Sum']\n",
    "    df = df.groupby(['Entity']).sum()\n",
    "    df = df.sort_values('Sum', ascending=False)\n",
    "    df = df.head(10)\n",
    "    del df['Sum']\n",
    "    \n",
    "    return df\n",
    "\n",
    "Pers_df = to_df(PER)\n",
    "Pers_df"
   ]
  },
  {
   "cell_type": "markdown",
   "metadata": {},
   "source": [
    "## 2.1 Organisations"
   ]
  },
  {
   "cell_type": "code",
   "execution_count": 18,
   "metadata": {},
   "outputs": [
    {
     "name": "stdout",
     "output_type": "stream",
     "text": [
      "[('IFBP', 0.6118881118881119), ('GOP', 0.34965034965034963), ('CNN', 0.2950174825174825), ('FBI', 0.2513111888111888), ('Congress', 0.2513111888111888), ('NFL', 0.2403846153846154), ('Pepsi Center', 0.2403846153846154), ('House', 0.2076048951048951), ('MSM', 0.18575174825174826), ('Senate', 0.17482517482517482), ('Pelosi', 0.17482517482517482), ('NetNeutrality', 0.15297202797202797), ('ISES', 0.1201923076923077), ('@POTUS', 0.1201923076923077), ('Christ', 0.10926573426573427), ('FYI', 0.10926573426573427), ('Apple', 0.10926573426573427), ('Bernie', 0.10926573426573427), ('FCC', 0.10926573426573427), ('Australian Broadcasting Corporation', 0.10926573426573427), ('HRC', 0.10926573426573427), ('Toyota', 0.10926573426573427), ('Medicare', 0.09833916083916085), ('Giants', 0.09833916083916085), ('ABC News', 0.09833916083916085), ('NEVER', 0.09833916083916085), ('Congrats', 0.09833916083916085), ('😺✏', 0.09833916083916085), ('BS', 0.08741258741258741), ('congress', 0.08741258741258741), ('CareerMix', 0.08741258741258741), ('@abcnews', 0.08741258741258741), ('Hamas', 0.07648601398601398), ('EPA', 0.07648601398601398), ('Sondland', 0.07648601398601398), ('Nuggets', 0.07648601398601398), ('THEY', 0.06555944055944056), ('NBA', 0.06555944055944056), ('Bayer', 0.06555944055944056), ('Amazon', 0.06555944055944056)]\n"
     ]
    }
   ],
   "source": [
    "Dict_Orga = list_to_dict(Organizations)\n",
    "to_perc(Dict_Orga)\n",
    "print(list(Dict_Orga.items())[:40])"
   ]
  },
  {
   "cell_type": "code",
   "execution_count": 74,
   "metadata": {
    "scrolled": true
   },
   "outputs": [
    {
     "data": {
      "image/png": "[encoded data removed]",
      "text/plain": [
       "<Figure size 432x288 with 1 Axes>"
      ]
     },
     "metadata": {},
     "output_type": "display_data"
    }
   ],
   "source": [
    "import matplotlib.pyplot as plt\n",
    "from matplotlib.pyplot import figure\n",
    "\n",
    "D = dict(list(Dict_Orga.items())[:10])\n",
    "plt.barh(*zip(*D.items()))\n",
    "plt.title('Organizations linked with Pepsi')\n",
    "plt.xlabel('Percentage of related Tweets')\n",
    "plt.show()"
   ]
  },
  {
   "cell_type": "code",
   "execution_count": 88,
   "metadata": {},
   "outputs": [
    {
     "data": {
      "image/png": "[encoded data removed]",
      "text/plain": [
       "<Figure size 720x560 with 1 Axes>"
      ]
     },
     "metadata": {},
     "output_type": "display_data"
    }
   ],
   "source": [
    "Org_df = to_df(ORG)\n",
    "\n",
    "import numpy as np\n",
    "\n",
    "barWidth = 0.4\n",
    "r1 = np.arange(10)\n",
    "r2 = [x + barWidth for x in r1]\n",
    "figure(num=None, figsize=(9, 7), dpi=80, facecolor='w', edgecolor='k')\n",
    "\n",
    "plt.bar(r1, Org_df['Negative'],color='#d40606',width=barWidth, label='Negative')\n",
    "plt.bar(r1, Org_df['Neutral'],width=barWidth,color='#f7bf45', bottom = Org_df['Negative'], label='Neutral')\n",
    "plt.bar(r1, Org_df['Positive'],width=barWidth, color='#68cc54',bottom = Org_df['Negative']+Org_df['Neutral'], label='Positive')\n",
    "\n",
    "plt.bar(r2, Org_df['Pepsi_negative'],color='#ab0909',width=barWidth, label='Pepsi Negative')\n",
    "plt.bar(r2, Org_df['Pepsi_neutral'],color='#dba01f',width=barWidth, bottom = Org_df['Pepsi_negative'], label='Pepsi Neutral')\n",
    "plt.bar(r2, Org_df['Pepsi_positive'],color='#408532',width=barWidth, bottom = Org_df['Pepsi_negative']+Org_df['Pepsi_neutral'], label='Pepsi Positive')\n",
    "\n",
    "plt.xticks((r1+r2)/2, Org_df.index, fontweight='bold', rotation=40)\n",
    "plt.title('Organizations linked with Pepsi',fontweight='bold', fontsize = 18)\n",
    "\n",
    "\n",
    "plt.legend()\n",
    "plt.show()"
   ]
  },
  {
   "cell_type": "markdown",
   "metadata": {},
   "source": [
    "## 2.2 Groupes"
   ]
  },
  {
   "cell_type": "code",
   "execution_count": 74,
   "metadata": {
    "scrolled": false
   },
   "outputs": [
    {
     "name": "stdout",
     "output_type": "stream",
     "text": [
      "[('US', 1.103583916083916), ('America', 0.6337412587412588), ('Iran', 0.6118881118881119), ('Russia', 0.40428321678321677), ('Iraq', 0.30594405594405594), ('China', 0.22945804195804195), ('Texas', 0.21853146853146854), ('UK', 0.1966783216783217), ('Syria', 0.1966783216783217), ('Turkey', 0.1966783216783217), ('California', 0.1966783216783217), ('Hollywood', 0.17482517482517482), ('Colorado', 0.1638986013986014), ('Malaysia', 0.1638986013986014), ('Australia', 0.15297202797202797), ('Newcastle', 0.14204545454545456), ('Miami', 0.1201923076923077), ('Israel', 0.1201923076923077), ('London', 0.1201923076923077), ('USA', 0.1201923076923077), ('Philippines', 0.10926573426573427), ('Denver', 0.10926573426573427), ('U.S.', 0.10926573426573427), ('Qatar', 0.09833916083916085), ('Obama', 0.09833916083916085), ('Ukraine', 0.09833916083916085), ('Venezuela', 0.09833916083916085), ('Thailand', 0.09833916083916085), ('Wisconsin', 0.08741258741258741), ('New York', 0.08741258741258741), ('Cisco', 0.08741258741258741), ('Chile', 0.07648601398601398), ('the United States', 0.07648601398601398), ('Spain', 0.07648601398601398), ('Cuba', 0.06555944055944056), ('Chicago', 0.06555944055944056), ('Canada', 0.06555944055944056), ('Kanye', 0.06555944055944056), ('Virginia', 0.06555944055944056), ('Washington', 0.054632867132867136)]\n"
     ]
    }
   ],
   "source": [
    "Dict_Group = list_to_dict(Groups)\n",
    "to_perc(Dict_Group)\n",
    "print(list(Dict_Group.items())[:40])"
   ]
  },
  {
   "cell_type": "code",
   "execution_count": 75,
   "metadata": {
    "scrolled": false
   },
   "outputs": [
    {
     "data": {
      "image/png": "[encoded data removed]",
      "text/plain": [
       "<Figure size 432x288 with 1 Axes>"
      ]
     },
     "metadata": {
      "needs_background": "light"
     },
     "output_type": "display_data"
    }
   ],
   "source": [
    "D = dict(list(Dict_Group.items())[:10])\n",
    "plt.barh(*zip(*D.items()))\n",
    "plt.title('Groups linked with Pepsi')\n",
    "plt.xlabel('Percentage of related Tweets')\n",
    "plt.show()"
   ]
  },
  {
   "cell_type": "code",
   "execution_count": 89,
   "metadata": {},
   "outputs": [
    {
     "data": {
      "image/png": "[encoded data removed]",
      "text/plain": [
       "<Figure size 720x560 with 1 Axes>"
      ]
     },
     "metadata": {},
     "output_type": "display_data"
    }
   ],
   "source": [
    "Gpe_df = to_df(GPE)\n",
    "\n",
    "barWidth = 0.4\n",
    "r1 = np.arange(10)\n",
    "r2 = [x + barWidth for x in r1]\n",
    "\n",
    "figure(num=None, figsize=(9, 7), dpi=80, facecolor='w', edgecolor='k')\n",
    "\n",
    "plt.bar(r1, Gpe_df['Negative'],color='#d40606',width=barWidth, label='Negative')\n",
    "plt.bar(r1, Gpe_df['Neutral'],width=barWidth,color='#f7bf45', bottom = Gpe_df['Negative'], label='Neutral')\n",
    "plt.bar(r1, Gpe_df['Positive'],width=barWidth, color='#68cc54',bottom = Gpe_df['Negative']+Gpe_df['Neutral'], label='Positive')\n",
    "\n",
    "plt.bar(r2, Gpe_df['Pepsi_negative'],color='#ab0909',width=barWidth, label='Pepsi Negative')\n",
    "plt.bar(r2, Gpe_df['Pepsi_neutral'],color='#dba01f',width=barWidth, bottom = Gpe_df['Pepsi_negative'], label='Pepsi Neutral')\n",
    "plt.bar(r2, Gpe_df['Pepsi_positive'],color='#408532',width=barWidth, bottom = Gpe_df['Pepsi_negative']+Gpe_df['Pepsi_neutral'], label='Pepsi Positive')\n",
    "\n",
    "plt.xticks((r1+r2)/2, Gpe_df.index, fontweight='bold', rotation=40)\n",
    "plt.title('Groups linked with Pepsi',fontweight='bold', fontsize = 18)\n",
    "\n",
    "plt.legend()\n",
    "plt.show()\n"
   ]
  },
  {
   "cell_type": "markdown",
   "metadata": {},
   "source": [
    "## 2.3 Personnes"
   ]
  },
  {
   "cell_type": "code",
   "execution_count": 76,
   "metadata": {},
   "outputs": [
    {
     "name": "stdout",
     "output_type": "stream",
     "text": [
      "[('Trump', 1.1909965034965033), ('the Good Vibes', 0.3933566433566434), ('Hillary', 0.38243006993006995), ('BBNaija', 0.2840909090909091), ('Cardi B', 0.26223776223776224), ('Buffalo', 0.26223776223776224), ('Jesus', 0.22945804195804195), ('Megxit', 0.21853146853146854), ('Bernie', 0.1966783216783217), ('Clinton', 0.1966783216783217), ('Evelyn', 0.18575174825174826), ('Warren', 0.17482517482517482), ('Joe Biden', 0.1638986013986014), ('Nancy', 0.14204545454545456), ('🤣🤣', 0.14204545454545456), ('Harry', 0.13111888111888112), ('Hillary Clinton', 0.13111888111888112), ('Teddy', 0.1201923076923077), ('Mullahs', 0.1201923076923077), ('Putin', 0.10926573426573427), ('Donald Trump', 0.10926573426573427), ('Bert', 0.10926573426573427), ('Chris', 0.09833916083916085), ('Dude', 0.09833916083916085), ('MAGA', 0.09833916083916085), ('Larry', 0.09833916083916085), ('Tom', 0.09833916083916085), ('God', 0.09833916083916085), ('Jackie', 0.09833916083916085), ('Greece', 0.09833916083916085), ('Bill', 0.08741258741258741), ('Cisco', 0.08741258741258741), (\"Elizabeth Warren's\", 0.08741258741258741), ('McCain', 0.08741258741258741), ('Belarus', 0.07648601398601398), ('Obama', 0.07648601398601398), ('Bob Iger', 0.07648601398601398), (\"Susan Iger's\", 0.07648601398601398), ('Lanny', 0.07648601398601398), ('Merry Christmas', 0.07648601398601398)]\n"
     ]
    }
   ],
   "source": [
    "Dict_Perso = list_to_dict(Persons)\n",
    "to_perc(Dict_Perso)\n",
    "print(list(Dict_Perso.items())[:40])"
   ]
  },
  {
   "cell_type": "code",
   "execution_count": 77,
   "metadata": {},
   "outputs": [
    {
     "data": {
      "image/png": "[encoded data removed]",
      "text/plain": [
       "<Figure size 432x288 with 1 Axes>"
      ]
     },
     "metadata": {
      "needs_background": "light"
     },
     "output_type": "display_data"
    }
   ],
   "source": [
    "P = dict(list(Dict_Perso.items())[:10])\n",
    "plt.barh(*zip(*P.items()))\n",
    "plt.title('Persons linked with Pepsi')\n",
    "plt.xlabel('Percentage of related Tweets')\n",
    "plt.show()"
   ]
  },
  {
   "cell_type": "code",
   "execution_count": 90,
   "metadata": {
    "scrolled": true
   },
   "outputs": [
    {
     "data": {
      "image/png": "[encoded data removed]",
      "text/plain": [
       "<Figure size 720x560 with 1 Axes>"
      ]
     },
     "metadata": {},
     "output_type": "display_data"
    }
   ],
   "source": [
    "Pers_df = to_df(PER)\n",
    "\n",
    "barWidth = 0.4\n",
    "r1 = np.arange(10)\n",
    "r2 = [x + barWidth for x in r1]\n",
    "\n",
    "figure(num=None, figsize=(9, 7), dpi=80, facecolor='w', edgecolor='k')\n",
    "\n",
    "plt.bar(r1, Pers_df['Negative'],color='#d40606',width=barWidth, label='Negative')\n",
    "plt.bar(r1, Pers_df['Neutral'],width=barWidth,color='#f7bf45', bottom = Pers_df['Negative'], label='Neutral')\n",
    "plt.bar(r1, Pers_df['Positive'],width=barWidth, color='#68cc54',bottom = Pers_df['Negative']+Pers_df['Neutral'], label='Positive')\n",
    "\n",
    "plt.bar(r2, Pers_df['Pepsi_negative'],color='#ab0909',width=barWidth, label='Pepsi Negative')\n",
    "plt.bar(r2, Pers_df['Pepsi_neutral'],color='#dba01f',width=barWidth, bottom = Pers_df['Pepsi_negative'], label='Pepsi Neutral')\n",
    "plt.bar(r2, Pers_df['Pepsi_positive'],color='#408532',width=barWidth, bottom = Pers_df['Pepsi_negative']+Pers_df['Pepsi_neutral'], label='Pepsi Positive')\n",
    "\n",
    "plt.xticks((r1+r2)/2, Pers_df.index, fontweight='bold', rotation=40)\n",
    "plt.title('Persons linked with Pepsi', fontweight='bold', fontsize = 18)\n",
    "\n",
    "plt.legend()\n",
    "plt.show()"
   ]
  },
  {
   "cell_type": "markdown",
   "metadata": {},
   "source": [
    "# 3. Tentative avec Stanford NLP"
   ]
  },
  {
   "cell_type": "code",
   "execution_count": 81,
   "metadata": {},
   "outputs": [
    {
     "name": "stdout",
     "output_type": "stream",
     "text": [
      "['Google', 'is', 'a', 'big', 'company', 'and', 'does', 'not', 'match', 'with', 'Apple']\n"
     ]
    }
   ],
   "source": [
    "import nltk\n",
    "from nltk.tag import StanfordPOSTagger\n",
    "from nltk import word_tokenize\n",
    "\n",
    "import os\n",
    "java_path = \"/Users/simon/jdk-13.0.2/bin/java.exe\"\n",
    "os.environ['JAVAHOME'] = java_path\n",
    "\n",
    "jar = '/Users/simon/stanford-postagger-2018-10-16/stanford-postagger.jar'\n",
    "model = '/Users/simon/stanford-postagger-2018-10-16/models/english-left3words-distsim.tagger'\n",
    "\n",
    "pos_tagger = StanfordPOSTagger(model, jar, encoding='utf8')\n",
    "\n",
    "pos_tagger.tag('Google is a big company and does not match with Apple'.split())\n",
    "print('Google is a big company and does not match with Apple'.split())\n"
   ]
  },
  {
   "cell_type": "code",
   "execution_count": 69,
   "metadata": {},
   "outputs": [
    {
     "name": "stdout",
     "output_type": "stream",
     "text": [
      "9164\n",
      "194210\n",
      "99114\n",
      "['Russian', 'Belarusian', 'paratroopers', 'arrive', 'Serbia', 'take', 'part', 'drills', 'http', 'shst5zKGl', 'Belarus', 'guess', 'want', 'incinerated', 'Belarus', 'Nadezhda', 'Makarchenko', 'nominated', 'World', 'Paddle', 'Awards', '2016', 'http', 'shst5zKF9', 'Belarus', 'Have', 'look', 'Class', 'page', 'school', 'website', 'pictures', 'trip', 'Oriental', 'Museum', 'Durham', 'Longtime', 'Neighbours', 'Need', 'Share', 'Awareness', 'Plus', 'Trade', 'Investment', 'http', 'shst5zKFG', 'Belarus', 'All', 'made', 'eyes', 'start', 'twitching', 'This', 'sermon', 'still', 'hits', 'home', 'https', 'wwwfacebookcomstoryphp', 'storyfbid1536614983163429', 'id100004448263331', 'They', 'wait', 'til', 'hell', 'freezes', 'We', 'enjoying', 'syllable', 'spelling', 'game', 'pictwittercomrRkv5IxjR4', 'My', 'premium', 'deductible', 'skyrocketed', 'shitbox', 'law', 'Obamacare', 'passed', 'affordable', 'plan', 'liked', 'hundred', 'dollar', 'deductible', 'Screw', 'bullshit', 'Chris', 'https', 'twittercomChrisMurphyCTstatus1073770829098479617', 'court', 'That', 'Looking', 'someone', 'install', 'new', 'hardwood', 'floors', 'Brighton']\n"
     ]
    }
   ],
   "source": [
    "tweets = load_csv('../data/extraction_twint/tweets_data/data_marketing_personalise/pepsi_users.csv')\n",
    "words_list = get_words(tweets)\n",
    "print(len(tweets))\n",
    "print(len(words_list))\n",
    "\n",
    "filtered_words = clean(words_list)\n",
    "print(len(filtered_words))\n",
    "print(filtered_words[:100])"
   ]
  },
  {
   "cell_type": "code",
   "execution_count": 82,
   "metadata": {},
   "outputs": [
    {
     "name": "stdout",
     "output_type": "stream",
     "text": [
      "1.1459412574768066 [('Russian', 'NNP')]\n",
      "1.0981237888336182 [('Belarusian', 'JJ')]\n",
      "1.0798842906951904 [('paratroopers', 'NNS')]\n",
      "1.1061582565307617 [('arrive', 'VB')]\n",
      "1.113178014755249 [('Serbia', 'NNP')]\n",
      "1.0864498615264893 [('take', 'VB')]\n",
      "1.0756447315216064 [('part', 'NN')]\n",
      "1.077920913696289 [('drills', 'NNS')]\n",
      "1.100095510482788 [('http', 'NN')]\n",
      "1.0831758975982666 [('shst5zKGl', 'NN')]\n",
      "1.0689067840576172 [('Belarus', 'NNP')]\n",
      "1.064300775527954 [('guess', 'NN')]\n",
      "1.106687068939209 [('want', 'VB')]\n",
      "1.1260061264038086 [('incinerated', 'VBN')]\n",
      "1.0938825607299805 [('Belarus', 'NNP')]\n",
      "1.0808300971984863 [('Nadezhda', 'NNP')]\n",
      "1.110325574874878 [('Makarchenko', 'NNP')]\n",
      "1.1409482955932617 [('nominated', 'VBN')]\n",
      "1.0878679752349854 [('World', 'NNP')]\n",
      "1.0624468326568604 [('Paddle', 'NN')]\n",
      "1.0958504676818848 [('Awards', 'NNS')]\n",
      "1.1236395835876465 [('2016', 'CD')]\n",
      "1.1573598384857178 [('http', 'NN')]\n",
      "1.0807504653930664 [('shst5zKF9', 'NN')]\n",
      "1.1149585247039795 [('Belarus', 'NNP')]\n",
      "1.1507792472839355 [('Have', 'VBP')]\n",
      "1.1982426643371582 [('look', 'NN')]\n",
      "1.1479122638702393 [('Class', 'NN')]\n",
      "1.1032605171203613 [('page', 'NN')]\n",
      "1.145387887954712 [('school', 'NN')]\n",
      "[[('Russian', 'NNP')], [('Belarusian', 'JJ')], [('paratroopers', 'NNS')], [('arrive', 'VB')], [('Serbia', 'NNP')], [('take', 'VB')], [('part', 'NN')], [('drills', 'NNS')], [('http', 'NN')], [('shst5zKGl', 'NN')], [('Belarus', 'NNP')], [('guess', 'NN')], [('want', 'VB')], [('incinerated', 'VBN')], [('Belarus', 'NNP')], [('Nadezhda', 'NNP')], [('Makarchenko', 'NNP')], [('nominated', 'VBN')], [('World', 'NNP')], [('Paddle', 'NN')]]\n"
     ]
    }
   ],
   "source": [
    "import time\n",
    "NER_2 = []\n",
    "for k in range(30) :\n",
    "    start = time.time()\n",
    "    text = pos_tagger.tag(filtered_words[k].split())\n",
    "    end = time.time()\n",
    "    print(end-start, text)\n",
    "    NER_2.append(text)\n",
    "\n",
    "print(NER_2[:20])"
   ]
  },
  {
   "cell_type": "code",
   "execution_count": 76,
   "metadata": {},
   "outputs": [
    {
     "name": "stdout",
     "output_type": "stream",
     "text": [
      "[[('Russian', 'NNP')], [('Belarusian', 'JJ')], [('paratroopers', 'NNS')], [('arrive', 'VB')], [('Serbia', 'NNP')], [('take', 'VB')], [('part', 'NN')], [('drills', 'NNS')], [('http', 'NN')], [('shst5zKGl', 'NN')], [('Belarus', 'NNP')], [('guess', 'NN')], [('want', 'VB')], [('incinerated', 'VBN')], [('Belarus', 'NNP')], [('Nadezhda', 'NNP')], [('Makarchenko', 'NNP')], [('nominated', 'VBN')], [('World', 'NNP')], [('Paddle', 'NN')], [('Awards', 'NNS')], [('2016', 'CD')], [('http', 'NN')], [('shst5zKF9', 'NN')], [('Belarus', 'NNP')], [('Have', 'VBP')], [('look', 'NN')], [('Class', 'NN')], [('page', 'NN')], [('school', 'NN')], [('website', 'NN')], [('pictures', 'NNS')], [('trip', 'NN')], [('Oriental', 'JJ')], [('Museum', 'NNP')], [('Durham', 'NNP')], [('Longtime', 'JJ')], [('Neighbours', 'NNP')], [('Need', 'VBN')], [('Share', 'NN')], [('Awareness', 'NN')], [('Plus', 'NN')], [('Trade', 'NNP')], [('Investment', 'NN')], [('http', 'NN')], [('shst5zKFG', 'NN')], [('Belarus', 'NNP')], [('All', 'DT')], [('made', 'VBN')], [('eyes', 'NNS')], [('start', 'NN')], [('twitching', 'VBG')], [('This', 'DT')], [('sermon', 'NN')], [('still', 'RB')], [('hits', 'NNS')], [('home', 'NN')], [('https', 'NNS')], [('wwwfacebookcomstoryphp', 'NN')], [('storyfbid1536614983163429', 'NN')], [('id100004448263331', 'NN')], [('They', 'PRP')], [('wait', 'NN')], [('til', 'NN')], [('hell', 'NN')], [('freezes', 'VBZ')], [('We', 'PRP')], [('enjoying', 'VBG')], [('syllable', 'JJ')], [('spelling', 'NN')], [('game', 'NN')], [('pictwittercomrRkv5IxjR4', 'NN')], [('My', 'PRP$')], [('premium', 'NN')], [('deductible', 'JJ')], [('skyrocketed', 'VBD')], [('shitbox', 'NN')], [('law', 'NN')], [('Obamacare', 'NNP')], [('passed', 'VBN')], [('affordable', 'JJ')], [('plan', 'NN')], [('liked', 'VBD')], [('hundred', 'CD')], [('dollar', 'NN')], [('deductible', 'JJ')], [('Screw', 'VB')], [('bullshit', 'NN')], [('Chris', 'NNP')], [('https', 'NNS')], [('twittercomChrisMurphyCTstatus1073770829098479617', 'NN')], [('court', 'NN')], [('That', 'DT')], [('Looking', 'VBG')], [('someone', 'NN')], [('install', 'VB')], [('new', 'JJ')], [('hardwood', 'NN')], [('floors', 'NNS')], [('Brighton', 'NNP')], [('CO', 'NNP')], [('looking', 'VBG')], [('recommendations', 'NNS')], [('Emerging', 'VBG')], [('Europe', 'NNP')], [('see', 'VB')], [('slight', 'JJ')], [('growth', 'NN')], [('pickup', 'NN')], [('Russia', 'NNP')], [('IMF', 'NNP')], [('http', 'NN')], [('shst5zKFm', 'NN')], [('Belarus', 'NNP')], [('The', 'DT')], [('UK', 'NNP')], [('ones', 'NNS')], [('leave', 'NN')], [('Big', 'NNP')], [('Big', 'NNP')], [('lie', 'NN')], [('The', 'DT')], [('Black', 'NNP')], [('Community', 'NN')], [('stand', 'VB')], [('Buttigieg', 'NNP')], [('When', 'WRB')], [('needed', 'VBN')], [('South', 'NNP')], [('Bend', 'NNP')], [('blew', 'VBD')], [('He', 'PRP')], [('arrogant', 'JJ')], [('also', 'RB')], [('incompetent', 'JJ')], [('In', 'IN')], [('2016', 'CD')], [('Lukashenka', 'NNP')], [('Sold', 'VBN')], [('Three', 'CD')], [('Tons', 'NNS')], [('Of', 'IN')], [('Caviar', 'NNP')], [('To', 'TO')], [('UAE', 'NNP')], [('And', 'CC')], [('10', 'CD')], [('Dresses', 'NNS')], [('To', 'TO')], [('Qatar', 'NNP')], [('http', 'NN')], [('shst5zKDJ', 'NN')], [('Belarus', 'NNP')], [('Excited', 'VBN')], [('tomorrow', 'NN')], [('new', 'JJ')], [('term', 'NN')], [('Class', 'NN')], [('Guisborough', 'NNP')], [('pictwittercomzNwXA7vkpV', 'NN')], [('These', 'DT')], [('genius', 'NN')], [('https', 'NNS')], [('wannabeentcommoveoverflowersbeefjerkybouquetsaretakingoverthisvalentines', 'NNS')], [('cool', 'NN')], [('pic', 'NN')], [('local', 'JJ')], [('paper', 'NN')], [('Jersey', 'NNP')], [('pictwittercomNEV72Jgkdx', 'NN')], [('mo', 'NN')], [('hatin', 'NN')], [('ass', 'NN')], [('Merry', 'NNP')], [('Christmas', 'NNP')], [('Class', 'NN')], [('Guisborough', 'NNP')], [('Hope', 'NNP')], [('great', 'JJ')], [('day', 'NN')], [('⛄️😊xx', 'NN')], [('It', 'PRP')], [('days', 'NNS')], [('life', 'NN')], [('life', 'NN')], [('days', 'NNS')], [('It', 'PRP')], [('seems', 'VBZ')], [('clear', 'JJ')], [('choice', 'NN')], [('next', 'IN')], [('election', 'NN')], [('Get', 'VB')], [('fck', 'NN')], [('foul', 'JJ')], [('mouthed', 'VBN')], [('one', 'CD')], [('trick', 'NN')], [('pony', 'NN')], [('reprobate', 'NN')]]\n"
     ]
    }
   ],
   "source": [
    "print(NER_2)"
   ]
  },
  {
   "cell_type": "code",
   "execution_count": 77,
   "metadata": {},
   "outputs": [
    {
     "name": "stdout",
     "output_type": "stream",
     "text": [
      "[('Belarus', 6), ('Big', 2), ('Guisborough', 2), ('Russian', 1), ('Serbia', 1), ('Nadezhda', 1), ('Makarchenko', 1), ('World', 1), ('Museum', 1), ('Durham', 1), ('Neighbours', 1), ('Trade', 1), ('Obamacare', 1), ('Chris', 1), ('Brighton', 1), ('CO', 1), ('Europe', 1), ('Russia', 1), ('IMF', 1), ('UK', 1), ('Black', 1), ('Buttigieg', 1), ('South', 1), ('Bend', 1), ('Lukashenka', 1), ('Caviar', 1), ('UAE', 1), ('Qatar', 1), ('Jersey', 1), ('Merry', 1), ('Christmas', 1), ('Hope', 1)]\n"
     ]
    }
   ],
   "source": [
    "Orga_2 = []\n",
    "for row in NER_2 :\n",
    "    for word in row : \n",
    "        if word[1] == 'NNP' :\n",
    "            Orga_2.append(word[0])\n",
    "\n",
    "Dict_Orga_2 = list_to_dict(Orga_2)\n",
    "print(list(Dict_Orga_2.items())[:40])\n",
    "    "
   ]
  },
  {
   "cell_type": "code",
   "execution_count": 78,
   "metadata": {},
   "outputs": [
    {
     "data": {
      "image/png": "[encoded data removed]",
      "text/plain": [
       "<Figure size 432x288 with 1 Axes>"
      ]
     },
     "metadata": {
      "needs_background": "light"
     },
     "output_type": "display_data"
    }
   ],
   "source": [
    "M = dict(list(Dict_Orga_2.items())[:10])\n",
    "plt.barh(*zip(*M.items()))\n",
    "plt.show()"
   ]
  }
 ],
 "metadata": {
  "kernelspec": {
   "display_name": "Python 3",
   "language": "python",
   "name": "python3"
  },
  "language_info": {
   "codemirror_mode": {
    "name": "ipython",
    "version": 3
   },
   "file_extension": ".py",
   "mimetype": "text/x-python",
   "name": "python",
   "nbconvert_exporter": "python",
   "pygments_lexer": "ipython3",
   "version": "3.7.4"
  },
  "pycharm": {
   "stem_cell": {
    "cell_type": "raw",
    "metadata": {
     "collapsed": false
    },
    "source": []
   }
  }
 },
 "nbformat": 4,
 "nbformat_minor": 1
}
