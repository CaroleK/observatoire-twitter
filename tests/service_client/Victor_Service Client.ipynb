{
 "cells": [
  {
   "cell_type": "code",
   "execution_count": 2,
   "metadata": {},
   "outputs": [
    {
     "name": "stderr",
     "output_type": "stream",
     "text": [
      "[nltk_data] Downloading package punkt to /home/victor/nltk_data...\n",
      "[nltk_data]   Package punkt is already up-to-date!\n",
      "[nltk_data] Downloading package stopwords to /home/victor/nltk_data...\n",
      "[nltk_data]   Package stopwords is already up-to-date!\n"
     ]
    }
   ],
   "source": [
    "import pandas as pd \n",
    "#pd.set_option('display.max_colwidth', -1) #show whole tweets\n",
    "import numpy as np\n",
    "from matplotlib import pyplot as plt\n",
    "import math\n",
    "\n",
    "import nltk\n",
    "nltk.download('punkt')\n",
    "nltk.download('stopwords')\n",
    "from nltk.corpus import stopwords\n",
    "from nltk.stem.porter import PorterStemmer\n",
    "\n",
    "import gensim\n",
    "from gensim import corpora, models\n"
   ]
  },
  {
   "cell_type": "markdown",
   "metadata": {},
   "source": [
    "# 1. Chargement des données"
   ]
  },
  {
   "cell_type": "code",
   "execution_count": 3,
   "metadata": {},
   "outputs": [
    {
     "data": {
      "text/html": [
       "<div>\n",
       "<style scoped>\n",
       "    .dataframe tbody tr th:only-of-type {\n",
       "        vertical-align: middle;\n",
       "    }\n",
       "\n",
       "    .dataframe tbody tr th {\n",
       "        vertical-align: top;\n",
       "    }\n",
       "\n",
       "    .dataframe thead th {\n",
       "        text-align: right;\n",
       "    }\n",
       "</style>\n",
       "<table border=\"1\" class=\"dataframe\">\n",
       "  <thead>\n",
       "    <tr style=\"text-align: right;\">\n",
       "      <th></th>\n",
       "      <th>tweet</th>\n",
       "      <th>reply_time</th>\n",
       "    </tr>\n",
       "  </thead>\n",
       "  <tbody>\n",
       "    <tr>\n",
       "      <th>0</th>\n",
       "      <td>#DAM job opening - Senior Marketing Asset Mana...</td>\n",
       "      <td>NaN</td>\n",
       "    </tr>\n",
       "    <tr>\n",
       "      <th>1</th>\n",
       "      <td>Finally, a holiday I can totally support. I'll...</td>\n",
       "      <td>NaN</td>\n",
       "    </tr>\n",
       "    <tr>\n",
       "      <th>2</th>\n",
       "      <td>@3rdHourTODAY please mention that there are op...</td>\n",
       "      <td>NaN</td>\n",
       "    </tr>\n",
       "    <tr>\n",
       "      <th>3</th>\n",
       "      <td>Riddle me this, Whole Foods. How the hell is M...</td>\n",
       "      <td>NaN</td>\n",
       "    </tr>\n",
       "    <tr>\n",
       "      <th>4</th>\n",
       "      <td>NEW: Enjoy #Austin Ice Skating on @WholeFoods ...</td>\n",
       "      <td>NaN</td>\n",
       "    </tr>\n",
       "    <tr>\n",
       "      <th>5</th>\n",
       "      <td>Now through December 17, donate to @WholeFoods...</td>\n",
       "      <td>NaN</td>\n",
       "    </tr>\n",
       "    <tr>\n",
       "      <th>6</th>\n",
       "      <td>So this is fake news</td>\n",
       "      <td>NaN</td>\n",
       "    </tr>\n",
       "    <tr>\n",
       "      <th>7</th>\n",
       "      <td>great! i usually can rely on Fresh Pond. it’s ...</td>\n",
       "      <td>NaN</td>\n",
       "    </tr>\n",
       "    <tr>\n",
       "      <th>8</th>\n",
       "      <td>is it not discontinued? —i’ve been looking for...</td>\n",
       "      <td>11.0</td>\n",
       "    </tr>\n",
       "    <tr>\n",
       "      <th>9</th>\n",
       "      <td>#GivingTuesday may be over - but the need is s...</td>\n",
       "      <td>NaN</td>\n",
       "    </tr>\n",
       "    <tr>\n",
       "      <th>10</th>\n",
       "      <td>🔝👀🇮🇱🏁@CityAttorneyLA @LACity vs @CityOfLasVega...</td>\n",
       "      <td>NaN</td>\n",
       "    </tr>\n",
       "    <tr>\n",
       "      <th>11</th>\n",
       "      <td>Would love to see a Whole Foods or Trader Joe’...</td>\n",
       "      <td>NaN</td>\n",
       "    </tr>\n",
       "    <tr>\n",
       "      <th>12</th>\n",
       "      <td>@JeffBezos @WholeFoods  pic.twitter.com/tC9eZq...</td>\n",
       "      <td>NaN</td>\n",
       "    </tr>\n",
       "    <tr>\n",
       "      <th>13</th>\n",
       "      <td>We already have @WholeFoods delivery trailers ...</td>\n",
       "      <td>NaN</td>\n",
       "    </tr>\n",
       "    <tr>\n",
       "      <th>14</th>\n",
       "      <td>Yum, yum 😋!</td>\n",
       "      <td>NaN</td>\n",
       "    </tr>\n",
       "  </tbody>\n",
       "</table>\n",
       "</div>"
      ],
      "text/plain": [
       "                                                tweet  reply_time\n",
       "0   #DAM job opening - Senior Marketing Asset Mana...         NaN\n",
       "1   Finally, a holiday I can totally support. I'll...         NaN\n",
       "2   @3rdHourTODAY please mention that there are op...         NaN\n",
       "3   Riddle me this, Whole Foods. How the hell is M...         NaN\n",
       "4   NEW: Enjoy #Austin Ice Skating on @WholeFoods ...         NaN\n",
       "5   Now through December 17, donate to @WholeFoods...         NaN\n",
       "6                                So this is fake news         NaN\n",
       "7   great! i usually can rely on Fresh Pond. it’s ...         NaN\n",
       "8   is it not discontinued? —i’ve been looking for...        11.0\n",
       "9   #GivingTuesday may be over - but the need is s...         NaN\n",
       "10  🔝👀🇮🇱🏁@CityAttorneyLA @LACity vs @CityOfLasVega...         NaN\n",
       "11  Would love to see a Whole Foods or Trader Joe’...         NaN\n",
       "12  @JeffBezos @WholeFoods  pic.twitter.com/tC9eZq...         NaN\n",
       "13  We already have @WholeFoods delivery trailers ...         NaN\n",
       "14                                        Yum, yum 😋!         NaN"
      ]
     },
     "execution_count": 3,
     "metadata": {},
     "output_type": "execute_result"
    }
   ],
   "source": [
    "df = pd.read_csv(\"../../data/extraction_twint/tweets_data/data_service_clients/with_reply_time/wholefoods.csv\").filter([\"tweet\",\"reply_time\"])\n",
    "\n",
    "#reply time to timedelta\n",
    "df['reply_time']=df['reply_time'].map(pd.to_timedelta)\n",
    "\n",
    "#reply time in minutes\n",
    "df['reply_time']=df['reply_time'].map(lambda x: x.days*1440 + x.seconds//60)\n",
    "\n",
    "df.head(15)"
   ]
  },
  {
   "cell_type": "markdown",
   "metadata": {},
   "source": [
    "# 2. Premières observations"
   ]
  },
  {
   "cell_type": "markdown",
   "metadata": {},
   "source": [
    "### Proportions de tweets avec/sans réponse"
   ]
  },
  {
   "cell_type": "code",
   "execution_count": 4,
   "metadata": {
    "scrolled": true
   },
   "outputs": [
    {
     "ename": "NameError",
     "evalue": "name 'has_reply' is not defined",
     "output_type": "error",
     "traceback": [
      "\u001b[0;31m---------------------------------------------------------------------------\u001b[0m",
      "\u001b[0;31mNameError\u001b[0m                                 Traceback (most recent call last)",
      "\u001b[0;32m<ipython-input-4-b0cb54831028>\u001b[0m in \u001b[0;36m<module>\u001b[0;34m\u001b[0m\n\u001b[1;32m      1\u001b[0m \u001b[0mdf\u001b[0m\u001b[0;34m[\u001b[0m\u001b[0;34m'has_reply'\u001b[0m\u001b[0;34m]\u001b[0m \u001b[0;34m=\u001b[0m \u001b[0mdf\u001b[0m\u001b[0;34m[\u001b[0m\u001b[0;34m'reply_time'\u001b[0m\u001b[0;34m]\u001b[0m\u001b[0;34m.\u001b[0m\u001b[0mmap\u001b[0m\u001b[0;34m(\u001b[0m\u001b[0;32mlambda\u001b[0m \u001b[0mx\u001b[0m \u001b[0;34m:\u001b[0m \u001b[0;32mnot\u001b[0m\u001b[0;34m(\u001b[0m\u001b[0mmath\u001b[0m\u001b[0;34m.\u001b[0m\u001b[0misnan\u001b[0m\u001b[0;34m(\u001b[0m\u001b[0mx\u001b[0m\u001b[0;34m)\u001b[0m\u001b[0;34m)\u001b[0m\u001b[0;34m)\u001b[0m\u001b[0;34m\u001b[0m\u001b[0;34m\u001b[0m\u001b[0m\n\u001b[1;32m      2\u001b[0m \u001b[0;34m\u001b[0m\u001b[0m\n\u001b[0;32m----> 3\u001b[0;31m \u001b[0mcounts\u001b[0m\u001b[0;34m=\u001b[0m\u001b[0mdf\u001b[0m\u001b[0;34m[\u001b[0m\u001b[0;34m'has_reply'\u001b[0m\u001b[0;34m]\u001b[0m\u001b[0;34m.\u001b[0m\u001b[0mvalue_counts\u001b[0m\u001b[0;34m(\u001b[0m\u001b[0;34m)\u001b[0m\u001b[0;34m/\u001b[0m\u001b[0mhas_reply\u001b[0m\u001b[0;34m.\u001b[0m\u001b[0msize\u001b[0m\u001b[0;34m*\u001b[0m\u001b[0;36m100\u001b[0m\u001b[0;34m\u001b[0m\u001b[0;34m\u001b[0m\u001b[0m\n\u001b[0m\u001b[1;32m      4\u001b[0m \u001b[0mplot\u001b[0m \u001b[0;34m=\u001b[0m \u001b[0mcounts\u001b[0m\u001b[0;34m.\u001b[0m\u001b[0mplot\u001b[0m\u001b[0;34m.\u001b[0m\u001b[0mpie\u001b[0m\u001b[0;34m(\u001b[0m\u001b[0my\u001b[0m\u001b[0;34m=\u001b[0m\u001b[0;34m'has_reply'\u001b[0m\u001b[0;34m,\u001b[0m \u001b[0mfigsize\u001b[0m\u001b[0;34m=\u001b[0m\u001b[0;34m(\u001b[0m\u001b[0;36m5\u001b[0m\u001b[0;34m,\u001b[0m \u001b[0;36m5\u001b[0m\u001b[0;34m)\u001b[0m\u001b[0;34m,\u001b[0m \u001b[0mlegend\u001b[0m\u001b[0;34m=\u001b[0m\u001b[0;32mTrue\u001b[0m\u001b[0;34m)\u001b[0m\u001b[0;34m\u001b[0m\u001b[0;34m\u001b[0m\u001b[0m\n",
      "\u001b[0;31mNameError\u001b[0m: name 'has_reply' is not defined"
     ]
    }
   ],
   "source": [
    "df['has_reply'] = df['reply_time'].map(lambda x : not(math.isnan(x)))\n",
    "\n",
    "counts=df['has_reply'].value_counts()/has_reply.size*100\n",
    "plot = counts.plot.pie(y='has_reply', figsize=(5, 5), legend=True)"
   ]
  },
  {
   "cell_type": "code",
   "execution_count": null,
   "metadata": {},
   "outputs": [],
   "source": [
    "df[df.has_reply==True].head(30)"
   ]
  },
  {
   "cell_type": "markdown",
   "metadata": {},
   "source": [
    "### Temps de réponse en jours"
   ]
  },
  {
   "cell_type": "code",
   "execution_count": 5,
   "metadata": {
    "scrolled": true
   },
   "outputs": [
    {
     "data": {
      "text/plain": [
       "(array([1.656e+03, 3.940e+02, 1.010e+02, 4.100e+01, 3.900e+01, 1.700e+01,\n",
       "        7.000e+00, 1.000e+00, 1.000e+00, 3.000e+00, 3.000e+00, 3.000e+00,\n",
       "        4.000e+00, 1.000e+00, 1.000e+00, 1.000e+00, 3.000e+00, 0.000e+00,\n",
       "        0.000e+00]),\n",
       " array([0. , 0.5, 1. , 1.5, 2. , 2.5, 3. , 3.5, 4. , 4.5, 5. , 5.5, 6. ,\n",
       "        6.5, 7. , 7.5, 8. , 8.5, 9. , 9.5]),\n",
       " <a list of 19 Patch objects>)"
      ]
     },
     "execution_count": 5,
     "metadata": {},
     "output_type": "execute_result"
    },
    {
     "data": {
      "image/png": "[encoded data removed]",
      "text/plain": [
       "<Figure size 432x288 with 1 Axes>"
      ]
     },
     "metadata": {
      "needs_background": "light"
     },
     "output_type": "display_data"
    }
   ],
   "source": [
    "plt.hist(df['reply_time']/1440.0, np.arange(0,10,0.5))"
   ]
  },
  {
   "cell_type": "markdown",
   "metadata": {},
   "source": [
    "### Temps de réponse en minutes"
   ]
  },
  {
   "cell_type": "code",
   "execution_count": 6,
   "metadata": {},
   "outputs": [
    {
     "data": {
      "text/plain": [
       "(array([ 26., 112., 127., 129., 115.,  87.,  87.,  53.,  43.,  29.,  27.,\n",
       "         31.,  27.,  21.,  21.,  20.,   8.,   8.,   6.,   6.,  10.,   7.,\n",
       "          9.,  10.,   7.,   5.,   7.,   8.,   6.,   8.,   4.,   6.,   8.,\n",
       "          7.,   4.,   2.,   3.,   2.,   0.,   5.,   3.,   1.,   3.,   6.,\n",
       "          1.,   4.,   0.,   0.,   0.,   2.,   2.,   2.,   4.,   2.,   3.,\n",
       "          3.,   2.,   1.,   1.,   2.,   4.,   2.,   2.,   3.,   2.,   0.,\n",
       "          0.,   1.,   2.,   1.,   2.,   2.,   2.,   1.,   0.,   4.,   1.,\n",
       "          3.,   0.,   1.,   2.,   2.,   2.,   2.,   2.,   1.,   1.,   0.,\n",
       "          3.,   2.,   0.,   0.,   2.,   2.,   0.,   1.,   1.,   0.,   1.,\n",
       "          1.,   1.,   0.,   0.,   3.,   0.,   1.,   1.,   0.,   2.,   2.,\n",
       "          0.,   1.,   1.,   2.,   2.,   6.,   4.,   1.,   0.,   1.,   2.,\n",
       "          2.,   2.,   1.,   1.,   2.,   1.,   1.,   0.,   1.,   2.,   2.,\n",
       "          1.,   3.,   2.,   0.,   1.,   1.,   0.,   2.,   2.,   1.,   0.,\n",
       "          1.,   0.,   3.,   2.,   2.,   1.,   1.,   0.,   0.,   1.,   0.,\n",
       "          1.,   0.,   1.,   2.,   2.,   2.,   0.,   1.,   3.,   5.,   3.,\n",
       "          1.,   0.,   1.,   3.,   0.,   1.,   1.,   1.,   2.,   0.,   0.,\n",
       "          0.,   0.,   1.,   0.,   1.,   3.,   0.,   0.,   2.,   1.,   1.,\n",
       "          0.,   2.,   1.,   0.,   0.,   0.,   0.,   0.,   0.,   0.,   1.,\n",
       "          0.,   0.,   0.,   0.,   1.,   3.,   2.,   2.,   3.,   1.,   3.,\n",
       "          1.,   1.,   0.,   0.,   0.,   1.,   0.,   0.,   1.,   0.,   3.,\n",
       "          0.,   1.,   2.,   0.,   0.,   0.,   1.,   0.,   0.,   0.,   0.,\n",
       "          0.,   1.,   1.,   0.,   2.,   2.,   3.,   0.]),\n",
       " array([  0,   1,   2,   3,   4,   5,   6,   7,   8,   9,  10,  11,  12,\n",
       "         13,  14,  15,  16,  17,  18,  19,  20,  21,  22,  23,  24,  25,\n",
       "         26,  27,  28,  29,  30,  31,  32,  33,  34,  35,  36,  37,  38,\n",
       "         39,  40,  41,  42,  43,  44,  45,  46,  47,  48,  49,  50,  51,\n",
       "         52,  53,  54,  55,  56,  57,  58,  59,  60,  61,  62,  63,  64,\n",
       "         65,  66,  67,  68,  69,  70,  71,  72,  73,  74,  75,  76,  77,\n",
       "         78,  79,  80,  81,  82,  83,  84,  85,  86,  87,  88,  89,  90,\n",
       "         91,  92,  93,  94,  95,  96,  97,  98,  99, 100, 101, 102, 103,\n",
       "        104, 105, 106, 107, 108, 109, 110, 111, 112, 113, 114, 115, 116,\n",
       "        117, 118, 119, 120, 121, 122, 123, 124, 125, 126, 127, 128, 129,\n",
       "        130, 131, 132, 133, 134, 135, 136, 137, 138, 139, 140, 141, 142,\n",
       "        143, 144, 145, 146, 147, 148, 149, 150, 151, 152, 153, 154, 155,\n",
       "        156, 157, 158, 159, 160, 161, 162, 163, 164, 165, 166, 167, 168,\n",
       "        169, 170, 171, 172, 173, 174, 175, 176, 177, 178, 179, 180, 181,\n",
       "        182, 183, 184, 185, 186, 187, 188, 189, 190, 191, 192, 193, 194,\n",
       "        195, 196, 197, 198, 199, 200, 201, 202, 203, 204, 205, 206, 207,\n",
       "        208, 209, 210, 211, 212, 213, 214, 215, 216, 217, 218, 219, 220,\n",
       "        221, 222, 223, 224, 225, 226, 227, 228, 229, 230, 231, 232, 233,\n",
       "        234, 235, 236, 237, 238, 239]),\n",
       " <a list of 239 Patch objects>)"
      ]
     },
     "execution_count": 6,
     "metadata": {},
     "output_type": "execute_result"
    },
    {
     "data": {
      "image/png": "[encoded data removed]",
      "text/plain": [
       "<Figure size 432x288 with 1 Axes>"
      ]
     },
     "metadata": {
      "needs_background": "light"
     },
     "output_type": "display_data"
    }
   ],
   "source": [
    "plt.hist(df['reply_time'], np.arange(0,240,1))"
   ]
  },
  {
   "cell_type": "markdown",
   "metadata": {},
   "source": [
    "# 3. Pré-traitement"
   ]
  },
  {
   "cell_type": "code",
   "execution_count": 7,
   "metadata": {},
   "outputs": [
    {
     "data": {
      "text/plain": [
       "0    #DAM job opening - Senior Marketing Asset Mana...\n",
       "1    Finally, a holiday I can totally support. I'll...\n",
       "2    @3rdHourTODAY please mention that there are op...\n",
       "3    Riddle me this, Whole Foods. How the hell is M...\n",
       "4    NEW: Enjoy #Austin Ice Skating on @WholeFoods ...\n",
       "Name: tweet, dtype: object"
      ]
     },
     "execution_count": 7,
     "metadata": {},
     "output_type": "execute_result"
    }
   ],
   "source": [
    "sample = df['tweet']\n",
    "\n",
    "##on enlève les valeurs nulles\n",
    "sample = sample.dropna()\n",
    "\n",
    "sample.head()"
   ]
  },
  {
   "cell_type": "code",
   "execution_count": 8,
   "metadata": {},
   "outputs": [],
   "source": [
    "##on tokenise les phrases\n",
    "sample=sample.map(lambda x: nltk.tokenize.word_tokenize(x))"
   ]
  },
  {
   "cell_type": "code",
   "execution_count": 9,
   "metadata": {},
   "outputs": [
    {
     "data": {
      "text/plain": [
       "0    [#, DAM, job, opening, -, Senior, Marketing, A...\n",
       "1    [Finally, ,, holiday, I, totally, support, ., ...\n",
       "2    [@, 3rdHourTODAY, please, mention, options, ha...\n",
       "3    [Riddle, ,, Whole, Foods, ., How, hell, Mitch,...\n",
       "4    [NEW, :, Enjoy, #, Austin, Ice, Skating, @, Wh...\n",
       "Name: tweet, dtype: object"
      ]
     },
     "execution_count": 9,
     "metadata": {},
     "output_type": "execute_result"
    }
   ],
   "source": [
    "##liste de stopwords\n",
    "stop_words = stopwords.words('english')\n",
    "\n",
    "##on supprime les stopwords\n",
    "sample = sample.apply(lambda x: [item for item in x if item not in stop_words])\n",
    "sample.head()"
   ]
  },
  {
   "cell_type": "code",
   "execution_count": 10,
   "metadata": {},
   "outputs": [
    {
     "data": {
      "text/plain": [
       "0     [#, dam, job, open, -, senior, market, asset, ...\n",
       "1     [final, ,, holiday, I, total, support, ., I, '...\n",
       "2     [@, 3rdhourtoday, pleas, mention, option, hair...\n",
       "3     [riddl, ,, whole, food, ., how, hell, mitch, m...\n",
       "4     [new, :, enjoy, #, austin, ice, skate, @, whol...\n",
       "5     [now, decemb, 17, ,, donat, @, wholefood, #, f...\n",
       "6                                      [So, fake, news]\n",
       "7     [great, !, usual, reli, fresh, pond, ., ’, fav...\n",
       "8     [discontinu, ?, —i, ’, look, !, look, four, di...\n",
       "9     [#, givingtuesday, may, -, need, still, strong...\n",
       "10    [🔝👀🇮🇱🏁, @, cityattorneyla, @, laciti, vs, @, c...\n",
       "11    [would, love, see, whole, food, trader, joe, ’...\n",
       "Name: tweet, dtype: object"
      ]
     },
     "execution_count": 10,
     "metadata": {},
     "output_type": "execute_result"
    }
   ],
   "source": [
    "##to be improved or skipped\n",
    "stemmer = PorterStemmer()\n",
    "\n",
    "sample=sample.apply(lambda x: [stemmer.stem(item) for item in x])\n",
    "sample.head(12)"
   ]
  },
  {
   "cell_type": "markdown",
   "metadata": {},
   "source": [
    "# 4. Bag of words"
   ]
  },
  {
   "cell_type": "code",
   "execution_count": 20,
   "metadata": {},
   "outputs": [],
   "source": [
    "\n",
    "##remove links\n",
    "def preprocessor(tweet):\n",
    "    words=[]\n",
    "    for w in tweet.split(\" \"):\n",
    "        if not(w.startswith(\"http\") or w.startswith(\"www\") or w.startswith(\"pic.twitter\")):\n",
    "            words+=[w]\n",
    "    return ' '.join(words).lower()\n"
   ]
  },
  {
   "cell_type": "code",
   "execution_count": 21,
   "metadata": {
    "scrolled": false
   },
   "outputs": [
    {
     "data": {
      "text/plain": [
       "['!',\n",
       " '10',\n",
       " '20',\n",
       " '2019',\n",
       " '2020',\n",
       " '30',\n",
       " '?',\n",
       " 'actually',\n",
       " 'affiliated',\n",
       " 'affiliation',\n",
       " 'amazing',\n",
       " 'amazon',\n",
       " 'area',\n",
       " 'aren',\n",
       " 'article',\n",
       " 'available',\n",
       " 'away',\n",
       " 'awesome',\n",
       " 'bad',\n",
       " 'bag',\n",
       " 'bags',\n",
       " 'bar',\n",
       " 'based',\n",
       " 'believe',\n",
       " 'benefits',\n",
       " 'best',\n",
       " 'better',\n",
       " 'bezos',\n",
       " 'big',\n",
       " 'bought',\n",
       " 'boulderorganic',\n",
       " 'boycott',\n",
       " 'boycottwholefoods',\n",
       " 'brand',\n",
       " 'bread',\n",
       " 'bring',\n",
       " 'business',\n",
       " 'buy',\n",
       " 'buying',\n",
       " 'care',\n",
       " 'chain',\n",
       " 'change',\n",
       " 'check',\n",
       " 'cheese',\n",
       " 'chicken',\n",
       " 'city',\n",
       " 'come',\n",
       " 'companies',\n",
       " 'company',\n",
       " 'customer',\n",
       " 'customers',\n",
       " 'cut',\n",
       " 'day',\n",
       " 'days',\n",
       " 'delicious',\n",
       " 'delivery',\n",
       " 'did',\n",
       " 'didn',\n",
       " 'different',\n",
       " 'dinner',\n",
       " 'does',\n",
       " 'doesn',\n",
       " 'doing',\n",
       " 'don',\n",
       " 'drinking',\n",
       " 'eat',\n",
       " 'eating',\n",
       " 'employees',\n",
       " 'end',\n",
       " 'family',\n",
       " 'favorite',\n",
       " 'feel',\n",
       " 'finally',\n",
       " 'flavors',\n",
       " 'food',\n",
       " 'foods',\n",
       " 'free',\n",
       " 'freewill',\n",
       " 'fresh',\n",
       " 'friends',\n",
       " 'fuck',\n",
       " 'getting',\n",
       " 'giving',\n",
       " 'glad',\n",
       " 'going',\n",
       " 'good',\n",
       " 'got',\n",
       " 'gotitfree',\n",
       " 'great',\n",
       " 'groceries',\n",
       " 'grocery',\n",
       " 'guess',\n",
       " 'guys',\n",
       " 'happy',\n",
       " 'hard',\n",
       " 'having',\n",
       " 'health',\n",
       " 'healthy',\n",
       " 'help',\n",
       " 'hey',\n",
       " 'hi',\n",
       " 'holiday',\n",
       " 'home',\n",
       " 'hope',\n",
       " 'hot',\n",
       " 'idea',\n",
       " 'instead',\n",
       " 'isn',\n",
       " 'items',\n",
       " 'jeffbezos',\n",
       " 'just',\n",
       " 'kind',\n",
       " 'know',\n",
       " 'learn',\n",
       " 'left',\n",
       " 'let',\n",
       " 'life',\n",
       " 'like',\n",
       " 'line',\n",
       " 'list',\n",
       " 'little',\n",
       " 'live',\n",
       " 'll',\n",
       " 'local',\n",
       " 'location',\n",
       " 'lol',\n",
       " 'long',\n",
       " 'longer',\n",
       " 'look',\n",
       " 'looking',\n",
       " 'looks',\n",
       " 'lot',\n",
       " 'love',\n",
       " 'loving',\n",
       " 'lunch',\n",
       " 'magazine',\n",
       " 'make',\n",
       " 'makes',\n",
       " 'making',\n",
       " 'man',\n",
       " 'market',\n",
       " 'maybe',\n",
       " 'mcconnell',\n",
       " 'meal',\n",
       " 'mean',\n",
       " 'meat',\n",
       " 'milk',\n",
       " 'mitch',\n",
       " 'money',\n",
       " 'moscowmitch',\n",
       " 'named',\n",
       " 'near',\n",
       " 'need',\n",
       " 'needs',\n",
       " 'new',\n",
       " 'news',\n",
       " 'nice',\n",
       " 'night',\n",
       " 'non',\n",
       " 'nyc',\n",
       " 'oh',\n",
       " 'open',\n",
       " 'options',\n",
       " 'order',\n",
       " 'ordered',\n",
       " 'organic',\n",
       " 'owned',\n",
       " 'pay',\n",
       " 'people',\n",
       " 'person',\n",
       " 'pick',\n",
       " 'picked',\n",
       " 'pie',\n",
       " 'place',\n",
       " 'plastic',\n",
       " 'post',\n",
       " 'pretty',\n",
       " 'prime',\n",
       " 'problem',\n",
       " 'produce',\n",
       " 'product',\n",
       " 'products',\n",
       " 'pumpkin',\n",
       " 'quality',\n",
       " 'read',\n",
       " 'ready',\n",
       " 'real',\n",
       " 'really',\n",
       " 'reason',\n",
       " 'recipe',\n",
       " 'research',\n",
       " 'review',\n",
       " 'right',\n",
       " 'said',\n",
       " 'salad',\n",
       " 'sale',\n",
       " 'say',\n",
       " 'says',\n",
       " 'sell',\n",
       " 'senatemajldr',\n",
       " 'seriously',\n",
       " 'service',\n",
       " 'shop',\n",
       " 'shopping',\n",
       " 'socialnature',\n",
       " 'sorry',\n",
       " 'soup',\n",
       " 'spend',\n",
       " 'start',\n",
       " 'stock',\n",
       " 'stop',\n",
       " 'store',\n",
       " 'stores',\n",
       " 'stuff',\n",
       " 'supermarket',\n",
       " 'support',\n",
       " 'sure',\n",
       " 'target',\n",
       " 'tastes',\n",
       " 'team',\n",
       " 'tell',\n",
       " 'thank',\n",
       " 'thanks',\n",
       " 'thanksgiving',\n",
       " 'thing',\n",
       " 'things',\n",
       " 'think',\n",
       " 'thought',\n",
       " 'time',\n",
       " 'times',\n",
       " 'today',\n",
       " 'took',\n",
       " 'trends',\n",
       " 'tried',\n",
       " 'try',\n",
       " 'trying',\n",
       " 'trynatural',\n",
       " 'turkey',\n",
       " 'tweet',\n",
       " 'twitter',\n",
       " 'use',\n",
       " 'used',\n",
       " 'using',\n",
       " 've',\n",
       " 'vegan',\n",
       " 'wait',\n",
       " 'walmart',\n",
       " 'want',\n",
       " 'way',\n",
       " 'week',\n",
       " 'wegmans',\n",
       " 'went',\n",
       " 'wf',\n",
       " 'wholefoods',\n",
       " 'wholefoodsmag',\n",
       " 'wholefoodspr',\n",
       " 'won',\n",
       " 'work',\n",
       " 'workers',\n",
       " 'world',\n",
       " 'wow',\n",
       " 'wrong',\n",
       " 'wtf',\n",
       " 'year',\n",
       " 'years',\n",
       " 'yes']"
      ]
     },
     "execution_count": 21,
     "metadata": {},
     "output_type": "execute_result"
    }
   ],
   "source": [
    "from sklearn.feature_extraction.text import TfidfVectorizer, CountVectorizer\n",
    "\n",
    "matrix = TfidfVectorizer(max_features=1000, preprocessor=preprocessor, token_pattern=r\"(?u)\\b\\w\\w+\\b|!|\\?\", min_df=0.005, stop_words=\"english\")\n",
    "#matrix = CountVectorizer(max_features=5000, token_pattern=r\"(?u)\\b\\w\\w+\\b|!|\\?\", stop_words=\"english\")\n",
    "\n",
    "X = matrix.fit_transform(df['tweet']).toarray()\n",
    "\n",
    "matrix.get_feature_names()\n",
    "\n",
    "#matrix.inverse_transform(X)"
   ]
  },
  {
   "cell_type": "code",
   "execution_count": 22,
   "metadata": {},
   "outputs": [],
   "source": [
    "y = df.has_reply\n",
    "\n",
    "# split train and test data\n",
    "from sklearn.model_selection import train_test_split\n",
    "X_train, X_test, y_train, y_test = train_test_split(X, y)"
   ]
  },
  {
   "cell_type": "code",
   "execution_count": 23,
   "metadata": {},
   "outputs": [
    {
     "data": {
      "text/plain": [
       "RandomForestClassifier(bootstrap=True, ccp_alpha=0.0, class_weight='balanced',\n",
       "                       criterion='gini', max_depth=None, max_features='auto',\n",
       "                       max_leaf_nodes=None, max_samples=None,\n",
       "                       min_impurity_decrease=0.0, min_impurity_split=None,\n",
       "                       min_samples_leaf=1, min_samples_split=2,\n",
       "                       min_weight_fraction_leaf=0.0, n_estimators=100,\n",
       "                       n_jobs=None, oob_score=False, random_state=None,\n",
       "                       verbose=0, warm_start=False)"
      ]
     },
     "execution_count": 23,
     "metadata": {},
     "output_type": "execute_result"
    }
   ],
   "source": [
    "# Naive Bayes \n",
    "from sklearn.naive_bayes import GaussianNB\n",
    "classifier = GaussianNB()\n",
    "\n",
    "# Random Forest\n",
    "from sklearn.ensemble import RandomForestClassifier\n",
    "classifier = RandomForestClassifier(class_weight='balanced')\n",
    "\n",
    "classifier.fit(X_train, y_train)\n",
    "\n"
   ]
  },
  {
   "cell_type": "code",
   "execution_count": 24,
   "metadata": {},
   "outputs": [],
   "source": [
    "# Predict Class\n",
    "y_pred = classifier.predict(X_test)"
   ]
  },
  {
   "cell_type": "markdown",
   "metadata": {},
   "source": [
    "# 5. Résultats\n",
    "\n",
    "**Objectif :** Avoir un recall le plus élevé possible (on ne doit pas manquer de tweets urgents) tout en gardant une précision correcte"
   ]
  },
  {
   "cell_type": "code",
   "execution_count": 25,
   "metadata": {},
   "outputs": [
    {
     "name": "stderr",
     "output_type": "stream",
     "text": [
      "No handles with labels found to put in legend.\n"
     ]
    },
    {
     "name": "stdout",
     "output_type": "stream",
     "text": [
      "RESULTATS \n",
      "          Accuracy : 79.26% \n",
      " Balanced Accuracy : 52.61% \n",
      "          F1 score : 0.1655\n",
      "         Precision : 26.97% (how many selected items are relevant)\n",
      "            Recall : 11.94% (how many relevant items are selected)\n",
      " \n",
      "\n",
      "STATISTICS\n",
      " Proportion of positives in test set    : 17.22%\n",
      " Proportion of positives in predictions : 7.63%\n"
     ]
    },
    {
     "data": {
      "image/png": "[encoded data removed]",
      "text/plain": [
       "<Figure size 432x288 with 1 Axes>"
      ]
     },
     "metadata": {
      "needs_background": "light"
     },
     "output_type": "display_data"
    }
   ],
   "source": [
    "from sklearn.metrics import *\n",
    "\n",
    "## PRINT SCORES\n",
    "\n",
    "accuracy = accuracy_score(y_test, y_pred)\n",
    "balanced_accuracy = balanced_accuracy_score(y_test, y_pred)\n",
    "\n",
    "f1_score = f1_score(y_test, y_pred)\n",
    "precision_score = precision_score(y_test, y_pred)\n",
    "recall_score = recall_score(y_test, y_pred)\n",
    "\n",
    "\n",
    "string = \"RESULTATS \\n \\\n",
    "         Accuracy : {accuracy}% \\n \\\n",
    "Balanced Accuracy : {balanced_accuracy}% \\n \\\n",
    "         F1 score : {f1_score}\\n \\\n",
    "        Precision : {precision}% (how many selected items are relevant)\\n \\\n",
    "           Recall : {recall}% (how many relevant items are selected)\\n \\\n",
    "\\n\\n\\\n",
    "STATISTICS\\n\\\n",
    " Proportion of positives in test set    : {positives}%\\n\\\n",
    " Proportion of positives in predictions : {predicted_positives}%\\\n",
    "\"\n",
    "\n",
    "print(string.format(accuracy = round(100*accuracy,2),\n",
    "                    balanced_accuracy = round(100*balanced_accuracy,2),\n",
    "                    f1_score = round(f1_score,4), \n",
    "                    precision = round(100*precision_score,2), \n",
    "                    recall = round(100*recall_score,2),\n",
    "                    positives = round(100*y_test.sum()/len(y_test),2),\n",
    "                    predicted_positives = round(100*y_pred.sum()/len(y_pred),2),\n",
    "                   ))\n",
    "\n",
    "\n",
    "## DISPLAY ROC CURVE\n",
    "roc_curve = roc_curve(y_test, classifier.predict_proba(X_test)[:, 1])\n",
    "\n",
    "plt.plot(roc_curve[0], roc_curve[1], color='darkorange',\n",
    "         lw=2)\n",
    "\n",
    "plt.xlim([0.0, 1.0])\n",
    "plt.ylim([0.0, 1.05])\n",
    "plt.xlabel('False Positive Rate')\n",
    "plt.ylabel('True Positive Rate')\n",
    "plt.title('ROC curve')\n",
    "plt.legend(loc=\"lower right\")\n",
    "plt.show()         "
   ]
  },
  {
   "cell_type": "code",
   "execution_count": 26,
   "metadata": {},
   "outputs": [
    {
     "name": "stdout",
     "output_type": "stream",
     "text": [
      "Confusion matrix, without normalization\n",
      "[[2703  195]\n",
      " [ 531   72]]\n",
      "Normalized confusion matrix\n",
      "[[0.93271222 0.06728778]\n",
      " [0.88059701 0.11940299]]\n"
     ]
    },
    {
     "data": {
      "image/png": "[encoded data removed]",
      "text/plain": [
       "<Figure size 432x288 with 2 Axes>"
      ]
     },
     "metadata": {
      "needs_background": "light"
     },
     "output_type": "display_data"
    },
    {
     "data": {
      "image/png": "[encoded data removed]",
      "text/plain": [
       "<Figure size 432x288 with 2 Axes>"
      ]
     },
     "metadata": {
      "needs_background": "light"
     },
     "output_type": "display_data"
    }
   ],
   "source": [
    "# CONFUSION MATRIX\n",
    "titles_options = [(\"Confusion matrix, without normalization\", None),\n",
    "                  (\"Normalized confusion matrix\", 'true')]\n",
    "\n",
    "for title, normalize in titles_options:\n",
    "    disp = plot_confusion_matrix(classifier, X_test, y_test,\n",
    "                                 cmap=plt.cm.Blues,\n",
    "                                 normalize=normalize)\n",
    "    disp.ax_.set_title(title)\n",
    "\n",
    "    print(title)\n",
    "    print(disp.confusion_matrix)\n",
    "\n",
    "plt.show()"
   ]
  },
  {
   "cell_type": "code",
   "execution_count": 31,
   "metadata": {},
   "outputs": [
    {
     "data": {
      "text/plain": [
       "20"
      ]
     },
     "execution_count": 31,
     "metadata": {},
     "output_type": "execute_result"
    }
   ],
   "source": [
    "matrix.vocabulary_['?']"
   ]
  },
  {
   "cell_type": "code",
   "execution_count": 34,
   "metadata": {},
   "outputs": [
    {
     "data": {
      "text/plain": [
       "{'bonjour': 1, '?': 0, 'je': 2, 'suis': 3, 'victor': 4}"
      ]
     },
     "execution_count": 34,
     "metadata": {},
     "output_type": "execute_result"
    }
   ],
   "source": [
    "\n",
    "m = CountVectorizer(max_features=10000, token_pattern=r\"(?u)\\b\\w\\w+\\b|!|\\?\")\n",
    "text=[\"\",\"bonjour? e je suis victor\"]\n",
    "x = m.fit_transform(text).toarray()\n",
    "m.vocabulary_"
   ]
  },
  {
   "cell_type": "code",
   "execution_count": null,
   "metadata": {},
   "outputs": [],
   "source": []
  }
 ],
 "metadata": {
  "kernelspec": {
   "display_name": "Python 3",
   "language": "python",
   "name": "python3"
  },
  "language_info": {
   "codemirror_mode": {
    "name": "ipython",
    "version": 3
   },
   "file_extension": ".py",
   "mimetype": "text/x-python",
   "name": "python",
   "nbconvert_exporter": "python",
   "pygments_lexer": "ipython3",
   "version": "3.7.6"
  }
 },
 "nbformat": 4,
 "nbformat_minor": 2
}
