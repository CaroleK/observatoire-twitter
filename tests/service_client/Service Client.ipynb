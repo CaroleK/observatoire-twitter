{
 "cells": [
  {
   "cell_type": "code",
   "execution_count": 1,
   "metadata": {},
   "outputs": [
    {
     "name": "stderr",
     "output_type": "stream",
     "text": [
      "[nltk_data] Downloading package wordnet to /home/victor/nltk_data...\n",
      "[nltk_data]   Package wordnet is already up-to-date!\n",
      "[nltk_data] Downloading package punkt to /home/victor/nltk_data...\n",
      "[nltk_data]   Package punkt is already up-to-date!\n",
      "[nltk_data] Downloading package averaged_perceptron_tagger to\n",
      "[nltk_data]     /home/victor/nltk_data...\n",
      "[nltk_data]   Package averaged_perceptron_tagger is already up-to-\n",
      "[nltk_data]       date!\n",
      "[nltk_data] Downloading package movie_reviews to\n",
      "[nltk_data]     /home/victor/nltk_data...\n",
      "[nltk_data]   Package movie_reviews is already up-to-date!\n"
     ]
    },
    {
     "name": "stdout",
     "output_type": "stream",
     "text": [
      "Requirement already satisfied: emot in /home/victor/anaconda3/lib/python3.7/site-packages (2.1)\r\n"
     ]
    }
   ],
   "source": [
    "import numpy as np\n",
    "import pandas as pd\n",
    "\n",
    "## Pandas display options\n",
    "pd.set_option('display.max_colwidth', None)\n",
    "pd.set_option('display.max_rows', 400)\n",
    "pd.set_option('display.max_columns', 400)\n",
    "\n",
    "from tqdm.notebook import tqdm\n",
    "import re\n",
    "import nltk\n",
    "import spacy\n",
    "import string\n",
    "import seaborn as sns\n",
    "import math\n",
    "import matplotlib.pyplot as plt\n",
    "from collections import Counter\n",
    "from nltk.corpus import stopwords, wordnet\n",
    "from nltk.stem.porter import PorterStemmer\n",
    "from nltk.stem import WordNetLemmatizer\n",
    "\n",
    "nltk.download('wordnet')\n",
    "nltk.download('punkt')\n",
    "nltk.download('averaged_perceptron_tagger')\n",
    "nltk.download('movie_reviews')\n",
    "\n",
    "from sklearn.preprocessing import StandardScaler \n",
    "from sklearn.metrics import *\n",
    "import sklearn.model_selection\n",
    "from sklearn.model_selection import *\n",
    "from sklearn.linear_model import *\n",
    "from sklearn.ensemble import *\n",
    "from sklearn.svm import *\n",
    "from sklearn.kernel_ridge import KernelRidge\n",
    "from sklearn.neighbors import KNeighborsRegressor\n",
    "from sklearn.neural_network import MLPRegressor\n",
    "from sklearn.feature_extraction.text import *\n",
    "from sklearn.metrics import plot_confusion_matrix\n",
    "from sklearn.naive_bayes import MultinomialNB\n",
    "from sklearn.decomposition import PCA\n",
    "from sklearn.pipeline import Pipeline\n",
    "from sklearn.metrics import classification_report\n",
    "\n",
    "import xgboost as xgb\n",
    "\n",
    "from textblob import TextBlob\n",
    "from textblob.sentiments import NaiveBayesAnalyzer\n",
    "\n",
    "!pip install emot\n",
    "import emot\n",
    "\n",
    "import pickle\n",
    "import logging\n",
    "\n",
    "import gensim"
   ]
  },
  {
   "cell_type": "markdown",
   "metadata": {},
   "source": [
    "# Client support"
   ]
  },
  {
   "cell_type": "markdown",
   "metadata": {},
   "source": [
    "# 1. Data extraction"
   ]
  },
  {
   "cell_type": "code",
   "execution_count": 2,
   "metadata": {},
   "outputs": [],
   "source": [
    "brand = \"amazon\""
   ]
  },
  {
   "cell_type": "code",
   "execution_count": 3,
   "metadata": {},
   "outputs": [],
   "source": [
    "filename = \"../../data/extraction_twint/tweets_data/data_service_clients/with_user_info/\"+brand+\".csv\""
   ]
  },
  {
   "cell_type": "code",
   "execution_count": 4,
   "metadata": {},
   "outputs": [],
   "source": [
    "# All information is in full_df\n",
    "full_df = pd.read_csv(filename, lineterminator='\\n')\n",
    "\n",
    "# Only the info needed is in df\n",
    "df = full_df[[\"tweet\",\"reply_time\",'tweets', 'following', 'followers', 'likes']].copy()\n",
    "df= df.rename(columns={'tweet':'raw'})\n",
    "df= df.rename(columns={'tweets':'nb_tweets_of_user'})"
   ]
  },
  {
   "cell_type": "code",
   "execution_count": 5,
   "metadata": {},
   "outputs": [
    {
     "data": {
      "text/plain": [
       "Index(['Unnamed: 0', 'id', 'conversation_id', 'created_at', 'timezone',\n",
       "       'user_id', 'username', 'name', 'place', 'tweet', 'mentions', 'urls',\n",
       "       'photos', 'replies_count', 'retweets_count', 'likes_count', 'hashtags',\n",
       "       'cashtags', 'link', 'retweet', 'quote_url', 'video', 'near', 'geo',\n",
       "       'source', 'user_rt_id', 'user_rt', 'retweet_id', 'reply_to',\n",
       "       'retweet_date', 'translate', 'trans_src', 'trans_dest', 'datetime',\n",
       "       'reply_time', 'id_user', 'name_user', 'bio', 'location', 'url',\n",
       "       'join_date', 'join_time', 'tweets', 'following', 'followers', 'likes',\n",
       "       'media', 'private', 'verified', 'profile_image_url',\n",
       "       'background_image'],\n",
       "      dtype='object')"
      ]
     },
     "execution_count": 5,
     "metadata": {},
     "output_type": "execute_result"
    }
   ],
   "source": [
    "full_df.columns"
   ]
  },
  {
   "cell_type": "code",
   "execution_count": 6,
   "metadata": {},
   "outputs": [
    {
     "data": {
      "text/plain": [
       "Index(['raw', 'reply_time', 'nb_tweets_of_user', 'following', 'followers',\n",
       "       'likes'],\n",
       "      dtype='object')"
      ]
     },
     "execution_count": 6,
     "metadata": {},
     "output_type": "execute_result"
    }
   ],
   "source": [
    "df.columns"
   ]
  },
  {
   "cell_type": "code",
   "execution_count": 7,
   "metadata": {},
   "outputs": [
    {
     "data": {
      "text/html": [
       "<div>\n",
       "<style scoped>\n",
       "    .dataframe tbody tr th:only-of-type {\n",
       "        vertical-align: middle;\n",
       "    }\n",
       "\n",
       "    .dataframe tbody tr th {\n",
       "        vertical-align: top;\n",
       "    }\n",
       "\n",
       "    .dataframe thead th {\n",
       "        text-align: right;\n",
       "    }\n",
       "</style>\n",
       "<table border=\"1\" class=\"dataframe\">\n",
       "  <thead>\n",
       "    <tr style=\"text-align: right;\">\n",
       "      <th></th>\n",
       "      <th>raw</th>\n",
       "      <th>reply_time</th>\n",
       "      <th>nb_tweets_of_user</th>\n",
       "      <th>following</th>\n",
       "      <th>followers</th>\n",
       "      <th>likes</th>\n",
       "    </tr>\n",
       "  </thead>\n",
       "  <tbody>\n",
       "    <tr>\n",
       "      <th>0</th>\n",
       "      <td>Wt a disgusting amazon ! @JeffBezos @AmitAgarwal . You provide a link where we can put up issue . Its very bad experience for us . @ZeeNews @aajtak @ndtv @htTweets</td>\n",
       "      <td>NaN</td>\n",
       "      <td>191</td>\n",
       "      <td>275</td>\n",
       "      <td>19</td>\n",
       "      <td>246</td>\n",
       "    </tr>\n",
       "    <tr>\n",
       "      <th>1</th>\n",
       "      <td>A pic up boy come to my house for used product bt he not received. He didn’t know the issue and argument with my wife .</td>\n",
       "      <td>0 days 00:05:40.000000000</td>\n",
       "      <td>191</td>\n",
       "      <td>275</td>\n",
       "      <td>19</td>\n",
       "      <td>246</td>\n",
       "    </tr>\n",
       "    <tr>\n",
       "      <th>2</th>\n",
       "      <td>I m not getting your point. Wt will i do  for replacement or money back ?\\nSorry i will not purchase anything from amazon next time . #Meresegltihogei , next time kisi se nhi hone du ga# amazon meri bhool#</td>\n",
       "      <td>0 days 00:06:35.000000000</td>\n",
       "      <td>191</td>\n",
       "      <td>275</td>\n",
       "      <td>19</td>\n",
       "      <td>246</td>\n",
       "    </tr>\n",
       "    <tr>\n",
       "      <th>3</th>\n",
       "      <td>I think you don’t have dignity of valuable customers. Wt a network ! You couldn’t accessible my problem &amp; not pass it to concerned support team . Unbelievable torcher , mentaly also wasting of time , money .</td>\n",
       "      <td>0 days 00:03:19.000000000</td>\n",
       "      <td>191</td>\n",
       "      <td>275</td>\n",
       "      <td>19</td>\n",
       "      <td>246</td>\n",
       "    </tr>\n",
       "    <tr>\n",
       "      <th>4</th>\n",
       "      <td>I am already shared information on link which is provided by you. And also a mail received from amazon team but nobody pic up came for used product. Pls let me know when will it replace?</td>\n",
       "      <td>0 days 00:42:01.000000000</td>\n",
       "      <td>191</td>\n",
       "      <td>275</td>\n",
       "      <td>19</td>\n",
       "      <td>246</td>\n",
       "    </tr>\n",
       "  </tbody>\n",
       "</table>\n",
       "</div>"
      ],
      "text/plain": [
       "                                                                                                                                                                                                               raw  \\\n",
       "0                                              Wt a disgusting amazon ! @JeffBezos @AmitAgarwal . You provide a link where we can put up issue . Its very bad experience for us . @ZeeNews @aajtak @ndtv @htTweets   \n",
       "1                                                                                          A pic up boy come to my house for used product bt he not received. He didn’t know the issue and argument with my wife .   \n",
       "2    I m not getting your point. Wt will i do  for replacement or money back ?\\nSorry i will not purchase anything from amazon next time . #Meresegltihogei , next time kisi se nhi hone du ga# amazon meri bhool#   \n",
       "3  I think you don’t have dignity of valuable customers. Wt a network ! You couldn’t accessible my problem & not pass it to concerned support team . Unbelievable torcher , mentaly also wasting of time , money .   \n",
       "4                       I am already shared information on link which is provided by you. And also a mail received from amazon team but nobody pic up came for used product. Pls let me know when will it replace?   \n",
       "\n",
       "                  reply_time  nb_tweets_of_user  following  followers  likes  \n",
       "0                        NaN                191        275         19    246  \n",
       "1  0 days 00:05:40.000000000                191        275         19    246  \n",
       "2  0 days 00:06:35.000000000                191        275         19    246  \n",
       "3  0 days 00:03:19.000000000                191        275         19    246  \n",
       "4  0 days 00:42:01.000000000                191        275         19    246  "
      ]
     },
     "execution_count": 7,
     "metadata": {},
     "output_type": "execute_result"
    }
   ],
   "source": [
    "df.head()"
   ]
  },
  {
   "cell_type": "code",
   "execution_count": 8,
   "metadata": {},
   "outputs": [
    {
     "data": {
      "text/plain": [
       "(6290, 6)"
      ]
     },
     "execution_count": 8,
     "metadata": {},
     "output_type": "execute_result"
    }
   ],
   "source": [
    "df.shape"
   ]
  },
  {
   "cell_type": "code",
   "execution_count": 9,
   "metadata": {},
   "outputs": [
    {
     "name": "stdout",
     "output_type": "stream",
     "text": [
      "Numbers of tweets without response\n"
     ]
    },
    {
     "data": {
      "text/plain": [
       "1534"
      ]
     },
     "execution_count": 9,
     "metadata": {},
     "output_type": "execute_result"
    }
   ],
   "source": [
    "print(\"Numbers of tweets without response\")\n",
    "sum(df.reply_time.isnull())"
   ]
  },
  {
   "cell_type": "code",
   "execution_count": 10,
   "metadata": {},
   "outputs": [],
   "source": [
    "#reply time to timedelta\n",
    "df['reply_time']=df['reply_time'].map(pd.to_timedelta)\n",
    "\n",
    "#reply time in minutes\n",
    "df['reply_time']=df['reply_time'].map(lambda x: x.days*1440 + x.seconds//60)"
   ]
  },
  {
   "cell_type": "code",
   "execution_count": 11,
   "metadata": {},
   "outputs": [
    {
     "data": {
      "text/plain": [
       "raw                   object\n",
       "reply_time           float64\n",
       "nb_tweets_of_user      int64\n",
       "following              int64\n",
       "followers              int64\n",
       "likes                  int64\n",
       "dtype: object"
      ]
     },
     "execution_count": 11,
     "metadata": {},
     "output_type": "execute_result"
    }
   ],
   "source": [
    "df.dtypes"
   ]
  },
  {
   "cell_type": "code",
   "execution_count": 12,
   "metadata": {},
   "outputs": [],
   "source": [
    "df[\"raw\"] = df[\"raw\"].astype('str')"
   ]
  },
  {
   "cell_type": "code",
   "execution_count": 13,
   "metadata": {},
   "outputs": [
    {
     "data": {
      "text/html": [
       "<div>\n",
       "<style scoped>\n",
       "    .dataframe tbody tr th:only-of-type {\n",
       "        vertical-align: middle;\n",
       "    }\n",
       "\n",
       "    .dataframe tbody tr th {\n",
       "        vertical-align: top;\n",
       "    }\n",
       "\n",
       "    .dataframe thead th {\n",
       "        text-align: right;\n",
       "    }\n",
       "</style>\n",
       "<table border=\"1\" class=\"dataframe\">\n",
       "  <thead>\n",
       "    <tr style=\"text-align: right;\">\n",
       "      <th></th>\n",
       "      <th>raw</th>\n",
       "      <th>reply_time</th>\n",
       "      <th>nb_tweets_of_user</th>\n",
       "      <th>following</th>\n",
       "      <th>followers</th>\n",
       "      <th>likes</th>\n",
       "    </tr>\n",
       "  </thead>\n",
       "  <tbody>\n",
       "    <tr>\n",
       "      <th>1</th>\n",
       "      <td>A pic up boy come to my house for used product bt he not received. He didn’t know the issue and argument with my wife .</td>\n",
       "      <td>5.0</td>\n",
       "      <td>191</td>\n",
       "      <td>275</td>\n",
       "      <td>19</td>\n",
       "      <td>246</td>\n",
       "    </tr>\n",
       "    <tr>\n",
       "      <th>2</th>\n",
       "      <td>I m not getting your point. Wt will i do  for replacement or money back ?\\nSorry i will not purchase anything from amazon next time . #Meresegltihogei , next time kisi se nhi hone du ga# amazon meri bhool#</td>\n",
       "      <td>6.0</td>\n",
       "      <td>191</td>\n",
       "      <td>275</td>\n",
       "      <td>19</td>\n",
       "      <td>246</td>\n",
       "    </tr>\n",
       "    <tr>\n",
       "      <th>3</th>\n",
       "      <td>I think you don’t have dignity of valuable customers. Wt a network ! You couldn’t accessible my problem &amp; not pass it to concerned support team . Unbelievable torcher , mentaly also wasting of time , money .</td>\n",
       "      <td>3.0</td>\n",
       "      <td>191</td>\n",
       "      <td>275</td>\n",
       "      <td>19</td>\n",
       "      <td>246</td>\n",
       "    </tr>\n",
       "    <tr>\n",
       "      <th>4</th>\n",
       "      <td>I am already shared information on link which is provided by you. And also a mail received from amazon team but nobody pic up came for used product. Pls let me know when will it replace?</td>\n",
       "      <td>42.0</td>\n",
       "      <td>191</td>\n",
       "      <td>275</td>\n",
       "      <td>19</td>\n",
       "      <td>246</td>\n",
       "    </tr>\n",
       "    <tr>\n",
       "      <th>5</th>\n",
       "      <td>&amp; pls tell me when amazon pic up old &amp; used shoes from my address? &amp; replacement status?</td>\n",
       "      <td>5.0</td>\n",
       "      <td>191</td>\n",
       "      <td>275</td>\n",
       "      <td>19</td>\n",
       "      <td>246</td>\n",
       "    </tr>\n",
       "    <tr>\n",
       "      <th>...</th>\n",
       "      <td>...</td>\n",
       "      <td>...</td>\n",
       "      <td>...</td>\n",
       "      <td>...</td>\n",
       "      <td>...</td>\n",
       "      <td>...</td>\n",
       "    </tr>\n",
       "    <tr>\n",
       "      <th>6284</th>\n",
       "      <td>I know Amazon is trying to take over the world but they should really leave shipping to the more reliable @UPS @FedEx and @USPS</td>\n",
       "      <td>8.0</td>\n",
       "      <td>1972</td>\n",
       "      <td>367</td>\n",
       "      <td>44</td>\n",
       "      <td>1518</td>\n",
       "    </tr>\n",
       "    <tr>\n",
       "      <th>6285</th>\n",
       "      <td>Amazon shipping I never have issues with @UPS or @FedEx it’s always always Amazon shipping</td>\n",
       "      <td>15.0</td>\n",
       "      <td>1972</td>\n",
       "      <td>367</td>\n",
       "      <td>44</td>\n",
       "      <td>1518</td>\n",
       "    </tr>\n",
       "    <tr>\n",
       "      <th>6286</th>\n",
       "      <td>Yes everytime I have to go pick up my packages</td>\n",
       "      <td>4.0</td>\n",
       "      <td>168</td>\n",
       "      <td>23</td>\n",
       "      <td>69</td>\n",
       "      <td>460</td>\n",
       "    </tr>\n",
       "    <tr>\n",
       "      <th>6287</th>\n",
       "      <td>Thanks for your quick reply, i dont. wanna waste my subscription</td>\n",
       "      <td>2.0</td>\n",
       "      <td>9857</td>\n",
       "      <td>1848</td>\n",
       "      <td>425</td>\n",
       "      <td>1078</td>\n",
       "    </tr>\n",
       "    <tr>\n",
       "      <th>6288</th>\n",
       "      <td>It says Delivery by Amazon. \\nApparently its been delivered to me (Handed to resident) Ive been home all day. Nothing on my door step and ive asked my neighbours</td>\n",
       "      <td>2.0</td>\n",
       "      <td>8742</td>\n",
       "      <td>205</td>\n",
       "      <td>101</td>\n",
       "      <td>2652</td>\n",
       "    </tr>\n",
       "  </tbody>\n",
       "</table>\n",
       "<p>4756 rows × 6 columns</p>\n",
       "</div>"
      ],
      "text/plain": [
       "                                                                                                                                                                                                                  raw  \\\n",
       "1                                                                                             A pic up boy come to my house for used product bt he not received. He didn’t know the issue and argument with my wife .   \n",
       "2       I m not getting your point. Wt will i do  for replacement or money back ?\\nSorry i will not purchase anything from amazon next time . #Meresegltihogei , next time kisi se nhi hone du ga# amazon meri bhool#   \n",
       "3     I think you don’t have dignity of valuable customers. Wt a network ! You couldn’t accessible my problem & not pass it to concerned support team . Unbelievable torcher , mentaly also wasting of time , money .   \n",
       "4                          I am already shared information on link which is provided by you. And also a mail received from amazon team but nobody pic up came for used product. Pls let me know when will it replace?   \n",
       "5                                                                                                                            & pls tell me when amazon pic up old & used shoes from my address? & replacement status?   \n",
       "...                                                                                                                                                                                                               ...   \n",
       "6284                                                                                  I know Amazon is trying to take over the world but they should really leave shipping to the more reliable @UPS @FedEx and @USPS   \n",
       "6285                                                                                                                       Amazon shipping I never have issues with @UPS or @FedEx it’s always always Amazon shipping   \n",
       "6286                                                                                                                                                                   Yes everytime I have to go pick up my packages   \n",
       "6287                                                                                                                                                 Thanks for your quick reply, i dont. wanna waste my subscription   \n",
       "6288                                                It says Delivery by Amazon. \\nApparently its been delivered to me (Handed to resident) Ive been home all day. Nothing on my door step and ive asked my neighbours   \n",
       "\n",
       "      reply_time  nb_tweets_of_user  following  followers  likes  \n",
       "1            5.0                191        275         19    246  \n",
       "2            6.0                191        275         19    246  \n",
       "3            3.0                191        275         19    246  \n",
       "4           42.0                191        275         19    246  \n",
       "5            5.0                191        275         19    246  \n",
       "...          ...                ...        ...        ...    ...  \n",
       "6284         8.0               1972        367         44   1518  \n",
       "6285        15.0               1972        367         44   1518  \n",
       "6286         4.0                168         23         69    460  \n",
       "6287         2.0               9857       1848        425   1078  \n",
       "6288         2.0               8742        205        101   2652  \n",
       "\n",
       "[4756 rows x 6 columns]"
      ]
     },
     "execution_count": 13,
     "metadata": {},
     "output_type": "execute_result"
    }
   ],
   "source": [
    "# Samples of answered tweets\n",
    "df[~np.isnan(df.reply_time)]"
   ]
  },
  {
   "cell_type": "code",
   "execution_count": 14,
   "metadata": {},
   "outputs": [
    {
     "data": {
      "text/html": [
       "<div>\n",
       "<style scoped>\n",
       "    .dataframe tbody tr th:only-of-type {\n",
       "        vertical-align: middle;\n",
       "    }\n",
       "\n",
       "    .dataframe tbody tr th {\n",
       "        vertical-align: top;\n",
       "    }\n",
       "\n",
       "    .dataframe thead th {\n",
       "        text-align: right;\n",
       "    }\n",
       "</style>\n",
       "<table border=\"1\" class=\"dataframe\">\n",
       "  <thead>\n",
       "    <tr style=\"text-align: right;\">\n",
       "      <th></th>\n",
       "      <th>raw</th>\n",
       "      <th>reply_time</th>\n",
       "      <th>nb_tweets_of_user</th>\n",
       "      <th>following</th>\n",
       "      <th>followers</th>\n",
       "      <th>likes</th>\n",
       "    </tr>\n",
       "  </thead>\n",
       "  <tbody>\n",
       "    <tr>\n",
       "      <th>0</th>\n",
       "      <td>Wt a disgusting amazon ! @JeffBezos @AmitAgarwal . You provide a link where we can put up issue . Its very bad experience for us . @ZeeNews @aajtak @ndtv @htTweets</td>\n",
       "      <td>NaN</td>\n",
       "      <td>191</td>\n",
       "      <td>275</td>\n",
       "      <td>19</td>\n",
       "      <td>246</td>\n",
       "    </tr>\n",
       "    <tr>\n",
       "      <th>14</th>\n",
       "      <td>7866061659 is call for refund your money this is fraud yes no</td>\n",
       "      <td>NaN</td>\n",
       "      <td>56</td>\n",
       "      <td>90</td>\n",
       "      <td>0</td>\n",
       "      <td>4</td>\n",
       "    </tr>\n",
       "    <tr>\n",
       "      <th>17</th>\n",
       "      <td>My account is locked mobile no 8882486916</td>\n",
       "      <td>NaN</td>\n",
       "      <td>56</td>\n",
       "      <td>90</td>\n",
       "      <td>0</td>\n",
       "      <td>4</td>\n",
       "    </tr>\n",
       "    <tr>\n",
       "      <th>18</th>\n",
       "      <td>It’s from Amazon @AmazonUK</td>\n",
       "      <td>NaN</td>\n",
       "      <td>89</td>\n",
       "      <td>11</td>\n",
       "      <td>1</td>\n",
       "      <td>39</td>\n",
       "    </tr>\n",
       "    <tr>\n",
       "      <th>19</th>\n",
       "      <td>Check DM. \\nI have sent details.</td>\n",
       "      <td>NaN</td>\n",
       "      <td>4669</td>\n",
       "      <td>65</td>\n",
       "      <td>97</td>\n",
       "      <td>4322</td>\n",
       "    </tr>\n",
       "    <tr>\n",
       "      <th>...</th>\n",
       "      <td>...</td>\n",
       "      <td>...</td>\n",
       "      <td>...</td>\n",
       "      <td>...</td>\n",
       "      <td>...</td>\n",
       "      <td>...</td>\n",
       "    </tr>\n",
       "    <tr>\n",
       "      <th>6268</th>\n",
       "      <td>They offered me another $10, which still leaves them short of the products price. How hard is it to just expedite me another stand? I’m literally trying to be such a nice guy here.</td>\n",
       "      <td>NaN</td>\n",
       "      <td>3123</td>\n",
       "      <td>925</td>\n",
       "      <td>216</td>\n",
       "      <td>11427</td>\n",
       "    </tr>\n",
       "    <tr>\n",
       "      <th>6274</th>\n",
       "      <td>Lol @AmazonHelp  will send you a $5 credit towards your account 😂😂😂</td>\n",
       "      <td>NaN</td>\n",
       "      <td>9325</td>\n",
       "      <td>1450</td>\n",
       "      <td>1498</td>\n",
       "      <td>8550</td>\n",
       "    </tr>\n",
       "    <tr>\n",
       "      <th>6276</th>\n",
       "      <td>I've been told by multiple customer service reps @Amazon that without my billing address, you cannot help me</td>\n",
       "      <td>NaN</td>\n",
       "      <td>764</td>\n",
       "      <td>104</td>\n",
       "      <td>76</td>\n",
       "      <td>145</td>\n",
       "    </tr>\n",
       "    <tr>\n",
       "      <th>6277</th>\n",
       "      <td>Full marks for the speedy response - thank you. But I’m really annoyed you’ve ruined my night in. I had to buy the DVD to continue watching. Thank goodness for @Cex who’ll get me the DVD for tomorrow for £8.</td>\n",
       "      <td>NaN</td>\n",
       "      <td>35230</td>\n",
       "      <td>675</td>\n",
       "      <td>268</td>\n",
       "      <td>155</td>\n",
       "    </tr>\n",
       "    <tr>\n",
       "      <th>6289</th>\n",
       "      <td>@AmazonHelp Hey, if I order this, will it be the same cover as pictured here?  pic.twitter.com/Q1e8V6dfV9</td>\n",
       "      <td>NaN</td>\n",
       "      <td>26279</td>\n",
       "      <td>1826</td>\n",
       "      <td>282</td>\n",
       "      <td>11234</td>\n",
       "    </tr>\n",
       "  </tbody>\n",
       "</table>\n",
       "<p>1534 rows × 6 columns</p>\n",
       "</div>"
      ],
      "text/plain": [
       "                                                                                                                                                                                                                  raw  \\\n",
       "0                                                 Wt a disgusting amazon ! @JeffBezos @AmitAgarwal . You provide a link where we can put up issue . Its very bad experience for us . @ZeeNews @aajtak @ndtv @htTweets   \n",
       "14                                                                                                                                                      7866061659 is call for refund your money this is fraud yes no   \n",
       "17                                                                                                                                                                          My account is locked mobile no 8882486916   \n",
       "18                                                                                                                                                                                         It’s from Amazon @AmazonUK   \n",
       "19                                                                                                                                                                                   Check DM. \\nI have sent details.   \n",
       "...                                                                                                                                                                                                               ...   \n",
       "6268                             They offered me another $10, which still leaves them short of the products price. How hard is it to just expedite me another stand? I’m literally trying to be such a nice guy here.   \n",
       "6274                                                                                                                                              Lol @AmazonHelp  will send you a $5 credit towards your account 😂😂😂   \n",
       "6276                                                                                                     I've been told by multiple customer service reps @Amazon that without my billing address, you cannot help me   \n",
       "6277  Full marks for the speedy response - thank you. But I’m really annoyed you’ve ruined my night in. I had to buy the DVD to continue watching. Thank goodness for @Cex who’ll get me the DVD for tomorrow for £8.   \n",
       "6289                                                                                                        @AmazonHelp Hey, if I order this, will it be the same cover as pictured here?  pic.twitter.com/Q1e8V6dfV9   \n",
       "\n",
       "      reply_time  nb_tweets_of_user  following  followers  likes  \n",
       "0            NaN                191        275         19    246  \n",
       "14           NaN                 56         90          0      4  \n",
       "17           NaN                 56         90          0      4  \n",
       "18           NaN                 89         11          1     39  \n",
       "19           NaN               4669         65         97   4322  \n",
       "...          ...                ...        ...        ...    ...  \n",
       "6268         NaN               3123        925        216  11427  \n",
       "6274         NaN               9325       1450       1498   8550  \n",
       "6276         NaN                764        104         76    145  \n",
       "6277         NaN              35230        675        268    155  \n",
       "6289         NaN              26279       1826        282  11234  \n",
       "\n",
       "[1534 rows x 6 columns]"
      ]
     },
     "execution_count": 14,
     "metadata": {},
     "output_type": "execute_result"
    }
   ],
   "source": [
    "# Samples of unanswered tweets\n",
    "df[np.isnan(df.reply_time)]"
   ]
  },
  {
   "cell_type": "markdown",
   "metadata": {},
   "source": [
    "# 2. Pre-processing"
   ]
  },
  {
   "cell_type": "markdown",
   "metadata": {},
   "source": [
    "### Change text"
   ]
  },
  {
   "cell_type": "code",
   "execution_count": 15,
   "metadata": {
    "scrolled": true
   },
   "outputs": [],
   "source": [
    "def remove_uppercase(text):\n",
    "    return text.lower()\n",
    "    \n",
    "def remove_punctuation(text):\n",
    "    \"\"\"custom function to remove the punctuation\"\"\"  \n",
    "    PUNCT_TO_REMOVE = string.punctuation\n",
    "    return text.translate(str.maketrans('', '', PUNCT_TO_REMOVE))\n",
    "\n",
    "def remove_stopwords(text):\n",
    "    \"\"\"custom function to remove the stopwords\"\"\"\n",
    "    from nltk.corpus import stopwords\n",
    "    STOPWORDS = set(stopwords.words('english'))\n",
    "    return \" \".join([word for word in str(text).split() if word not in STOPWORDS])\n",
    "\n",
    "def remove_urls(text):\n",
    "    words=[]\n",
    "    for w in text.split(\" \"):\n",
    "        if not(w.startswith(\"http\") or w.startswith(\"www\") or w.startswith(\"pic.twitter\")):\n",
    "            words+=[w]\n",
    "    return ' '.join(words)\n",
    "\n",
    "def get_frequent_words(column):\n",
    "    cnt = Counter()\n",
    "    for text in column.values:\n",
    "        for word in text.split():\n",
    "            cnt[word] += 1\n",
    "    FREQWORDS = set([w for (w, wc) in cnt.most_common(20)])\n",
    "    #RAREWORDS = set([w for (w, wc) in cnt.most_common()[:-10-1:-1]])\n",
    "    return FREQWORDS\n",
    "\n",
    "FREQWORDS = get_frequent_words(df.raw)\n",
    "def remove_frequent_words(text, FREQWORDS):\n",
    "    return \" \".join([word for word in str(text).split() if word not in FREQWORDS])\n",
    "\n",
    "def remove_numbers(text):\n",
    "    return re.sub(r'[0-9\\.]+', '', text)\n",
    "\n",
    "def remove_spaces(text):\n",
    "    return re.sub(' +', ' ', text)"
   ]
  },
  {
   "cell_type": "markdown",
   "metadata": {},
   "source": [
    "### Emoticons to words"
   ]
  },
  {
   "cell_type": "code",
   "execution_count": 16,
   "metadata": {},
   "outputs": [
    {
     "name": "stdout",
     "output_type": "stream",
     "text": [
      "game is on  fire fire  loudly_crying_face\n"
     ]
    }
   ],
   "source": [
    "def convert_emojis(text):\n",
    "    emo= emot.emoji(text)\n",
    "    for i in range(len(emo['value'])):\n",
    "        text = text.replace(emo['value'][i], \" \"+ emo['mean'][i]).replace(\":\",\"\")\n",
    "    return text\n",
    "\n",
    "text = \"game is on 🔥🔥 😭\"\n",
    "print(convert_emojis(text))"
   ]
  },
  {
   "cell_type": "markdown",
   "metadata": {},
   "source": [
    "### Chat words conversion"
   ]
  },
  {
   "cell_type": "code",
   "execution_count": 17,
   "metadata": {},
   "outputs": [],
   "source": [
    "words = \"../../source/slang.txt\"\n",
    "with open(words, 'r') as file:\n",
    "    chat_words_str = file.read()"
   ]
  },
  {
   "cell_type": "code",
   "execution_count": 18,
   "metadata": {},
   "outputs": [
    {
     "data": {
      "text/plain": [
       "'one minute Be Right Back'"
      ]
     },
     "execution_count": 18,
     "metadata": {},
     "output_type": "execute_result"
    }
   ],
   "source": [
    "chat_words_map_dict = {}\n",
    "chat_words_list = []\n",
    "\n",
    "for line in chat_words_str.split(\"\\n\"):\n",
    "    if line != \"\":\n",
    "        cw = line.split(\"=\")[0]\n",
    "        cw_expanded = line.split(\"=\")[1]\n",
    "        chat_words_list.append(cw)\n",
    "        chat_words_map_dict[cw] = cw_expanded\n",
    "\n",
    "def chat_words_conversion(text):\n",
    "    new_text = []\n",
    "    for w in text.split():\n",
    "        if w.upper() in chat_words_list:\n",
    "            new_text.append(chat_words_map_dict[w.upper()])\n",
    "        else:\n",
    "            new_text.append(w)\n",
    "    return \" \".join(new_text)\n",
    "\n",
    "chat_words_conversion(\"one minute BRB\")"
   ]
  },
  {
   "cell_type": "code",
   "execution_count": 19,
   "metadata": {},
   "outputs": [],
   "source": [
    "#df.raw.apply(chat_words_conversion)"
   ]
  },
  {
   "cell_type": "markdown",
   "metadata": {},
   "source": [
    "### Stemming"
   ]
  },
  {
   "cell_type": "code",
   "execution_count": 20,
   "metadata": {},
   "outputs": [],
   "source": [
    "#not so good results\n",
    "\n",
    "def stem_words(text):\n",
    "    stemmer = PorterStemmer()\n",
    "    return \" \".join([stemmer.stem(word) for word in text.split()])\n",
    "\n",
    "#df[\"stemmed\"] = df[\"raw\"].apply(lambda text: stem_words(text))\n",
    "#df.head()"
   ]
  },
  {
   "cell_type": "markdown",
   "metadata": {},
   "source": [
    "### Lemmatization"
   ]
  },
  {
   "cell_type": "code",
   "execution_count": 21,
   "metadata": {},
   "outputs": [
    {
     "data": {
      "text/plain": [
       "'hello I be buy a fruit'"
      ]
     },
     "execution_count": 21,
     "metadata": {},
     "output_type": "execute_result"
    }
   ],
   "source": [
    "lemmatizer = WordNetLemmatizer()\n",
    "wordnet_map = {\"N\":wordnet.NOUN, \"V\":wordnet.VERB, \"J\":wordnet.ADJ, \"R\":wordnet.ADV}\n",
    "\n",
    "def lemmatize_words(text):\n",
    "    pos_tagged_text = nltk.pos_tag(text.split())\n",
    "    return \" \".join([lemmatizer.lemmatize(word, wordnet_map.get(pos[0], wordnet.NOUN)) \n",
    "                     for word, pos in pos_tagged_text])\n",
    "    #return \" \".join([lemmatizer.lemmatize(word) for word in text.split()])\n",
    "\n",
    "ex = \"hello I am buying a fruit\"\n",
    "lemmatize_words(ex)\n",
    "#df[\"raw_lemmatized\"] = df[\"raw\"].apply(lambda text: lemmatize_words(text))\n",
    "#df.head()"
   ]
  },
  {
   "cell_type": "markdown",
   "metadata": {},
   "source": [
    "### Tokenisation"
   ]
  },
  {
   "cell_type": "code",
   "execution_count": 22,
   "metadata": {},
   "outputs": [],
   "source": [
    "import re\n",
    "\n",
    "def tokenize(text):\n",
    "    tokens = re.split('\\W+', text)\n",
    "    return tokens\n",
    "\n",
    "#df['tweet_tokenized']=df[\"tweet_lower\"].apply(lambda text: tokenize(text))"
   ]
  },
  {
   "cell_type": "markdown",
   "metadata": {},
   "source": [
    "Final function to do all preprocessing"
   ]
  },
  {
   "cell_type": "code",
   "execution_count": 23,
   "metadata": {},
   "outputs": [],
   "source": [
    "def preprocess(df):\n",
    "    df[\"clean_tweet\"] = df[\"raw\"].apply(lambda text: remove_uppercase(text))\n",
    "    df[\"clean_tweet\"] = df[\"clean_tweet\"].apply(lambda text: remove_punctuation(text))\n",
    "    df[\"clean_tweet\"] = df[\"clean_tweet\"].apply(lambda text: remove_stopwords(text))\n",
    "    df[\"clean_tweet\"] = df[\"clean_tweet\"].apply(lambda text: convert_emojis(text))\n",
    "    #FREQWORDS = get_frequent_words(df.clean_tweet)\n",
    "    #df[\"clean_tweet\"] = df[\"clean_tweet\"].apply(lambda text: remove_frequent_words(text, FREQWORDS))\n",
    "    #df[\"clean_tweet\"] = df[\"clean_tweet\"].apply(lambda text: remove_frequent_words(text))\n",
    "    df[\"clean_tweet\"] = df[\"clean_tweet\"].apply(lambda text: remove_urls(text))\n",
    "    df[\"clean_tweet\"] = df[\"clean_tweet\"].apply(lambda text: chat_words_conversion(text))\n",
    "    df[\"clean_tweet\"] = df[\"clean_tweet\"].apply(lambda text: remove_numbers(text))\n",
    "    \n",
    "    df[\"clean_tweet\"] = df[\"clean_tweet\"].apply(lambda text: lemmatize_words(text))\n",
    "    df[\"clean_tweet\"] = df[\"clean_tweet\"].apply(lambda text: remove_spaces(text))\n",
    "    # Remove small tweets\n",
    "    df = df[df['clean_tweet'].apply(lambda x: len(x) > 3)]\n",
    "    #df[\"clean_tweet_tokenized\"] = df[\"clean_tweet\"].apply(lambda text: tokenize(text))\n",
    "    \n",
    "    return df"
   ]
  },
  {
   "cell_type": "code",
   "execution_count": 24,
   "metadata": {},
   "outputs": [],
   "source": [
    "df = preprocess(df)"
   ]
  },
  {
   "cell_type": "markdown",
   "metadata": {},
   "source": [
    "# 3. Feature engineering & Data analysis"
   ]
  },
  {
   "cell_type": "markdown",
   "metadata": {},
   "source": [
    "### Reply time "
   ]
  },
  {
   "cell_type": "code",
   "execution_count": 25,
   "metadata": {},
   "outputs": [],
   "source": [
    "df['has_reply'] = df['reply_time'].map(lambda x : not(math.isnan(x)))"
   ]
  },
  {
   "cell_type": "code",
   "execution_count": 26,
   "metadata": {},
   "outputs": [
    {
     "data": {
      "text/plain": [
       "True     4722\n",
       "False    1526\n",
       "Name: has_reply, dtype: int64"
      ]
     },
     "execution_count": 26,
     "metadata": {},
     "output_type": "execute_result"
    }
   ],
   "source": [
    "df['has_reply'].value_counts()"
   ]
  },
  {
   "cell_type": "code",
   "execution_count": 27,
   "metadata": {},
   "outputs": [
    {
     "name": "stdout",
     "output_type": "stream",
     "text": [
      "Pourcentage de tweets répondus\n"
     ]
    },
    {
     "data": {
      "text/plain": [
       "75.57618437900128"
      ]
     },
     "execution_count": 27,
     "metadata": {},
     "output_type": "execute_result"
    }
   ],
   "source": [
    "print (\"Pourcentage de tweets répondus\")\n",
    "len(df[df['has_reply']==True])*100/len(df)"
   ]
  },
  {
   "cell_type": "code",
   "execution_count": 28,
   "metadata": {
    "scrolled": true
   },
   "outputs": [
    {
     "data": {
      "image/png": "[encoded data removed]",
      "text/plain": [
       "<Figure size 432x288 with 1 Axes>"
      ]
     },
     "metadata": {
      "needs_background": "light"
     },
     "output_type": "display_data"
    }
   ],
   "source": [
    "bins=np.linspace(0,100,100)\n",
    "plt.hist(df['reply_time'],bins)\n",
    "plt.show()"
   ]
  },
  {
   "cell_type": "code",
   "execution_count": 29,
   "metadata": {
    "scrolled": true
   },
   "outputs": [
    {
     "name": "stdout",
     "output_type": "stream",
     "text": [
      "count   4722.000000\n",
      "mean      28.329310\n",
      "std      192.423197\n",
      "min        0.000000\n",
      "25%        3.000000\n",
      "50%        5.000000\n",
      "75%       10.000000\n",
      "max     4435.000000\n",
      "Name: reply_time, dtype: float64\n"
     ]
    }
   ],
   "source": [
    "with pd.option_context('float_format', '{:f}'.format):\n",
    "    print(df.reply_time.describe())"
   ]
  },
  {
   "cell_type": "code",
   "execution_count": 30,
   "metadata": {},
   "outputs": [],
   "source": [
    "df[\"reply_time\"] = df[\"reply_time\"].astype('float')"
   ]
  },
  {
   "cell_type": "code",
   "execution_count": 31,
   "metadata": {
    "scrolled": true
   },
   "outputs": [
    {
     "name": "stdout",
     "output_type": "stream",
     "text": [
      "count   4651.000000\n",
      "mean      28.761772\n",
      "std      193.854584\n",
      "min        1.000000\n",
      "25%        3.000000\n",
      "50%        5.000000\n",
      "75%       10.000000\n",
      "max     4435.000000\n",
      "Name: reply_time, dtype: float64\n"
     ]
    }
   ],
   "source": [
    "with pd.option_context('float_format', '{:f}'.format):\n",
    "    print(df[df[\"reply_time\"]>0].reply_time.describe())"
   ]
  },
  {
   "cell_type": "markdown",
   "metadata": {},
   "source": [
    "##### Create a target column if we want classification to be more precise "
   ]
  },
  {
   "cell_type": "code",
   "execution_count": 32,
   "metadata": {
    "scrolled": true
   },
   "outputs": [
    {
     "data": {
      "text/plain": [
       "2018"
      ]
     },
     "execution_count": 32,
     "metadata": {},
     "output_type": "execute_result"
    }
   ],
   "source": [
    "len(df[df.reply_time<5])"
   ]
  },
  {
   "cell_type": "code",
   "execution_count": 33,
   "metadata": {},
   "outputs": [
    {
     "data": {
      "text/html": [
       "<div>\n",
       "<style scoped>\n",
       "    .dataframe tbody tr th:only-of-type {\n",
       "        vertical-align: middle;\n",
       "    }\n",
       "\n",
       "    .dataframe tbody tr th {\n",
       "        vertical-align: top;\n",
       "    }\n",
       "\n",
       "    .dataframe thead th {\n",
       "        text-align: right;\n",
       "    }\n",
       "</style>\n",
       "<table border=\"1\" class=\"dataframe\">\n",
       "  <thead>\n",
       "    <tr style=\"text-align: right;\">\n",
       "      <th></th>\n",
       "      <th>raw</th>\n",
       "      <th>reply_time</th>\n",
       "      <th>nb_tweets_of_user</th>\n",
       "      <th>following</th>\n",
       "      <th>followers</th>\n",
       "      <th>likes</th>\n",
       "      <th>clean_tweet</th>\n",
       "      <th>has_reply</th>\n",
       "    </tr>\n",
       "  </thead>\n",
       "  <tbody>\n",
       "    <tr>\n",
       "      <th>3</th>\n",
       "      <td>I think you don’t have dignity of valuable customers. Wt a network ! You couldn’t accessible my problem &amp; not pass it to concerned support team . Unbelievable torcher , mentaly also wasting of time , money .</td>\n",
       "      <td>3.0</td>\n",
       "      <td>191</td>\n",
       "      <td>275</td>\n",
       "      <td>19</td>\n",
       "      <td>246</td>\n",
       "      <td>think don’t dignity valuable customer wt network couldn’t accessible problem pas concern support team unbelievable torcher mentaly also waste time money</td>\n",
       "      <td>True</td>\n",
       "    </tr>\n",
       "    <tr>\n",
       "      <th>7</th>\n",
       "      <td>Pls find attachment... this is my detail pic.twitter.com/aBpjt1O0cS</td>\n",
       "      <td>2.0</td>\n",
       "      <td>191</td>\n",
       "      <td>275</td>\n",
       "      <td>19</td>\n",
       "      <td>246</td>\n",
       "      <td>Please find attachment detail pictwittercomabpjtocs</td>\n",
       "      <td>True</td>\n",
       "    </tr>\n",
       "    <tr>\n",
       "      <th>9</th>\n",
       "      <td>How many time i will share detail ? . I am not a animal who live in jungl.. i have lot of work so you can take my order detail from attachment. Disgusting! @JeffBezos pic.twitter.com/xQV3KQXEt9</td>\n",
       "      <td>1.0</td>\n",
       "      <td>191</td>\n",
       "      <td>275</td>\n",
       "      <td>19</td>\n",
       "      <td>246</td>\n",
       "      <td>many time share detail animal live jungl lot work take order detail attachment disgust jeffbezos pictwittercomxqvkqxet</td>\n",
       "      <td>True</td>\n",
       "    </tr>\n",
       "    <tr>\n",
       "      <th>10</th>\n",
       "      <td>It’s disrespectful for us . We are trying to talk amazon team but they directly refused that its your order we can’t help . And why are you expect from us that we will not put this matter on publicly. Wah! @JeffBezos</td>\n",
       "      <td>4.0</td>\n",
       "      <td>191</td>\n",
       "      <td>275</td>\n",
       "      <td>19</td>\n",
       "      <td>246</td>\n",
       "      <td>it’s disrespectful u try talk amazon team directly refuse order can’t help expect u put matter publicly wah jeffbezos</td>\n",
       "      <td>True</td>\n",
       "    </tr>\n",
       "    <tr>\n",
       "      <th>11</th>\n",
       "      <td>@AmazonHelp I couldn’t receive my originiazl order as per my order specifications . I have received old shoes as per my order number 407-8606818-4694719. Pls solve my problems on urgent base . Nobody responded from amazon support team and rudely talk to m wfe  pic.twitter.com/TCPtsLC3sE</td>\n",
       "      <td>4.0</td>\n",
       "      <td>191</td>\n",
       "      <td>275</td>\n",
       "      <td>19</td>\n",
       "      <td>246</td>\n",
       "      <td>amazonhelp couldn’t receive originiazl order per order specification receive old shoe per order number Please solve problem urgent base nobody respond amazon support team rudely talk wfe pictwittercomtcptslcse</td>\n",
       "      <td>True</td>\n",
       "    </tr>\n",
       "  </tbody>\n",
       "</table>\n",
       "</div>"
      ],
      "text/plain": [
       "                                                                                                                                                                                                                                                                                                raw  \\\n",
       "3                                                                                   I think you don’t have dignity of valuable customers. Wt a network ! You couldn’t accessible my problem & not pass it to concerned support team . Unbelievable torcher , mentaly also wasting of time , money .   \n",
       "7                                                                                                                                                                                                                               Pls find attachment... this is my detail pic.twitter.com/aBpjt1O0cS   \n",
       "9                                                                                                 How many time i will share detail ? . I am not a animal who live in jungl.. i have lot of work so you can take my order detail from attachment. Disgusting! @JeffBezos pic.twitter.com/xQV3KQXEt9   \n",
       "10                                                                         It’s disrespectful for us . We are trying to talk amazon team but they directly refused that its your order we can’t help . And why are you expect from us that we will not put this matter on publicly. Wah! @JeffBezos   \n",
       "11  @AmazonHelp I couldn’t receive my originiazl order as per my order specifications . I have received old shoes as per my order number 407-8606818-4694719. Pls solve my problems on urgent base . Nobody responded from amazon support team and rudely talk to m wfe  pic.twitter.com/TCPtsLC3sE   \n",
       "\n",
       "    reply_time  nb_tweets_of_user  following  followers  likes  \\\n",
       "3          3.0                191        275         19    246   \n",
       "7          2.0                191        275         19    246   \n",
       "9          1.0                191        275         19    246   \n",
       "10         4.0                191        275         19    246   \n",
       "11         4.0                191        275         19    246   \n",
       "\n",
       "                                                                                                                                                                                                          clean_tweet  \\\n",
       "3                                                            think don’t dignity valuable customer wt network couldn’t accessible problem pas concern support team unbelievable torcher mentaly also waste time money   \n",
       "7                                                                                                                                                                 Please find attachment detail pictwittercomabpjtocs   \n",
       "9                                                                                              many time share detail animal live jungl lot work take order detail attachment disgust jeffbezos pictwittercomxqvkqxet   \n",
       "10                                                                                              it’s disrespectful u try talk amazon team directly refuse order can’t help expect u put matter publicly wah jeffbezos   \n",
       "11  amazonhelp couldn’t receive originiazl order per order specification receive old shoe per order number Please solve problem urgent base nobody respond amazon support team rudely talk wfe pictwittercomtcptslcse   \n",
       "\n",
       "    has_reply  \n",
       "3        True  \n",
       "7        True  \n",
       "9        True  \n",
       "10       True  \n",
       "11       True  "
      ]
     },
     "execution_count": 33,
     "metadata": {},
     "output_type": "execute_result"
    }
   ],
   "source": [
    "df[df.reply_time<5].head()"
   ]
  },
  {
   "cell_type": "code",
   "execution_count": 34,
   "metadata": {},
   "outputs": [],
   "source": [
    "# Tweet is urgent if answer in less than 5 minutes\n",
    "df['objective'] = df['reply_time'].map(lambda x : (x < 8))"
   ]
  },
  {
   "cell_type": "code",
   "execution_count": 35,
   "metadata": {},
   "outputs": [
    {
     "data": {
      "text/plain": [
       "False    3173\n",
       "True     3075\n",
       "Name: objective, dtype: int64"
      ]
     },
     "execution_count": 35,
     "metadata": {},
     "output_type": "execute_result"
    }
   ],
   "source": [
    "df.objective.value_counts()"
   ]
  },
  {
   "cell_type": "code",
   "execution_count": 36,
   "metadata": {},
   "outputs": [
    {
     "name": "stdout",
     "output_type": "stream",
     "text": [
      "Pourcentage de tweets catégorisés positifs pour l'urgence\n"
     ]
    },
    {
     "data": {
      "text/plain": [
       "49.2157490396927"
      ]
     },
     "execution_count": 36,
     "metadata": {},
     "output_type": "execute_result"
    }
   ],
   "source": [
    "print (\"Pourcentage de tweets catégorisés positifs pour l'urgence\")\n",
    "len(df[df['objective']==True])*100/len(df)"
   ]
  },
  {
   "cell_type": "markdown",
   "metadata": {},
   "source": [
    "### Tweet length"
   ]
  },
  {
   "cell_type": "code",
   "execution_count": 37,
   "metadata": {},
   "outputs": [],
   "source": [
    "df['length']=df['raw'].apply(lambda x:len(x)-x.count(\" \"))"
   ]
  },
  {
   "cell_type": "code",
   "execution_count": 38,
   "metadata": {},
   "outputs": [
    {
     "data": {
      "text/plain": [
       "<matplotlib.axes._subplots.AxesSubplot at 0x7fe27a4b7150>"
      ]
     },
     "execution_count": 38,
     "metadata": {},
     "output_type": "execute_result"
    },
    {
     "data": {
      "image/png": "[encoded data removed]",
      "text/plain": [
       "<Figure size 432x288 with 1 Axes>"
      ]
     },
     "metadata": {
      "needs_background": "light"
     },
     "output_type": "display_data"
    }
   ],
   "source": [
    "df.length.plot.hist(bins=7)"
   ]
  },
  {
   "cell_type": "code",
   "execution_count": 39,
   "metadata": {},
   "outputs": [
    {
     "name": "stderr",
     "output_type": "stream",
     "text": [
      "/home/victor/anaconda3/lib/python3.7/site-packages/ipykernel_launcher.py:2: MatplotlibDeprecationWarning: \n",
      "The 'normed' kwarg was deprecated in Matplotlib 2.1 and will be removed in 3.1. Use 'density' instead.\n",
      "  \n",
      "/home/victor/anaconda3/lib/python3.7/site-packages/ipykernel_launcher.py:3: MatplotlibDeprecationWarning: \n",
      "The 'normed' kwarg was deprecated in Matplotlib 2.1 and will be removed in 3.1. Use 'density' instead.\n",
      "  This is separate from the ipykernel package so we can avoid doing imports until\n"
     ]
    },
    {
     "data": {
      "image/png": "[encoded data removed]",
      "text/plain": [
       "<Figure size 432x288 with 1 Axes>"
      ]
     },
     "metadata": {
      "needs_background": "light"
     },
     "output_type": "display_data"
    }
   ],
   "source": [
    "bins=np.linspace(0,430,30)\n",
    "plt.hist(df[df.has_reply==True]['length'],bins, alpha=0.5, normed=True, label='Urgent')\n",
    "plt.hist(df[df.has_reply==False]['length'],bins, alpha=0.5, normed=True, label='Non-Urgent')\n",
    "plt.legend(loc='upper right')\n",
    "plt.xlabel(\"Length of tweet\")\n",
    "plt.ylabel(\"Frequency\")\n",
    "plt.show()"
   ]
  },
  {
   "cell_type": "code",
   "execution_count": 40,
   "metadata": {},
   "outputs": [
    {
     "data": {
      "text/plain": [
       "Text(0.5, 1.0, 'Distribution of urgent tweets (True) and non-urgent (False) according to tweet length')"
      ]
     },
     "execution_count": 40,
     "metadata": {},
     "output_type": "execute_result"
    },
    {
     "data": {
      "image/png": "[encoded data removed]",
      "text/plain": [
       "<Figure size 432x288 with 1 Axes>"
      ]
     },
     "metadata": {
      "needs_background": "light"
     },
     "output_type": "display_data"
    }
   ],
   "source": [
    "replies = df.has_reply.unique()\n",
    "plt.hist([df.loc[df.has_reply == x, 'length'] for x in replies], label=replies, stacked=True, bins=30)\n",
    "plt.legend(loc='upper right')\n",
    "plt.xlabel(\"Length of tweet\")\n",
    "plt.ylabel(\"Number of tweets\")\n",
    "plt.title(\"Distribution of urgent tweets (True) and non-urgent (False) according to tweet length\")"
   ]
  },
  {
   "cell_type": "code",
   "execution_count": 41,
   "metadata": {},
   "outputs": [
    {
     "data": {
      "text/plain": [
       "count    6248.000000\n",
       "mean      116.230314\n",
       "std        72.447957\n",
       "min         4.000000\n",
       "25%        54.000000\n",
       "50%       106.000000\n",
       "75%       178.000000\n",
       "max       421.000000\n",
       "Name: length, dtype: float64"
      ]
     },
     "execution_count": 41,
     "metadata": {},
     "output_type": "execute_result"
    }
   ],
   "source": [
    "df.length.describe()"
   ]
  },
  {
   "cell_type": "markdown",
   "metadata": {},
   "source": [
    "### Uppercase percentage"
   ]
  },
  {
   "cell_type": "code",
   "execution_count": 42,
   "metadata": {},
   "outputs": [],
   "source": [
    "def count_upper(text):\n",
    "    count = sum([1 for char in text if char.isupper()])\n",
    "    return round(count/(len(text)-text.count(\" \")),3)*100\n",
    "\n",
    "df['upper']=df['raw'].apply(count_upper)"
   ]
  },
  {
   "cell_type": "code",
   "execution_count": 43,
   "metadata": {},
   "outputs": [
    {
     "data": {
      "text/plain": [
       "Text(0.5, 1.0, 'Distribution of urgent tweets (True) and non-urgent (False) according to upper character density')"
      ]
     },
     "execution_count": 43,
     "metadata": {},
     "output_type": "execute_result"
    },
    {
     "data": {
      "image/png": "[encoded data removed]",
      "text/plain": [
       "<Figure size 432x288 with 1 Axes>"
      ]
     },
     "metadata": {
      "needs_background": "light"
     },
     "output_type": "display_data"
    }
   ],
   "source": [
    "replies = df.has_reply.unique()\n",
    "plt.hist([df.loc[df.has_reply == x, 'upper'] for x in replies], label=replies, stacked=True, bins=30)\n",
    "plt.legend(loc='upper right')\n",
    "plt.xlabel(\"Upper character density, in %\")\n",
    "plt.ylabel(\"Number of tweets\")\n",
    "plt.title(\"Distribution of urgent tweets (True) and non-urgent (False) according to upper character density\")"
   ]
  },
  {
   "cell_type": "markdown",
   "metadata": {},
   "source": [
    "### Punctuation percentage"
   ]
  },
  {
   "cell_type": "code",
   "execution_count": 44,
   "metadata": {},
   "outputs": [],
   "source": [
    "def count_punct(text):\n",
    "    count = sum([1 for char in text if char in string.punctuation])\n",
    "    return round(count/(len(text)-text.count(\" \")),3)*100\n",
    "\n",
    "df['punct']=df['raw'].apply(count_punct)"
   ]
  },
  {
   "cell_type": "code",
   "execution_count": 45,
   "metadata": {},
   "outputs": [
    {
     "data": {
      "text/plain": [
       "<matplotlib.axes._subplots.AxesSubplot at 0x7fe27a1f5a50>"
      ]
     },
     "execution_count": 45,
     "metadata": {},
     "output_type": "execute_result"
    },
    {
     "data": {
      "image/png": "[encoded data removed]",
      "text/plain": [
       "<Figure size 432x288 with 1 Axes>"
      ]
     },
     "metadata": {
      "needs_background": "light"
     },
     "output_type": "display_data"
    }
   ],
   "source": [
    "df.punct.plot.hist(bins=20)"
   ]
  },
  {
   "cell_type": "code",
   "execution_count": 46,
   "metadata": {},
   "outputs": [
    {
     "name": "stderr",
     "output_type": "stream",
     "text": [
      "/home/victor/anaconda3/lib/python3.7/site-packages/ipykernel_launcher.py:2: MatplotlibDeprecationWarning: \n",
      "The 'normed' kwarg was deprecated in Matplotlib 2.1 and will be removed in 3.1. Use 'density' instead.\n",
      "  \n",
      "/home/victor/anaconda3/lib/python3.7/site-packages/ipykernel_launcher.py:3: MatplotlibDeprecationWarning: \n",
      "The 'normed' kwarg was deprecated in Matplotlib 2.1 and will be removed in 3.1. Use 'density' instead.\n",
      "  This is separate from the ipykernel package so we can avoid doing imports until\n"
     ]
    },
    {
     "data": {
      "image/png": "[encoded data removed]",
      "text/plain": [
       "<Figure size 432x288 with 1 Axes>"
      ]
     },
     "metadata": {
      "needs_background": "light"
     },
     "output_type": "display_data"
    }
   ],
   "source": [
    "bins=np.linspace(0,15,30)\n",
    "plt.hist(df[df.has_reply==True]['punct'],bins, alpha=0.5, normed=True, label='Urgent')\n",
    "plt.hist(df[df.has_reply==False]['punct'],bins, alpha=0.5, normed=True, label='Non-Urgent')\n",
    "plt.legend(loc='upper right')\n",
    "plt.show()"
   ]
  },
  {
   "cell_type": "code",
   "execution_count": 47,
   "metadata": {},
   "outputs": [
    {
     "data": {
      "text/plain": [
       "count    6248.000000\n",
       "mean        4.506466\n",
       "std         3.549013\n",
       "min         0.000000\n",
       "25%         2.300000\n",
       "50%         3.900000\n",
       "75%         5.900000\n",
       "max        44.400000\n",
       "Name: punct, dtype: float64"
      ]
     },
     "execution_count": 47,
     "metadata": {},
     "output_type": "execute_result"
    }
   ],
   "source": [
    "df.punct.describe()"
   ]
  },
  {
   "cell_type": "code",
   "execution_count": 48,
   "metadata": {},
   "outputs": [
    {
     "data": {
      "text/plain": [
       "Text(0.5, 1.0, 'Distribution of urgent tweets (True) and non-urgent (False) according to punctuation density')"
      ]
     },
     "execution_count": 48,
     "metadata": {},
     "output_type": "execute_result"
    },
    {
     "data": {
      "image/png": "[encoded data removed]",
      "text/plain": [
       "<Figure size 432x288 with 1 Axes>"
      ]
     },
     "metadata": {
      "needs_background": "light"
     },
     "output_type": "display_data"
    }
   ],
   "source": [
    "replies = df.has_reply.unique()\n",
    "plt.hist([df.loc[df.has_reply == x, 'punct'] for x in replies], label=replies, stacked=True, bins=30)\n",
    "plt.legend(loc='upper right')\n",
    "plt.xlabel(\"Punctuation density, in %\")\n",
    "plt.ylabel(\"Number of tweets\")\n",
    "plt.title(\"Distribution of urgent tweets (True) and non-urgent (False) according to punctuation density\")"
   ]
  },
  {
   "cell_type": "markdown",
   "metadata": {},
   "source": [
    "### Direct mention of brand in tweet"
   ]
  },
  {
   "cell_type": "code",
   "execution_count": 49,
   "metadata": {},
   "outputs": [],
   "source": [
    "brand_account = \"@AmazonHelp\""
   ]
  },
  {
   "cell_type": "code",
   "execution_count": 50,
   "metadata": {},
   "outputs": [],
   "source": [
    "df[\"direct_mention\"] = df[\"raw\"].apply(lambda x: brand_account in x)"
   ]
  },
  {
   "cell_type": "code",
   "execution_count": 51,
   "metadata": {},
   "outputs": [
    {
     "data": {
      "text/plain": [
       "False    4587\n",
       "True     1661\n",
       "Name: direct_mention, dtype: int64"
      ]
     },
     "execution_count": 51,
     "metadata": {},
     "output_type": "execute_result"
    }
   ],
   "source": [
    "df.direct_mention.value_counts()"
   ]
  },
  {
   "cell_type": "code",
   "execution_count": 52,
   "metadata": {},
   "outputs": [
    {
     "name": "stderr",
     "output_type": "stream",
     "text": [
      "<string>:6: RuntimeWarning: Converting input from bool to <class 'numpy.uint8'> for compatibility.\n",
      "<string>:6: RuntimeWarning: Converting input from bool to <class 'numpy.uint8'> for compatibility.\n"
     ]
    },
    {
     "data": {
      "text/plain": [
       "Text(0.5, 1.0, 'Distribution of urgent tweets (True) and non-urgent (False) according to direct_mention')"
      ]
     },
     "execution_count": 52,
     "metadata": {},
     "output_type": "execute_result"
    },
    {
     "data": {
      "image/png": "[encoded data removed]",
      "text/plain": [
       "<Figure size 432x288 with 1 Axes>"
      ]
     },
     "metadata": {
      "needs_background": "light"
     },
     "output_type": "display_data"
    }
   ],
   "source": [
    "replies = df.has_reply.unique()\n",
    "plt.hist([df.loc[df.has_reply == x, 'direct_mention'] for x in replies], label=replies, stacked=True, bins=30)\n",
    "plt.legend(loc='upper right')\n",
    "plt.xlabel(\"Direct_mention\")\n",
    "plt.ylabel(\"Number of tweets\")\n",
    "plt.title(\"Distribution of urgent tweets (True) and non-urgent (False) according to direct_mention\")"
   ]
  },
  {
   "cell_type": "code",
   "execution_count": 53,
   "metadata": {},
   "outputs": [
    {
     "data": {
      "text/plain": [
       "65.92414208308249"
      ]
     },
     "execution_count": 53,
     "metadata": {},
     "output_type": "execute_result"
    }
   ],
   "source": [
    "len(df[(df['direct_mention']==True)&(df['has_reply']==True)])*100/len(df[df['direct_mention']==True])"
   ]
  },
  {
   "cell_type": "code",
   "execution_count": 54,
   "metadata": {},
   "outputs": [
    {
     "data": {
      "text/plain": [
       "34.07585791691752"
      ]
     },
     "execution_count": 54,
     "metadata": {},
     "output_type": "execute_result"
    }
   ],
   "source": [
    "len(df[(df['direct_mention']==True)&(df['has_reply']==False)])*100/len(df[df['direct_mention']==True])"
   ]
  },
  {
   "cell_type": "code",
   "execution_count": 55,
   "metadata": {},
   "outputs": [
    {
     "data": {
      "text/plain": [
       "79.07128842380641"
      ]
     },
     "execution_count": 55,
     "metadata": {},
     "output_type": "execute_result"
    }
   ],
   "source": [
    "len(df[(df['direct_mention']==False)&(df['has_reply']==True)])*100/len(df[df['direct_mention']==False])"
   ]
  },
  {
   "cell_type": "code",
   "execution_count": 56,
   "metadata": {},
   "outputs": [
    {
     "data": {
      "text/plain": [
       "20.928711576193592"
      ]
     },
     "execution_count": 56,
     "metadata": {},
     "output_type": "execute_result"
    }
   ],
   "source": [
    "len(df[(df['direct_mention']==False)&(df['has_reply']==False)])*100/len(df[df['direct_mention']==False])"
   ]
  },
  {
   "cell_type": "code",
   "execution_count": 57,
   "metadata": {},
   "outputs": [
    {
     "data": {
      "text/plain": [
       "Text(0.5, 1.0, 'Distribution of tweets containing a direct mention')"
      ]
     },
     "execution_count": 57,
     "metadata": {},
     "output_type": "execute_result"
    },
    {
     "data": {
      "image/png": "[encoded data removed]",
      "text/plain": [
       "<Figure size 432x288 with 1 Axes>"
      ]
     },
     "metadata": {},
     "output_type": "display_data"
    }
   ],
   "source": [
    "values = [33.9, 66]\n",
    "plt.pie(values, labels=df.has_reply.unique(), autopct='%1.1f%%', startangle=90)\n",
    "plt.title(\"Distribution of tweets containing a direct mention\")"
   ]
  },
  {
   "cell_type": "code",
   "execution_count": 58,
   "metadata": {},
   "outputs": [
    {
     "data": {
      "text/plain": [
       "Text(0.5, 1.0, 'Distribution of tweets not containing a direct mention')"
      ]
     },
     "execution_count": 58,
     "metadata": {},
     "output_type": "execute_result"
    },
    {
     "data": {
      "image/png": "[encoded data removed]",
      "text/plain": [
       "<Figure size 432x288 with 1 Axes>"
      ]
     },
     "metadata": {},
     "output_type": "display_data"
    }
   ],
   "source": [
    "values = [20.9, 79.1]\n",
    "plt.pie(values, labels=df.has_reply.unique(), autopct='%1.1f%%', startangle=90)\n",
    "plt.title(\"Distribution of tweets not containing a direct mention\")"
   ]
  },
  {
   "cell_type": "markdown",
   "metadata": {},
   "source": [
    "### Sentiment analysis of tweet"
   ]
  },
  {
   "cell_type": "code",
   "execution_count": 59,
   "metadata": {},
   "outputs": [
    {
     "data": {
      "text/plain": [
       "True"
      ]
     },
     "execution_count": 59,
     "metadata": {},
     "output_type": "execute_result"
    }
   ],
   "source": [
    "##SENTIMENT ANALYSIS\n",
    "\n",
    "text = \"Literally about to cancel Amazon Prime. Pretty much the only reason being the removal of Seinfeld! Sorry @primevideouk @AmazonHelp\"\n",
    "text = \"I love that\"\n",
    "\n",
    "opinion = TextBlob(text, analyzer=NaiveBayesAnalyzer())\n",
    "opinion.sentiment\n",
    "opinion.sentiment.classification == 'pos'"
   ]
  },
  {
   "cell_type": "code",
   "execution_count": 60,
   "metadata": {},
   "outputs": [
    {
     "name": "stderr",
     "output_type": "stream",
     "text": [
      "/home/victor/anaconda3/lib/python3.7/site-packages/tqdm/std.py:658: FutureWarning: The Panel class is removed from pandas. Accessing it from the top-level namespace will also be removed in the next version\n",
      "  from pandas import Panel\n"
     ]
    },
    {
     "data": {
      "application/vnd.jupyter.widget-view+json": {
       "model_id": "ae74f31f76c44181932448500f5bf56a",
       "version_major": 2,
       "version_minor": 0
      },
      "text/plain": [
       "HBox(children=(FloatProgress(value=0.0, max=6248.0), HTML(value='')))"
      ]
     },
     "metadata": {},
     "output_type": "display_data"
    },
    {
     "name": "stdout",
     "output_type": "stream",
     "text": [
      "\n"
     ]
    }
   ],
   "source": [
    "tqdm.pandas()\n",
    "analyzer=NaiveBayesAnalyzer()\n",
    "df[\"positive_sentiment\"] = df[\"raw\"].progress_apply(lambda x:  TextBlob(x, analyzer=analyzer).sentiment.classification == 'pos')"
   ]
  },
  {
   "cell_type": "code",
   "execution_count": 61,
   "metadata": {},
   "outputs": [
    {
     "data": {
      "text/plain": [
       "Text(0.5, 1.0, 'Distribution of urgent tweets (True) and non-urgent (False) according to sentiment')"
      ]
     },
     "execution_count": 61,
     "metadata": {},
     "output_type": "execute_result"
    },
    {
     "data": {
      "image/png": "[encoded data removed]",
      "text/plain": [
       "<Figure size 432x288 with 1 Axes>"
      ]
     },
     "metadata": {
      "needs_background": "light"
     },
     "output_type": "display_data"
    }
   ],
   "source": [
    "replies = df.has_reply.unique()\n",
    "plt.hist([df.loc[df.has_reply == x, 'positive_sentiment'] for x in replies], label=replies, stacked=True)\n",
    "plt.legend(loc='upper right')\n",
    "plt.xlabel(\"Sentiment\")\n",
    "plt.ylabel(\"Number of tweets\")\n",
    "plt.title(\"Distribution of urgent tweets (True) and non-urgent (False) according to sentiment\")"
   ]
  },
  {
   "cell_type": "code",
   "execution_count": 62,
   "metadata": {},
   "outputs": [
    {
     "data": {
      "text/plain": [
       "True     3638\n",
       "False    2610\n",
       "Name: positive_sentiment, dtype: int64"
      ]
     },
     "execution_count": 62,
     "metadata": {},
     "output_type": "execute_result"
    }
   ],
   "source": [
    "df.positive_sentiment.value_counts()"
   ]
  },
  {
   "cell_type": "markdown",
   "metadata": {},
   "source": [
    "### Upsampling / Downsampling "
   ]
  },
  {
   "cell_type": "code",
   "execution_count": 63,
   "metadata": {},
   "outputs": [],
   "source": [
    "def downsampling(X_train, y_train):\n",
    "\n",
    "    print(X_train.shape)\n",
    "    print(y_train.shape)\n",
    "    \n",
    "    count_class_true, count_class_false = y_train.value_counts()\n",
    "    print(\"Before downsampling True / False\")\n",
    "    print(count_class_true, count_class_false)\n",
    "    \n",
    "    count_class = min(count_class_true, count_class_false)\n",
    "    \n",
    "    true_index = np.where(y_train==True)[0].tolist()\n",
    "    false_index = np.where(y_train==False)[0].tolist()\n",
    "    \n",
    "    # Divide by class\n",
    "    X_class_true = X_train[X_train.index.isin(true_index)]\n",
    "    X_class_false = X_train[X_train.index.isin(false_index)]\n",
    "\n",
    "\n",
    "    X_class_false_under = X_class_false.sample(count_class, replace=True)\n",
    "    X_class_true_under = X_class_true.sample(count_class,replace=True)\n",
    "    \n",
    "    X_df = pd.concat([X_class_false_under, X_class_true_under], axis=0)\n",
    "    y_df = y_train[y_train.index.isin(X_df.index)]\n",
    "\n",
    "\n",
    "    count_class_true, count_class_false = y_df.value_counts()\n",
    "    print(\"After downsampling True / False\")\n",
    "    print(count_class_true, count_class_false)\n",
    "    \n",
    "    return X_df, y_df"
   ]
  },
  {
   "cell_type": "markdown",
   "metadata": {},
   "source": [
    "# 4. Models"
   ]
  },
  {
   "cell_type": "markdown",
   "metadata": {},
   "source": [
    "# 4A. Final pre-processing"
   ]
  },
  {
   "cell_type": "code",
   "execution_count": 64,
   "metadata": {},
   "outputs": [],
   "source": [
    "df = preprocess(df)"
   ]
  },
  {
   "cell_type": "code",
   "execution_count": 65,
   "metadata": {},
   "outputs": [
    {
     "data": {
      "text/plain": [
       "6248"
      ]
     },
     "execution_count": 65,
     "metadata": {},
     "output_type": "execute_result"
    }
   ],
   "source": [
    "len(df)"
   ]
  },
  {
   "cell_type": "code",
   "execution_count": 66,
   "metadata": {},
   "outputs": [],
   "source": [
    "#get_frequent_words(df.clean_tweet)"
   ]
  },
  {
   "cell_type": "markdown",
   "metadata": {},
   "source": [
    "# 4B. Vectorization"
   ]
  },
  {
   "cell_type": "markdown",
   "metadata": {},
   "source": [
    "###  1. Bag Of Words"
   ]
  },
  {
   "cell_type": "code",
   "execution_count": 67,
   "metadata": {},
   "outputs": [],
   "source": [
    "def bow_encode(text):\n",
    "    vectorizer = CountVectorizer()\n",
    "    X = vectorizer.fit_transform(text)\n",
    "    print(\"Vocab size is: \", len(vectorizer.get_feature_names()))\n",
    "    return X"
   ]
  },
  {
   "cell_type": "code",
   "execution_count": 68,
   "metadata": {},
   "outputs": [
    {
     "name": "stdout",
     "output_type": "stream",
     "text": [
      "Vocab size is:  8411\n"
     ]
    },
    {
     "data": {
      "text/plain": [
       "array([0, 1, 2, 3, 4, 5, 6, 7, 8])"
      ]
     },
     "execution_count": 68,
     "metadata": {},
     "output_type": "execute_result"
    }
   ],
   "source": [
    "np.unique(bow_encode(df.clean_tweet).toarray())"
   ]
  },
  {
   "cell_type": "markdown",
   "metadata": {},
   "source": [
    "#### Visualize Bag Of Words"
   ]
  },
  {
   "cell_type": "code",
   "execution_count": 69,
   "metadata": {},
   "outputs": [
    {
     "name": "stdout",
     "output_type": "stream",
     "text": [
      "Vocab size is:  8411\n"
     ]
    },
    {
     "data": {
      "text/plain": [
       "<matplotlib.collections.PathCollection at 0x7fe283a005d0>"
      ]
     },
     "execution_count": 69,
     "metadata": {},
     "output_type": "execute_result"
    },
    {
     "data": {
      "image/png": "[encoded data removed]",
      "text/plain": [
       "<Figure size 432x288 with 1 Axes>"
      ]
     },
     "metadata": {
      "needs_background": "light"
     },
     "output_type": "display_data"
    }
   ],
   "source": [
    "X = bow_encode(df.clean_tweet).todense()\n",
    "pca = PCA(n_components=2).fit(X)\n",
    "data2D = pca.transform(X)\n",
    "plt.scatter(data2D[:,0], data2D[:,1], c=df.has_reply)"
   ]
  },
  {
   "cell_type": "markdown",
   "metadata": {},
   "source": [
    "### 2. Tf IdF "
   ]
  },
  {
   "cell_type": "code",
   "execution_count": 70,
   "metadata": {},
   "outputs": [],
   "source": [
    "def tfidf_encode(text):\n",
    "    tfidf_vectorizer=TfidfVectorizer(use_idf=True, max_df=0.95)\n",
    "    return tfidf_vectorizer.fit_transform(text)"
   ]
  },
  {
   "cell_type": "code",
   "execution_count": 71,
   "metadata": {},
   "outputs": [
    {
     "data": {
      "text/plain": [
       "<matplotlib.collections.PathCollection at 0x7fe27992b590>"
      ]
     },
     "execution_count": 71,
     "metadata": {},
     "output_type": "execute_result"
    },
    {
     "data": {
      "image/png": "[encoded data removed]",
      "text/plain": [
       "<Figure size 432x288 with 1 Axes>"
      ]
     },
     "metadata": {
      "needs_background": "light"
     },
     "output_type": "display_data"
    }
   ],
   "source": [
    "Z = tfidf_encode(df.clean_tweet).todense()\n",
    "pca = PCA(n_components=2).fit(X)\n",
    "Z_data2D = pca.transform(Z)\n",
    "plt.scatter(Z_data2D[:,0], Z_data2D[:,1], c=df.has_reply)"
   ]
  },
  {
   "cell_type": "markdown",
   "metadata": {},
   "source": [
    "### 3. Word2vec"
   ]
  },
  {
   "cell_type": "markdown",
   "metadata": {},
   "source": [
    "In this section, we load a pre-trained model (GloVe or Google Word2Vec), and generate and store the embeddings of all the tweets. Caution : the model needs to be downloaded before"
   ]
  },
  {
   "cell_type": "markdown",
   "metadata": {},
   "source": [
    "#### Google Word2Vec loading"
   ]
  },
  {
   "cell_type": "code",
   "execution_count": 72,
   "metadata": {},
   "outputs": [],
   "source": [
    "model_path = \"../../source/embeddings/GoogleVectors300d/GoogleNews-vectors-negative300.bin\"\n",
    "binary = True\n",
    "storage_folder = \"../../data/extraction_twint/tweets_data/data_service_clients/embeddings/GoogleVectors300d/\""
   ]
  },
  {
   "cell_type": "markdown",
   "metadata": {},
   "source": [
    "#### GloVe loading"
   ]
  },
  {
   "cell_type": "code",
   "execution_count": 73,
   "metadata": {},
   "outputs": [],
   "source": [
    "model_path = \"../../source/embeddings/GloveTwitter200d/glove.twitter.27B.200d.txt\"\n",
    "binary = False\n",
    "storage_folder = \"../../data/extraction_twint/tweets_data/data_service_clients/embeddings/GloveTwitter200d/\""
   ]
  },
  {
   "cell_type": "markdown",
   "metadata": {},
   "source": [
    "#### Create embeddings and save to CSV"
   ]
  },
  {
   "cell_type": "code",
   "execution_count": null,
   "metadata": {},
   "outputs": [],
   "source": [
    "text_features = pd.DataFrame() # creating empty final dataframe\n",
    "stopwords = nltk.corpus.stopwords.words('english') # removing stop words\n",
    "for doc in tqdm(df.clean_tweet): # looping through each document and cleaning it\n",
    "    temp = pd.DataFrame()  # creating a temporary dataframe(store value for 1st doc & for 2nd doc remove the details of 1st & proced through 2nd and so on..)\n",
    "    for word in doc.split(' '): # looping through each word of a single document and spliting through space\n",
    "        if word not in stopwords: # if word is not present in stopwords then (try)\n",
    "            try:\n",
    "                word_vec = embeddings[word] # if word is present in embeddings(goole provides weights associate with words(300)) then proceed\n",
    "                temp = temp.append(pd.Series(word_vec), ignore_index = True) # if word is present then append it to temporary dataframe\n",
    "            except:\n",
    "                pass\n",
    "    doc_vector = temp.mean() # take the average of each column(w0, w1, w2,........w300)\n",
    "    text_features = text_features.append(doc_vector, ignore_index = True) # append each document value to the final dataframe\n",
    "\n",
    "text_features.to_csv(storage_folder+brand+\".csv\",)\n",
    "text_features.head()"
   ]
  },
  {
   "cell_type": "markdown",
   "metadata": {},
   "source": [
    "### Load embeddings"
   ]
  },
  {
   "cell_type": "markdown",
   "metadata": {},
   "source": [
    "#### Load from csv"
   ]
  },
  {
   "cell_type": "code",
   "execution_count": null,
   "metadata": {
    "scrolled": true
   },
   "outputs": [],
   "source": [
    "text_features = pd.read_csv(\"../../data/extraction_twint/tweets_data/data_service_clients/embeddings/\"+brand+\".csv\", index_col=0)\n",
    "text_features.head()"
   ]
  },
  {
   "cell_type": "markdown",
   "metadata": {},
   "source": [
    "### Final function to vectorize (build text features)"
   ]
  },
  {
   "cell_type": "code",
   "execution_count": 74,
   "metadata": {},
   "outputs": [],
   "source": [
    "def build_text_features(df, y, vect_type, with_downsampling):\n",
    "    \n",
    "    logging.info(\"Extracting features and creating vocabulary...\")\n",
    "\n",
    "    new_df = df[['nb_tweets_of_user', 'following', 'followers', 'likes','direct_mention', 'punct', 'length', 'positive_sentiment', 'clean_tweet']]\n",
    "    for col in new_df.columns:\n",
    "        if col != \"clean_tweet\":\n",
    "            new_df[col]=new_df[col].apply(lambda x: 0 if np.isnan(x) else int(x))\n",
    "        \n",
    "    if \"word2vec\" in vect_type:\n",
    "        if \"google\" in vect_type:\n",
    "            text_features = pd.read_csv(\"../../data/extraction_twint/tweets_data/data_service_clients/embeddings/GoogleVectors300d/\"+brand+\".csv\", index_col=0)\n",
    "        \n",
    "        if \"glove\" in vect_type:\n",
    "            text_features = pd.read_csv(\"../../data/extraction_twint/tweets_data/data_service_clients/embeddings/GloveTwitter200d/\"+brand+\".csv\", index_col=0)\n",
    "        \n",
    "        # Remove nan values in text features\n",
    "        for col in text_features.columns:\n",
    "            text_features[col]=text_features[col].apply(lambda x: 0 if np.isnan(x) else x)\n",
    "        \n",
    "        new_df.drop(columns=\"clean_tweet\", inplace=True)\n",
    "        X = pd.merge(text_features, new_df, left_index=True, right_index=True)\n",
    "\n",
    "        y = df.has_reply\n",
    "        X_train, X_test, y_train, y_test = train_test_split(new_df,y,train_size=0.80,random_state=44)\n",
    "\n",
    "        if with_downsampling:\n",
    "            X_train, y_train = downsampling(X_train, y_train)\n",
    "        \n",
    "        vocabulary = []\n",
    "    \n",
    "    else:\n",
    "        X_train, X_test, y_train, y_test = train_test_split(new_df,y,train_size=0.80,random_state=44)\n",
    "\n",
    "        if with_downsampling:\n",
    "            X_train, y_train = downsampling(X_train, y_train)\n",
    "\n",
    "        field = 'clean_tweet'\n",
    "   \n",
    "        if 'count' in vect_type:\n",
    "            vectorizer= CountVectorizer(binary=False, max_df=0.95)\n",
    "        \n",
    "        elif \"binary\" in vect_type:\n",
    "            vectorizer= CountVectorizer(binary=True, max_df=0.95)\n",
    "\n",
    "        elif 'tfidf' in vect_type:\n",
    "            vectorizer=TfidfVectorizer(max_features = 1000, use_idf=True, max_df=0.95)\n",
    "        #add n-gram\n",
    "        \n",
    "        else:\n",
    "            raise ValueError('Mode should be either count or tfidf')    \n",
    "       \n",
    "        # Fit on training data\n",
    "        vectorizer.fit_transform(X_train[field].values)\n",
    "        \n",
    "        vocabulary = vectorizer.get_feature_names()\n",
    "        \n",
    "        train_text_features=vectorizer.transform(X_train[field].values).toarray()\n",
    "        test_text_features=vectorizer.transform(X_test[field].values).toarray()\n",
    "        \n",
    "#         for col in text_features.columns:\n",
    "#             text_features[col]=text_features[col].apply(lambda x: 0 if np.isnan(x) else x)\n",
    "    \n",
    "        X_train.drop(columns=['clean_tweet'], inplace=True)\n",
    "        X_test.drop(columns=['clean_tweet'], inplace=True)\n",
    "\n",
    "        X_train=np.concatenate((X_train,train_text_features),axis=1)\n",
    "        X_test=np.concatenate((X_test,test_text_features),axis=1)\n",
    "    \n",
    "    return vocabulary, X_train, X_test, y_train, y_test   "
   ]
  },
  {
   "cell_type": "markdown",
   "metadata": {},
   "source": [
    "# 4C. Model evaluation"
   ]
  },
  {
   "cell_type": "markdown",
   "metadata": {},
   "source": [
    "### All scores"
   ]
  },
  {
   "cell_type": "code",
   "execution_count": 75,
   "metadata": {},
   "outputs": [],
   "source": [
    "## PRINT SCORES\n",
    "\n",
    "def print_scores(y_test, y_pred):\n",
    "    accuracy = accuracy_score(y_test, y_pred)\n",
    "    f1_score_val = f1_score(y_test, y_pred)\n",
    "    precision_score_val = precision_score(y_test, y_pred)\n",
    "    recall_score_val = recall_score(y_test, y_pred)\n",
    "\n",
    "\n",
    "    string = \"RESULTATS \\n \\\n",
    "    Accuracy  : {accuracy}% \\n \\\n",
    "    F1 score  : {f1_score}\\n \\\n",
    "    Precision : {precision}% (how many selected items are relevant)\\n \\\n",
    "    Recall    : {recall}% (how many relevant items are selected)\\n \\\n",
    "    \\n\\n\\\n",
    "    STATISTICS\\n\\\n",
    "     Proportion of positives in test set    : {positives}%\\n\\\n",
    "     Proportion of positives in predictions : {predicted_positives}%\\\n",
    "    \"\n",
    "\n",
    "    print(string.format(accuracy = round(100*accuracy,2),\n",
    "                        f1_score = round(f1_score_val,4), \n",
    "                        precision = round(100*precision_score_val,2), \n",
    "                        recall = round(100*recall_score_val,2),\n",
    "                        positives = round(100*y_test.sum()/len(y_test),2),\n",
    "                        predicted_positives = round(100*y_pred.sum()/len(y_pred),2),\n",
    "                       ))"
   ]
  },
  {
   "cell_type": "markdown",
   "metadata": {},
   "source": [
    "### ROC Curve & AUC "
   ]
  },
  {
   "cell_type": "code",
   "execution_count": 76,
   "metadata": {},
   "outputs": [],
   "source": [
    "## DISPLAY ROC CURVE\n",
    "def display_roc_curve(y_test, X_test, model):\n",
    "    fpr, tpr, thresholds = roc_curve(y_test, model.predict_proba(X_test)[:, 1])\n",
    "    auc_score = round(auc(fpr, tpr),2)\n",
    "\n",
    "    plt.plot(fpr, tpr, color='darkorange',\n",
    "             lw=2)\n",
    "\n",
    "    plt.xlim([0.0, 1.0])\n",
    "    plt.ylim([0.0, 1.05])\n",
    "    plt.xlabel('False Positive Rate')\n",
    "    plt.ylabel('True Positive Rate')\n",
    "    plt.title('ROC curve')\n",
    "    plt.legend(loc=\"lower right\")\n",
    "    plt.show()\n",
    "    print(\"AUC : {}\".format(auc_score))"
   ]
  },
  {
   "cell_type": "markdown",
   "metadata": {},
   "source": [
    "### Confusion matrix "
   ]
  },
  {
   "cell_type": "code",
   "execution_count": 77,
   "metadata": {
    "scrolled": true
   },
   "outputs": [],
   "source": [
    "# CONFUSION MATRIX\n",
    "def get_confusion_matrix(X_test, y_test, model):\n",
    "    titles_options = [(\"Confusion matrix, without normalization\", None),\n",
    "                      (\"Normalized confusion matrix\", 'true')]\n",
    "\n",
    "    for title, normalize in titles_options:\n",
    "        disp = plot_confusion_matrix(model, X_test, y_test,\n",
    "                                     cmap=plt.cm.Blues,\n",
    "                                     normalize=normalize)\n",
    "        disp.ax_.set_title(title)\n",
    "\n",
    "        print(title)\n",
    "        print(disp.confusion_matrix)\n"
   ]
  },
  {
   "cell_type": "markdown",
   "metadata": {},
   "source": [
    "### Feature importance "
   ]
  },
  {
   "cell_type": "code",
   "execution_count": 78,
   "metadata": {},
   "outputs": [],
   "source": [
    "def importance_plotting(model):\n",
    "    features2 = pd.DataFrame()\n",
    "    features2['importance'] = model.feature_importances_\n",
    "    features2.sort_values(by=['importance'], ascending=False, inplace=True)\n",
    "    features2 = features2.head(20)\n",
    "    features2[\"order\"]=features2['importance'].index\n",
    "    features2[\"words\"] = features2.order.apply(lambda x: vocab[x])\n",
    "    from sklearn import metrics\n",
    "    #features2.plot(features2.words, kind='barh', figsize=(10, 8))\n",
    "    plt.plot(features2.importance, features2.words)\n",
    "    plt.title('Most important features')\n",
    "    plt.show()"
   ]
  },
  {
   "cell_type": "markdown",
   "metadata": {},
   "source": [
    "# 5. Choose, train & test model"
   ]
  },
  {
   "cell_type": "code",
   "execution_count": 79,
   "metadata": {},
   "outputs": [],
   "source": [
    "def try_model(model, encode_type, df, clf=None, with_downsampling = False):\n",
    "        \n",
    "    print(\"Building the features...\")\n",
    "    y = df.has_reply\n",
    "    #y = df.objective\n",
    "    vocab, X_train,X_test,y_train, y_test = build_text_features(df,y, encode_type,with_downsampling)\n",
    "    \n",
    "    print(\"Training the model...\")\n",
    "    if clf:\n",
    "        clf.fit(X_train,y_train)\n",
    "        model = clf.best_estimator_\n",
    "    else:\n",
    "        model = model.fit(X_train,y_train)\n",
    "    \n",
    "    \n",
    "    print(\"Making predictions...\")\n",
    "    y_preds = model.predict(X_test)\n",
    "    \n",
    "    print(\"Printing scores...\")\n",
    "    print(classification_report(y_test, y_preds))\n",
    "    print_scores(y_test,y_preds)\n",
    "    display_roc_curve(y_test,X_test, model)\n",
    "    get_confusion_matrix(X_test, y_test, model)\n",
    "    \n",
    "    return vocab, model, y_test, y_preds"
   ]
  },
  {
   "cell_type": "markdown",
   "metadata": {},
   "source": [
    "## Pipeline"
   ]
  },
  {
   "cell_type": "code",
   "execution_count": 80,
   "metadata": {},
   "outputs": [],
   "source": [
    "df = preprocess(df)"
   ]
  },
  {
   "cell_type": "code",
   "execution_count": 81,
   "metadata": {},
   "outputs": [],
   "source": [
    "from sklearn.model_selection import GridSearchCV\n",
    "parameters = {'max_features':[0.2, 0.5,0.7, 0.9]}\n",
    "\n",
    "#model = LogisticRegression()\n",
    "#model = MultinomialNB()\n",
    "#model = RandomForestClassifier(n_estimators=300, max_depth=200)\n",
    "model = RandomForestClassifier(n_estimators=200, verbose=1, n_jobs=4, class_weight={False: 0.9, True: 0.1})\n",
    "#model =xgb.XGBClassifier()\n",
    "#model =xgb.XGBClassifier(random_state=42,learning_rate=0.01)\n",
    "#model = LinearSVC()\n",
    "\n",
    "#encode_type = \"count\"\n",
    "#encode_type = \"tfidf\"\n",
    "encode_type = \"binary\"\n",
    "#encode_type = \"word2vec_glove\"\n",
    "#encode_type = \"word2vec_google\"\n",
    "\n",
    "clf = GridSearchCV(model, parameters)\n"
   ]
  },
  {
   "cell_type": "code",
   "execution_count": 82,
   "metadata": {
    "scrolled": false
   },
   "outputs": [
    {
     "name": "stdout",
     "output_type": "stream",
     "text": [
      "Building the features...\n"
     ]
    },
    {
     "name": "stderr",
     "output_type": "stream",
     "text": [
      "/home/victor/anaconda3/lib/python3.7/site-packages/ipykernel_launcher.py:8: SettingWithCopyWarning: \n",
      "A value is trying to be set on a copy of a slice from a DataFrame.\n",
      "Try using .loc[row_indexer,col_indexer] = value instead\n",
      "\n",
      "See the caveats in the documentation: https://pandas.pydata.org/pandas-docs/stable/user_guide/indexing.html#returning-a-view-versus-a-copy\n",
      "  \n",
      "/home/victor/anaconda3/lib/python3.7/site-packages/pandas/core/frame.py:3994: SettingWithCopyWarning: \n",
      "A value is trying to be set on a copy of a slice from a DataFrame\n",
      "\n",
      "See the caveats in the documentation: https://pandas.pydata.org/pandas-docs/stable/user_guide/indexing.html#returning-a-view-versus-a-copy\n",
      "  errors=errors,\n"
     ]
    },
    {
     "name": "stdout",
     "output_type": "stream",
     "text": [
      "Training the model...\n"
     ]
    },
    {
     "name": "stderr",
     "output_type": "stream",
     "text": [
      "[Parallel(n_jobs=4)]: Using backend ThreadingBackend with 4 concurrent workers.\n",
      "[Parallel(n_jobs=4)]: Done  42 tasks      | elapsed:    3.6s\n",
      "[Parallel(n_jobs=4)]: Done 192 tasks      | elapsed:   14.4s\n",
      "[Parallel(n_jobs=4)]: Done 200 out of 200 | elapsed:   14.9s finished\n",
      "[Parallel(n_jobs=4)]: Using backend ThreadingBackend with 4 concurrent workers.\n",
      "[Parallel(n_jobs=4)]: Done  42 tasks      | elapsed:    0.0s\n",
      "[Parallel(n_jobs=4)]: Done 192 tasks      | elapsed:    0.1s\n",
      "[Parallel(n_jobs=4)]: Done 200 out of 200 | elapsed:    0.1s finished\n"
     ]
    },
    {
     "name": "stdout",
     "output_type": "stream",
     "text": [
      "Making predictions...\n",
      "Printing scores...\n",
      "              precision    recall  f1-score   support\n",
      "\n",
      "       False       0.70      0.25      0.37       294\n",
      "        True       0.81      0.97      0.88       956\n",
      "\n",
      "    accuracy                           0.80      1250\n",
      "   macro avg       0.76      0.61      0.63      1250\n",
      "weighted avg       0.78      0.80      0.76      1250\n",
      "\n",
      "RESULTATS \n",
      "     Accuracy  : 79.92% \n",
      "     F1 score  : 0.8805\n",
      "     Precision : 80.79% (how many selected items are relevant)\n",
      "     Recall    : 96.76% (how many relevant items are selected)\n",
      "     \n",
      "\n",
      "    STATISTICS\n",
      "     Proportion of positives in test set    : 76.48%\n",
      "     Proportion of positives in predictions : 91.6%    \n"
     ]
    },
    {
     "name": "stderr",
     "output_type": "stream",
     "text": [
      "[Parallel(n_jobs=4)]: Using backend ThreadingBackend with 4 concurrent workers.\n",
      "[Parallel(n_jobs=4)]: Done  42 tasks      | elapsed:    0.0s\n",
      "[Parallel(n_jobs=4)]: Done 192 tasks      | elapsed:    0.2s\n",
      "[Parallel(n_jobs=4)]: Done 200 out of 200 | elapsed:    0.2s finished\n",
      "WARNING:matplotlib.legend:No handles with labels found to put in legend.\n"
     ]
    },
    {
     "data": {
      "image/png": "[encoded data removed]",
      "text/plain": [
       "<Figure size 432x288 with 1 Axes>"
      ]
     },
     "metadata": {
      "needs_background": "light"
     },
     "output_type": "display_data"
    },
    {
     "name": "stderr",
     "output_type": "stream",
     "text": [
      "[Parallel(n_jobs=4)]: Using backend ThreadingBackend with 4 concurrent workers.\n"
     ]
    },
    {
     "name": "stdout",
     "output_type": "stream",
     "text": [
      "AUC : 0.74\n"
     ]
    },
    {
     "name": "stderr",
     "output_type": "stream",
     "text": [
      "[Parallel(n_jobs=4)]: Done  42 tasks      | elapsed:    0.0s\n",
      "[Parallel(n_jobs=4)]: Done 192 tasks      | elapsed:    0.1s\n",
      "[Parallel(n_jobs=4)]: Done 200 out of 200 | elapsed:    0.1s finished\n"
     ]
    },
    {
     "name": "stdout",
     "output_type": "stream",
     "text": [
      "Confusion matrix, without normalization\n",
      "[[ 74 220]\n",
      " [ 31 925]]\n"
     ]
    },
    {
     "name": "stderr",
     "output_type": "stream",
     "text": [
      "[Parallel(n_jobs=4)]: Using backend ThreadingBackend with 4 concurrent workers.\n",
      "[Parallel(n_jobs=4)]: Done  42 tasks      | elapsed:    0.0s\n",
      "[Parallel(n_jobs=4)]: Done 192 tasks      | elapsed:    0.1s\n",
      "[Parallel(n_jobs=4)]: Done 200 out of 200 | elapsed:    0.1s finished\n"
     ]
    },
    {
     "name": "stdout",
     "output_type": "stream",
     "text": [
      "Normalized confusion matrix\n",
      "[[0.25170068 0.74829932]\n",
      " [0.03242678 0.96757322]]\n"
     ]
    },
    {
     "data": {
      "image/png": "[encoded data removed]",
      "text/plain": [
       "<Figure size 432x288 with 2 Axes>"
      ]
     },
     "metadata": {
      "needs_background": "light"
     },
     "output_type": "display_data"
    },
    {
     "data": {
      "image/png": "[encoded data removed]",
      "text/plain": [
       "<Figure size 432x288 with 2 Axes>"
      ]
     },
     "metadata": {
      "needs_background": "light"
     },
     "output_type": "display_data"
    }
   ],
   "source": [
    "vocab, model, y_test, y_preds = try_model(model, encode_type, df)"
   ]
  },
  {
   "cell_type": "code",
   "execution_count": 83,
   "metadata": {
    "scrolled": true
   },
   "outputs": [
    {
     "data": {
      "image/png": "[encoded data removed]",
      "text/plain": [
       "<Figure size 432x288 with 1 Axes>"
      ]
     },
     "metadata": {
      "needs_background": "light"
     },
     "output_type": "display_data"
    }
   ],
   "source": [
    "importance_plotting(model)"
   ]
  },
  {
   "cell_type": "code",
   "execution_count": null,
   "metadata": {},
   "outputs": [],
   "source": [
    "# Grid Search results\n",
    "clf.best_params_\n",
    "pd.DataFrame.from_dict(clf.cv_results_)"
   ]
  },
  {
   "cell_type": "code",
   "execution_count": 84,
   "metadata": {},
   "outputs": [
    {
     "data": {
      "text/plain": [
       "['_closed_eyes',\n",
       " '_cold_sweat',\n",
       " '_smiling_eyes',\n",
       " 'aa',\n",
       " 'aaaaaand',\n",
       " 'aadhar',\n",
       " 'aajtak',\n",
       " 'aapchutiyehain',\n",
       " 'aarushbhargavagmailcom',\n",
       " 'ab',\n",
       " 'abandon',\n",
       " 'aber',\n",
       " 'abhishekbhukeshsicapcom',\n",
       " 'ability',\n",
       " 'abin',\n",
       " 'able',\n",
       " 'abled',\n",
       " 'abound',\n",
       " 'aboutthe',\n",
       " 'abpmajhatv',\n",
       " 'abpnews',\n",
       " 'abroad',\n",
       " 'absolute',\n",
       " 'absolutely',\n",
       " 'absurd',\n",
       " 'abt',\n",
       " 'abuse',\n",
       " 'abysmal',\n",
       " 'ac',\n",
       " 'acc',\n",
       " 'accept',\n",
       " 'acceptable',\n",
       " 'acceptableif',\n",
       " 'accepted',\n",
       " 'access',\n",
       " 'accessible',\n",
       " 'accessoriesbefore',\n",
       " 'accessory',\n",
       " 'accidental',\n",
       " 'accidentally',\n",
       " 'accord',\n",
       " 'accordance',\n",
       " 'accordingly',\n",
       " 'account',\n",
       " 'accountable',\n",
       " 'accountmay',\n",
       " 'accountplease',\n",
       " 'accountyou',\n",
       " 'acct',\n",
       " 'accurate',\n",
       " 'accusatory',\n",
       " 'achieve',\n",
       " 'achievement',\n",
       " 'acking',\n",
       " 'acknowledge',\n",
       " 'acknowledgement',\n",
       " 'across',\n",
       " 'act',\n",
       " 'actingd',\n",
       " 'action',\n",
       " 'actionfrauduk',\n",
       " 'actionreallyjust',\n",
       " 'activate',\n",
       " 'activates',\n",
       " 'activation',\n",
       " 'active',\n",
       " 'activelive',\n",
       " 'actively',\n",
       " 'activity',\n",
       " 'actual',\n",
       " 'actually',\n",
       " 'actul',\n",
       " 'ad',\n",
       " 'adapter',\n",
       " 'add',\n",
       " 'addition',\n",
       " 'additional',\n",
       " 'additionally',\n",
       " 'addon',\n",
       " 'address',\n",
       " 'addressas',\n",
       " 'addressed',\n",
       " 'addressthe',\n",
       " 'adhere',\n",
       " 'adhoc',\n",
       " 'adjust',\n",
       " 'adjustment',\n",
       " 'administrator',\n",
       " 'admit',\n",
       " 'admitting',\n",
       " 'adopt',\n",
       " 'adress',\n",
       " 'adresswhat',\n",
       " 'adrian',\n",
       " 'adult',\n",
       " 'advance',\n",
       " 'advantage',\n",
       " 'adventure',\n",
       " 'advertise',\n",
       " 'advertisement',\n",
       " 'advertising',\n",
       " 'advice',\n",
       " 'advise',\n",
       " 'advised',\n",
       " 'advisor',\n",
       " 'advisors',\n",
       " 'affect',\n",
       " 'affiliate',\n",
       " 'afford',\n",
       " 'affordable',\n",
       " 'afik',\n",
       " 'afraid',\n",
       " 'africa',\n",
       " 'afternoon',\n",
       " 'afternoonsoon',\n",
       " 'afterthat',\n",
       " 'afterwards',\n",
       " 'aftr',\n",
       " 'againcontd',\n",
       " 'againi',\n",
       " 'againpatheticfalse',\n",
       " 'agarwal',\n",
       " 'age',\n",
       " 'agency',\n",
       " 'agent',\n",
       " 'agentwhen',\n",
       " 'aggrieve',\n",
       " 'aggrievedamazonhelp',\n",
       " 'agnst',\n",
       " 'ago',\n",
       " 'agree',\n",
       " 'agreement',\n",
       " 'agychnuaoaaczhlbrmsdeulca',\n",
       " 'ah',\n",
       " 'ahead',\n",
       " 'ahh',\n",
       " 'ahhhhh',\n",
       " 'ahmedabad',\n",
       " 'ahsescalation',\n",
       " 'ai',\n",
       " 'ail',\n",
       " 'ain',\n",
       " 'aint',\n",
       " 'aiova',\n",
       " 'air',\n",
       " 'airplane',\n",
       " 'airpod',\n",
       " 'airpods',\n",
       " 'airport',\n",
       " 'airtel',\n",
       " 'airtelindia',\n",
       " 'ajassy',\n",
       " 'ajiolife',\n",
       " 'akhrot',\n",
       " 'aks',\n",
       " 'al',\n",
       " 'ala',\n",
       " 'alarm',\n",
       " 'alarming',\n",
       " 'album',\n",
       " 'alcohol',\n",
       " 'alert',\n",
       " 'alertsnone',\n",
       " 'alexa',\n",
       " 'alexaamazonhelp',\n",
       " 'alexander',\n",
       " 'alexas',\n",
       " 'alexatds',\n",
       " 'alibababb',\n",
       " 'alicia',\n",
       " 'aliexpressen',\n",
       " 'all',\n",
       " 'allege',\n",
       " 'alli',\n",
       " 'allotted',\n",
       " 'allow',\n",
       " 'alloy',\n",
       " 'allready',\n",
       " 'allredy',\n",
       " 'alls',\n",
       " 'almost',\n",
       " 'alone',\n",
       " 'along',\n",
       " 'alot',\n",
       " 'aloud',\n",
       " 'alpatronix',\n",
       " 'already',\n",
       " 'alright',\n",
       " 'also',\n",
       " 'alsoand',\n",
       " 'alsobut',\n",
       " 'alsothey',\n",
       " 'alternate',\n",
       " 'alternative',\n",
       " 'although',\n",
       " 'altogether',\n",
       " 'aluminum',\n",
       " 'always',\n",
       " 'amabot',\n",
       " 'amalgus',\n",
       " 'amateur',\n",
       " 'amaze',\n",
       " 'amazeddeal',\n",
       " 'amazing',\n",
       " 'amazingjoke',\n",
       " 'amazo',\n",
       " 'amazom',\n",
       " 'amazon',\n",
       " 'amazonae',\n",
       " 'amazonaffilia',\n",
       " 'amazonaffiliate',\n",
       " 'amazonamazonhelp',\n",
       " 'amazonappaday',\n",
       " 'amazonaustralia',\n",
       " 'amazonbad',\n",
       " 'amazonbadservice',\n",
       " 'amazonbusiness',\n",
       " 'amazonca',\n",
       " 'amazonchor',\n",
       " 'amazoncustomer',\n",
       " 'amazoncustomercare',\n",
       " 'amazoncustomerservice',\n",
       " 'amazoncustomerserviceisappalling',\n",
       " 'amazonde',\n",
       " 'amazondeals',\n",
       " 'amazondeliveryfails',\n",
       " 'amazonepayspinandwin',\n",
       " 'amazonfail',\n",
       " 'amazonfails',\n",
       " 'amazonfashionin',\n",
       " 'amazonfilmfareawards',\n",
       " 'amazonfine',\n",
       " 'amazonfirestick',\n",
       " 'amazonfiretv',\n",
       " 'amazonfiretvind',\n",
       " 'amazonfraud',\n",
       " 'amazonfresh',\n",
       " 'amazongreatindianfestival',\n",
       " 'amazongreatindiansale',\n",
       " 'amazonhavellsquiz',\n",
       " 'amazonhe',\n",
       " 'amazonhelp',\n",
       " 'amazonhelpsucks',\n",
       " 'amazonhomeservices',\n",
       " 'amazoni',\n",
       " 'amazonin',\n",
       " 'amazonindeals',\n",
       " 'amazonindia',\n",
       " 'amazonindiafan',\n",
       " 'amazonindiain',\n",
       " 'amazonindiasell',\n",
       " 'amazonindiashame',\n",
       " 'amazoninfluencer',\n",
       " 'amazoninin',\n",
       " 'amazoninoffers',\n",
       " 'amazonit',\n",
       " 'amazonjp',\n",
       " 'amazonkarigarquiz',\n",
       " 'amazonkdp',\n",
       " 'amazonkindle',\n",
       " 'amazonlogic',\n",
       " 'amazonmusic',\n",
       " 'amazonmusicin',\n",
       " 'amazonnewsin',\n",
       " 'amazonnohelpatall',\n",
       " 'amazonpay',\n",
       " 'amazonpaynodalofficeramazon',\n",
       " 'amazonpaynodalofficeramazonin',\n",
       " 'amazonpayspinandwin',\n",
       " 'amazonpolicy',\n",
       " 'amazonprime',\n",
       " 'amazonprimenow',\n",
       " 'amazonquiztime',\n",
       " 'amazonquizwinner',\n",
       " 'amazonsmallbusinessday',\n",
       " 'amazonstealsfromamericans',\n",
       " 'amazonstore',\n",
       " 'amazonstorein',\n",
       " 'amazonstudios',\n",
       " 'amazonsucks',\n",
       " 'amazontds',\n",
       " 'amazonuk',\n",
       " 'amazonukamazonjp',\n",
       " 'amazonups',\n",
       " 'amazonwallet',\n",
       " 'amazonwheeloffortune',\n",
       " 'amazonyou',\n",
       " 'amazzeron',\n",
       " 'ambaienterprisesgmailcom',\n",
       " 'ambut',\n",
       " 'amd',\n",
       " 'amend',\n",
       " 'america',\n",
       " 'american',\n",
       " 'american_football',\n",
       " 'amit',\n",
       " 'amitagarwal',\n",
       " 'amitagrawal',\n",
       " 'amitshah',\n",
       " 'amnesia',\n",
       " 'amoled',\n",
       " 'among',\n",
       " 'amount',\n",
       " 'amozon',\n",
       " 'ample',\n",
       " 'amt',\n",
       " 'amy',\n",
       " 'amzl',\n",
       " 'amzn',\n",
       " 'amzon',\n",
       " 'amzonif',\n",
       " 'amzonkindle',\n",
       " 'an',\n",
       " 'anal',\n",
       " 'analyze',\n",
       " 'anbling',\n",
       " 'andaman',\n",
       " 'andheri',\n",
       " 'andor',\n",
       " 'andr',\n",
       " 'andrea',\n",
       " 'android',\n",
       " 'andy',\n",
       " 'anfield',\n",
       " 'angry',\n",
       " 'angry_face',\n",
       " 'angry_face_with_horns𝙘𝙪𝙨𝙩𝙤𝙢𝙚𝙧',\n",
       " 'ani',\n",
       " 'aniketgmailcom',\n",
       " 'animal',\n",
       " 'anirudhdhamdheregmailcom',\n",
       " 'ankitduseja',\n",
       " 'anna',\n",
       " 'anne',\n",
       " 'announce',\n",
       " 'announcement',\n",
       " 'annoy',\n",
       " 'annoyance',\n",
       " 'annoyed',\n",
       " 'annoying',\n",
       " 'annual',\n",
       " 'another',\n",
       " 'ans',\n",
       " 'answer',\n",
       " 'answered',\n",
       " 'answerwere',\n",
       " 'antisemite',\n",
       " 'anusuryaxgmailcom',\n",
       " 'anxiously',\n",
       " 'anycost',\n",
       " 'anyday',\n",
       " 'anyhow',\n",
       " 'anymore',\n",
       " 'anyone',\n",
       " 'anyonebreceived',\n",
       " 'anyplace',\n",
       " 'anyplesse',\n",
       " 'anything',\n",
       " 'anythingwhere',\n",
       " 'anytime',\n",
       " 'anyway',\n",
       " 'anyways',\n",
       " 'anywhere',\n",
       " 'anywork',\n",
       " 'ao',\n",
       " 'aosmith',\n",
       " 'aparnapatra',\n",
       " 'apart',\n",
       " 'apartment',\n",
       " 'apl',\n",
       " 'apllied',\n",
       " 'aplliedwhy',\n",
       " 'apni',\n",
       " 'apoligised',\n",
       " 'apologies',\n",
       " 'apologise',\n",
       " 'apologize',\n",
       " 'apology',\n",
       " 'app',\n",
       " 'appal',\n",
       " 'appalled',\n",
       " 'appalling',\n",
       " 'apparent',\n",
       " 'apparently',\n",
       " 'appario',\n",
       " 'apparioretail',\n",
       " 'appdeleted',\n",
       " 'appeal',\n",
       " 'appear',\n",
       " 'appease',\n",
       " 'apperently',\n",
       " 'apple',\n",
       " 'applenews',\n",
       " 'applesupport',\n",
       " 'appletv',\n",
       " 'appliance',\n",
       " 'applicable',\n",
       " 'application',\n",
       " 'applieed',\n",
       " 'applies',\n",
       " 'apply',\n",
       " 'applychange',\n",
       " 'appoint',\n",
       " 'appointment',\n",
       " 'appreciable',\n",
       " 'appreciate',\n",
       " 'appreciated',\n",
       " 'approach',\n",
       " 'appropriate',\n",
       " 'approval',\n",
       " 'approve',\n",
       " 'approves',\n",
       " 'approx',\n",
       " 'apps',\n",
       " 'appsite',\n",
       " 'apr',\n",
       " 'apricot',\n",
       " 'april',\n",
       " 'apt',\n",
       " 'apv',\n",
       " 'ar',\n",
       " 'arabia',\n",
       " 'arabic',\n",
       " 'aramex',\n",
       " 'aramexhelp',\n",
       " 'aramexsa',\n",
       " 'arc',\n",
       " 'archaic',\n",
       " 'architect',\n",
       " 'archive',\n",
       " 'area',\n",
       " 'aren',\n",
       " 'arent',\n",
       " 'argentina',\n",
       " 'argo',\n",
       " 'argos',\n",
       " 'argument',\n",
       " 'argumentative',\n",
       " 'army',\n",
       " 'arn',\n",
       " 'around',\n",
       " 'arrange',\n",
       " 'arrangement',\n",
       " 'arrival',\n",
       " 'arrive',\n",
       " 'arrived',\n",
       " 'arrivedbeen',\n",
       " 'arrives',\n",
       " 'arriving',\n",
       " 'arrnge',\n",
       " 'arrogance',\n",
       " 'arrow',\n",
       " 'arsed',\n",
       " 'article',\n",
       " 'artist',\n",
       " 'artists',\n",
       " 'artwork',\n",
       " 'as',\n",
       " 'asapi',\n",
       " 'asda',\n",
       " 'ashamed',\n",
       " 'asholes',\n",
       " 'aside',\n",
       " 'asin',\n",
       " 'asinine',\n",
       " 'ask',\n",
       " 'askamex',\n",
       " 'asked',\n",
       " 'asks',\n",
       " 'aslo',\n",
       " 'asn',\n",
       " 'asnonamazonprime',\n",
       " 'assembly',\n",
       " 'assert',\n",
       " 'assesoriesand',\n",
       " 'assessment',\n",
       " 'asshole',\n",
       " 'assholes',\n",
       " 'assign',\n",
       " 'assigns',\n",
       " 'assist',\n",
       " 'assistance',\n",
       " 'assistant',\n",
       " 'associate',\n",
       " 'assume',\n",
       " 'assumption',\n",
       " 'assurance',\n",
       " 'assure',\n",
       " 'assured',\n",
       " 'asus',\n",
       " 'asusindia',\n",
       " 'asusrogin',\n",
       " 'aswell',\n",
       " 'at',\n",
       " 'atall',\n",
       " 'atendimento',\n",
       " 'athade',\n",
       " 'athadesrimanarayana',\n",
       " 'athadesrimannarayana',\n",
       " 'atlantis',\n",
       " 'atleast',\n",
       " 'att',\n",
       " 'atta',\n",
       " 'attach',\n",
       " 'attached',\n",
       " 'attachment',\n",
       " 'attachments',\n",
       " 'attempt',\n",
       " 'attempted',\n",
       " 'attemptedi',\n",
       " 'attempts',\n",
       " 'attend',\n",
       " 'attention',\n",
       " 'attitude',\n",
       " 'au',\n",
       " 'audible',\n",
       " 'audience',\n",
       " 'audio',\n",
       " 'audiobooks',\n",
       " 'audiosurround',\n",
       " 'august',\n",
       " 'aunt',\n",
       " 'aur',\n",
       " 'ausounds',\n",
       " 'australasia',\n",
       " 'australia',\n",
       " 'austria',\n",
       " 'authentic',\n",
       " 'authentication',\n",
       " 'authenticity',\n",
       " 'author',\n",
       " 'authorisation',\n",
       " 'authorise',\n",
       " 'authority',\n",
       " 'authorization',\n",
       " 'authorize',\n",
       " 'auto',\n",
       " 'autocorrect',\n",
       " 'autoemails',\n",
       " 'automate',\n",
       " 'automated',\n",
       " 'automatic',\n",
       " 'automatically',\n",
       " 'autoreply',\n",
       " 'avail',\n",
       " 'availability',\n",
       " 'available',\n",
       " 'avane',\n",
       " 'avanesrimananarayana',\n",
       " 'avanesrimannarayana',\n",
       " 'avenue',\n",
       " 'average',\n",
       " 'avid',\n",
       " 'avoid',\n",
       " 'avoidance',\n",
       " 'await',\n",
       " 'awaiting',\n",
       " 'awake',\n",
       " 'aware',\n",
       " 'awareness',\n",
       " 'away',\n",
       " 'awesome',\n",
       " 'awesomeness',\n",
       " 'awful',\n",
       " 'aws',\n",
       " 'awscloud',\n",
       " 'ay',\n",
       " 'az',\n",
       " 'baad',\n",
       " 'baar',\n",
       " 'bab',\n",
       " 'babe',\n",
       " 'baby',\n",
       " 'bac',\n",
       " 'back',\n",
       " 'backfire',\n",
       " 'background',\n",
       " 'backhand_index_pointing_down',\n",
       " 'backhand_index_pointing_right',\n",
       " 'backplate',\n",
       " 'backstabbing',\n",
       " 'backup',\n",
       " 'bad',\n",
       " 'badexperience',\n",
       " 'badla',\n",
       " 'badly',\n",
       " 'badnewsbaron',\n",
       " 'bag',\n",
       " 'bait',\n",
       " 'bala',\n",
       " 'balance',\n",
       " 'balancenow',\n",
       " 'ball',\n",
       " 'baloney',\n",
       " 'baltimoremd',\n",
       " 'ban',\n",
       " 'banbury',\n",
       " 'band',\n",
       " 'bandaids',\n",
       " 'bang',\n",
       " 'bangdream',\n",
       " 'bank',\n",
       " 'bankcard',\n",
       " 'bar',\n",
       " 'barbie',\n",
       " 'bare',\n",
       " 'barely',\n",
       " 'bark',\n",
       " 'barre',\n",
       " 'barrier',\n",
       " 'base',\n",
       " 'basic',\n",
       " 'basically',\n",
       " 'basis',\n",
       " 'basket',\n",
       " 'bathroom',\n",
       " 'baton',\n",
       " 'battery',\n",
       " 'battle',\n",
       " 'bay',\n",
       " 'baywatch',\n",
       " 'bbb',\n",
       " 'bbbus',\n",
       " 'bbc',\n",
       " 'bbcdoctorwho',\n",
       " 'bbcsounds',\n",
       " 'bbcworld',\n",
       " 'bbz',\n",
       " 'bc',\n",
       " 'bcause',\n",
       " 'bcoz',\n",
       " 'bcz',\n",
       " 'be',\n",
       " 'beach',\n",
       " 'beanie',\n",
       " 'bear',\n",
       " 'beat',\n",
       " 'beautiful',\n",
       " 'beauty',\n",
       " 'beawar',\n",
       " 'becareful',\n",
       " 'because',\n",
       " 'becautious',\n",
       " 'become',\n",
       " 'becuase',\n",
       " 'becuz',\n",
       " 'becz',\n",
       " 'bed',\n",
       " 'bedless',\n",
       " 'bedroom',\n",
       " 'beep',\n",
       " 'beg',\n",
       " 'begger',\n",
       " 'begin',\n",
       " 'behalf',\n",
       " 'behave',\n",
       " 'behavior',\n",
       " 'behaviour',\n",
       " 'behind',\n",
       " 'bei',\n",
       " 'beinghumor',\n",
       " 'belfast',\n",
       " 'believable',\n",
       " 'believe',\n",
       " 'bella',\n",
       " 'belong',\n",
       " 'beneficiary',\n",
       " 'benefit',\n",
       " 'beneth',\n",
       " 'bengaluru',\n",
       " 'benifit',\n",
       " 'benq',\n",
       " 'bent',\n",
       " 'bequietofficial',\n",
       " 'beryl',\n",
       " 'besides',\n",
       " 'best',\n",
       " 'bestbuy',\n",
       " 'bestellung',\n",
       " 'bet',\n",
       " 'beta',\n",
       " 'better',\n",
       " 'betwen',\n",
       " 'betwwen',\n",
       " 'beware',\n",
       " 'beyond',\n",
       " 'bezos',\n",
       " 'bezoz',\n",
       " 'bfb',\n",
       " 'bgsg',\n",
       " 'bh',\n",
       " 'bhagwan',\n",
       " 'bhi',\n",
       " 'bhim',\n",
       " 'bhojpuri',\n",
       " 'bhool',\n",
       " 'bidy',\n",
       " 'big',\n",
       " 'biggie',\n",
       " 'bigsales',\n",
       " 'bike',\n",
       " 'bikram',\n",
       " 'bilingual',\n",
       " 'bill',\n",
       " 'billed',\n",
       " 'billgates',\n",
       " 'billing',\n",
       " 'billion',\n",
       " 'bin',\n",
       " 'bind',\n",
       " 'binder',\n",
       " 'binge',\n",
       " 'biodegradables',\n",
       " 'bird',\n",
       " 'birmingham',\n",
       " 'birth',\n",
       " 'birthday',\n",
       " 'bit',\n",
       " 'bitch',\n",
       " 'bite',\n",
       " 'bitrates',\n",
       " 'bizarre',\n",
       " 'bjpindia',\n",
       " 'black',\n",
       " 'black_flag',\n",
       " 'black_heart',\n",
       " 'blackmailingis',\n",
       " 'blackout',\n",
       " 'blah',\n",
       " 'blair',\n",
       " 'blame',\n",
       " 'blank',\n",
       " 'blanket',\n",
       " 'blatant',\n",
       " 'blatantly',\n",
       " 'blindly',\n",
       " 'block',\n",
       " 'blocked',\n",
       " 'bloddy',\n",
       " 'blood',\n",
       " 'bloody',\n",
       " 'blow',\n",
       " 'blown',\n",
       " 'blu',\n",
       " 'blue',\n",
       " 'blue_heart',\n",
       " 'bluetooth',\n",
       " 'bluff',\n",
       " 'blunder',\n",
       " 'bluray',\n",
       " 'blurry',\n",
       " 'blurts',\n",
       " 'bng',\n",
       " 'bnsc',\n",
       " 'board',\n",
       " 'boast',\n",
       " 'boat',\n",
       " 'boathead',\n",
       " 'boc',\n",
       " 'body',\n",
       " 'bogus',\n",
       " 'bolana',\n",
       " 'bold',\n",
       " 'bollywood',\n",
       " 'bollywoodgandu',\n",
       " 'bolu',\n",
       " 'bonus',\n",
       " 'boo',\n",
       " 'book',\n",
       " 'bookshelf',\n",
       " 'borda',\n",
       " 'bore',\n",
       " 'borrowed',\n",
       " 'bos',\n",
       " 'bosch',\n",
       " 'boss',\n",
       " 'bosslady',\n",
       " 'bot',\n",
       " 'bother',\n",
       " 'bothering',\n",
       " 'bots',\n",
       " 'bottle',\n",
       " 'bottom',\n",
       " 'bought',\n",
       " 'bounce',\n",
       " 'bout',\n",
       " 'bowl',\n",
       " 'box',\n",
       " 'boxbut',\n",
       " 'boxes',\n",
       " 'boxesshes',\n",
       " 'boy',\n",
       " 'boycott',\n",
       " 'boycottalexa',\n",
       " 'boycottamazon',\n",
       " 'boycottamazonpay',\n",
       " 'boycottingflipkart',\n",
       " 'boys',\n",
       " 'br',\n",
       " 'braindead',\n",
       " 'brake',\n",
       " 'brampton',\n",
       " 'brand',\n",
       " 'branded',\n",
       " 'brazil',\n",
       " 'brazilian',\n",
       " 'breach',\n",
       " 'break',\n",
       " 'breakable',\n",
       " 'breaking',\n",
       " 'breakwater',\n",
       " 'breathe',\n",
       " 'breathpause',\n",
       " 'brenda',\n",
       " 'brexit',\n",
       " 'brexitbritain',\n",
       " 'brick',\n",
       " 'bricks',\n",
       " 'brief',\n",
       " 'briefkasten',\n",
       " 'brill',\n",
       " 'brilliant',\n",
       " 'bring',\n",
       " 'bringbackthegood',\n",
       " 'bringbackthegoodwife',\n",
       " 'bringbackthexfiles',\n",
       " 'brings',\n",
       " 'bro',\n",
       " 'broadcast',\n",
       " 'broken',\n",
       " 'broken_heart',\n",
       " 'brother',\n",
       " 'brought',\n",
       " 'brown',\n",
       " 'browse',\n",
       " 'browser',\n",
       " 'bruh',\n",
       " 'bt',\n",
       " 'bu',\n",
       " 'bubble',\n",
       " 'bubblelined',\n",
       " 'buck',\n",
       " 'bud',\n",
       " 'buddy',\n",
       " 'budget',\n",
       " 'budgetsession',\n",
       " 'buffer',\n",
       " 'bug',\n",
       " 'buggy',\n",
       " 'build',\n",
       " 'building',\n",
       " 'buisness',\n",
       " 'bulb',\n",
       " 'bulky',\n",
       " 'bullshit',\n",
       " 'bully',\n",
       " 'bum',\n",
       " 'bumass',\n",
       " 'bump',\n",
       " 'bunch',\n",
       " 'bundle',\n",
       " 'bungie',\n",
       " 'bunion',\n",
       " 'bus',\n",
       " 'bush',\n",
       " 'business',\n",
       " 'businessinsider',\n",
       " 'businessman',\n",
       " 'busy',\n",
       " 'but',\n",
       " 'butt',\n",
       " 'butthurt',\n",
       " 'buttigieg',\n",
       " 'button',\n",
       " 'buy',\n",
       " 'buyer',\n",
       " 'buyerseller',\n",
       " 'buying',\n",
       " 'buylocal',\n",
       " 'buys',\n",
       " 'buzzfeeduk',\n",
       " 'bw',\n",
       " 'by',\n",
       " 'bycottamazon',\n",
       " 'bycottflipkart',\n",
       " 'bye',\n",
       " 'byqojas',\n",
       " 'ca',\n",
       " 'cable',\n",
       " 'cache',\n",
       " 'cal',\n",
       " 'calcium',\n",
       " 'california',\n",
       " 'call',\n",
       " 'callamazonhelp',\n",
       " 'callback',\n",
       " 'callednot',\n",
       " 'caller',\n",
       " 'callhe',\n",
       " 'calli',\n",
       " 'callmail',\n",
       " 'callousness',\n",
       " 'camera',\n",
       " 'camerai',\n",
       " 'campaign',\n",
       " 'can',\n",
       " 'canada',\n",
       " 'canadapostcorp',\n",
       " 'canara',\n",
       " 'canarabank',\n",
       " 'cancel',\n",
       " 'cancelation',\n",
       " 'cancellation',\n",
       " 'cancelled',\n",
       " 'cancelledreturned',\n",
       " 'cancelling',\n",
       " 'cancelprimeacct',\n",
       " 'canclldevery',\n",
       " 'canclled',\n",
       " 'candere',\n",
       " 'cannot',\n",
       " 'canon',\n",
       " 'cant',\n",
       " 'cap',\n",
       " 'capable',\n",
       " 'capital',\n",
       " 'capitalfloat',\n",
       " 'captain',\n",
       " 'captcha',\n",
       " 'capture',\n",
       " 'car',\n",
       " 'caramel',\n",
       " 'carbon',\n",
       " 'card',\n",
       " 'cardboard',\n",
       " 'care',\n",
       " 'careful',\n",
       " 'carefully',\n",
       " 'careless',\n",
       " 'caremagicpin',\n",
       " 'cargo',\n",
       " 'carlisle',\n",
       " 'carnival',\n",
       " 'carrier',\n",
       " 'carrot',\n",
       " 'carry',\n",
       " 'carseat',\n",
       " 'cart',\n",
       " 'carti',\n",
       " 'carton',\n",
       " 'cartoon',\n",
       " 'case',\n",
       " 'caseback',\n",
       " 'casesemail',\n",
       " 'cash',\n",
       " 'cashapp',\n",
       " 'cashback',\n",
       " 'cashbackdream',\n",
       " 'cashbacki',\n",
       " 'cashbackplesse',\n",
       " 'cashbackwhy',\n",
       " 'cashew',\n",
       " 'cashless',\n",
       " 'cast',\n",
       " 'casual',\n",
       " 'cat',\n",
       " 'cat_face_with_tears_of_joy',\n",
       " 'catalog',\n",
       " 'catalogue',\n",
       " 'catch',\n",
       " 'category',\n",
       " 'cattle',\n",
       " 'caught',\n",
       " 'cause',\n",
       " 'causedwe',\n",
       " 'cbs',\n",
       " 'cbsallaccess',\n",
       " 'cc',\n",
       " 'cces',\n",
       " 'ccjeffbezos',\n",
       " 'cd',\n",
       " 'cdard',\n",
       " 'cdrs',\n",
       " 'cease',\n",
       " 'cec',\n",
       " 'ceiling',\n",
       " 'ceinwen',\n",
       " 'celebrity',\n",
       " 'cell',\n",
       " 'cello',\n",
       " 'cellphone',\n",
       " 'cellular',\n",
       " 'censor',\n",
       " 'center',\n",
       " 'central',\n",
       " 'centre',\n",
       " 'centric',\n",
       " 'ceo',\n",
       " 'certain',\n",
       " 'certainly',\n",
       " ...]"
      ]
     },
     "execution_count": 84,
     "metadata": {},
     "output_type": "execute_result"
    }
   ],
   "source": [
    "vocab"
   ]
  },
  {
   "cell_type": "code",
   "execution_count": 85,
   "metadata": {},
   "outputs": [
    {
     "data": {
      "text/plain": [
       "RandomForestClassifier(bootstrap=True, ccp_alpha=0.0,\n",
       "                       class_weight={False: 0.9, True: 0.1}, criterion='gini',\n",
       "                       max_depth=None, max_features='auto', max_leaf_nodes=None,\n",
       "                       max_samples=None, min_impurity_decrease=0.0,\n",
       "                       min_impurity_split=None, min_samples_leaf=1,\n",
       "                       min_samples_split=2, min_weight_fraction_leaf=0.0,\n",
       "                       n_estimators=200, n_jobs=4, oob_score=False,\n",
       "                       random_state=None, verbose=1, warm_start=False)"
      ]
     },
     "execution_count": 85,
     "metadata": {},
     "output_type": "execute_result"
    }
   ],
   "source": [
    "model"
   ]
  },
  {
   "cell_type": "markdown",
   "metadata": {},
   "source": [
    "## Samples "
   ]
  },
  {
   "cell_type": "code",
   "execution_count": 86,
   "metadata": {},
   "outputs": [],
   "source": [
    "#SAMPLES DE TOUTES LES CATEGORIES\n",
    "\n",
    "##on recupere les tweets urgents manqués\n",
    "\n",
    "#urgents and not urgents tweets index\n",
    "positives = y_test[y_test==True].index\n",
    "negatives = y_test[y_test==False].index\n",
    "\n",
    "#correct and incorrect predictions index\n",
    "is_prediction_correct = y_test==y_preds\n",
    "correct_predictions   = is_prediction_correct[is_prediction_correct==True].index\n",
    "incorrect_predictions = is_prediction_correct[is_prediction_correct==False].index\n",
    "\n",
    "#true/false positive/negative index\n",
    "true_positive_index  = correct_predictions.intersection(positives)\n",
    "true_negative_index  = correct_predictions.intersection(negatives)\n",
    "false_positive_index = incorrect_predictions.intersection(negatives)\n",
    "false_negative_index = incorrect_predictions.intersection(positives)"
   ]
  },
  {
   "cell_type": "code",
   "execution_count": 87,
   "metadata": {},
   "outputs": [
    {
     "data": {
      "text/html": [
       "<div>\n",
       "<style scoped>\n",
       "    .dataframe tbody tr th:only-of-type {\n",
       "        vertical-align: middle;\n",
       "    }\n",
       "\n",
       "    .dataframe tbody tr th {\n",
       "        vertical-align: top;\n",
       "    }\n",
       "\n",
       "    .dataframe thead th {\n",
       "        text-align: right;\n",
       "    }\n",
       "</style>\n",
       "<table border=\"1\" class=\"dataframe\">\n",
       "  <thead>\n",
       "    <tr style=\"text-align: right;\">\n",
       "      <th></th>\n",
       "      <th>raw</th>\n",
       "    </tr>\n",
       "  </thead>\n",
       "  <tbody>\n",
       "    <tr>\n",
       "      <th>4981</th>\n",
       "      <td>I already called.  That's how I know your one way verification is horrible.</td>\n",
       "    </tr>\n",
       "    <tr>\n",
       "      <th>5932</th>\n",
       "      <td>Waiting for resolution, when you will refund my money.pickup person name is sanjay,and I already provide him wrong product 4 days ago, please contact to your delivery support team.\\nI request you to resolve this issue ASAP.</td>\n",
       "    </tr>\n",
       "    <tr>\n",
       "      <th>5661</th>\n",
       "      <td>For delivery already call and update regards this. But your delivery Hub reverse  and purposes fully dely the delivery so we need only my product today if you are not arrange the delivery nd support your hub no need this product</td>\n",
       "    </tr>\n",
       "    <tr>\n",
       "      <th>3099</th>\n",
       "      <td>I received the email and I just told you about the resolution your team provided. It was unsatisfactory and did not solve the problem. I cannot respond to that mail in case you don’t know - your customer care model doesn’t allow for that.</td>\n",
       "    </tr>\n",
       "    <tr>\n",
       "      <th>5558</th>\n",
       "      <td>DP is irritated. He says he is hungry and tired. Believing that station will receive the mail since AP said so, I take pity on DP and send him back with the book and ask him to return it tomorrow when they have received the mail and everything is sorted (6)</td>\n",
       "    </tr>\n",
       "    <tr>\n",
       "      <th>...</th>\n",
       "      <td>...</td>\n",
       "    </tr>\n",
       "    <tr>\n",
       "      <th>4624</th>\n",
       "      <td>I got an email saying “We would appreciate if you can elaborate your inquiry and provide more specific information, by contacting us from registered mobile number” like I told you, it’s not my account and it’s not my mobile number. If it was I would have reset the password myself</td>\n",
       "    </tr>\n",
       "    <tr>\n",
       "      <th>859</th>\n",
       "      <td>It is not about cashback, issue regarding upi transaction</td>\n",
       "    </tr>\n",
       "    <tr>\n",
       "      <th>5658</th>\n",
       "      <td>Appstore for iPhone</td>\n",
       "    </tr>\n",
       "    <tr>\n",
       "      <th>5603</th>\n",
       "      <td>@AmazonHelp is it normal for call back to take 40 minutes plus - thats how long Ive been waiting?</td>\n",
       "    </tr>\n",
       "    <tr>\n",
       "      <th>4932</th>\n",
       "      <td>I have shared the details, AGAIN. This is the third I am doing this.\\nThe link said you'll get back within 12 hrs. I am waiting.\\nYou have been warned before, no more slacking will be accepted.</td>\n",
       "    </tr>\n",
       "  </tbody>\n",
       "</table>\n",
       "<p>925 rows × 1 columns</p>\n",
       "</div>"
      ],
      "text/plain": [
       "                                                                                                                                                                                                                                                                                           raw\n",
       "4981                                                                                                                                                                                                               I already called.  That's how I know your one way verification is horrible.\n",
       "5932                                                           Waiting for resolution, when you will refund my money.pickup person name is sanjay,and I already provide him wrong product 4 days ago, please contact to your delivery support team.\\nI request you to resolve this issue ASAP.\n",
       "5661                                                      For delivery already call and update regards this. But your delivery Hub reverse  and purposes fully dely the delivery so we need only my product today if you are not arrange the delivery nd support your hub no need this product\n",
       "3099                                            I received the email and I just told you about the resolution your team provided. It was unsatisfactory and did not solve the problem. I cannot respond to that mail in case you don’t know - your customer care model doesn’t allow for that.\n",
       "5558                         DP is irritated. He says he is hungry and tired. Believing that station will receive the mail since AP said so, I take pity on DP and send him back with the book and ask him to return it tomorrow when they have received the mail and everything is sorted (6)\n",
       "...                                                                                                                                                                                                                                                                                        ...\n",
       "4624  I got an email saying “We would appreciate if you can elaborate your inquiry and provide more specific information, by contacting us from registered mobile number” like I told you, it’s not my account and it’s not my mobile number. If it was I would have reset the password myself\n",
       "859                                                                                                                                                                                                                                  It is not about cashback, issue regarding upi transaction\n",
       "5658                                                                                                                                                                                                                                                                       Appstore for iPhone\n",
       "5603                                                                                                                                                                                         @AmazonHelp is it normal for call back to take 40 minutes plus - thats how long Ive been waiting?\n",
       "4932                                                                                         I have shared the details, AGAIN. This is the third I am doing this.\\nThe link said you'll get back within 12 hrs. I am waiting.\\nYou have been warned before, no more slacking will be accepted.\n",
       "\n",
       "[925 rows x 1 columns]"
      ]
     },
     "execution_count": 87,
     "metadata": {},
     "output_type": "execute_result"
    }
   ],
   "source": [
    "df.loc[true_positive_index][['raw']]"
   ]
  },
  {
   "cell_type": "code",
   "execution_count": 88,
   "metadata": {},
   "outputs": [
    {
     "data": {
      "text/html": [
       "<div>\n",
       "<style scoped>\n",
       "    .dataframe tbody tr th:only-of-type {\n",
       "        vertical-align: middle;\n",
       "    }\n",
       "\n",
       "    .dataframe tbody tr th {\n",
       "        vertical-align: top;\n",
       "    }\n",
       "\n",
       "    .dataframe thead th {\n",
       "        text-align: right;\n",
       "    }\n",
       "</style>\n",
       "<table border=\"1\" class=\"dataframe\">\n",
       "  <thead>\n",
       "    <tr style=\"text-align: right;\">\n",
       "      <th></th>\n",
       "      <th>raw</th>\n",
       "    </tr>\n",
       "  </thead>\n",
       "  <tbody>\n",
       "    <tr>\n",
       "      <th>392</th>\n",
       "      <td>Because they’ve not heart and removed it 😢 @AmazonHelp  https://twitter.com/rishie_/status/1223002528876503044 …</td>\n",
       "    </tr>\n",
       "    <tr>\n",
       "      <th>402</th>\n",
       "      <td>Such a joke @AmazonHelp bring back Alicia Florrick into our lives.  https://twitter.com/binnsy29/status/1223342725417840640 …</td>\n",
       "    </tr>\n",
       "    <tr>\n",
       "      <th>4108</th>\n",
       "      <td>@amazon @AmazonHelp \\nAmazon search listing wrong entries. Request to rectify  pic.twitter.com/GHkn6W9S2q</td>\n",
       "    </tr>\n",
       "    <tr>\n",
       "      <th>2929</th>\n",
       "      <td>Sadly this is just one of Amazon’s automated stock responses that they’ve sent thousands of times. There’s no sign that the packaging feedback is being reviewed at all, they just send these as they want customers to think they’re being heard</td>\n",
       "    </tr>\n",
       "    <tr>\n",
       "      <th>2634</th>\n",
       "      <td>Wish to win😀\\n#AmazonPayKYCQuiz\\n@AmazonHelp\\n@Amazonquiztime\\n@amazonIN\\n@drarpita92 pic.twitter.com/A7U9AUgzG2</td>\n",
       "    </tr>\n",
       "    <tr>\n",
       "      <th>1083</th>\n",
       "      <td>Unbelievable. I’ve had fewer positive experiences with @amazon lately. I fear they are turning into @eBay with their terrible service and lies.</td>\n",
       "    </tr>\n",
       "    <tr>\n",
       "      <th>3960</th>\n",
       "      <td>i'm referring to the submission port on comixology.</td>\n",
       "    </tr>\n",
       "    <tr>\n",
       "      <th>2627</th>\n",
       "      <td>Wish to be lucky😍😍\\n#QuizTimeMorningsWithAmazon\\n@AmazonHelp\\n@Amazonquiztime\\n@amazonIN\\n@drarpita92 pic.twitter.com/zkiYmjCY0F</td>\n",
       "    </tr>\n",
       "    <tr>\n",
       "      <th>642</th>\n",
       "      <td>. @SmartHomes__ . @ShieldVoC RT @SmartHomes__: . @MoodySlayerUK @AmazonHelp Base ball season starts soon, any chance to official MLB Ale...</td>\n",
       "    </tr>\n",
       "    <tr>\n",
       "      <th>4592</th>\n",
       "      <td>Define irony: #StarTrek was built on the notion that humanity is now enlightened. Broadcasters ignore disabled viewers' basic needs. 🙄</td>\n",
       "    </tr>\n",
       "    <tr>\n",
       "      <th>5790</th>\n",
       "      <td>Vsf Amazon prime, removeu seinfeld vou cancelar minha assinatura @AmazonHelp @PrimeVideo Im going to unsubscribe since seinfeld is not available anymore bye\\n\\nNettlix&gt;&gt;&gt;&gt;&gt;&gt;&gt;you</td>\n",
       "    </tr>\n",
       "    <tr>\n",
       "      <th>399</th>\n",
       "      <td>Come on @AmazonHelp do something about it.  https://twitter.com/ainemorriss/status/1223052574930165761 …</td>\n",
       "    </tr>\n",
       "    <tr>\n",
       "      <th>534</th>\n",
       "      <td>Plz never deal with @GyftrIndia @MyIndusIndBank @SwiggyCares @swiggy_in @zomatocare @Uber_India @AmazonHelp @Paytmcare @talktoniki @niki_cares very poor useless ghatia customers service</td>\n",
       "    </tr>\n",
       "    <tr>\n",
       "      <th>4333</th>\n",
       "      <td>Literally about to cancel Amazon Prime. Pretty much the only reason being the removal of Seinfeld! Sorry @primevideouk @AmazonHelp</td>\n",
       "    </tr>\n",
       "    <tr>\n",
       "      <th>1456</th>\n",
       "      <td>@AmazonHelp N DON STOP THE RAIN (LOVE I MEANT)</td>\n",
       "    </tr>\n",
       "    <tr>\n",
       "      <th>643</th>\n",
       "      <td>. @ShieldVoC RT @SmartHomes__: . @SmartHomes__ . @MoodySlayerUK @AmazonHelp Base ball season starts soon, any chance to official MLB ...</td>\n",
       "    </tr>\n",
       "    <tr>\n",
       "      <th>1722</th>\n",
       "      <td>Thank You so much for your activism and for your voice! \\n(I enjoyed meeting you at the Warren Petition Party last Saturday.) #PittsburghForWarren</td>\n",
       "    </tr>\n",
       "    <tr>\n",
       "      <th>256</th>\n",
       "      <td>Shame on you @amazonIN @AmazonHelp</td>\n",
       "    </tr>\n",
       "    <tr>\n",
       "      <th>366</th>\n",
       "      <td>I’ll love you forever Alicia Florrick, but I can’t say the same for @primevideouk right now @AmazonHelp @AmazonUK #BringBackTheGoodWife pic.twitter.com/9h7AMB4uXw</td>\n",
       "    </tr>\n",
       "    <tr>\n",
       "      <th>2609</th>\n",
       "      <td>Damn, this again...sorry man. \\n\\nWhat are we going to do about this?\\nLooking at you @Twitch @TwitchSupport @amazon @AmazonHelp @amazon_policy</td>\n",
       "    </tr>\n",
       "    <tr>\n",
       "      <th>2632</th>\n",
       "      <td>Wish to win😀\\n#AmazonWheelOfFortune\\n@AmazonHelp\\n@Amazonquiztime\\n@amazonIN\\n@drarpita92 pic.twitter.com/MnKuE2kheq</td>\n",
       "    </tr>\n",
       "    <tr>\n",
       "      <th>351</th>\n",
       "      <td>It’s no longer on @primevideouk 😭. @AmazonHelp @AmazonUK #BringBackTheGoodWife https://twitter.com/dianalovesmaths/status/1224036188392251392 …</td>\n",
       "    </tr>\n",
       "    <tr>\n",
       "      <th>3876</th>\n",
       "      <td>Oh no I hope no one hacked your account</td>\n",
       "    </tr>\n",
       "    <tr>\n",
       "      <th>5926</th>\n",
       "      <td>@AmazonHelp #QuizTimeMorningsWithAmazon\\nI M eligible for this contest by giving ALL correct answers.hopefully I will win this contest as my all answers are correct...\\nThanks Amazon for conducting such knowledgefull quiz contests pic.twitter.com/HG7PgwxpiF</td>\n",
       "    </tr>\n",
       "    <tr>\n",
       "      <th>1616</th>\n",
       "      <td>@TwitchSupport @Twitch @AmazonHelp (8/9) Why does #Twitch think that with more streaming platforms popping up such as #Mixer or #YouTubeGaming that it is OK to have such inconsistent standards when it comes to TOS and customer support and to literally rob their users?</td>\n",
       "    </tr>\n",
       "    <tr>\n",
       "      <th>370</th>\n",
       "      <td>Can’t move onto the @thegoodfight as I cannot finish The Good Wife thanks to @primevideouk @AmazonHelp #BringBackTheGoodWife #TheGoodFight</td>\n",
       "    </tr>\n",
       "    <tr>\n",
       "      <th>348</th>\n",
       "      <td>They’ve taken it off Prime 😢 @primevideouk @AmazonUK @AmazonHelp #BringBackTheGoodWife https://twitter.com/dianalovesmaths/status/1224036188392251392 …</td>\n",
       "    </tr>\n",
       "    <tr>\n",
       "      <th>1023</th>\n",
       "      <td>Grateful for your kind words ❤️</td>\n",
       "    </tr>\n",
       "    <tr>\n",
       "      <th>1607</th>\n",
       "      <td>@TwitchSupport @Twitch @AmazonHelp (8/9) Why does #Twitch think that with more streaming platforms popping up such as #Mixer or #YouTubeGaming that it is OK to have such inconsistent standards when it comes to TOS and customer support and to literally rob their users?</td>\n",
       "    </tr>\n",
       "    <tr>\n",
       "      <th>2636</th>\n",
       "      <td>Man rip</td>\n",
       "    </tr>\n",
       "    <tr>\n",
       "      <th>1614</th>\n",
       "      <td>@TwitchSupport @Twitch @AmazonHelp (1/9) These are automated tweets because #Twitch customer support is so shit and @Amazon should know about it. These tweets will show up until my issue is resolved plus every additional day they ignore this :)</td>\n",
       "    </tr>\n",
       "    <tr>\n",
       "      <th>1620</th>\n",
       "      <td>@TwitchSupport @Twitch @AmazonHelp (4/9) My account has never had any strike or suspension before this and I have interacted with Support and Staff in order to report, applied for partnership, and went to Twitchcon using this username with no issues. #Twitch</td>\n",
       "    </tr>\n",
       "    <tr>\n",
       "      <th>610</th>\n",
       "      <td>https://amzn.to/2u6DM8w \\nClick On The Link to Buy This Super Cool #KabirSingh #Sunglasses\\n https://amzn.to/2u6DM8w \\n@amazon @amazonaffilia @AmazonHelp @amazonindia8 pic.twitter.com/89zyM2OGKX</td>\n",
       "    </tr>\n",
       "    <tr>\n",
       "      <th>1416</th>\n",
       "      <td>In fairness @giselefetterman should not be blamed for the pipeline/fracking issues of PA. She’s a nice person and wife of a politician, not a lawmaker. She’s used her platform for the poor, immigrants, equality. I met her once, great first impression.</td>\n",
       "    </tr>\n",
       "    <tr>\n",
       "      <th>385</th>\n",
       "      <td>They’ve now removed them because @AmazonHelp hate us  https://twitter.com/janeycakez/status/1222933995039657985 …</td>\n",
       "    </tr>\n",
       "    <tr>\n",
       "      <th>6001</th>\n",
       "      <td>@AmazonHelp 𝙔𝙊𝙐 𝘿𝙄𝘿𝙉'𝙏 𝙏𝙀𝙇𝙇 𝙈𝙀 𝙄𝙏 𝙒𝘼𝙎 𝙎𝙀𝙉. 𝘿𝙄𝘿𝙉'𝙏 𝘼𝙎𝙆 𝙈𝙀 𝙃𝙊𝙒 𝙄 𝙇𝙄𝙆𝙀𝘿 𝙄𝙏. 𝙉𝙊 𝘿𝙀𝙇𝙄𝙑𝙀𝙍𝙔 𝙋𝙃𝙊𝙏𝙊. 𝙒𝙃𝙀𝙉 𝙄 𝙁𝙊𝙐𝙉𝘿 𝙊𝙐𝙏 𝘼𝘽𝙊𝙐𝙏 6 𝙈𝙊𝙉𝙏𝙃𝙎 𝙇𝘼𝙏𝙀𝙍 . 𝙃𝙤𝙬 𝙄 𝙖𝙨𝙠𝙚𝙙 𝙖 𝙎𝙊 𝘾𝘼𝙇𝙇𝙀𝘿 𝘾𝙐𝙎𝙏𝙊𝙈𝙀𝙍</td>\n",
       "    </tr>\n",
       "    <tr>\n",
       "      <th>1617</th>\n",
       "      <td>@TwitchSupport @Twitch @AmazonHelp (7/9) Why does #Twitch think it's OK to deny me access to the revenue I rightfully earned from my time as a streamer? I also made over $1,000 through Paypal but that money is already in my account because it wasn't via Twitch.</td>\n",
       "    </tr>\n",
       "    <tr>\n",
       "      <th>4276</th>\n",
       "      <td>⁦@AmazonHelp⁩ Please, Malcolm in the Middle. pic.twitter.com/dCjl771axu</td>\n",
       "    </tr>\n",
       "    <tr>\n",
       "      <th>1105</th>\n",
       "      <td>For a giant corporation, @Amazon @AmazonHelp has THE worst customer service ever.</td>\n",
       "    </tr>\n",
       "    <tr>\n",
       "      <th>5477</th>\n",
       "      <td>Hey @AmazonUK @AmazonHelp how do you justify recording this information? Seems to me that recording such sensitive info without good reason is against GDPR regulations #GDPR #dataprotection #dataprivacy</td>\n",
       "    </tr>\n",
       "    <tr>\n",
       "      <th>2532</th>\n",
       "      <td>also wrong, i am from Saudi Arabia 🇸🇦</td>\n",
       "    </tr>\n",
       "    <tr>\n",
       "      <th>1159</th>\n",
       "      <td>The subtitles originally included had full translations of the dialogue and lyrics and now we have this: https://twitter.com/MoviesSilently/status/1224814604284350466 …</td>\n",
       "    </tr>\n",
       "    <tr>\n",
       "      <th>3115</th>\n",
       "      <td>Thank you.  ❤️</td>\n",
       "    </tr>\n",
       "    <tr>\n",
       "      <th>396</th>\n",
       "      <td>And now @amazonhelp have removed it from @primevideouk https://twitter.com/mednurselaura1/status/1223036127252230149 …</td>\n",
       "    </tr>\n",
       "    <tr>\n",
       "      <th>1324</th>\n",
       "      <td>This is how bad @amazon @AmazonHelp @WholeFoods @JeffBezos is.....\\n\\nDisgusting. pic.twitter.com/w02BzHXAuB</td>\n",
       "    </tr>\n",
       "    <tr>\n",
       "      <th>6106</th>\n",
       "      <td>@WholeFoods @AmazonHelp you really need to get these panorama meats out of your stores. It’s disgusting and shoppers love to send it by mistake.  pic.twitter.com/VIMiOeM3Ul</td>\n",
       "    </tr>\n",
       "    <tr>\n",
       "      <th>1602</th>\n",
       "      <td>@TwitchSupport @Twitch @AmazonHelp (4/9) My account has never had any strike or suspension before this and I have interacted with Support and Staff in order to report, applied for partnership, and went to Twitchcon using this username with no issues. #Twitch</td>\n",
       "    </tr>\n",
       "    <tr>\n",
       "      <th>3480</th>\n",
       "      <td>Another *</td>\n",
       "    </tr>\n",
       "    <tr>\n",
       "      <th>2457</th>\n",
       "      <td>@AmazonHelp \\n\\nOffer 1:\\nIf min bill is 200₹ and max cashback is 50₹ then how come it's 50% off 🤦🏽‍♂\\n\\n25% right?\\n\\nOffer 2:\\n\\nIf min bill is 500₹ and max cashback is 100₹ then how come it's 50% off 🤦🏽‍♂\\n\\n20% right?  pic.twitter.com/5iirB4Ez1r</td>\n",
       "    </tr>\n",
       "    <tr>\n",
       "      <th>5505</th>\n",
       "      <td>Shill.</td>\n",
       "    </tr>\n",
       "    <tr>\n",
       "      <th>2553</th>\n",
       "      <td>Are you serious? This is what your link produces pic.twitter.com/WGNZb9Ee1L</td>\n",
       "    </tr>\n",
       "    <tr>\n",
       "      <th>5441</th>\n",
       "      <td>@amazon @AmazonHelp y’all have no customer service experience this is horrible. 🤦🏾‍♀️</td>\n",
       "    </tr>\n",
       "    <tr>\n",
       "      <th>4048</th>\n",
       "      <td>I have get mail about refund/replace .. that's  my mail ID only so plz process further when am getting replace/refund almost 1 week passed @AmazonHelp @amazon @amazon</td>\n",
       "    </tr>\n",
       "    <tr>\n",
       "      <th>3360</th>\n",
       "      <td>@washingtonpost @AmazonHelp Wow! Jeff Bezos girlfriends brother is suing him. Money hoarders is the definition of the Sanchez family..Lauren and the brother</td>\n",
       "    </tr>\n",
       "    <tr>\n",
       "      <th>2109</th>\n",
       "      <td>@AmazonHelp I just canceled my Prime membership and no one wants to know why?????? WHy is this?</td>\n",
       "    </tr>\n",
       "    <tr>\n",
       "      <th>4299</th>\n",
       "      <td>bring back The Nanny!!! @AmazonHelp @PrimeVideo pic.twitter.com/mG9aGKSmLl</td>\n",
       "    </tr>\n",
       "    <tr>\n",
       "      <th>4924</th>\n",
       "      <td>I was NOT happy. pic.twitter.com/fV62we3wDb</td>\n",
       "    </tr>\n",
       "    <tr>\n",
       "      <th>362</th>\n",
       "      <td>The only woman you need is Alicia Florrick... #SorryAlexa. #BringBackTheGoodWife @AmazonUK @AmazonHelp  https://twitter.com/thatnortherner1/status/1222483759120908288 … pic.twitter.com/YYXw6Xf0uP</td>\n",
       "    </tr>\n",
       "    <tr>\n",
       "      <th>4390</th>\n",
       "      <td>[Alt for other images: Calvin ack'd Amazon's necessity to some people, related they had their own issues w delivery when they were disabled, and lamented that @AmazonHelp has been unaccountable in helping this year, and will send that info to their management.]  \\n\\n#ThanksCalvinS</td>\n",
       "    </tr>\n",
       "    <tr>\n",
       "      <th>3164</th>\n",
       "      <td>It stopped happening after a while. Thanks</td>\n",
       "    </tr>\n",
       "    <tr>\n",
       "      <th>2710</th>\n",
       "      <td>Remember when @amazon charged my credit card $500 for no reason at all then @AmazonHelp refused to give it back</td>\n",
       "    </tr>\n",
       "    <tr>\n",
       "      <th>6289</th>\n",
       "      <td>@AmazonHelp Hey, if I order this, will it be the same cover as pictured here?  pic.twitter.com/Q1e8V6dfV9</td>\n",
       "    </tr>\n",
       "    <tr>\n",
       "      <th>1182</th>\n",
       "      <td>Must be the latter. Absolutely crazy.</td>\n",
       "    </tr>\n",
       "    <tr>\n",
       "      <th>1619</th>\n",
       "      <td>@TwitchSupport @Twitch @AmazonHelp (5/9) If you can unban and allow @c0ff33wh0re to change his name why not me? Is it worth keeping my $1,000? Do I need a partner like @badnewsbaron to get any support? #Twitch https://imgur.com/a/kEjR5i2</td>\n",
       "    </tr>\n",
       "    <tr>\n",
       "      <th>3015</th>\n",
       "      <td>hey @AmazonHelp.  I think these are TOS violations.  @giselefetterman and I would appreciate if these were removed.  Thank you pic.twitter.com/pmkzZMhMNI</td>\n",
       "    </tr>\n",
       "    <tr>\n",
       "      <th>5902</th>\n",
       "      <td>aye @JeffBezos Jeff A Bezos and the A stand for Alexa ❤️💯\\n@NessaQueenAlien @LilTunechi @YoungMoneySite @amazon @AmazonHelp @amazonmusic @InsideAmazon pic.twitter.com/5HRbyo7GuE</td>\n",
       "    </tr>\n",
       "    <tr>\n",
       "      <th>5648</th>\n",
       "      <td>😂 Saturday mornings will never be the same again.</td>\n",
       "    </tr>\n",
       "    <tr>\n",
       "      <th>6163</th>\n",
       "      <td>Amazon</td>\n",
       "    </tr>\n",
       "    <tr>\n",
       "      <th>6123</th>\n",
       "      <td>Thank you.</td>\n",
       "    </tr>\n",
       "    <tr>\n",
       "      <th>4898</th>\n",
       "      <td>Do any Amazon consumer-facing retail locations take plastic items for recycling? I work by Amazon 4-star and Amazon Go stores and would love to drop off my plastic Amazon packaging here.</td>\n",
       "    </tr>\n",
       "    <tr>\n",
       "      <th>3898</th>\n",
       "      <td>Spotify uses ogg vorbis(lossless) \\nBut amazon’s is lossy</td>\n",
       "    </tr>\n",
       "    <tr>\n",
       "      <th>2815</th>\n",
       "      <td>It is a serious manner, they pledged to being carbon neutral and this is a metric amount of trash</td>\n",
       "    </tr>\n",
       "    <tr>\n",
       "      <th>1417</th>\n",
       "      <td>Well done Gisele. You have been an advocate for all of those feeling uncertain if they are welcome. We are a nation of immigrants. All are welcome here.</td>\n",
       "    </tr>\n",
       "    <tr>\n",
       "      <th>5997</th>\n",
       "      <td>@AmazonHelp 𝙩𝙝𝙚 𝙧𝙪𝙙𝙚𝙨𝙩 𝙘𝙪𝙨𝙩𝙤𝙢𝙚𝙧𝙨 𝙥𝙚𝙤𝙥𝙡𝙚  𝙝𝙖𝙫𝙚 𝙀𝙑𝙀𝙍!!! 𝙃𝘼𝘿 𝙏𝙃𝙀 𝙈𝙄𝙎𝙁𝙊𝙍𝙏𝙐𝙉𝙀 𝙤𝙛 𝙀𝙑𝙀𝙍 𝙙𝙚𝙖𝙡𝙞𝙣𝙜 𝙬𝙞𝙩𝙝 𝙞𝙣 𝙢𝙮 𝙡𝙞𝙛𝙚. 𝙏𝙝𝙚𝙣 𝙮𝙤𝙪 𝙠𝙚𝙥𝙩 𝙨𝙚𝙣𝙙𝙞𝙣𝙜 𝙢𝙚 𝙚𝙢𝙖𝙞𝙡 𝙖𝙗𝙤𝙪𝙩 𝙝𝙤𝙚 𝙄 𝙡𝙞𝙠𝙚 𝙩𝙝𝙚 2</td>\n",
       "    </tr>\n",
       "  </tbody>\n",
       "</table>\n",
       "</div>"
      ],
      "text/plain": [
       "                                                                                                                                                                                                                                                                                            raw\n",
       "392                                                                                                                                                                            Because they’ve not heart and removed it 😢 @AmazonHelp  https://twitter.com/rishie_/status/1223002528876503044 …\n",
       "402                                                                                                                                                               Such a joke @AmazonHelp bring back Alicia Florrick into our lives.  https://twitter.com/binnsy29/status/1223342725417840640 …\n",
       "4108                                                                                                                                                                                  @amazon @AmazonHelp \\nAmazon search listing wrong entries. Request to rectify  pic.twitter.com/GHkn6W9S2q\n",
       "2929                                          Sadly this is just one of Amazon’s automated stock responses that they’ve sent thousands of times. There’s no sign that the packaging feedback is being reviewed at all, they just send these as they want customers to think they’re being heard\n",
       "2634                                                                                                                                                                           Wish to win😀\\n#AmazonPayKYCQuiz\\n@AmazonHelp\\n@Amazonquiztime\\n@amazonIN\\n@drarpita92 pic.twitter.com/A7U9AUgzG2\n",
       "1083                                                                                                                                            Unbelievable. I’ve had fewer positive experiences with @amazon lately. I fear they are turning into @eBay with their terrible service and lies.\n",
       "3960                                                                                                                                                                                                                                        i'm referring to the submission port on comixology.\n",
       "2627                                                                                                                                                           Wish to be lucky😍😍\\n#QuizTimeMorningsWithAmazon\\n@AmazonHelp\\n@Amazonquiztime\\n@amazonIN\\n@drarpita92 pic.twitter.com/zkiYmjCY0F\n",
       "642                                                                                                                                                 . @SmartHomes__ . @ShieldVoC RT @SmartHomes__: . @MoodySlayerUK @AmazonHelp Base ball season starts soon, any chance to official MLB Ale...\n",
       "4592                                                                                                                                                     Define irony: #StarTrek was built on the notion that humanity is now enlightened. Broadcasters ignore disabled viewers' basic needs. 🙄\n",
       "5790                                                                                                          Vsf Amazon prime, removeu seinfeld vou cancelar minha assinatura @AmazonHelp @PrimeVideo Im going to unsubscribe since seinfeld is not available anymore bye\\n\\nNettlix>>>>>>>you\n",
       "399                                                                                                                                                                                    Come on @AmazonHelp do something about it.  https://twitter.com/ainemorriss/status/1223052574930165761 …\n",
       "534                                                                                                   Plz never deal with @GyftrIndia @MyIndusIndBank @SwiggyCares @swiggy_in @zomatocare @Uber_India @AmazonHelp @Paytmcare @talktoniki @niki_cares very poor useless ghatia customers service\n",
       "4333                                                                                                                                                         Literally about to cancel Amazon Prime. Pretty much the only reason being the removal of Seinfeld! Sorry @primevideouk @AmazonHelp\n",
       "1456                                                                                                                                                                                                                                             @AmazonHelp N DON STOP THE RAIN (LOVE I MEANT)\n",
       "643                                                                                                                                                    . @ShieldVoC RT @SmartHomes__: . @SmartHomes__ . @MoodySlayerUK @AmazonHelp Base ball season starts soon, any chance to official MLB ...\n",
       "1722                                                                                                                                         Thank You so much for your activism and for your voice! \\n(I enjoyed meeting you at the Warren Petition Party last Saturday.) #PittsburghForWarren\n",
       "256                                                                                                                                                                                                                                                          Shame on you @amazonIN @AmazonHelp\n",
       "366                                                                                                                          I’ll love you forever Alicia Florrick, but I can’t say the same for @primevideouk right now @AmazonHelp @AmazonUK #BringBackTheGoodWife pic.twitter.com/9h7AMB4uXw\n",
       "2609                                                                                                                                            Damn, this again...sorry man. \\n\\nWhat are we going to do about this?\\nLooking at you @Twitch @TwitchSupport @amazon @AmazonHelp @amazon_policy\n",
       "2632                                                                                                                                                                       Wish to win😀\\n#AmazonWheelOfFortune\\n@AmazonHelp\\n@Amazonquiztime\\n@amazonIN\\n@drarpita92 pic.twitter.com/MnKuE2kheq\n",
       "351                                                                                                                                             It’s no longer on @primevideouk 😭. @AmazonHelp @AmazonUK #BringBackTheGoodWife https://twitter.com/dianalovesmaths/status/1224036188392251392 …\n",
       "3876                                                                                                                                                                                                                                                    Oh no I hope no one hacked your account\n",
       "5926                          @AmazonHelp #QuizTimeMorningsWithAmazon\\nI M eligible for this contest by giving ALL correct answers.hopefully I will win this contest as my all answers are correct...\\nThanks Amazon for conducting such knowledgefull quiz contests pic.twitter.com/HG7PgwxpiF\n",
       "1616               @TwitchSupport @Twitch @AmazonHelp (8/9) Why does #Twitch think that with more streaming platforms popping up such as #Mixer or #YouTubeGaming that it is OK to have such inconsistent standards when it comes to TOS and customer support and to literally rob their users?\n",
       "370                                                                                                                                                  Can’t move onto the @thegoodfight as I cannot finish The Good Wife thanks to @primevideouk @AmazonHelp #BringBackTheGoodWife #TheGoodFight\n",
       "348                                                                                                                                     They’ve taken it off Prime 😢 @primevideouk @AmazonUK @AmazonHelp #BringBackTheGoodWife https://twitter.com/dianalovesmaths/status/1224036188392251392 …\n",
       "1023                                                                                                                                                                                                                                                            Grateful for your kind words ❤️\n",
       "1607               @TwitchSupport @Twitch @AmazonHelp (8/9) Why does #Twitch think that with more streaming platforms popping up such as #Mixer or #YouTubeGaming that it is OK to have such inconsistent standards when it comes to TOS and customer support and to literally rob their users?\n",
       "2636                                                                                                                                                                                                                                                                                    Man rip\n",
       "1614                                       @TwitchSupport @Twitch @AmazonHelp (1/9) These are automated tweets because #Twitch customer support is so shit and @Amazon should know about it. These tweets will show up until my issue is resolved plus every additional day they ignore this :)\n",
       "1620                         @TwitchSupport @Twitch @AmazonHelp (4/9) My account has never had any strike or suspension before this and I have interacted with Support and Staff in order to report, applied for partnership, and went to Twitchcon using this username with no issues. #Twitch\n",
       "610                                                                                          https://amzn.to/2u6DM8w \\nClick On The Link to Buy This Super Cool #KabirSingh #Sunglasses\\n https://amzn.to/2u6DM8w \\n@amazon @amazonaffilia @AmazonHelp @amazonindia8 pic.twitter.com/89zyM2OGKX\n",
       "1416                                In fairness @giselefetterman should not be blamed for the pipeline/fracking issues of PA. She’s a nice person and wife of a politician, not a lawmaker. She’s used her platform for the poor, immigrants, equality. I met her once, great first impression.\n",
       "385                                                                                                                                                                           They’ve now removed them because @AmazonHelp hate us  https://twitter.com/janeycakez/status/1222933995039657985 …\n",
       "6001                                                                                                                       @AmazonHelp 𝙔𝙊𝙐 𝘿𝙄𝘿𝙉'𝙏 𝙏𝙀𝙇𝙇 𝙈𝙀 𝙄𝙏 𝙒𝘼𝙎 𝙎𝙀𝙉. 𝘿𝙄𝘿𝙉'𝙏 𝘼𝙎𝙆 𝙈𝙀 𝙃𝙊𝙒 𝙄 𝙇𝙄𝙆𝙀𝘿 𝙄𝙏. 𝙉𝙊 𝘿𝙀𝙇𝙄𝙑𝙀𝙍𝙔 𝙋𝙃𝙊𝙏𝙊. 𝙒𝙃𝙀𝙉 𝙄 𝙁𝙊𝙐𝙉𝘿 𝙊𝙐𝙏 𝘼𝘽𝙊𝙐𝙏 6 𝙈𝙊𝙉𝙏𝙃𝙎 𝙇𝘼𝙏𝙀𝙍 . 𝙃𝙤𝙬 𝙄 𝙖𝙨𝙠𝙚𝙙 𝙖 𝙎𝙊 𝘾𝘼𝙇𝙇𝙀𝘿 𝘾𝙐𝙎𝙏𝙊𝙈𝙀𝙍\n",
       "1617                      @TwitchSupport @Twitch @AmazonHelp (7/9) Why does #Twitch think it's OK to deny me access to the revenue I rightfully earned from my time as a streamer? I also made over $1,000 through Paypal but that money is already in my account because it wasn't via Twitch.\n",
       "4276                                                                                                                                                                                                                    ⁦@AmazonHelp⁩ Please, Malcolm in the Middle. pic.twitter.com/dCjl771axu\n",
       "1105                                                                                                                                                                                                          For a giant corporation, @Amazon @AmazonHelp has THE worst customer service ever.\n",
       "5477                                                                                 Hey @AmazonUK @AmazonHelp how do you justify recording this information? Seems to me that recording such sensitive info without good reason is against GDPR regulations #GDPR #dataprotection #dataprivacy\n",
       "2532                                                                                                                                                                                                                                                      also wrong, i am from Saudi Arabia 🇸🇦\n",
       "1159                                                                                                                   The subtitles originally included had full translations of the dialogue and lyrics and now we have this: https://twitter.com/MoviesSilently/status/1224814604284350466 …\n",
       "3115                                                                                                                                                                                                                                                                             Thank you.  ❤️\n",
       "396                                                                                                                                                                      And now @amazonhelp have removed it from @primevideouk https://twitter.com/mednurselaura1/status/1223036127252230149 …\n",
       "1324                                                                                                                                                                               This is how bad @amazon @AmazonHelp @WholeFoods @JeffBezos is.....\\n\\nDisgusting. pic.twitter.com/w02BzHXAuB\n",
       "6106                                                                                                               @WholeFoods @AmazonHelp you really need to get these panorama meats out of your stores. It’s disgusting and shoppers love to send it by mistake.  pic.twitter.com/VIMiOeM3Ul\n",
       "1602                         @TwitchSupport @Twitch @AmazonHelp (4/9) My account has never had any strike or suspension before this and I have interacted with Support and Staff in order to report, applied for partnership, and went to Twitchcon using this username with no issues. #Twitch\n",
       "3480                                                                                                                                                                                                                                                                                  Another *\n",
       "2457                                  @AmazonHelp \\n\\nOffer 1:\\nIf min bill is 200₹ and max cashback is 50₹ then how come it's 50% off 🤦🏽‍♂\\n\\n25% right?\\n\\nOffer 2:\\n\\nIf min bill is 500₹ and max cashback is 100₹ then how come it's 50% off 🤦🏽‍♂\\n\\n20% right?  pic.twitter.com/5iirB4Ez1r\n",
       "5505                                                                                                                                                                                                                                                                                     Shill.\n",
       "2553                                                                                                                                                                                                                Are you serious? This is what your link produces pic.twitter.com/WGNZb9Ee1L\n",
       "5441                                                                                                                                                                                                      @amazon @AmazonHelp y’all have no customer service experience this is horrible. 🤦🏾‍♀️\n",
       "4048                                                                                                                     I have get mail about refund/replace .. that's  my mail ID only so plz process further when am getting replace/refund almost 1 week passed @AmazonHelp @amazon @amazon\n",
       "3360                                                                                                                               @washingtonpost @AmazonHelp Wow! Jeff Bezos girlfriends brother is suing him. Money hoarders is the definition of the Sanchez family..Lauren and the brother\n",
       "2109                                                                                                                                                                                            @AmazonHelp I just canceled my Prime membership and no one wants to know why?????? WHy is this?\n",
       "4299                                                                                                                                                                                                                 bring back The Nanny!!! @AmazonHelp @PrimeVideo pic.twitter.com/mG9aGKSmLl\n",
       "4924                                                                                                                                                                                                                                                I was NOT happy. pic.twitter.com/fV62we3wDb\n",
       "362                                                                                         The only woman you need is Alicia Florrick... #SorryAlexa. #BringBackTheGoodWife @AmazonUK @AmazonHelp  https://twitter.com/thatnortherner1/status/1222483759120908288 … pic.twitter.com/YYXw6Xf0uP\n",
       "4390  [Alt for other images: Calvin ack'd Amazon's necessity to some people, related they had their own issues w delivery when they were disabled, and lamented that @AmazonHelp has been unaccountable in helping this year, and will send that info to their management.]  \\n\\n#ThanksCalvinS\n",
       "3164                                                                                                                                                                                                                                                 It stopped happening after a while. Thanks\n",
       "2710                                                                                                                                                                            Remember when @amazon charged my credit card $500 for no reason at all then @AmazonHelp refused to give it back\n",
       "6289                                                                                                                                                                                  @AmazonHelp Hey, if I order this, will it be the same cover as pictured here?  pic.twitter.com/Q1e8V6dfV9\n",
       "1182                                                                                                                                                                                                                                                      Must be the latter. Absolutely crazy.\n",
       "1619                                             @TwitchSupport @Twitch @AmazonHelp (5/9) If you can unban and allow @c0ff33wh0re to change his name why not me? Is it worth keeping my $1,000? Do I need a partner like @badnewsbaron to get any support? #Twitch https://imgur.com/a/kEjR5i2 \n",
       "3015                                                                                                                                  hey @AmazonHelp.  I think these are TOS violations.  @giselefetterman and I would appreciate if these were removed.  Thank you pic.twitter.com/pmkzZMhMNI\n",
       "5902                                                                                                          aye @JeffBezos Jeff A Bezos and the A stand for Alexa ❤️💯\\n@NessaQueenAlien @LilTunechi @YoungMoneySite @amazon @AmazonHelp @amazonmusic @InsideAmazon pic.twitter.com/5HRbyo7GuE\n",
       "5648                                                                                                                                                                                                                                          😂 Saturday mornings will never be the same again.\n",
       "6163                                                                                                                                                                                                                                                                                     Amazon\n",
       "6123                                                                                                                                                                                                                                                                                 Thank you.\n",
       "4898                                                                                                 Do any Amazon consumer-facing retail locations take plastic items for recycling? I work by Amazon 4-star and Amazon Go stores and would love to drop off my plastic Amazon packaging here.\n",
       "3898                                                                                                                                                                                                                                  Spotify uses ogg vorbis(lossless) \\nBut amazon’s is lossy\n",
       "2815                                                                                                                                                                                          It is a serious manner, they pledged to being carbon neutral and this is a metric amount of trash\n",
       "1417                                                                                                                                   Well done Gisele. You have been an advocate for all of those feeling uncertain if they are welcome. We are a nation of immigrants. All are welcome here.\n",
       "5997                                                                                                                            @AmazonHelp 𝙩𝙝𝙚 𝙧𝙪𝙙𝙚𝙨𝙩 𝙘𝙪𝙨𝙩𝙤𝙢𝙚𝙧𝙨 𝙥𝙚𝙤𝙥𝙡𝙚  𝙝𝙖𝙫𝙚 𝙀𝙑𝙀𝙍!!! 𝙃𝘼𝘿 𝙏𝙃𝙀 𝙈𝙄𝙎𝙁𝙊𝙍𝙏𝙐𝙉𝙀 𝙤𝙛 𝙀𝙑𝙀𝙍 𝙙𝙚𝙖𝙡𝙞𝙣𝙜 𝙬𝙞𝙩𝙝 𝙞𝙣 𝙢𝙮 𝙡𝙞𝙛𝙚. 𝙏𝙝𝙚𝙣 𝙮𝙤𝙪 𝙠𝙚𝙥𝙩 𝙨𝙚𝙣𝙙𝙞𝙣𝙜 𝙢𝙚 𝙚𝙢𝙖𝙞𝙡 𝙖𝙗𝙤𝙪𝙩 𝙝𝙤𝙚 𝙄 𝙡𝙞𝙠𝙚 𝙩𝙝𝙚 2"
      ]
     },
     "execution_count": 88,
     "metadata": {},
     "output_type": "execute_result"
    }
   ],
   "source": [
    "df.loc[true_negative_index][['raw']]"
   ]
  },
  {
   "cell_type": "code",
   "execution_count": 89,
   "metadata": {},
   "outputs": [
    {
     "data": {
      "text/html": [
       "<div>\n",
       "<style scoped>\n",
       "    .dataframe tbody tr th:only-of-type {\n",
       "        vertical-align: middle;\n",
       "    }\n",
       "\n",
       "    .dataframe tbody tr th {\n",
       "        vertical-align: top;\n",
       "    }\n",
       "\n",
       "    .dataframe thead th {\n",
       "        text-align: right;\n",
       "    }\n",
       "</style>\n",
       "<table border=\"1\" class=\"dataframe\">\n",
       "  <thead>\n",
       "    <tr style=\"text-align: right;\">\n",
       "      <th></th>\n",
       "      <th>raw</th>\n",
       "    </tr>\n",
       "  </thead>\n",
       "  <tbody>\n",
       "    <tr>\n",
       "      <th>6077</th>\n",
       "      <td>Yes sure :)</td>\n",
       "    </tr>\n",
       "    <tr>\n",
       "      <th>3722</th>\n",
       "      <td>You shouldn't even be using this type of packaging #WarOnPlastic  Does Amazon even realise the state of our planet!</td>\n",
       "    </tr>\n",
       "    <tr>\n",
       "      <th>3508</th>\n",
       "      <td>All posts are about the item purchased and my feelings after using it</td>\n",
       "    </tr>\n",
       "    <tr>\n",
       "      <th>4643</th>\n",
       "      <td>@AmazonHelp  when is the digital release of sarileru neekevaru</td>\n",
       "    </tr>\n",
       "    <tr>\n",
       "      <th>3291</th>\n",
       "      <td>Update - still no contact from @AmazonHelp</td>\n",
       "    </tr>\n",
       "    <tr>\n",
       "      <th>1139</th>\n",
       "      <td>Hi, I’ll DM you now. I tried the ‘call me’ function earlier which didn’t work and I’m not downloading the app for a web chat</td>\n",
       "    </tr>\n",
       "    <tr>\n",
       "      <th>4866</th>\n",
       "      <td>I’m glad you got the team to help you out because so far, the show it’s included on the membership.\\nHope the issue gets resolved soon! \\nChuck is very important to us!</td>\n",
       "    </tr>\n",
       "    <tr>\n",
       "      <th>2111</th>\n",
       "      <td>Yes multiple times, they have hit walls unlocking and kept trying the same steps over and over. They told me just to start a new account. Then I lose my prime paid days, all my movies and tv shows I bought and will not be able to access my wedding registry!</td>\n",
       "    </tr>\n",
       "    <tr>\n",
       "      <th>6089</th>\n",
       "      <td>@AmazonHelp 100% kadhal movie release today or tomorrow..\\nI am a prime video member..pls don't ignore my request....also i want iruttu,naan avalai sanditha podhu movie</td>\n",
       "    </tr>\n",
       "    <tr>\n",
       "      <th>3114</th>\n",
       "      <td>My husband ordered the items and dont know his login. Is there any way to log this without signing in?</td>\n",
       "    </tr>\n",
       "    <tr>\n",
       "      <th>6197</th>\n",
       "      <td>That’s disgusting 😡</td>\n",
       "    </tr>\n",
       "    <tr>\n",
       "      <th>194</th>\n",
       "      <td>Sure :)</td>\n",
       "    </tr>\n",
       "    <tr>\n",
       "      <th>3135</th>\n",
       "      <td>Thank you for bringing this to light!! \\n\\nThanks #Amazon for addressing this and demonstrating values customers can be proud of.\\n\\n👍👍 And FYI immigrants, we’ve got plenty of room. Can’t wait to meet you.</td>\n",
       "    </tr>\n",
       "    <tr>\n",
       "      <th>2501</th>\n",
       "      <td>@amazon @AmazonHelp @amazonIN what the hell is mathrubhasha? Why don't you never talk in a language all Indians can understand? Why do you communicate with most of the Indians in an alien language? Do you have guts to use some other languages in France or German? pic.twitter.com/YGig10Lgll</td>\n",
       "    </tr>\n",
       "    <tr>\n",
       "      <th>4733</th>\n",
       "      <td>Wasn't very helpful. For a billion dollar company you would think us artist could at least be paid ON TIME.. I'm sure it's all automatically done and not human error but imagine your paycheck not coming on time.. I'm sure you'd be annoyed at the inconvenience.</td>\n",
       "    </tr>\n",
       "    <tr>\n",
       "      <th>3566</th>\n",
       "      <td>Be aware that #AmazonWardeobe is impossible to use for anything but cheap items because there is a secret £100 limit that you don't find out about until after you waste your evening filling your basket. Possibly still useful for cheap items. Thanks @AmazonHelp for trying, anyway.  https://twitter.com/RobFisher/status/1224063768705093632 …</td>\n",
       "    </tr>\n",
       "    <tr>\n",
       "      <th>1338</th>\n",
       "      <td>Scratch ur self ... Amazon sucks</td>\n",
       "    </tr>\n",
       "    <tr>\n",
       "      <th>150</th>\n",
       "      <td>Bought GalaxyM20(CharcoalBlack,3+32GB) from @amazonIN @AmazonNews_IN @AmazonHelp #amazonindia on 24 Mar,19. Slow since beginning. Updated 14 Jan, 20 to @Android #Android10 by @Samsung_IN @SamsungMobile @SamsungNewsIN @Samsung @CEOofSamsung.My #GalaxyM20 hanged and dead situation.</td>\n",
       "    </tr>\n",
       "    <tr>\n",
       "      <th>5621</th>\n",
       "      <td>oh shiiiiiiit - get onto Amazon live chat, they're usually really helpful.  I assume it's a 3rd party seller from within Amazon though?</td>\n",
       "    </tr>\n",
       "    <tr>\n",
       "      <th>821</th>\n",
       "      <td>Bad bot!</td>\n",
       "    </tr>\n",
       "    <tr>\n",
       "      <th>1823</th>\n",
       "      <td>Am I going to receive my package today? I am still waiting. 😔\\n\\nTo be honest, I am not used to these type of experiences with Amazon.</td>\n",
       "    </tr>\n",
       "    <tr>\n",
       "      <th>1148</th>\n",
       "      <td>@AmazonHelp Hi again. After waiting for over well over an hour, my delivery has been cancelled. Not overly happy to be honest!</td>\n",
       "    </tr>\n",
       "    <tr>\n",
       "      <th>1563</th>\n",
       "      <td>provided is to return it and spend 20 extra dollars for the same phone in a different color</td>\n",
       "    </tr>\n",
       "    <tr>\n",
       "      <th>3219</th>\n",
       "      <td>@FitbitSupport help?</td>\n",
       "    </tr>\n",
       "    <tr>\n",
       "      <th>5261</th>\n",
       "      <td>Wtf do @AmazonHelp prime video show ads for their own shows when I’m already a paying member. Offensive.</td>\n",
       "    </tr>\n",
       "    <tr>\n",
       "      <th>1686</th>\n",
       "      <td>Not a good idea to give your number in public. DM them</td>\n",
       "    </tr>\n",
       "    <tr>\n",
       "      <th>4215</th>\n",
       "      <td>@AmazonUK @JeffBezos @AmazonHelp @AmazonBusiness \\nWhy is this feedback not removed? Customer orders a product for New Zealand then complains it doesn’t work in UK. Thick as pig s**t. Why are we penalised?</td>\n",
       "    </tr>\n",
       "    <tr>\n",
       "      <th>2987</th>\n",
       "      <td>it seems someone has changed all of my login info, some \"penduan81c@yeah.net\", seems to be a chinese mail site or something, and no, i can still not call numbers outside of sweden.</td>\n",
       "    </tr>\n",
       "    <tr>\n",
       "      <th>1316</th>\n",
       "      <td>*baseball</td>\n",
       "    </tr>\n",
       "    <tr>\n",
       "      <th>4572</th>\n",
       "      <td>That is email I got after 31 hours of the incident which explains nothing. You know, even contacting within 30 minutes of the incident, @AmazonHelp agent did not take any action. The agent could have revised the action and cancelled those orders. I could have saved my £763.68.  pic.twitter.com/r3yjMF56ZB</td>\n",
       "    </tr>\n",
       "    <tr>\n",
       "      <th>4257</th>\n",
       "      <td>UPDATE (cimer @AmazonHelp)  https://twitter.com/boylloon/status/1223549004769890305 … pic.twitter.com/9a8twFxFNn</td>\n",
       "    </tr>\n",
       "    <tr>\n",
       "      <th>3146</th>\n",
       "      <td>@AmazonHelp I would like you to know that  http://Amzon.it  is not helping @amazon to be the most Customer Centric Company. Multiple orders and even charged CC fo my order but no shipment for over three months. No solution, no compensation. Very bad!</td>\n",
       "    </tr>\n",
       "    <tr>\n",
       "      <th>2035</th>\n",
       "      <td>@amazonIN @AmazonHelp \\nSo as per Amazon, shoes are apparently shaped like roller. No idea what's inside the pack. Can anyone guess what's inside the pack by looking at the pic?  pic.twitter.com/AnWvjvoVja</td>\n",
       "    </tr>\n",
       "    <tr>\n",
       "      <th>6045</th>\n",
       "      <td>Thank you! At least combine orders or reuse the package that my amazon orders came in. 🥺😪</td>\n",
       "    </tr>\n",
       "    <tr>\n",
       "      <th>5618</th>\n",
       "      <td>It's @AmazonUK. And I've already spoke to about 3 people of the chat</td>\n",
       "    </tr>\n",
       "    <tr>\n",
       "      <th>2157</th>\n",
       "      <td>Is it staying like this or are you open to people hating it and switching back? It's like picking 50 items from a website and then being told that you need to arrange delivery with 2 shops, only finding that out at the end..</td>\n",
       "    </tr>\n",
       "    <tr>\n",
       "      <th>2070</th>\n",
       "      <td>This means a lot! Thank you very much for your support, @nithin_v! We are trying every possible means to bring this unfair practice to a halt and we won't stop until we do :)</td>\n",
       "    </tr>\n",
       "    <tr>\n",
       "      <th>6180</th>\n",
       "      <td>Yes.  New one coming tomorrow...I needed today.  It’s just gross that 2 things have arrived clearly used in the last couple months.  Ewww</td>\n",
       "    </tr>\n",
       "    <tr>\n",
       "      <th>518</th>\n",
       "      <td>Part-3 Will you deliver this product to me tomorrow or not? @Flipkart \\nIf you can't deliver it to me than tell me the address I will reach there after 2 weeks of my order to pick superfast delivery ..\\n@ZeeNews @ANI @AmazonHelp</td>\n",
       "    </tr>\n",
       "    <tr>\n",
       "      <th>5366</th>\n",
       "      <td>@AmazonHelp Hi, I'm unable to find Hotel Transylvania 3 on @PrimeVideoIN app.\\n👀</td>\n",
       "    </tr>\n",
       "    <tr>\n",
       "      <th>678</th>\n",
       "      <td>Thanks for the info! Apparently it’s due to snowy conditions. I was wondering why the quote was later. Wish I saw the notice sooner. I do like that it said this on the app main page, after I went back. but perhaps it should also appear near the prime delivery quote.</td>\n",
       "    </tr>\n",
       "    <tr>\n",
       "      <th>1735</th>\n",
       "      <td>Hi, I'm just curious as to why the music unlimited app with HD, I see some stuff still in SD? Is this a glitch??</td>\n",
       "    </tr>\n",
       "    <tr>\n",
       "      <th>741</th>\n",
       "      <td>@AmazonHelp Your delivery boy marked a delivery attempt even without visiting my premises @amazonIN It's high time to see you at the consumer court. @PMOIndia Please look into the matter.</td>\n",
       "    </tr>\n",
       "    <tr>\n",
       "      <th>3252</th>\n",
       "      <td>+ @AnuragJaisingh\\nThere is no option to pre-order...</td>\n",
       "    </tr>\n",
       "    <tr>\n",
       "      <th>1068</th>\n",
       "      <td>Are you even trying? This asshole was just illegally parked on the wrong side of the street. Managed to be facing the correct direction though. pic.twitter.com/6gZGt4TpGW</td>\n",
       "    </tr>\n",
       "    <tr>\n",
       "      <th>1646</th>\n",
       "      <td>I understand that, what I’m saying is it’s not just one item from a different fulfillment centre that’s longer it’s suddenly every item I look at is a week or more when normally the max I’ve had the last year is 1-2 days. Is that not abnormal/possible glitch?</td>\n",
       "    </tr>\n",
       "    <tr>\n",
       "      <th>1433</th>\n",
       "      <td>Done, thank you for your fast response! #socialmedia #CustomerExperience @amazon</td>\n",
       "    </tr>\n",
       "    <tr>\n",
       "      <th>3899</th>\n",
       "      <td>Looks like they’ve replied already with 320 kbps. But they didn’t mention that it is playing with Ogg Vorbis format.\\nOther formats like AAC offers better quality with lesser bitrates</td>\n",
       "    </tr>\n",
       "    <tr>\n",
       "      <th>418</th>\n",
       "      <td>@AmazonHelp @amazon \\nCan't you see what is in there in the video.\\n\\nYou guys are just cheerleaders when it comes to work, you guys are just dummy.\\n\\nPlease don't call yourself earth's most customer centric organization. It is a shameful thing for you guys.</td>\n",
       "    </tr>\n",
       "    <tr>\n",
       "      <th>4677</th>\n",
       "      <td>@Flipkart , @amazon @AmazonHelp \\nWhy the delivery at my PIN been stopped.\\nEvery product is showing out of stock for this PIN.\\nIs there any problem???\\nPls clarify!!</td>\n",
       "    </tr>\n",
       "    <tr>\n",
       "      <th>5583</th>\n",
       "      <td>@AmazonHelp Club factory connect number O62..94..35.O8.ll.call me all problem solve 24 houreClub factory connect number</td>\n",
       "    </tr>\n",
       "    <tr>\n",
       "      <th>5102</th>\n",
       "      <td>I need @AmazonHelp one more time, please. I need seller support again. Hoping this is my last request for this issue. Thanks!</td>\n",
       "    </tr>\n",
       "    <tr>\n",
       "      <th>3225</th>\n",
       "      <td>Actually? Yes. I'm looking for a 2019 UK film, \"Love Type D\" Here's the @IMDb: https://www.imdb.com/title/tt6151224/ …</td>\n",
       "    </tr>\n",
       "    <tr>\n",
       "      <th>5313</th>\n",
       "      <td>Thank you @Roku for dropping the Propaganda network \\n“ Fox News “ Hopefulness other Streaming Device manufactures follow your lead ! @TiVo @AppleTVPlus @SamsungUS @AmazonHelp  https://twitter.com/americanmclass/status/1223536994288128001 …</td>\n",
       "    </tr>\n",
       "    <tr>\n",
       "      <th>2739</th>\n",
       "      <td>Dude it took 2 months to me to talk to you random country call center representative, and he know nothing , go ahead and try to sell something and get back to me ,, get learn something from ebay</td>\n",
       "    </tr>\n",
       "    <tr>\n",
       "      <th>5303</th>\n",
       "      <td>Thank you..</td>\n",
       "    </tr>\n",
       "    <tr>\n",
       "      <th>3571</th>\n",
       "      <td>It is now 15 hours since the driver alleged that my parcel was \"handed to the resident\" ... I gave the details you asked for but nobody has contacted me yet?</td>\n",
       "    </tr>\n",
       "    <tr>\n",
       "      <th>1688</th>\n",
       "      <td>If it is mobile try clearing cache and connect again.\\n\\nIf it is desktop close the window. Seems like it is hanging</td>\n",
       "    </tr>\n",
       "    <tr>\n",
       "      <th>5424</th>\n",
       "      <td>@AmazonHelp an amount of certain rupees has been deducted from my amazon pay TWICE for the same order.. PLEASE, reply..</td>\n",
       "    </tr>\n",
       "    <tr>\n",
       "      <th>1447</th>\n",
       "      <td>@AmazonHelp i M NOT HUMAN. dONT CALL ME HUMAN. I M AN ANGEL</td>\n",
       "    </tr>\n",
       "    <tr>\n",
       "      <th>5243</th>\n",
       "      <td>I currently used a @Samsung  smart tv and @amazon fire sticks. @SamsungSupport @AmazonHelp</td>\n",
       "    </tr>\n",
       "    <tr>\n",
       "      <th>4381</th>\n",
       "      <td>From the grind till now....Don’t reply DM</td>\n",
       "    </tr>\n",
       "    <tr>\n",
       "      <th>5459</th>\n",
       "      <td>It works.  They will refund you your money or send the product again.  All very quickly and nicely.</td>\n",
       "    </tr>\n",
       "    <tr>\n",
       "      <th>3900</th>\n",
       "      <td>@Flipkart @flipkartsupport \\nThis is awesome delivery.... Again delayed by 3 days....\\n@AmazonHelp you people are awesome in delivery...  pic.twitter.com/fbAwNiHNt2</td>\n",
       "    </tr>\n",
       "    <tr>\n",
       "      <th>3139</th>\n",
       "      <td>Bc you don't seem to reply when I ask in French, I'll ask in English.\\nHow come you didn't know how many signed copies you have to sell? I guess you didn't know your stock and sold too many albums. Now we are disappointed. we thought we bought it and you cancel it... @AmazonHelp  pic.twitter.com/PqAYO2uxNo</td>\n",
       "    </tr>\n",
       "    <tr>\n",
       "      <th>5677</th>\n",
       "      <td>How terrible though on a serious note. Kids speak to this bloody thing! I’d be raging if I actually had any lol</td>\n",
       "    </tr>\n",
       "    <tr>\n",
       "      <th>1519</th>\n",
       "      <td>Ok. I update apps every night. I already reached out to support from the Alexa app a week or so ago and was told that it’s a known issue, but rest assured nothing is wrong with my system. But it’s still acting up.</td>\n",
       "    </tr>\n",
       "    <tr>\n",
       "      <th>4553</th>\n",
       "      <td>Thank you for writing to me. Kindly give grievance details through \"Consumer App\" which can be downloaded from both Google Play Store OR App Store. Grievance can also be filed through Helpline No. 14404 OR  http://www.consumerhelpline.gov.in</td>\n",
       "    </tr>\n",
       "    <tr>\n",
       "      <th>3039</th>\n",
       "      <td>Thanks that’s actually what I needed to see</td>\n",
       "    </tr>\n",
       "    <tr>\n",
       "      <th>2308</th>\n",
       "      <td>My package was set to come on the 1st of February and I never received it and I was told that I had to wait til February 3rd to find a solution and now I have to wait til the 6th apparently? Like is this a joke? You want me to wait almost a week?</td>\n",
       "    </tr>\n",
       "    <tr>\n",
       "      <th>2436</th>\n",
       "      <td>Hello Team please find the case ID - 6775938631</td>\n",
       "    </tr>\n",
       "    <tr>\n",
       "      <th>1645</th>\n",
       "      <td>Oh look I ordered something Monday  that will “arrive on Feb 10th” and it actually is arriving today instead like it should be. Maybe next time listen to what I’m saying that there’s a glitch with arrival dates and not just dismiss me.</td>\n",
       "    </tr>\n",
       "    <tr>\n",
       "      <th>4387</th>\n",
       "      <td>Sure sir anything else?😂 btw they’re waiting for you on 10th, bring oil okay</td>\n",
       "    </tr>\n",
       "    <tr>\n",
       "      <th>1163</th>\n",
       "      <td>yeah is it true that you exploit your employees to the point of death and evade taxes?</td>\n",
       "    </tr>\n",
       "    <tr>\n",
       "      <th>915</th>\n",
       "      <td>Does there happen to be a van outside your window with blacked out windows and a parabolic dish?  (More seriously, did they say they were from amazon?  Chase seems more likely to be the caller.)</td>\n",
       "    </tr>\n",
       "    <tr>\n",
       "      <th>1448</th>\n",
       "      <td>OK THANK. SAY THANKS TO MY BROTHERS TOO. I LOVE THEM VERY MUCH. PROMISE OF MY GODDESS.</td>\n",
       "    </tr>\n",
       "    <tr>\n",
       "      <th>2374</th>\n",
       "      <td>@amazonIN fraud @AmazonHelp fraud #SPAM #FRAUD #CHOR #liar #BoycottAmazon see my tweet its over 1months but still no resolution https://twitter.com/Saketxyz01/status/1224591933680435202 …</td>\n",
       "    </tr>\n",
       "    <tr>\n",
       "      <th>537</th>\n",
       "      <td>It's your customers service since yesterday we r approaching you but no reply we have to book another ticket paying rs 350 more,instead of rs 600,we have to pay rs 950 as ur shrinath travels,bus operator cancelled bus of 9th feb @redBus_in @AmazonHelp @amazon @amazonIN</td>\n",
       "    </tr>\n",
       "    <tr>\n",
       "      <th>4958</th>\n",
       "      <td>You have yet to help me this is really a disgrace</td>\n",
       "    </tr>\n",
       "    <tr>\n",
       "      <th>1527</th>\n",
       "      <td>@JeffBezos @AmazonHelp @amazonIN I am overwhelmed with your quick response towards our each complain tweets &amp; handling our issues with an ease... 🥰🥰🤩 👏👏 Thank You for the information.</td>\n",
       "    </tr>\n",
       "    <tr>\n",
       "      <th>2745</th>\n",
       "      <td>As I have said I have tried that most recently half an hour ago but I either don’t get through or I get hung up on</td>\n",
       "    </tr>\n",
       "    <tr>\n",
       "      <th>2002</th>\n",
       "      <td>@Hermesparcels  \\nPlease can you let Amazon know why you are unable to deliver this item which was posted out on the 11th of January. Tracking number : 3412402510490821\\nDue to this hold up Amazon are not refunding the amount !!!</td>\n",
       "    </tr>\n",
       "    <tr>\n",
       "      <th>2613</th>\n",
       "      <td>All good. After I updated my password my account was locked. Was able to remove that lock by calling in, but I am curious about one thing. When this order was placed I never received a confirmation email. Why is that?</td>\n",
       "    </tr>\n",
       "    <tr>\n",
       "      <th>517</th>\n",
       "      <td>Part-4 Same thing is happening with me about this product also. Again in national capital? \\n\\n@Flipkart what are you really doing guys these days?\\n\\nShould i forget to shop online or anything else?\\n\\n@RajatSharmaLive @AmazonHelp @Flipkart pic.twitter.com/qqreve7iHS</td>\n",
       "    </tr>\n",
       "    <tr>\n",
       "      <th>6167</th>\n",
       "      <td>Still not made it any better pic.twitter.com/lelg5MdzpY</td>\n",
       "    </tr>\n",
       "    <tr>\n",
       "      <th>1963</th>\n",
       "      <td>Wow. @AmazonHelp should probably get on fixing this for the customer. I'd assume they know exactly who packed the order.</td>\n",
       "    </tr>\n",
       "    <tr>\n",
       "      <th>4104</th>\n",
       "      <td>Ok thank you</td>\n",
       "    </tr>\n",
       "    <tr>\n",
       "      <th>4344</th>\n",
       "      <td>Apparently it has been removed from the catalogue \\nThats a shame 😒</td>\n",
       "    </tr>\n",
       "    <tr>\n",
       "      <th>3838</th>\n",
       "      <td>@flipkartsupport sir I bought a product but it is not same condition so want my product return but your system answer no. I I want returned my product @AmazonHelp @CNNnews18 @</td>\n",
       "    </tr>\n",
       "    <tr>\n",
       "      <th>5388</th>\n",
       "      <td>The refund email I received stated the reason for the refund was because of damaged package versus having been sold a recalled item.  None of this seems like it complies with @USCPSC regulations and guidance.</td>\n",
       "    </tr>\n",
       "    <tr>\n",
       "      <th>3933</th>\n",
       "      <td>Hi Arfat, we have still not received any message from your side here on Twitter. Request you to share your email address over private message.</td>\n",
       "    </tr>\n",
       "    <tr>\n",
       "      <th>5253</th>\n",
       "      <td>@AmazonHelp Many thanks for the tip to email Community Help about this review. (1⭐️because the sample didn't load).\\n\\nHowever, I have not heard back and the review is still up, adversely affecting the book's rating. Are you able to assist please?\\n\\n https://www.amazon.com/gp/customer-reviews/R32EL1589LQFH8/ref=cm_cr_othr_d_rvw_ttl?ie=UTF8&amp;ASIN=B07NZZZJSR …</td>\n",
       "    </tr>\n",
       "    <tr>\n",
       "      <th>5611</th>\n",
       "      <td>Hey they cheated me too buddy I will help u with solution dat please go to the nearest consumer court and they vl definitely help u with ur money</td>\n",
       "    </tr>\n",
       "    <tr>\n",
       "      <th>2911</th>\n",
       "      <td>lol just keep waiting then. You’re no help either!!! All my previous returns never took two weeks to process. I think something is wrong and your not equipped to look into it.</td>\n",
       "    </tr>\n",
       "    <tr>\n",
       "      <th>229</th>\n",
       "      <td>Nothing done till now. Whats happening to amazon support ppl who i always felt were fast n best# feeling disappointed</td>\n",
       "    </tr>\n",
       "    <tr>\n",
       "      <th>2849</th>\n",
       "      <td>Thank you</td>\n",
       "    </tr>\n",
       "    <tr>\n",
       "      <th>1127</th>\n",
       "      <td>Ok I will thank you for your support</td>\n",
       "    </tr>\n",
       "    <tr>\n",
       "      <th>2931</th>\n",
       "      <td>Why only Amazon India? What about Amazon’s operations around the world that are contributing to the global plastic crisis?</td>\n",
       "    </tr>\n",
       "    <tr>\n",
       "      <th>818</th>\n",
       "      <td>I don't need to look at some website for policy. I have policy on the ticket I was given that says 24 hrs for refund. Not footnotes. No fine print. I guess I have to do another chargeback so you don't hold onto my money for a month and don't respond like last time.</td>\n",
       "    </tr>\n",
       "    <tr>\n",
       "      <th>5229</th>\n",
       "      <td>@AmazonHelp \\nWhen are getting the Hazel Blue OnePlus 7T back in stock?\\n(Not sold by JANEAU)</td>\n",
       "    </tr>\n",
       "    <tr>\n",
       "      <th>4207</th>\n",
       "      <td>That's bullshit\\nI know the account too is gone with the money in it okay\\nI'm used to that shit okay\\nNot anymore will i try to use such goddamned application call Amazon to place any order again\\nIt's a crap\\nRipper....</td>\n",
       "    </tr>\n",
       "    <tr>\n",
       "      <th>4254</th>\n",
       "      <td>seinfeld is the only reason i have my subscription please add it back</td>\n",
       "    </tr>\n",
       "    <tr>\n",
       "      <th>5096</th>\n",
       "      <td>@AmazonHelp - My children just asked Alexa what her favorite Big 10 team was. She responded the Buckeyes. My children have now unplugged and thrown Alexa out. Any suggestions?</td>\n",
       "    </tr>\n",
       "    <tr>\n",
       "      <th>5138</th>\n",
       "      <td>I can watch it on my smart phone straight away with no problems</td>\n",
       "    </tr>\n",
       "    <tr>\n",
       "      <th>3000</th>\n",
       "      <td>Thank you!!!❤️</td>\n",
       "    </tr>\n",
       "    <tr>\n",
       "      <th>2861</th>\n",
       "      <td>@PlantsForPets I ordered thru @amazon @AmazonHelp THIS IS CRAP. #Amazon says I cant return this order from #PlantsForPets but it arrived SO poorly packed. STOP USING THIS STUFFING!!!! #WHY????? #REFUNDNOW I need a refund ASAP pic.twitter.com/bJrDhkM8Gm</td>\n",
       "    </tr>\n",
       "    <tr>\n",
       "      <th>4937</th>\n",
       "      <td>It doesnt show the original estinated delivery date.</td>\n",
       "    </tr>\n",
       "    <tr>\n",
       "      <th>1079</th>\n",
       "      <td>Hi, not your fault at all Amazon so no apology needed :)</td>\n",
       "    </tr>\n",
       "    <tr>\n",
       "      <th>2307</th>\n",
       "      <td>@AmazonHelp \\nWe have ordered a washing machine online amounting to ₹20000+ to be delivered to us in Goa on 2nd February 2020. We are calling customer care which failed us miserably. It amounts to cheating. How people can trust you. @amazon</td>\n",
       "    </tr>\n",
       "    <tr>\n",
       "      <th>2944</th>\n",
       "      <td>So what did you think of my feedback?</td>\n",
       "    </tr>\n",
       "    <tr>\n",
       "      <th>2266</th>\n",
       "      <td>Thank you.</td>\n",
       "    </tr>\n",
       "    <tr>\n",
       "      <th>2769</th>\n",
       "      <td>So I followed the instructions and y’all decide to refund me $10 and keep using the vitamins WITH BROKEN GLASS?! WTH attaching picture to remind y’all that YALL DELIVERED SHARDS OF GLASS WITH MY VITAMINS. pic.twitter.com/FJtNJs1kR2</td>\n",
       "    </tr>\n",
       "    <tr>\n",
       "      <th>1750</th>\n",
       "      <td>Same- but we use our account a ton. Prime, videos, and music. Why are we locked out while you all investigate 4.00-5.00 in charges? We didn’t do anything wrong. We called after the 1st charge and changed passwords as told. Then disputed after the 2nd movie!</td>\n",
       "    </tr>\n",
       "    <tr>\n",
       "      <th>4864</th>\n",
       "      <td>At this point I am on a “Check-Your-Chuck-A-Ton” just to make sure it is still available 😭😭😭😭</td>\n",
       "    </tr>\n",
       "    <tr>\n",
       "      <th>4256</th>\n",
       "      <td>Submitted a ticket....now we play the waiting game. Does my package make it by 9pm or do I get a call from amazon first (window is within 12 business hours).....</td>\n",
       "    </tr>\n",
       "    <tr>\n",
       "      <th>4667</th>\n",
       "      <td>@amazon @AmazonHelp @AmazonUK \\n\\nBelow orders not delivered to me but its showing in app as delivered to whom? \\n\\nThis is the pathetic service and when I called to Customer care. He was telling me to cancelled the order. \\n\\nWhy would I do? 1/2 pic.twitter.com/d3zLzprKiV</td>\n",
       "    </tr>\n",
       "    <tr>\n",
       "      <th>1792</th>\n",
       "      <td>online customer service was awful.  I won't go into details because as the person told me online - it basically won't do any good and my refund is what it is.</td>\n",
       "    </tr>\n",
       "    <tr>\n",
       "      <th>4005</th>\n",
       "      <td>Here’s a short video pic.twitter.com/f9V6WvZz9H</td>\n",
       "    </tr>\n",
       "    <tr>\n",
       "      <th>4388</th>\n",
       "      <td>I’m in Tarus 2 bro, it’s sheikhs concern probably😂</td>\n",
       "    </tr>\n",
       "    <tr>\n",
       "      <th>3514</th>\n",
       "      <td>Everything from @amazon ships fast even without prime, currently trying to watch a TV show on @PrimeVideo and there are multiple non-Amazon commercials... Time to cancel prime? What am I paying for? Cc: @AmazonHelp</td>\n",
       "    </tr>\n",
       "    <tr>\n",
       "      <th>5263</th>\n",
       "      <td>Guys, regardless, I appreciate your greet service and efforts such as using paper tape securing the box; but the link cable could have fitted into a small envelope with no risk to the product!</td>\n",
       "    </tr>\n",
       "    <tr>\n",
       "      <th>3017</th>\n",
       "      <td>Don't be fooled amazon is about that $$$$$ pic.twitter.com/8JgGV6aqI4</td>\n",
       "    </tr>\n",
       "    <tr>\n",
       "      <th>6183</th>\n",
       "      <td>NOBODY REPLIES TO MY MESSAGE!</td>\n",
       "    </tr>\n",
       "    <tr>\n",
       "      <th>4694</th>\n",
       "      <td>give me free stuff</td>\n",
       "    </tr>\n",
       "    <tr>\n",
       "      <th>3356</th>\n",
       "      <td>Plagiat war.</td>\n",
       "    </tr>\n",
       "    <tr>\n",
       "      <th>2637</th>\n",
       "      <td>This is a dumb thing and super pea brain shit to say but can things like objects be contaminated with the wuhan strain of coronavirus?? I ordered some things and I’m scared if they come from over there lol @AmazonHelp</td>\n",
       "    </tr>\n",
       "    <tr>\n",
       "      <th>4659</th>\n",
       "      <td>Wait is it 6+128 GB for 12,999 in screenshot 🤔</td>\n",
       "    </tr>\n",
       "    <tr>\n",
       "      <th>154</th>\n",
       "      <td>Hello @AmazonHelp  this the last mail You have send me and still no have new :\\n\\nDear Bilal,\\n\\nMy name is Giorgia and I work for Amazon Twitter support.\\n\\nI've asked to the relevant department to verify the issue with your return.\\n\\nI hope they will provide an update us soon as possi</td>\n",
       "    </tr>\n",
       "    <tr>\n",
       "      <th>4744</th>\n",
       "      <td>@AmazonHelp\\n i orderd at 25 jan 20 my order no 403-3315501-8803540 but amazon didnt delavery my item till now . very dispointed with amazon it happand 2nd time with me.. thay always change the delavery shedule and 2 time they changed shedule.. very dispointed.</td>\n",
       "    </tr>\n",
       "    <tr>\n",
       "      <th>4262</th>\n",
       "      <td>Also @CitySelfDrive have stayed quiet haven’t they! They must be able to give a statement to @AmazonUK @AmazonHelp on the state of the van upon return etc? There was also a dash cam that for some reason isn’t being checked??</td>\n",
       "    </tr>\n",
       "    <tr>\n",
       "      <th>806</th>\n",
       "      <td>Please make sure it’s here by tomorrow. I ordered it Sunday and changed the delivery date from the end of the month to today because I needed it today.</td>\n",
       "    </tr>\n",
       "    <tr>\n",
       "      <th>4551</th>\n",
       "      <td>Arre khufiyon, order cancelled 25/1/2020 today is 2nd February! 9:days. Don't you read tweets or you are dumb? Is this how @JeffBezos became rich. Banks pay ₹100/day from 5 days of ATM dispute! What do you Jeff? @amazon @AmazonHelp 😖  https://twitter.com/AmazonHelp/status/1223981877574295553 …</td>\n",
       "    </tr>\n",
       "    <tr>\n",
       "      <th>901</th>\n",
       "      <td>Who tf is his gf ??? I literally emailed him two weeks ago and he never got back to me ?? @AmazonHelp wtf ???  https://twitter.com/barstoolsports/status/1224408461502492672 …</td>\n",
       "    </tr>\n",
       "    <tr>\n",
       "      <th>1957</th>\n",
       "      <td>He’s a fraudster I witnessed the courier giving it to him</td>\n",
       "    </tr>\n",
       "    <tr>\n",
       "      <th>6072</th>\n",
       "      <td>Thanks to an old backup app I managed to retrieve last Netflix app released in August 2019 that works with Amazon Fire HD 10 -\\n@Amazon were not helpful in providing it, so no thanks to them -\\nanyone who needs it, it's here -  https://www.dropbox.com/s/zxe1ahj0g70z0uh/Netflix-com.netflix.mediaclient-7.18.0-34359.apk?dl=0 … - via @inabster @xdadevelopers</td>\n",
       "    </tr>\n",
       "    <tr>\n",
       "      <th>4470</th>\n",
       "      <td>I want action against delivery agent</td>\n",
       "    </tr>\n",
       "    <tr>\n",
       "      <th>2884</th>\n",
       "      <td>absolute waste of time, get to a person, they tell me it was delivered and I should check with neighbours, jesus they can't even READ that I put I have the parcel and it was LEFT OUTSIDE THE FUCKING PROPERTY!!!\\n\\njesus....</td>\n",
       "    </tr>\n",
       "    <tr>\n",
       "      <th>3631</th>\n",
       "      <td>U guys have intiated a refund but that’s not the point as this has happened for the second time. My pet is more precious to me than nything in the world... and her health and well-being is more imp than nything else...would like to know of corrective action taken with supplier pic.twitter.com/FoUb4ZuFRa</td>\n",
       "    </tr>\n",
       "    <tr>\n",
       "      <th>1074</th>\n",
       "      <td>Thank you JB for reading at least. Let’s hope for this to get to a positive ending. You guys rock, but not much this time...</td>\n",
       "    </tr>\n",
       "    <tr>\n",
       "      <th>2829</th>\n",
       "      <td>You’re hilarious! I know how they’re calculated. Don’t act like I’m some fresh out of the womb snowflake that doesn’t understand how logistics work. This is a new issue Amazon is having. Thanks for the crumbs though. 😉</td>\n",
       "    </tr>\n",
       "    <tr>\n",
       "      <th>4191</th>\n",
       "      <td>Its already been taken care of.</td>\n",
       "    </tr>\n",
       "    <tr>\n",
       "      <th>791</th>\n",
       "      <td>@amazonIN @jeffawilke @AmitAgarwal @JeffBezos @AmazonNews_IN \\nFirst go through below images..and tell me why too much time you guys are taking. I am continuously saying no one is able to help me, still you are sending me me bot reply like contact executive customer relations team pic.twitter.com/tTQv29YTHr</td>\n",
       "    </tr>\n",
       "    <tr>\n",
       "      <th>4168</th>\n",
       "      <td>Thank you</td>\n",
       "    </tr>\n",
       "    <tr>\n",
       "      <th>5759</th>\n",
       "      <td>@amazonIN @AmazonHelp @AmitAgarwal\\nAmazon initiated refund of Rs.21599 deducting no cost emi amount which I have to pay for an undelivered product incurring a loss of amount Rs.890.\\nResult:1.I lost the product 2.Lost more money 3.Lost the opportunity to buy from other others https://twitter.com/Afsal_mtc/status/1223526681102569472 …</td>\n",
       "    </tr>\n",
       "    <tr>\n",
       "      <th>1121</th>\n",
       "      <td>Yea however their answer last time was it was delivered. Even though not to the door or even mailbox. Talking to them now. Cant wait till your delivery trucks hit the rural areas. #getridofups</td>\n",
       "    </tr>\n",
       "    <tr>\n",
       "      <th>4963</th>\n",
       "      <td>Hi Amazon, We understand that you value Profit Over People.  Should we decide to boycott you, you can find more information by watching your stock prices fall.</td>\n",
       "    </tr>\n",
       "    <tr>\n",
       "      <th>6028</th>\n",
       "      <td>Only happens on my PS4. Firestick works fine.</td>\n",
       "    </tr>\n",
       "    <tr>\n",
       "      <th>4769</th>\n",
       "      <td>Still Now waiting many customers.. @amazonIN @AmazonHelp @JeffBezos</td>\n",
       "    </tr>\n",
       "    <tr>\n",
       "      <th>1811</th>\n",
       "      <td>Yeah well, I actually asked you why an exchange wasn't an option. You didn't answer me, thanks, great customer service. As it stands you're refunding me and I won't be re-purchasing it from you as it's now a higher price. I assume that's why you won't offer me an exchange. Crooks</td>\n",
       "    </tr>\n",
       "    <tr>\n",
       "      <th>4510</th>\n",
       "      <td>Not to mention @AmazonHelp I was just told by YOUR rep \"you have a generous gift card balance on your account, that should help with your purchase.\" Insulting. @amazon</td>\n",
       "    </tr>\n",
       "    <tr>\n",
       "      <th>3651</th>\n",
       "      <td>These posts, of which there are MANY, along with the stock response from @AmazonHelp only serve to confirm that we should all now #BoycottAmazon The company does not care about the impact its wasteful packaging policy has on our planet. Time to buy our stuff elsewhere</td>\n",
       "    </tr>\n",
       "    <tr>\n",
       "      <th>2475</th>\n",
       "      <td>The service centre isn't there in the city. The support number isn't being answered.</td>\n",
       "    </tr>\n",
       "    <tr>\n",
       "      <th>5172</th>\n",
       "      <td>Alright! Thanks for the update.</td>\n",
       "    </tr>\n",
       "    <tr>\n",
       "      <th>2820</th>\n",
       "      <td>Thanks for the response but I've had issues with EVERY once of my orders since December. I've spoken with customer service countless times and even they don't know where the items are half the time. 🤷🏽‍♀️ it's not your fault or theirs but Amazon has been doing VERY poorly lately</td>\n",
       "    </tr>\n",
       "    <tr>\n",
       "      <th>3190</th>\n",
       "      <td>They are waiting to see what you do.</td>\n",
       "    </tr>\n",
       "    <tr>\n",
       "      <th>1016</th>\n",
       "      <td>@AmazonHelp dm I have a question about my order</td>\n",
       "    </tr>\n",
       "    <tr>\n",
       "      <th>3079</th>\n",
       "      <td>@AmazonHelp Dear All ,\\n\\nI will Parches the watch Hauwei GT2 But Received Watch in Box Hauwei GT This problem by Amazon But Last 2 Days I'm Wait The Customer Care Team Reward So this not Use the product and Spend my Money And time again So this very very poor service by Amazon.</td>\n",
       "    </tr>\n",
       "    <tr>\n",
       "      <th>569</th>\n",
       "      <td>Hi..thank you for quick response. Really appreciate it 👍</td>\n",
       "    </tr>\n",
       "    <tr>\n",
       "      <th>5565</th>\n",
       "      <td>I was not able to get my cashback of Rs. 200 due to a technical glitch from @amazonIN's side.\\nIts all your fault.\\nSo, Either reactivate shopping offer of 50% cashback upto 200 on my account or add Rs. 200 to my Amazon Pay balance.\\n\\n#AmazonLootsPeople\\n#Budget2020</td>\n",
       "    </tr>\n",
       "    <tr>\n",
       "      <th>2879</th>\n",
       "      <td>No, I got back in then locked out again. Keep waiting for promised email 24 to 48 hrs. No way of getting in touch or knowing if anything else bought on my account.</td>\n",
       "    </tr>\n",
       "    <tr>\n",
       "      <th>1107</th>\n",
       "      <td>It absolutely does not help. I preordered this thing fair and square half a year ago and today Amazon cancels the order because it's \"unavailable\". Why can I preordered something Amazon never gets? I want you to make this right.</td>\n",
       "    </tr>\n",
       "    <tr>\n",
       "      <th>757</th>\n",
       "      <td>I’ve discussed my gift card balance since 1/20/20 with at least 25 reps and supervisors. I don’t need to discuss. I need to have resolution with the return of my $2,800 gift card balance</td>\n",
       "    </tr>\n",
       "    <tr>\n",
       "      <th>5754</th>\n",
       "      <td>anyway doubt you will respond but honestly thinking about just returning and not repurchasing. If this was a 3rd party seller (or even 3rd party product) I'd see the point but it isn't. Everything is Amazon.</td>\n",
       "    </tr>\n",
       "    <tr>\n",
       "      <th>5614</th>\n",
       "      <td>@JeffBezos please look at the robotic non human replies sent to customers even after a week of delay</td>\n",
       "    </tr>\n",
       "    <tr>\n",
       "      <th>5448</th>\n",
       "      <td>Looking for the earliest reply as there no update from you people.... @amazon</td>\n",
       "    </tr>\n",
       "    <tr>\n",
       "      <th>876</th>\n",
       "      <td>Amazing isnt it, over 3 weeks of me constantly chasing @AmazonHelp to give me my refund after they constantly stated it would be. And suddenly after i threatened them with small claims, the refund was paid  in the very next day!!! What a sad amazon buyer experience  https://twitter.com/Mathew30/status/1224371937620766721 …</td>\n",
       "    </tr>\n",
       "    <tr>\n",
       "      <th>2755</th>\n",
       "      <td>I would like some assurances that if we reorder, this won't happen again. I'd like to know that.</td>\n",
       "    </tr>\n",
       "    <tr>\n",
       "      <th>4483</th>\n",
       "      <td>@amazon @AmazonHelp @AmazonNews_IN I purchased redmi note 8 pro on offer sale on 19 to 22 January but my product not delivered and refund the my payment amount,I regularly following for same but no one give any solution , Amazon customer executive suggest me for cancel the order</td>\n",
       "    </tr>\n",
       "    <tr>\n",
       "      <th>3272</th>\n",
       "      <td>Dear @amazon and @JeffBezos, you have displayed true Stalinist leanings. I got a cookie cutter email telling us that we cannot use Amazon Pay. Yet we cannot delete our account. This is Kafkaesque. If you have kicked us out, let us go!</td>\n",
       "    </tr>\n",
       "    <tr>\n",
       "      <th>2943</th>\n",
       "      <td>.@Amazon @AmazonHelp\\nSee...like I wrote before. It's best to stay away from all of your products. \\n\\nHackers keep getting access to your data. Is Amazon to blame?  https://mashable.com/article/why-your-private-data-keeps-getting-exposed-amazon/ … via @Mashable</td>\n",
       "    </tr>\n",
       "    <tr>\n",
       "      <th>1815</th>\n",
       "      <td>If immediate action will not be taken i will file a case in consumer court</td>\n",
       "    </tr>\n",
       "    <tr>\n",
       "      <th>5385</th>\n",
       "      <td>Well, I did call you twice to ask about this but your phone lines and so bad they cut out before your Non-English speaking staff could work out what I was on about. \\n\\nIs Jeff Bezos really worth  $129.5 billion ?</td>\n",
       "    </tr>\n",
       "    <tr>\n",
       "      <th>5428</th>\n",
       "      <td>Thanks however I won’t fill in lots of person data about me to report this. The incidents were \\nFri 31 Jan 15.26 Hill Barton Rd Exeter - couldn’t get the reg\\nSat 1 Feb 14.04 St. Leonard’s Rd Exeter - reg clearly visible\\nClearly your drivers feel under pressure to deliver quickly. pic.twitter.com/UhcuU0HoFU</td>\n",
       "    </tr>\n",
       "    <tr>\n",
       "      <th>4415</th>\n",
       "      <td>Nope, thank you</td>\n",
       "    </tr>\n",
       "    <tr>\n",
       "      <th>3264</th>\n",
       "      <td>I have already done that the last time- it happens over 75% of the time. This is just common sense right?</td>\n",
       "    </tr>\n",
       "    <tr>\n",
       "      <th>591</th>\n",
       "      <td>@AmazonHelp @amazon Was actually no help. Just sent me back to the original letter. Claiming my products are inauthentic without actually selling a single product. The send me back to this letter and steal $5k #amazon #gunholsters #jeffbezos #gofundme  https://www.gofundme.com/f/help-me-fight-amazon-and-bezos-wicked-ways?utm_source=customer&amp;utm_medium=copy_link&amp;utm_campaign=p_cf+share-flow-1 … pic.twitter.com/GfdwoBfiKY</td>\n",
       "    </tr>\n",
       "    <tr>\n",
       "      <th>2839</th>\n",
       "      <td>the place where it said tell us about your order have a drop down thingy where I can't type but rather asked to select one of the many things, both services or products you guys have XD</td>\n",
       "    </tr>\n",
       "    <tr>\n",
       "      <th>495</th>\n",
       "      <td>@Real_RMET @ShieldVoC  it’s true because earlier I ordered a product from @amazonIN  on January and they provided me used product with broken seal. Warranty of the product is started in December 2019 and now they are not taking any action.</td>\n",
       "    </tr>\n",
       "    <tr>\n",
       "      <th>827</th>\n",
       "      <td>@AmazonHelp I ordered a phone with order id:  408-3753863-2912321, but my current phone's audio is not working so couldn't contact the delivery boy on call. Kindly ask him to message on my number. Your help would be appreciated.</td>\n",
       "    </tr>\n",
       "    <tr>\n",
       "      <th>1322</th>\n",
       "      <td>I have returned the item in good faith and in your email telling me to return by 31st Jan\\nIt's the 4th Feb shows how wrong you are!!!</td>\n",
       "    </tr>\n",
       "    <tr>\n",
       "      <th>5358</th>\n",
       "      <td>Well done @AmazonHelp @AmazonUK @amazon You are too late. The hackers just bought some sort of download cards and I can't cancel their orders. Your failure to respond just allowed criminals to steal £160 from you despite us warning you for over 24 hours.</td>\n",
       "    </tr>\n",
       "    <tr>\n",
       "      <th>1387</th>\n",
       "      <td>@AmazonHelp I want my money TODAY. Imagine being an international company and stealing from a young girl🤣 your company is a JOKEEE.</td>\n",
       "    </tr>\n",
       "    <tr>\n",
       "      <th>744</th>\n",
       "      <td>I can't. You have committed a day light fraud. Your customer care is useless and you are not even calling after repeated reminders. @aajtak @ABPNews @ZeeNews @Republic_Bharat @republic @IndiaToday @htTweets</td>\n",
       "    </tr>\n",
       "    <tr>\n",
       "      <th>4882</th>\n",
       "      <td>Huge s/o to @RazerSupport and @AmazonHelp for helping find out the problem and ship a replacement in such a short notice  pic.twitter.com/fV6lS0aOCI</td>\n",
       "    </tr>\n",
       "    <tr>\n",
       "      <th>1200</th>\n",
       "      <td>Sorry but that's NO consolation 😭</td>\n",
       "    </tr>\n",
       "    <tr>\n",
       "      <th>3959</th>\n",
       "      <td>We also have prime, but free delivery doesn't work if most of the items say \"doesn't ship to Northern Ireland\" at checkout. We are still a part of the UK!? At least for now anyway.</td>\n",
       "    </tr>\n",
       "    <tr>\n",
       "      <th>1894</th>\n",
       "      <td>@AmazonHelp \\nI need to put a complain against  delivery boy and ur worst customer support team.pre paid items are undelivered  but ur delivery  boy marked as delivered.why so its happening and then cod is not applicable from my Account but same items from other accounts</td>\n",
       "    </tr>\n",
       "    <tr>\n",
       "      <th>4181</th>\n",
       "      <td>@AmazonHelp very frustrating that account holders are NOT allowed to directly contact billing regarding issues with personal accounts.  Not ok when you have been a customer for many years.</td>\n",
       "    </tr>\n",
       "    <tr>\n",
       "      <th>4171</th>\n",
       "      <td>Thanks. I've contacted them 🙂</td>\n",
       "    </tr>\n",
       "    <tr>\n",
       "      <th>4261</th>\n",
       "      <td>Terrible service! They haven’t even logged on to twitter since 2015 it seems...</td>\n",
       "    </tr>\n",
       "    <tr>\n",
       "      <th>5731</th>\n",
       "      <td>It wasn't so much the delay in delivery that irritated me, it was the delay in the communication.\\nI was given a vague, unhelpful delivery schedule - but thanks for the delay, it gave me time to re-assess my desire for the item.\\nOrder cancelled.</td>\n",
       "    </tr>\n",
       "    <tr>\n",
       "      <th>4430</th>\n",
       "      <td>I have no other issues. @AmazonHelp is just too big to care about anything.</td>\n",
       "    </tr>\n",
       "    <tr>\n",
       "      <th>1147</th>\n",
       "      <td>I don't mind things being late, what I object to, is being told they will arrive at the next stop, only for over an hour later the package not being here</td>\n",
       "    </tr>\n",
       "    <tr>\n",
       "      <th>6085</th>\n",
       "      <td>Your \"transportation team\" is now refusing to deliver the package until Monday because they don't feel like driving tonight.</td>\n",
       "    </tr>\n",
       "    <tr>\n",
       "      <th>6022</th>\n",
       "      <td>Ok bro ;_;</td>\n",
       "    </tr>\n",
       "    <tr>\n",
       "      <th>4347</th>\n",
       "      <td>Thats not really a clear answer did you or did you not remove 30 rock from thé catalogue ??</td>\n",
       "    </tr>\n",
       "    <tr>\n",
       "      <th>718</th>\n",
       "      <td>Yes. Fix that in your system</td>\n",
       "    </tr>\n",
       "    <tr>\n",
       "      <th>3638</th>\n",
       "      <td>I hope I will, thank you 🥰</td>\n",
       "    </tr>\n",
       "    <tr>\n",
       "      <th>4124</th>\n",
       "      <td>Let me know how it goes</td>\n",
       "    </tr>\n",
       "    <tr>\n",
       "      <th>4114</th>\n",
       "      <td>@AmazonHelp - RFC - let your tech team know that they are useless, unless that is they are instructed to sabotage the @netflix @NetflixUK app to give a monopoly for @PrimeVideo on the Amazon Fire platform? @JeffBezos https://twitter.com/meNabster/status/1223437687383896065 …</td>\n",
       "    </tr>\n",
       "    <tr>\n",
       "      <th>5274</th>\n",
       "      <td>You're welcome! 🤗</td>\n",
       "    </tr>\n",
       "    <tr>\n",
       "      <th>604</th>\n",
       "      <td>YOU are the carrier-all 3 packages last week that did not follow directions were delivered by an Amazon contracted driver. I had 1 drenched box, &amp; 2 bubble envelopes delivered here. 2 to carport (clearly NOT a porch) &amp; the box left on other side of gate. All 10-12 ft from my door</td>\n",
       "    </tr>\n",
       "    <tr>\n",
       "      <th>3485</th>\n",
       "      <td>@AmazonHelp closed my account because i didn’t receive a $400 wifi system. denied my appeal. this is ridiculous i just want the goods i paid for</td>\n",
       "    </tr>\n",
       "    <tr>\n",
       "      <th>3241</th>\n",
       "      <td>@AmazonHelp when are you guys going to add more Amazon Fresh locations? Need them in Houston</td>\n",
       "    </tr>\n",
       "    <tr>\n",
       "      <th>2878</th>\n",
       "      <td>Got an email about an Apple Watch purchased! £419.03 spent on a lawnmower. Paid with my business debit card. No communication.</td>\n",
       "    </tr>\n",
       "    <tr>\n",
       "      <th>4575</th>\n",
       "      <td>Dear @AmazonHelp, I did not understnad what solution you have provided. Here is a timeline:\\n1.50AM, 31st January: hacker hacked my @AmazonUK account and purchased goods of 763.68GBP. \\n2.30AM, 31st January: I contacted Amazon through chat option to revise this activity. (Cont.)</td>\n",
       "    </tr>\n",
       "    <tr>\n",
       "      <th>5232</th>\n",
       "      <td>Well actually I was really talking to Ellen in particular..but..thanks anyway.</td>\n",
       "    </tr>\n",
       "    <tr>\n",
       "      <th>3133</th>\n",
       "      <td>I used your other numbers and no one was answering then I used the \"call me now\" service and a nice guy told me about the problems you had and I understand now. I was just really upset about my order, I'm still disappointed but I'm happy I called and cleared up the situation</td>\n",
       "    </tr>\n",
       "    <tr>\n",
       "      <th>838</th>\n",
       "      <td>Do you use your Twitter account to just complain about the services of various companies, is it a coincidence ?, or are you a troll?</td>\n",
       "    </tr>\n",
       "    <tr>\n",
       "      <th>904</th>\n",
       "      <td>I just watched the 3rd season of “STARTUP” on @PrimeVideo. — It was an incredible turning point! And considering the last chapter, can I understand that we will have a 4th ?! 🙏 \\n\\nThis @iamedigathegi character was awesome! @AmazonHelp @PrimeVideoBR 👏\\n@Handlebrody https://twitter.com/radarbarone/status/1222613368869195777 …</td>\n",
       "    </tr>\n",
       "    <tr>\n",
       "      <th>1678</th>\n",
       "      <td>I will continue to send this awareness campaign to the media, competitors and government, agencies, AOC, Newspapers, until I see Amazon resolving my issues and turning into the company that it just to be.</td>\n",
       "    </tr>\n",
       "    <tr>\n",
       "      <th>6155</th>\n",
       "      <td>@amazonIN @AmazonHelp  - Oh That's So Quick! Great Thanks.\\n\\nThat's why you are at No.1  https://twitter.com/AmazonHelp/status/1223394443975372800 …</td>\n",
       "    </tr>\n",
       "    <tr>\n",
       "      <th>3160</th>\n",
       "      <td>We have enormous package theft at the building, too. Fortunately, I was not expecting a delivery but you can see how your delivery persons leave them stacked together at the building entrance, not the first instance of this observed. Please contact the mgmt office: 703-827-0567</td>\n",
       "    </tr>\n",
       "    <tr>\n",
       "      <th>3481</th>\n",
       "      <td>After what I thought was a resolution, there has only been yet not her concern. Get it together Amazon, I use to speak so highly of you. 🤦‍♀️</td>\n",
       "    </tr>\n",
       "    <tr>\n",
       "      <th>5667</th>\n",
       "      <td>@AmazonHelp will amazon be adding the functionality to add a locker pickup barcode to Apple wallet soon? So it comes up on home screen when you get close to the locker your item is in? Just another way to make the service even better 🧐🤞🏻</td>\n",
       "    </tr>\n",
       "    <tr>\n",
       "      <th>3650</th>\n",
       "      <td>Thanks I see it takes a while to be credited back ty for response</td>\n",
       "    </tr>\n",
       "    <tr>\n",
       "      <th>5625</th>\n",
       "      <td>I’m sorry amazon but if home delivery is the way of the future you guys need to be doing way better 🤷🏼‍♀️</td>\n",
       "    </tr>\n",
       "    <tr>\n",
       "      <th>4414</th>\n",
       "      <td>@AmazonHelp It is too difficult to get a little help on the Amazon site. Is there a direct button for assistance?</td>\n",
       "    </tr>\n",
       "    <tr>\n",
       "      <th>2880</th>\n",
       "      <td>@AmazonHelp I am angry at the lack of contact regarding my account hack. No communication. At least £400 that I know of spent! Infuriated at how difficult you are to deal with!</td>\n",
       "    </tr>\n",
       "    <tr>\n",
       "      <th>6201</th>\n",
       "      <td>Ya AmazonI dia\\nSomehow my details were wrongly updated, but the PF consultant \"Guru\" of Amazon is highly unprofessional and irresponsible person. He has been bluffing &amp; fake promising &amp; lying me fr past 6 months\\nPlease help\\nPlease update my details of employment in epfo portal 🙏</td>\n",
       "    </tr>\n",
       "  </tbody>\n",
       "</table>\n",
       "</div>"
      ],
      "text/plain": [
       "                                                                                                                                                                                                                                                                                                                                                                                                                                          raw\n",
       "6077                                                                                                                                                                                                                                                                                                                                                                                                                              Yes sure :)\n",
       "3722                                                                                                                                                                                                                                                                                                                      You shouldn't even be using this type of packaging #WarOnPlastic  Does Amazon even realise the state of our planet!\n",
       "3508                                                                                                                                                                                                                                                                                                                                                                    All posts are about the item purchased and my feelings after using it\n",
       "4643                                                                                                                                                                                                                                                                                                                                                                           @AmazonHelp  when is the digital release of sarileru neekevaru\n",
       "3291                                                                                                                                                                                                                                                                                                                                                                                               Update - still no contact from @AmazonHelp\n",
       "1139                                                                                                                                                                                                                                                                                                             Hi, I’ll DM you now. I tried the ‘call me’ function earlier which didn’t work and I’m not downloading the app for a web chat\n",
       "4866                                                                                                                                                                                                                                                                 I’m glad you got the team to help you out because so far, the show it’s included on the membership.\\nHope the issue gets resolved soon! \\nChuck is very important to us!\n",
       "2111                                                                                                                                                                        Yes multiple times, they have hit walls unlocking and kept trying the same steps over and over. They told me just to start a new account. Then I lose my prime paid days, all my movies and tv shows I bought and will not be able to access my wedding registry!\n",
       "6089                                                                                                                                                                                                                                                                 @AmazonHelp 100% kadhal movie release today or tomorrow..\\nI am a prime video member..pls don't ignore my request....also i want iruttu,naan avalai sanditha podhu movie\n",
       "3114                                                                                                                                                                                                                                                                                                                                   My husband ordered the items and dont know his login. Is there any way to log this without signing in?\n",
       "6197                                                                                                                                                                                                                                                                                                                                                                                                                      That’s disgusting 😡\n",
       "194                                                                                                                                                                                                                                                                                                                                                                                                                                   Sure :)\n",
       "3135                                                                                                                                                                                                                            Thank you for bringing this to light!! \\n\\nThanks #Amazon for addressing this and demonstrating values customers can be proud of.\\n\\n👍👍 And FYI immigrants, we’ve got plenty of room. Can’t wait to meet you.\n",
       "2501                                                                                                                                       @amazon @AmazonHelp @amazonIN what the hell is mathrubhasha? Why don't you never talk in a language all Indians can understand? Why do you communicate with most of the Indians in an alien language? Do you have guts to use some other languages in France or German? pic.twitter.com/YGig10Lgll\n",
       "4733                                                                                                                                                                     Wasn't very helpful. For a billion dollar company you would think us artist could at least be paid ON TIME.. I'm sure it's all automatically done and not human error but imagine your paycheck not coming on time.. I'm sure you'd be annoyed at the inconvenience.\n",
       "3566                                                                                     Be aware that #AmazonWardeobe is impossible to use for anything but cheap items because there is a secret £100 limit that you don't find out about until after you waste your evening filling your basket. Possibly still useful for cheap items. Thanks @AmazonHelp for trying, anyway.  https://twitter.com/RobFisher/status/1224063768705093632 …\n",
       "1338                                                                                                                                                                                                                                                                                                                                                                                                         Scratch ur self ... Amazon sucks\n",
       "150                                                                                                                                                  Bought GalaxyM20(CharcoalBlack,3+32GB) from @amazonIN @AmazonNews_IN @AmazonHelp #amazonindia on 24 Mar,19. Slow since beginning. Updated 14 Jan, 20 to @Android #Android10 by @Samsung_IN @SamsungMobile @SamsungNewsIN @Samsung @CEOofSamsung.My #GalaxyM20 hanged and dead situation.\n",
       "5621                                                                                                                                                                                                                                                                                                  oh shiiiiiiit - get onto Amazon live chat, they're usually really helpful.  I assume it's a 3rd party seller from within Amazon though?\n",
       "821                                                                                                                                                                                                                                                                                                                                                                                                                                  Bad bot!\n",
       "1823                                                                                                                                                                                                                                                                                                   Am I going to receive my package today? I am still waiting. 😔\\n\\nTo be honest, I am not used to these type of experiences with Amazon.\n",
       "1148                                                                                                                                                                                                                                                                                                           @AmazonHelp Hi again. After waiting for over well over an hour, my delivery has been cancelled. Not overly happy to be honest!\n",
       "1563                                                                                                                                                                                                                                                                                                                                              provided is to return it and spend 20 extra dollars for the same phone in a different color\n",
       "3219                                                                                                                                                                                                                                                                                                                                                                                                                     @FitbitSupport help?\n",
       "5261                                                                                                                                                                                                                                                                                                                                 Wtf do @AmazonHelp prime video show ads for their own shows when I’m already a paying member. Offensive.\n",
       "1686                                                                                                                                                                                                                                                                                                                                                                                   Not a good idea to give your number in public. DM them\n",
       "4215                                                                                                                                                                                                                            @AmazonUK @JeffBezos @AmazonHelp @AmazonBusiness \\nWhy is this feedback not removed? Customer orders a product for New Zealand then complains it doesn’t work in UK. Thick as pig s**t. Why are we penalised?\n",
       "2987                                                                                                                                                                                                                                                     it seems someone has changed all of my login info, some \"penduan81c@yeah.net\", seems to be a chinese mail site or something, and no, i can still not call numbers outside of sweden.\n",
       "1316                                                                                                                                                                                                                                                                                                                                                                                                                                *baseball\n",
       "4572                                                                                                                        That is email I got after 31 hours of the incident which explains nothing. You know, even contacting within 30 minutes of the incident, @AmazonHelp agent did not take any action. The agent could have revised the action and cancelled those orders. I could have saved my £763.68.  pic.twitter.com/r3yjMF56ZB\n",
       "4257                                                                                                                                                                                                                                                                                                                         UPDATE (cimer @AmazonHelp)  https://twitter.com/boylloon/status/1223549004769890305 … pic.twitter.com/9a8twFxFNn\n",
       "3146                                                                                                                                                                               @AmazonHelp I would like you to know that  http://Amzon.it  is not helping @amazon to be the most Customer Centric Company. Multiple orders and even charged CC fo my order but no shipment for over three months. No solution, no compensation. Very bad!\n",
       "2035                                                                                                                                                                                                                            @amazonIN @AmazonHelp \\nSo as per Amazon, shoes are apparently shaped like roller. No idea what's inside the pack. Can anyone guess what's inside the pack by looking at the pic?  pic.twitter.com/AnWvjvoVja\n",
       "6045                                                                                                                                                                                                                                                                                                                                                Thank you! At least combine orders or reuse the package that my amazon orders came in. 🥺😪\n",
       "5618                                                                                                                                                                                                                                                                                                                                                                     It's @AmazonUK. And I've already spoke to about 3 people of the chat\n",
       "2157                                                                                                                                                                                                         Is it staying like this or are you open to people hating it and switching back? It's like picking 50 items from a website and then being told that you need to arrange delivery with 2 shops, only finding that out at the end..\n",
       "2070                                                                                                                                                                                                                                                           This means a lot! Thank you very much for your support, @nithin_v! We are trying every possible means to bring this unfair practice to a halt and we won't stop until we do :)\n",
       "6180                                                                                                                                                                                                                                                                                                Yes.  New one coming tomorrow...I needed today.  It’s just gross that 2 things have arrived clearly used in the last couple months.  Ewww\n",
       "518                                                                                                                                                                                                      Part-3 Will you deliver this product to me tomorrow or not? @Flipkart \\nIf you can't deliver it to me than tell me the address I will reach there after 2 weeks of my order to pick superfast delivery ..\\n@ZeeNews @ANI @AmazonHelp\n",
       "5366                                                                                                                                                                                                                                                                                                                                                         @AmazonHelp Hi, I'm unable to find Hotel Transylvania 3 on @PrimeVideoIN app.\\n👀\n",
       "678                                                                                                                                                                Thanks for the info! Apparently it’s due to snowy conditions. I was wondering why the quote was later. Wish I saw the notice sooner. I do like that it said this on the app main page, after I went back. but perhaps it should also appear near the prime delivery quote.\n",
       "1735                                                                                                                                                                                                                                                                                                                         Hi, I'm just curious as to why the music unlimited app with HD, I see some stuff still in SD? Is this a glitch??\n",
       "741                                                                                                                                                                                                                                               @AmazonHelp Your delivery boy marked a delivery attempt even without visiting my premises @amazonIN It's high time to see you at the consumer court. @PMOIndia Please look into the matter.\n",
       "3252                                                                                                                                                                                                                                                                                                                                                                                    + @AnuragJaisingh\\nThere is no option to pre-order...\n",
       "1068                                                                                                                                                                                                                                                               Are you even trying? This asshole was just illegally parked on the wrong side of the street. Managed to be facing the correct direction though. pic.twitter.com/6gZGt4TpGW\n",
       "1646                                                                                                                                                                      I understand that, what I’m saying is it’s not just one item from a different fulfillment centre that’s longer it’s suddenly every item I look at is a week or more when normally the max I’ve had the last year is 1-2 days. Is that not abnormal/possible glitch?\n",
       "1433                                                                                                                                                                                                                                                                                                                                                         Done, thank you for your fast response! #socialmedia #CustomerExperience @amazon\n",
       "3899                                                                                                                                                                                                                                                  Looks like they’ve replied already with 320 kbps. But they didn’t mention that it is playing with Ogg Vorbis format.\\nOther formats like AAC offers better quality with lesser bitrates\n",
       "418                                                                                                                                                                       @AmazonHelp @amazon \\nCan't you see what is in there in the video.\\n\\nYou guys are just cheerleaders when it comes to work, you guys are just dummy.\\n\\nPlease don't call yourself earth's most customer centric organization. It is a shameful thing for you guys.\n",
       "4677                                                                                                                                                                                                                                                                  @Flipkart , @amazon @AmazonHelp \\nWhy the delivery at my PIN been stopped.\\nEvery product is showing out of stock for this PIN.\\nIs there any problem???\\nPls clarify!!\n",
       "5583                                                                                                                                                                                                                                                                                                                  @AmazonHelp Club factory connect number O62..94..35.O8.ll.call me all problem solve 24 houreClub factory connect number\n",
       "5102                                                                                                                                                                                                                                                                                                            I need @AmazonHelp one more time, please. I need seller support again. Hoping this is my last request for this issue. Thanks!\n",
       "3225                                                                                                                                                                                                                                                                                                                   Actually? Yes. I'm looking for a 2019 UK film, \"Love Type D\" Here's the @IMDb: https://www.imdb.com/title/tt6151224/ …\n",
       "5313                                                                                                                                                                                         Thank you @Roku for dropping the Propaganda network \\n“ Fox News “ Hopefulness other Streaming Device manufactures follow your lead ! @TiVo @AppleTVPlus @SamsungUS @AmazonHelp  https://twitter.com/americanmclass/status/1223536994288128001 …\n",
       "2739                                                                                                                                                                                                                                       Dude it took 2 months to me to talk to you random country call center representative, and he know nothing , go ahead and try to sell something and get back to me ,, get learn something from ebay\n",
       "5303                                                                                                                                                                                                                                                                                                                                                                                                                              Thank you..\n",
       "3571                                                                                                                                                                                                                                                                            It is now 15 hours since the driver alleged that my parcel was \"handed to the resident\" ... I gave the details you asked for but nobody has contacted me yet?\n",
       "1688                                                                                                                                                                                                                                                                                                                     If it is mobile try clearing cache and connect again.\\n\\nIf it is desktop close the window. Seems like it is hanging\n",
       "5424                                                                                                                                                                                                                                                                                                                  @AmazonHelp an amount of certain rupees has been deducted from my amazon pay TWICE for the same order.. PLEASE, reply..\n",
       "1447                                                                                                                                                                                                                                                                                                                                                                              @AmazonHelp i M NOT HUMAN. dONT CALL ME HUMAN. I M AN ANGEL\n",
       "5243                                                                                                                                                                                                                                                                                                                                               I currently used a @Samsung  smart tv and @amazon fire sticks. @SamsungSupport @AmazonHelp\n",
       "4381                                                                                                                                                                                                                                                                                                                                                                                                From the grind till now....Don’t reply DM\n",
       "5459                                                                                                                                                                                                                                                                                                                                      It works.  They will refund you your money or send the product again.  All very quickly and nicely.\n",
       "3900                                                                                                                                                                                                                                                                     @Flipkart @flipkartsupport \\nThis is awesome delivery.... Again delayed by 3 days....\\n@AmazonHelp you people are awesome in delivery...  pic.twitter.com/fbAwNiHNt2\n",
       "3139                                                                                                                      Bc you don't seem to reply when I ask in French, I'll ask in English.\\nHow come you didn't know how many signed copies you have to sell? I guess you didn't know your stock and sold too many albums. Now we are disappointed. we thought we bought it and you cancel it... @AmazonHelp  pic.twitter.com/PqAYO2uxNo\n",
       "5677                                                                                                                                                                                                                                                                                                                          How terrible though on a serious note. Kids speak to this bloody thing! I’d be raging if I actually had any lol\n",
       "1519                                                                                                                                                                                                                    Ok. I update apps every night. I already reached out to support from the Alexa app a week or so ago and was told that it’s a known issue, but rest assured nothing is wrong with my system. But it’s still acting up.\n",
       "4553                                                                                                                                                                                       Thank you for writing to me. Kindly give grievance details through \"Consumer App\" which can be downloaded from both Google Play Store OR App Store. Grievance can also be filed through Helpline No. 14404 OR  http://www.consumerhelpline.gov.in \n",
       "3039                                                                                                                                                                                                                                                                                                                                                                                              Thanks that’s actually what I needed to see\n",
       "2308                                                                                                                                                                                   My package was set to come on the 1st of February and I never received it and I was told that I had to wait til February 3rd to find a solution and now I have to wait til the 6th apparently? Like is this a joke? You want me to wait almost a week?\n",
       "2436                                                                                                                                                                                                                                                                                                                                                                                          Hello Team please find the case ID - 6775938631\n",
       "1645                                                                                                                                                                                              Oh look I ordered something Monday  that will “arrive on Feb 10th” and it actually is arriving today instead like it should be. Maybe next time listen to what I’m saying that there’s a glitch with arrival dates and not just dismiss me.\n",
       "4387                                                                                                                                                                                                                                                                                                                                                             Sure sir anything else?😂 btw they’re waiting for you on 10th, bring oil okay\n",
       "1163                                                                                                                                                                                                                                                                                                                                                   yeah is it true that you exploit your employees to the point of death and evade taxes?\n",
       "915                                                                                                                                                                                                                                        Does there happen to be a van outside your window with blacked out windows and a parabolic dish?  (More seriously, did they say they were from amazon?  Chase seems more likely to be the caller.)\n",
       "1448                                                                                                                                                                                                                                                                                                                                                   OK THANK. SAY THANKS TO MY BROTHERS TOO. I LOVE THEM VERY MUCH. PROMISE OF MY GODDESS.\n",
       "2374                                                                                                                                                                                                                                              @amazonIN fraud @AmazonHelp fraud #SPAM #FRAUD #CHOR #liar #BoycottAmazon see my tweet its over 1months but still no resolution https://twitter.com/Saketxyz01/status/1224591933680435202 …\n",
       "537                                                                                                                                                             It's your customers service since yesterday we r approaching you but no reply we have to book another ticket paying rs 350 more,instead of rs 600,we have to pay rs 950 as ur shrinath travels,bus operator cancelled bus of 9th feb @redBus_in @AmazonHelp @amazon @amazonIN\n",
       "4958                                                                                                                                                                                                                                                                                                                                                                                        You have yet to help me this is really a disgrace\n",
       "1527                                                                                                                                                                                                                                                  @JeffBezos @AmazonHelp @amazonIN I am overwhelmed with your quick response towards our each complain tweets & handling our issues with an ease... 🥰🥰🤩 👏👏 Thank You for the information.\n",
       "2745                                                                                                                                                                                                                                                                                                                       As I have said I have tried that most recently half an hour ago but I either don’t get through or I get hung up on\n",
       "2002                                                                                                                                                                                                    @Hermesparcels  \\nPlease can you let Amazon know why you are unable to deliver this item which was posted out on the 11th of January. Tracking number : 3412402510490821\\nDue to this hold up Amazon are not refunding the amount !!!\n",
       "2613                                                                                                                                                                                                                All good. After I updated my password my account was locked. Was able to remove that lock by calling in, but I am curious about one thing. When this order was placed I never received a confirmation email. Why is that?\n",
       "517                                                                                                                                                              Part-4 Same thing is happening with me about this product also. Again in national capital? \\n\\n@Flipkart what are you really doing guys these days?\\n\\nShould i forget to shop online or anything else?\\n\\n@RajatSharmaLive @AmazonHelp @Flipkart pic.twitter.com/qqreve7iHS\n",
       "6167                                                                                                                                                                                                                                                                                                                                                                                  Still not made it any better pic.twitter.com/lelg5MdzpY\n",
       "1963                                                                                                                                                                                                                                                                                                                 Wow. @AmazonHelp should probably get on fixing this for the customer. I'd assume they know exactly who packed the order.\n",
       "4104                                                                                                                                                                                                                                                                                                                                                                                                                             Ok thank you\n",
       "4344                                                                                                                                                                                                                                                                                                                                                                      Apparently it has been removed from the catalogue \\nThats a shame 😒\n",
       "3838                                                                                                                                                                                                                                                          @flipkartsupport sir I bought a product but it is not same condition so want my product return but your system answer no. I I want returned my product @AmazonHelp @CNNnews18 @\n",
       "5388                                                                                                                                                                                                                         The refund email I received stated the reason for the refund was because of damaged package versus having been sold a recalled item.  None of this seems like it complies with @USCPSC regulations and guidance.\n",
       "3933                                                                                                                                                                                                                                                                                           Hi Arfat, we have still not received any message from your side here on Twitter. Request you to share your email address over private message.\n",
       "5253                                                                 @AmazonHelp Many thanks for the tip to email Community Help about this review. (1⭐️because the sample didn't load).\\n\\nHowever, I have not heard back and the review is still up, adversely affecting the book's rating. Are you able to assist please?\\n\\n https://www.amazon.com/gp/customer-reviews/R32EL1589LQFH8/ref=cm_cr_othr_d_rvw_ttl?ie=UTF8&ASIN=B07NZZZJSR …\n",
       "5611                                                                                                                                                                                                                                                                                        Hey they cheated me too buddy I will help u with solution dat please go to the nearest consumer court and they vl definitely help u with ur money\n",
       "2911                                                                                                                                                                                                                                                          lol just keep waiting then. You’re no help either!!! All my previous returns never took two weeks to process. I think something is wrong and your not equipped to look into it.\n",
       "229                                                                                                                                                                                                                                                                                                                     Nothing done till now. Whats happening to amazon support ppl who i always felt were fast n best# feeling disappointed\n",
       "2849                                                                                                                                                                                                                                                                                                                                                                                                                                Thank you\n",
       "1127                                                                                                                                                                                                                                                                                                                                                                                                     Ok I will thank you for your support\n",
       "2931                                                                                                                                                                                                                                                                                                               Why only Amazon India? What about Amazon’s operations around the world that are contributing to the global plastic crisis?\n",
       "818                                                                                                                                                                 I don't need to look at some website for policy. I have policy on the ticket I was given that says 24 hrs for refund. Not footnotes. No fine print. I guess I have to do another chargeback so you don't hold onto my money for a month and don't respond like last time.\n",
       "5229                                                                                                                                                                                                                                                                                                                                            @AmazonHelp \\nWhen are getting the Hazel Blue OnePlus 7T back in stock?\\n(Not sold by JANEAU)\n",
       "4207                                                                                                                                                                                                            That's bullshit\\nI know the account too is gone with the money in it okay\\nI'm used to that shit okay\\nNot anymore will i try to use such goddamned application call Amazon to place any order again\\nIt's a crap\\nRipper....\n",
       "4254                                                                                                                                                                                                                                                                                                                                                                    seinfeld is the only reason i have my subscription please add it back\n",
       "5096                                                                                                                                                                                                                                                          @AmazonHelp - My children just asked Alexa what her favorite Big 10 team was. She responded the Buckeyes. My children have now unplugged and thrown Alexa out. Any suggestions?\n",
       "5138                                                                                                                                                                                                                                                                                                                                                                          I can watch it on my smart phone straight away with no problems\n",
       "3000                                                                                                                                                                                                                                                                                                                                                                                                                           Thank you!!!❤️\n",
       "2861                                                                                                                                                                             @PlantsForPets I ordered thru @amazon @AmazonHelp THIS IS CRAP. #Amazon says I cant return this order from #PlantsForPets but it arrived SO poorly packed. STOP USING THIS STUFFING!!!! #WHY????? #REFUNDNOW I need a refund ASAP pic.twitter.com/bJrDhkM8Gm\n",
       "4937                                                                                                                                                                                                                                                                                                                                                                                     It doesnt show the original estinated delivery date.\n",
       "1079                                                                                                                                                                                                                                                                                                                                                                                 Hi, not your fault at all Amazon so no apology needed :)\n",
       "2307                                                                                                                                                                                         @AmazonHelp \\nWe have ordered a washing machine online amounting to ₹20000+ to be delivered to us in Goa on 2nd February 2020. We are calling customer care which failed us miserably. It amounts to cheating. How people can trust you. @amazon\n",
       "2944                                                                                                                                                                                                                                                                                                                                                                                                    So what did you think of my feedback?\n",
       "2266                                                                                                                                                                                                                                                                                                                                                                                                                               Thank you.\n",
       "2769                                                                                                                                                                                                  So I followed the instructions and y’all decide to refund me $10 and keep using the vitamins WITH BROKEN GLASS?! WTH attaching picture to remind y’all that YALL DELIVERED SHARDS OF GLASS WITH MY VITAMINS. pic.twitter.com/FJtNJs1kR2\n",
       "1750                                                                                                                                                                        Same- but we use our account a ton. Prime, videos, and music. Why are we locked out while you all investigate 4.00-5.00 in charges? We didn’t do anything wrong. We called after the 1st charge and changed passwords as told. Then disputed after the 2nd movie!\n",
       "4864                                                                                                                                                                                                                                                                                                                                            At this point I am on a “Check-Your-Chuck-A-Ton” just to make sure it is still available 😭😭😭😭\n",
       "4256                                                                                                                                                                                                                                                                        Submitted a ticket....now we play the waiting game. Does my package make it by 9pm or do I get a call from amazon first (window is within 12 business hours).....\n",
       "4667                                                                                                                                                        @amazon @AmazonHelp @AmazonUK \\n\\nBelow orders not delivered to me but its showing in app as delivered to whom? \\n\\nThis is the pathetic service and when I called to Customer care. He was telling me to cancelled the order. \\n\\nWhy would I do? 1/2 pic.twitter.com/d3zLzprKiV\n",
       "1792                                                                                                                                                                                                                                                                           online customer service was awful.  I won't go into details because as the person told me online - it basically won't do any good and my refund is what it is.\n",
       "4005                                                                                                                                                                                                                                                                                                                                                                                          Here’s a short video pic.twitter.com/f9V6WvZz9H\n",
       "4388                                                                                                                                                                                                                                                                                                                                                                                       I’m in Tarus 2 bro, it’s sheikhs concern probably😂\n",
       "3514                                                                                                                                                                                                                   Everything from @amazon ships fast even without prime, currently trying to watch a TV show on @PrimeVideo and there are multiple non-Amazon commercials... Time to cancel prime? What am I paying for? Cc: @AmazonHelp\n",
       "5263                                                                                                                                                                                                                                         Guys, regardless, I appreciate your greet service and efforts such as using paper tape securing the box; but the link cable could have fitted into a small envelope with no risk to the product!\n",
       "3017                                                                                                                                                                                                                                                                                                                                                                    Don't be fooled amazon is about that $$$$$ pic.twitter.com/8JgGV6aqI4\n",
       "6183                                                                                                                                                                                                                                                                                                                                                                                                            NOBODY REPLIES TO MY MESSAGE!\n",
       "4694                                                                                                                                                                                                                                                                                                                                                                                                                       give me free stuff\n",
       "3356                                                                                                                                                                                                                                                                                                                                                                                                                             Plagiat war.\n",
       "2637                                                                                                                                                                                                                This is a dumb thing and super pea brain shit to say but can things like objects be contaminated with the wuhan strain of coronavirus?? I ordered some things and I’m scared if they come from over there lol @AmazonHelp\n",
       "4659                                                                                                                                                                                                                                                                                                                                                                                           Wait is it 6+128 GB for 12,999 in screenshot 🤔\n",
       "154                                                                                                                                          Hello @AmazonHelp  this the last mail You have send me and still no have new :\\n\\nDear Bilal,\\n\\nMy name is Giorgia and I work for Amazon Twitter support.\\n\\nI've asked to the relevant department to verify the issue with your return.\\n\\nI hope they will provide an update us soon as possi\n",
       "4744                                                                                                                                                                    @AmazonHelp\\n i orderd at 25 jan 20 my order no 403-3315501-8803540 but amazon didnt delavery my item till now . very dispointed with amazon it happand 2nd time with me.. thay always change the delavery shedule and 2 time they changed shedule.. very dispointed.\n",
       "4262                                                                                                                                                                                                         Also @CitySelfDrive have stayed quiet haven’t they! They must be able to give a statement to @AmazonUK @AmazonHelp on the state of the van upon return etc? There was also a dash cam that for some reason isn’t being checked??\n",
       "806                                                                                                                                                                                                                                                                                   Please make sure it’s here by tomorrow. I ordered it Sunday and changed the delivery date from the end of the month to today because I needed it today.\n",
       "4551                                                                                                                                   Arre khufiyon, order cancelled 25/1/2020 today is 2nd February! 9:days. Don't you read tweets or you are dumb? Is this how @JeffBezos became rich. Banks pay ₹100/day from 5 days of ATM dispute! What do you Jeff? @amazon @AmazonHelp 😖  https://twitter.com/AmazonHelp/status/1223981877574295553 …\n",
       "901                                                                                                                                                                                                                                                            Who tf is his gf ??? I literally emailed him two weeks ago and he never got back to me ?? @AmazonHelp wtf ???  https://twitter.com/barstoolsports/status/1224408461502492672 …\n",
       "1957                                                                                                                                                                                                                                                                                                                                                                                He’s a fraudster I witnessed the courier giving it to him\n",
       "6072                                                                     Thanks to an old backup app I managed to retrieve last Netflix app released in August 2019 that works with Amazon Fire HD 10 -\\n@Amazon were not helpful in providing it, so no thanks to them -\\nanyone who needs it, it's here -  https://www.dropbox.com/s/zxe1ahj0g70z0uh/Netflix-com.netflix.mediaclient-7.18.0-34359.apk?dl=0 … - via @inabster @xdadevelopers\n",
       "4470                                                                                                                                                                                                                                                                                                                                                                                                     I want action against delivery agent\n",
       "2884                                                                                                                                                                                                          absolute waste of time, get to a person, they tell me it was delivered and I should check with neighbours, jesus they can't even READ that I put I have the parcel and it was LEFT OUTSIDE THE FUCKING PROPERTY!!!\\n\\njesus....\n",
       "3631                                                                                                                         U guys have intiated a refund but that’s not the point as this has happened for the second time. My pet is more precious to me than nything in the world... and her health and well-being is more imp than nything else...would like to know of corrective action taken with supplier pic.twitter.com/FoUb4ZuFRa\n",
       "1074                                                                                                                                                                                                                                                                                                             Thank you JB for reading at least. Let’s hope for this to get to a positive ending. You guys rock, but not much this time...\n",
       "2829                                                                                                                                                                                                               You’re hilarious! I know how they’re calculated. Don’t act like I’m some fresh out of the womb snowflake that doesn’t understand how logistics work. This is a new issue Amazon is having. Thanks for the crumbs though. 😉\n",
       "4191                                                                                                                                                                                                                                                                                                                                                                                                          Its already been taken care of.\n",
       "791                                                                                                                      @amazonIN @jeffawilke @AmitAgarwal @JeffBezos @AmazonNews_IN \\nFirst go through below images..and tell me why too much time you guys are taking. I am continuously saying no one is able to help me, still you are sending me me bot reply like contact executive customer relations team pic.twitter.com/tTQv29YTHr\n",
       "4168                                                                                                                                                                                                                                                                                                                                                                                                                                Thank you\n",
       "5759                                                                                         @amazonIN @AmazonHelp @AmitAgarwal\\nAmazon initiated refund of Rs.21599 deducting no cost emi amount which I have to pay for an undelivered product incurring a loss of amount Rs.890.\\nResult:1.I lost the product 2.Lost more money 3.Lost the opportunity to buy from other others https://twitter.com/Afsal_mtc/status/1223526681102569472 …\n",
       "1121                                                                                                                                                                                                                                         Yea however their answer last time was it was delivered. Even though not to the door or even mailbox. Talking to them now. Cant wait till your delivery trucks hit the rural areas. #getridofups\n",
       "4963                                                                                                                                                                                                                                                                          Hi Amazon, We understand that you value Profit Over People.  Should we decide to boycott you, you can find more information by watching your stock prices fall.\n",
       "6028                                                                                                                                                                                                                                                                                                                                                                                            Only happens on my PS4. Firestick works fine.\n",
       "4769                                                                                                                                                                                                                                                                                                                                                                      Still Now waiting many customers.. @amazonIN @AmazonHelp @JeffBezos\n",
       "1811                                                                                                                                                 Yeah well, I actually asked you why an exchange wasn't an option. You didn't answer me, thanks, great customer service. As it stands you're refunding me and I won't be re-purchasing it from you as it's now a higher price. I assume that's why you won't offer me an exchange. Crooks\n",
       "4510                                                                                                                                                                                                                                                                  Not to mention @AmazonHelp I was just told by YOUR rep \"you have a generous gift card balance on your account, that should help with your purchase.\" Insulting. @amazon\n",
       "3651                                                                                                                                                             These posts, of which there are MANY, along with the stock response from @AmazonHelp only serve to confirm that we should all now #BoycottAmazon The company does not care about the impact its wasteful packaging policy has on our planet. Time to buy our stuff elsewhere\n",
       "2475                                                                                                                                                                                                                                                                                                                                                     The service centre isn't there in the city. The support number isn't being answered.\n",
       "5172                                                                                                                                                                                                                                                                                                                                                                                                          Alright! Thanks for the update.\n",
       "2820                                                                                                                                                  Thanks for the response but I've had issues with EVERY once of my orders since December. I've spoken with customer service countless times and even they don't know where the items are half the time. 🤷🏽‍♀️ it's not your fault or theirs but Amazon has been doing VERY poorly lately\n",
       "3190                                                                                                                                                                                                                                                                                                                                                                                                     They are waiting to see what you do.\n",
       "1016                                                                                                                                                                                                                                                                                                                                                                                          @AmazonHelp dm I have a question about my order\n",
       "3079                                                                                                                                                  @AmazonHelp Dear All ,\\n\\nI will Parches the watch Hauwei GT2 But Received Watch in Box Hauwei GT This problem by Amazon But Last 2 Days I'm Wait The Customer Care Team Reward So this not Use the product and Spend my Money And time again So this very very poor service by Amazon.\n",
       "569                                                                                                                                                                                                                                                                                                                                                                                  Hi..thank you for quick response. Really appreciate it 👍\n",
       "5565                                                                                                                                                              I was not able to get my cashback of Rs. 200 due to a technical glitch from @amazonIN's side.\\nIts all your fault.\\nSo, Either reactivate shopping offer of 50% cashback upto 200 on my account or add Rs. 200 to my Amazon Pay balance.\\n\\n#AmazonLootsPeople\\n#Budget2020\n",
       "2879                                                                                                                                                                                                                                                                      No, I got back in then locked out again. Keep waiting for promised email 24 to 48 hrs. No way of getting in touch or knowing if anything else bought on my account.\n",
       "1107                                                                                                                                                                                                     It absolutely does not help. I preordered this thing fair and square half a year ago and today Amazon cancels the order because it's \"unavailable\". Why can I preordered something Amazon never gets? I want you to make this right.\n",
       "757                                                                                                                                                                                                                                                I’ve discussed my gift card balance since 1/20/20 with at least 25 reps and supervisors. I don’t need to discuss. I need to have resolution with the return of my $2,800 gift card balance\n",
       "5754                                                                                                                                                                                                                          anyway doubt you will respond but honestly thinking about just returning and not repurchasing. If this was a 3rd party seller (or even 3rd party product) I'd see the point but it isn't. Everything is Amazon.\n",
       "5614                                                                                                                                                                                                                                                                                                                                     @JeffBezos please look at the robotic non human replies sent to customers even after a week of delay\n",
       "5448                                                                                                                                                                                                                                                                                                                                                            Looking for the earliest reply as there no update from you people.... @amazon\n",
       "876                                                                                                      Amazing isnt it, over 3 weeks of me constantly chasing @AmazonHelp to give me my refund after they constantly stated it would be. And suddenly after i threatened them with small claims, the refund was paid  in the very next day!!! What a sad amazon buyer experience  https://twitter.com/Mathew30/status/1224371937620766721 …\n",
       "2755                                                                                                                                                                                                                                                                                                                                         I would like some assurances that if we reorder, this won't happen again. I'd like to know that.\n",
       "4483                                                                                                                                                  @amazon @AmazonHelp @AmazonNews_IN I purchased redmi note 8 pro on offer sale on 19 to 22 January but my product not delivered and refund the my payment amount,I regularly following for same but no one give any solution , Amazon customer executive suggest me for cancel the order\n",
       "3272                                                                                                                                                                                               Dear @amazon and @JeffBezos, you have displayed true Stalinist leanings. I got a cookie cutter email telling us that we cannot use Amazon Pay. Yet we cannot delete our account. This is Kafkaesque. If you have kicked us out, let us go!\n",
       "2943                                                                                                                                                                   .@Amazon @AmazonHelp\\nSee...like I wrote before. It's best to stay away from all of your products. \\n\\nHackers keep getting access to your data. Is Amazon to blame?  https://mashable.com/article/why-your-private-data-keeps-getting-exposed-amazon/ … via @Mashable\n",
       "1815                                                                                                                                                                                                                                                                                                                                                               If immediate action will not be taken i will file a case in consumer court\n",
       "5385                                                                                                                                                                                                                    Well, I did call you twice to ask about this but your phone lines and so bad they cut out before your Non-English speaking staff could work out what I was on about. \\n\\nIs Jeff Bezos really worth  $129.5 billion ?\n",
       "5428                                                                                                                   Thanks however I won’t fill in lots of person data about me to report this. The incidents were \\nFri 31 Jan 15.26 Hill Barton Rd Exeter - couldn’t get the reg\\nSat 1 Feb 14.04 St. Leonard’s Rd Exeter - reg clearly visible\\nClearly your drivers feel under pressure to deliver quickly. pic.twitter.com/UhcuU0HoFU\n",
       "4415                                                                                                                                                                                                                                                                                                                                                                                                                          Nope, thank you\n",
       "3264                                                                                                                                                                                                                                                                                                                                I have already done that the last time- it happens over 75% of the time. This is just common sense right?\n",
       "591   @AmazonHelp @amazon Was actually no help. Just sent me back to the original letter. Claiming my products are inauthentic without actually selling a single product. The send me back to this letter and steal $5k #amazon #gunholsters #jeffbezos #gofundme  https://www.gofundme.com/f/help-me-fight-amazon-and-bezos-wicked-ways?utm_source=customer&utm_medium=copy_link&utm_campaign=p_cf+share-flow-1 … pic.twitter.com/GfdwoBfiKY\n",
       "2839                                                                                                                                                                                                                                                the place where it said tell us about your order have a drop down thingy where I can't type but rather asked to select one of the many things, both services or products you guys have XD\n",
       "495                                                                                                                                                                                           @Real_RMET @ShieldVoC  it’s true because earlier I ordered a product from @amazonIN  on January and they provided me used product with broken seal. Warranty of the product is started in December 2019 and now they are not taking any action.\n",
       "827                                                                                                                                                                                                      @AmazonHelp I ordered a phone with order id:  408-3753863-2912321, but my current phone's audio is not working so couldn't contact the delivery boy on call. Kindly ask him to message on my number. Your help would be appreciated.\n",
       "1322                                                                                                                                                                                                                                                                                                   I have returned the item in good faith and in your email telling me to return by 31st Jan\\nIt's the 4th Feb shows how wrong you are!!!\n",
       "5358                                                                                                                                                                           Well done @AmazonHelp @AmazonUK @amazon You are too late. The hackers just bought some sort of download cards and I can't cancel their orders. Your failure to respond just allowed criminals to steal £160 from you despite us warning you for over 24 hours.\n",
       "1387                                                                                                                                                                                                                                                                                                      @AmazonHelp I want my money TODAY. Imagine being an international company and stealing from a young girl🤣 your company is a JOKEEE.\n",
       "744                                                                                                                                                                                                                            I can't. You have committed a day light fraud. Your customer care is useless and you are not even calling after repeated reminders. @aajtak @ABPNews @ZeeNews @Republic_Bharat @republic @IndiaToday @htTweets\n",
       "4882                                                                                                                                                                                                                                                                                     Huge s/o to @RazerSupport and @AmazonHelp for helping find out the problem and ship a replacement in such a short notice  pic.twitter.com/fV6lS0aOCI\n",
       "1200                                                                                                                                                                                                                                                                                                                                                                                                        Sorry but that's NO consolation 😭\n",
       "3959                                                                                                                                                                                                                                                     We also have prime, but free delivery doesn't work if most of the items say \"doesn't ship to Northern Ireland\" at checkout. We are still a part of the UK!? At least for now anyway.\n",
       "1894                                                                                                                                                          @AmazonHelp \\nI need to put a complain against  delivery boy and ur worst customer support team.pre paid items are undelivered  but ur delivery  boy marked as delivered.why so its happening and then cod is not applicable from my Account but same items from other accounts\n",
       "4181                                                                                                                                                                                                                                             @AmazonHelp very frustrating that account holders are NOT allowed to directly contact billing regarding issues with personal accounts.  Not ok when you have been a customer for many years.\n",
       "4171                                                                                                                                                                                                                                                                                                                                                                                                            Thanks. I've contacted them 🙂\n",
       "4261                                                                                                                                                                                                                                                                                                                                                          Terrible service! They haven’t even logged on to twitter since 2015 it seems...\n",
       "5731                                                                                                                                                                                   It wasn't so much the delay in delivery that irritated me, it was the delay in the communication.\\nI was given a vague, unhelpful delivery schedule - but thanks for the delay, it gave me time to re-assess my desire for the item.\\nOrder cancelled.\n",
       "4430                                                                                                                                                                                                                                                                                                                                                              I have no other issues. @AmazonHelp is just too big to care about anything.\n",
       "1147                                                                                                                                                                                                                                                                                I don't mind things being late, what I object to, is being told they will arrive at the next stop, only for over an hour later the package not being here\n",
       "6085                                                                                                                                                                                                                                                                                                             Your \"transportation team\" is now refusing to deliver the package until Monday because they don't feel like driving tonight.\n",
       "6022                                                                                                                                                                                                                                                                                                                                                                                                                               Ok bro ;_;\n",
       "4347                                                                                                                                                                                                                                                                                                                                              Thats not really a clear answer did you or did you not remove 30 rock from thé catalogue ??\n",
       "718                                                                                                                                                                                                                                                                                                                                                                                                              Yes. Fix that in your system\n",
       "3638                                                                                                                                                                                                                                                                                                                                                                                                               I hope I will, thank you 🥰\n",
       "4124                                                                                                                                                                                                                                                                                                                                                                                                                  Let me know how it goes\n",
       "4114                                                                                                                                                      @AmazonHelp - RFC - let your tech team know that they are useless, unless that is they are instructed to sabotage the @netflix @NetflixUK app to give a monopoly for @PrimeVideo on the Amazon Fire platform? @JeffBezos https://twitter.com/meNabster/status/1223437687383896065 …\n",
       "5274                                                                                                                                                                                                                                                                                                                                                                                                                        You're welcome! 🤗\n",
       "604                                                                                                                                                  YOU are the carrier-all 3 packages last week that did not follow directions were delivered by an Amazon contracted driver. I had 1 drenched box, & 2 bubble envelopes delivered here. 2 to carport (clearly NOT a porch) & the box left on other side of gate. All 10-12 ft from my door\n",
       "3485                                                                                                                                                                                                                                                                                         @AmazonHelp closed my account because i didn’t receive a $400 wifi system. denied my appeal. this is ridiculous i just want the goods i paid for\n",
       "3241                                                                                                                                                                                                                                                                                                                                             @AmazonHelp when are you guys going to add more Amazon Fresh locations? Need them in Houston\n",
       "2878                                                                                                                                                                                                                                                                                                           Got an email about an Apple Watch purchased! £419.03 spent on a lawnmower. Paid with my business debit card. No communication.\n",
       "4575                                                                                                                                                  Dear @AmazonHelp, I did not understnad what solution you have provided. Here is a timeline:\\n1.50AM, 31st January: hacker hacked my @AmazonUK account and purchased goods of 763.68GBP. \\n2.30AM, 31st January: I contacted Amazon through chat option to revise this activity. (Cont.)\n",
       "5232                                                                                                                                                                                                                                                                                                                                                           Well actually I was really talking to Ellen in particular..but..thanks anyway.\n",
       "3133                                                                                                                                                      I used your other numbers and no one was answering then I used the \"call me now\" service and a nice guy told me about the problems you had and I understand now. I was just really upset about my order, I'm still disappointed but I'm happy I called and cleared up the situation\n",
       "838                                                                                                                                                                                                                                                                                                      Do you use your Twitter account to just complain about the services of various companies, is it a coincidence ?, or are you a troll?\n",
       "904                                                                                                    I just watched the 3rd season of “STARTUP” on @PrimeVideo. — It was an incredible turning point! And considering the last chapter, can I understand that we will have a 4th ?! 🙏 \\n\\nThis @iamedigathegi character was awesome! @AmazonHelp @PrimeVideoBR 👏\\n@Handlebrody https://twitter.com/radarbarone/status/1222613368869195777 …\n",
       "1678                                                                                                                                                                                                                             I will continue to send this awareness campaign to the media, competitors and government, agencies, AOC, Newspapers, until I see Amazon resolving my issues and turning into the company that it just to be.\n",
       "6155                                                                                                                                                                                                                                                                                    @amazonIN @AmazonHelp  - Oh That's So Quick! Great Thanks.\\n\\nThat's why you are at No.1  https://twitter.com/AmazonHelp/status/1223394443975372800 …\n",
       "3160                                                                                                                                                   We have enormous package theft at the building, too. Fortunately, I was not expecting a delivery but you can see how your delivery persons leave them stacked together at the building entrance, not the first instance of this observed. Please contact the mgmt office: 703-827-0567\n",
       "3481                                                                                                                                                                                                                                                                                            After what I thought was a resolution, there has only been yet not her concern. Get it together Amazon, I use to speak so highly of you. 🤦‍♀️\n",
       "5667                                                                                                                                                                                            @AmazonHelp will amazon be adding the functionality to add a locker pickup barcode to Apple wallet soon? So it comes up on home screen when you get close to the locker your item is in? Just another way to make the service even better 🧐🤞🏻\n",
       "3650                                                                                                                                                                                                                                                                                                                                                                        Thanks I see it takes a while to be credited back ty for response\n",
       "5625                                                                                                                                                                                                                                                                                                                                I’m sorry amazon but if home delivery is the way of the future you guys need to be doing way better 🤷🏼‍♀️\n",
       "4414                                                                                                                                                                                                                                                                                                                        @AmazonHelp It is too difficult to get a little help on the Amazon site. Is there a direct button for assistance?\n",
       "2880                                                                                                                                                                                                                                                         @AmazonHelp I am angry at the lack of contact regarding my account hack. No communication. At least £400 that I know of spent! Infuriated at how difficult you are to deal with!\n",
       "6201                                                                                                                                               Ya AmazonI dia\\nSomehow my details were wrongly updated, but the PF consultant \"Guru\" of Amazon is highly unprofessional and irresponsible person. He has been bluffing & fake promising & lying me fr past 6 months\\nPlease help\\nPlease update my details of employment in epfo portal 🙏"
      ]
     },
     "execution_count": 89,
     "metadata": {},
     "output_type": "execute_result"
    }
   ],
   "source": [
    "df.loc[false_positive_index][['raw']]"
   ]
  },
  {
   "cell_type": "code",
   "execution_count": 90,
   "metadata": {},
   "outputs": [
    {
     "data": {
      "text/html": [
       "<div>\n",
       "<style scoped>\n",
       "    .dataframe tbody tr th:only-of-type {\n",
       "        vertical-align: middle;\n",
       "    }\n",
       "\n",
       "    .dataframe tbody tr th {\n",
       "        vertical-align: top;\n",
       "    }\n",
       "\n",
       "    .dataframe thead th {\n",
       "        text-align: right;\n",
       "    }\n",
       "</style>\n",
       "<table border=\"1\" class=\"dataframe\">\n",
       "  <thead>\n",
       "    <tr style=\"text-align: right;\">\n",
       "      <th></th>\n",
       "      <th>raw</th>\n",
       "    </tr>\n",
       "  </thead>\n",
       "  <tbody>\n",
       "    <tr>\n",
       "      <th>1263</th>\n",
       "      <td>Well, that’s really unfortunate. Does amazon have any plans to transition to paper free packaging in the future?</td>\n",
       "    </tr>\n",
       "    <tr>\n",
       "      <th>532</th>\n",
       "      <td>@PrimeVideoIN @AmazonHelp When to expect a new Stand up comedy series? @thetanmay pic.twitter.com/6LLGbCn0eR</td>\n",
       "    </tr>\n",
       "    <tr>\n",
       "      <th>5584</th>\n",
       "      <td>@AmazonHelp ¿Why isn't possible for me to get prime reading from Colombia and read here? My University isn't there either, so I can't have any student discounts.</td>\n",
       "    </tr>\n",
       "    <tr>\n",
       "      <th>6051</th>\n",
       "      <td>Is there a way to export my @Spotify play lists to #AmazonMusic? and what are the perks for #PrimeMember? ty @AmazonHelp</td>\n",
       "    </tr>\n",
       "    <tr>\n",
       "      <th>3300</th>\n",
       "      <td>Amazon</td>\n",
       "    </tr>\n",
       "    <tr>\n",
       "      <th>5332</th>\n",
       "      <td>Thanks @AmazonHelp, I'll do that.</td>\n",
       "    </tr>\n",
       "    <tr>\n",
       "      <th>6004</th>\n",
       "      <td>@AmazonHelp 𝙏𝙃𝙀𝙔 𝘿𝙄𝘿𝙉'𝙏 𝙏𝘼𝙆𝙀 𝙊𝙉𝙀 𝙊𝙁 𝙏𝙃𝙀 𝙍𝙀𝙋𝙇𝘼𝘾𝙀𝙈𝙀𝙉𝙏. 𝘽𝙐𝙏 𝙏𝙃𝙀 𝘿𝙄𝘿 𝙏𝘼𝙆𝙀 𝘼 𝘿𝙀𝙇𝙄𝙑𝙀𝙍𝙔 𝙋𝙃𝙊𝙏𝙊  𝙊𝙁 𝘾𝙀𝙇𝙇𝙋𝙃𝙊𝙉𝙀 𝙋𝙍𝙊𝙏𝙀𝘾𝙏𝙄𝙊𝙉 , 𝘽𝙊𝙏𝙃 𝙐𝙉𝘿𝙀𝙍 10 𝘿𝙊𝙇𝙇𝘼𝙍𝙎. 𝙒𝙃𝙀𝙉 𝙏𝙃𝙀𝙔 𝙎𝙀𝙉𝙏 𝙊𝙐𝙏 𝙏𝙃𝙀</td>\n",
       "    </tr>\n",
       "    <tr>\n",
       "      <th>6052</th>\n",
       "      <td>@AmazonHelp @JeffBezos How can I customer care agent from the tol fre no.?</td>\n",
       "    </tr>\n",
       "    <tr>\n",
       "      <th>5654</th>\n",
       "      <td>Everybody has questions about #QuizTimeMorningsWithAmazon #QuizTime \\nHoping you have noticed  http://it.So  you should do something about it.</td>\n",
       "    </tr>\n",
       "    <tr>\n",
       "      <th>5811</th>\n",
       "      <td>Just checking in on the answer to this one Amazon. @AmazonHelp</td>\n",
       "    </tr>\n",
       "    <tr>\n",
       "      <th>6248</th>\n",
       "      <td>great, thank you</td>\n",
       "    </tr>\n",
       "    <tr>\n",
       "      <th>1734</th>\n",
       "      <td>@AmazonHelp Have a question. I have Amazon music unlimited with HD. Not all songs are HD, is there a reason why? Just curious.</td>\n",
       "    </tr>\n",
       "    <tr>\n",
       "      <th>4457</th>\n",
       "      <td>@AmazonHelp what is the meaning of this?</td>\n",
       "    </tr>\n",
       "    <tr>\n",
       "      <th>5499</th>\n",
       "      <td>@AmazonHelp sent  https://twitter.com/AmazonHelp/status/1223613663921233921 …</td>\n",
       "    </tr>\n",
       "    <tr>\n",
       "      <th>4601</th>\n",
       "      <td>@AmazonHelp Please Provide Me Prime Link Of #athadesrimannarayana..\\n\\n@PrimeVideo</td>\n",
       "    </tr>\n",
       "    <tr>\n",
       "      <th>6247</th>\n",
       "      <td>@AmazonHelp is allowing private sellers to price gouge surgical masks / anti-viral masks. Shameful.</td>\n",
       "    </tr>\n",
       "    <tr>\n",
       "      <th>2927</th>\n",
       "      <td>All I have is this. pic.twitter.com/u4tW0M6Nz1</td>\n",
       "    </tr>\n",
       "    <tr>\n",
       "      <th>2061</th>\n",
       "      <td>Oh maybe actually, let me check with the person I'm sharing with</td>\n",
       "    </tr>\n",
       "    <tr>\n",
       "      <th>5844</th>\n",
       "      <td>No I'm good thanks enjoy your weekend</td>\n",
       "    </tr>\n",
       "    <tr>\n",
       "      <th>4102</th>\n",
       "      <td>Thanks for answering! I‘m having the most difficulties with the subtitles of Picard. Are there no English subtitles or just not because I have German Amazon?</td>\n",
       "    </tr>\n",
       "    <tr>\n",
       "      <th>1365</th>\n",
       "      <td>@AmazonHelp is this legit? Lol  pic.twitter.com/YylaEkBsjP</td>\n",
       "    </tr>\n",
       "    <tr>\n",
       "      <th>5409</th>\n",
       "      <td>@AmazonHelp bump</td>\n",
       "    </tr>\n",
       "    <tr>\n",
       "      <th>3182</th>\n",
       "      <td>Thanks for your continued help....</td>\n",
       "    </tr>\n",
       "    <tr>\n",
       "      <th>2414</th>\n",
       "      <td>I would like to have the same choices from my Amazon Prime in the US here in France...</td>\n",
       "    </tr>\n",
       "    <tr>\n",
       "      <th>4997</th>\n",
       "      <td>2 weeks</td>\n",
       "    </tr>\n",
       "    <tr>\n",
       "      <th>5343</th>\n",
       "      <td>@AmazonHelp pls help. ty.  https://twitter.com/sherbsvilletv/status/1223650416799420417 …</td>\n",
       "    </tr>\n",
       "    <tr>\n",
       "      <th>6243</th>\n",
       "      <td>By amazon</td>\n",
       "    </tr>\n",
       "    <tr>\n",
       "      <th>3550</th>\n",
       "      <td>Guess I’ll have to cancel @primevideouk now</td>\n",
       "    </tr>\n",
       "    <tr>\n",
       "      <th>5306</th>\n",
       "      <td>Thanks @AmazonHelp for your kind intervention..... Will try to bring back my interest  https://twitter.com/Sarang_Kaushal/status/1223296730906710016 …</td>\n",
       "    </tr>\n",
       "    <tr>\n",
       "      <th>1898</th>\n",
       "      <td>...and \"magically\" all the expensive coffee machines and expensive power generators \"sold\" at 1/3 of the price by that store disappeared from the MarketPlace. @AmazonHelp that was fast but your recommendation above is eh...</td>\n",
       "    </tr>\n",
       "    <tr>\n",
       "      <th>3315</th>\n",
       "      <td>@PrimeVideoIN @AmazonHelp why this movie is not available?  pic.twitter.com/uvI58T9fEL</td>\n",
       "    </tr>\n",
       "  </tbody>\n",
       "</table>\n",
       "</div>"
      ],
      "text/plain": [
       "                                                                                                                                                                                                                                  raw\n",
       "1263                                                                                                                 Well, that’s really unfortunate. Does amazon have any plans to transition to paper free packaging in the future?\n",
       "532                                                                                                                      @PrimeVideoIN @AmazonHelp When to expect a new Stand up comedy series? @thetanmay pic.twitter.com/6LLGbCn0eR\n",
       "5584                                                                @AmazonHelp ¿Why isn't possible for me to get prime reading from Colombia and read here? My University isn't there either, so I can't have any student discounts.\n",
       "6051                                                                                                         Is there a way to export my @Spotify play lists to #AmazonMusic? and what are the perks for #PrimeMember? ty @AmazonHelp\n",
       "3300                                                                                                                                                                                                                           Amazon\n",
       "5332                                                                                                                                                                                                Thanks @AmazonHelp, I'll do that.\n",
       "6004                                                                  @AmazonHelp 𝙏𝙃𝙀𝙔 𝘿𝙄𝘿𝙉'𝙏 𝙏𝘼𝙆𝙀 𝙊𝙉𝙀 𝙊𝙁 𝙏𝙃𝙀 𝙍𝙀𝙋𝙇𝘼𝘾𝙀𝙈𝙀𝙉𝙏. 𝘽𝙐𝙏 𝙏𝙃𝙀 𝘿𝙄𝘿 𝙏𝘼𝙆𝙀 𝘼 𝘿𝙀𝙇𝙄𝙑𝙀𝙍𝙔 𝙋𝙃𝙊𝙏𝙊  𝙊𝙁 𝘾𝙀𝙇𝙇𝙋𝙃𝙊𝙉𝙀 𝙋𝙍𝙊𝙏𝙀𝘾𝙏𝙄𝙊𝙉 , 𝘽𝙊𝙏𝙃 𝙐𝙉𝘿𝙀𝙍 10 𝘿𝙊𝙇𝙇𝘼𝙍𝙎. 𝙒𝙃𝙀𝙉 𝙏𝙃𝙀𝙔 𝙎𝙀𝙉𝙏 𝙊𝙐𝙏 𝙏𝙃𝙀\n",
       "6052                                                                                                                                                       @AmazonHelp @JeffBezos How can I customer care agent from the tol fre no.?\n",
       "5654                                                                                   Everybody has questions about #QuizTimeMorningsWithAmazon #QuizTime \\nHoping you have noticed  http://it.So  you should do something about it.\n",
       "5811                                                                                                                                                                   Just checking in on the answer to this one Amazon. @AmazonHelp\n",
       "6248                                                                                                                                                                                                                 great, thank you\n",
       "1734                                                                                                   @AmazonHelp Have a question. I have Amazon music unlimited with HD. Not all songs are HD, is there a reason why? Just curious.\n",
       "4457                                                                                                                                                                                         @AmazonHelp what is the meaning of this?\n",
       "5499                                                                                                                                                    @AmazonHelp sent  https://twitter.com/AmazonHelp/status/1223613663921233921 …\n",
       "4601                                                                                                                                               @AmazonHelp Please Provide Me Prime Link Of #athadesrimannarayana..\\n\\n@PrimeVideo\n",
       "6247                                                                                                                              @AmazonHelp is allowing private sellers to price gouge surgical masks / anti-viral masks. Shameful.\n",
       "2927                                                                                                                                                                                   All I have is this. pic.twitter.com/u4tW0M6Nz1\n",
       "2061                                                                                                                                                                 Oh maybe actually, let me check with the person I'm sharing with\n",
       "5844                                                                                                                                                                                            No I'm good thanks enjoy your weekend\n",
       "4102                                                                    Thanks for answering! I‘m having the most difficulties with the subtitles of Picard. Are there no English subtitles or just not because I have German Amazon?\n",
       "1365                                                                                                                                                                       @AmazonHelp is this legit? Lol  pic.twitter.com/YylaEkBsjP\n",
       "5409                                                                                                                                                                                                                 @AmazonHelp bump\n",
       "3182                                                                                                                                                                                               Thanks for your continued help....\n",
       "2414                                                                                                                                           I would like to have the same choices from my Amazon Prime in the US here in France...\n",
       "4997                                                                                                                                                                                                                          2 weeks\n",
       "5343                                                                                                                                        @AmazonHelp pls help. ty.  https://twitter.com/sherbsvilletv/status/1223650416799420417 …\n",
       "6243                                                                                                                                                                                                                        By amazon\n",
       "3550                                                                                                                                                                                      Guess I’ll have to cancel @primevideouk now\n",
       "5306                                                                           Thanks @AmazonHelp for your kind intervention..... Will try to bring back my interest  https://twitter.com/Sarang_Kaushal/status/1223296730906710016 …\n",
       "1898  ...and \"magically\" all the expensive coffee machines and expensive power generators \"sold\" at 1/3 of the price by that store disappeared from the MarketPlace. @AmazonHelp that was fast but your recommendation above is eh...\n",
       "3315                                                                                                                                           @PrimeVideoIN @AmazonHelp why this movie is not available?  pic.twitter.com/uvI58T9fEL"
      ]
     },
     "execution_count": 90,
     "metadata": {},
     "output_type": "execute_result"
    }
   ],
   "source": [
    "df.loc[false_negative_index][['raw']]"
   ]
  },
  {
   "cell_type": "markdown",
   "metadata": {},
   "source": [
    "# 6. Save Model"
   ]
  },
  {
   "cell_type": "code",
   "execution_count": null,
   "metadata": {},
   "outputs": [],
   "source": []
  }
 ],
 "metadata": {
  "kernelspec": {
   "display_name": "Python 3",
   "language": "python",
   "name": "python3"
  },
  "language_info": {
   "codemirror_mode": {
    "name": "ipython",
    "version": 3
   },
   "file_extension": ".py",
   "mimetype": "text/x-python",
   "name": "python",
   "nbconvert_exporter": "python",
   "pygments_lexer": "ipython3",
   "version": "3.7.6"
  }
 },
 "nbformat": 4,
 "nbformat_minor": 2
}
