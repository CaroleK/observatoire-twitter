{
 "cells": [
  {
   "cell_type": "code",
   "execution_count": 1,
   "metadata": {},
   "outputs": [
    {
     "name": "stderr",
     "output_type": "stream",
     "text": [
      "[nltk_data] Downloading package wordnet to /home/victor/nltk_data...\n",
      "[nltk_data]   Package wordnet is already up-to-date!\n",
      "[nltk_data] Downloading package punkt to /home/victor/nltk_data...\n",
      "[nltk_data]   Package punkt is already up-to-date!\n",
      "[nltk_data] Downloading package averaged_perceptron_tagger to\n",
      "[nltk_data]     /home/victor/nltk_data...\n",
      "[nltk_data]   Package averaged_perceptron_tagger is already up-to-\n",
      "[nltk_data]       date!\n",
      "[nltk_data] Downloading package movie_reviews to\n",
      "[nltk_data]     /home/victor/nltk_data...\n",
      "[nltk_data]   Package movie_reviews is already up-to-date!\n"
     ]
    },
    {
     "name": "stdout",
     "output_type": "stream",
     "text": [
      "Requirement already satisfied: emot in /home/victor/anaconda3/lib/python3.7/site-packages (2.1)\r\n"
     ]
    }
   ],
   "source": [
    "import numpy as np\n",
    "import pandas as pd\n",
    "\n",
    "## Pandas display options\n",
    "pd.set_option('display.max_colwidth', None)\n",
    "pd.set_option('display.max_rows', 400)\n",
    "pd.set_option('display.max_columns', 400)\n",
    "\n",
    "from tqdm.notebook import tqdm\n",
    "import re\n",
    "import nltk\n",
    "import spacy\n",
    "import string\n",
    "import seaborn as sns\n",
    "import math\n",
    "import matplotlib.pyplot as plt\n",
    "from collections import Counter\n",
    "from nltk.corpus import stopwords, wordnet\n",
    "from nltk.stem.porter import PorterStemmer\n",
    "from nltk.stem import WordNetLemmatizer\n",
    "\n",
    "nltk.download('wordnet')\n",
    "nltk.download('punkt')\n",
    "nltk.download('averaged_perceptron_tagger')\n",
    "nltk.download('movie_reviews')\n",
    "\n",
    "from sklearn.preprocessing import StandardScaler \n",
    "from sklearn.metrics import *\n",
    "import sklearn.model_selection\n",
    "from sklearn.model_selection import *\n",
    "from sklearn.linear_model import *\n",
    "from sklearn.ensemble import *\n",
    "from sklearn.svm import *\n",
    "from sklearn.kernel_ridge import KernelRidge\n",
    "from sklearn.neighbors import KNeighborsRegressor\n",
    "from sklearn.neural_network import MLPRegressor\n",
    "from sklearn.feature_extraction.text import *\n",
    "from sklearn.metrics import plot_confusion_matrix\n",
    "from sklearn.naive_bayes import MultinomialNB\n",
    "from sklearn.decomposition import PCA\n",
    "from sklearn.pipeline import Pipeline\n",
    "from sklearn.metrics import classification_report\n",
    "\n",
    "import xgboost as xgb\n",
    "\n",
    "from textblob import TextBlob\n",
    "from textblob.sentiments import NaiveBayesAnalyzer\n",
    "\n",
    "!pip install emot\n",
    "import emot\n",
    "\n",
    "import pickle\n",
    "import logging\n",
    "\n",
    "import gensim"
   ]
  },
  {
   "cell_type": "markdown",
   "metadata": {},
   "source": [
    "# Client support"
   ]
  },
  {
   "cell_type": "markdown",
   "metadata": {},
   "source": [
    "# 1. Data extraction"
   ]
  },
  {
   "cell_type": "code",
   "execution_count": 4,
   "metadata": {},
   "outputs": [],
   "source": [
    "brand = \"amazon\""
   ]
  },
  {
   "cell_type": "code",
   "execution_count": 5,
   "metadata": {},
   "outputs": [],
   "source": [
    "filename = \"../../data/extraction_twint/tweets_data/data_service_clients/with_user_info/\"+brand+\".csv\""
   ]
  },
  {
   "cell_type": "code",
   "execution_count": 6,
   "metadata": {},
   "outputs": [],
   "source": [
    "# All information is in full_df\n",
    "full_df = pd.read_csv(filename, lineterminator='\\n')\n",
    "\n",
    "# Only the info needed is in df\n",
    "df = full_df[[\"tweet\",\"reply_time\",'tweets', 'following', 'followers', 'likes']].copy()\n",
    "df= df.rename(columns={'tweet':'raw'})\n",
    "df= df.rename(columns={'tweets':'nb_tweets_of_user'})"
   ]
  },
  {
   "cell_type": "code",
   "execution_count": 7,
   "metadata": {},
   "outputs": [
    {
     "data": {
      "text/plain": [
       "Index(['Unnamed: 0', 'id', 'conversation_id', 'created_at', 'timezone',\n",
       "       'user_id', 'username', 'name', 'place', 'tweet', 'mentions', 'urls',\n",
       "       'photos', 'replies_count', 'retweets_count', 'likes_count', 'hashtags',\n",
       "       'cashtags', 'link', 'retweet', 'quote_url', 'video', 'near', 'geo',\n",
       "       'source', 'user_rt_id', 'user_rt', 'retweet_id', 'reply_to',\n",
       "       'retweet_date', 'translate', 'trans_src', 'trans_dest', 'datetime',\n",
       "       'reply_time', 'id_user', 'name_user', 'bio', 'location', 'url',\n",
       "       'join_date', 'join_time', 'tweets', 'following', 'followers', 'likes',\n",
       "       'media', 'private', 'verified', 'profile_image_url',\n",
       "       'background_image'],\n",
       "      dtype='object')"
      ]
     },
     "execution_count": 7,
     "metadata": {},
     "output_type": "execute_result"
    }
   ],
   "source": [
    "full_df.columns"
   ]
  },
  {
   "cell_type": "code",
   "execution_count": 8,
   "metadata": {},
   "outputs": [
    {
     "data": {
      "text/plain": [
       "Index(['raw', 'reply_time', 'nb_tweets_of_user', 'following', 'followers',\n",
       "       'likes'],\n",
       "      dtype='object')"
      ]
     },
     "execution_count": 8,
     "metadata": {},
     "output_type": "execute_result"
    }
   ],
   "source": [
    "df.columns"
   ]
  },
  {
   "cell_type": "code",
   "execution_count": 9,
   "metadata": {},
   "outputs": [
    {
     "data": {
      "text/html": [
       "<div>\n",
       "<style scoped>\n",
       "    .dataframe tbody tr th:only-of-type {\n",
       "        vertical-align: middle;\n",
       "    }\n",
       "\n",
       "    .dataframe tbody tr th {\n",
       "        vertical-align: top;\n",
       "    }\n",
       "\n",
       "    .dataframe thead th {\n",
       "        text-align: right;\n",
       "    }\n",
       "</style>\n",
       "<table border=\"1\" class=\"dataframe\">\n",
       "  <thead>\n",
       "    <tr style=\"text-align: right;\">\n",
       "      <th></th>\n",
       "      <th>raw</th>\n",
       "      <th>reply_time</th>\n",
       "      <th>nb_tweets_of_user</th>\n",
       "      <th>following</th>\n",
       "      <th>followers</th>\n",
       "      <th>likes</th>\n",
       "    </tr>\n",
       "  </thead>\n",
       "  <tbody>\n",
       "    <tr>\n",
       "      <th>0</th>\n",
       "      <td>Wt a disgusting amazon ! @JeffBezos @AmitAgarwal . You provide a link where we can put up issue . Its very bad experience for us . @ZeeNews @aajtak @ndtv @htTweets</td>\n",
       "      <td>NaN</td>\n",
       "      <td>191</td>\n",
       "      <td>275</td>\n",
       "      <td>19</td>\n",
       "      <td>246</td>\n",
       "    </tr>\n",
       "    <tr>\n",
       "      <th>1</th>\n",
       "      <td>A pic up boy come to my house for used product bt he not received. He didn’t know the issue and argument with my wife .</td>\n",
       "      <td>0 days 00:05:40.000000000</td>\n",
       "      <td>191</td>\n",
       "      <td>275</td>\n",
       "      <td>19</td>\n",
       "      <td>246</td>\n",
       "    </tr>\n",
       "    <tr>\n",
       "      <th>2</th>\n",
       "      <td>I m not getting your point. Wt will i do  for replacement or money back ?\\nSorry i will not purchase anything from amazon next time . #Meresegltihogei , next time kisi se nhi hone du ga# amazon meri bhool#</td>\n",
       "      <td>0 days 00:06:35.000000000</td>\n",
       "      <td>191</td>\n",
       "      <td>275</td>\n",
       "      <td>19</td>\n",
       "      <td>246</td>\n",
       "    </tr>\n",
       "    <tr>\n",
       "      <th>3</th>\n",
       "      <td>I think you don’t have dignity of valuable customers. Wt a network ! You couldn’t accessible my problem &amp; not pass it to concerned support team . Unbelievable torcher , mentaly also wasting of time , money .</td>\n",
       "      <td>0 days 00:03:19.000000000</td>\n",
       "      <td>191</td>\n",
       "      <td>275</td>\n",
       "      <td>19</td>\n",
       "      <td>246</td>\n",
       "    </tr>\n",
       "    <tr>\n",
       "      <th>4</th>\n",
       "      <td>I am already shared information on link which is provided by you. And also a mail received from amazon team but nobody pic up came for used product. Pls let me know when will it replace?</td>\n",
       "      <td>0 days 00:42:01.000000000</td>\n",
       "      <td>191</td>\n",
       "      <td>275</td>\n",
       "      <td>19</td>\n",
       "      <td>246</td>\n",
       "    </tr>\n",
       "  </tbody>\n",
       "</table>\n",
       "</div>"
      ],
      "text/plain": [
       "                                                                                                                                                                                                               raw  \\\n",
       "0                                              Wt a disgusting amazon ! @JeffBezos @AmitAgarwal . You provide a link where we can put up issue . Its very bad experience for us . @ZeeNews @aajtak @ndtv @htTweets   \n",
       "1                                                                                          A pic up boy come to my house for used product bt he not received. He didn’t know the issue and argument with my wife .   \n",
       "2    I m not getting your point. Wt will i do  for replacement or money back ?\\nSorry i will not purchase anything from amazon next time . #Meresegltihogei , next time kisi se nhi hone du ga# amazon meri bhool#   \n",
       "3  I think you don’t have dignity of valuable customers. Wt a network ! You couldn’t accessible my problem & not pass it to concerned support team . Unbelievable torcher , mentaly also wasting of time , money .   \n",
       "4                       I am already shared information on link which is provided by you. And also a mail received from amazon team but nobody pic up came for used product. Pls let me know when will it replace?   \n",
       "\n",
       "                  reply_time  nb_tweets_of_user  following  followers  likes  \n",
       "0                        NaN                191        275         19    246  \n",
       "1  0 days 00:05:40.000000000                191        275         19    246  \n",
       "2  0 days 00:06:35.000000000                191        275         19    246  \n",
       "3  0 days 00:03:19.000000000                191        275         19    246  \n",
       "4  0 days 00:42:01.000000000                191        275         19    246  "
      ]
     },
     "execution_count": 9,
     "metadata": {},
     "output_type": "execute_result"
    }
   ],
   "source": [
    "df.head()"
   ]
  },
  {
   "cell_type": "code",
   "execution_count": 10,
   "metadata": {},
   "outputs": [
    {
     "data": {
      "text/plain": [
       "(6290, 6)"
      ]
     },
     "execution_count": 10,
     "metadata": {},
     "output_type": "execute_result"
    }
   ],
   "source": [
    "df.shape"
   ]
  },
  {
   "cell_type": "code",
   "execution_count": 11,
   "metadata": {},
   "outputs": [
    {
     "name": "stdout",
     "output_type": "stream",
     "text": [
      "Numbers of tweets without response\n"
     ]
    },
    {
     "data": {
      "text/plain": [
       "1534"
      ]
     },
     "execution_count": 11,
     "metadata": {},
     "output_type": "execute_result"
    }
   ],
   "source": [
    "print(\"Numbers of tweets without response\")\n",
    "sum(df.reply_time.isnull())"
   ]
  },
  {
   "cell_type": "code",
   "execution_count": 12,
   "metadata": {},
   "outputs": [],
   "source": [
    "#reply time to timedelta\n",
    "df['reply_time']=df['reply_time'].map(pd.to_timedelta)\n",
    "\n",
    "#reply time in minutes\n",
    "df['reply_time']=df['reply_time'].map(lambda x: x.days*1440 + x.seconds//60)"
   ]
  },
  {
   "cell_type": "code",
   "execution_count": 13,
   "metadata": {},
   "outputs": [
    {
     "data": {
      "text/plain": [
       "raw                   object\n",
       "reply_time           float64\n",
       "nb_tweets_of_user      int64\n",
       "following              int64\n",
       "followers              int64\n",
       "likes                  int64\n",
       "dtype: object"
      ]
     },
     "execution_count": 13,
     "metadata": {},
     "output_type": "execute_result"
    }
   ],
   "source": [
    "df.dtypes"
   ]
  },
  {
   "cell_type": "code",
   "execution_count": 14,
   "metadata": {},
   "outputs": [],
   "source": [
    "df[\"raw\"] = df[\"raw\"].astype('str')"
   ]
  },
  {
   "cell_type": "code",
   "execution_count": 15,
   "metadata": {},
   "outputs": [
    {
     "data": {
      "text/html": [
       "<div>\n",
       "<style scoped>\n",
       "    .dataframe tbody tr th:only-of-type {\n",
       "        vertical-align: middle;\n",
       "    }\n",
       "\n",
       "    .dataframe tbody tr th {\n",
       "        vertical-align: top;\n",
       "    }\n",
       "\n",
       "    .dataframe thead th {\n",
       "        text-align: right;\n",
       "    }\n",
       "</style>\n",
       "<table border=\"1\" class=\"dataframe\">\n",
       "  <thead>\n",
       "    <tr style=\"text-align: right;\">\n",
       "      <th></th>\n",
       "      <th>raw</th>\n",
       "      <th>reply_time</th>\n",
       "      <th>nb_tweets_of_user</th>\n",
       "      <th>following</th>\n",
       "      <th>followers</th>\n",
       "      <th>likes</th>\n",
       "    </tr>\n",
       "  </thead>\n",
       "  <tbody>\n",
       "    <tr>\n",
       "      <th>1</th>\n",
       "      <td>A pic up boy come to my house for used product bt he not received. He didn’t know the issue and argument with my wife .</td>\n",
       "      <td>5.0</td>\n",
       "      <td>191</td>\n",
       "      <td>275</td>\n",
       "      <td>19</td>\n",
       "      <td>246</td>\n",
       "    </tr>\n",
       "    <tr>\n",
       "      <th>2</th>\n",
       "      <td>I m not getting your point. Wt will i do  for replacement or money back ?\\nSorry i will not purchase anything from amazon next time . #Meresegltihogei , next time kisi se nhi hone du ga# amazon meri bhool#</td>\n",
       "      <td>6.0</td>\n",
       "      <td>191</td>\n",
       "      <td>275</td>\n",
       "      <td>19</td>\n",
       "      <td>246</td>\n",
       "    </tr>\n",
       "    <tr>\n",
       "      <th>3</th>\n",
       "      <td>I think you don’t have dignity of valuable customers. Wt a network ! You couldn’t accessible my problem &amp; not pass it to concerned support team . Unbelievable torcher , mentaly also wasting of time , money .</td>\n",
       "      <td>3.0</td>\n",
       "      <td>191</td>\n",
       "      <td>275</td>\n",
       "      <td>19</td>\n",
       "      <td>246</td>\n",
       "    </tr>\n",
       "    <tr>\n",
       "      <th>4</th>\n",
       "      <td>I am already shared information on link which is provided by you. And also a mail received from amazon team but nobody pic up came for used product. Pls let me know when will it replace?</td>\n",
       "      <td>42.0</td>\n",
       "      <td>191</td>\n",
       "      <td>275</td>\n",
       "      <td>19</td>\n",
       "      <td>246</td>\n",
       "    </tr>\n",
       "    <tr>\n",
       "      <th>5</th>\n",
       "      <td>&amp; pls tell me when amazon pic up old &amp; used shoes from my address? &amp; replacement status?</td>\n",
       "      <td>5.0</td>\n",
       "      <td>191</td>\n",
       "      <td>275</td>\n",
       "      <td>19</td>\n",
       "      <td>246</td>\n",
       "    </tr>\n",
       "    <tr>\n",
       "      <th>...</th>\n",
       "      <td>...</td>\n",
       "      <td>...</td>\n",
       "      <td>...</td>\n",
       "      <td>...</td>\n",
       "      <td>...</td>\n",
       "      <td>...</td>\n",
       "    </tr>\n",
       "    <tr>\n",
       "      <th>6284</th>\n",
       "      <td>I know Amazon is trying to take over the world but they should really leave shipping to the more reliable @UPS @FedEx and @USPS</td>\n",
       "      <td>8.0</td>\n",
       "      <td>1972</td>\n",
       "      <td>367</td>\n",
       "      <td>44</td>\n",
       "      <td>1518</td>\n",
       "    </tr>\n",
       "    <tr>\n",
       "      <th>6285</th>\n",
       "      <td>Amazon shipping I never have issues with @UPS or @FedEx it’s always always Amazon shipping</td>\n",
       "      <td>15.0</td>\n",
       "      <td>1972</td>\n",
       "      <td>367</td>\n",
       "      <td>44</td>\n",
       "      <td>1518</td>\n",
       "    </tr>\n",
       "    <tr>\n",
       "      <th>6286</th>\n",
       "      <td>Yes everytime I have to go pick up my packages</td>\n",
       "      <td>4.0</td>\n",
       "      <td>168</td>\n",
       "      <td>23</td>\n",
       "      <td>69</td>\n",
       "      <td>460</td>\n",
       "    </tr>\n",
       "    <tr>\n",
       "      <th>6287</th>\n",
       "      <td>Thanks for your quick reply, i dont. wanna waste my subscription</td>\n",
       "      <td>2.0</td>\n",
       "      <td>9857</td>\n",
       "      <td>1848</td>\n",
       "      <td>425</td>\n",
       "      <td>1078</td>\n",
       "    </tr>\n",
       "    <tr>\n",
       "      <th>6288</th>\n",
       "      <td>It says Delivery by Amazon. \\nApparently its been delivered to me (Handed to resident) Ive been home all day. Nothing on my door step and ive asked my neighbours</td>\n",
       "      <td>2.0</td>\n",
       "      <td>8742</td>\n",
       "      <td>205</td>\n",
       "      <td>101</td>\n",
       "      <td>2652</td>\n",
       "    </tr>\n",
       "  </tbody>\n",
       "</table>\n",
       "<p>4756 rows × 6 columns</p>\n",
       "</div>"
      ],
      "text/plain": [
       "                                                                                                                                                                                                                  raw  \\\n",
       "1                                                                                             A pic up boy come to my house for used product bt he not received. He didn’t know the issue and argument with my wife .   \n",
       "2       I m not getting your point. Wt will i do  for replacement or money back ?\\nSorry i will not purchase anything from amazon next time . #Meresegltihogei , next time kisi se nhi hone du ga# amazon meri bhool#   \n",
       "3     I think you don’t have dignity of valuable customers. Wt a network ! You couldn’t accessible my problem & not pass it to concerned support team . Unbelievable torcher , mentaly also wasting of time , money .   \n",
       "4                          I am already shared information on link which is provided by you. And also a mail received from amazon team but nobody pic up came for used product. Pls let me know when will it replace?   \n",
       "5                                                                                                                            & pls tell me when amazon pic up old & used shoes from my address? & replacement status?   \n",
       "...                                                                                                                                                                                                               ...   \n",
       "6284                                                                                  I know Amazon is trying to take over the world but they should really leave shipping to the more reliable @UPS @FedEx and @USPS   \n",
       "6285                                                                                                                       Amazon shipping I never have issues with @UPS or @FedEx it’s always always Amazon shipping   \n",
       "6286                                                                                                                                                                   Yes everytime I have to go pick up my packages   \n",
       "6287                                                                                                                                                 Thanks for your quick reply, i dont. wanna waste my subscription   \n",
       "6288                                                It says Delivery by Amazon. \\nApparently its been delivered to me (Handed to resident) Ive been home all day. Nothing on my door step and ive asked my neighbours   \n",
       "\n",
       "      reply_time  nb_tweets_of_user  following  followers  likes  \n",
       "1            5.0                191        275         19    246  \n",
       "2            6.0                191        275         19    246  \n",
       "3            3.0                191        275         19    246  \n",
       "4           42.0                191        275         19    246  \n",
       "5            5.0                191        275         19    246  \n",
       "...          ...                ...        ...        ...    ...  \n",
       "6284         8.0               1972        367         44   1518  \n",
       "6285        15.0               1972        367         44   1518  \n",
       "6286         4.0                168         23         69    460  \n",
       "6287         2.0               9857       1848        425   1078  \n",
       "6288         2.0               8742        205        101   2652  \n",
       "\n",
       "[4756 rows x 6 columns]"
      ]
     },
     "execution_count": 15,
     "metadata": {},
     "output_type": "execute_result"
    }
   ],
   "source": [
    "# Samples of answered tweets\n",
    "df[~np.isnan(df.reply_time)]"
   ]
  },
  {
   "cell_type": "code",
   "execution_count": 16,
   "metadata": {},
   "outputs": [
    {
     "data": {
      "text/html": [
       "<div>\n",
       "<style scoped>\n",
       "    .dataframe tbody tr th:only-of-type {\n",
       "        vertical-align: middle;\n",
       "    }\n",
       "\n",
       "    .dataframe tbody tr th {\n",
       "        vertical-align: top;\n",
       "    }\n",
       "\n",
       "    .dataframe thead th {\n",
       "        text-align: right;\n",
       "    }\n",
       "</style>\n",
       "<table border=\"1\" class=\"dataframe\">\n",
       "  <thead>\n",
       "    <tr style=\"text-align: right;\">\n",
       "      <th></th>\n",
       "      <th>raw</th>\n",
       "      <th>reply_time</th>\n",
       "      <th>nb_tweets_of_user</th>\n",
       "      <th>following</th>\n",
       "      <th>followers</th>\n",
       "      <th>likes</th>\n",
       "    </tr>\n",
       "  </thead>\n",
       "  <tbody>\n",
       "    <tr>\n",
       "      <th>0</th>\n",
       "      <td>Wt a disgusting amazon ! @JeffBezos @AmitAgarwal . You provide a link where we can put up issue . Its very bad experience for us . @ZeeNews @aajtak @ndtv @htTweets</td>\n",
       "      <td>NaN</td>\n",
       "      <td>191</td>\n",
       "      <td>275</td>\n",
       "      <td>19</td>\n",
       "      <td>246</td>\n",
       "    </tr>\n",
       "    <tr>\n",
       "      <th>14</th>\n",
       "      <td>7866061659 is call for refund your money this is fraud yes no</td>\n",
       "      <td>NaN</td>\n",
       "      <td>56</td>\n",
       "      <td>90</td>\n",
       "      <td>0</td>\n",
       "      <td>4</td>\n",
       "    </tr>\n",
       "    <tr>\n",
       "      <th>17</th>\n",
       "      <td>My account is locked mobile no 8882486916</td>\n",
       "      <td>NaN</td>\n",
       "      <td>56</td>\n",
       "      <td>90</td>\n",
       "      <td>0</td>\n",
       "      <td>4</td>\n",
       "    </tr>\n",
       "    <tr>\n",
       "      <th>18</th>\n",
       "      <td>It’s from Amazon @AmazonUK</td>\n",
       "      <td>NaN</td>\n",
       "      <td>89</td>\n",
       "      <td>11</td>\n",
       "      <td>1</td>\n",
       "      <td>39</td>\n",
       "    </tr>\n",
       "    <tr>\n",
       "      <th>19</th>\n",
       "      <td>Check DM. \\nI have sent details.</td>\n",
       "      <td>NaN</td>\n",
       "      <td>4669</td>\n",
       "      <td>65</td>\n",
       "      <td>97</td>\n",
       "      <td>4322</td>\n",
       "    </tr>\n",
       "    <tr>\n",
       "      <th>...</th>\n",
       "      <td>...</td>\n",
       "      <td>...</td>\n",
       "      <td>...</td>\n",
       "      <td>...</td>\n",
       "      <td>...</td>\n",
       "      <td>...</td>\n",
       "    </tr>\n",
       "    <tr>\n",
       "      <th>6268</th>\n",
       "      <td>They offered me another $10, which still leaves them short of the products price. How hard is it to just expedite me another stand? I’m literally trying to be such a nice guy here.</td>\n",
       "      <td>NaN</td>\n",
       "      <td>3123</td>\n",
       "      <td>925</td>\n",
       "      <td>216</td>\n",
       "      <td>11427</td>\n",
       "    </tr>\n",
       "    <tr>\n",
       "      <th>6274</th>\n",
       "      <td>Lol @AmazonHelp  will send you a $5 credit towards your account 😂😂😂</td>\n",
       "      <td>NaN</td>\n",
       "      <td>9325</td>\n",
       "      <td>1450</td>\n",
       "      <td>1498</td>\n",
       "      <td>8550</td>\n",
       "    </tr>\n",
       "    <tr>\n",
       "      <th>6276</th>\n",
       "      <td>I've been told by multiple customer service reps @Amazon that without my billing address, you cannot help me</td>\n",
       "      <td>NaN</td>\n",
       "      <td>764</td>\n",
       "      <td>104</td>\n",
       "      <td>76</td>\n",
       "      <td>145</td>\n",
       "    </tr>\n",
       "    <tr>\n",
       "      <th>6277</th>\n",
       "      <td>Full marks for the speedy response - thank you. But I’m really annoyed you’ve ruined my night in. I had to buy the DVD to continue watching. Thank goodness for @Cex who’ll get me the DVD for tomorrow for £8.</td>\n",
       "      <td>NaN</td>\n",
       "      <td>35230</td>\n",
       "      <td>675</td>\n",
       "      <td>268</td>\n",
       "      <td>155</td>\n",
       "    </tr>\n",
       "    <tr>\n",
       "      <th>6289</th>\n",
       "      <td>@AmazonHelp Hey, if I order this, will it be the same cover as pictured here?  pic.twitter.com/Q1e8V6dfV9</td>\n",
       "      <td>NaN</td>\n",
       "      <td>26279</td>\n",
       "      <td>1826</td>\n",
       "      <td>282</td>\n",
       "      <td>11234</td>\n",
       "    </tr>\n",
       "  </tbody>\n",
       "</table>\n",
       "<p>1534 rows × 6 columns</p>\n",
       "</div>"
      ],
      "text/plain": [
       "                                                                                                                                                                                                                  raw  \\\n",
       "0                                                 Wt a disgusting amazon ! @JeffBezos @AmitAgarwal . You provide a link where we can put up issue . Its very bad experience for us . @ZeeNews @aajtak @ndtv @htTweets   \n",
       "14                                                                                                                                                      7866061659 is call for refund your money this is fraud yes no   \n",
       "17                                                                                                                                                                          My account is locked mobile no 8882486916   \n",
       "18                                                                                                                                                                                         It’s from Amazon @AmazonUK   \n",
       "19                                                                                                                                                                                   Check DM. \\nI have sent details.   \n",
       "...                                                                                                                                                                                                               ...   \n",
       "6268                             They offered me another $10, which still leaves them short of the products price. How hard is it to just expedite me another stand? I’m literally trying to be such a nice guy here.   \n",
       "6274                                                                                                                                              Lol @AmazonHelp  will send you a $5 credit towards your account 😂😂😂   \n",
       "6276                                                                                                     I've been told by multiple customer service reps @Amazon that without my billing address, you cannot help me   \n",
       "6277  Full marks for the speedy response - thank you. But I’m really annoyed you’ve ruined my night in. I had to buy the DVD to continue watching. Thank goodness for @Cex who’ll get me the DVD for tomorrow for £8.   \n",
       "6289                                                                                                        @AmazonHelp Hey, if I order this, will it be the same cover as pictured here?  pic.twitter.com/Q1e8V6dfV9   \n",
       "\n",
       "      reply_time  nb_tweets_of_user  following  followers  likes  \n",
       "0            NaN                191        275         19    246  \n",
       "14           NaN                 56         90          0      4  \n",
       "17           NaN                 56         90          0      4  \n",
       "18           NaN                 89         11          1     39  \n",
       "19           NaN               4669         65         97   4322  \n",
       "...          ...                ...        ...        ...    ...  \n",
       "6268         NaN               3123        925        216  11427  \n",
       "6274         NaN               9325       1450       1498   8550  \n",
       "6276         NaN                764        104         76    145  \n",
       "6277         NaN              35230        675        268    155  \n",
       "6289         NaN              26279       1826        282  11234  \n",
       "\n",
       "[1534 rows x 6 columns]"
      ]
     },
     "execution_count": 16,
     "metadata": {},
     "output_type": "execute_result"
    }
   ],
   "source": [
    "# Samples of unanswered tweets\n",
    "df[np.isnan(df.reply_time)]"
   ]
  },
  {
   "cell_type": "markdown",
   "metadata": {},
   "source": [
    "# 2. Pre-processing"
   ]
  },
  {
   "cell_type": "markdown",
   "metadata": {},
   "source": [
    "### Change text"
   ]
  },
  {
   "cell_type": "code",
   "execution_count": 17,
   "metadata": {
    "scrolled": true
   },
   "outputs": [],
   "source": [
    "def remove_uppercase(text):\n",
    "    return text.lower()\n",
    "    \n",
    "def remove_punctuation(text):\n",
    "    \"\"\"custom function to remove the punctuation\"\"\"  \n",
    "    PUNCT_TO_REMOVE = string.punctuation\n",
    "    return text.translate(str.maketrans('', '', PUNCT_TO_REMOVE))\n",
    "\n",
    "def remove_stopwords(text):\n",
    "    \"\"\"custom function to remove the stopwords\"\"\"\n",
    "    from nltk.corpus import stopwords\n",
    "    STOPWORDS = set(stopwords.words('english'))\n",
    "    return \" \".join([word for word in str(text).split() if word not in STOPWORDS])\n",
    "\n",
    "def remove_urls(text):\n",
    "    words=[]\n",
    "    for w in text.split(\" \"):\n",
    "        if not(w.startswith(\"http\") or w.startswith(\"www\") or w.startswith(\"pic.twitter\")):\n",
    "            words+=[w]\n",
    "    return ' '.join(words)\n",
    "\n",
    "def get_frequent_words(column):\n",
    "    cnt = Counter()\n",
    "    for text in column.values:\n",
    "        for word in text.split():\n",
    "            cnt[word] += 1\n",
    "    FREQWORDS = set([w for (w, wc) in cnt.most_common(20)])\n",
    "    #RAREWORDS = set([w for (w, wc) in cnt.most_common()[:-10-1:-1]])\n",
    "    return FREQWORDS\n",
    "\n",
    "FREQWORDS = get_frequent_words(df.raw)\n",
    "def remove_frequent_words(text, FREQWORDS):\n",
    "    return \" \".join([word for word in str(text).split() if word not in FREQWORDS])\n",
    "\n",
    "def remove_numbers(text):\n",
    "    return re.sub(r'[0-9\\.]+', '', text)\n",
    "\n",
    "def remove_spaces(text):\n",
    "    return re.sub(' +', ' ', text)"
   ]
  },
  {
   "cell_type": "markdown",
   "metadata": {},
   "source": [
    "### Emoticons to words"
   ]
  },
  {
   "cell_type": "code",
   "execution_count": 18,
   "metadata": {},
   "outputs": [
    {
     "name": "stdout",
     "output_type": "stream",
     "text": [
      "game is on  fire fire  loudly_crying_face\n"
     ]
    }
   ],
   "source": [
    "def convert_emojis(text):\n",
    "    emo= emot.emoji(text)\n",
    "    for i in range(len(emo['value'])):\n",
    "        text = text.replace(emo['value'][i], \" \"+ emo['mean'][i]).replace(\":\",\"\")\n",
    "    return text\n",
    "\n",
    "text = \"game is on 🔥🔥 😭\"\n",
    "print(convert_emojis(text))"
   ]
  },
  {
   "cell_type": "markdown",
   "metadata": {},
   "source": [
    "### Chat words conversion"
   ]
  },
  {
   "cell_type": "code",
   "execution_count": 19,
   "metadata": {},
   "outputs": [],
   "source": [
    "words = \"../../source/slang.txt\"\n",
    "with open(words, 'r') as file:\n",
    "    chat_words_str = file.read()"
   ]
  },
  {
   "cell_type": "code",
   "execution_count": 20,
   "metadata": {},
   "outputs": [
    {
     "data": {
      "text/plain": [
       "'one minute Be Right Back'"
      ]
     },
     "execution_count": 20,
     "metadata": {},
     "output_type": "execute_result"
    }
   ],
   "source": [
    "chat_words_map_dict = {}\n",
    "chat_words_list = []\n",
    "\n",
    "for line in chat_words_str.split(\"\\n\"):\n",
    "    if line != \"\":\n",
    "        cw = line.split(\"=\")[0]\n",
    "        cw_expanded = line.split(\"=\")[1]\n",
    "        chat_words_list.append(cw)\n",
    "        chat_words_map_dict[cw] = cw_expanded\n",
    "\n",
    "def chat_words_conversion(text):\n",
    "    new_text = []\n",
    "    for w in text.split():\n",
    "        if w.upper() in chat_words_list:\n",
    "            new_text.append(chat_words_map_dict[w.upper()])\n",
    "        else:\n",
    "            new_text.append(w)\n",
    "    return \" \".join(new_text)\n",
    "\n",
    "chat_words_conversion(\"one minute BRB\")"
   ]
  },
  {
   "cell_type": "code",
   "execution_count": 21,
   "metadata": {},
   "outputs": [],
   "source": [
    "#df.raw.apply(chat_words_conversion)"
   ]
  },
  {
   "cell_type": "markdown",
   "metadata": {},
   "source": [
    "### Stemming"
   ]
  },
  {
   "cell_type": "code",
   "execution_count": 22,
   "metadata": {},
   "outputs": [],
   "source": [
    "#not so good results\n",
    "\n",
    "def stem_words(text):\n",
    "    stemmer = PorterStemmer()\n",
    "    return \" \".join([stemmer.stem(word) for word in text.split()])\n",
    "\n",
    "#df[\"stemmed\"] = df[\"raw\"].apply(lambda text: stem_words(text))\n",
    "#df.head()"
   ]
  },
  {
   "cell_type": "markdown",
   "metadata": {},
   "source": [
    "### Lemmatization"
   ]
  },
  {
   "cell_type": "code",
   "execution_count": 23,
   "metadata": {},
   "outputs": [
    {
     "data": {
      "text/plain": [
       "'hello I be buy a fruit'"
      ]
     },
     "execution_count": 23,
     "metadata": {},
     "output_type": "execute_result"
    }
   ],
   "source": [
    "lemmatizer = WordNetLemmatizer()\n",
    "wordnet_map = {\"N\":wordnet.NOUN, \"V\":wordnet.VERB, \"J\":wordnet.ADJ, \"R\":wordnet.ADV}\n",
    "\n",
    "def lemmatize_words(text):\n",
    "    pos_tagged_text = nltk.pos_tag(text.split())\n",
    "    return \" \".join([lemmatizer.lemmatize(word, wordnet_map.get(pos[0], wordnet.NOUN)) \n",
    "                     for word, pos in pos_tagged_text])\n",
    "    #return \" \".join([lemmatizer.lemmatize(word) for word in text.split()])\n",
    "\n",
    "ex = \"hello I am buying a fruit\"\n",
    "lemmatize_words(ex)\n",
    "#df[\"raw_lemmatized\"] = df[\"raw\"].apply(lambda text: lemmatize_words(text))\n",
    "#df.head()"
   ]
  },
  {
   "cell_type": "markdown",
   "metadata": {},
   "source": [
    "### Tokenisation"
   ]
  },
  {
   "cell_type": "code",
   "execution_count": 24,
   "metadata": {},
   "outputs": [],
   "source": [
    "import re\n",
    "\n",
    "def tokenize(text):\n",
    "    tokens = re.split('\\W+', text)\n",
    "    return tokens\n",
    "\n",
    "#df['tweet_tokenized']=df[\"tweet_lower\"].apply(lambda text: tokenize(text))"
   ]
  },
  {
   "cell_type": "markdown",
   "metadata": {},
   "source": [
    "Final function to do all preprocessing"
   ]
  },
  {
   "cell_type": "code",
   "execution_count": 25,
   "metadata": {},
   "outputs": [],
   "source": [
    "def preprocess(df):\n",
    "    df[\"clean_tweet\"] = df[\"raw\"].apply(lambda text: remove_uppercase(text))\n",
    "    df[\"clean_tweet\"] = df[\"clean_tweet\"].apply(lambda text: remove_punctuation(text))\n",
    "    df[\"clean_tweet\"] = df[\"clean_tweet\"].apply(lambda text: remove_stopwords(text))\n",
    "    df[\"clean_tweet\"] = df[\"clean_tweet\"].apply(lambda text: convert_emojis(text))\n",
    "    #FREQWORDS = get_frequent_words(df.clean_tweet)\n",
    "    #df[\"clean_tweet\"] = df[\"clean_tweet\"].apply(lambda text: remove_frequent_words(text, FREQWORDS))\n",
    "    #df[\"clean_tweet\"] = df[\"clean_tweet\"].apply(lambda text: remove_frequent_words(text))\n",
    "    df[\"clean_tweet\"] = df[\"clean_tweet\"].apply(lambda text: remove_urls(text))\n",
    "    df[\"clean_tweet\"] = df[\"clean_tweet\"].apply(lambda text: chat_words_conversion(text))\n",
    "    df[\"clean_tweet\"] = df[\"clean_tweet\"].apply(lambda text: remove_numbers(text))\n",
    "    \n",
    "    df[\"clean_tweet\"] = df[\"clean_tweet\"].apply(lambda text: lemmatize_words(text))\n",
    "    df[\"clean_tweet\"] = df[\"clean_tweet\"].apply(lambda text: remove_spaces(text))\n",
    "    # Remove small tweets\n",
    "    df = df[df['clean_tweet'].apply(lambda x: len(x) > 3)]\n",
    "    #df[\"clean_tweet_tokenized\"] = df[\"clean_tweet\"].apply(lambda text: tokenize(text))\n",
    "    \n",
    "    return df"
   ]
  },
  {
   "cell_type": "code",
   "execution_count": 26,
   "metadata": {},
   "outputs": [],
   "source": [
    "df = preprocess(df)"
   ]
  },
  {
   "cell_type": "markdown",
   "metadata": {},
   "source": [
    "# 3. Feature engineering & Data analysis"
   ]
  },
  {
   "cell_type": "markdown",
   "metadata": {},
   "source": [
    "### Reply time "
   ]
  },
  {
   "cell_type": "code",
   "execution_count": 27,
   "metadata": {},
   "outputs": [],
   "source": [
    "df['has_reply'] = df['reply_time'].map(lambda x : not(math.isnan(x)))"
   ]
  },
  {
   "cell_type": "code",
   "execution_count": 28,
   "metadata": {},
   "outputs": [
    {
     "data": {
      "text/plain": [
       "True     4722\n",
       "False    1526\n",
       "Name: has_reply, dtype: int64"
      ]
     },
     "execution_count": 28,
     "metadata": {},
     "output_type": "execute_result"
    }
   ],
   "source": [
    "df['has_reply'].value_counts()"
   ]
  },
  {
   "cell_type": "code",
   "execution_count": 29,
   "metadata": {},
   "outputs": [
    {
     "name": "stdout",
     "output_type": "stream",
     "text": [
      "Pourcentage de tweets répondus\n"
     ]
    },
    {
     "data": {
      "text/plain": [
       "75.57618437900128"
      ]
     },
     "execution_count": 29,
     "metadata": {},
     "output_type": "execute_result"
    }
   ],
   "source": [
    "print (\"Pourcentage de tweets répondus\")\n",
    "len(df[df['has_reply']==True])*100/len(df)"
   ]
  },
  {
   "cell_type": "code",
   "execution_count": 30,
   "metadata": {
    "scrolled": true
   },
   "outputs": [
    {
     "data": {
      "image/png": "[encoded data removed]",
      "text/plain": [
       "<Figure size 432x288 with 1 Axes>"
      ]
     },
     "metadata": {
      "needs_background": "light"
     },
     "output_type": "display_data"
    }
   ],
   "source": [
    "bins=np.linspace(0,100,100)\n",
    "plt.hist(df['reply_time'],bins)\n",
    "plt.show()"
   ]
  },
  {
   "cell_type": "code",
   "execution_count": 31,
   "metadata": {
    "scrolled": true
   },
   "outputs": [
    {
     "name": "stdout",
     "output_type": "stream",
     "text": [
      "count   4722.000000\n",
      "mean      28.329310\n",
      "std      192.423197\n",
      "min        0.000000\n",
      "25%        3.000000\n",
      "50%        5.000000\n",
      "75%       10.000000\n",
      "max     4435.000000\n",
      "Name: reply_time, dtype: float64\n"
     ]
    }
   ],
   "source": [
    "with pd.option_context('float_format', '{:f}'.format):\n",
    "    print(df.reply_time.describe())"
   ]
  },
  {
   "cell_type": "code",
   "execution_count": 32,
   "metadata": {},
   "outputs": [],
   "source": [
    "df[\"reply_time\"] = df[\"reply_time\"].astype('float')"
   ]
  },
  {
   "cell_type": "code",
   "execution_count": 33,
   "metadata": {
    "scrolled": true
   },
   "outputs": [
    {
     "name": "stdout",
     "output_type": "stream",
     "text": [
      "count   4651.000000\n",
      "mean      28.761772\n",
      "std      193.854584\n",
      "min        1.000000\n",
      "25%        3.000000\n",
      "50%        5.000000\n",
      "75%       10.000000\n",
      "max     4435.000000\n",
      "Name: reply_time, dtype: float64\n"
     ]
    }
   ],
   "source": [
    "with pd.option_context('float_format', '{:f}'.format):\n",
    "    print(df[df[\"reply_time\"]>0].reply_time.describe())"
   ]
  },
  {
   "cell_type": "markdown",
   "metadata": {},
   "source": [
    "##### Create a target column if we want classification to be more precise "
   ]
  },
  {
   "cell_type": "code",
   "execution_count": 34,
   "metadata": {
    "scrolled": true
   },
   "outputs": [
    {
     "data": {
      "text/plain": [
       "2018"
      ]
     },
     "execution_count": 34,
     "metadata": {},
     "output_type": "execute_result"
    }
   ],
   "source": [
    "len(df[df.reply_time<5])"
   ]
  },
  {
   "cell_type": "code",
   "execution_count": 35,
   "metadata": {},
   "outputs": [
    {
     "data": {
      "text/html": [
       "<div>\n",
       "<style scoped>\n",
       "    .dataframe tbody tr th:only-of-type {\n",
       "        vertical-align: middle;\n",
       "    }\n",
       "\n",
       "    .dataframe tbody tr th {\n",
       "        vertical-align: top;\n",
       "    }\n",
       "\n",
       "    .dataframe thead th {\n",
       "        text-align: right;\n",
       "    }\n",
       "</style>\n",
       "<table border=\"1\" class=\"dataframe\">\n",
       "  <thead>\n",
       "    <tr style=\"text-align: right;\">\n",
       "      <th></th>\n",
       "      <th>raw</th>\n",
       "      <th>reply_time</th>\n",
       "      <th>nb_tweets_of_user</th>\n",
       "      <th>following</th>\n",
       "      <th>followers</th>\n",
       "      <th>likes</th>\n",
       "      <th>clean_tweet</th>\n",
       "      <th>has_reply</th>\n",
       "    </tr>\n",
       "  </thead>\n",
       "  <tbody>\n",
       "    <tr>\n",
       "      <th>3</th>\n",
       "      <td>I think you don’t have dignity of valuable customers. Wt a network ! You couldn’t accessible my problem &amp; not pass it to concerned support team . Unbelievable torcher , mentaly also wasting of time , money .</td>\n",
       "      <td>3.0</td>\n",
       "      <td>191</td>\n",
       "      <td>275</td>\n",
       "      <td>19</td>\n",
       "      <td>246</td>\n",
       "      <td>think don’t dignity valuable customer wt network couldn’t accessible problem pas concern support team unbelievable torcher mentaly also waste time money</td>\n",
       "      <td>True</td>\n",
       "    </tr>\n",
       "    <tr>\n",
       "      <th>7</th>\n",
       "      <td>Pls find attachment... this is my detail pic.twitter.com/aBpjt1O0cS</td>\n",
       "      <td>2.0</td>\n",
       "      <td>191</td>\n",
       "      <td>275</td>\n",
       "      <td>19</td>\n",
       "      <td>246</td>\n",
       "      <td>Please find attachment detail pictwittercomabpjtocs</td>\n",
       "      <td>True</td>\n",
       "    </tr>\n",
       "    <tr>\n",
       "      <th>9</th>\n",
       "      <td>How many time i will share detail ? . I am not a animal who live in jungl.. i have lot of work so you can take my order detail from attachment. Disgusting! @JeffBezos pic.twitter.com/xQV3KQXEt9</td>\n",
       "      <td>1.0</td>\n",
       "      <td>191</td>\n",
       "      <td>275</td>\n",
       "      <td>19</td>\n",
       "      <td>246</td>\n",
       "      <td>many time share detail animal live jungl lot work take order detail attachment disgust jeffbezos pictwittercomxqvkqxet</td>\n",
       "      <td>True</td>\n",
       "    </tr>\n",
       "    <tr>\n",
       "      <th>10</th>\n",
       "      <td>It’s disrespectful for us . We are trying to talk amazon team but they directly refused that its your order we can’t help . And why are you expect from us that we will not put this matter on publicly. Wah! @JeffBezos</td>\n",
       "      <td>4.0</td>\n",
       "      <td>191</td>\n",
       "      <td>275</td>\n",
       "      <td>19</td>\n",
       "      <td>246</td>\n",
       "      <td>it’s disrespectful u try talk amazon team directly refuse order can’t help expect u put matter publicly wah jeffbezos</td>\n",
       "      <td>True</td>\n",
       "    </tr>\n",
       "    <tr>\n",
       "      <th>11</th>\n",
       "      <td>@AmazonHelp I couldn’t receive my originiazl order as per my order specifications . I have received old shoes as per my order number 407-8606818-4694719. Pls solve my problems on urgent base . Nobody responded from amazon support team and rudely talk to m wfe  pic.twitter.com/TCPtsLC3sE</td>\n",
       "      <td>4.0</td>\n",
       "      <td>191</td>\n",
       "      <td>275</td>\n",
       "      <td>19</td>\n",
       "      <td>246</td>\n",
       "      <td>amazonhelp couldn’t receive originiazl order per order specification receive old shoe per order number Please solve problem urgent base nobody respond amazon support team rudely talk wfe pictwittercomtcptslcse</td>\n",
       "      <td>True</td>\n",
       "    </tr>\n",
       "  </tbody>\n",
       "</table>\n",
       "</div>"
      ],
      "text/plain": [
       "                                                                                                                                                                                                                                                                                                raw  \\\n",
       "3                                                                                   I think you don’t have dignity of valuable customers. Wt a network ! You couldn’t accessible my problem & not pass it to concerned support team . Unbelievable torcher , mentaly also wasting of time , money .   \n",
       "7                                                                                                                                                                                                                               Pls find attachment... this is my detail pic.twitter.com/aBpjt1O0cS   \n",
       "9                                                                                                 How many time i will share detail ? . I am not a animal who live in jungl.. i have lot of work so you can take my order detail from attachment. Disgusting! @JeffBezos pic.twitter.com/xQV3KQXEt9   \n",
       "10                                                                         It’s disrespectful for us . We are trying to talk amazon team but they directly refused that its your order we can’t help . And why are you expect from us that we will not put this matter on publicly. Wah! @JeffBezos   \n",
       "11  @AmazonHelp I couldn’t receive my originiazl order as per my order specifications . I have received old shoes as per my order number 407-8606818-4694719. Pls solve my problems on urgent base . Nobody responded from amazon support team and rudely talk to m wfe  pic.twitter.com/TCPtsLC3sE   \n",
       "\n",
       "    reply_time  nb_tweets_of_user  following  followers  likes  \\\n",
       "3          3.0                191        275         19    246   \n",
       "7          2.0                191        275         19    246   \n",
       "9          1.0                191        275         19    246   \n",
       "10         4.0                191        275         19    246   \n",
       "11         4.0                191        275         19    246   \n",
       "\n",
       "                                                                                                                                                                                                          clean_tweet  \\\n",
       "3                                                            think don’t dignity valuable customer wt network couldn’t accessible problem pas concern support team unbelievable torcher mentaly also waste time money   \n",
       "7                                                                                                                                                                 Please find attachment detail pictwittercomabpjtocs   \n",
       "9                                                                                              many time share detail animal live jungl lot work take order detail attachment disgust jeffbezos pictwittercomxqvkqxet   \n",
       "10                                                                                              it’s disrespectful u try talk amazon team directly refuse order can’t help expect u put matter publicly wah jeffbezos   \n",
       "11  amazonhelp couldn’t receive originiazl order per order specification receive old shoe per order number Please solve problem urgent base nobody respond amazon support team rudely talk wfe pictwittercomtcptslcse   \n",
       "\n",
       "    has_reply  \n",
       "3        True  \n",
       "7        True  \n",
       "9        True  \n",
       "10       True  \n",
       "11       True  "
      ]
     },
     "execution_count": 35,
     "metadata": {},
     "output_type": "execute_result"
    }
   ],
   "source": [
    "df[df.reply_time<5].head()"
   ]
  },
  {
   "cell_type": "code",
   "execution_count": 36,
   "metadata": {},
   "outputs": [],
   "source": [
    "# Tweet is urgent if answer in less than 5 minutes\n",
    "df['objective'] = df['reply_time'].map(lambda x : (x < 8))"
   ]
  },
  {
   "cell_type": "code",
   "execution_count": 37,
   "metadata": {},
   "outputs": [
    {
     "data": {
      "text/plain": [
       "False    3173\n",
       "True     3075\n",
       "Name: objective, dtype: int64"
      ]
     },
     "execution_count": 37,
     "metadata": {},
     "output_type": "execute_result"
    }
   ],
   "source": [
    "df.objective.value_counts()"
   ]
  },
  {
   "cell_type": "code",
   "execution_count": 38,
   "metadata": {},
   "outputs": [
    {
     "name": "stdout",
     "output_type": "stream",
     "text": [
      "Pourcentage de tweets catégorisés positifs pour l'urgence\n"
     ]
    },
    {
     "data": {
      "text/plain": [
       "49.2157490396927"
      ]
     },
     "execution_count": 38,
     "metadata": {},
     "output_type": "execute_result"
    }
   ],
   "source": [
    "print (\"Pourcentage de tweets catégorisés positifs pour l'urgence\")\n",
    "len(df[df['objective']==True])*100/len(df)"
   ]
  },
  {
   "cell_type": "markdown",
   "metadata": {},
   "source": [
    "### Tweet length"
   ]
  },
  {
   "cell_type": "code",
   "execution_count": 39,
   "metadata": {},
   "outputs": [],
   "source": [
    "df['length']=df['raw'].apply(lambda x:len(x)-x.count(\" \"))"
   ]
  },
  {
   "cell_type": "code",
   "execution_count": 40,
   "metadata": {},
   "outputs": [
    {
     "data": {
      "text/plain": [
       "<matplotlib.axes._subplots.AxesSubplot at 0x7fec134caf90>"
      ]
     },
     "execution_count": 40,
     "metadata": {},
     "output_type": "execute_result"
    },
    {
     "data": {
      "image/png": "[encoded data removed]",
      "text/plain": [
       "<Figure size 432x288 with 1 Axes>"
      ]
     },
     "metadata": {
      "needs_background": "light"
     },
     "output_type": "display_data"
    }
   ],
   "source": [
    "df.length.plot.hist(bins=7)"
   ]
  },
  {
   "cell_type": "code",
   "execution_count": 41,
   "metadata": {},
   "outputs": [
    {
     "name": "stderr",
     "output_type": "stream",
     "text": [
      "/home/victor/anaconda3/lib/python3.7/site-packages/ipykernel_launcher.py:2: MatplotlibDeprecationWarning: \n",
      "The 'normed' kwarg was deprecated in Matplotlib 2.1 and will be removed in 3.1. Use 'density' instead.\n",
      "  \n",
      "/home/victor/anaconda3/lib/python3.7/site-packages/ipykernel_launcher.py:3: MatplotlibDeprecationWarning: \n",
      "The 'normed' kwarg was deprecated in Matplotlib 2.1 and will be removed in 3.1. Use 'density' instead.\n",
      "  This is separate from the ipykernel package so we can avoid doing imports until\n"
     ]
    },
    {
     "data": {
      "image/png": "[encoded data removed]",
      "text/plain": [
       "<Figure size 432x288 with 1 Axes>"
      ]
     },
     "metadata": {
      "needs_background": "light"
     },
     "output_type": "display_data"
    }
   ],
   "source": [
    "bins=np.linspace(0,430,30)\n",
    "plt.hist(df[df.has_reply==True]['length'],bins, alpha=0.5, normed=True, label='Urgent')\n",
    "plt.hist(df[df.has_reply==False]['length'],bins, alpha=0.5, normed=True, label='Non-Urgent')\n",
    "plt.legend(loc='upper right')\n",
    "plt.xlabel(\"Length of tweet\")\n",
    "plt.ylabel(\"Frequency\")\n",
    "plt.show()"
   ]
  },
  {
   "cell_type": "code",
   "execution_count": 42,
   "metadata": {},
   "outputs": [
    {
     "data": {
      "text/plain": [
       "Text(0.5, 1.0, 'Distribution of urgent tweets (True) and non-urgent (False) according to tweet length')"
      ]
     },
     "execution_count": 42,
     "metadata": {},
     "output_type": "execute_result"
    },
    {
     "data": {
      "image/png": "[encoded data removed]",
      "text/plain": [
       "<Figure size 432x288 with 1 Axes>"
      ]
     },
     "metadata": {
      "needs_background": "light"
     },
     "output_type": "display_data"
    }
   ],
   "source": [
    "replies = df.has_reply.unique()\n",
    "plt.hist([df.loc[df.has_reply == x, 'length'] for x in replies], label=replies, stacked=True, bins=30)\n",
    "plt.legend(loc='upper right')\n",
    "plt.xlabel(\"Length of tweet\")\n",
    "plt.ylabel(\"Number of tweets\")\n",
    "plt.title(\"Distribution of urgent tweets (True) and non-urgent (False) according to tweet length\")"
   ]
  },
  {
   "cell_type": "code",
   "execution_count": 43,
   "metadata": {},
   "outputs": [
    {
     "data": {
      "text/plain": [
       "count    6248.000000\n",
       "mean      116.230314\n",
       "std        72.447957\n",
       "min         4.000000\n",
       "25%        54.000000\n",
       "50%       106.000000\n",
       "75%       178.000000\n",
       "max       421.000000\n",
       "Name: length, dtype: float64"
      ]
     },
     "execution_count": 43,
     "metadata": {},
     "output_type": "execute_result"
    }
   ],
   "source": [
    "df.length.describe()"
   ]
  },
  {
   "cell_type": "markdown",
   "metadata": {},
   "source": [
    "### Uppercase percentage"
   ]
  },
  {
   "cell_type": "code",
   "execution_count": 44,
   "metadata": {},
   "outputs": [],
   "source": [
    "def count_upper(text):\n",
    "    count = sum([1 for char in text if char.isupper()])\n",
    "    return round(count/(len(text)-text.count(\" \")),3)*100\n",
    "\n",
    "df['upper']=df['raw'].apply(count_upper)"
   ]
  },
  {
   "cell_type": "code",
   "execution_count": 45,
   "metadata": {},
   "outputs": [
    {
     "data": {
      "text/plain": [
       "Text(0.5, 1.0, 'Distribution of urgent tweets (True) and non-urgent (False) according to upper character density')"
      ]
     },
     "execution_count": 45,
     "metadata": {},
     "output_type": "execute_result"
    },
    {
     "data": {
      "image/png": "[encoded data removed]",
      "text/plain": [
       "<Figure size 432x288 with 1 Axes>"
      ]
     },
     "metadata": {
      "needs_background": "light"
     },
     "output_type": "display_data"
    }
   ],
   "source": [
    "replies = df.has_reply.unique()\n",
    "plt.hist([df.loc[df.has_reply == x, 'upper'] for x in replies], label=replies, stacked=True, bins=30)\n",
    "plt.legend(loc='upper right')\n",
    "plt.xlabel(\"Upper character density, in %\")\n",
    "plt.ylabel(\"Number of tweets\")\n",
    "plt.title(\"Distribution of urgent tweets (True) and non-urgent (False) according to upper character density\")"
   ]
  },
  {
   "cell_type": "markdown",
   "metadata": {},
   "source": [
    "### Punctuation percentage"
   ]
  },
  {
   "cell_type": "code",
   "execution_count": 46,
   "metadata": {},
   "outputs": [],
   "source": [
    "def count_punct(text):\n",
    "    count = sum([1 for char in text if char in string.punctuation])\n",
    "    return round(count/(len(text)-text.count(\" \")),3)*100\n",
    "\n",
    "df['punct']=df['raw'].apply(count_punct)"
   ]
  },
  {
   "cell_type": "code",
   "execution_count": 47,
   "metadata": {},
   "outputs": [
    {
     "data": {
      "text/plain": [
       "<matplotlib.axes._subplots.AxesSubplot at 0x7fec130cd7d0>"
      ]
     },
     "execution_count": 47,
     "metadata": {},
     "output_type": "execute_result"
    },
    {
     "data": {
      "image/png": "[encoded data removed]",
      "text/plain": [
       "<Figure size 432x288 with 1 Axes>"
      ]
     },
     "metadata": {
      "needs_background": "light"
     },
     "output_type": "display_data"
    }
   ],
   "source": [
    "df.punct.plot.hist(bins=20)"
   ]
  },
  {
   "cell_type": "code",
   "execution_count": 48,
   "metadata": {},
   "outputs": [
    {
     "name": "stderr",
     "output_type": "stream",
     "text": [
      "/home/victor/anaconda3/lib/python3.7/site-packages/ipykernel_launcher.py:2: MatplotlibDeprecationWarning: \n",
      "The 'normed' kwarg was deprecated in Matplotlib 2.1 and will be removed in 3.1. Use 'density' instead.\n",
      "  \n",
      "/home/victor/anaconda3/lib/python3.7/site-packages/ipykernel_launcher.py:3: MatplotlibDeprecationWarning: \n",
      "The 'normed' kwarg was deprecated in Matplotlib 2.1 and will be removed in 3.1. Use 'density' instead.\n",
      "  This is separate from the ipykernel package so we can avoid doing imports until\n"
     ]
    },
    {
     "data": {
      "image/png": "[encoded data removed]",
      "text/plain": [
       "<Figure size 432x288 with 1 Axes>"
      ]
     },
     "metadata": {
      "needs_background": "light"
     },
     "output_type": "display_data"
    }
   ],
   "source": [
    "bins=np.linspace(0,15,30)\n",
    "plt.hist(df[df.has_reply==True]['punct'],bins, alpha=0.5, normed=True, label='Urgent')\n",
    "plt.hist(df[df.has_reply==False]['punct'],bins, alpha=0.5, normed=True, label='Non-Urgent')\n",
    "plt.legend(loc='upper right')\n",
    "plt.show()"
   ]
  },
  {
   "cell_type": "code",
   "execution_count": 49,
   "metadata": {},
   "outputs": [
    {
     "data": {
      "text/plain": [
       "count    6248.000000\n",
       "mean        4.506466\n",
       "std         3.549013\n",
       "min         0.000000\n",
       "25%         2.300000\n",
       "50%         3.900000\n",
       "75%         5.900000\n",
       "max        44.400000\n",
       "Name: punct, dtype: float64"
      ]
     },
     "execution_count": 49,
     "metadata": {},
     "output_type": "execute_result"
    }
   ],
   "source": [
    "df.punct.describe()"
   ]
  },
  {
   "cell_type": "code",
   "execution_count": 50,
   "metadata": {},
   "outputs": [
    {
     "data": {
      "text/plain": [
       "Text(0.5, 1.0, 'Distribution of urgent tweets (True) and non-urgent (False) according to punctuation density')"
      ]
     },
     "execution_count": 50,
     "metadata": {},
     "output_type": "execute_result"
    },
    {
     "data": {
      "image/png": "[encoded data removed]",
      "text/plain": [
       "<Figure size 432x288 with 1 Axes>"
      ]
     },
     "metadata": {
      "needs_background": "light"
     },
     "output_type": "display_data"
    }
   ],
   "source": [
    "replies = df.has_reply.unique()\n",
    "plt.hist([df.loc[df.has_reply == x, 'punct'] for x in replies], label=replies, stacked=True, bins=30)\n",
    "plt.legend(loc='upper right')\n",
    "plt.xlabel(\"Punctuation density, in %\")\n",
    "plt.ylabel(\"Number of tweets\")\n",
    "plt.title(\"Distribution of urgent tweets (True) and non-urgent (False) according to punctuation density\")"
   ]
  },
  {
   "cell_type": "markdown",
   "metadata": {},
   "source": [
    "### Direct mention of brand in tweet"
   ]
  },
  {
   "cell_type": "code",
   "execution_count": 51,
   "metadata": {},
   "outputs": [],
   "source": [
    "brand_account = \"@AmazonHelp\""
   ]
  },
  {
   "cell_type": "code",
   "execution_count": 52,
   "metadata": {},
   "outputs": [],
   "source": [
    "df[\"direct_mention\"] = df[\"raw\"].apply(lambda x: brand_account in x)"
   ]
  },
  {
   "cell_type": "code",
   "execution_count": 53,
   "metadata": {},
   "outputs": [
    {
     "data": {
      "text/plain": [
       "False    4587\n",
       "True     1661\n",
       "Name: direct_mention, dtype: int64"
      ]
     },
     "execution_count": 53,
     "metadata": {},
     "output_type": "execute_result"
    }
   ],
   "source": [
    "df.direct_mention.value_counts()"
   ]
  },
  {
   "cell_type": "code",
   "execution_count": 54,
   "metadata": {},
   "outputs": [
    {
     "name": "stderr",
     "output_type": "stream",
     "text": [
      "<string>:6: RuntimeWarning: Converting input from bool to <class 'numpy.uint8'> for compatibility.\n",
      "<string>:6: RuntimeWarning: Converting input from bool to <class 'numpy.uint8'> for compatibility.\n"
     ]
    },
    {
     "data": {
      "text/plain": [
       "Text(0.5, 1.0, 'Distribution of urgent tweets (True) and non-urgent (False) according to direct_mention')"
      ]
     },
     "execution_count": 54,
     "metadata": {},
     "output_type": "execute_result"
    },
    {
     "data": {
      "image/png": "[encoded data removed]",
      "text/plain": [
       "<Figure size 432x288 with 1 Axes>"
      ]
     },
     "metadata": {
      "needs_background": "light"
     },
     "output_type": "display_data"
    }
   ],
   "source": [
    "replies = df.has_reply.unique()\n",
    "plt.hist([df.loc[df.has_reply == x, 'direct_mention'] for x in replies], label=replies, stacked=True, bins=30)\n",
    "plt.legend(loc='upper right')\n",
    "plt.xlabel(\"Direct_mention\")\n",
    "plt.ylabel(\"Number of tweets\")\n",
    "plt.title(\"Distribution of urgent tweets (True) and non-urgent (False) according to direct_mention\")"
   ]
  },
  {
   "cell_type": "code",
   "execution_count": 55,
   "metadata": {},
   "outputs": [
    {
     "data": {
      "text/plain": [
       "65.92414208308249"
      ]
     },
     "execution_count": 55,
     "metadata": {},
     "output_type": "execute_result"
    }
   ],
   "source": [
    "len(df[(df['direct_mention']==True)&(df['has_reply']==True)])*100/len(df[df['direct_mention']==True])"
   ]
  },
  {
   "cell_type": "code",
   "execution_count": 56,
   "metadata": {},
   "outputs": [
    {
     "data": {
      "text/plain": [
       "34.07585791691752"
      ]
     },
     "execution_count": 56,
     "metadata": {},
     "output_type": "execute_result"
    }
   ],
   "source": [
    "len(df[(df['direct_mention']==True)&(df['has_reply']==False)])*100/len(df[df['direct_mention']==True])"
   ]
  },
  {
   "cell_type": "code",
   "execution_count": 57,
   "metadata": {},
   "outputs": [
    {
     "data": {
      "text/plain": [
       "79.07128842380641"
      ]
     },
     "execution_count": 57,
     "metadata": {},
     "output_type": "execute_result"
    }
   ],
   "source": [
    "len(df[(df['direct_mention']==False)&(df['has_reply']==True)])*100/len(df[df['direct_mention']==False])"
   ]
  },
  {
   "cell_type": "code",
   "execution_count": 58,
   "metadata": {},
   "outputs": [
    {
     "data": {
      "text/plain": [
       "20.928711576193592"
      ]
     },
     "execution_count": 58,
     "metadata": {},
     "output_type": "execute_result"
    }
   ],
   "source": [
    "len(df[(df['direct_mention']==False)&(df['has_reply']==False)])*100/len(df[df['direct_mention']==False])"
   ]
  },
  {
   "cell_type": "code",
   "execution_count": 59,
   "metadata": {},
   "outputs": [
    {
     "data": {
      "text/plain": [
       "Text(0.5, 1.0, 'Distribution of tweets containing a direct mention')"
      ]
     },
     "execution_count": 59,
     "metadata": {},
     "output_type": "execute_result"
    },
    {
     "data": {
      "image/png": "[encoded data removed]",
      "text/plain": [
       "<Figure size 432x288 with 1 Axes>"
      ]
     },
     "metadata": {},
     "output_type": "display_data"
    }
   ],
   "source": [
    "values = [33.9, 66]\n",
    "plt.pie(values, labels=df.has_reply.unique(), autopct='%1.1f%%', startangle=90)\n",
    "plt.title(\"Distribution of tweets containing a direct mention\")"
   ]
  },
  {
   "cell_type": "code",
   "execution_count": 60,
   "metadata": {},
   "outputs": [
    {
     "data": {
      "text/plain": [
       "Text(0.5, 1.0, 'Distribution of tweets not containing a direct mention')"
      ]
     },
     "execution_count": 60,
     "metadata": {},
     "output_type": "execute_result"
    },
    {
     "data": {
      "image/png": "[encoded data removed]",
      "text/plain": [
       "<Figure size 432x288 with 1 Axes>"
      ]
     },
     "metadata": {},
     "output_type": "display_data"
    }
   ],
   "source": [
    "values = [20.9, 79.1]\n",
    "plt.pie(values, labels=df.has_reply.unique(), autopct='%1.1f%%', startangle=90)\n",
    "plt.title(\"Distribution of tweets not containing a direct mention\")"
   ]
  },
  {
   "cell_type": "markdown",
   "metadata": {},
   "source": [
    "### Sentiment analysis of tweet"
   ]
  },
  {
   "cell_type": "code",
   "execution_count": 61,
   "metadata": {},
   "outputs": [
    {
     "data": {
      "text/plain": [
       "True"
      ]
     },
     "execution_count": 61,
     "metadata": {},
     "output_type": "execute_result"
    }
   ],
   "source": [
    "##SENTIMENT ANALYSIS\n",
    "\n",
    "text = \"Literally about to cancel Amazon Prime. Pretty much the only reason being the removal of Seinfeld! Sorry @primevideouk @AmazonHelp\"\n",
    "text = \"I love that\"\n",
    "\n",
    "opinion = TextBlob(text, analyzer=NaiveBayesAnalyzer())\n",
    "opinion.sentiment\n",
    "opinion.sentiment.classification == 'pos'"
   ]
  },
  {
   "cell_type": "code",
   "execution_count": 62,
   "metadata": {},
   "outputs": [
    {
     "name": "stderr",
     "output_type": "stream",
     "text": [
      "/home/victor/anaconda3/lib/python3.7/site-packages/tqdm/std.py:658: FutureWarning: The Panel class is removed from pandas. Accessing it from the top-level namespace will also be removed in the next version\n",
      "  from pandas import Panel\n"
     ]
    },
    {
     "data": {
      "application/vnd.jupyter.widget-view+json": {
       "model_id": "5ebded02c25d47e0850eed26e893fecb",
       "version_major": 2,
       "version_minor": 0
      },
      "text/plain": [
       "HBox(children=(FloatProgress(value=0.0, max=6248.0), HTML(value='')))"
      ]
     },
     "metadata": {},
     "output_type": "display_data"
    },
    {
     "name": "stdout",
     "output_type": "stream",
     "text": [
      "\n"
     ]
    }
   ],
   "source": [
    "tqdm.pandas()\n",
    "analyzer=NaiveBayesAnalyzer()\n",
    "df[\"positive_sentiment\"] = df[\"raw\"].progress_apply(lambda x:  TextBlob(x, analyzer=analyzer).sentiment.classification == 'pos')"
   ]
  },
  {
   "cell_type": "code",
   "execution_count": 63,
   "metadata": {},
   "outputs": [
    {
     "data": {
      "text/plain": [
       "Text(0.5, 1.0, 'Distribution of urgent tweets (True) and non-urgent (False) according to sentiment')"
      ]
     },
     "execution_count": 63,
     "metadata": {},
     "output_type": "execute_result"
    },
    {
     "data": {
      "image/png": "[encoded data removed]",
      "text/plain": [
       "<Figure size 432x288 with 1 Axes>"
      ]
     },
     "metadata": {
      "needs_background": "light"
     },
     "output_type": "display_data"
    }
   ],
   "source": [
    "replies = df.has_reply.unique()\n",
    "plt.hist([df.loc[df.has_reply == x, 'positive_sentiment'] for x in replies], label=replies, stacked=True)\n",
    "plt.legend(loc='upper right')\n",
    "plt.xlabel(\"Sentiment\")\n",
    "plt.ylabel(\"Number of tweets\")\n",
    "plt.title(\"Distribution of urgent tweets (True) and non-urgent (False) according to sentiment\")"
   ]
  },
  {
   "cell_type": "code",
   "execution_count": 64,
   "metadata": {},
   "outputs": [
    {
     "data": {
      "text/plain": [
       "True     3638\n",
       "False    2610\n",
       "Name: positive_sentiment, dtype: int64"
      ]
     },
     "execution_count": 64,
     "metadata": {},
     "output_type": "execute_result"
    }
   ],
   "source": [
    "df.positive_sentiment.value_counts()"
   ]
  },
  {
   "cell_type": "markdown",
   "metadata": {},
   "source": [
    "### Upsampling / Downsampling "
   ]
  },
  {
   "cell_type": "code",
   "execution_count": 65,
   "metadata": {},
   "outputs": [],
   "source": [
    "def downsampling(X_train, y_train):\n",
    "\n",
    "    print(X_train.shape)\n",
    "    print(y_train.shape)\n",
    "    \n",
    "    count_class_true, count_class_false = y_train.value_counts()\n",
    "    print(\"Before downsampling True / False\")\n",
    "    print(count_class_true, count_class_false)\n",
    "    \n",
    "    count_class = min(count_class_true, count_class_false)\n",
    "    \n",
    "    true_index = np.where(y_train==True)[0].tolist()\n",
    "    false_index = np.where(y_train==False)[0].tolist()\n",
    "    \n",
    "    # Divide by class\n",
    "    X_class_true = X_train[X_train.index.isin(true_index)]\n",
    "    X_class_false = X_train[X_train.index.isin(false_index)]\n",
    "\n",
    "\n",
    "    X_class_false_under = X_class_false.sample(count_class, replace=True)\n",
    "    X_class_true_under = X_class_true.sample(count_class,replace=True)\n",
    "    \n",
    "    X_df = pd.concat([X_class_false_under, X_class_true_under], axis=0)\n",
    "    y_df = y_train[y_train.index.isin(X_df.index)]\n",
    "\n",
    "\n",
    "    count_class_true, count_class_false = y_df.value_counts()\n",
    "    print(\"After downsampling True / False\")\n",
    "    print(count_class_true, count_class_false)\n",
    "    \n",
    "    return X_df, y_df"
   ]
  },
  {
   "cell_type": "markdown",
   "metadata": {},
   "source": [
    "# 4. Models"
   ]
  },
  {
   "cell_type": "markdown",
   "metadata": {},
   "source": [
    "# 4A. Final pre-processing"
   ]
  },
  {
   "cell_type": "code",
   "execution_count": 66,
   "metadata": {},
   "outputs": [],
   "source": [
    "df = preprocess(df)"
   ]
  },
  {
   "cell_type": "code",
   "execution_count": 67,
   "metadata": {},
   "outputs": [
    {
     "data": {
      "text/plain": [
       "6248"
      ]
     },
     "execution_count": 67,
     "metadata": {},
     "output_type": "execute_result"
    }
   ],
   "source": [
    "len(df)"
   ]
  },
  {
   "cell_type": "code",
   "execution_count": 68,
   "metadata": {},
   "outputs": [],
   "source": [
    "#get_frequent_words(df.clean_tweet)"
   ]
  },
  {
   "cell_type": "markdown",
   "metadata": {},
   "source": [
    "# 4B. Vectorization"
   ]
  },
  {
   "cell_type": "markdown",
   "metadata": {},
   "source": [
    "###  1. Bag Of Words"
   ]
  },
  {
   "cell_type": "code",
   "execution_count": 69,
   "metadata": {},
   "outputs": [],
   "source": [
    "def bow_encode(text):\n",
    "    vectorizer = CountVectorizer()\n",
    "    X = vectorizer.fit_transform(text)\n",
    "    print(\"Vocab size is: \", len(vectorizer.get_feature_names()))\n",
    "    return X"
   ]
  },
  {
   "cell_type": "code",
   "execution_count": 70,
   "metadata": {},
   "outputs": [
    {
     "name": "stdout",
     "output_type": "stream",
     "text": [
      "Vocab size is:  8411\n"
     ]
    },
    {
     "data": {
      "text/plain": [
       "array([0, 1, 2, 3, 4, 5, 6, 7, 8])"
      ]
     },
     "execution_count": 70,
     "metadata": {},
     "output_type": "execute_result"
    }
   ],
   "source": [
    "np.unique(bow_encode(df.clean_tweet).toarray())"
   ]
  },
  {
   "cell_type": "markdown",
   "metadata": {},
   "source": [
    "#### Visualize Bag Of Words"
   ]
  },
  {
   "cell_type": "code",
   "execution_count": 71,
   "metadata": {},
   "outputs": [
    {
     "name": "stdout",
     "output_type": "stream",
     "text": [
      "Vocab size is:  8411\n"
     ]
    },
    {
     "data": {
      "text/plain": [
       "<matplotlib.collections.PathCollection at 0x7fec12c3d5d0>"
      ]
     },
     "execution_count": 71,
     "metadata": {},
     "output_type": "execute_result"
    },
    {
     "data": {
      "image/png": "[encoded data removed]",
      "text/plain": [
       "<Figure size 432x288 with 1 Axes>"
      ]
     },
     "metadata": {
      "needs_background": "light"
     },
     "output_type": "display_data"
    }
   ],
   "source": [
    "X = bow_encode(df.clean_tweet).todense()\n",
    "pca = PCA(n_components=2).fit(X)\n",
    "data2D = pca.transform(X)\n",
    "plt.scatter(data2D[:,0], data2D[:,1], c=df.has_reply)"
   ]
  },
  {
   "cell_type": "markdown",
   "metadata": {},
   "source": [
    "### 2. Tf IdF "
   ]
  },
  {
   "cell_type": "code",
   "execution_count": 72,
   "metadata": {},
   "outputs": [],
   "source": [
    "def tfidf_encode(text):\n",
    "    tfidf_vectorizer=TfidfVectorizer(use_idf=True, max_df=0.95)\n",
    "    return tfidf_vectorizer.fit_transform(text)"
   ]
  },
  {
   "cell_type": "code",
   "execution_count": 73,
   "metadata": {},
   "outputs": [
    {
     "data": {
      "text/plain": [
       "<matplotlib.collections.PathCollection at 0x7fec12936c90>"
      ]
     },
     "execution_count": 73,
     "metadata": {},
     "output_type": "execute_result"
    },
    {
     "data": {
      "image/png": "[encoded data removed]",
      "text/plain": [
       "<Figure size 432x288 with 1 Axes>"
      ]
     },
     "metadata": {
      "needs_background": "light"
     },
     "output_type": "display_data"
    }
   ],
   "source": [
    "Z = tfidf_encode(df.clean_tweet).todense()\n",
    "pca = PCA(n_components=2).fit(X)\n",
    "Z_data2D = pca.transform(Z)\n",
    "plt.scatter(Z_data2D[:,0], Z_data2D[:,1], c=df.has_reply)"
   ]
  },
  {
   "cell_type": "markdown",
   "metadata": {},
   "source": [
    "### 3. Word2vec"
   ]
  },
  {
   "cell_type": "markdown",
   "metadata": {},
   "source": [
    "In this section, we load a pre-trained model (GloVe or Google Word2Vec), and generate and store the embeddings of all the tweets. Caution : the model needs to be downloaded before"
   ]
  },
  {
   "cell_type": "markdown",
   "metadata": {},
   "source": [
    "#### Google Word2Vec loading"
   ]
  },
  {
   "cell_type": "code",
   "execution_count": null,
   "metadata": {},
   "outputs": [],
   "source": [
    "model_path = \"../../source/embeddings/GoogleVectors300d/GoogleNews-vectors-negative300.bin\"\n",
    "binary = True\n",
    "storage_folder = \"../../data/extraction_twint/tweets_data/data_service_clients/embeddings/GoogleVectors300d/\""
   ]
  },
  {
   "cell_type": "markdown",
   "metadata": {},
   "source": [
    "#### GloVe loading"
   ]
  },
  {
   "cell_type": "code",
   "execution_count": null,
   "metadata": {},
   "outputs": [],
   "source": [
    "model_path = \"../../source/embeddings/GloveTwitter200d/glove.twitter.27B.200d.txt\"\n",
    "binary = False\n",
    "storage_folder = \"../../data/extraction_twint/tweets_data/data_service_clients/embeddings/GloveTwitter200d/\""
   ]
  },
  {
   "cell_type": "markdown",
   "metadata": {},
   "source": [
    "#### Create embeddings and save to CSV"
   ]
  },
  {
   "cell_type": "code",
   "execution_count": null,
   "metadata": {},
   "outputs": [],
   "source": [
    "text_features = pd.DataFrame() # creating empty final dataframe\n",
    "stopwords = nltk.corpus.stopwords.words('english') # removing stop words\n",
    "for doc in tqdm(df.clean_tweet): # looping through each document and cleaning it\n",
    "    temp = pd.DataFrame()  # creating a temporary dataframe(store value for 1st doc & for 2nd doc remove the details of 1st & proced through 2nd and so on..)\n",
    "    for word in doc.split(' '): # looping through each word of a single document and spliting through space\n",
    "        if word not in stopwords: # if word is not present in stopwords then (try)\n",
    "            try:\n",
    "                word_vec = embeddings[word] # if word is present in embeddings(goole provides weights associate with words(300)) then proceed\n",
    "                temp = temp.append(pd.Series(word_vec), ignore_index = True) # if word is present then append it to temporary dataframe\n",
    "            except:\n",
    "                pass\n",
    "    doc_vector = temp.mean() # take the average of each column(w0, w1, w2,........w300)\n",
    "    text_features = text_features.append(doc_vector, ignore_index = True) # append each document value to the final dataframe\n",
    "\n",
    "text_features.to_csv(storage_folder+brand+\".csv\",)\n",
    "text_features.head()"
   ]
  },
  {
   "cell_type": "markdown",
   "metadata": {},
   "source": [
    "### Load embeddings"
   ]
  },
  {
   "cell_type": "markdown",
   "metadata": {},
   "source": [
    "#### Load from csv"
   ]
  },
  {
   "cell_type": "code",
   "execution_count": null,
   "metadata": {
    "scrolled": true
   },
   "outputs": [],
   "source": [
    "text_features = pd.read_csv(\"../../data/extraction_twint/tweets_data/data_service_clients/embeddings/\"+brand+\".csv\", index_col=0)\n",
    "text_features.head()"
   ]
  },
  {
   "cell_type": "markdown",
   "metadata": {},
   "source": [
    "### Final function to vectorize (build text features)"
   ]
  },
  {
   "cell_type": "code",
   "execution_count": 74,
   "metadata": {},
   "outputs": [],
   "source": [
    "def build_text_features(df, y, vect_type, with_downsampling):\n",
    "    \n",
    "    logging.info(\"Extracting features and creating vocabulary...\")\n",
    "\n",
    "    new_df = df[['nb_tweets_of_user', 'following', 'followers', 'likes','direct_mention', 'punct', 'length', 'positive_sentiment', 'clean_tweet']]\n",
    "    for col in new_df.columns:\n",
    "        if col != \"clean_tweet\":\n",
    "            new_df[col]=new_df[col].apply(lambda x: 0 if np.isnan(x) else int(x))\n",
    "        \n",
    "    if \"word2vec\" in vect_type:\n",
    "        if \"google\" in vect_type:\n",
    "            text_features = pd.read_csv(\"../../data/extraction_twint/tweets_data/data_service_clients/embeddings/GoogleVectors300d/\"+brand+\".csv\", index_col=0)\n",
    "        \n",
    "        if \"glove\" in vect_type:\n",
    "            text_features = pd.read_csv(\"../../data/extraction_twint/tweets_data/data_service_clients/embeddings/GloveTwitter200d/\"+brand+\".csv\", index_col=0)\n",
    "        \n",
    "        # Remove nan values in text features\n",
    "        for col in text_features.columns:\n",
    "            text_features[col]=text_features[col].apply(lambda x: 0 if np.isnan(x) else x)\n",
    "        \n",
    "        new_df.drop(columns=\"clean_tweet\", inplace=True)\n",
    "        X = pd.merge(text_features, new_df, left_index=True, right_index=True)\n",
    "\n",
    "        y = df.has_reply\n",
    "        X_train, X_test, y_train, y_test = train_test_split(new_df,y,train_size=0.80,random_state=44)\n",
    "\n",
    "        if with_downsampling:\n",
    "            X_train, y_train = downsampling(X_train, y_train)\n",
    "        \n",
    "        vocabulary = []\n",
    "    \n",
    "    else:\n",
    "        X_train, X_test, y_train, y_test = train_test_split(new_df,y,train_size=0.80,random_state=44)\n",
    "\n",
    "        if with_downsampling:\n",
    "            X_train, y_train = downsampling(X_train, y_train)\n",
    "\n",
    "        field = 'clean_tweet'\n",
    "   \n",
    "        if 'count' in vect_type:\n",
    "            vectorizer= CountVectorizer(binary=False, max_df=0.95)\n",
    "        \n",
    "        elif \"binary\" in vect_type:\n",
    "            vectorizer= CountVectorizer(binary=True, max_df=0.95)\n",
    "\n",
    "        elif 'tfidf' in vect_type:\n",
    "            vectorizer=TfidfVectorizer(max_features = 1000, use_idf=True, max_df=0.95)\n",
    "        #add n-gram\n",
    "        \n",
    "        else:\n",
    "            raise ValueError('Mode should be either count or tfidf')    \n",
    "       \n",
    "        # Fit on training data\n",
    "        vectorizer.fit_transform(X_train[field].values)\n",
    "        \n",
    "        vocabulary = vectorizer.get_feature_names()\n",
    "        \n",
    "        train_text_features=vectorizer.transform(X_train[field].values).toarray()\n",
    "        test_text_features=vectorizer.transform(X_test[field].values).toarray()\n",
    "        \n",
    "#         for col in text_features.columns:\n",
    "#             text_features[col]=text_features[col].apply(lambda x: 0 if np.isnan(x) else x)\n",
    "    \n",
    "        X_train.drop(columns=['clean_tweet'], inplace=True)\n",
    "        X_test.drop(columns=['clean_tweet'], inplace=True)\n",
    "\n",
    "        X_train=np.concatenate((X_train,train_text_features),axis=1)\n",
    "        X_test=np.concatenate((X_test,test_text_features),axis=1)\n",
    "    \n",
    "    return vocabulary, X_train, X_test, y_train, y_test   "
   ]
  },
  {
   "cell_type": "markdown",
   "metadata": {},
   "source": [
    "# 4C. Model evaluation"
   ]
  },
  {
   "cell_type": "markdown",
   "metadata": {},
   "source": [
    "### All scores"
   ]
  },
  {
   "cell_type": "code",
   "execution_count": 75,
   "metadata": {},
   "outputs": [],
   "source": [
    "## PRINT SCORES\n",
    "\n",
    "def print_scores(y_test, y_pred):\n",
    "    accuracy = accuracy_score(y_test, y_pred)\n",
    "    f1_score_val = f1_score(y_test, y_pred)\n",
    "    precision_score_val = precision_score(y_test, y_pred)\n",
    "    recall_score_val = recall_score(y_test, y_pred)\n",
    "\n",
    "\n",
    "    string = \"RESULTATS \\n \\\n",
    "    Accuracy  : {accuracy}% \\n \\\n",
    "    F1 score  : {f1_score}\\n \\\n",
    "    Precision : {precision}% (how many selected items are relevant)\\n \\\n",
    "    Recall    : {recall}% (how many relevant items are selected)\\n \\\n",
    "    \\n\\n\\\n",
    "    STATISTICS\\n\\\n",
    "     Proportion of positives in test set    : {positives}%\\n\\\n",
    "     Proportion of positives in predictions : {predicted_positives}%\\\n",
    "    \"\n",
    "\n",
    "    print(string.format(accuracy = round(100*accuracy,2),\n",
    "                        f1_score = round(f1_score_val,4), \n",
    "                        precision = round(100*precision_score_val,2), \n",
    "                        recall = round(100*recall_score_val,2),\n",
    "                        positives = round(100*y_test.sum()/len(y_test),2),\n",
    "                        predicted_positives = round(100*y_pred.sum()/len(y_pred),2),\n",
    "                       ))"
   ]
  },
  {
   "cell_type": "markdown",
   "metadata": {},
   "source": [
    "### ROC Curve & AUC "
   ]
  },
  {
   "cell_type": "code",
   "execution_count": 76,
   "metadata": {},
   "outputs": [],
   "source": [
    "## DISPLAY ROC CURVE\n",
    "def display_roc_curve(y_test, X_test, model):\n",
    "    fpr, tpr, thresholds = roc_curve(y_test, model.predict_proba(X_test)[:, 1])\n",
    "    auc_score = round(auc(fpr, tpr),2)\n",
    "\n",
    "    plt.plot(fpr, tpr, color='darkorange',\n",
    "             lw=2)\n",
    "\n",
    "    plt.xlim([0.0, 1.0])\n",
    "    plt.ylim([0.0, 1.05])\n",
    "    plt.xlabel('False Positive Rate')\n",
    "    plt.ylabel('True Positive Rate')\n",
    "    plt.title('ROC curve')\n",
    "    plt.legend(loc=\"lower right\")\n",
    "    plt.show()\n",
    "    print(\"AUC : {}\".format(auc_score))"
   ]
  },
  {
   "cell_type": "markdown",
   "metadata": {},
   "source": [
    "### Confusion matrix "
   ]
  },
  {
   "cell_type": "code",
   "execution_count": 77,
   "metadata": {
    "scrolled": true
   },
   "outputs": [],
   "source": [
    "# CONFUSION MATRIX\n",
    "def get_confusion_matrix(X_test, y_test, model):\n",
    "    titles_options = [(\"Confusion matrix, without normalization\", None),\n",
    "                      (\"Normalized confusion matrix\", 'true')]\n",
    "\n",
    "    for title, normalize in titles_options:\n",
    "        disp = plot_confusion_matrix(model, X_test, y_test,\n",
    "                                     cmap=plt.cm.Blues,\n",
    "                                     normalize=normalize)\n",
    "        disp.ax_.set_title(title)\n",
    "\n",
    "        print(title)\n",
    "        print(disp.confusion_matrix)\n"
   ]
  },
  {
   "cell_type": "markdown",
   "metadata": {},
   "source": [
    "### Feature importance "
   ]
  },
  {
   "cell_type": "code",
   "execution_count": 78,
   "metadata": {},
   "outputs": [],
   "source": [
    "def importance_plotting(model):\n",
    "    features2 = pd.DataFrame()\n",
    "    features2['importance'] = model.feature_importances_\n",
    "    features2.sort_values(by=['importance'], ascending=False, inplace=True)\n",
    "    features2 = features2.head(20)\n",
    "    features2[\"order\"]=features2['importance'].index\n",
    "    features2[\"words\"] = features2.order.apply(lambda x: vocab[x])\n",
    "    from sklearn import metrics\n",
    "    #features2.plot(features2.words, kind='barh', figsize=(10, 8))\n",
    "    plt.plot(features2.importance, features2.words)\n",
    "    plt.title('Most important features')\n",
    "    plt.show()"
   ]
  },
  {
   "cell_type": "markdown",
   "metadata": {},
   "source": [
    "# 5. Choose, train & test model"
   ]
  },
  {
   "cell_type": "code",
   "execution_count": 79,
   "metadata": {},
   "outputs": [],
   "source": [
    "def try_model(model, encode_type, df, clf=None, with_downsampling = False):\n",
    "        \n",
    "    print(\"Building the features...\")\n",
    "    y = df.has_reply\n",
    "    #y = df.objective\n",
    "    vocab, X_train,X_test,y_train, y_test = build_text_features(df,y, encode_type,with_downsampling)\n",
    "    \n",
    "    print(\"Training the model...\")\n",
    "    if clf:\n",
    "        clf.fit(X_train,y_train)\n",
    "        model = clf.best_estimator_\n",
    "    else:\n",
    "        model = model.fit(X_train,y_train)\n",
    "    \n",
    "    \n",
    "    print(\"Making predictions...\")\n",
    "    y_preds = model.predict(X_test)\n",
    "    \n",
    "    print(\"Printing scores...\")\n",
    "    print(classification_report(y_test, y_preds))\n",
    "    print_scores(y_test,y_preds)\n",
    "    display_roc_curve(y_test,X_test, model)\n",
    "    get_confusion_matrix(X_test, y_test, model)\n",
    "    \n",
    "    return vocab, model, y_test, y_preds"
   ]
  },
  {
   "cell_type": "markdown",
   "metadata": {},
   "source": [
    "## Pipeline"
   ]
  },
  {
   "cell_type": "code",
   "execution_count": null,
   "metadata": {},
   "outputs": [],
   "source": [
    "df = preprocess(df)"
   ]
  },
  {
   "cell_type": "code",
   "execution_count": null,
   "metadata": {},
   "outputs": [],
   "source": [
    "from sklearn.model_selection import GridSearchCV\n",
    "parameters = {'max_features':[0.2, 0.5,0.7, 0.9]}\n",
    "\n",
    "#model = LogisticRegression()\n",
    "#model = MultinomialNB()\n",
    "#model = RandomForestClassifier(n_estimators=300, max_depth=200)\n",
    "model = RandomForestClassifier(n_estimators=200, verbose=1, n_jobs=4, class_weight={False: 0.9, True: 0.1})\n",
    "#model =xgb.XGBClassifier()\n",
    "#model =xgb.XGBClassifier(random_state=42,learning_rate=0.01)\n",
    "#model = LinearSVC()\n",
    "\n",
    "#encode_type = \"count\"\n",
    "#encode_type = \"tfidf\"\n",
    "encode_type = \"binary\"\n",
    "#encode_type = \"word2vec_glove\"\n",
    "#encode_type = \"word2vec_google\"\n",
    "\n",
    "clf = GridSearchCV(model, parameters)\n"
   ]
  },
  {
   "cell_type": "code",
   "execution_count": null,
   "metadata": {
    "scrolled": false
   },
   "outputs": [],
   "source": [
    "vocab, model, y_test, y_preds = try_model(model, encode_type, df)"
   ]
  },
  {
   "cell_type": "code",
   "execution_count": null,
   "metadata": {
    "scrolled": true
   },
   "outputs": [],
   "source": [
    "importance_plotting(model)"
   ]
  },
  {
   "cell_type": "code",
   "execution_count": null,
   "metadata": {},
   "outputs": [],
   "source": [
    "# Grid Search results\n",
    "clf.best_params_\n",
    "pd.DataFrame.from_dict(clf.cv_results_)"
   ]
  },
  {
   "cell_type": "code",
   "execution_count": null,
   "metadata": {},
   "outputs": [],
   "source": [
    "vocab"
   ]
  },
  {
   "cell_type": "code",
   "execution_count": null,
   "metadata": {},
   "outputs": [],
   "source": [
    "model"
   ]
  },
  {
   "cell_type": "markdown",
   "metadata": {},
   "source": [
    "## Samples "
   ]
  },
  {
   "cell_type": "code",
   "execution_count": null,
   "metadata": {},
   "outputs": [],
   "source": [
    "#SAMPLES DE TOUTES LES CATEGORIES\n",
    "\n",
    "##on recupere les tweets urgents manqués\n",
    "\n",
    "#urgents and not urgents tweets index\n",
    "positives = y_test[y_test==True].index\n",
    "negatives = y_test[y_test==False].index\n",
    "\n",
    "#correct and incorrect predictions index\n",
    "is_prediction_correct = y_test==y_preds\n",
    "correct_predictions   = is_prediction_correct[is_prediction_correct==True].index\n",
    "incorrect_predictions = is_prediction_correct[is_prediction_correct==False].index\n",
    "\n",
    "#true/false positive/negative index\n",
    "true_positive_index  = correct_predictions.intersection(positives)\n",
    "true_negative_index  = correct_predictions.intersection(negatives)\n",
    "false_positive_index = incorrect_predictions.intersection(negatives)\n",
    "false_negative_index = incorrect_predictions.intersection(positives)"
   ]
  },
  {
   "cell_type": "code",
   "execution_count": null,
   "metadata": {},
   "outputs": [],
   "source": [
    "df.loc[true_positive_index][['raw']]"
   ]
  },
  {
   "cell_type": "code",
   "execution_count": null,
   "metadata": {},
   "outputs": [],
   "source": [
    "df.loc[true_negative_index][['raw']]"
   ]
  },
  {
   "cell_type": "code",
   "execution_count": null,
   "metadata": {},
   "outputs": [],
   "source": [
    "df.loc[false_positive_index][['raw']]"
   ]
  },
  {
   "cell_type": "code",
   "execution_count": null,
   "metadata": {},
   "outputs": [],
   "source": [
    "df.loc[false_negative_index][['raw']]"
   ]
  },
  {
   "cell_type": "markdown",
   "metadata": {},
   "source": [
    "# 6. Save Model"
   ]
  },
  {
   "cell_type": "code",
   "execution_count": null,
   "metadata": {},
   "outputs": [],
   "source": []
  }
 ],
 "metadata": {
  "kernelspec": {
   "display_name": "Python 3",
   "language": "python",
   "name": "python3"
  },
  "language_info": {
   "codemirror_mode": {
    "name": "ipython",
    "version": 3
   },
   "file_extension": ".py",
   "mimetype": "text/x-python",
   "name": "python",
   "nbconvert_exporter": "python",
   "pygments_lexer": "ipython3",
   "version": "3.7.6"
  }
 },
 "nbformat": 4,
 "nbformat_minor": 2
}
