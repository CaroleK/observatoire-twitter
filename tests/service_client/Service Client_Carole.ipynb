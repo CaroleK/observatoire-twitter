{
 "cells": [
  {
   "cell_type": "code",
   "execution_count": 2,
   "metadata": {},
   "outputs": [
    {
     "name": "stderr",
     "output_type": "stream",
     "text": [
      "[nltk_data] Downloading package wordnet to\n",
      "[nltk_data]     C:\\Users\\carol\\AppData\\Roaming\\nltk_data...\n",
      "[nltk_data]   Package wordnet is already up-to-date!\n",
      "[nltk_data] Downloading package punkt to\n",
      "[nltk_data]     C:\\Users\\carol\\AppData\\Roaming\\nltk_data...\n",
      "[nltk_data]   Package punkt is already up-to-date!\n",
      "[nltk_data] Downloading package averaged_perceptron_tagger to\n",
      "[nltk_data]     C:\\Users\\carol\\AppData\\Roaming\\nltk_data...\n",
      "[nltk_data]   Package averaged_perceptron_tagger is already up-to-\n",
      "[nltk_data]       date!\n",
      "[nltk_data] Downloading package movie_reviews to\n",
      "[nltk_data]     C:\\Users\\carol\\AppData\\Roaming\\nltk_data...\n",
      "[nltk_data]   Package movie_reviews is already up-to-date!\n"
     ]
    },
    {
     "name": "stdout",
     "output_type": "stream",
     "text": [
      "Requirement already satisfied: emot in c:\\users\\carol\\anaconda3\\lib\\site-packages (2.1)\n"
     ]
    }
   ],
   "source": [
    "import numpy as np\n",
    "import pandas as pd\n",
    "\n",
    "## Pandas display options\n",
    "pd.set_option('display.max_colwidth', None)\n",
    "pd.set_option('display.max_rows', 400)\n",
    "pd.set_option('display.max_columns', 400)\n",
    "\n",
    "from tqdm.notebook import tqdm\n",
    "import re\n",
    "import nltk\n",
    "import spacy\n",
    "import string\n",
    "import seaborn as sns\n",
    "import math\n",
    "import matplotlib.pyplot as plt\n",
    "from collections import Counter\n",
    "from nltk.corpus import stopwords, wordnet\n",
    "from nltk.stem.porter import PorterStemmer\n",
    "from nltk.stem import WordNetLemmatizer\n",
    "\n",
    "nltk.download('wordnet')\n",
    "nltk.download('punkt')\n",
    "nltk.download('averaged_perceptron_tagger')\n",
    "nltk.download('movie_reviews')\n",
    "\n",
    "from sklearn.preprocessing import StandardScaler \n",
    "from sklearn.metrics import *\n",
    "import sklearn.model_selection\n",
    "from sklearn.model_selection import *\n",
    "from sklearn.linear_model import *\n",
    "from sklearn.ensemble import *\n",
    "from sklearn.svm import *\n",
    "from sklearn.kernel_ridge import KernelRidge\n",
    "from sklearn.neighbors import KNeighborsRegressor\n",
    "from sklearn.neural_network import MLPRegressor\n",
    "from sklearn.feature_extraction.text import *\n",
    "from sklearn.metrics import plot_confusion_matrix\n",
    "from sklearn.naive_bayes import MultinomialNB\n",
    "from sklearn.decomposition import PCA\n",
    "from sklearn.pipeline import Pipeline\n",
    "from sklearn.metrics import classification_report\n",
    "\n",
    "import xgboost as xgb\n",
    "\n",
    "from textblob import TextBlob\n",
    "from textblob.sentiments import NaiveBayesAnalyzer\n",
    "\n",
    "!pip install emot\n",
    "import emot\n",
    "\n",
    "import pickle\n",
    "import logging\n",
    "\n",
    "import gensim"
   ]
  },
  {
   "cell_type": "markdown",
   "metadata": {},
   "source": [
    "# Client support"
   ]
  },
  {
   "cell_type": "markdown",
   "metadata": {},
   "source": [
    "# 1. Data extraction"
   ]
  },
  {
   "cell_type": "code",
   "execution_count": 3,
   "metadata": {},
   "outputs": [],
   "source": [
    "brand = \"amazon\""
   ]
  },
  {
   "cell_type": "code",
   "execution_count": 4,
   "metadata": {},
   "outputs": [],
   "source": [
    "filename = \"../../data/extraction_twint/tweets_data/data_service_clients/with_user_info/\"+brand+\".csv\""
   ]
  },
  {
   "cell_type": "code",
   "execution_count": 5,
   "metadata": {},
   "outputs": [],
   "source": [
    "# All information is in full_df\n",
    "full_df = pd.read_csv(filename, lineterminator='\\n')\n",
    "\n",
    "# Only the info needed is in df\n",
    "df = full_df[[\"tweet\",\"reply_time\",'tweets', 'following', 'followers', 'likes']].copy()\n",
    "df= df.rename(columns={'tweet':'raw'})\n",
    "df= df.rename(columns={'tweets':'nb_tweets_of_user'})"
   ]
  },
  {
   "cell_type": "code",
   "execution_count": 6,
   "metadata": {},
   "outputs": [
    {
     "data": {
      "text/plain": [
       "Index(['Unnamed: 0', 'id', 'conversation_id', 'created_at', 'timezone',\n",
       "       'user_id', 'username', 'name', 'place', 'tweet', 'mentions', 'urls',\n",
       "       'photos', 'replies_count', 'retweets_count', 'likes_count', 'hashtags',\n",
       "       'cashtags', 'link', 'retweet', 'quote_url', 'video', 'near', 'geo',\n",
       "       'source', 'user_rt_id', 'user_rt', 'retweet_id', 'reply_to',\n",
       "       'retweet_date', 'translate', 'trans_src', 'trans_dest', 'datetime',\n",
       "       'reply_time', 'id_user', 'name_user', 'bio', 'location', 'url',\n",
       "       'join_date', 'join_time', 'tweets', 'following', 'followers', 'likes',\n",
       "       'media', 'private', 'verified', 'profile_image_url',\n",
       "       'background_image'],\n",
       "      dtype='object')"
      ]
     },
     "execution_count": 6,
     "metadata": {},
     "output_type": "execute_result"
    }
   ],
   "source": [
    "full_df.columns"
   ]
  },
  {
   "cell_type": "code",
   "execution_count": 7,
   "metadata": {},
   "outputs": [
    {
     "data": {
      "text/plain": [
       "Index(['raw', 'reply_time', 'nb_tweets_of_user', 'following', 'followers',\n",
       "       'likes'],\n",
       "      dtype='object')"
      ]
     },
     "execution_count": 7,
     "metadata": {},
     "output_type": "execute_result"
    }
   ],
   "source": [
    "df.columns"
   ]
  },
  {
   "cell_type": "code",
   "execution_count": 8,
   "metadata": {},
   "outputs": [
    {
     "data": {
      "text/html": [
       "<div>\n",
       "<style scoped>\n",
       "    .dataframe tbody tr th:only-of-type {\n",
       "        vertical-align: middle;\n",
       "    }\n",
       "\n",
       "    .dataframe tbody tr th {\n",
       "        vertical-align: top;\n",
       "    }\n",
       "\n",
       "    .dataframe thead th {\n",
       "        text-align: right;\n",
       "    }\n",
       "</style>\n",
       "<table border=\"1\" class=\"dataframe\">\n",
       "  <thead>\n",
       "    <tr style=\"text-align: right;\">\n",
       "      <th></th>\n",
       "      <th>raw</th>\n",
       "      <th>reply_time</th>\n",
       "      <th>nb_tweets_of_user</th>\n",
       "      <th>following</th>\n",
       "      <th>followers</th>\n",
       "      <th>likes</th>\n",
       "    </tr>\n",
       "  </thead>\n",
       "  <tbody>\n",
       "    <tr>\n",
       "      <th>0</th>\n",
       "      <td>Wt a disgusting amazon ! @JeffBezos @AmitAgarwal . You provide a link where we can put up issue . Its very bad experience for us . @ZeeNews @aajtak @ndtv @htTweets</td>\n",
       "      <td>NaN</td>\n",
       "      <td>191</td>\n",
       "      <td>275</td>\n",
       "      <td>19</td>\n",
       "      <td>246</td>\n",
       "    </tr>\n",
       "    <tr>\n",
       "      <th>1</th>\n",
       "      <td>A pic up boy come to my house for used product bt he not received. He didn’t know the issue and argument with my wife .</td>\n",
       "      <td>0 days 00:05:40.000000000</td>\n",
       "      <td>191</td>\n",
       "      <td>275</td>\n",
       "      <td>19</td>\n",
       "      <td>246</td>\n",
       "    </tr>\n",
       "    <tr>\n",
       "      <th>2</th>\n",
       "      <td>I m not getting your point. Wt will i do  for replacement or money back ?\\nSorry i will not purchase anything from amazon next time . #Meresegltihogei , next time kisi se nhi hone du ga# amazon meri bhool#</td>\n",
       "      <td>0 days 00:06:35.000000000</td>\n",
       "      <td>191</td>\n",
       "      <td>275</td>\n",
       "      <td>19</td>\n",
       "      <td>246</td>\n",
       "    </tr>\n",
       "    <tr>\n",
       "      <th>3</th>\n",
       "      <td>I think you don’t have dignity of valuable customers. Wt a network ! You couldn’t accessible my problem &amp; not pass it to concerned support team . Unbelievable torcher , mentaly also wasting of time , money .</td>\n",
       "      <td>0 days 00:03:19.000000000</td>\n",
       "      <td>191</td>\n",
       "      <td>275</td>\n",
       "      <td>19</td>\n",
       "      <td>246</td>\n",
       "    </tr>\n",
       "    <tr>\n",
       "      <th>4</th>\n",
       "      <td>I am already shared information on link which is provided by you. And also a mail received from amazon team but nobody pic up came for used product. Pls let me know when will it replace?</td>\n",
       "      <td>0 days 00:42:01.000000000</td>\n",
       "      <td>191</td>\n",
       "      <td>275</td>\n",
       "      <td>19</td>\n",
       "      <td>246</td>\n",
       "    </tr>\n",
       "  </tbody>\n",
       "</table>\n",
       "</div>"
      ],
      "text/plain": [
       "                                                                                                                                                                                                               raw  \\\n",
       "0                                              Wt a disgusting amazon ! @JeffBezos @AmitAgarwal . You provide a link where we can put up issue . Its very bad experience for us . @ZeeNews @aajtak @ndtv @htTweets   \n",
       "1                                                                                          A pic up boy come to my house for used product bt he not received. He didn’t know the issue and argument with my wife .   \n",
       "2    I m not getting your point. Wt will i do  for replacement or money back ?\\nSorry i will not purchase anything from amazon next time . #Meresegltihogei , next time kisi se nhi hone du ga# amazon meri bhool#   \n",
       "3  I think you don’t have dignity of valuable customers. Wt a network ! You couldn’t accessible my problem & not pass it to concerned support team . Unbelievable torcher , mentaly also wasting of time , money .   \n",
       "4                       I am already shared information on link which is provided by you. And also a mail received from amazon team but nobody pic up came for used product. Pls let me know when will it replace?   \n",
       "\n",
       "                  reply_time  nb_tweets_of_user  following  followers  likes  \n",
       "0                        NaN                191        275         19    246  \n",
       "1  0 days 00:05:40.000000000                191        275         19    246  \n",
       "2  0 days 00:06:35.000000000                191        275         19    246  \n",
       "3  0 days 00:03:19.000000000                191        275         19    246  \n",
       "4  0 days 00:42:01.000000000                191        275         19    246  "
      ]
     },
     "execution_count": 8,
     "metadata": {},
     "output_type": "execute_result"
    }
   ],
   "source": [
    "df.head()"
   ]
  },
  {
   "cell_type": "code",
   "execution_count": 9,
   "metadata": {},
   "outputs": [
    {
     "data": {
      "text/plain": [
       "(6290, 6)"
      ]
     },
     "execution_count": 9,
     "metadata": {},
     "output_type": "execute_result"
    }
   ],
   "source": [
    "df.shape"
   ]
  },
  {
   "cell_type": "code",
   "execution_count": 10,
   "metadata": {},
   "outputs": [
    {
     "name": "stdout",
     "output_type": "stream",
     "text": [
      "Numbers of tweets without response\n"
     ]
    },
    {
     "data": {
      "text/plain": [
       "1534"
      ]
     },
     "execution_count": 10,
     "metadata": {},
     "output_type": "execute_result"
    }
   ],
   "source": [
    "print(\"Numbers of tweets without response\")\n",
    "sum(df.reply_time.isnull())"
   ]
  },
  {
   "cell_type": "code",
   "execution_count": 11,
   "metadata": {},
   "outputs": [],
   "source": [
    "#reply time to timedelta\n",
    "df['reply_time']=df['reply_time'].map(pd.to_timedelta)\n",
    "\n",
    "#reply time in minutes\n",
    "df['reply_time']=df['reply_time'].map(lambda x: x.days*1440 + x.seconds//60)"
   ]
  },
  {
   "cell_type": "code",
   "execution_count": 12,
   "metadata": {},
   "outputs": [
    {
     "data": {
      "text/plain": [
       "raw                   object\n",
       "reply_time           float64\n",
       "nb_tweets_of_user      int64\n",
       "following              int64\n",
       "followers              int64\n",
       "likes                  int64\n",
       "dtype: object"
      ]
     },
     "execution_count": 12,
     "metadata": {},
     "output_type": "execute_result"
    }
   ],
   "source": [
    "df.dtypes"
   ]
  },
  {
   "cell_type": "code",
   "execution_count": 13,
   "metadata": {},
   "outputs": [],
   "source": [
    "df[\"raw\"] = df[\"raw\"].astype('str')"
   ]
  },
  {
   "cell_type": "code",
   "execution_count": 14,
   "metadata": {},
   "outputs": [
    {
     "data": {
      "text/html": [
       "<div>\n",
       "<style scoped>\n",
       "    .dataframe tbody tr th:only-of-type {\n",
       "        vertical-align: middle;\n",
       "    }\n",
       "\n",
       "    .dataframe tbody tr th {\n",
       "        vertical-align: top;\n",
       "    }\n",
       "\n",
       "    .dataframe thead th {\n",
       "        text-align: right;\n",
       "    }\n",
       "</style>\n",
       "<table border=\"1\" class=\"dataframe\">\n",
       "  <thead>\n",
       "    <tr style=\"text-align: right;\">\n",
       "      <th></th>\n",
       "      <th>raw</th>\n",
       "      <th>reply_time</th>\n",
       "      <th>nb_tweets_of_user</th>\n",
       "      <th>following</th>\n",
       "      <th>followers</th>\n",
       "      <th>likes</th>\n",
       "    </tr>\n",
       "  </thead>\n",
       "  <tbody>\n",
       "    <tr>\n",
       "      <th>1</th>\n",
       "      <td>A pic up boy come to my house for used product bt he not received. He didn’t know the issue and argument with my wife .</td>\n",
       "      <td>5.0</td>\n",
       "      <td>191</td>\n",
       "      <td>275</td>\n",
       "      <td>19</td>\n",
       "      <td>246</td>\n",
       "    </tr>\n",
       "    <tr>\n",
       "      <th>2</th>\n",
       "      <td>I m not getting your point. Wt will i do  for replacement or money back ?\\nSorry i will not purchase anything from amazon next time . #Meresegltihogei , next time kisi se nhi hone du ga# amazon meri bhool#</td>\n",
       "      <td>6.0</td>\n",
       "      <td>191</td>\n",
       "      <td>275</td>\n",
       "      <td>19</td>\n",
       "      <td>246</td>\n",
       "    </tr>\n",
       "    <tr>\n",
       "      <th>3</th>\n",
       "      <td>I think you don’t have dignity of valuable customers. Wt a network ! You couldn’t accessible my problem &amp; not pass it to concerned support team . Unbelievable torcher , mentaly also wasting of time , money .</td>\n",
       "      <td>3.0</td>\n",
       "      <td>191</td>\n",
       "      <td>275</td>\n",
       "      <td>19</td>\n",
       "      <td>246</td>\n",
       "    </tr>\n",
       "    <tr>\n",
       "      <th>4</th>\n",
       "      <td>I am already shared information on link which is provided by you. And also a mail received from amazon team but nobody pic up came for used product. Pls let me know when will it replace?</td>\n",
       "      <td>42.0</td>\n",
       "      <td>191</td>\n",
       "      <td>275</td>\n",
       "      <td>19</td>\n",
       "      <td>246</td>\n",
       "    </tr>\n",
       "    <tr>\n",
       "      <th>5</th>\n",
       "      <td>&amp; pls tell me when amazon pic up old &amp; used shoes from my address? &amp; replacement status?</td>\n",
       "      <td>5.0</td>\n",
       "      <td>191</td>\n",
       "      <td>275</td>\n",
       "      <td>19</td>\n",
       "      <td>246</td>\n",
       "    </tr>\n",
       "    <tr>\n",
       "      <th>...</th>\n",
       "      <td>...</td>\n",
       "      <td>...</td>\n",
       "      <td>...</td>\n",
       "      <td>...</td>\n",
       "      <td>...</td>\n",
       "      <td>...</td>\n",
       "    </tr>\n",
       "    <tr>\n",
       "      <th>6284</th>\n",
       "      <td>I know Amazon is trying to take over the world but they should really leave shipping to the more reliable @UPS @FedEx and @USPS</td>\n",
       "      <td>8.0</td>\n",
       "      <td>1972</td>\n",
       "      <td>367</td>\n",
       "      <td>44</td>\n",
       "      <td>1518</td>\n",
       "    </tr>\n",
       "    <tr>\n",
       "      <th>6285</th>\n",
       "      <td>Amazon shipping I never have issues with @UPS or @FedEx it’s always always Amazon shipping</td>\n",
       "      <td>15.0</td>\n",
       "      <td>1972</td>\n",
       "      <td>367</td>\n",
       "      <td>44</td>\n",
       "      <td>1518</td>\n",
       "    </tr>\n",
       "    <tr>\n",
       "      <th>6286</th>\n",
       "      <td>Yes everytime I have to go pick up my packages</td>\n",
       "      <td>4.0</td>\n",
       "      <td>168</td>\n",
       "      <td>23</td>\n",
       "      <td>69</td>\n",
       "      <td>460</td>\n",
       "    </tr>\n",
       "    <tr>\n",
       "      <th>6287</th>\n",
       "      <td>Thanks for your quick reply, i dont. wanna waste my subscription</td>\n",
       "      <td>2.0</td>\n",
       "      <td>9857</td>\n",
       "      <td>1848</td>\n",
       "      <td>425</td>\n",
       "      <td>1078</td>\n",
       "    </tr>\n",
       "    <tr>\n",
       "      <th>6288</th>\n",
       "      <td>It says Delivery by Amazon. \\nApparently its been delivered to me (Handed to resident) Ive been home all day. Nothing on my door step and ive asked my neighbours</td>\n",
       "      <td>2.0</td>\n",
       "      <td>8742</td>\n",
       "      <td>205</td>\n",
       "      <td>101</td>\n",
       "      <td>2652</td>\n",
       "    </tr>\n",
       "  </tbody>\n",
       "</table>\n",
       "<p>4756 rows × 6 columns</p>\n",
       "</div>"
      ],
      "text/plain": [
       "                                                                                                                                                                                                                  raw  \\\n",
       "1                                                                                             A pic up boy come to my house for used product bt he not received. He didn’t know the issue and argument with my wife .   \n",
       "2       I m not getting your point. Wt will i do  for replacement or money back ?\\nSorry i will not purchase anything from amazon next time . #Meresegltihogei , next time kisi se nhi hone du ga# amazon meri bhool#   \n",
       "3     I think you don’t have dignity of valuable customers. Wt a network ! You couldn’t accessible my problem & not pass it to concerned support team . Unbelievable torcher , mentaly also wasting of time , money .   \n",
       "4                          I am already shared information on link which is provided by you. And also a mail received from amazon team but nobody pic up came for used product. Pls let me know when will it replace?   \n",
       "5                                                                                                                            & pls tell me when amazon pic up old & used shoes from my address? & replacement status?   \n",
       "...                                                                                                                                                                                                               ...   \n",
       "6284                                                                                  I know Amazon is trying to take over the world but they should really leave shipping to the more reliable @UPS @FedEx and @USPS   \n",
       "6285                                                                                                                       Amazon shipping I never have issues with @UPS or @FedEx it’s always always Amazon shipping   \n",
       "6286                                                                                                                                                                   Yes everytime I have to go pick up my packages   \n",
       "6287                                                                                                                                                 Thanks for your quick reply, i dont. wanna waste my subscription   \n",
       "6288                                                It says Delivery by Amazon. \\nApparently its been delivered to me (Handed to resident) Ive been home all day. Nothing on my door step and ive asked my neighbours   \n",
       "\n",
       "      reply_time  nb_tweets_of_user  following  followers  likes  \n",
       "1            5.0                191        275         19    246  \n",
       "2            6.0                191        275         19    246  \n",
       "3            3.0                191        275         19    246  \n",
       "4           42.0                191        275         19    246  \n",
       "5            5.0                191        275         19    246  \n",
       "...          ...                ...        ...        ...    ...  \n",
       "6284         8.0               1972        367         44   1518  \n",
       "6285        15.0               1972        367         44   1518  \n",
       "6286         4.0                168         23         69    460  \n",
       "6287         2.0               9857       1848        425   1078  \n",
       "6288         2.0               8742        205        101   2652  \n",
       "\n",
       "[4756 rows x 6 columns]"
      ]
     },
     "execution_count": 14,
     "metadata": {},
     "output_type": "execute_result"
    }
   ],
   "source": [
    "# Samples of answered tweets\n",
    "df[~np.isnan(df.reply_time)]"
   ]
  },
  {
   "cell_type": "code",
   "execution_count": 15,
   "metadata": {},
   "outputs": [
    {
     "data": {
      "text/html": [
       "<div>\n",
       "<style scoped>\n",
       "    .dataframe tbody tr th:only-of-type {\n",
       "        vertical-align: middle;\n",
       "    }\n",
       "\n",
       "    .dataframe tbody tr th {\n",
       "        vertical-align: top;\n",
       "    }\n",
       "\n",
       "    .dataframe thead th {\n",
       "        text-align: right;\n",
       "    }\n",
       "</style>\n",
       "<table border=\"1\" class=\"dataframe\">\n",
       "  <thead>\n",
       "    <tr style=\"text-align: right;\">\n",
       "      <th></th>\n",
       "      <th>raw</th>\n",
       "      <th>reply_time</th>\n",
       "      <th>nb_tweets_of_user</th>\n",
       "      <th>following</th>\n",
       "      <th>followers</th>\n",
       "      <th>likes</th>\n",
       "    </tr>\n",
       "  </thead>\n",
       "  <tbody>\n",
       "    <tr>\n",
       "      <th>0</th>\n",
       "      <td>Wt a disgusting amazon ! @JeffBezos @AmitAgarwal . You provide a link where we can put up issue . Its very bad experience for us . @ZeeNews @aajtak @ndtv @htTweets</td>\n",
       "      <td>NaN</td>\n",
       "      <td>191</td>\n",
       "      <td>275</td>\n",
       "      <td>19</td>\n",
       "      <td>246</td>\n",
       "    </tr>\n",
       "    <tr>\n",
       "      <th>14</th>\n",
       "      <td>7866061659 is call for refund your money this is fraud yes no</td>\n",
       "      <td>NaN</td>\n",
       "      <td>56</td>\n",
       "      <td>90</td>\n",
       "      <td>0</td>\n",
       "      <td>4</td>\n",
       "    </tr>\n",
       "    <tr>\n",
       "      <th>17</th>\n",
       "      <td>My account is locked mobile no 8882486916</td>\n",
       "      <td>NaN</td>\n",
       "      <td>56</td>\n",
       "      <td>90</td>\n",
       "      <td>0</td>\n",
       "      <td>4</td>\n",
       "    </tr>\n",
       "    <tr>\n",
       "      <th>18</th>\n",
       "      <td>It’s from Amazon @AmazonUK</td>\n",
       "      <td>NaN</td>\n",
       "      <td>89</td>\n",
       "      <td>11</td>\n",
       "      <td>1</td>\n",
       "      <td>39</td>\n",
       "    </tr>\n",
       "    <tr>\n",
       "      <th>19</th>\n",
       "      <td>Check DM. \\nI have sent details.</td>\n",
       "      <td>NaN</td>\n",
       "      <td>4669</td>\n",
       "      <td>65</td>\n",
       "      <td>97</td>\n",
       "      <td>4322</td>\n",
       "    </tr>\n",
       "    <tr>\n",
       "      <th>...</th>\n",
       "      <td>...</td>\n",
       "      <td>...</td>\n",
       "      <td>...</td>\n",
       "      <td>...</td>\n",
       "      <td>...</td>\n",
       "      <td>...</td>\n",
       "    </tr>\n",
       "    <tr>\n",
       "      <th>6268</th>\n",
       "      <td>They offered me another $10, which still leaves them short of the products price. How hard is it to just expedite me another stand? I’m literally trying to be such a nice guy here.</td>\n",
       "      <td>NaN</td>\n",
       "      <td>3123</td>\n",
       "      <td>925</td>\n",
       "      <td>216</td>\n",
       "      <td>11427</td>\n",
       "    </tr>\n",
       "    <tr>\n",
       "      <th>6274</th>\n",
       "      <td>Lol @AmazonHelp  will send you a $5 credit towards your account 😂😂😂</td>\n",
       "      <td>NaN</td>\n",
       "      <td>9325</td>\n",
       "      <td>1450</td>\n",
       "      <td>1498</td>\n",
       "      <td>8550</td>\n",
       "    </tr>\n",
       "    <tr>\n",
       "      <th>6276</th>\n",
       "      <td>I've been told by multiple customer service reps @Amazon that without my billing address, you cannot help me</td>\n",
       "      <td>NaN</td>\n",
       "      <td>764</td>\n",
       "      <td>104</td>\n",
       "      <td>76</td>\n",
       "      <td>145</td>\n",
       "    </tr>\n",
       "    <tr>\n",
       "      <th>6277</th>\n",
       "      <td>Full marks for the speedy response - thank you. But I’m really annoyed you’ve ruined my night in. I had to buy the DVD to continue watching. Thank goodness for @Cex who’ll get me the DVD for tomorrow for £8.</td>\n",
       "      <td>NaN</td>\n",
       "      <td>35230</td>\n",
       "      <td>675</td>\n",
       "      <td>268</td>\n",
       "      <td>155</td>\n",
       "    </tr>\n",
       "    <tr>\n",
       "      <th>6289</th>\n",
       "      <td>@AmazonHelp Hey, if I order this, will it be the same cover as pictured here?  pic.twitter.com/Q1e8V6dfV9</td>\n",
       "      <td>NaN</td>\n",
       "      <td>26279</td>\n",
       "      <td>1826</td>\n",
       "      <td>282</td>\n",
       "      <td>11234</td>\n",
       "    </tr>\n",
       "  </tbody>\n",
       "</table>\n",
       "<p>1534 rows × 6 columns</p>\n",
       "</div>"
      ],
      "text/plain": [
       "                                                                                                                                                                                                                  raw  \\\n",
       "0                                                 Wt a disgusting amazon ! @JeffBezos @AmitAgarwal . You provide a link where we can put up issue . Its very bad experience for us . @ZeeNews @aajtak @ndtv @htTweets   \n",
       "14                                                                                                                                                      7866061659 is call for refund your money this is fraud yes no   \n",
       "17                                                                                                                                                                          My account is locked mobile no 8882486916   \n",
       "18                                                                                                                                                                                         It’s from Amazon @AmazonUK   \n",
       "19                                                                                                                                                                                   Check DM. \\nI have sent details.   \n",
       "...                                                                                                                                                                                                               ...   \n",
       "6268                             They offered me another $10, which still leaves them short of the products price. How hard is it to just expedite me another stand? I’m literally trying to be such a nice guy here.   \n",
       "6274                                                                                                                                              Lol @AmazonHelp  will send you a $5 credit towards your account 😂😂😂   \n",
       "6276                                                                                                     I've been told by multiple customer service reps @Amazon that without my billing address, you cannot help me   \n",
       "6277  Full marks for the speedy response - thank you. But I’m really annoyed you’ve ruined my night in. I had to buy the DVD to continue watching. Thank goodness for @Cex who’ll get me the DVD for tomorrow for £8.   \n",
       "6289                                                                                                        @AmazonHelp Hey, if I order this, will it be the same cover as pictured here?  pic.twitter.com/Q1e8V6dfV9   \n",
       "\n",
       "      reply_time  nb_tweets_of_user  following  followers  likes  \n",
       "0            NaN                191        275         19    246  \n",
       "14           NaN                 56         90          0      4  \n",
       "17           NaN                 56         90          0      4  \n",
       "18           NaN                 89         11          1     39  \n",
       "19           NaN               4669         65         97   4322  \n",
       "...          ...                ...        ...        ...    ...  \n",
       "6268         NaN               3123        925        216  11427  \n",
       "6274         NaN               9325       1450       1498   8550  \n",
       "6276         NaN                764        104         76    145  \n",
       "6277         NaN              35230        675        268    155  \n",
       "6289         NaN              26279       1826        282  11234  \n",
       "\n",
       "[1534 rows x 6 columns]"
      ]
     },
     "execution_count": 15,
     "metadata": {},
     "output_type": "execute_result"
    }
   ],
   "source": [
    "# Samples of unanswered tweets\n",
    "df[np.isnan(df.reply_time)]"
   ]
  },
  {
   "cell_type": "markdown",
   "metadata": {},
   "source": [
    "# 2. Pre-processing"
   ]
  },
  {
   "cell_type": "markdown",
   "metadata": {},
   "source": [
    "### Change text"
   ]
  },
  {
   "cell_type": "code",
   "execution_count": 140,
   "metadata": {
    "scrolled": true
   },
   "outputs": [],
   "source": [
    "def remove_uppercase(text):\n",
    "    return text.lower()\n",
    "    \n",
    "def remove_punctuation(text):\n",
    "    \"\"\"custom function to remove the punctuation\"\"\"  \n",
    "    PUNCT_TO_REMOVE = string.punctuation\n",
    "    return text.translate(str.maketrans('', '', PUNCT_TO_REMOVE))\n",
    "\n",
    "def remove_stopwords(text):\n",
    "    \"\"\"custom function to remove the stopwords\"\"\"\n",
    "    from nltk.corpus import stopwords\n",
    "    STOPWORDS = set(stopwords.words('english'))\n",
    "    return \" \".join([word for word in str(text).split() if word not in STOPWORDS])\n",
    "\n",
    "def remove_urls(text):\n",
    "    words=[]\n",
    "    for w in text.split(\" \"):\n",
    "        if not(w.startswith(\"http\") or w.startswith(\"www\") or w.startswith(\"pic.twitter\")):\n",
    "            words+=[w]\n",
    "    return ' '.join(words)\n",
    "\n",
    "def get_frequent_words(column):\n",
    "    cnt = Counter()\n",
    "    for text in column.values:\n",
    "        for word in text.split():\n",
    "            cnt[word] += 1\n",
    "    FREQWORDS = set([w for (w, wc) in cnt.most_common(20)])\n",
    "    #RAREWORDS = set([w for (w, wc) in cnt.most_common()[:-10-1:-1]])\n",
    "    return FREQWORDS\n",
    "\n",
    "FREQWORDS = get_frequent_words(df.raw)\n",
    "def remove_frequent_words(text, FREQWORDS):\n",
    "    return \" \".join([word for word in str(text).split() if word not in FREQWORDS])\n",
    "\n",
    "def remove_numbers(text):\n",
    "    return re.sub(r'[0-9\\.]+', '', text)\n",
    "\n",
    "def remove_spaces(text):\n",
    "    return re.sub(' +', ' ', text)"
   ]
  },
  {
   "cell_type": "markdown",
   "metadata": {},
   "source": [
    "### Emoticons to words"
   ]
  },
  {
   "cell_type": "code",
   "execution_count": 130,
   "metadata": {},
   "outputs": [
    {
     "name": "stdout",
     "output_type": "stream",
     "text": [
      "game is on  fire fire  loudly_crying_face\n"
     ]
    }
   ],
   "source": [
    "def convert_emojis(text):\n",
    "    emo= emot.emoji(text)\n",
    "    for i in range(len(emo['value'])):\n",
    "        text = text.replace(emo['value'][i], \" \"+ emo['mean'][i]).replace(\":\",\"\")\n",
    "    return text\n",
    "\n",
    "text = \"game is on 🔥🔥 😭\"\n",
    "print(convert_emojis(text))"
   ]
  },
  {
   "cell_type": "markdown",
   "metadata": {},
   "source": [
    "### Chat words conversion"
   ]
  },
  {
   "cell_type": "code",
   "execution_count": 19,
   "metadata": {},
   "outputs": [],
   "source": [
    "words = \"../../source/slang.txt\"\n",
    "with open(words, 'r') as file:\n",
    "    chat_words_str = file.read()"
   ]
  },
  {
   "cell_type": "code",
   "execution_count": 20,
   "metadata": {},
   "outputs": [
    {
     "data": {
      "text/plain": [
       "'one minute Be Right Back'"
      ]
     },
     "execution_count": 20,
     "metadata": {},
     "output_type": "execute_result"
    }
   ],
   "source": [
    "chat_words_map_dict = {}\n",
    "chat_words_list = []\n",
    "\n",
    "for line in chat_words_str.split(\"\\n\"):\n",
    "    if line != \"\":\n",
    "        cw = line.split(\"=\")[0]\n",
    "        cw_expanded = line.split(\"=\")[1]\n",
    "        chat_words_list.append(cw)\n",
    "        chat_words_map_dict[cw] = cw_expanded\n",
    "\n",
    "def chat_words_conversion(text):\n",
    "    new_text = []\n",
    "    for w in text.split():\n",
    "        if w.upper() in chat_words_list:\n",
    "            new_text.append(chat_words_map_dict[w.upper()])\n",
    "        else:\n",
    "            new_text.append(w)\n",
    "    return \" \".join(new_text)\n",
    "\n",
    "chat_words_conversion(\"one minute BRB\")"
   ]
  },
  {
   "cell_type": "code",
   "execution_count": 21,
   "metadata": {},
   "outputs": [],
   "source": [
    "#df.raw.apply(chat_words_conversion)"
   ]
  },
  {
   "cell_type": "markdown",
   "metadata": {},
   "source": [
    "### Stemming"
   ]
  },
  {
   "cell_type": "code",
   "execution_count": 22,
   "metadata": {},
   "outputs": [],
   "source": [
    "#not so good results\n",
    "\n",
    "def stem_words(text):\n",
    "    stemmer = PorterStemmer()\n",
    "    return \" \".join([stemmer.stem(word) for word in text.split()])\n",
    "\n",
    "#df[\"stemmed\"] = df[\"raw\"].apply(lambda text: stem_words(text))\n",
    "#df.head()"
   ]
  },
  {
   "cell_type": "markdown",
   "metadata": {},
   "source": [
    "### Lemmatization"
   ]
  },
  {
   "cell_type": "code",
   "execution_count": 23,
   "metadata": {},
   "outputs": [
    {
     "data": {
      "text/plain": [
       "'hello I be buy a fruit'"
      ]
     },
     "execution_count": 23,
     "metadata": {},
     "output_type": "execute_result"
    }
   ],
   "source": [
    "lemmatizer = WordNetLemmatizer()\n",
    "wordnet_map = {\"N\":wordnet.NOUN, \"V\":wordnet.VERB, \"J\":wordnet.ADJ, \"R\":wordnet.ADV}\n",
    "\n",
    "def lemmatize_words(text):\n",
    "    pos_tagged_text = nltk.pos_tag(text.split())\n",
    "    return \" \".join([lemmatizer.lemmatize(word, wordnet_map.get(pos[0], wordnet.NOUN)) \n",
    "                     for word, pos in pos_tagged_text])\n",
    "    #return \" \".join([lemmatizer.lemmatize(word) for word in text.split()])\n",
    "\n",
    "ex = \"hello I am buying a fruit\"\n",
    "lemmatize_words(ex)\n",
    "#df[\"raw_lemmatized\"] = df[\"raw\"].apply(lambda text: lemmatize_words(text))\n",
    "#df.head()"
   ]
  },
  {
   "cell_type": "markdown",
   "metadata": {},
   "source": [
    "### Tokenisation"
   ]
  },
  {
   "cell_type": "code",
   "execution_count": 24,
   "metadata": {},
   "outputs": [],
   "source": [
    "import re\n",
    "\n",
    "def tokenize(text):\n",
    "    tokens = re.split('\\W+', text)\n",
    "    return tokens\n",
    "\n",
    "#df['tweet_tokenized']=df[\"tweet_lower\"].apply(lambda text: tokenize(text))"
   ]
  },
  {
   "cell_type": "markdown",
   "metadata": {},
   "source": [
    "Final function to do all preprocessing"
   ]
  },
  {
   "cell_type": "code",
   "execution_count": 141,
   "metadata": {},
   "outputs": [],
   "source": [
    "def preprocess(df):\n",
    "    df[\"clean_tweet\"] = df[\"raw\"].apply(lambda text: remove_uppercase(text))\n",
    "    df[\"clean_tweet\"] = df[\"clean_tweet\"].apply(lambda text: remove_punctuation(text))\n",
    "    df[\"clean_tweet\"] = df[\"clean_tweet\"].apply(lambda text: remove_stopwords(text))\n",
    "    df[\"clean_tweet\"] = df[\"clean_tweet\"].apply(lambda text: convert_emojis(text))\n",
    "    #FREQWORDS = get_frequent_words(df.clean_tweet)\n",
    "    #df[\"clean_tweet\"] = df[\"clean_tweet\"].apply(lambda text: remove_frequent_words(text, FREQWORDS))\n",
    "    #df[\"clean_tweet\"] = df[\"clean_tweet\"].apply(lambda text: remove_frequent_words(text))\n",
    "    df[\"clean_tweet\"] = df[\"clean_tweet\"].apply(lambda text: remove_urls(text))\n",
    "    df[\"clean_tweet\"] = df[\"clean_tweet\"].apply(lambda text: chat_words_conversion(text))\n",
    "    df[\"clean_tweet\"] = df[\"clean_tweet\"].apply(lambda text: remove_numbers(text))\n",
    "    \n",
    "    df[\"clean_tweet\"] = df[\"clean_tweet\"].apply(lambda text: lemmatize_words(text))\n",
    "    df[\"clean_tweet\"] = df[\"clean_tweet\"].apply(lambda text: remove_spaces(text))\n",
    "    # Remove small tweets\n",
    "    df = df[df['clean_tweet'].apply(lambda x: len(x) > 3)]\n",
    "    #df[\"clean_tweet_tokenized\"] = df[\"clean_tweet\"].apply(lambda text: tokenize(text))\n",
    "    \n",
    "    return df"
   ]
  },
  {
   "cell_type": "code",
   "execution_count": 26,
   "metadata": {},
   "outputs": [],
   "source": [
    "df = preprocess(df)"
   ]
  },
  {
   "cell_type": "markdown",
   "metadata": {},
   "source": [
    "# 3. Feature engineering & Data analysis"
   ]
  },
  {
   "cell_type": "markdown",
   "metadata": {},
   "source": [
    "### Reply time "
   ]
  },
  {
   "cell_type": "code",
   "execution_count": 27,
   "metadata": {},
   "outputs": [],
   "source": [
    "df['has_reply'] = df['reply_time'].map(lambda x : not(math.isnan(x)))"
   ]
  },
  {
   "cell_type": "code",
   "execution_count": 28,
   "metadata": {},
   "outputs": [
    {
     "data": {
      "text/plain": [
       "True     4702\n",
       "False    1513\n",
       "Name: has_reply, dtype: int64"
      ]
     },
     "execution_count": 28,
     "metadata": {},
     "output_type": "execute_result"
    }
   ],
   "source": [
    "df['has_reply'].value_counts()"
   ]
  },
  {
   "cell_type": "code",
   "execution_count": 29,
   "metadata": {},
   "outputs": [
    {
     "name": "stdout",
     "output_type": "stream",
     "text": [
      "Pourcentage de tweets répondus\n"
     ]
    },
    {
     "data": {
      "text/plain": [
       "75.65567176186646"
      ]
     },
     "execution_count": 29,
     "metadata": {},
     "output_type": "execute_result"
    }
   ],
   "source": [
    "print (\"Pourcentage de tweets répondus\")\n",
    "len(df[df['has_reply']==True])*100/len(df)"
   ]
  },
  {
   "cell_type": "code",
   "execution_count": 30,
   "metadata": {
    "scrolled": true
   },
   "outputs": [
    {
     "data": {
      "image/png": "[encoded data removed]",
      "text/plain": [
       "<Figure size 432x288 with 1 Axes>"
      ]
     },
     "metadata": {
      "needs_background": "light"
     },
     "output_type": "display_data"
    }
   ],
   "source": [
    "bins=np.linspace(0,100,100)\n",
    "plt.hist(df['reply_time'],bins)\n",
    "plt.show()"
   ]
  },
  {
   "cell_type": "code",
   "execution_count": 31,
   "metadata": {
    "scrolled": true
   },
   "outputs": [
    {
     "name": "stdout",
     "output_type": "stream",
     "text": [
      "count   4702.000000\n",
      "mean      28.423862\n",
      "std      192.826470\n",
      "min        0.000000\n",
      "25%        3.000000\n",
      "50%        5.000000\n",
      "75%       10.000000\n",
      "max     4435.000000\n",
      "Name: reply_time, dtype: float64\n"
     ]
    }
   ],
   "source": [
    "with pd.option_context('float_format', '{:f}'.format):\n",
    "    print(df.reply_time.describe())"
   ]
  },
  {
   "cell_type": "code",
   "execution_count": 32,
   "metadata": {},
   "outputs": [],
   "source": [
    "df[\"reply_time\"] = df[\"reply_time\"].astype('float')"
   ]
  },
  {
   "cell_type": "code",
   "execution_count": 41,
   "metadata": {
    "scrolled": true
   },
   "outputs": [
    {
     "name": "stdout",
     "output_type": "stream",
     "text": [
      "count   4631.000000\n",
      "mean      28.859642\n",
      "std      194.266947\n",
      "min        1.000000\n",
      "25%        3.000000\n",
      "50%        5.000000\n",
      "75%       10.000000\n",
      "max     4435.000000\n",
      "Name: reply_time, dtype: float64\n"
     ]
    }
   ],
   "source": [
    "with pd.option_context('float_format', '{:f}'.format):\n",
    "    print(df[df[\"reply_time\"]>0].reply_time.describe())"
   ]
  },
  {
   "cell_type": "markdown",
   "metadata": {},
   "source": [
    "##### Create a target column if we want classification to be more precise "
   ]
  },
  {
   "cell_type": "code",
   "execution_count": 35,
   "metadata": {
    "scrolled": true
   },
   "outputs": [
    {
     "data": {
      "text/plain": [
       "2011"
      ]
     },
     "execution_count": 35,
     "metadata": {},
     "output_type": "execute_result"
    }
   ],
   "source": [
    "len(df[df.reply_time<5])"
   ]
  },
  {
   "cell_type": "code",
   "execution_count": 37,
   "metadata": {},
   "outputs": [
    {
     "data": {
      "text/html": [
       "<div>\n",
       "<style scoped>\n",
       "    .dataframe tbody tr th:only-of-type {\n",
       "        vertical-align: middle;\n",
       "    }\n",
       "\n",
       "    .dataframe tbody tr th {\n",
       "        vertical-align: top;\n",
       "    }\n",
       "\n",
       "    .dataframe thead th {\n",
       "        text-align: right;\n",
       "    }\n",
       "</style>\n",
       "<table border=\"1\" class=\"dataframe\">\n",
       "  <thead>\n",
       "    <tr style=\"text-align: right;\">\n",
       "      <th></th>\n",
       "      <th>raw</th>\n",
       "      <th>reply_time</th>\n",
       "      <th>nb_tweets_of_user</th>\n",
       "      <th>following</th>\n",
       "      <th>followers</th>\n",
       "      <th>likes</th>\n",
       "      <th>clean_tweet</th>\n",
       "      <th>has_reply</th>\n",
       "    </tr>\n",
       "  </thead>\n",
       "  <tbody>\n",
       "    <tr>\n",
       "      <th>3</th>\n",
       "      <td>I think you don’t have dignity of valuable customers. Wt a network ! You couldn’t accessible my problem &amp; not pass it to concerned support team . Unbelievable torcher , mentaly also wasting of time , money .</td>\n",
       "      <td>3.0</td>\n",
       "      <td>191</td>\n",
       "      <td>275</td>\n",
       "      <td>19</td>\n",
       "      <td>246</td>\n",
       "      <td>think don’t dignity valuable customer wt network couldn’t accessible problem pas concern support team unbelievable torcher mentaly also waste money</td>\n",
       "      <td>True</td>\n",
       "    </tr>\n",
       "    <tr>\n",
       "      <th>7</th>\n",
       "      <td>Pls find attachment... this is my detail pic.twitter.com/aBpjt1O0cS</td>\n",
       "      <td>2.0</td>\n",
       "      <td>191</td>\n",
       "      <td>275</td>\n",
       "      <td>19</td>\n",
       "      <td>246</td>\n",
       "      <td>Please find attachment detail pictwittercomabpjtocs</td>\n",
       "      <td>True</td>\n",
       "    </tr>\n",
       "    <tr>\n",
       "      <th>9</th>\n",
       "      <td>How many time i will share detail ? . I am not a animal who live in jungl.. i have lot of work so you can take my order detail from attachment. Disgusting! @JeffBezos pic.twitter.com/xQV3KQXEt9</td>\n",
       "      <td>1.0</td>\n",
       "      <td>191</td>\n",
       "      <td>275</td>\n",
       "      <td>19</td>\n",
       "      <td>246</td>\n",
       "      <td>many share detail animal live jungl lot work take detail attachment disgust jeffbezos pictwittercomxqvkqxet</td>\n",
       "      <td>True</td>\n",
       "    </tr>\n",
       "    <tr>\n",
       "      <th>10</th>\n",
       "      <td>It’s disrespectful for us . We are trying to talk amazon team but they directly refused that its your order we can’t help . And why are you expect from us that we will not put this matter on publicly. Wah! @JeffBezos</td>\n",
       "      <td>4.0</td>\n",
       "      <td>191</td>\n",
       "      <td>275</td>\n",
       "      <td>19</td>\n",
       "      <td>246</td>\n",
       "      <td>it’s disrespectful u try talk team directly refuse can’t expect u put matter publicly wah jeffbezos</td>\n",
       "      <td>True</td>\n",
       "    </tr>\n",
       "    <tr>\n",
       "      <th>11</th>\n",
       "      <td>@AmazonHelp I couldn’t receive my originiazl order as per my order specifications . I have received old shoes as per my order number 407-8606818-4694719. Pls solve my problems on urgent base . Nobody responded from amazon support team and rudely talk to m wfe  pic.twitter.com/TCPtsLC3sE</td>\n",
       "      <td>4.0</td>\n",
       "      <td>191</td>\n",
       "      <td>275</td>\n",
       "      <td>19</td>\n",
       "      <td>246</td>\n",
       "      <td>couldn’t receive originiazl per specification receive old shoe per number Please solve problem urgent base nobody respond support team rudely talk wfe pictwittercomtcptslcse</td>\n",
       "      <td>True</td>\n",
       "    </tr>\n",
       "  </tbody>\n",
       "</table>\n",
       "</div>"
      ],
      "text/plain": [
       "                                                                                                                                                                                                                                                                                                raw  \\\n",
       "3                                                                                   I think you don’t have dignity of valuable customers. Wt a network ! You couldn’t accessible my problem & not pass it to concerned support team . Unbelievable torcher , mentaly also wasting of time , money .   \n",
       "7                                                                                                                                                                                                                               Pls find attachment... this is my detail pic.twitter.com/aBpjt1O0cS   \n",
       "9                                                                                                 How many time i will share detail ? . I am not a animal who live in jungl.. i have lot of work so you can take my order detail from attachment. Disgusting! @JeffBezos pic.twitter.com/xQV3KQXEt9   \n",
       "10                                                                         It’s disrespectful for us . We are trying to talk amazon team but they directly refused that its your order we can’t help . And why are you expect from us that we will not put this matter on publicly. Wah! @JeffBezos   \n",
       "11  @AmazonHelp I couldn’t receive my originiazl order as per my order specifications . I have received old shoes as per my order number 407-8606818-4694719. Pls solve my problems on urgent base . Nobody responded from amazon support team and rudely talk to m wfe  pic.twitter.com/TCPtsLC3sE   \n",
       "\n",
       "    reply_time  nb_tweets_of_user  following  followers  likes  \\\n",
       "3          3.0                191        275         19    246   \n",
       "7          2.0                191        275         19    246   \n",
       "9          1.0                191        275         19    246   \n",
       "10         4.0                191        275         19    246   \n",
       "11         4.0                191        275         19    246   \n",
       "\n",
       "                                                                                                                                                                      clean_tweet  \\\n",
       "3                             think don’t dignity valuable customer wt network couldn’t accessible problem pas concern support team unbelievable torcher mentaly also waste money   \n",
       "7                                                                                                                             Please find attachment detail pictwittercomabpjtocs   \n",
       "9                                                                     many share detail animal live jungl lot work take detail attachment disgust jeffbezos pictwittercomxqvkqxet   \n",
       "10                                                                            it’s disrespectful u try talk team directly refuse can’t expect u put matter publicly wah jeffbezos   \n",
       "11  couldn’t receive originiazl per specification receive old shoe per number Please solve problem urgent base nobody respond support team rudely talk wfe pictwittercomtcptslcse   \n",
       "\n",
       "    has_reply  \n",
       "3        True  \n",
       "7        True  \n",
       "9        True  \n",
       "10       True  \n",
       "11       True  "
      ]
     },
     "execution_count": 37,
     "metadata": {},
     "output_type": "execute_result"
    }
   ],
   "source": [
    "df[df.reply_time<5].head()"
   ]
  },
  {
   "cell_type": "code",
   "execution_count": 42,
   "metadata": {},
   "outputs": [],
   "source": [
    "# Tweet is urgent if answer in less than 5 minutes\n",
    "df['objective'] = df['reply_time'].map(lambda x : (x < 8))"
   ]
  },
  {
   "cell_type": "code",
   "execution_count": 43,
   "metadata": {},
   "outputs": [
    {
     "data": {
      "text/plain": [
       "False    3154\n",
       "True     3061\n",
       "Name: objective, dtype: int64"
      ]
     },
     "execution_count": 43,
     "metadata": {},
     "output_type": "execute_result"
    }
   ],
   "source": [
    "df.objective.value_counts()"
   ]
  },
  {
   "cell_type": "code",
   "execution_count": 45,
   "metadata": {},
   "outputs": [
    {
     "name": "stdout",
     "output_type": "stream",
     "text": [
      "Pourcentage de tweets catégorisés positifs pour l'urgence\n"
     ]
    },
    {
     "data": {
      "text/plain": [
       "49.25181013676589"
      ]
     },
     "execution_count": 45,
     "metadata": {},
     "output_type": "execute_result"
    }
   ],
   "source": [
    "print (\"Pourcentage de tweets catégorisés positifs pour l'urgence\")\n",
    "len(df[df['objective']==True])*100/len(df)"
   ]
  },
  {
   "cell_type": "markdown",
   "metadata": {},
   "source": [
    "### Tweet length"
   ]
  },
  {
   "cell_type": "code",
   "execution_count": 46,
   "metadata": {},
   "outputs": [],
   "source": [
    "df['length']=df['raw'].apply(lambda x:len(x)-x.count(\" \"))"
   ]
  },
  {
   "cell_type": "code",
   "execution_count": 47,
   "metadata": {},
   "outputs": [
    {
     "data": {
      "text/plain": [
       "<matplotlib.axes._subplots.AxesSubplot at 0x159bcc626a0>"
      ]
     },
     "execution_count": 47,
     "metadata": {},
     "output_type": "execute_result"
    },
    {
     "data": {
      "image/png": "[encoded data removed]",
      "text/plain": [
       "<Figure size 432x288 with 1 Axes>"
      ]
     },
     "metadata": {
      "needs_background": "light"
     },
     "output_type": "display_data"
    }
   ],
   "source": [
    "df.length.plot.hist(bins=7)"
   ]
  },
  {
   "cell_type": "code",
   "execution_count": 48,
   "metadata": {
    "collapsed": true
   },
   "outputs": [
    {
     "name": "stderr",
     "output_type": "stream",
     "text": [
      "C:\\Users\\carol\\Anaconda3\\lib\\site-packages\\ipykernel_launcher.py:2: MatplotlibDeprecationWarning: \n",
      "The 'normed' kwarg was deprecated in Matplotlib 2.1 and will be removed in 3.1. Use 'density' instead.\n",
      "  \n",
      "C:\\Users\\carol\\Anaconda3\\lib\\site-packages\\ipykernel_launcher.py:3: MatplotlibDeprecationWarning: \n",
      "The 'normed' kwarg was deprecated in Matplotlib 2.1 and will be removed in 3.1. Use 'density' instead.\n",
      "  This is separate from the ipykernel package so we can avoid doing imports until\n"
     ]
    },
    {
     "data": {
      "image/png": "[encoded data removed]",
      "text/plain": [
       "<Figure size 432x288 with 1 Axes>"
      ]
     },
     "metadata": {
      "needs_background": "light"
     },
     "output_type": "display_data"
    }
   ],
   "source": [
    "bins=np.linspace(0,430,30)\n",
    "plt.hist(df[df.has_reply==True]['length'],bins, alpha=0.5, normed=True, label='Urgent')\n",
    "plt.hist(df[df.has_reply==False]['length'],bins, alpha=0.5, normed=True, label='Non-Urgent')\n",
    "plt.legend(loc='upper right')\n",
    "plt.xlabel(\"Length of tweet\")\n",
    "plt.ylabel(\"Frequency\")\n",
    "plt.show()"
   ]
  },
  {
   "cell_type": "code",
   "execution_count": 49,
   "metadata": {},
   "outputs": [
    {
     "data": {
      "text/plain": [
       "Text(0.5, 1.0, 'Distribution of urgent tweets (True) and non-urgent (False) according to tweet length')"
      ]
     },
     "execution_count": 49,
     "metadata": {},
     "output_type": "execute_result"
    },
    {
     "data": {
      "image/png": "[encoded data removed]",
      "text/plain": [
       "<Figure size 432x288 with 1 Axes>"
      ]
     },
     "metadata": {
      "needs_background": "light"
     },
     "output_type": "display_data"
    }
   ],
   "source": [
    "replies = df.has_reply.unique()\n",
    "plt.hist([df.loc[df.has_reply == x, 'length'] for x in replies], label=replies, stacked=True, bins=30)\n",
    "plt.legend(loc='upper right')\n",
    "plt.xlabel(\"Length of tweet\")\n",
    "plt.ylabel(\"Number of tweets\")\n",
    "plt.title(\"Distribution of urgent tweets (True) and non-urgent (False) according to tweet length\")"
   ]
  },
  {
   "cell_type": "code",
   "execution_count": 50,
   "metadata": {},
   "outputs": [
    {
     "data": {
      "text/plain": [
       "count    6215.000000\n",
       "mean      116.730008\n",
       "std        72.304956\n",
       "min         4.000000\n",
       "25%        54.000000\n",
       "50%       106.000000\n",
       "75%       178.500000\n",
       "max       421.000000\n",
       "Name: length, dtype: float64"
      ]
     },
     "execution_count": 50,
     "metadata": {},
     "output_type": "execute_result"
    }
   ],
   "source": [
    "df.length.describe()"
   ]
  },
  {
   "cell_type": "markdown",
   "metadata": {},
   "source": [
    "### Uppercase percentage"
   ]
  },
  {
   "cell_type": "code",
   "execution_count": 51,
   "metadata": {},
   "outputs": [],
   "source": [
    "def count_upper(text):\n",
    "    count = sum([1 for char in text if char.isupper()])\n",
    "    return round(count/(len(text)-text.count(\" \")),3)*100\n",
    "\n",
    "df['upper']=df['raw'].apply(count_upper)"
   ]
  },
  {
   "cell_type": "code",
   "execution_count": 54,
   "metadata": {},
   "outputs": [
    {
     "data": {
      "text/plain": [
       "Text(0.5, 1.0, 'Distribution of urgent tweets (True) and non-urgent (False) according to upper character density')"
      ]
     },
     "execution_count": 54,
     "metadata": {},
     "output_type": "execute_result"
    },
    {
     "data": {
      "image/png": "[encoded data removed]",
      "text/plain": [
       "<Figure size 432x288 with 1 Axes>"
      ]
     },
     "metadata": {
      "needs_background": "light"
     },
     "output_type": "display_data"
    }
   ],
   "source": [
    "replies = df.has_reply.unique()\n",
    "plt.hist([df.loc[df.has_reply == x, 'upper'] for x in replies], label=replies, stacked=True, bins=30)\n",
    "plt.legend(loc='upper right')\n",
    "plt.xlabel(\"Upper character density, in %\")\n",
    "plt.ylabel(\"Number of tweets\")\n",
    "plt.title(\"Distribution of urgent tweets (True) and non-urgent (False) according to upper character density\")"
   ]
  },
  {
   "cell_type": "markdown",
   "metadata": {},
   "source": [
    "### Punctuation percentage"
   ]
  },
  {
   "cell_type": "code",
   "execution_count": 55,
   "metadata": {},
   "outputs": [],
   "source": [
    "def count_punct(text):\n",
    "    count = sum([1 for char in text if char in string.punctuation])\n",
    "    return round(count/(len(text)-text.count(\" \")),3)*100\n",
    "\n",
    "df['punct']=df['raw'].apply(count_punct)"
   ]
  },
  {
   "cell_type": "code",
   "execution_count": 56,
   "metadata": {},
   "outputs": [
    {
     "data": {
      "text/plain": [
       "<matplotlib.axes._subplots.AxesSubplot at 0x159bcf9bfd0>"
      ]
     },
     "execution_count": 56,
     "metadata": {},
     "output_type": "execute_result"
    },
    {
     "data": {
      "image/png": "[encoded data removed]",
      "text/plain": [
       "<Figure size 432x288 with 1 Axes>"
      ]
     },
     "metadata": {
      "needs_background": "light"
     },
     "output_type": "display_data"
    }
   ],
   "source": [
    "df.punct.plot.hist(bins=20)"
   ]
  },
  {
   "cell_type": "code",
   "execution_count": 58,
   "metadata": {},
   "outputs": [
    {
     "name": "stderr",
     "output_type": "stream",
     "text": [
      "C:\\Users\\carol\\Anaconda3\\lib\\site-packages\\ipykernel_launcher.py:2: MatplotlibDeprecationWarning: \n",
      "The 'normed' kwarg was deprecated in Matplotlib 2.1 and will be removed in 3.1. Use 'density' instead.\n",
      "  \n",
      "C:\\Users\\carol\\Anaconda3\\lib\\site-packages\\ipykernel_launcher.py:3: MatplotlibDeprecationWarning: \n",
      "The 'normed' kwarg was deprecated in Matplotlib 2.1 and will be removed in 3.1. Use 'density' instead.\n",
      "  This is separate from the ipykernel package so we can avoid doing imports until\n"
     ]
    },
    {
     "data": {
      "image/png": "[encoded data removed]",
      "text/plain": [
       "<Figure size 432x288 with 1 Axes>"
      ]
     },
     "metadata": {
      "needs_background": "light"
     },
     "output_type": "display_data"
    }
   ],
   "source": [
    "bins=np.linspace(0,15,30)\n",
    "plt.hist(df[df.has_reply==True]['punct'],bins, alpha=0.5, normed=True, label='Urgent')\n",
    "plt.hist(df[df.has_reply==False]['punct'],bins, alpha=0.5, normed=True, label='Non-Urgent')\n",
    "plt.legend(loc='upper right')\n",
    "plt.show()"
   ]
  },
  {
   "cell_type": "code",
   "execution_count": 59,
   "metadata": {},
   "outputs": [
    {
     "data": {
      "text/plain": [
       "count    6215.000000\n",
       "mean        4.508737\n",
       "std         3.534472\n",
       "min         0.000000\n",
       "25%         2.300000\n",
       "50%         3.900000\n",
       "75%         5.900000\n",
       "max        44.400000\n",
       "Name: punct, dtype: float64"
      ]
     },
     "execution_count": 59,
     "metadata": {},
     "output_type": "execute_result"
    }
   ],
   "source": [
    "df.punct.describe()"
   ]
  },
  {
   "cell_type": "code",
   "execution_count": 60,
   "metadata": {},
   "outputs": [
    {
     "data": {
      "text/plain": [
       "Text(0.5, 1.0, 'Distribution of urgent tweets (True) and non-urgent (False) according to punctuation density')"
      ]
     },
     "execution_count": 60,
     "metadata": {},
     "output_type": "execute_result"
    },
    {
     "data": {
      "image/png": "[encoded data removed]",
      "text/plain": [
       "<Figure size 432x288 with 1 Axes>"
      ]
     },
     "metadata": {
      "needs_background": "light"
     },
     "output_type": "display_data"
    }
   ],
   "source": [
    "replies = df.has_reply.unique()\n",
    "plt.hist([df.loc[df.has_reply == x, 'punct'] for x in replies], label=replies, stacked=True, bins=30)\n",
    "plt.legend(loc='upper right')\n",
    "plt.xlabel(\"Punctuation density, in %\")\n",
    "plt.ylabel(\"Number of tweets\")\n",
    "plt.title(\"Distribution of urgent tweets (True) and non-urgent (False) according to punctuation density\")"
   ]
  },
  {
   "cell_type": "markdown",
   "metadata": {},
   "source": [
    "### Direct mention of brand in tweet"
   ]
  },
  {
   "cell_type": "code",
   "execution_count": 74,
   "metadata": {},
   "outputs": [],
   "source": [
    "brand_account = \"@AmazonHelp\""
   ]
  },
  {
   "cell_type": "code",
   "execution_count": 75,
   "metadata": {},
   "outputs": [],
   "source": [
    "df[\"direct_mention\"] = df[\"raw\"].apply(lambda x: brand_account in x)"
   ]
  },
  {
   "cell_type": "code",
   "execution_count": 76,
   "metadata": {},
   "outputs": [
    {
     "data": {
      "text/plain": [
       "False    4558\n",
       "True     1657\n",
       "Name: direct_mention, dtype: int64"
      ]
     },
     "execution_count": 76,
     "metadata": {},
     "output_type": "execute_result"
    }
   ],
   "source": [
    "df.direct_mention.value_counts()"
   ]
  },
  {
   "cell_type": "code",
   "execution_count": 77,
   "metadata": {},
   "outputs": [
    {
     "data": {
      "text/plain": [
       "Text(0.5, 1.0, 'Distribution of urgent tweets (True) and non-urgent (False) according to direct_mention')"
      ]
     },
     "execution_count": 77,
     "metadata": {},
     "output_type": "execute_result"
    },
    {
     "data": {
      "image/png": "[encoded data removed]",
      "text/plain": [
       "<Figure size 432x288 with 1 Axes>"
      ]
     },
     "metadata": {
      "needs_background": "light"
     },
     "output_type": "display_data"
    }
   ],
   "source": [
    "replies = df.has_reply.unique()\n",
    "plt.hist([df.loc[df.has_reply == x, 'direct_mention'] for x in replies], label=replies, stacked=True, bins=30)\n",
    "plt.legend(loc='upper right')\n",
    "plt.xlabel(\"Direct_mention\")\n",
    "plt.ylabel(\"Number of tweets\")\n",
    "plt.title(\"Distribution of urgent tweets (True) and non-urgent (False) according to direct_mention\")"
   ]
  },
  {
   "cell_type": "code",
   "execution_count": 78,
   "metadata": {},
   "outputs": [
    {
     "data": {
      "text/plain": [
       "66.0229330114665"
      ]
     },
     "execution_count": 78,
     "metadata": {},
     "output_type": "execute_result"
    }
   ],
   "source": [
    "len(df[(df['direct_mention']==True)&(df['has_reply']==True)])*100/len(df[df['direct_mention']==True])"
   ]
  },
  {
   "cell_type": "code",
   "execution_count": 79,
   "metadata": {},
   "outputs": [
    {
     "data": {
      "text/plain": [
       "33.977066988533494"
      ]
     },
     "execution_count": 79,
     "metadata": {},
     "output_type": "execute_result"
    }
   ],
   "source": [
    "len(df[(df['direct_mention']==True)&(df['has_reply']==False)])*100/len(df[df['direct_mention']==True])"
   ]
  },
  {
   "cell_type": "code",
   "execution_count": 80,
   "metadata": {},
   "outputs": [
    {
     "data": {
      "text/plain": [
       "79.1575252303642"
      ]
     },
     "execution_count": 80,
     "metadata": {},
     "output_type": "execute_result"
    }
   ],
   "source": [
    "len(df[(df['direct_mention']==False)&(df['has_reply']==True)])*100/len(df[df['direct_mention']==False])"
   ]
  },
  {
   "cell_type": "code",
   "execution_count": 81,
   "metadata": {},
   "outputs": [
    {
     "data": {
      "text/plain": [
       "20.842474769635807"
      ]
     },
     "execution_count": 81,
     "metadata": {},
     "output_type": "execute_result"
    }
   ],
   "source": [
    "len(df[(df['direct_mention']==False)&(df['has_reply']==False)])*100/len(df[df['direct_mention']==False])"
   ]
  },
  {
   "cell_type": "code",
   "execution_count": 82,
   "metadata": {},
   "outputs": [
    {
     "data": {
      "text/plain": [
       "Text(0.5, 1.0, 'Distribution of tweets containing a direct mention')"
      ]
     },
     "execution_count": 82,
     "metadata": {},
     "output_type": "execute_result"
    },
    {
     "data": {
      "image/png": "[encoded data removed]",
      "text/plain": [
       "<Figure size 432x288 with 1 Axes>"
      ]
     },
     "metadata": {},
     "output_type": "display_data"
    }
   ],
   "source": [
    "values = [33.9, 66]\n",
    "plt.pie(values, labels=df.has_reply.unique(), autopct='%1.1f%%', startangle=90)\n",
    "plt.title(\"Distribution of tweets containing a direct mention\")"
   ]
  },
  {
   "cell_type": "code",
   "execution_count": 83,
   "metadata": {},
   "outputs": [
    {
     "data": {
      "text/plain": [
       "Text(0.5, 1.0, 'Distribution of tweets not containing a direct mention')"
      ]
     },
     "execution_count": 83,
     "metadata": {},
     "output_type": "execute_result"
    },
    {
     "data": {
      "image/png": "[encoded data removed]",
      "text/plain": [
       "<Figure size 432x288 with 1 Axes>"
      ]
     },
     "metadata": {},
     "output_type": "display_data"
    }
   ],
   "source": [
    "values = [20.9, 79.1]\n",
    "plt.pie(values, labels=df.has_reply.unique(), autopct='%1.1f%%', startangle=90)\n",
    "plt.title(\"Distribution of tweets not containing a direct mention\")"
   ]
  },
  {
   "cell_type": "markdown",
   "metadata": {},
   "source": [
    "### Sentiment analysis of tweet"
   ]
  },
  {
   "cell_type": "code",
   "execution_count": 84,
   "metadata": {},
   "outputs": [
    {
     "data": {
      "text/plain": [
       "True"
      ]
     },
     "execution_count": 84,
     "metadata": {},
     "output_type": "execute_result"
    }
   ],
   "source": [
    "##SENTIMENT ANALYSIS\n",
    "\n",
    "text = \"Literally about to cancel Amazon Prime. Pretty much the only reason being the removal of Seinfeld! Sorry @primevideouk @AmazonHelp\"\n",
    "text = \"I love that\"\n",
    "\n",
    "opinion = TextBlob(text, analyzer=NaiveBayesAnalyzer())\n",
    "opinion.sentiment\n",
    "opinion.sentiment.classification == 'pos'"
   ]
  },
  {
   "cell_type": "code",
   "execution_count": 85,
   "metadata": {},
   "outputs": [
    {
     "name": "stderr",
     "output_type": "stream",
     "text": [
      "C:\\Users\\carol\\Anaconda3\\lib\\site-packages\\tqdm\\std.py:658: FutureWarning: The Panel class is removed from pandas. Accessing it from the top-level namespace will also be removed in the next version\n",
      "  from pandas import Panel\n"
     ]
    },
    {
     "data": {
      "application/vnd.jupyter.widget-view+json": {
       "model_id": "1afb60b2271d496490ca963c02c32aaa",
       "version_major": 2,
       "version_minor": 0
      },
      "text/plain": [
       "HBox(children=(FloatProgress(value=0.0, max=6215.0), HTML(value='')))"
      ]
     },
     "metadata": {},
     "output_type": "display_data"
    },
    {
     "name": "stdout",
     "output_type": "stream",
     "text": [
      "\n"
     ]
    }
   ],
   "source": [
    "tqdm.pandas()\n",
    "analyzer=NaiveBayesAnalyzer()\n",
    "df[\"positive_sentiment\"] = df[\"raw\"].progress_apply(lambda x:  TextBlob(x, analyzer=analyzer).sentiment.classification == 'pos')"
   ]
  },
  {
   "cell_type": "code",
   "execution_count": 86,
   "metadata": {},
   "outputs": [
    {
     "data": {
      "text/plain": [
       "Text(0.5, 1.0, 'Distribution of urgent tweets (True) and non-urgent (False) according to sentiment')"
      ]
     },
     "execution_count": 86,
     "metadata": {},
     "output_type": "execute_result"
    },
    {
     "data": {
      "image/png": "[encoded data removed]",
      "text/plain": [
       "<Figure size 432x288 with 1 Axes>"
      ]
     },
     "metadata": {
      "needs_background": "light"
     },
     "output_type": "display_data"
    }
   ],
   "source": [
    "replies = df.has_reply.unique()\n",
    "plt.hist([df.loc[df.has_reply == x, 'positive_sentiment'] for x in replies], label=replies, stacked=True)\n",
    "plt.legend(loc='upper right')\n",
    "plt.xlabel(\"Sentiment\")\n",
    "plt.ylabel(\"Number of tweets\")\n",
    "plt.title(\"Distribution of urgent tweets (True) and non-urgent (False) according to sentiment\")"
   ]
  },
  {
   "cell_type": "code",
   "execution_count": 87,
   "metadata": {},
   "outputs": [
    {
     "data": {
      "text/plain": [
       "True     3625\n",
       "False    2590\n",
       "Name: positive_sentiment, dtype: int64"
      ]
     },
     "execution_count": 87,
     "metadata": {},
     "output_type": "execute_result"
    }
   ],
   "source": [
    "df.positive_sentiment.value_counts()"
   ]
  },
  {
   "cell_type": "markdown",
   "metadata": {},
   "source": [
    "### Upsampling / Downsampling "
   ]
  },
  {
   "cell_type": "code",
   "execution_count": 88,
   "metadata": {},
   "outputs": [],
   "source": [
    "def downsampling(X_train, y_train):\n",
    "\n",
    "    print(X_train.shape)\n",
    "    print(y_train.shape)\n",
    "    \n",
    "    count_class_true, count_class_false = y_train.value_counts()\n",
    "    print(\"Before downsampling True / False\")\n",
    "    print(count_class_true, count_class_false)\n",
    "    \n",
    "    count_class = min(count_class_true, count_class_false)\n",
    "    \n",
    "    true_index = np.where(y_train==True)[0].tolist()\n",
    "    false_index = np.where(y_train==False)[0].tolist()\n",
    "    \n",
    "    # Divide by class\n",
    "    X_class_true = X_train[X_train.index.isin(true_index)]\n",
    "    X_class_false = X_train[X_train.index.isin(false_index)]\n",
    "\n",
    "\n",
    "    X_class_false_under = X_class_false.sample(count_class, replace=True)\n",
    "    X_class_true_under = X_class_true.sample(count_class,replace=True)\n",
    "    \n",
    "    X_df = pd.concat([X_class_false_under, X_class_true_under], axis=0)\n",
    "    y_df = y_train[y_train.index.isin(X_df.index)]\n",
    "\n",
    "\n",
    "    count_class_true, count_class_false = y_df.value_counts()\n",
    "    print(\"After downsampling True / False\")\n",
    "    print(count_class_true, count_class_false)\n",
    "    \n",
    "    return X_df, y_df"
   ]
  },
  {
   "cell_type": "markdown",
   "metadata": {},
   "source": [
    "# 4. Models"
   ]
  },
  {
   "cell_type": "markdown",
   "metadata": {},
   "source": [
    "# 4A. Final pre-processing"
   ]
  },
  {
   "cell_type": "code",
   "execution_count": 89,
   "metadata": {},
   "outputs": [],
   "source": [
    "df = preprocess(df)"
   ]
  },
  {
   "cell_type": "code",
   "execution_count": 90,
   "metadata": {},
   "outputs": [
    {
     "data": {
      "text/plain": [
       "6215"
      ]
     },
     "execution_count": 90,
     "metadata": {},
     "output_type": "execute_result"
    }
   ],
   "source": [
    "len(df)"
   ]
  },
  {
   "cell_type": "code",
   "execution_count": 92,
   "metadata": {},
   "outputs": [],
   "source": [
    "#get_frequent_words(df.clean_tweet)"
   ]
  },
  {
   "cell_type": "markdown",
   "metadata": {},
   "source": [
    "# 4B. Vectorization"
   ]
  },
  {
   "cell_type": "markdown",
   "metadata": {},
   "source": [
    "###  1. Bag Of Words"
   ]
  },
  {
   "cell_type": "code",
   "execution_count": 93,
   "metadata": {},
   "outputs": [],
   "source": [
    "def bow_encode(text):\n",
    "    vectorizer = CountVectorizer()\n",
    "    X = vectorizer.fit_transform(text)\n",
    "    print(\"Vocab size is: \", len(vectorizer.get_feature_names()))\n",
    "    return X"
   ]
  },
  {
   "cell_type": "code",
   "execution_count": 94,
   "metadata": {},
   "outputs": [
    {
     "name": "stdout",
     "output_type": "stream",
     "text": [
      "Vocab size is:  8527\n"
     ]
    },
    {
     "data": {
      "text/plain": [
       "array([0, 1, 2, 3, 4, 5, 6], dtype=int64)"
      ]
     },
     "execution_count": 94,
     "metadata": {},
     "output_type": "execute_result"
    }
   ],
   "source": [
    "np.unique(bow_encode(df.clean_tweet).toarray())"
   ]
  },
  {
   "cell_type": "markdown",
   "metadata": {},
   "source": [
    "#### Visualize Bag Of Words"
   ]
  },
  {
   "cell_type": "code",
   "execution_count": 95,
   "metadata": {},
   "outputs": [
    {
     "name": "stdout",
     "output_type": "stream",
     "text": [
      "Vocab size is:  8527\n"
     ]
    },
    {
     "data": {
      "text/plain": [
       "<matplotlib.collections.PathCollection at 0x159bea9b1d0>"
      ]
     },
     "execution_count": 95,
     "metadata": {},
     "output_type": "execute_result"
    },
    {
     "data": {
      "image/png": "[encoded data removed]",
      "text/plain": [
       "<Figure size 432x288 with 1 Axes>"
      ]
     },
     "metadata": {
      "needs_background": "light"
     },
     "output_type": "display_data"
    }
   ],
   "source": [
    "X = bow_encode(df.clean_tweet).todense()\n",
    "pca = PCA(n_components=2).fit(X)\n",
    "data2D = pca.transform(X)\n",
    "plt.scatter(data2D[:,0], data2D[:,1], c=df.has_reply)"
   ]
  },
  {
   "cell_type": "markdown",
   "metadata": {},
   "source": [
    "### 2. Tf IdF "
   ]
  },
  {
   "cell_type": "code",
   "execution_count": 96,
   "metadata": {},
   "outputs": [],
   "source": [
    "def tfidf_encode(text):\n",
    "    tfidf_vectorizer=TfidfVectorizer(use_idf=True, max_df=0.95)\n",
    "    return tfidf_vectorizer.fit_transform(text)"
   ]
  },
  {
   "cell_type": "code",
   "execution_count": 97,
   "metadata": {},
   "outputs": [
    {
     "data": {
      "text/plain": [
       "<matplotlib.collections.PathCollection at 0x159bea86978>"
      ]
     },
     "execution_count": 97,
     "metadata": {},
     "output_type": "execute_result"
    },
    {
     "data": {
      "image/png": "[encoded data removed]",
      "text/plain": [
       "<Figure size 432x288 with 1 Axes>"
      ]
     },
     "metadata": {
      "needs_background": "light"
     },
     "output_type": "display_data"
    }
   ],
   "source": [
    "Z = tfidf_encode(df.clean_tweet).todense()\n",
    "pca = PCA(n_components=2).fit(X)\n",
    "Z_data2D = pca.transform(Z)\n",
    "plt.scatter(Z_data2D[:,0], Z_data2D[:,1], c=df.has_reply)"
   ]
  },
  {
   "cell_type": "markdown",
   "metadata": {},
   "source": [
    "### 3. Word2vec"
   ]
  },
  {
   "cell_type": "markdown",
   "metadata": {},
   "source": [
    "In this section, we load a pre-trained model (GloVe or Google Word2Vec), and generate and store the embeddings of all the tweets. Caution : the model needs to be downloaded before"
   ]
  },
  {
   "cell_type": "markdown",
   "metadata": {},
   "source": [
    "#### Google Word2Vec loading"
   ]
  },
  {
   "cell_type": "code",
   "execution_count": 98,
   "metadata": {},
   "outputs": [],
   "source": [
    "model_path = \"../../source/embeddings/GoogleVectors300d/GoogleNews-vectors-negative300.bin\"\n",
    "binary = True\n",
    "storage_folder = \"../../data/extraction_twint/tweets_data/data_service_clients/embeddings/GoogleVectors300d/\""
   ]
  },
  {
   "cell_type": "markdown",
   "metadata": {},
   "source": [
    "#### GloVe loading"
   ]
  },
  {
   "cell_type": "code",
   "execution_count": 99,
   "metadata": {},
   "outputs": [],
   "source": [
    "model_path = \"../../source/embeddings/GloveTwitter200d/glove.twitter.27B.200d.txt\"\n",
    "binary = False\n",
    "storage_folder = \"../../data/extraction_twint/tweets_data/data_service_clients/embeddings/GloveTwitter200d/\""
   ]
  },
  {
   "cell_type": "markdown",
   "metadata": {},
   "source": [
    "#### Create embeddings and save to CSV"
   ]
  },
  {
   "cell_type": "code",
   "execution_count": 101,
   "metadata": {},
   "outputs": [
    {
     "data": {
      "application/vnd.jupyter.widget-view+json": {
       "model_id": "88a89a8deead4b439644d4d857955a93",
       "version_major": 2,
       "version_minor": 0
      },
      "text/plain": [
       "HBox(children=(FloatProgress(value=0.0, max=6215.0), HTML(value='')))"
      ]
     },
     "metadata": {},
     "output_type": "display_data"
    },
    {
     "name": "stdout",
     "output_type": "stream",
     "text": [
      "\n"
     ]
    },
    {
     "data": {
      "text/html": [
       "<div>\n",
       "<style scoped>\n",
       "    .dataframe tbody tr th:only-of-type {\n",
       "        vertical-align: middle;\n",
       "    }\n",
       "\n",
       "    .dataframe tbody tr th {\n",
       "        vertical-align: top;\n",
       "    }\n",
       "\n",
       "    .dataframe thead th {\n",
       "        text-align: right;\n",
       "    }\n",
       "</style>\n",
       "<table border=\"1\" class=\"dataframe\">\n",
       "  <thead>\n",
       "    <tr style=\"text-align: right;\">\n",
       "      <th></th>\n",
       "    </tr>\n",
       "  </thead>\n",
       "  <tbody>\n",
       "    <tr>\n",
       "      <th>0</th>\n",
       "    </tr>\n",
       "    <tr>\n",
       "      <th>1</th>\n",
       "    </tr>\n",
       "    <tr>\n",
       "      <th>2</th>\n",
       "    </tr>\n",
       "    <tr>\n",
       "      <th>3</th>\n",
       "    </tr>\n",
       "    <tr>\n",
       "      <th>4</th>\n",
       "    </tr>\n",
       "  </tbody>\n",
       "</table>\n",
       "</div>"
      ],
      "text/plain": [
       "Empty DataFrame\n",
       "Columns: []\n",
       "Index: [0, 1, 2, 3, 4]"
      ]
     },
     "execution_count": 101,
     "metadata": {},
     "output_type": "execute_result"
    }
   ],
   "source": [
    "text_features = pd.DataFrame() # creating empty final dataframe\n",
    "stopwords = nltk.corpus.stopwords.words('english') # removing stop words\n",
    "for doc in tqdm(df.clean_tweet): # looping through each document and cleaning it\n",
    "    temp = pd.DataFrame()  # creating a temporary dataframe(store value for 1st doc & for 2nd doc remove the details of 1st & proced through 2nd and so on..)\n",
    "    for word in doc.split(' '): # looping through each word of a single document and spliting through space\n",
    "        if word not in stopwords: # if word is not present in stopwords then (try)\n",
    "            try:\n",
    "                word_vec = embeddings[word] # if word is present in embeddings(goole provides weights associate with words(300)) then proceed\n",
    "                temp = temp.append(pd.Series(word_vec), ignore_index = True) # if word is present then append it to temporary dataframe\n",
    "            except:\n",
    "                pass\n",
    "    doc_vector = temp.mean() # take the average of each column(w0, w1, w2,........w300)\n",
    "    text_features = text_features.append(doc_vector, ignore_index = True) # append each document value to the final dataframe\n",
    "\n",
    "text_features.to_csv(storage_folder+brand+\".csv\",)\n",
    "text_features.head()"
   ]
  },
  {
   "cell_type": "markdown",
   "metadata": {},
   "source": [
    "### Load embeddings"
   ]
  },
  {
   "cell_type": "markdown",
   "metadata": {},
   "source": [
    "#### Load from csv"
   ]
  },
  {
   "cell_type": "code",
   "execution_count": null,
   "metadata": {
    "scrolled": true
   },
   "outputs": [],
   "source": [
    "text_features = pd.read_csv(\"../../data/extraction_twint/tweets_data/data_service_clients/embeddings/\"+brand+\".csv\", index_col=0)\n",
    "text_features.head()"
   ]
  },
  {
   "cell_type": "markdown",
   "metadata": {},
   "source": [
    "### Final function to vectorize (build text features)"
   ]
  },
  {
   "cell_type": "code",
   "execution_count": 102,
   "metadata": {},
   "outputs": [],
   "source": [
    "def build_text_features(df, y, vect_type, with_downsampling):\n",
    "    \n",
    "    logging.info(\"Extracting features and creating vocabulary...\")\n",
    "\n",
    "    new_df = df[['nb_tweets_of_user', 'following', 'followers', 'likes','direct_mention', 'punct', 'length', 'positive_sentiment', 'clean_tweet']]\n",
    "    for col in new_df.columns:\n",
    "        if col != \"clean_tweet\":\n",
    "            new_df[col]=new_df[col].apply(lambda x: 0 if np.isnan(x) else int(x))\n",
    "        \n",
    "    if \"word2vec\" in vect_type:\n",
    "        if \"google\" in vect_type:\n",
    "            text_features = pd.read_csv(\"../../data/extraction_twint/tweets_data/data_service_clients/embeddings/GoogleVectors300d/\"+brand+\".csv\", index_col=0)\n",
    "        \n",
    "        if \"glove\" in vect_type:\n",
    "            text_features = pd.read_csv(\"../../data/extraction_twint/tweets_data/data_service_clients/embeddings/GloveTwitter200d/\"+brand+\".csv\", index_col=0)\n",
    "        \n",
    "        # Remove nan values in text features\n",
    "        for col in text_features.columns:\n",
    "            text_features[col]=text_features[col].apply(lambda x: 0 if np.isnan(x) else x)\n",
    "        \n",
    "        new_df.drop(columns=\"clean_tweet\", inplace=True)\n",
    "        X = pd.merge(text_features, new_df, left_index=True, right_index=True)\n",
    "\n",
    "        y = df.has_reply\n",
    "        X_train, X_test, y_train, y_test = train_test_split(new_df,y,train_size=0.80,random_state=44)\n",
    "\n",
    "        if with_downsampling:\n",
    "            X_train, y_train = downsampling(X_train, y_train)\n",
    "        \n",
    "        vocabulary = []\n",
    "    \n",
    "    else:\n",
    "        X_train, X_test, y_train, y_test = train_test_split(new_df,y,train_size=0.80,random_state=44)\n",
    "\n",
    "        if with_downsampling:\n",
    "            X_train, y_train = downsampling(X_train, y_train)\n",
    "\n",
    "        field = 'clean_tweet'\n",
    "   \n",
    "        if 'count' in vect_type:\n",
    "            vectorizer= CountVectorizer(binary=False, max_df=0.95)\n",
    "        \n",
    "        elif \"binary\" in vect_type:\n",
    "            vectorizer= CountVectorizer(binary=True, max_df=0.95)\n",
    "\n",
    "        elif 'tfidf' in vect_type:\n",
    "            vectorizer=TfidfVectorizer(max_features = 1000, use_idf=True, max_df=0.95)\n",
    "        #add n-gram\n",
    "        \n",
    "        else:\n",
    "            raise ValueError('Mode should be either count or tfidf')    \n",
    "       \n",
    "        # Fit on training data\n",
    "        vectorizer.fit_transform(X_train[field].values)\n",
    "        \n",
    "        vocabulary = vectorizer.get_feature_names()\n",
    "        \n",
    "        train_text_features=vectorizer.transform(X_train[field].values).toarray()\n",
    "        test_text_features=vectorizer.transform(X_test[field].values).toarray()\n",
    "        \n",
    "#         for col in text_features.columns:\n",
    "#             text_features[col]=text_features[col].apply(lambda x: 0 if np.isnan(x) else x)\n",
    "    \n",
    "        X_train.drop(columns=['clean_tweet'], inplace=True)\n",
    "        X_test.drop(columns=['clean_tweet'], inplace=True)\n",
    "\n",
    "        X_train=np.concatenate((X_train,train_text_features),axis=1)\n",
    "        X_test=np.concatenate((X_test,test_text_features),axis=1)\n",
    "    \n",
    "    return vocabulary, X_train, X_test, y_train, y_test   "
   ]
  },
  {
   "cell_type": "markdown",
   "metadata": {},
   "source": [
    "# 4C. Model evaluation"
   ]
  },
  {
   "cell_type": "markdown",
   "metadata": {},
   "source": [
    "### All scores"
   ]
  },
  {
   "cell_type": "code",
   "execution_count": 103,
   "metadata": {},
   "outputs": [],
   "source": [
    "## PRINT SCORES\n",
    "\n",
    "def print_scores(y_test, y_pred):\n",
    "    accuracy = accuracy_score(y_test, y_pred)\n",
    "    f1_score_val = f1_score(y_test, y_pred)\n",
    "    precision_score_val = precision_score(y_test, y_pred)\n",
    "    recall_score_val = recall_score(y_test, y_pred)\n",
    "\n",
    "\n",
    "    string = \"RESULTATS \\n \\\n",
    "    Accuracy  : {accuracy}% \\n \\\n",
    "    F1 score  : {f1_score}\\n \\\n",
    "    Precision : {precision}% (how many selected items are relevant)\\n \\\n",
    "    Recall    : {recall}% (how many relevant items are selected)\\n \\\n",
    "    \\n\\n\\\n",
    "    STATISTICS\\n\\\n",
    "     Proportion of positives in test set    : {positives}%\\n\\\n",
    "     Proportion of positives in predictions : {predicted_positives}%\\\n",
    "    \"\n",
    "\n",
    "    print(string.format(accuracy = round(100*accuracy,2),\n",
    "                        f1_score = round(f1_score_val,4), \n",
    "                        precision = round(100*precision_score_val,2), \n",
    "                        recall = round(100*recall_score_val,2),\n",
    "                        positives = round(100*y_test.sum()/len(y_test),2),\n",
    "                        predicted_positives = round(100*y_pred.sum()/len(y_pred),2),\n",
    "                       ))"
   ]
  },
  {
   "cell_type": "markdown",
   "metadata": {},
   "source": [
    "### ROC Curve & AUC "
   ]
  },
  {
   "cell_type": "code",
   "execution_count": 104,
   "metadata": {},
   "outputs": [],
   "source": [
    "## DISPLAY ROC CURVE\n",
    "def display_roc_curve(y_test, X_test, model):\n",
    "    fpr, tpr, thresholds = roc_curve(y_test, model.predict_proba(X_test)[:, 1])\n",
    "    auc_score = round(auc(fpr, tpr),2)\n",
    "\n",
    "    plt.plot(fpr, tpr, color='darkorange',\n",
    "             lw=2)\n",
    "\n",
    "    plt.xlim([0.0, 1.0])\n",
    "    plt.ylim([0.0, 1.05])\n",
    "    plt.xlabel('False Positive Rate')\n",
    "    plt.ylabel('True Positive Rate')\n",
    "    plt.title('ROC curve')\n",
    "    plt.legend(loc=\"lower right\")\n",
    "    plt.show()\n",
    "    print(\"AUC : {}\".format(auc_score))"
   ]
  },
  {
   "cell_type": "markdown",
   "metadata": {},
   "source": [
    "### Confusion matrix "
   ]
  },
  {
   "cell_type": "code",
   "execution_count": 105,
   "metadata": {
    "scrolled": true
   },
   "outputs": [],
   "source": [
    "# CONFUSION MATRIX\n",
    "def get_confusion_matrix(X_test, y_test, model):\n",
    "    titles_options = [(\"Confusion matrix, without normalization\", None),\n",
    "                      (\"Normalized confusion matrix\", 'true')]\n",
    "\n",
    "    for title, normalize in titles_options:\n",
    "        disp = plot_confusion_matrix(model, X_test, y_test,\n",
    "                                     cmap=plt.cm.Blues,\n",
    "                                     normalize=normalize)\n",
    "        disp.ax_.set_title(title)\n",
    "\n",
    "        print(title)\n",
    "        print(disp.confusion_matrix)\n"
   ]
  },
  {
   "cell_type": "markdown",
   "metadata": {},
   "source": [
    "### Feature importance "
   ]
  },
  {
   "cell_type": "code",
   "execution_count": 117,
   "metadata": {},
   "outputs": [],
   "source": [
    "def importance_plotting(model):\n",
    "    features2 = pd.DataFrame()\n",
    "    features2['importance'] = model.feature_importances_\n",
    "    features2.sort_values(by=['importance'], ascending=False, inplace=True)\n",
    "    features2 = features2.head(20)\n",
    "    features2[\"order\"]=features2['importance'].index\n",
    "    features2[\"words\"] = features2.order.apply(lambda x: vocab[x])\n",
    "    from sklearn import metrics\n",
    "    #features2.plot(features2.words, kind='barh', figsize=(10, 8))\n",
    "    plt.plot(features2.importance, features2.words)\n",
    "    plt.title('Most important features')\n",
    "    plt.show()"
   ]
  },
  {
   "cell_type": "markdown",
   "metadata": {},
   "source": [
    "# 5. Choose, train & test model"
   ]
  },
  {
   "cell_type": "code",
   "execution_count": 127,
   "metadata": {},
   "outputs": [],
   "source": [
    "def try_model(model, encode_type, df, clf=None, with_downsampling = False):\n",
    "        \n",
    "    print(\"Building the features...\")\n",
    "    y = df.has_reply\n",
    "    #y = df.objective\n",
    "    vocab, X_train,X_test,y_train, y_test = build_text_features(df,y, encode_type,with_downsampling)\n",
    "    \n",
    "    print(\"Training the model...\")\n",
    "    if clf:\n",
    "        clf.fit(X_train,y_train)\n",
    "        model = clf.best_estimator_\n",
    "    else:\n",
    "        model = model.fit(X_train,y_train)\n",
    "    \n",
    "    \n",
    "    print(\"Making predictions...\")\n",
    "    y_preds = model.predict(X_test)\n",
    "    \n",
    "    print(\"Printing scores...\")\n",
    "    print(classification_report(y_test, y_preds))\n",
    "    print_scores(y_test,y_preds)\n",
    "    display_roc_curve(y_test,X_test, model)\n",
    "    get_confusion_matrix(X_test, y_test, model)\n",
    "    \n",
    "    return vocab, model, y_test, y_preds"
   ]
  },
  {
   "cell_type": "markdown",
   "metadata": {},
   "source": [
    "## Pipeline"
   ]
  },
  {
   "cell_type": "code",
   "execution_count": 142,
   "metadata": {},
   "outputs": [],
   "source": [
    "df = preprocess(df)"
   ]
  },
  {
   "cell_type": "code",
   "execution_count": 143,
   "metadata": {},
   "outputs": [],
   "source": [
    "from sklearn.model_selection import GridSearchCV\n",
    "parameters = {'max_features':[0.2, 0.5,0.7, 0.9]}\n",
    "\n",
    "#model = LogisticRegression()\n",
    "#model = MultinomialNB()\n",
    "#model = RandomForestClassifier(n_estimators=300, max_depth=200)\n",
    "model = RandomForestClassifier(n_estimators=200, verbose=1, n_jobs=4, class_weight={False: 0.9, True: 0.1})\n",
    "#model =xgb.XGBClassifier()\n",
    "#model =xgb.XGBClassifier(random_state=42,learning_rate=0.01)\n",
    "#model = LinearSVC()\n",
    "\n",
    "#encode_type = \"count\"\n",
    "#encode_type = \"tfidf\"\n",
    "encode_type = \"binary\"\n",
    "#encode_type = \"word2vec_glove\"\n",
    "#encode_type = \"word2vec_google\"\n",
    "\n",
    "clf = GridSearchCV(model, parameters)\n"
   ]
  },
  {
   "cell_type": "code",
   "execution_count": 144,
   "metadata": {
    "scrolled": false
   },
   "outputs": [
    {
     "name": "stdout",
     "output_type": "stream",
     "text": [
      "Building the features...\n"
     ]
    },
    {
     "name": "stderr",
     "output_type": "stream",
     "text": [
      "C:\\Users\\carol\\Anaconda3\\lib\\site-packages\\ipykernel_launcher.py:8: SettingWithCopyWarning: \n",
      "A value is trying to be set on a copy of a slice from a DataFrame.\n",
      "Try using .loc[row_indexer,col_indexer] = value instead\n",
      "\n",
      "See the caveats in the documentation: https://pandas.pydata.org/pandas-docs/stable/user_guide/indexing.html#returning-a-view-versus-a-copy\n",
      "  \n",
      "C:\\Users\\carol\\Anaconda3\\lib\\site-packages\\pandas\\core\\frame.py:3997: SettingWithCopyWarning: \n",
      "A value is trying to be set on a copy of a slice from a DataFrame\n",
      "\n",
      "See the caveats in the documentation: https://pandas.pydata.org/pandas-docs/stable/user_guide/indexing.html#returning-a-view-versus-a-copy\n",
      "  errors=errors,\n"
     ]
    },
    {
     "name": "stdout",
     "output_type": "stream",
     "text": [
      "Training the model...\n"
     ]
    },
    {
     "name": "stderr",
     "output_type": "stream",
     "text": [
      "[Parallel(n_jobs=4)]: Using backend ThreadingBackend with 4 concurrent workers.\n",
      "[Parallel(n_jobs=4)]: Done  42 tasks      | elapsed:    6.0s\n",
      "[Parallel(n_jobs=4)]: Done 192 tasks      | elapsed:   23.0s\n",
      "[Parallel(n_jobs=4)]: Done 200 out of 200 | elapsed:   23.9s finished\n",
      "[Parallel(n_jobs=4)]: Using backend ThreadingBackend with 4 concurrent workers.\n"
     ]
    },
    {
     "name": "stdout",
     "output_type": "stream",
     "text": [
      "Making predictions...\n"
     ]
    },
    {
     "name": "stderr",
     "output_type": "stream",
     "text": [
      "[Parallel(n_jobs=4)]: Done  42 tasks      | elapsed:    0.0s\n",
      "[Parallel(n_jobs=4)]: Done 192 tasks      | elapsed:    0.1s\n",
      "[Parallel(n_jobs=4)]: Done 200 out of 200 | elapsed:    0.1s finished\n"
     ]
    },
    {
     "name": "stdout",
     "output_type": "stream",
     "text": [
      "Printing scores...\n",
      "              precision    recall  f1-score   support\n",
      "\n",
      "       False       0.72      0.23      0.35       296\n",
      "        True       0.80      0.97      0.88       947\n",
      "\n",
      "    accuracy                           0.79      1243\n",
      "   macro avg       0.76      0.60      0.61      1243\n",
      "weighted avg       0.78      0.79      0.75      1243\n",
      "\n",
      "RESULTATS \n",
      "     Accuracy  : 79.49% \n",
      "     F1 score  : 0.8783\n",
      "     Precision : 80.14% (how many selected items are relevant)\n",
      "     Recall    : 97.15% (how many relevant items are selected)\n",
      "     \n",
      "\n",
      "    STATISTICS\n",
      "     Proportion of positives in test set    : 76.19%\n",
      "     Proportion of positives in predictions : 92.36%    \n"
     ]
    },
    {
     "name": "stderr",
     "output_type": "stream",
     "text": [
      "[Parallel(n_jobs=4)]: Using backend ThreadingBackend with 4 concurrent workers.\n",
      "[Parallel(n_jobs=4)]: Done  42 tasks      | elapsed:    0.0s\n",
      "[Parallel(n_jobs=4)]: Done 192 tasks      | elapsed:    0.1s\n",
      "[Parallel(n_jobs=4)]: Done 200 out of 200 | elapsed:    0.1s finished\n",
      "WARNING:matplotlib.legend:No handles with labels found to put in legend.\n"
     ]
    },
    {
     "data": {
      "image/png": "[encoded data removed]",
      "text/plain": [
       "<Figure size 432x288 with 1 Axes>"
      ]
     },
     "metadata": {
      "needs_background": "light"
     },
     "output_type": "display_data"
    },
    {
     "name": "stderr",
     "output_type": "stream",
     "text": [
      "[Parallel(n_jobs=4)]: Using backend ThreadingBackend with 4 concurrent workers.\n"
     ]
    },
    {
     "name": "stdout",
     "output_type": "stream",
     "text": [
      "AUC : 0.72\n"
     ]
    },
    {
     "name": "stderr",
     "output_type": "stream",
     "text": [
      "[Parallel(n_jobs=4)]: Done  42 tasks      | elapsed:    0.0s\n",
      "[Parallel(n_jobs=4)]: Done 192 tasks      | elapsed:    0.1s\n",
      "[Parallel(n_jobs=4)]: Done 200 out of 200 | elapsed:    0.1s finished\n",
      "[Parallel(n_jobs=4)]: Using backend ThreadingBackend with 4 concurrent workers.\n",
      "[Parallel(n_jobs=4)]: Done  42 tasks      | elapsed:    0.0s\n"
     ]
    },
    {
     "name": "stdout",
     "output_type": "stream",
     "text": [
      "Confusion matrix, without normalization\n",
      "[[ 68 228]\n",
      " [ 27 920]]\n"
     ]
    },
    {
     "name": "stderr",
     "output_type": "stream",
     "text": [
      "[Parallel(n_jobs=4)]: Done 192 tasks      | elapsed:    0.1s\n",
      "[Parallel(n_jobs=4)]: Done 200 out of 200 | elapsed:    0.1s finished\n"
     ]
    },
    {
     "name": "stdout",
     "output_type": "stream",
     "text": [
      "Normalized confusion matrix\n",
      "[[0.22972973 0.77027027]\n",
      " [0.02851109 0.97148891]]\n"
     ]
    },
    {
     "data": {
      "image/png": "[encoded data removed]",
      "text/plain": [
       "<Figure size 432x288 with 2 Axes>"
      ]
     },
     "metadata": {
      "needs_background": "light"
     },
     "output_type": "display_data"
    },
    {
     "data": {
      "image/png": "[encoded data removed]",
      "text/plain": [
       "<Figure size 432x288 with 2 Axes>"
      ]
     },
     "metadata": {
      "needs_background": "light"
     },
     "output_type": "display_data"
    }
   ],
   "source": [
    "vocab, model, y_test, y_preds = try_model(model, encode_type, df)"
   ]
  },
  {
   "cell_type": "code",
   "execution_count": 145,
   "metadata": {
    "scrolled": true
   },
   "outputs": [
    {
     "data": {
      "image/png": "[encoded data removed]",
      "text/plain": [
       "<Figure size 432x288 with 1 Axes>"
      ]
     },
     "metadata": {
      "needs_background": "light"
     },
     "output_type": "display_data"
    }
   ],
   "source": [
    "importance_plotting(model)"
   ]
  },
  {
   "cell_type": "code",
   "execution_count": null,
   "metadata": {},
   "outputs": [],
   "source": [
    "# Grid Search results\n",
    "clf.best_params_\n",
    "pd.DataFrame.from_dict(clf.cv_results_)"
   ]
  },
  {
   "cell_type": "code",
   "execution_count": 146,
   "metadata": {},
   "outputs": [
    {
     "data": {
      "text/plain": [
       "['_closed_eyes',\n",
       " '_cold_sweat',\n",
       " '_smiling_eyes',\n",
       " 'aaa',\n",
       " 'aaaaaand',\n",
       " 'aac',\n",
       " 'aadhar',\n",
       " 'aajtak',\n",
       " 'aal',\n",
       " 'aarushbhargavagmailcom',\n",
       " 'ab',\n",
       " 'aber',\n",
       " 'abhaykhedkar',\n",
       " 'abide',\n",
       " 'ability',\n",
       " 'abin',\n",
       " 'able',\n",
       " 'abled',\n",
       " 'ablt',\n",
       " 'abnormalpossible',\n",
       " 'abpmajhatv',\n",
       " 'abpnews',\n",
       " 'abroad',\n",
       " 'absolute',\n",
       " 'absolutely',\n",
       " 'absurd',\n",
       " 'abt',\n",
       " 'abuse',\n",
       " 'ac',\n",
       " 'accept',\n",
       " 'acceptable',\n",
       " 'acceptableif',\n",
       " 'accepted',\n",
       " 'access',\n",
       " 'accessible',\n",
       " 'accessory',\n",
       " 'accidental',\n",
       " 'accidentally',\n",
       " 'accord',\n",
       " 'account',\n",
       " 'accountability',\n",
       " 'accountmay',\n",
       " 'accountplease',\n",
       " 'accountyou',\n",
       " 'acct',\n",
       " 'accurate',\n",
       " 'accurately',\n",
       " 'achieve',\n",
       " 'achievement',\n",
       " 'acking',\n",
       " 'acknowledge',\n",
       " 'acknowledgement',\n",
       " 'across',\n",
       " 'act',\n",
       " 'actingd',\n",
       " 'action',\n",
       " 'actionfrauduk',\n",
       " 'actionreallyjust',\n",
       " 'activate',\n",
       " 'activates',\n",
       " 'activation',\n",
       " 'active',\n",
       " 'activelive',\n",
       " 'actively',\n",
       " 'activeness',\n",
       " 'activism',\n",
       " 'activity',\n",
       " 'actual',\n",
       " 'actually',\n",
       " 'actul',\n",
       " 'ad',\n",
       " 'adapter',\n",
       " 'add',\n",
       " 'addition',\n",
       " 'additional',\n",
       " 'additionally',\n",
       " 'addon',\n",
       " 'address',\n",
       " 'addressed',\n",
       " 'addressinfo',\n",
       " 'adhere',\n",
       " 'adidas',\n",
       " 'adilabad',\n",
       " 'adjust',\n",
       " 'adjustment',\n",
       " 'administrator',\n",
       " 'admit',\n",
       " 'admitting',\n",
       " 'adopt',\n",
       " 'adresswhat',\n",
       " 'adrian',\n",
       " 'adult',\n",
       " 'advance',\n",
       " 'advantage',\n",
       " 'adventure',\n",
       " 'adversely',\n",
       " 'advertise',\n",
       " 'advertising',\n",
       " 'advice',\n",
       " 'advise',\n",
       " 'advised',\n",
       " 'adviser',\n",
       " 'advisor',\n",
       " 'advisors',\n",
       " 'affect',\n",
       " 'affiliate',\n",
       " 'afford',\n",
       " 'affordable',\n",
       " 'afik',\n",
       " 'afraid',\n",
       " 'africa',\n",
       " 'afternoon',\n",
       " 'afternoonsoon',\n",
       " 'aftershokz',\n",
       " 'afterthat',\n",
       " 'afterwards',\n",
       " 'aftr',\n",
       " 'againcontd',\n",
       " 'againi',\n",
       " 'againsorry',\n",
       " 'aganet',\n",
       " 'agarwal',\n",
       " 'age',\n",
       " 'agency',\n",
       " 'agent',\n",
       " 'agenti',\n",
       " 'agentno',\n",
       " 'agentwhen',\n",
       " 'aggrievedamazonhelp',\n",
       " 'agnst',\n",
       " 'ago',\n",
       " 'agree',\n",
       " 'agreement',\n",
       " 'agychnuaoaaczhlbrmsdeulca',\n",
       " 'ah',\n",
       " 'ahead',\n",
       " 'ahh',\n",
       " 'ahhhhh',\n",
       " 'ahmedabad',\n",
       " 'ahsescalation',\n",
       " 'ai',\n",
       " 'aid',\n",
       " 'ail',\n",
       " 'ain',\n",
       " 'aint',\n",
       " 'aiova',\n",
       " 'air',\n",
       " 'airplane',\n",
       " 'airpods',\n",
       " 'airport',\n",
       " 'airtel',\n",
       " 'ajassy',\n",
       " 'akhrot',\n",
       " 'aks',\n",
       " 'al',\n",
       " 'ala',\n",
       " 'alarm',\n",
       " 'alarming',\n",
       " 'album',\n",
       " 'alcohol',\n",
       " 'ale',\n",
       " 'alert',\n",
       " 'alertsnone',\n",
       " 'alexa',\n",
       " 'alexaamazonhelp',\n",
       " 'alexander',\n",
       " 'alexas',\n",
       " 'alibababb',\n",
       " 'alicia',\n",
       " 'aliexpressen',\n",
       " 'all',\n",
       " 'allege',\n",
       " 'allergy',\n",
       " 'alli',\n",
       " 'allow',\n",
       " 'alloy',\n",
       " 'allready',\n",
       " 'allredy',\n",
       " 'alls',\n",
       " 'almost',\n",
       " 'alone',\n",
       " 'along',\n",
       " 'alot',\n",
       " 'aloud',\n",
       " 'alpatronix',\n",
       " 'already',\n",
       " 'alright',\n",
       " 'also',\n",
       " 'alsoand',\n",
       " 'alsobut',\n",
       " 'alsothey',\n",
       " 'alt',\n",
       " 'alternate',\n",
       " 'alternative',\n",
       " 'although',\n",
       " 'aluminum',\n",
       " 'always',\n",
       " 'alwys',\n",
       " 'amabot',\n",
       " 'amalgus',\n",
       " 'amaze',\n",
       " 'amazeddeal',\n",
       " 'amazing',\n",
       " 'amazingjoke',\n",
       " 'amazo',\n",
       " 'amazom',\n",
       " 'amazon',\n",
       " 'amazonae',\n",
       " 'amazonaffilia',\n",
       " 'amazonaffiliate',\n",
       " 'amazonappaday',\n",
       " 'amazonaustralia',\n",
       " 'amazonbad',\n",
       " 'amazonbadservice',\n",
       " 'amazonbusiness',\n",
       " 'amazonca',\n",
       " 'amazonchor',\n",
       " 'amazonchorhai',\n",
       " 'amazoncloseaccountswithoutinformingtheircustomers',\n",
       " 'amazoncustomer',\n",
       " 'amazoncustomercare',\n",
       " 'amazoncustomerobbsessed',\n",
       " 'amazoncustomerservice',\n",
       " 'amazoncustomerserviceisappalling',\n",
       " 'amazonde',\n",
       " 'amazondeals',\n",
       " 'amazondeliveryfails',\n",
       " 'amazonepay',\n",
       " 'amazonepayspinandwin',\n",
       " 'amazonfail',\n",
       " 'amazonfails',\n",
       " 'amazonfashionin',\n",
       " 'amazonfilmfareawards',\n",
       " 'amazonfine',\n",
       " 'amazonfirestick',\n",
       " 'amazonfiretv',\n",
       " 'amazonfiretvind',\n",
       " 'amazonfraud',\n",
       " 'amazonfresh',\n",
       " 'amazongreatindianfestival',\n",
       " 'amazongreatindiansale',\n",
       " 'amazonhavellsquiz',\n",
       " 'amazonhe',\n",
       " 'amazonhelp',\n",
       " 'amazonhelpsucks',\n",
       " 'amazonhomeservices',\n",
       " 'amazoni',\n",
       " 'amazonin',\n",
       " 'amazonindeals',\n",
       " 'amazonindia',\n",
       " 'amazonindiafan',\n",
       " 'amazonindiain',\n",
       " 'amazonindiasell',\n",
       " 'amazonindiashame',\n",
       " 'amazoninfluencer',\n",
       " 'amazoninin',\n",
       " 'amazoninoffers',\n",
       " 'amazonins',\n",
       " 'amazonjp',\n",
       " 'amazonkarigarquiz',\n",
       " 'amazonkdp',\n",
       " 'amazonkindle',\n",
       " 'amazonlogic',\n",
       " 'amazonlootspeople',\n",
       " 'amazonmusic',\n",
       " 'amazonmusicin',\n",
       " 'amazonnewsin',\n",
       " 'amazonnohelpatall',\n",
       " 'amazonpay',\n",
       " 'amazonpaykycquiz',\n",
       " 'amazonpaynodalofficeramazon',\n",
       " 'amazonpaynodalofficeramazonin',\n",
       " 'amazonpayspinandwin',\n",
       " 'amazonpolicy',\n",
       " 'amazonprime',\n",
       " 'amazonprimenow',\n",
       " 'amazonquiztime',\n",
       " 'amazonquizwinner',\n",
       " 'amazonripperhai',\n",
       " 'amazonsmallbusinessday',\n",
       " 'amazonsmile',\n",
       " 'amazonstealsfromamericans',\n",
       " 'amazonstore',\n",
       " 'amazonstorein',\n",
       " 'amazonstudios',\n",
       " 'amazonsucks',\n",
       " 'amazonuk',\n",
       " 'amazonukamazonjp',\n",
       " 'amazonups',\n",
       " 'amazonwallet',\n",
       " 'amazonwardeobe',\n",
       " 'amazonwheeloffortune',\n",
       " 'amazzeron',\n",
       " 'ambaienterprisesgmailcom',\n",
       " 'ambut',\n",
       " 'amd',\n",
       " 'amend',\n",
       " 'america',\n",
       " 'american',\n",
       " 'amit',\n",
       " 'amitagarwal',\n",
       " 'amitagrawal',\n",
       " 'amitcan',\n",
       " 'amitshah',\n",
       " 'amnesia',\n",
       " 'amoled',\n",
       " 'among',\n",
       " 'amount',\n",
       " 'amounti',\n",
       " 'amozon',\n",
       " 'ampm',\n",
       " 'amt',\n",
       " 'amy',\n",
       " 'amzn',\n",
       " 'amzon',\n",
       " 'amzonif',\n",
       " 'amzonkindle',\n",
       " 'an',\n",
       " 'anal',\n",
       " 'analyze',\n",
       " 'anarchy',\n",
       " 'anbling',\n",
       " 'andaman',\n",
       " 'andor',\n",
       " 'andr',\n",
       " 'android',\n",
       " 'andy',\n",
       " 'angel',\n",
       " 'anger',\n",
       " 'angry',\n",
       " 'angry_face',\n",
       " 'angry_face_with_horns',\n",
       " 'angry_face_with_horns𝙘𝙪𝙨𝙩𝙤𝙢𝙚𝙧',\n",
       " 'ani',\n",
       " 'aniketgmailcom',\n",
       " 'animal',\n",
       " 'anirudhdhamdheregmailcom',\n",
       " 'ankitduseja',\n",
       " 'anna',\n",
       " 'anne',\n",
       " 'announce',\n",
       " 'annoy',\n",
       " 'annoyed',\n",
       " 'annoying',\n",
       " 'annoyingly',\n",
       " 'annual',\n",
       " 'another',\n",
       " 'ans',\n",
       " 'answer',\n",
       " 'answere',\n",
       " 'answered',\n",
       " 'answershopefully',\n",
       " 'answerwere',\n",
       " 'anti',\n",
       " 'antisemite',\n",
       " 'antiviral',\n",
       " 'anusuryaxgmailcom',\n",
       " 'anxiously',\n",
       " 'anyday',\n",
       " 'anyhow',\n",
       " 'anymore',\n",
       " 'anyone',\n",
       " 'anyonebreceived',\n",
       " 'anyplace',\n",
       " 'anyplesse',\n",
       " 'anything',\n",
       " 'anythingwhere',\n",
       " 'anytime',\n",
       " 'anyway',\n",
       " 'anyways',\n",
       " 'anywhere',\n",
       " 'anywork',\n",
       " 'ao',\n",
       " 'aoc',\n",
       " 'aparnapatra',\n",
       " 'apart',\n",
       " 'apartment',\n",
       " 'apl',\n",
       " 'apllied',\n",
       " 'aplliedwhy',\n",
       " 'apni',\n",
       " 'apologise',\n",
       " 'apologize',\n",
       " 'apology',\n",
       " 'app',\n",
       " 'appal',\n",
       " 'appalled',\n",
       " 'apparent',\n",
       " 'apparently',\n",
       " 'apparioretail',\n",
       " 'appdeleted',\n",
       " 'appeal',\n",
       " 'appear',\n",
       " 'appease',\n",
       " 'apperently',\n",
       " 'apple',\n",
       " 'applesupport',\n",
       " 'appletv',\n",
       " 'appletvplus',\n",
       " 'appliance',\n",
       " 'applicable',\n",
       " 'application',\n",
       " 'applieed',\n",
       " 'applies',\n",
       " 'apply',\n",
       " 'applychange',\n",
       " 'appointment',\n",
       " 'appreciable',\n",
       " 'appreciate',\n",
       " 'appreciated',\n",
       " 'approach',\n",
       " 'appropriate',\n",
       " 'approval',\n",
       " 'approve',\n",
       " 'approves',\n",
       " 'approx',\n",
       " 'approximately',\n",
       " 'apps',\n",
       " 'appsite',\n",
       " 'appstore',\n",
       " 'apr',\n",
       " 'apricot',\n",
       " 'april',\n",
       " 'apt',\n",
       " 'apv',\n",
       " 'ar',\n",
       " 'arabia',\n",
       " 'arabic',\n",
       " 'aramex',\n",
       " 'aramexhelp',\n",
       " 'aramexsa',\n",
       " 'archaic',\n",
       " 'architect',\n",
       " 'archive',\n",
       " 'area',\n",
       " 'aren',\n",
       " 'arent',\n",
       " 'arfat',\n",
       " 'argo',\n",
       " 'argue',\n",
       " 'argument',\n",
       " 'argumentative',\n",
       " 'arn',\n",
       " 'around',\n",
       " 'arrange',\n",
       " 'arrangement',\n",
       " 'arrival',\n",
       " 'arrive',\n",
       " 'arrived',\n",
       " 'arrivedbeen',\n",
       " 'arrives',\n",
       " 'arriving',\n",
       " 'arrnge',\n",
       " 'arrogance',\n",
       " 'arrow',\n",
       " 'arsed',\n",
       " 'article',\n",
       " 'artist',\n",
       " 'artists',\n",
       " 'as',\n",
       " 'asda',\n",
       " 'ashamed',\n",
       " 'asholes',\n",
       " 'aside',\n",
       " 'asin',\n",
       " 'asinine',\n",
       " 'ask',\n",
       " 'asks',\n",
       " 'aslo',\n",
       " 'asn',\n",
       " 'asnonamazonprime',\n",
       " 'assert',\n",
       " 'assesoriesand',\n",
       " 'assessment',\n",
       " 'asshole',\n",
       " 'assholes',\n",
       " 'assign',\n",
       " 'assigns',\n",
       " 'assist',\n",
       " 'assistance',\n",
       " 'assistant',\n",
       " 'associate',\n",
       " 'asssured',\n",
       " 'assume',\n",
       " 'assumption',\n",
       " 'assurance',\n",
       " 'assure',\n",
       " 'assured',\n",
       " 'astonished_face',\n",
       " 'asus',\n",
       " 'asusindia',\n",
       " 'asusrogin',\n",
       " 'aswell',\n",
       " 'at',\n",
       " 'atall',\n",
       " 'atendimento',\n",
       " 'athadesrimannarayana',\n",
       " 'atlantis',\n",
       " 'atleast',\n",
       " 'att',\n",
       " 'atta',\n",
       " 'attach',\n",
       " 'attached',\n",
       " 'attachment',\n",
       " 'attachments',\n",
       " 'attempt',\n",
       " 'attempted',\n",
       " 'attemptedi',\n",
       " 'attention',\n",
       " 'attitude',\n",
       " 'audible',\n",
       " 'audience',\n",
       " 'audio',\n",
       " 'audiobooks',\n",
       " 'audiosurround',\n",
       " 'aug',\n",
       " 'august',\n",
       " 'aunt',\n",
       " 'ausounds',\n",
       " 'australasia',\n",
       " 'australia',\n",
       " 'authentic',\n",
       " 'authentication',\n",
       " 'authenticity',\n",
       " 'author',\n",
       " 'authorisation',\n",
       " 'authorise',\n",
       " 'authority',\n",
       " 'authorize',\n",
       " 'auto',\n",
       " 'autocorrect',\n",
       " 'autoemails',\n",
       " 'automate',\n",
       " 'automated',\n",
       " 'automatic',\n",
       " 'automatically',\n",
       " 'autoreply',\n",
       " 'avail',\n",
       " 'availability',\n",
       " 'available',\n",
       " 'avalai',\n",
       " 'avane',\n",
       " 'avanesrimananarayana',\n",
       " 'avanesrimannarayana',\n",
       " 'average',\n",
       " 'aversion',\n",
       " 'avid',\n",
       " 'avoid',\n",
       " 'avoidance',\n",
       " 'await',\n",
       " 'awaiting',\n",
       " 'awake',\n",
       " 'aware',\n",
       " 'awareness',\n",
       " 'away',\n",
       " 'awesome',\n",
       " 'awesomeness',\n",
       " 'awful',\n",
       " 'awhile',\n",
       " 'aws',\n",
       " 'awscloud',\n",
       " 'ay',\n",
       " 'aye',\n",
       " 'az',\n",
       " 'baad',\n",
       " 'baar',\n",
       " 'baby',\n",
       " 'bac',\n",
       " 'back',\n",
       " 'backgod',\n",
       " 'background',\n",
       " 'backhand_index_pointing_down',\n",
       " 'backhand_index_pointing_right',\n",
       " 'backplate',\n",
       " 'backup',\n",
       " 'bad',\n",
       " 'badcustomersupport',\n",
       " 'badexperience',\n",
       " 'badla',\n",
       " 'badly',\n",
       " 'badnewsbaron',\n",
       " 'bag',\n",
       " 'bait',\n",
       " 'balance',\n",
       " 'ball',\n",
       " 'baloney',\n",
       " 'baltimoremd',\n",
       " 'ban',\n",
       " 'banbury',\n",
       " 'band',\n",
       " 'bandaids',\n",
       " 'bang',\n",
       " 'bangdream',\n",
       " 'bank',\n",
       " 'bar',\n",
       " 'barbie',\n",
       " 'bare',\n",
       " 'barely',\n",
       " 'bark',\n",
       " 'barman',\n",
       " 'barre',\n",
       " 'barrier',\n",
       " 'barton',\n",
       " 'base',\n",
       " 'basic',\n",
       " 'basically',\n",
       " 'basis',\n",
       " 'basket',\n",
       " 'bathroom',\n",
       " 'baton',\n",
       " 'battery',\n",
       " 'battle',\n",
       " 'bay',\n",
       " 'baywatch',\n",
       " 'bbbus',\n",
       " 'bbc',\n",
       " 'bbcdoctorwho',\n",
       " 'bbcsounds',\n",
       " 'bbcworld',\n",
       " 'bbz',\n",
       " 'bc',\n",
       " 'bcause',\n",
       " 'bcos',\n",
       " 'bcoz',\n",
       " 'bcz',\n",
       " 'be',\n",
       " 'beach',\n",
       " 'beanie',\n",
       " 'bear',\n",
       " 'beat',\n",
       " 'beautiful',\n",
       " 'beauty',\n",
       " 'becareful',\n",
       " 'because',\n",
       " 'become',\n",
       " 'becoz',\n",
       " 'becuase',\n",
       " 'becz',\n",
       " 'bed',\n",
       " 'bedroom',\n",
       " 'beecause',\n",
       " 'beep',\n",
       " 'befool',\n",
       " 'beforehand',\n",
       " 'beg',\n",
       " 'begger',\n",
       " 'begin',\n",
       " 'behalf',\n",
       " 'behave',\n",
       " 'behavior',\n",
       " 'behaviour',\n",
       " 'behind',\n",
       " 'behvr',\n",
       " 'bei',\n",
       " 'believable',\n",
       " 'believe',\n",
       " 'belive',\n",
       " 'bell',\n",
       " 'bella',\n",
       " 'belong',\n",
       " 'bemight',\n",
       " 'beneficiary',\n",
       " 'benefit',\n",
       " 'bengaluru',\n",
       " 'benifit',\n",
       " 'benq',\n",
       " 'bent',\n",
       " 'bequietofficial',\n",
       " 'beryl',\n",
       " 'besides',\n",
       " 'best',\n",
       " 'bestellung',\n",
       " 'bet',\n",
       " 'beta',\n",
       " 'better',\n",
       " 'betwen',\n",
       " 'betwwen',\n",
       " 'beware',\n",
       " 'beyond',\n",
       " 'bezos',\n",
       " 'bezoz',\n",
       " 'bfb',\n",
       " 'bgsg',\n",
       " 'bh',\n",
       " 'bhagwan',\n",
       " 'bhai',\n",
       " 'bhi',\n",
       " 'bhim',\n",
       " 'bhojpuri',\n",
       " 'bhool',\n",
       " 'bidy',\n",
       " 'big',\n",
       " 'biggie',\n",
       " 'bigsales',\n",
       " 'bike',\n",
       " 'bikram',\n",
       " 'bilal',\n",
       " 'bilingual',\n",
       " 'bill',\n",
       " 'billing',\n",
       " 'billion',\n",
       " 'bin',\n",
       " 'bind',\n",
       " 'binder',\n",
       " 'binge',\n",
       " 'biodegradables',\n",
       " 'bird',\n",
       " 'birmingham',\n",
       " 'birthday',\n",
       " 'bit',\n",
       " 'bitch',\n",
       " 'bite',\n",
       " 'bitrates',\n",
       " 'bizarre',\n",
       " 'bjpindia',\n",
       " 'black',\n",
       " 'black_heart',\n",
       " 'blacklist',\n",
       " 'blackmailingis',\n",
       " 'blackout',\n",
       " 'blah',\n",
       " 'blair',\n",
       " 'blame',\n",
       " 'blank',\n",
       " 'blanket',\n",
       " 'blatant',\n",
       " 'blatantly',\n",
       " 'blew',\n",
       " 'blindly',\n",
       " 'block',\n",
       " 'blocked',\n",
       " 'bloddy',\n",
       " 'blood',\n",
       " 'bloody',\n",
       " 'blow',\n",
       " 'blown',\n",
       " 'blu',\n",
       " 'blue',\n",
       " 'blue_heart',\n",
       " 'bluetooth',\n",
       " 'bluff',\n",
       " 'bluray',\n",
       " 'blurry',\n",
       " 'blurts',\n",
       " 'bng',\n",
       " 'bnsc',\n",
       " 'board',\n",
       " 'boast',\n",
       " 'boat',\n",
       " 'boathead',\n",
       " 'boc',\n",
       " 'body',\n",
       " 'bogus',\n",
       " 'bold',\n",
       " 'bollywood',\n",
       " 'boo',\n",
       " 'book',\n",
       " 'bookshelf',\n",
       " 'bookswater',\n",
       " 'borda',\n",
       " 'bore',\n",
       " 'borrowed',\n",
       " 'bos',\n",
       " 'bosch',\n",
       " 'boss',\n",
       " 'bosslady',\n",
       " 'bot',\n",
       " 'bother',\n",
       " 'bothering',\n",
       " 'bots',\n",
       " 'bottle',\n",
       " 'bottom',\n",
       " 'bought',\n",
       " 'bounce',\n",
       " 'bout',\n",
       " 'bowl',\n",
       " 'box',\n",
       " 'boxbut',\n",
       " 'boxes',\n",
       " 'boxesshes',\n",
       " 'boy',\n",
       " 'boycott',\n",
       " 'boycottalexa',\n",
       " 'boycottamazon',\n",
       " 'boycottamazonpay',\n",
       " 'boycottingflipkart',\n",
       " 'boys',\n",
       " 'br',\n",
       " 'brain',\n",
       " 'braindead',\n",
       " 'brake',\n",
       " 'brand',\n",
       " 'branded',\n",
       " 'bravo',\n",
       " 'brazil',\n",
       " 'breach',\n",
       " 'break',\n",
       " 'breakable',\n",
       " 'breaking',\n",
       " 'breakwater',\n",
       " 'breathe',\n",
       " 'breathpause',\n",
       " 'brenda',\n",
       " 'brexit',\n",
       " 'brexitbritain',\n",
       " 'brick',\n",
       " 'brief',\n",
       " 'briefkasten',\n",
       " 'brighten',\n",
       " 'briiliant',\n",
       " 'brill',\n",
       " 'brilliant',\n",
       " 'bring',\n",
       " 'bringbackthegood',\n",
       " 'bringbackthegoodwife',\n",
       " 'bringbackthexfiles',\n",
       " 'brings',\n",
       " 'bro',\n",
       " 'broadcast',\n",
       " 'broadcaster',\n",
       " 'broken',\n",
       " 'broken_heart',\n",
       " 'brother',\n",
       " 'brought',\n",
       " 'browse',\n",
       " 'browser',\n",
       " 'bru',\n",
       " 'bruh',\n",
       " 'bsnl',\n",
       " 'bt',\n",
       " 'bu',\n",
       " 'bubble',\n",
       " 'buck',\n",
       " 'buckeye',\n",
       " 'bud',\n",
       " 'buddy',\n",
       " 'budget',\n",
       " 'budgetsession',\n",
       " 'buffer',\n",
       " 'buffering',\n",
       " 'bug',\n",
       " 'buggy',\n",
       " 'build',\n",
       " 'building',\n",
       " 'buisness',\n",
       " 'bulb',\n",
       " 'bulky',\n",
       " 'bullshit',\n",
       " 'bully',\n",
       " 'bum',\n",
       " 'bump',\n",
       " 'bunch',\n",
       " 'bundle',\n",
       " 'bungie',\n",
       " 'bus',\n",
       " 'bush',\n",
       " 'business',\n",
       " 'businessinsider',\n",
       " 'businessman',\n",
       " 'busy',\n",
       " 'but',\n",
       " 'butt',\n",
       " 'butthurt',\n",
       " 'button',\n",
       " 'buy',\n",
       " 'buyer',\n",
       " 'buyerguaranteeamazonin',\n",
       " 'buyerseller',\n",
       " 'buying',\n",
       " 'buys',\n",
       " 'buzzfeeduk',\n",
       " 'bw',\n",
       " 'by',\n",
       " 'bycottamazon',\n",
       " 'bycottflipkart',\n",
       " 'bye',\n",
       " 'bypass',\n",
       " 'byqojas',\n",
       " 'ca',\n",
       " 'cable',\n",
       " 'cache',\n",
       " 'calcium',\n",
       " 'calculate',\n",
       " 'california',\n",
       " 'call',\n",
       " 'callamazonhelp',\n",
       " 'callback',\n",
       " 'callednot',\n",
       " 'caller',\n",
       " 'callhe',\n",
       " 'calli',\n",
       " 'callmail',\n",
       " 'callousness',\n",
       " 'camera',\n",
       " 'campaign',\n",
       " 'campbell',\n",
       " 'can',\n",
       " 'canada',\n",
       " 'canadapostcorp',\n",
       " 'canadian',\n",
       " 'cancel',\n",
       " 'cancelation',\n",
       " 'cancellation',\n",
       " 'cancelled',\n",
       " 'cancelledreturned',\n",
       " 'cancelling',\n",
       " 'cancelprimeacct',\n",
       " 'canclldevery',\n",
       " 'canclled',\n",
       " 'candere',\n",
       " 'candle',\n",
       " 'cannot',\n",
       " 'cant',\n",
       " 'cap',\n",
       " 'capable',\n",
       " 'capital',\n",
       " 'capitalfloat',\n",
       " 'captcha',\n",
       " 'capture',\n",
       " 'car',\n",
       " 'caramel',\n",
       " 'carbon',\n",
       " 'card',\n",
       " 'cardboard',\n",
       " 'care',\n",
       " 'careful',\n",
       " 'carefully',\n",
       " 'careless',\n",
       " 'caremagicpin',\n",
       " 'cargo',\n",
       " 'carlisle',\n",
       " 'carport',\n",
       " 'carrier',\n",
       " 'carrierall',\n",
       " 'carrot',\n",
       " 'carry',\n",
       " 'carseat',\n",
       " 'cart',\n",
       " 'cartoon',\n",
       " 'case',\n",
       " 'caseback',\n",
       " 'casesemail',\n",
       " 'cash',\n",
       " 'cashapp',\n",
       " 'cashback',\n",
       " 'cashbackdream',\n",
       " 'cashbacki',\n",
       " 'cashbackplesse',\n",
       " 'cashbacks',\n",
       " 'cashbackwhy',\n",
       " 'cashless',\n",
       " 'cast',\n",
       " 'casual',\n",
       " 'cat',\n",
       " 'catalogue',\n",
       " 'catch',\n",
       " 'category',\n",
       " 'cattle',\n",
       " 'caught',\n",
       " 'cause',\n",
       " 'cbs',\n",
       " 'cbsallaccess',\n",
       " 'cc',\n",
       " 'cces',\n",
       " 'ccjeffbezos',\n",
       " 'cctv',\n",
       " 'cd',\n",
       " 'cdrs',\n",
       " 'cease',\n",
       " 'cec',\n",
       " 'ceiling',\n",
       " 'ceinwen',\n",
       " 'celebrity',\n",
       " 'cell',\n",
       " 'cello',\n",
       " 'cellphone',\n",
       " 'censor',\n",
       " 'center',\n",
       " 'central',\n",
       " 'centre',\n",
       " 'centric',\n",
       " 'ceo',\n",
       " 'ceoofsamsungmy',\n",
       " 'certain',\n",
       " 'certainly',\n",
       " 'certificate',\n",
       " 'certification',\n",
       " 'cesspool',\n",
       " 'cetech',\n",
       " 'cffwhre',\n",
       " 'chaet',\n",
       " 'chain',\n",
       " 'chair',\n",
       " 'chance',\n",
       " 'chandigarh',\n",
       " 'change',\n",
       " 'channel',\n",
       " 'channelfox',\n",
       " 'chapter',\n",
       " 'character',\n",
       " ...]"
      ]
     },
     "execution_count": 146,
     "metadata": {},
     "output_type": "execute_result"
    }
   ],
   "source": [
    "vocab"
   ]
  },
  {
   "cell_type": "code",
   "execution_count": 147,
   "metadata": {},
   "outputs": [
    {
     "data": {
      "text/plain": [
       "RandomForestClassifier(bootstrap=True, ccp_alpha=0.0,\n",
       "                       class_weight={False: 0.9, True: 0.1}, criterion='gini',\n",
       "                       max_depth=None, max_features='auto', max_leaf_nodes=None,\n",
       "                       max_samples=None, min_impurity_decrease=0.0,\n",
       "                       min_impurity_split=None, min_samples_leaf=1,\n",
       "                       min_samples_split=2, min_weight_fraction_leaf=0.0,\n",
       "                       n_estimators=200, n_jobs=4, oob_score=False,\n",
       "                       random_state=None, verbose=1, warm_start=False)"
      ]
     },
     "execution_count": 147,
     "metadata": {},
     "output_type": "execute_result"
    }
   ],
   "source": [
    "model"
   ]
  },
  {
   "cell_type": "markdown",
   "metadata": {},
   "source": [
    "## Samples "
   ]
  },
  {
   "cell_type": "code",
   "execution_count": 148,
   "metadata": {},
   "outputs": [],
   "source": [
    "#SAMPLES DE TOUTES LES CATEGORIES\n",
    "\n",
    "##on recupere les tweets urgents manqués\n",
    "\n",
    "#urgents and not urgents tweets index\n",
    "positives = y_test[y_test==True].index\n",
    "negatives = y_test[y_test==False].index\n",
    "\n",
    "#correct and incorrect predictions index\n",
    "is_prediction_correct = y_test==y_preds\n",
    "correct_predictions   = is_prediction_correct[is_prediction_correct==True].index\n",
    "incorrect_predictions = is_prediction_correct[is_prediction_correct==False].index\n",
    "\n",
    "#true/false positive/negative index\n",
    "true_positive_index  = correct_predictions.intersection(positives)\n",
    "true_negative_index  = correct_predictions.intersection(negatives)\n",
    "false_positive_index = incorrect_predictions.intersection(negatives)\n",
    "false_negative_index = incorrect_predictions.intersection(positives)"
   ]
  },
  {
   "cell_type": "code",
   "execution_count": 149,
   "metadata": {},
   "outputs": [
    {
     "data": {
      "text/html": [
       "<div>\n",
       "<style scoped>\n",
       "    .dataframe tbody tr th:only-of-type {\n",
       "        vertical-align: middle;\n",
       "    }\n",
       "\n",
       "    .dataframe tbody tr th {\n",
       "        vertical-align: top;\n",
       "    }\n",
       "\n",
       "    .dataframe thead th {\n",
       "        text-align: right;\n",
       "    }\n",
       "</style>\n",
       "<table border=\"1\" class=\"dataframe\">\n",
       "  <thead>\n",
       "    <tr style=\"text-align: right;\">\n",
       "      <th></th>\n",
       "      <th>raw</th>\n",
       "    </tr>\n",
       "  </thead>\n",
       "  <tbody>\n",
       "    <tr>\n",
       "      <th>1467</th>\n",
       "      <td>Its been almost 15 days. I have received wrong product from amazon. No one from Amazon helped me out. No replies on mails, my call got disconnected. Going to take legal actions against Amazon. @JeffBezos @AmazonHelp @amazonIN @aajtak @timesofindia</td>\n",
       "    </tr>\n",
       "    <tr>\n",
       "      <th>3887</th>\n",
       "      <td>@AmazonHelp Can you advise me of the email address to contact Amazon Canada. Thanks</td>\n",
       "    </tr>\n",
       "    <tr>\n",
       "      <th>320</th>\n",
       "      <td>@amazonIN @amazon what's the update on this order? I didnt receive the item or any call from your executives or the delivery agent. All r pending. Will I b getting the delivery of this item - Yes of No?</td>\n",
       "    </tr>\n",
       "    <tr>\n",
       "      <th>3715</th>\n",
       "      <td>I was shopping 5000 rupees product  .Products are delivered today . All products are electronic accessories.before order I was unlocked 3 offers but customer service said today that in my order there is no cashback. If the offers expired why it show in offer page\\n@AmazonHelp  pic.twitter.com/vAHZ8XaHcn</td>\n",
       "    </tr>\n",
       "    <tr>\n",
       "      <th>94</th>\n",
       "      <td>@help_delhivery \\nTracking ID: 1337372405972\\n\\n@AmazonHelp \\nOrder# 404-6314692-1445951\\n\\n@amazonIN \\nWHERE IS MY ORDER \\n\\n@delhivery \\nOUT FOR DELIVERY \\n\\n@amazon \\nBUT NOT DELIVERED \\n\\nSINCE MORNING</td>\n",
       "    </tr>\n",
       "    <tr>\n",
       "      <th>...</th>\n",
       "      <td>...</td>\n",
       "    </tr>\n",
       "    <tr>\n",
       "      <th>5114</th>\n",
       "      <td>Bought through Nani &amp; Noa 5 star rating on your reviews.... awful!</td>\n",
       "    </tr>\n",
       "    <tr>\n",
       "      <th>5595</th>\n",
       "      <td>Despite that correspondence issue is yet to be resolved, the delivery agent has not delivered the product. When I spoke to customer care at delivery, they say app shows status as delivered. I’ve faced this issue several times before and unfortunately your team has done nothing.</td>\n",
       "    </tr>\n",
       "    <tr>\n",
       "      <th>3148</th>\n",
       "      <td>The reason is not stated. Can I have an explanation? I really fell discriminate by a decision not argued. I always paid and I was making a normal purchase. Why my account was blocked forever? \\n@ConsumerReports\\n@JeffBezos</td>\n",
       "    </tr>\n",
       "    <tr>\n",
       "      <th>1799</th>\n",
       "      <td>@JeffBezos @AmazonHelp @AmazonHelp Got only box without smartwatch,#pathetic , #unprofessional ,#feelingcheated</td>\n",
       "    </tr>\n",
       "    <tr>\n",
       "      <th>4631</th>\n",
       "      <td>For resetting the password it would send OTP to that person’s phone number. When I dial the phoned mentioned 180030001593 it goes to some talk line and not amazon IN</td>\n",
       "    </tr>\n",
       "  </tbody>\n",
       "</table>\n",
       "<p>920 rows × 1 columns</p>\n",
       "</div>"
      ],
      "text/plain": [
       "                                                                                                                                                                                                                                                                                                                   raw\n",
       "1467                                                           Its been almost 15 days. I have received wrong product from amazon. No one from Amazon helped me out. No replies on mails, my call got disconnected. Going to take legal actions against Amazon. @JeffBezos @AmazonHelp @amazonIN @aajtak @timesofindia\n",
       "3887                                                                                                                                                                                                                               @AmazonHelp Can you advise me of the email address to contact Amazon Canada. Thanks\n",
       "320                                                                                                         @amazonIN @amazon what's the update on this order? I didnt receive the item or any call from your executives or the delivery agent. All r pending. Will I b getting the delivery of this item - Yes of No?\n",
       "3715  I was shopping 5000 rupees product  .Products are delivered today . All products are electronic accessories.before order I was unlocked 3 offers but customer service said today that in my order there is no cashback. If the offers expired why it show in offer page\\n@AmazonHelp  pic.twitter.com/vAHZ8XaHcn\n",
       "94                                                                                                       @help_delhivery \\nTracking ID: 1337372405972\\n\\n@AmazonHelp \\nOrder# 404-6314692-1445951\\n\\n@amazonIN \\nWHERE IS MY ORDER \\n\\n@delhivery \\nOUT FOR DELIVERY \\n\\n@amazon \\nBUT NOT DELIVERED \\n\\nSINCE MORNING\n",
       "...                                                                                                                                                                                                                                                                                                                ...\n",
       "5114                                                                                                                                                                                                                                                Bought through Nani & Noa 5 star rating on your reviews.... awful!\n",
       "5595                            Despite that correspondence issue is yet to be resolved, the delivery agent has not delivered the product. When I spoke to customer care at delivery, they say app shows status as delivered. I’ve faced this issue several times before and unfortunately your team has done nothing.\n",
       "3148                                                                                    The reason is not stated. Can I have an explanation? I really fell discriminate by a decision not argued. I always paid and I was making a normal purchase. Why my account was blocked forever? \\n@ConsumerReports\\n@JeffBezos\n",
       "1799                                                                                                                                                                                                   @JeffBezos @AmazonHelp @AmazonHelp Got only box without smartwatch,#pathetic , #unprofessional ,#feelingcheated\n",
       "4631                                                                                                                                             For resetting the password it would send OTP to that person’s phone number. When I dial the phoned mentioned 180030001593 it goes to some talk line and not amazon IN\n",
       "\n",
       "[920 rows x 1 columns]"
      ]
     },
     "execution_count": 149,
     "metadata": {},
     "output_type": "execute_result"
    }
   ],
   "source": [
    "df.loc[true_positive_index][['raw']]"
   ]
  },
  {
   "cell_type": "code",
   "execution_count": 150,
   "metadata": {},
   "outputs": [
    {
     "data": {
      "text/html": [
       "<div>\n",
       "<style scoped>\n",
       "    .dataframe tbody tr th:only-of-type {\n",
       "        vertical-align: middle;\n",
       "    }\n",
       "\n",
       "    .dataframe tbody tr th {\n",
       "        vertical-align: top;\n",
       "    }\n",
       "\n",
       "    .dataframe thead th {\n",
       "        text-align: right;\n",
       "    }\n",
       "</style>\n",
       "<table border=\"1\" class=\"dataframe\">\n",
       "  <thead>\n",
       "    <tr style=\"text-align: right;\">\n",
       "      <th></th>\n",
       "      <th>raw</th>\n",
       "    </tr>\n",
       "  </thead>\n",
       "  <tbody>\n",
       "    <tr>\n",
       "      <th>2796</th>\n",
       "      <td>Thank you 😊</td>\n",
       "    </tr>\n",
       "    <tr>\n",
       "      <th>5290</th>\n",
       "      <td>Wow, thanks! Presumably they'll contact me to collect it for recycling?</td>\n",
       "    </tr>\n",
       "    <tr>\n",
       "      <th>822</th>\n",
       "      <td>@AmazonHelp when will good newz be streaming???</td>\n",
       "    </tr>\n",
       "    <tr>\n",
       "      <th>406</th>\n",
       "      <td>Until @AmazonHelp removed it from @primevideouk... https://twitter.com/GoodBadBasicPod/status/1223366827021152258 …</td>\n",
       "    </tr>\n",
       "    <tr>\n",
       "      <th>1324</th>\n",
       "      <td>This is how bad @amazon @AmazonHelp @WholeFoods @JeffBezos is.....\\n\\nDisgusting. pic.twitter.com/w02BzHXAuB</td>\n",
       "    </tr>\n",
       "    <tr>\n",
       "      <th>4045</th>\n",
       "      <td>Need immediate solution already geeting too late\\nPlease need refund or replace\\n@AmazonHelp</td>\n",
       "    </tr>\n",
       "    <tr>\n",
       "      <th>4561</th>\n",
       "      <td>#USA #JeffBezos\\n---The World Richest man SUED---\\n.@JeffBezos .@washingtonpost .@NationaIEnquire .@AmazonHelp .@Forbes .@moiraforbes .@TheWallGroup .@amazon .@BillGates pic.twitter.com/8LUqFIQWTR</td>\n",
       "    </tr>\n",
       "    <tr>\n",
       "      <th>403</th>\n",
       "      <td>@AmazonHelp do. something. about. it.  https://twitter.com/jay_tyler/status/1223346037508710408 …</td>\n",
       "    </tr>\n",
       "    <tr>\n",
       "      <th>641</th>\n",
       "      <td>. @AmazonHelp @cynic314 Do you know if you set up an Alexa Skill or Alexa Routine previously on the device? Let us know, thanks! ^DAS</td>\n",
       "    </tr>\n",
       "    <tr>\n",
       "      <th>4298</th>\n",
       "      <td>I see you brought back The Nanny to South America, helllooo @AmazonHelp @PrimeVideo BRING IT BACK EVERYWHERE 😭😭😭 pic.twitter.com/ENh9mDOxZY</td>\n",
       "    </tr>\n",
       "    <tr>\n",
       "      <th>2627</th>\n",
       "      <td>Wish to be lucky😍😍\\n#QuizTimeMorningsWithAmazon\\n@AmazonHelp\\n@Amazonquiztime\\n@amazonIN\\n@drarpita92 pic.twitter.com/zkiYmjCY0F</td>\n",
       "    </tr>\n",
       "    <tr>\n",
       "      <th>5126</th>\n",
       "      <td>@AmazonHelp I’ve messaged you</td>\n",
       "    </tr>\n",
       "    <tr>\n",
       "      <th>1417</th>\n",
       "      <td>Well done Gisele. You have been an advocate for all of those feeling uncertain if they are welcome. We are a nation of immigrants. All are welcome here.</td>\n",
       "    </tr>\n",
       "    <tr>\n",
       "      <th>536</th>\n",
       "      <td>We are filing consumer court case on monday against @TRAI @TataSky @AmazonHelp @amazonIN @amazon @redBus_in and shrinath travels</td>\n",
       "    </tr>\n",
       "    <tr>\n",
       "      <th>396</th>\n",
       "      <td>And now @amazonhelp have removed it from @primevideouk https://twitter.com/mednurselaura1/status/1223036127252230149 …</td>\n",
       "    </tr>\n",
       "    <tr>\n",
       "      <th>3020</th>\n",
       "      <td>Thank you!!</td>\n",
       "    </tr>\n",
       "    <tr>\n",
       "      <th>646</th>\n",
       "      <td>. @MoodySlayerUK @AmazonHelp Base ball season starts soon, any chance to official MLB Alexa skill can be activated in the UK?  https://t.c...</td>\n",
       "    </tr>\n",
       "    <tr>\n",
       "      <th>2677</th>\n",
       "      <td>Heh @AmazonHelp fix this!  https://twitter.com/edward_kimmy/status/1198737384327790593 …</td>\n",
       "    </tr>\n",
       "    <tr>\n",
       "      <th>1099</th>\n",
       "      <td>@AmazonHelp and still no response from customer service about how awful I was treated last week. But why should a huge conglomerate like amazon give a rats a$$ about me? I’m just another little pee-on 🤬</td>\n",
       "    </tr>\n",
       "    <tr>\n",
       "      <th>4390</th>\n",
       "      <td>[Alt for other images: Calvin ack'd Amazon's necessity to some people, related they had their own issues w delivery when they were disabled, and lamented that @AmazonHelp has been unaccountable in helping this year, and will send that info to their management.]  \\n\\n#ThanksCalvinS</td>\n",
       "    </tr>\n",
       "    <tr>\n",
       "      <th>5969</th>\n",
       "      <td>So why advertise it as available? I'm about done with Prime. Little decent content.</td>\n",
       "    </tr>\n",
       "    <tr>\n",
       "      <th>6041</th>\n",
       "      <td>The issue isn't with the FireTV, the issue is that the @cbs @CBSAllAccess service right now is extremely unreliable.</td>\n",
       "    </tr>\n",
       "    <tr>\n",
       "      <th>3650</th>\n",
       "      <td>Thanks I see it takes a while to be credited back ty for response</td>\n",
       "    </tr>\n",
       "    <tr>\n",
       "      <th>369</th>\n",
       "      <td>Come on @AmazonUK @AmazonHelp #BringBackTheGoodWife https://twitter.com/lightsonlennon/status/1223568414859501574 …</td>\n",
       "    </tr>\n",
       "    <tr>\n",
       "      <th>1606</th>\n",
       "      <td>@TwitchSupport @Twitch @AmazonHelp (9/9) There are still tons active accounts with the words \"Handsome\" and \"Stalin\" in them, why aren't they banned? Do they have no revenue for you to steal? Is having them as \"active\" users a KPI for you? @Amazon must be proud of #Twitch</td>\n",
       "    </tr>\n",
       "    <tr>\n",
       "      <th>354</th>\n",
       "      <td>Nope @AmazonUK @AmazonHelp and @primevideouk have totally ghosted me 🙄 #BringBackTheGoodWife</td>\n",
       "    </tr>\n",
       "    <tr>\n",
       "      <th>1721</th>\n",
       "      <td>@AmazonHelp @amazon @CNN @AppleNews @TMZ @washingtonpost why are amazon flex drivers being penalized &amp; deactivated for late package delivery as a result of not receiving them until 45 minutes after our shift has begun? That’s not a valid reason to take food off a family’s table! pic.twitter.com/svyGkSZddv</td>\n",
       "    </tr>\n",
       "    <tr>\n",
       "      <th>1299</th>\n",
       "      <td>I'm finished with this. Amazon has had 3 attempts to get an item to me, and has messed up each time. I am not wasting anymore time on this. I will just get the CD elsewhere. No follow up messages are needed.</td>\n",
       "    </tr>\n",
       "    <tr>\n",
       "      <th>2632</th>\n",
       "      <td>Wish to win😀\\n#AmazonWheelOfFortune\\n@AmazonHelp\\n@Amazonquiztime\\n@amazonIN\\n@drarpita92 pic.twitter.com/MnKuE2kheq</td>\n",
       "    </tr>\n",
       "    <tr>\n",
       "      <th>538</th>\n",
       "      <td>oh hell no</td>\n",
       "    </tr>\n",
       "    <tr>\n",
       "      <th>2457</th>\n",
       "      <td>@AmazonHelp \\n\\nOffer 1:\\nIf min bill is 200₹ and max cashback is 50₹ then how come it's 50% off 🤦🏽‍♂\\n\\n25% right?\\n\\nOffer 2:\\n\\nIf min bill is 500₹ and max cashback is 100₹ then how come it's 50% off 🤦🏽‍♂\\n\\n20% right?  pic.twitter.com/5iirB4Ez1r</td>\n",
       "    </tr>\n",
       "    <tr>\n",
       "      <th>373</th>\n",
       "      <td>This. Come on guys! @AmazonHelp  https://twitter.com/laurawire/status/1223385930230353920 …</td>\n",
       "    </tr>\n",
       "    <tr>\n",
       "      <th>351</th>\n",
       "      <td>It’s no longer on @primevideouk 😭. @AmazonHelp @AmazonUK #BringBackTheGoodWife https://twitter.com/dianalovesmaths/status/1224036188392251392 …</td>\n",
       "    </tr>\n",
       "    <tr>\n",
       "      <th>589</th>\n",
       "      <td>@Amazon I will tweet everyday until my money is returned. This company is complete pirates. Not even a warning before they let you fill up your account with sales to steal it away with an email @AmazonHelp @amazon #amazon #gunholsters #jeffbezos #gofundme  https://www.gofundme.com/f/help-me-fight-amazon-and-bezos-wicked-ways?utm_source=customer&amp;utm_medium=copy_link&amp;utm_campaign=p_cf+share-flow-1 … pic.twitter.com/fL6yIZyGDN</td>\n",
       "    </tr>\n",
       "    <tr>\n",
       "      <th>5648</th>\n",
       "      <td>😂 Saturday mornings will never be the same again.</td>\n",
       "    </tr>\n",
       "    <tr>\n",
       "      <th>2004</th>\n",
       "      <td>This has backfired massively. Come across as a penny pinching wasteman.</td>\n",
       "    </tr>\n",
       "    <tr>\n",
       "      <th>389</th>\n",
       "      <td>@AmazonHelp bring. it. back.  https://twitter.com/oldmetalguru/status/1222979012546514944 …</td>\n",
       "    </tr>\n",
       "    <tr>\n",
       "      <th>1630</th>\n",
       "      <td>@TwitchSupport @Twitch @AmazonHelp (3/9) I've used this name on @Twitch for years and spent hundreds of dollars on subs and bits on this account and I completed the PtP achievement as well. There has been no response to my case at #Twitch 02740429 I submitted on 8/1</td>\n",
       "    </tr>\n",
       "    <tr>\n",
       "      <th>5790</th>\n",
       "      <td>Vsf Amazon prime, removeu seinfeld vou cancelar minha assinatura @AmazonHelp @PrimeVideo Im going to unsubscribe since seinfeld is not available anymore bye\\n\\nNettlix&gt;&gt;&gt;&gt;&gt;&gt;&gt;you</td>\n",
       "    </tr>\n",
       "    <tr>\n",
       "      <th>2770</th>\n",
       "      <td>So much for freedom of speech. pic.twitter.com/nC6rdSu3sz</td>\n",
       "    </tr>\n",
       "    <tr>\n",
       "      <th>1614</th>\n",
       "      <td>@TwitchSupport @Twitch @AmazonHelp (1/9) These are automated tweets because #Twitch customer support is so shit and @Amazon should know about it. These tweets will show up until my issue is resolved plus every additional day they ignore this :)</td>\n",
       "    </tr>\n",
       "    <tr>\n",
       "      <th>2869</th>\n",
       "      <td>@AmazonUK Apparently, looking on line, this is an automated response from Amazon's system and not a genuine message. Corporate Irresponsibility. You should be ashamed.</td>\n",
       "    </tr>\n",
       "    <tr>\n",
       "      <th>1627</th>\n",
       "      <td>@TwitchSupport @Twitch @AmazonHelp (6/9) Why does #Twitch issue an indefinite ban without any warning on an account with no strikes or provide an option to change your username before the ban occurs with a simple form like a password reset?</td>\n",
       "    </tr>\n",
       "    <tr>\n",
       "      <th>2934</th>\n",
       "      <td>But all the other Amazon operations around the world will continue to contribute to the global plastic problem?</td>\n",
       "    </tr>\n",
       "    <tr>\n",
       "      <th>400</th>\n",
       "      <td>If @NetflixUK can bring back Gossip Girl you can bring back The Good Wife @AmazonHelp  https://twitter.com/amazonhelp/status/1223326548545150984 …</td>\n",
       "    </tr>\n",
       "    <tr>\n",
       "      <th>1454</th>\n",
       "      <td>@AmazonHelp LOL ITS FUNNY NOW.....</td>\n",
       "    </tr>\n",
       "    <tr>\n",
       "      <th>573</th>\n",
       "      <td>@AmazonHelp what do you want me to do , it's your fault I am not getting my fault , I just wanted my order to come @amazon https://twitter.com/AmazonHelp/status/1224742636248096774 …</td>\n",
       "    </tr>\n",
       "    <tr>\n",
       "      <th>1631</th>\n",
       "      <td>@TwitchSupport @Twitch @AmazonHelp (2/9) My account was indefinitely banned on 8/1/2019 for \"An inappropriate username\". I still have thousands of bits on this account and over $1,000 in sub and bit revenue as a streamer that #Twitch has now stolen</td>\n",
       "    </tr>\n",
       "    <tr>\n",
       "      <th>2764</th>\n",
       "      <td>We live in our own #treasuretruck, the #emilytreasuretruck #spl @SPLBuzz pic.twitter.com/jIJKMUWmJR</td>\n",
       "    </tr>\n",
       "    <tr>\n",
       "      <th>3115</th>\n",
       "      <td>Thank you.  ❤️</td>\n",
       "    </tr>\n",
       "    <tr>\n",
       "      <th>1024</th>\n",
       "      <td>And it’s been removed ... !  Thanks @amazon @AmazonHelp 💕  pic.twitter.com/LMJwefTAcn</td>\n",
       "    </tr>\n",
       "    <tr>\n",
       "      <th>4047</th>\n",
       "      <td>I have get mail about refund/replace .. that's  my mail ID only so plz process further when am getting replace/refund almost 1 week passed @AmazonHelp @amazon @amazon</td>\n",
       "    </tr>\n",
       "    <tr>\n",
       "      <th>5477</th>\n",
       "      <td>Hey @AmazonUK @AmazonHelp how do you justify recording this information? Seems to me that recording such sensitive info without good reason is against GDPR regulations #GDPR #dataprotection #dataprivacy</td>\n",
       "    </tr>\n",
       "    <tr>\n",
       "      <th>365</th>\n",
       "      <td>. @primevideouk this could be us, but you removed The Good Wife from Prime. #BringBackTheGoodWife @AmazonUK @AmazonHelp 💔.  pic.twitter.com/kMZRSSjSmj</td>\n",
       "    </tr>\n",
       "    <tr>\n",
       "      <th>595</th>\n",
       "      <td>@amazonhelp that was no help me to either. already took every step I could take with you guys. I wouldn't be so anal about if I still didn't have $5 in gift card balance sitting in my account. at least give me back my $5 credit seeing as in probably forced into a new account.</td>\n",
       "    </tr>\n",
       "    <tr>\n",
       "      <th>5871</th>\n",
       "      <td>I'm glad you're keeping a watch on this and bringing attention where needed!</td>\n",
       "    </tr>\n",
       "    <tr>\n",
       "      <th>5246</th>\n",
       "      <td>Hu bro thank you 🤗👍</td>\n",
       "    </tr>\n",
       "    <tr>\n",
       "      <th>5248</th>\n",
       "      <td>Reason for this please!!!!!!\\n@AmazonHelp @PrimeVideoIN pic.twitter.com/7A6NpzvUDf</td>\n",
       "    </tr>\n",
       "    <tr>\n",
       "      <th>3859</th>\n",
       "      <td>@AmazonHelp @amazon let’s make it simple, may I bought the product for the some price or not.... I have a dream that @JeffBezos would read this message</td>\n",
       "    </tr>\n",
       "    <tr>\n",
       "      <th>5858</th>\n",
       "      <td>I want to make sure everyone knows that @amazon and @AmazonHelp  how they actually treat their customers... Very poorly.</td>\n",
       "    </tr>\n",
       "    <tr>\n",
       "      <th>3168</th>\n",
       "      <td>Isn't fair for anyone. The CD was signed by @Louis_Tomlinson, that's the value of this order and the cancelation isn't only me, it's a lot of fans with. Hope you'll fix this and could have another stock of Walls signed.</td>\n",
       "    </tr>\n",
       "    <tr>\n",
       "      <th>1613</th>\n",
       "      <td>@TwitchSupport @Twitch @AmazonHelp (2/9) My account was indefinitely banned on 8/1/2019 for \"An inappropriate username\". I still have thousands of bits on this account and over $1,000 in sub and bit revenue as a streamer that #Twitch has now stolen</td>\n",
       "    </tr>\n",
       "    <tr>\n",
       "      <th>1625</th>\n",
       "      <td>@TwitchSupport @Twitch @AmazonHelp (8/9) Why does #Twitch think that with more streaming platforms popping up such as #Mixer or #YouTubeGaming that it is OK to have such inconsistent standards when it comes to TOS and customer support and to literally rob their users?</td>\n",
       "    </tr>\n",
       "    <tr>\n",
       "      <th>2532</th>\n",
       "      <td>also wrong, i am from Saudi Arabia 🇸🇦</td>\n",
       "    </tr>\n",
       "    <tr>\n",
       "      <th>638</th>\n",
       "      <td>. @SmartHomes__ . @SmartHomes__ . @ShieldVoC RT @SmartHomes__: . @AmazonHelp @cynic314 Do you know if you set up an Alexa Skill or Alexa...</td>\n",
       "    </tr>\n",
       "    <tr>\n",
       "      <th>899</th>\n",
       "      <td>Hey @amazon @AmazonHelp @JeffBezos is this for real?? 🥴 https://twitter.com/amazondating/status/1224861673766260736 …</td>\n",
       "    </tr>\n",
       "    <tr>\n",
       "      <th>5355</th>\n",
       "      <td>Why is @amazon @alexa99 giving out the wrong date for the #StateOfTheUnion ? Perhaps someone at @AmazonHelp can tell us who programmed in the wrong date! @realDonaldTrump\\n#Alexa #AlexaTDS\\n#Amazon #AmazonTDS</td>\n",
       "    </tr>\n",
       "    <tr>\n",
       "      <th>5993</th>\n",
       "      <td>@AmazonHelp 𝘽𝙔 𝙔𝙊𝙐𝙍 𝘿𝙍𝙄𝙑𝙀𝙍𝙎!!𝙄 𝙥𝙪𝙩 𝙖 𝙨𝙞𝙜𝙣 𝙤𝙣 𝙢𝙮 𝙙𝙤𝙤𝙧 𝙖𝙣𝙙 𝙞𝙣 𝙢𝙮 𝘼𝙢𝙖𝙯𝙤𝙣 𝙛𝙞𝙡𝙚. 𝙉𝙤 𝙢𝙤𝙧𝙚 𝙨𝙩𝙤𝙡𝙚𝙣 𝙥𝙖𝙘𝙠𝙖𝙜𝙚𝙨. 𝙅𝙪𝙨𝙩 𝙮𝙤𝙪𝙧 𝙙𝙧𝙞𝙫𝙚𝙧𝙨 𝙉𝙊𝙏 𝙛𝙤𝙡𝙡𝙤𝙬𝙞𝙣𝙜  my 𝙞𝙣𝙨𝙩𝙧𝙪𝙘𝙩𝙞𝙤𝙣𝙨.</td>\n",
       "    </tr>\n",
       "  </tbody>\n",
       "</table>\n",
       "</div>"
      ],
      "text/plain": [
       "                                                                                                                                                                                                                                                                                                                                                                                                                                              raw\n",
       "2796                                                                                                                                                                                                                                                                                                                                                                                                                                  Thank you 😊\n",
       "5290                                                                                                                                                                                                                                                                                                                                                                      Wow, thanks! Presumably they'll contact me to collect it for recycling?\n",
       "822                                                                                                                                                                                                                                                                                                                                                                                               @AmazonHelp when will good newz be streaming???\n",
       "406                                                                                                                                                                                                                                                                                                                           Until @AmazonHelp removed it from @primevideouk... https://twitter.com/GoodBadBasicPod/status/1223366827021152258 …\n",
       "1324                                                                                                                                                                                                                                                                                                                                 This is how bad @amazon @AmazonHelp @WholeFoods @JeffBezos is.....\\n\\nDisgusting. pic.twitter.com/w02BzHXAuB\n",
       "4045                                                                                                                                                                                                                                                                                                                                                 Need immediate solution already geeting too late\\nPlease need refund or replace\\n@AmazonHelp\n",
       "4561                                                                                                                                                                                                                                         #USA #JeffBezos\\n---The World Richest man SUED---\\n.@JeffBezos .@washingtonpost .@NationaIEnquire .@AmazonHelp .@Forbes .@moiraforbes .@TheWallGroup .@amazon .@BillGates pic.twitter.com/8LUqFIQWTR\n",
       "403                                                                                                                                                                                                                                                                                                                                             @AmazonHelp do. something. about. it.  https://twitter.com/jay_tyler/status/1223346037508710408 …\n",
       "641                                                                                                                                                                                                                                                                                                         . @AmazonHelp @cynic314 Do you know if you set up an Alexa Skill or Alexa Routine previously on the device? Let us know, thanks! ^DAS\n",
       "4298                                                                                                                                                                                                                                                                                                  I see you brought back The Nanny to South America, helllooo @AmazonHelp @PrimeVideo BRING IT BACK EVERYWHERE 😭😭😭 pic.twitter.com/ENh9mDOxZY\n",
       "2627                                                                                                                                                                                                                                                                                                             Wish to be lucky😍😍\\n#QuizTimeMorningsWithAmazon\\n@AmazonHelp\\n@Amazonquiztime\\n@amazonIN\\n@drarpita92 pic.twitter.com/zkiYmjCY0F\n",
       "5126                                                                                                                                                                                                                                                                                                                                                                                                                @AmazonHelp I’ve messaged you\n",
       "1417                                                                                                                                                                                                                                                                                     Well done Gisele. You have been an advocate for all of those feeling uncertain if they are welcome. We are a nation of immigrants. All are welcome here.\n",
       "536                                                                                                                                                                                                                                                                                                              We are filing consumer court case on monday against @TRAI @TataSky @AmazonHelp @amazonIN @amazon @redBus_in and shrinath travels\n",
       "396                                                                                                                                                                                                                                                                                                                        And now @amazonhelp have removed it from @primevideouk https://twitter.com/mednurselaura1/status/1223036127252230149 …\n",
       "3020                                                                                                                                                                                                                                                                                                                                                                                                                                  Thank you!!\n",
       "646                                                                                                                                                                                                                                                                                                 . @MoodySlayerUK @AmazonHelp Base ball season starts soon, any chance to official MLB Alexa skill can be activated in the UK?  https://t.c...\n",
       "2677                                                                                                                                                                                                                                                                                                                                                     Heh @AmazonHelp fix this!  https://twitter.com/edward_kimmy/status/1198737384327790593 …\n",
       "1099                                                                                                                                                                                                                                   @AmazonHelp and still no response from customer service about how awful I was treated last week. But why should a huge conglomerate like amazon give a rats a$$ about me? I’m just another little pee-on 🤬\n",
       "4390                                                                                                                                                    [Alt for other images: Calvin ack'd Amazon's necessity to some people, related they had their own issues w delivery when they were disabled, and lamented that @AmazonHelp has been unaccountable in helping this year, and will send that info to their management.]  \\n\\n#ThanksCalvinS\n",
       "5969                                                                                                                                                                                                                                                                                                                                                          So why advertise it as available? I'm about done with Prime. Little decent content.\n",
       "6041                                                                                                                                                                                                                                                                                                                         The issue isn't with the FireTV, the issue is that the @cbs @CBSAllAccess service right now is extremely unreliable.\n",
       "3650                                                                                                                                                                                                                                                                                                                                                                            Thanks I see it takes a while to be credited back ty for response\n",
       "369                                                                                                                                                                                                                                                                                                                           Come on @AmazonUK @AmazonHelp #BringBackTheGoodWife https://twitter.com/lightsonlennon/status/1223568414859501574 …\n",
       "1606                                                                                                                                                             @TwitchSupport @Twitch @AmazonHelp (9/9) There are still tons active accounts with the words \"Handsome\" and \"Stalin\" in them, why aren't they banned? Do they have no revenue for you to steal? Is having them as \"active\" users a KPI for you? @Amazon must be proud of #Twitch\n",
       "354                                                                                                                                                                                                                                                                                                                                                  Nope @AmazonUK @AmazonHelp and @primevideouk have totally ghosted me 🙄 #BringBackTheGoodWife\n",
       "1721                                                                                                                           @AmazonHelp @amazon @CNN @AppleNews @TMZ @washingtonpost why are amazon flex drivers being penalized & deactivated for late package delivery as a result of not receiving them until 45 minutes after our shift has begun? That’s not a valid reason to take food off a family’s table! pic.twitter.com/svyGkSZddv\n",
       "1299                                                                                                                                                                                                                              I'm finished with this. Amazon has had 3 attempts to get an item to me, and has messed up each time. I am not wasting anymore time on this. I will just get the CD elsewhere. No follow up messages are needed.\n",
       "2632                                                                                                                                                                                                                                                                                                                         Wish to win😀\\n#AmazonWheelOfFortune\\n@AmazonHelp\\n@Amazonquiztime\\n@amazonIN\\n@drarpita92 pic.twitter.com/MnKuE2kheq\n",
       "538                                                                                                                                                                                                                                                                                                                                                                                                                                    oh hell no\n",
       "2457                                                                                                                                                                                    @AmazonHelp \\n\\nOffer 1:\\nIf min bill is 200₹ and max cashback is 50₹ then how come it's 50% off 🤦🏽‍♂\\n\\n25% right?\\n\\nOffer 2:\\n\\nIf min bill is 500₹ and max cashback is 100₹ then how come it's 50% off 🤦🏽‍♂\\n\\n20% right?  pic.twitter.com/5iirB4Ez1r\n",
       "373                                                                                                                                                                                                                                                                                                                                                   This. Come on guys! @AmazonHelp  https://twitter.com/laurawire/status/1223385930230353920 …\n",
       "351                                                                                                                                                                                                                                                                                               It’s no longer on @primevideouk 😭. @AmazonHelp @AmazonUK #BringBackTheGoodWife https://twitter.com/dianalovesmaths/status/1224036188392251392 …\n",
       "589   @Amazon I will tweet everyday until my money is returned. This company is complete pirates. Not even a warning before they let you fill up your account with sales to steal it away with an email @AmazonHelp @amazon #amazon #gunholsters #jeffbezos #gofundme  https://www.gofundme.com/f/help-me-fight-amazon-and-bezos-wicked-ways?utm_source=customer&utm_medium=copy_link&utm_campaign=p_cf+share-flow-1 … pic.twitter.com/fL6yIZyGDN\n",
       "5648                                                                                                                                                                                                                                                                                                                                                                                            😂 Saturday mornings will never be the same again.\n",
       "2004                                                                                                                                                                                                                                                                                                                                                                      This has backfired massively. Come across as a penny pinching wasteman.\n",
       "389                                                                                                                                                                                                                                                                                                                                                   @AmazonHelp bring. it. back.  https://twitter.com/oldmetalguru/status/1222979012546514944 …\n",
       "1630                                                                                                                                                                   @TwitchSupport @Twitch @AmazonHelp (3/9) I've used this name on @Twitch for years and spent hundreds of dollars on subs and bits on this account and I completed the PtP achievement as well. There has been no response to my case at #Twitch 02740429 I submitted on 8/1\n",
       "5790                                                                                                                                                                                                                                                            Vsf Amazon prime, removeu seinfeld vou cancelar minha assinatura @AmazonHelp @PrimeVideo Im going to unsubscribe since seinfeld is not available anymore bye\\n\\nNettlix>>>>>>>you\n",
       "2770                                                                                                                                                                                                                                                                                                                                                                                    So much for freedom of speech. pic.twitter.com/nC6rdSu3sz\n",
       "1614                                                                                                                                                                                         @TwitchSupport @Twitch @AmazonHelp (1/9) These are automated tweets because #Twitch customer support is so shit and @Amazon should know about it. These tweets will show up until my issue is resolved plus every additional day they ignore this :)\n",
       "2869                                                                                                                                                                                                                                                                      @AmazonUK Apparently, looking on line, this is an automated response from Amazon's system and not a genuine message. Corporate Irresponsibility. You should be ashamed.\n",
       "1627                                                                                                                                                                                             @TwitchSupport @Twitch @AmazonHelp (6/9) Why does #Twitch issue an indefinite ban without any warning on an account with no strikes or provide an option to change your username before the ban occurs with a simple form like a password reset?\n",
       "2934                                                                                                                                                                                                                                                                                                                              But all the other Amazon operations around the world will continue to contribute to the global plastic problem?\n",
       "400                                                                                                                                                                                                                                                                                            If @NetflixUK can bring back Gossip Girl you can bring back The Good Wife @AmazonHelp  https://twitter.com/amazonhelp/status/1223326548545150984 …\n",
       "1454                                                                                                                                                                                                                                                                                                                                                                                                           @AmazonHelp LOL ITS FUNNY NOW.....\n",
       "573                                                                                                                                                                                                                                                        @AmazonHelp what do you want me to do , it's your fault I am not getting my fault , I just wanted my order to come @amazon https://twitter.com/AmazonHelp/status/1224742636248096774 …\n",
       "1631                                                                                                                                                                                     @TwitchSupport @Twitch @AmazonHelp (2/9) My account was indefinitely banned on 8/1/2019 for \"An inappropriate username\". I still have thousands of bits on this account and over $1,000 in sub and bit revenue as a streamer that #Twitch has now stolen\n",
       "2764                                                                                                                                                                                                                                                                                                                                          We live in our own #treasuretruck, the #emilytreasuretruck #spl @SPLBuzz pic.twitter.com/jIJKMUWmJR\n",
       "3115                                                                                                                                                                                                                                                                                                                                                                                                                               Thank you.  ❤️\n",
       "1024                                                                                                                                                                                                                                                                                                                                                        And it’s been removed ... !  Thanks @amazon @AmazonHelp 💕  pic.twitter.com/LMJwefTAcn\n",
       "4047                                                                                                                                                                                                                                                                       I have get mail about refund/replace .. that's  my mail ID only so plz process further when am getting replace/refund almost 1 week passed @AmazonHelp @amazon @amazon\n",
       "5477                                                                                                                                                                                                                                   Hey @AmazonUK @AmazonHelp how do you justify recording this information? Seems to me that recording such sensitive info without good reason is against GDPR regulations #GDPR #dataprotection #dataprivacy\n",
       "365                                                                                                                                                                                                                                                                                        . @primevideouk this could be us, but you removed The Good Wife from Prime. #BringBackTheGoodWife @AmazonUK @AmazonHelp 💔.  pic.twitter.com/kMZRSSjSmj\n",
       "595                                                                                                                                                          @amazonhelp that was no help me to either. already took every step I could take with you guys. I wouldn't be so anal about if I still didn't have $5 in gift card balance sitting in my account. at least give me back my $5 credit seeing as in probably forced into a new account.\n",
       "5871                                                                                                                                                                                                                                                                                                                                                                 I'm glad you're keeping a watch on this and bringing attention where needed!\n",
       "5246                                                                                                                                                                                                                                                                                                                                                                                                                          Hu bro thank you 🤗👍\n",
       "5248                                                                                                                                                                                                                                                                                                                                                           Reason for this please!!!!!!\\n@AmazonHelp @PrimeVideoIN pic.twitter.com/7A6NpzvUDf\n",
       "3859                                                                                                                                                                                                                                                                                      @AmazonHelp @amazon let’s make it simple, may I bought the product for the some price or not.... I have a dream that @JeffBezos would read this message\n",
       "5858                                                                                                                                                                                                                                                                                                                     I want to make sure everyone knows that @amazon and @AmazonHelp  how they actually treat their customers... Very poorly.\n",
       "3168                                                                                                                                                                                                                  Isn't fair for anyone. The CD was signed by @Louis_Tomlinson, that's the value of this order and the cancelation isn't only me, it's a lot of fans with. Hope you'll fix this and could have another stock of Walls signed.\n",
       "1613                                                                                                                                                                                     @TwitchSupport @Twitch @AmazonHelp (2/9) My account was indefinitely banned on 8/1/2019 for \"An inappropriate username\". I still have thousands of bits on this account and over $1,000 in sub and bit revenue as a streamer that #Twitch has now stolen\n",
       "1625                                                                                                                                                                 @TwitchSupport @Twitch @AmazonHelp (8/9) Why does #Twitch think that with more streaming platforms popping up such as #Mixer or #YouTubeGaming that it is OK to have such inconsistent standards when it comes to TOS and customer support and to literally rob their users?\n",
       "2532                                                                                                                                                                                                                                                                                                                                                                                                        also wrong, i am from Saudi Arabia 🇸🇦\n",
       "638                                                                                                                                                                                                                                                                                                   . @SmartHomes__ . @SmartHomes__ . @ShieldVoC RT @SmartHomes__: . @AmazonHelp @cynic314 Do you know if you set up an Alexa Skill or Alexa...\n",
       "899                                                                                                                                                                                                                                                                                                                         Hey @amazon @AmazonHelp @JeffBezos is this for real?? 🥴 https://twitter.com/amazondating/status/1224861673766260736 …\n",
       "5355                                                                                                                                                                                                                             Why is @amazon @alexa99 giving out the wrong date for the #StateOfTheUnion ? Perhaps someone at @AmazonHelp can tell us who programmed in the wrong date! @realDonaldTrump\\n#Alexa #AlexaTDS\\n#Amazon #AmazonTDS\n",
       "5993                                                                                                                                                                                                                                                                                       @AmazonHelp 𝘽𝙔 𝙔𝙊𝙐𝙍 𝘿𝙍𝙄𝙑𝙀𝙍𝙎!!𝙄 𝙥𝙪𝙩 𝙖 𝙨𝙞𝙜𝙣 𝙤𝙣 𝙢𝙮 𝙙𝙤𝙤𝙧 𝙖𝙣𝙙 𝙞𝙣 𝙢𝙮 𝘼𝙢𝙖𝙯𝙤𝙣 𝙛𝙞𝙡𝙚. 𝙉𝙤 𝙢𝙤𝙧𝙚 𝙨𝙩𝙤𝙡𝙚𝙣 𝙥𝙖𝙘𝙠𝙖𝙜𝙚𝙨. 𝙅𝙪𝙨𝙩 𝙮𝙤𝙪𝙧 𝙙𝙧𝙞𝙫𝙚𝙧𝙨 𝙉𝙊𝙏 𝙛𝙤𝙡𝙡𝙤𝙬𝙞𝙣𝙜  my 𝙞𝙣𝙨𝙩𝙧𝙪𝙘𝙩𝙞𝙤𝙣𝙨."
      ]
     },
     "execution_count": 150,
     "metadata": {},
     "output_type": "execute_result"
    }
   ],
   "source": [
    "df.loc[true_negative_index][['raw']]"
   ]
  },
  {
   "cell_type": "code",
   "execution_count": 151,
   "metadata": {},
   "outputs": [
    {
     "data": {
      "text/html": [
       "<div>\n",
       "<style scoped>\n",
       "    .dataframe tbody tr th:only-of-type {\n",
       "        vertical-align: middle;\n",
       "    }\n",
       "\n",
       "    .dataframe tbody tr th {\n",
       "        vertical-align: top;\n",
       "    }\n",
       "\n",
       "    .dataframe thead th {\n",
       "        text-align: right;\n",
       "    }\n",
       "</style>\n",
       "<table border=\"1\" class=\"dataframe\">\n",
       "  <thead>\n",
       "    <tr style=\"text-align: right;\">\n",
       "      <th></th>\n",
       "      <th>raw</th>\n",
       "    </tr>\n",
       "  </thead>\n",
       "  <tbody>\n",
       "    <tr>\n",
       "      <th>1761</th>\n",
       "      <td>Just sent one now again too :)</td>\n",
       "    </tr>\n",
       "    <tr>\n",
       "      <th>1701</th>\n",
       "      <td>Blah blah blah..  actions not meaningless words  #boycottamazon</td>\n",
       "    </tr>\n",
       "    <tr>\n",
       "      <th>694</th>\n",
       "      <td>#techfect20\\n\\nBecause knowledge has beginning but no ending... ☺️\\n#tech #TechTuesday #Tech4All #technology @amazon @AmazonStudios @alexa99 @AmazonHelp @amazonIN pic.twitter.com/yyIA9uBPuG</td>\n",
       "    </tr>\n",
       "    <tr>\n",
       "      <th>6037</th>\n",
       "      <td>Yeah I resolved it but I will still be in the negative all weekend because of the refund situation...you know maybe a giftcard or something would make me feel a bit better about this since you guys love taking my money without notifying me.</td>\n",
       "    </tr>\n",
       "    <tr>\n",
       "      <th>3572</th>\n",
       "      <td>Done.  Can I delete the above Tweet with the details of my delivery now?</td>\n",
       "    </tr>\n",
       "    <tr>\n",
       "      <th>4238</th>\n",
       "      <td>Thanks...but im confused as to why you dont offer this? Its a fairly basic requirement. Will this ever be an option?</td>\n",
       "    </tr>\n",
       "    <tr>\n",
       "      <th>1333</th>\n",
       "      <td>Yes... and that doesn’t apply at all.</td>\n",
       "    </tr>\n",
       "    <tr>\n",
       "      <th>6177</th>\n",
       "      <td>It’s not possible because it’s written there....so change what’s written there!</td>\n",
       "    </tr>\n",
       "    <tr>\n",
       "      <th>5389</th>\n",
       "      <td>here is a portion of the refund email i received about this #cpsc #recall which is not appropriate\\n\\n“On this occasion, we don't require you to return the original. You're welcome to keep, donate or dispose of it - whichever option is most appropriate and convenient for you.”</td>\n",
       "    </tr>\n",
       "    <tr>\n",
       "      <th>6195</th>\n",
       "      <td>Prime Support told me to log off Prime and then go to the show’s page - it would then (and only then) display the show’s expiry date. Really?? 😡</td>\n",
       "    </tr>\n",
       "    <tr>\n",
       "      <th>4042</th>\n",
       "      <td>What I want to reply ???? Already i have reply to you guys through my mail on through Amazon APP</td>\n",
       "    </tr>\n",
       "    <tr>\n",
       "      <th>1699</th>\n",
       "      <td>Till Now...i did n't get cashback😡😭</td>\n",
       "    </tr>\n",
       "    <tr>\n",
       "      <th>5614</th>\n",
       "      <td>@JeffBezos please look at the robotic non human replies sent to customers even after a week of delay</td>\n",
       "    </tr>\n",
       "    <tr>\n",
       "      <th>2243</th>\n",
       "      <td>upset? apologies? you can’t do anything</td>\n",
       "    </tr>\n",
       "    <tr>\n",
       "      <th>3028</th>\n",
       "      <td>This has caused a broken heart, defo haha, anyway thank you!</td>\n",
       "    </tr>\n",
       "    <tr>\n",
       "      <th>5315</th>\n",
       "      <td>Thanks. Non-recyclable packaging is the thing that puts me off getting things delivered. I’m surprised you introduced these bubble-lined plastic bags &amp; they shouldn’t have any place in your delivery chain. It’s 2020. There’s a climate crisis. You are massive. Do better please.</td>\n",
       "    </tr>\n",
       "    <tr>\n",
       "      <th>2377</th>\n",
       "      <td>See this how @amazonIN @AmazonHelp @amazon @AmazonFashionIn  doing fraud and making us fool #spammers and even blocked me for tweeting on his platform #pooramazon #boycottamazon  and please help me @Flipkart @flipkartsupport @snapdeal @AmitAgarwal @JeffBezos @BJP4India @BBCWorld https://twitter.com/adi211197/status/1216225875034697728 …</td>\n",
       "    </tr>\n",
       "    <tr>\n",
       "      <th>4383</th>\n",
       "      <td>No the CS team is in T1 so you go there and find this person and thank him for such service 😂</td>\n",
       "    </tr>\n",
       "    <tr>\n",
       "      <th>5047</th>\n",
       "      <td>I'm chatting with Beneth now on the app. Do you still want me to fill the form out?</td>\n",
       "    </tr>\n",
       "    <tr>\n",
       "      <th>4958</th>\n",
       "      <td>You have yet to help me this is really a disgrace</td>\n",
       "    </tr>\n",
       "    <tr>\n",
       "      <th>153</th>\n",
       "      <td>hope they will provide an update us soon as possibile.\\n\\nBest regards,\\n\\nGiorgia\\n\\nSocial Media Specialist , You have send me this email the 31/01</td>\n",
       "    </tr>\n",
       "    <tr>\n",
       "      <th>2069</th>\n",
       "      <td>Isn't there a legal way to approach this ?</td>\n",
       "    </tr>\n",
       "    <tr>\n",
       "      <th>2987</th>\n",
       "      <td>it seems someone has changed all of my login info, some \"penduan81c@yeah.net\", seems to be a chinese mail site or something, and no, i can still not call numbers outside of sweden.</td>\n",
       "    </tr>\n",
       "    <tr>\n",
       "      <th>3268</th>\n",
       "      <td>@KosherTechMedia:above is why @MicroCenter is the unbeatable king when it comes to getting computer hardware. Amazon lost a $200 computer case, took them a week to figure it out &amp; send a new one. Now the video card keeps getting pushed back by weeks. Unfortunately I had giftcards</td>\n",
       "    </tr>\n",
       "    <tr>\n",
       "      <th>1278</th>\n",
       "      <td>It’s definitely an issue of using app controls, not streaming. If I leave a song playing (WiFi or LTE) all is fine. The minute I hit pause on car stereo issues begin. App will show music playing but none over car Bluetooth, starts/stops, etc. No issues if I use in-app controls.</td>\n",
       "    </tr>\n",
       "    <tr>\n",
       "      <th>1312</th>\n",
       "      <td>I'll return item then. I don't appreciate being overcharged.</td>\n",
       "    </tr>\n",
       "    <tr>\n",
       "      <th>935</th>\n",
       "      <td>AFTER AN HOUR SHE HUNG UP ON ME. I AM LIVID</td>\n",
       "    </tr>\n",
       "    <tr>\n",
       "      <th>4591</th>\n",
       "      <td>But the promotional email came yesterday giving the £8 discount and it wasn't available then either??</td>\n",
       "    </tr>\n",
       "    <tr>\n",
       "      <th>1171</th>\n",
       "      <td>I should get a $100 gift card for having to wait 15 minutes</td>\n",
       "    </tr>\n",
       "    <tr>\n",
       "      <th>4698</th>\n",
       "      <td>Got it. It sure would be nice if there was a user preference available to allow us to choose to override that publisher’s choice. (Just like how we can choose a different font, if we want.)</td>\n",
       "    </tr>\n",
       "    <tr>\n",
       "      <th>72</th>\n",
       "      <td>I’ve just received exactly the same automatic reply I’ve been getting for a week. Clearly my emails are not being read by a human. I’ve been asking for a reason for my account termination for a week now and I’m getting nowhere. pic.twitter.com/lgHC7eBl0c</td>\n",
       "    </tr>\n",
       "    <tr>\n",
       "      <th>2976</th>\n",
       "      <td>Terrible Customer Service.</td>\n",
       "    </tr>\n",
       "    <tr>\n",
       "      <th>2691</th>\n",
       "      <td>And yet it keeps happening. I'd look into that.</td>\n",
       "    </tr>\n",
       "    <tr>\n",
       "      <th>288</th>\n",
       "      <td>What is the status of my mobile</td>\n",
       "    </tr>\n",
       "    <tr>\n",
       "      <th>818</th>\n",
       "      <td>I don't need to look at some website for policy. I have policy on the ticket I was given that says 24 hrs for refund. Not footnotes. No fine print. I guess I have to do another chargeback so you don't hold onto my money for a month and don't respond like last time.</td>\n",
       "    </tr>\n",
       "    <tr>\n",
       "      <th>1249</th>\n",
       "      <td>Having responded to @AmazonHelp it seems @AmazonUK aren’t interested in the damage caused.  It’s ok though the logistics company (amazon) will retrain the driver #Amazon #poorcustomerservice</td>\n",
       "    </tr>\n",
       "    <tr>\n",
       "      <th>1944</th>\n",
       "      <td>My Amazon product was cancelled which I purchased on 20/01 using my canara bank debit card. As per their confirmation refund was initiated on 27/01. Still it was not reflected in my account. @AmazonHelp told me to contact my bank support. The bank said no refund from seller  pic.twitter.com/UgowlX0Nuq</td>\n",
       "    </tr>\n",
       "    <tr>\n",
       "      <th>2851</th>\n",
       "      <td>Went to the link, not sure what I am looking at. Same message with “will come back with update” sent on 28 Jan which I have low confidence on it.</td>\n",
       "    </tr>\n",
       "    <tr>\n",
       "      <th>3002</th>\n",
       "      <td>Submitted.  I still have the problem of not having a knee scooter for work.</td>\n",
       "    </tr>\n",
       "    <tr>\n",
       "      <th>5641</th>\n",
       "      <td>Umm looks fine don’t really know why you are completely? Unless you are looking for attention.</td>\n",
       "    </tr>\n",
       "    <tr>\n",
       "      <th>4669</th>\n",
       "      <td>@AmazonHelp @ShieldVoC \\nAlready talked to cust care &amp; escalation team\\nAll agree it was server issue, but still no refund policy\\nPolicy also states voucher will be delivered within few mins\\nMy concern only that customer is penalized due Amazon technical issue &amp; still no resolution</td>\n",
       "    </tr>\n",
       "    <tr>\n",
       "      <th>1488</th>\n",
       "      <td>An item was sent to my friends address likely by a person in an active harassment case. Details were needed to give to the police. You refused and advised it will be handled internally.</td>\n",
       "    </tr>\n",
       "    <tr>\n",
       "      <th>5650</th>\n",
       "      <td>😂😂 Alexa is a filthy so n so</td>\n",
       "    </tr>\n",
       "    <tr>\n",
       "      <th>4769</th>\n",
       "      <td>Still Now waiting many customers.. @amazonIN @AmazonHelp @JeffBezos</td>\n",
       "    </tr>\n",
       "    <tr>\n",
       "      <th>2109</th>\n",
       "      <td>@AmazonHelp I just canceled my Prime membership and no one wants to know why?????? WHy is this?</td>\n",
       "    </tr>\n",
       "    <tr>\n",
       "      <th>3457</th>\n",
       "      <td>Must suck when you are waiting for you dildos and they never show up Ralph!</td>\n",
       "    </tr>\n",
       "    <tr>\n",
       "      <th>4181</th>\n",
       "      <td>@AmazonHelp very frustrating that account holders are NOT allowed to directly contact billing regarding issues with personal accounts.  Not ok when you have been a customer for many years.</td>\n",
       "    </tr>\n",
       "    <tr>\n",
       "      <th>5077</th>\n",
       "      <td>I guess so, it is just a pity because I have access to prime video in different countries and I found this limitation mostly in Germany. In other countries there is always the option to switch to the original content.</td>\n",
       "    </tr>\n",
       "    <tr>\n",
       "      <th>6047</th>\n",
       "      <td>People hate replies like that. Click here to read through 70,000 words of non-sense. 🤦🏻‍♂️</td>\n",
       "    </tr>\n",
       "    <tr>\n",
       "      <th>4925</th>\n",
       "      <td>Thx. This didn’t work (it’s mobile); it just resumes the broken session.  But I know that eventually it’ll time out and then I’ll try again. In the meantime, Amazon decided to contact me by email with this completely meaningless message: pic.twitter.com/AXv8xMOEk6</td>\n",
       "    </tr>\n",
       "    <tr>\n",
       "      <th>1113</th>\n",
       "      <td>If you can get me my order by 10am at the latest all will be forgotten</td>\n",
       "    </tr>\n",
       "    <tr>\n",
       "      <th>5404</th>\n",
       "      <td>I tried America's best they said they won't do it</td>\n",
       "    </tr>\n",
       "    <tr>\n",
       "      <th>2190</th>\n",
       "      <td>@amazon @AmazonHelp \\nWhat is the point of providing reschedule option , if after opting for it , u can't the delivery on that date ...\\nIs it fine that the customer should suffer for your wrongs ...</td>\n",
       "    </tr>\n",
       "    <tr>\n",
       "      <th>4262</th>\n",
       "      <td>Also @CitySelfDrive have stayed quiet haven’t they! They must be able to give a statement to @AmazonUK @AmazonHelp on the state of the van upon return etc? There was also a dash cam that for some reason isn’t being checked??</td>\n",
       "    </tr>\n",
       "    <tr>\n",
       "      <th>2034</th>\n",
       "      <td>@AmazonHelp @HDFCBank_Cares @JeffBezos @AmitAgarwal \\nHDFC MI A3 Cashback Offer of August 2019 still not given to me till date! Been following up with Amazon last 40 days (6 calls!) Forwarded HDFC's mail on 22nd Jan and was assured 3-4 TAT but no call, no mail! Extremely pathetic!</td>\n",
       "    </tr>\n",
       "    <tr>\n",
       "      <th>5757</th>\n",
       "      <td>your link mentions price matching. price matching isn't the same thing as a price adjustment. you are the maker and seller of the device. You really want to have me return and then rebuy, increasing YOUR cost, and wasting everyone's time. that's strange.</td>\n",
       "    </tr>\n",
       "    <tr>\n",
       "      <th>4969</th>\n",
       "      <td>Wow, a 2-minute call fixed things up.</td>\n",
       "    </tr>\n",
       "    <tr>\n",
       "      <th>3972</th>\n",
       "      <td>@reliancejio @JioCare @AmazonHelp what's going on with recharge transaction. I want to pay 75/- for a jio phone recharge and amazon was showing not for my phone. Meanwhile that's actually a jio phone and insame time other app are ready to do this recharge!!!  pic.twitter.com/7PLLsSCerx</td>\n",
       "    </tr>\n",
       "    <tr>\n",
       "      <th>5512</th>\n",
       "      <td>You're welcome! I literally had a delivery this morning! #AmazonFresh :)</td>\n",
       "    </tr>\n",
       "    <tr>\n",
       "      <th>4523</th>\n",
       "      <td>Nah... I’ll just cancel the order and buy elsewhere.   Although I’ll still use Amazon I will cancel any orders in transit you sent via Hermes.....</td>\n",
       "    </tr>\n",
       "    <tr>\n",
       "      <th>2516</th>\n",
       "      <td>Hey boAthead,\\n                        We have shared your concern and details to our team,please don't worry our team will resolve this issue on priority,please be patient with us in the meantime.\\n\\nRegards,\\nboAt Crew</td>\n",
       "    </tr>\n",
       "    <tr>\n",
       "      <th>2575</th>\n",
       "      <td>It’s not quite for free, it’s with an Amazon Prime subscription.</td>\n",
       "    </tr>\n",
       "    <tr>\n",
       "      <th>2374</th>\n",
       "      <td>@amazonIN fraud @AmazonHelp fraud #SPAM #FRAUD #CHOR #liar #BoycottAmazon see my tweet its over 1months but still no resolution https://twitter.com/Saketxyz01/status/1224591933680435202 …</td>\n",
       "    </tr>\n",
       "    <tr>\n",
       "      <th>2617</th>\n",
       "      <td>Well done!</td>\n",
       "    </tr>\n",
       "    <tr>\n",
       "      <th>502</th>\n",
       "      <td>Earlier I complaint to @amazonIN @AmazonHelp  but I didn’t get any updates regarding my complaint so kindly update me the status of the complaint. Thank you</td>\n",
       "    </tr>\n",
       "    <tr>\n",
       "      <th>1815</th>\n",
       "      <td>If immediate action will not be taken i will file a case in consumer court</td>\n",
       "    </tr>\n",
       "    <tr>\n",
       "      <th>5301</th>\n",
       "      <td>Thank you. It's rediculous it can't be changed!</td>\n",
       "    </tr>\n",
       "    <tr>\n",
       "      <th>2266</th>\n",
       "      <td>Thank you.</td>\n",
       "    </tr>\n",
       "    <tr>\n",
       "      <th>2469</th>\n",
       "      <td>I love @AmazonHelp</td>\n",
       "    </tr>\n",
       "    <tr>\n",
       "      <th>1147</th>\n",
       "      <td>I don't mind things being late, what I object to, is being told they will arrive at the next stop, only for over an hour later the package not being here</td>\n",
       "    </tr>\n",
       "    <tr>\n",
       "      <th>35</th>\n",
       "      <td>Sorry to say this but they are useless.</td>\n",
       "    </tr>\n",
       "    <tr>\n",
       "      <th>6173</th>\n",
       "      <td>Hi guys, I called in and the issue has been flagged for escalation, and a refund issued. Order number was 206-2151443-9009922 if you want to follow it up at your end. Thanks again.</td>\n",
       "    </tr>\n",
       "    <tr>\n",
       "      <th>1082</th>\n",
       "      <td>I want to know when Fage 0% 32oz will be restocked so I dont have to buy the lesser quality Chobani that tastes like diasppointment and giving up. I don't need to eat that, as that is my lived experience.</td>\n",
       "    </tr>\n",
       "    <tr>\n",
       "      <th>916</th>\n",
       "      <td>@amazon @AmazonHelp HOW DARE YOU tell an American military service member past or present what they can &amp; can not say! We defend the right to freedom of speech! You're employees will NOT tell me what I can and can not say! IDC if the 1st if only against gov or not I DONT CARE!!!!</td>\n",
       "    </tr>\n",
       "    <tr>\n",
       "      <th>216</th>\n",
       "      <td>I am not seeing an Option in Dominoz for Unlink amazon pay \\n\\nSo tell me how ot do it</td>\n",
       "    </tr>\n",
       "    <tr>\n",
       "      <th>962</th>\n",
       "      <td>Why can't you talk to them. Is it my job. Dear Amazon I am losing my precious time.</td>\n",
       "    </tr>\n",
       "    <tr>\n",
       "      <th>6100</th>\n",
       "      <td>@AmazonHelp please check the Amazon small business day quiz \\nThanks this quiz winner not announce  pic.twitter.com/TV9uxBeglW</td>\n",
       "    </tr>\n",
       "    <tr>\n",
       "      <th>1750</th>\n",
       "      <td>Same- but we use our account a ton. Prime, videos, and music. Why are we locked out while you all investigate 4.00-5.00 in charges? We didn’t do anything wrong. We called after the 1st charge and changed passwords as told. Then disputed after the 2nd movie!</td>\n",
       "    </tr>\n",
       "    <tr>\n",
       "      <th>1180</th>\n",
       "      <td>I have had more difficult with Amazon's own drivers than any carrier, by far. It's not even close. Haha-- not just delays, but also they deliver to the wrong place then tell Amazon it is delivered. That has happened to me 3 times in the last 3 months.</td>\n",
       "    </tr>\n",
       "    <tr>\n",
       "      <th>1961</th>\n",
       "      <td>You were also informed of this same photo a YEAR ago and did nothing pic.twitter.com/aMIqKKZD1m</td>\n",
       "    </tr>\n",
       "    <tr>\n",
       "      <th>4551</th>\n",
       "      <td>Arre khufiyon, order cancelled 25/1/2020 today is 2nd February! 9:days. Don't you read tweets or you are dumb? Is this how @JeffBezos became rich. Banks pay ₹100/day from 5 days of ATM dispute! What do you Jeff? @amazon @AmazonHelp 😖  https://twitter.com/AmazonHelp/status/1223981877574295553 …</td>\n",
       "    </tr>\n",
       "    <tr>\n",
       "      <th>5478</th>\n",
       "      <td>@AmazonHelp, think your delivery guy is going to enter my DOB in your system at the door because someone in my house ordered alcohol? Think again. Package refused.</td>\n",
       "    </tr>\n",
       "    <tr>\n",
       "      <th>4377</th>\n",
       "      <td>@amazonca @AmazonHelp Seriously, the Amazon experience is falling  off a cliff. Waiting around all day for my subscribe and save orders only to check and see that you declared the shipment damaged at 2am. It  says I'll be refunded and to reorder if I need them. 1/2</td>\n",
       "    </tr>\n",
       "    <tr>\n",
       "      <th>5226</th>\n",
       "      <td>@AmazonHelp I would like my twitch account to be linked to this one not my other one. It keeps linking me to my other account is Tonyncfc27 it’s annoying  pic.twitter.com/AnA17M4yYv</td>\n",
       "    </tr>\n",
       "    <tr>\n",
       "      <th>2767</th>\n",
       "      <td>Hey @realDonaldTrump @POTUS, @amazon is firing me before I ever saw a penny, after my contingent hire background check returned results that prompted them to ask me to purjure myself with questions that should be illegal to ask any employee without financial compensation</td>\n",
       "    </tr>\n",
       "    <tr>\n",
       "      <th>6127</th>\n",
       "      <td>And clearly at this point @UPS no longer has the package since it was delivered to an @amazon warehouse. So logically it should be at the Amazon warehouse. I just want to know which one so I can pick it up. I’ll DM the screenshot that shows the employee’s name.</td>\n",
       "    </tr>\n",
       "    <tr>\n",
       "      <th>2773</th>\n",
       "      <td>I saw this same sticker (a smaller one) on a truck recently too here in PA. 😡</td>\n",
       "    </tr>\n",
       "    <tr>\n",
       "      <th>4959</th>\n",
       "      <td>@AmazonHelp your customer service has yet to help me with refunding my money for my package that never came. Jesus Christ y'all suck</td>\n",
       "    </tr>\n",
       "    <tr>\n",
       "      <th>1052</th>\n",
       "      <td>To repeat, I’ve already opened a return for these items that were delivered damaged. I asked for a Royal Mail return label but the return QR code provided is for Doodle and there’s no Doodles near me. I can’t seem to change the Doodle return labels provided for a Royal Mail one.</td>\n",
       "    </tr>\n",
       "    <tr>\n",
       "      <th>1133</th>\n",
       "      <td>You just posted your number online for everyone to see. Not the smartest thing to do</td>\n",
       "    </tr>\n",
       "    <tr>\n",
       "      <th>6201</th>\n",
       "      <td>Ya AmazonI dia\\nSomehow my details were wrongly updated, but the PF consultant \"Guru\" of Amazon is highly unprofessional and irresponsible person. He has been bluffing &amp; fake promising &amp; lying me fr past 6 months\\nPlease help\\nPlease update my details of employment in epfo portal 🙏</td>\n",
       "    </tr>\n",
       "    <tr>\n",
       "      <th>3875</th>\n",
       "      <td>Oh that’s right! They probably wanted you to click the link. Ugh These scammers piss me off</td>\n",
       "    </tr>\n",
       "    <tr>\n",
       "      <th>4643</th>\n",
       "      <td>@AmazonHelp  when is the digital release of sarileru neekevaru</td>\n",
       "    </tr>\n",
       "    <tr>\n",
       "      <th>4743</th>\n",
       "      <td>That’s terrible!</td>\n",
       "    </tr>\n",
       "    <tr>\n",
       "      <th>2901</th>\n",
       "      <td>oh i’ve received my order. what I haven’t revived is my promo credit to use on NON AMAZON PRODUCTS AND SOMETHING I ACTUALLY WANT OR NEED i’ve gotten $15 to use on “amazon fulfilled” things.</td>\n",
       "    </tr>\n",
       "    <tr>\n",
       "      <th>2119</th>\n",
       "      <td>@hardikmdev  bro did u recieve the cashback ?</td>\n",
       "    </tr>\n",
       "    <tr>\n",
       "      <th>1196</th>\n",
       "      <td>well thats terrifying...</td>\n",
       "    </tr>\n",
       "    <tr>\n",
       "      <th>5944</th>\n",
       "      <td>Hi Das, skipping requires me to be less lazy and that is not an option.</td>\n",
       "    </tr>\n",
       "    <tr>\n",
       "      <th>6106</th>\n",
       "      <td>@WholeFoods @AmazonHelp you really need to get these panorama meats out of your stores. It’s disgusting and shoppers love to send it by mistake.  pic.twitter.com/VIMiOeM3Ul</td>\n",
       "    </tr>\n",
       "    <tr>\n",
       "      <th>5326</th>\n",
       "      <td>@AmazonHelp bad experience in Brazil: without warning, Seinfeld series, a forever champion, was deleted from the catalog! Impressive how a brand, struggling for the Brazilian market, gives up this way! A complete shame. Just cancelling in a couple of days, unfortunately.</td>\n",
       "    </tr>\n",
       "    <tr>\n",
       "      <th>5667</th>\n",
       "      <td>@AmazonHelp will amazon be adding the functionality to add a locker pickup barcode to Apple wallet soon? So it comes up on home screen when you get close to the locker your item is in? Just another way to make the service even better 🧐🤞🏻</td>\n",
       "    </tr>\n",
       "    <tr>\n",
       "      <th>5962</th>\n",
       "      <td>Not so much at you guys as it is @hulu !  Could watch three episodes at night with my parents when they visit. Now with about 15 minutes of commercials we cut it to one or two. Just stinks! 😔</td>\n",
       "    </tr>\n",
       "    <tr>\n",
       "      <th>79</th>\n",
       "      <td>Tweet 3 @AmazonHelp saying in 2 hours change your password... but when I try it’s still locked. Fed up of going round in circles. Fed up of not speaking to actual human who knows what there doing. And to add further insult, in still paying for prime which I can’t use.</td>\n",
       "    </tr>\n",
       "    <tr>\n",
       "      <th>789</th>\n",
       "      <td>Go to settings, apps, manage apps, clear data, clear cache. Then restart your fire stick. That worked for me</td>\n",
       "    </tr>\n",
       "    <tr>\n",
       "      <th>4170</th>\n",
       "      <td>@AmazonHelp You amazon piece of shit have refused to resolve my complaints for five months showing the same monotonous message whenever I try to log in since October aren’t you people ashamed of your slimy,thieving,filthy ways of robbing your customers of their hard earned money</td>\n",
       "    </tr>\n",
       "    <tr>\n",
       "      <th>1111</th>\n",
       "      <td>Part 2 of the @amazon Live Chat run-around given to me this afternoon @AmazonHelp is NO HELP  pic.twitter.com/Oa0vnzyh0I</td>\n",
       "    </tr>\n",
       "    <tr>\n",
       "      <th>493</th>\n",
       "      <td>@amazonIN @AmazonHelp  I’m waiting and waiting only. I have no other options except waiting. This is the way to treat your customers like this? After providing a used product , you are all playing game like this. Do you think it’s easy to wait even you don’t know what’s happening</td>\n",
       "    </tr>\n",
       "    <tr>\n",
       "      <th>2522</th>\n",
       "      <td>There is also stuff that ships from China</td>\n",
       "    </tr>\n",
       "    <tr>\n",
       "      <th>2818</th>\n",
       "      <td>Totally agree with you, the distribution warehouse is in Brampton and lots of stuff will show 3-4 days for delivery even with prime and it gives an option to pay and get it earlier</td>\n",
       "    </tr>\n",
       "    <tr>\n",
       "      <th>1316</th>\n",
       "      <td>*baseball</td>\n",
       "    </tr>\n",
       "    <tr>\n",
       "      <th>2410</th>\n",
       "      <td>Hello,\\n\\nWe regret the inconvenience caused.We request you to send us your details via DM or on ho-mgr@tpcglobe.com along with the Consignment number, delivery address, booking date, and consignee mobile number.Our concerned team shall get back to you with a reply at the earliest.</td>\n",
       "    </tr>\n",
       "    <tr>\n",
       "      <th>3418</th>\n",
       "      <td>Received a text from “Amazon Rewards” to confirm my address. It’s...URGENT. \\n\\n@AmazonHelp send me a giftcard since y’all hacked.</td>\n",
       "    </tr>\n",
       "    <tr>\n",
       "      <th>2938</th>\n",
       "      <td>You sent me to support for Author Central, but the book is being shipped to you by a distributor.</td>\n",
       "    </tr>\n",
       "    <tr>\n",
       "      <th>1127</th>\n",
       "      <td>Ok I will thank you for your support</td>\n",
       "    </tr>\n",
       "    <tr>\n",
       "      <th>2899</th>\n",
       "      <td>No the item was not purchased, I requested them not sending a refund and maybe giving me a coupon code to reorder the item but that was impossible apparently since the order was cancelled. I love amazon and order a lot through you but this left a sour taste in my mouth! 😔</td>\n",
       "    </tr>\n",
       "    <tr>\n",
       "      <th>1700</th>\n",
       "      <td>We don't want subtitles..we need Tamil voice</td>\n",
       "    </tr>\n",
       "    <tr>\n",
       "      <th>1348</th>\n",
       "      <td>You are the ones that misinformed me in the first place!</td>\n",
       "    </tr>\n",
       "    <tr>\n",
       "      <th>4526</th>\n",
       "      <td>I have not received any update- only requests for information or payment for fraudulent charges typically the same information (likely just repeating for each of the charges). Otherwise when I try to login I am given the message that my account is still locked &amp; wait for updates</td>\n",
       "    </tr>\n",
       "    <tr>\n",
       "      <th>4344</th>\n",
       "      <td>Apparently it has been removed from the catalogue \\nThats a shame 😒</td>\n",
       "    </tr>\n",
       "    <tr>\n",
       "      <th>1548</th>\n",
       "      <td>@AmazonHelp I send A message on twitter in Jan 6, 2020 But No Answer</td>\n",
       "    </tr>\n",
       "    <tr>\n",
       "      <th>6010</th>\n",
       "      <td>How am I supposed to contact them, though? I can’t even email them so I’m just stuck. Could I at least get a reason as to why my account was closed?</td>\n",
       "    </tr>\n",
       "    <tr>\n",
       "      <th>1428</th>\n",
       "      <td>I will PM you the order number. Fresh Flowers from Whole Foods Market. Yes.</td>\n",
       "    </tr>\n",
       "    <tr>\n",
       "      <th>4053</th>\n",
       "      <td>Am getting SERVICE COMPLETED acknowledge notification but problem is not resolved its only a inspection.when am getting replace @AmazonHelp @amazon @OnePlus_IN @OnePlus_Support</td>\n",
       "    </tr>\n",
       "    <tr>\n",
       "      <th>3299</th>\n",
       "      <td>1/2 @amazonhelp I have multiple Alexa devices (Dots/Shows/FireTV) but I'm considering ditching them all in favour of #googleassistant if you won't stop the bloody thing wishing me a nice day or to have a great afternoon every time I simply ask the weather or a time check.</td>\n",
       "    </tr>\n",
       "    <tr>\n",
       "      <th>6277</th>\n",
       "      <td>Full marks for the speedy response - thank you. But I’m really annoyed you’ve ruined my night in. I had to buy the DVD to continue watching. Thank goodness for @Cex who’ll get me the DVD for tomorrow for £8.</td>\n",
       "    </tr>\n",
       "    <tr>\n",
       "      <th>2552</th>\n",
       "      <td>No person from Amazon only carrier info. Lame!</td>\n",
       "    </tr>\n",
       "    <tr>\n",
       "      <th>2768</th>\n",
       "      <td>I cant answer your questions without a real #seattlelawyer and I wanted a job so I could work toward not being homeless anymore and satisfying Probation with @SeaMuniCourt. pic.twitter.com/4DLV8NnZGw</td>\n",
       "    </tr>\n",
       "    <tr>\n",
       "      <th>2476</th>\n",
       "      <td>You must be boycotted coz of your pathetic services.</td>\n",
       "    </tr>\n",
       "    <tr>\n",
       "      <th>4609</th>\n",
       "      <td>Still waiting for UPDATE and my #money\\n#Amazon #AmazonPrime #amazonindia #JeffBezos #onlinefrauds #consumeraffairs @AmazonHelp @amazonIN @JagoGrahakJago_ @JagoGrahakJagoo @Flipkart @snapdeal @AJIOLife https://twitter.com/AmazonHelp/status/1221782765559001088 …</td>\n",
       "    </tr>\n",
       "    <tr>\n",
       "      <th>127</th>\n",
       "      <td>@AmazonHelp \\nshame  pic.twitter.com/PpxhMIN4zd</td>\n",
       "    </tr>\n",
       "    <tr>\n",
       "      <th>2501</th>\n",
       "      <td>@amazon @AmazonHelp @amazonIN what the hell is mathrubhasha? Why don't you never talk in a language all Indians can understand? Why do you communicate with most of the Indians in an alien language? Do you have guts to use some other languages in France or German? pic.twitter.com/YGig10Lgll</td>\n",
       "    </tr>\n",
       "    <tr>\n",
       "      <th>1837</th>\n",
       "      <td>I note that @AmazonHelp have the wrong item in their warehouse rack, so I'll order it and return it every day until they sort it.\\n\\nOf course, there's no way to contact them. Wonder how much this is costing them?</td>\n",
       "    </tr>\n",
       "    <tr>\n",
       "      <th>2545</th>\n",
       "      <td>Not much help to be honest. They say they can’t do anything. I just wanted a properly replacement dispatched like I’ve had previously  but they’re just offering to send e-mail in my behalf.</td>\n",
       "    </tr>\n",
       "    <tr>\n",
       "      <th>4863</th>\n",
       "      <td>I’m not filling out some BS forms with my personal information.  Tell your driver I won’t slam on my breaks next time.  I’ll just let amazon buy me a new car.</td>\n",
       "    </tr>\n",
       "    <tr>\n",
       "      <th>4567</th>\n",
       "      <td>🏈 Punt? [Day 16]\\n\\n@AmazonHelp \\nWhat is #Amazon's delivery *policy*?\\n\\nDlvr pkgs 2 the door? Or just @Amazon drivers' *usual* dump-it-on-TOP-of-a-bunch-of-mailboxes-near-a-public-pkg-lot &amp; call it a day?\\n\\nInquiring grndprnts w hip rplcmnts &amp; porch-pirates 🏴‍☠️ WANT 2 KNOW! pic.twitter.com/1BUN2LGcvy</td>\n",
       "    </tr>\n",
       "    <tr>\n",
       "      <th>5275</th>\n",
       "      <td>Just refresh it. Now it's available in our region.</td>\n",
       "    </tr>\n",
       "    <tr>\n",
       "      <th>5320</th>\n",
       "      <td>This isn’t the first time it’s happened either. We’re already working on returning it. Last time I ordered an action figure the leg instantly fell off. Figures are fragile in the cold so the littlest bump can easily break them. Carriers need to be more careful.</td>\n",
       "    </tr>\n",
       "    <tr>\n",
       "      <th>2917</th>\n",
       "      <td>Yes you can. Honor what your website says and honor the same day delivery.</td>\n",
       "    </tr>\n",
       "    <tr>\n",
       "      <th>6085</th>\n",
       "      <td>Your \"transportation team\" is now refusing to deliver the package until Monday because they don't feel like driving tonight.</td>\n",
       "    </tr>\n",
       "    <tr>\n",
       "      <th>3508</th>\n",
       "      <td>All posts are about the item purchased and my feelings after using it</td>\n",
       "    </tr>\n",
       "    <tr>\n",
       "      <th>1765</th>\n",
       "      <td>My cellular is working perfectly but updating the app gives the error in the original post. pic.twitter.com/Jvikwq1Cdt</td>\n",
       "    </tr>\n",
       "    <tr>\n",
       "      <th>2944</th>\n",
       "      <td>So what did you think of my feedback?</td>\n",
       "    </tr>\n",
       "    <tr>\n",
       "      <th>2187</th>\n",
       "      <td>Your team said they will respond me in 6-12 hrs , are u feeling #drowsiness , #dizziness\\n@AmazonHelp @amazon</td>\n",
       "    </tr>\n",
       "    <tr>\n",
       "      <th>5349</th>\n",
       "      <td>Says item was shipped with UPS and delivered yesterday, the item was never at my front door or downstairs, when I called amazon it says for me to wait until monday to call to confirm I never got it then to issue a replacement. But why can't I issue one now the day after?</td>\n",
       "    </tr>\n",
       "    <tr>\n",
       "      <th>5414</th>\n",
       "      <td>Grrrr, I would have preferred the reply \"Sorry but we're all sold out of Buttigieg hats\", but thanks for the reply.</td>\n",
       "    </tr>\n",
       "    <tr>\n",
       "      <th>2072</th>\n",
       "      <td>Yes, we've sent them emails, but the ads still continue!</td>\n",
       "    </tr>\n",
       "    <tr>\n",
       "      <th>97</th>\n",
       "      <td>Then I'll be left with only one eye :P</td>\n",
       "    </tr>\n",
       "    <tr>\n",
       "      <th>1736</th>\n",
       "      <td>Nice one 👍🏻 I hung up after having ago 🤣</td>\n",
       "    </tr>\n",
       "    <tr>\n",
       "      <th>515</th>\n",
       "      <td>Part-5 Your promised 2nd delivery date is also failed. It is half month passed now. \\n\\nYour customer care executive are telling lies about delivery.\\n\\nI request you please deliver my order today at least.\\n\\nIf you can't deliver in delhi then give me your answer @Flipkart pic.twitter.com/HwF5QMPq9S</td>\n",
       "    </tr>\n",
       "    <tr>\n",
       "      <th>3981</th>\n",
       "      <td>Search on @Flipkart 😂🤣😂🤣</td>\n",
       "    </tr>\n",
       "    <tr>\n",
       "      <th>3291</th>\n",
       "      <td>Update - still no contact from @AmazonHelp</td>\n",
       "    </tr>\n",
       "    <tr>\n",
       "      <th>5385</th>\n",
       "      <td>Well, I did call you twice to ask about this but your phone lines and so bad they cut out before your Non-English speaking staff could work out what I was on about. \\n\\nIs Jeff Bezos really worth  $129.5 billion ?</td>\n",
       "    </tr>\n",
       "    <tr>\n",
       "      <th>2073</th>\n",
       "      <td>How many more tweets to get your attention, @GoogleIndia? The trademark violation by @amazonIN  continues to date, and our hard-earned traffic is still getting misdirected! \\n\\n@sundarpichai @Google @GoogleAds @AmazonHelp  pic.twitter.com/VS9D5zuVys</td>\n",
       "    </tr>\n",
       "    <tr>\n",
       "      <th>4581</th>\n",
       "      <td>Dear @AmazonHelp, I am really frustrated about your service. I immediately contacted you. Your support agent could easily cancel those orders, but they asked me to wait for email from you. 36 hours passed, no email from you to me till now. Feeling disturbed.  https://twitter.com/DrBariHasan/status/1223609112283570177 …</td>\n",
       "    </tr>\n",
       "    <tr>\n",
       "      <th>2257</th>\n",
       "      <td>@AmazonHelp @amazonIN @amazon @amazonmusic @AmazonMusicIN Hi Amazon, could you please explain me why there aren’t any songs from YRF or YRF music on Amazon Prime Music? @yrfmusic @yrf</td>\n",
       "    </tr>\n",
       "    <tr>\n",
       "      <th>3342</th>\n",
       "      <td>Awaiting closer... Disappointed with amazon experience</td>\n",
       "    </tr>\n",
       "    <tr>\n",
       "      <th>4118</th>\n",
       "      <td>I already said I had in original tweet. I fixed the issue thanks to a thread online. The hardware in your device is terrible and doesn’t support all the channels on my router. So I had force my router to stay on a router the device supports - it’s 2020!</td>\n",
       "    </tr>\n",
       "    <tr>\n",
       "      <th>3252</th>\n",
       "      <td>+ @AnuragJaisingh\\nThere is no option to pre-order...</td>\n",
       "    </tr>\n",
       "    <tr>\n",
       "      <th>6019</th>\n",
       "      <td>Firestick was my nickname in college. Just tossing that out there.</td>\n",
       "    </tr>\n",
       "    <tr>\n",
       "      <th>1681</th>\n",
       "      <td>So I qm tire as I gave every opportunity to Amazon Customer service to fix the issues..... I gave up!! But Amazon sit tight!! I will work with the media, others competitors ...BBB+ Walmart etc for them to advertise the New Amazon..you want to help?! Call me</td>\n",
       "    </tr>\n",
       "    <tr>\n",
       "      <th>1284</th>\n",
       "      <td>Thanks I’ll try the customer service chat tonight.</td>\n",
       "    </tr>\n",
       "    <tr>\n",
       "      <th>4763</th>\n",
       "      <td>@AmazonHelp my order track no: 1817570064\\nMy shipment is too late for delivery\\nAll the required documents were sent to the carrier, but he is very late in sending them to customs and clearing them\\nWhat's the solution</td>\n",
       "    </tr>\n",
       "    <tr>\n",
       "      <th>3717</th>\n",
       "      <td>I have sent you an email.</td>\n",
       "    </tr>\n",
       "    <tr>\n",
       "      <th>4254</th>\n",
       "      <td>seinfeld is the only reason i have my subscription please add it back</td>\n",
       "    </tr>\n",
       "    <tr>\n",
       "      <th>5959</th>\n",
       "      <td>Nope... Unless you change your rules... Only thing I'd say is making the guidelines easier to find...</td>\n",
       "    </tr>\n",
       "    <tr>\n",
       "      <th>1115</th>\n",
       "      <td>@AmazonHelp is just an automated system recommending the troubleshooting tips its programmed to, Today I have spent over an hour trying to get this issue resolved and NOTHING thanks 4 wasted time, false advertising, take my advise &amp; go to @BestBuy @Target @Walmart not @amazon</td>\n",
       "    </tr>\n",
       "    <tr>\n",
       "      <th>4064</th>\n",
       "      <td>Not my job. It's yours, you keep your customers safe</td>\n",
       "    </tr>\n",
       "    <tr>\n",
       "      <th>587</th>\n",
       "      <td>@AmazonHelp @amazon @JeffBezos says I need approval to sell an item but puts “sell yours” tab there. Then claims I need approval for a none branded item. Not a single brand mark on the product but they steal my $5k the very own company they say I’m listing against can’t tell diff pic.twitter.com/92iRV9Xw0b</td>\n",
       "    </tr>\n",
       "    <tr>\n",
       "      <th>3487</th>\n",
       "      <td>Yep. Some years ago I had a package I wasn't expecting stuck in a rarely used random box on my patio. Didn't find it for weeks!</td>\n",
       "    </tr>\n",
       "    <tr>\n",
       "      <th>5083</th>\n",
       "      <td>@AmazonHelp I’ve applied for a position in CA and have been contacted to set up an interview but my access to my account is blocked and I don’t know why. I have DM’d you, please you’re my last hope 😭 no one has been able to help me or know why</td>\n",
       "    </tr>\n",
       "    <tr>\n",
       "      <th>3022</th>\n",
       "      <td>So your response is sending the link to the standard chat function. This is brilliant double underlines that amazon do care at all about customer service or understand customers issues #sendthemanaward #CustomerExperience #customerchampions2020</td>\n",
       "    </tr>\n",
       "    <tr>\n",
       "      <th>2066</th>\n",
       "      <td>Mad panic, how about an apology to @AmazonHelp ??? Trying to take to social media claiming they are ripping you off  https://twitter.com/mark3028/status/1224660042756083713 …</td>\n",
       "    </tr>\n",
       "    <tr>\n",
       "      <th>6167</th>\n",
       "      <td>Still not made it any better pic.twitter.com/lelg5MdzpY</td>\n",
       "    </tr>\n",
       "    <tr>\n",
       "      <th>4435</th>\n",
       "      <td>Delivery time was to be delivered the 1st now the 4th cause the shipping label wasn’t even created till the 1st</td>\n",
       "    </tr>\n",
       "    <tr>\n",
       "      <th>4972</th>\n",
       "      <td>“ we are sorry we have a poor customer service model. Here’s a FAQ page that tells you why”</td>\n",
       "    </tr>\n",
       "    <tr>\n",
       "      <th>2420</th>\n",
       "      <td>Stop replying copy paste tweet team</td>\n",
       "    </tr>\n",
       "    <tr>\n",
       "      <th>1871</th>\n",
       "      <td>@AmazonHelp @amazon I get it, it is difficult for a common person to raise the voice. @JeffBezos is that what you wanted Amazon to become!\\n\\nHow difficult is it for your account department to call a customer. Don't say you can not trace from social media. order 114-2689790-1555427</td>\n",
       "    </tr>\n",
       "    <tr>\n",
       "      <th>5429</th>\n",
       "      <td>It's sorted now fam, they apoligised for the inconvenience and sent me some credit. Still wish I had the chocolate tho</td>\n",
       "    </tr>\n",
       "    <tr>\n",
       "      <th>1349</th>\n",
       "      <td>Wow! That's so disappointing. Amazon customer service is unable to assist me but I should pay £79 for prime again. Thanks @AmazonHelp @AmazonUK @PrimeVideo @primevideouk and most of all a big thanks to @amazon .com for closing my account and providing the wrong information.</td>\n",
       "    </tr>\n",
       "    <tr>\n",
       "      <th>5341</th>\n",
       "      <td>Hello @Flipkart @AmazonHelp Hello Why Apple airpods pro are not available for sale from past many days? @Apple</td>\n",
       "    </tr>\n",
       "    <tr>\n",
       "      <th>5388</th>\n",
       "      <td>The refund email I received stated the reason for the refund was because of damaged package versus having been sold a recalled item.  None of this seems like it complies with @USCPSC regulations and guidance.</td>\n",
       "    </tr>\n",
       "    <tr>\n",
       "      <th>4379</th>\n",
       "      <td>What happened is you epically failed to do a very simple task.</td>\n",
       "    </tr>\n",
       "    <tr>\n",
       "      <th>6236</th>\n",
       "      <td>Yeah idk if it's worth it to return. Last return I did, they got the item but didn't refund me for 3 weeks after they got it. I wouldn't have gotten a refund had I not called support 10+ times. I contacted CTV and global News to report on the illicit resales of returns.</td>\n",
       "    </tr>\n",
       "    <tr>\n",
       "      <th>1745</th>\n",
       "      <td>huh? English please!</td>\n",
       "    </tr>\n",
       "    <tr>\n",
       "      <th>4261</th>\n",
       "      <td>Terrible service! They haven’t even logged on to twitter since 2015 it seems...</td>\n",
       "    </tr>\n",
       "    <tr>\n",
       "      <th>4903</th>\n",
       "      <td>I have also emailed the contract</td>\n",
       "    </tr>\n",
       "    <tr>\n",
       "      <th>3514</th>\n",
       "      <td>Everything from @amazon ships fast even without prime, currently trying to watch a TV show on @PrimeVideo and there are multiple non-Amazon commercials... Time to cancel prime? What am I paying for? Cc: @AmazonHelp</td>\n",
       "    </tr>\n",
       "    <tr>\n",
       "      <th>3433</th>\n",
       "      <td>Your customer service employees has said they sent a A-z claim.  That said that the claims keeping getting canceled or denied.  I definitely not happy how Amazon is handling this issue.  I am losing my lost trust regardless. Does anyone else have experience this issue with Amazon</td>\n",
       "    </tr>\n",
       "    <tr>\n",
       "      <th>460</th>\n",
       "      <td>Weirdly, I only have the one card, it’s still in date, and you’ve been happily taking my money with it for two years. I rang the bank. They have not flagged the card.</td>\n",
       "    </tr>\n",
       "    <tr>\n",
       "      <th>446</th>\n",
       "      <td>Every customer service associate promises amazon will make it right with the guarantee. And no one is making it right. This item was $340. You make billions of dollars and no one will help give me my refund.</td>\n",
       "    </tr>\n",
       "    <tr>\n",
       "      <th>3219</th>\n",
       "      <td>@FitbitSupport help?</td>\n",
       "    </tr>\n",
       "    <tr>\n",
       "      <th>1879</th>\n",
       "      <td>The form says to contact care, did that. They say the account is closed, they cant access. You can message me here for number. @AmazonHelp As I mentioned before, its all a mistake. Everything is legit. Kindly help.</td>\n",
       "    </tr>\n",
       "    <tr>\n",
       "      <th>3146</th>\n",
       "      <td>@AmazonHelp I would like you to know that  http://Amzon.it  is not helping @amazon to be the most Customer Centric Company. Multiple orders and even charged CC fo my order but no shipment for over three months. No solution, no compensation. Very bad!</td>\n",
       "    </tr>\n",
       "    <tr>\n",
       "      <th>2811</th>\n",
       "      <td>He also never paid us for the mailbox one of his driver's ran over. \\n@amazon\\n@AmazonHelp\\n@JeffBezos</td>\n",
       "    </tr>\n",
       "    <tr>\n",
       "      <th>1005</th>\n",
       "      <td>Do I choose change shipping speed?</td>\n",
       "    </tr>\n",
       "    <tr>\n",
       "      <th>1448</th>\n",
       "      <td>OK THANK. SAY THANKS TO MY BROTHERS TOO. I LOVE THEM VERY MUCH. PROMISE OF MY GODDESS.</td>\n",
       "    </tr>\n",
       "    <tr>\n",
       "      <th>4866</th>\n",
       "      <td>I’m glad you got the team to help you out because so far, the show it’s included on the membership.\\nHope the issue gets resolved soon! \\nChuck is very important to us!</td>\n",
       "    </tr>\n",
       "    <tr>\n",
       "      <th>5267</th>\n",
       "      <td>Amazon isn't exploiting people.  They're just providing a platform for others to exploit people.  In their minds, they're doing nothing wrong...</td>\n",
       "    </tr>\n",
       "    <tr>\n",
       "      <th>3276</th>\n",
       "      <td>Sorry, but I don't need to chat to someone on the phone about it. The subtitles are broken, a simple message to whichever department deals with videos would suffice. Cheers.</td>\n",
       "    </tr>\n",
       "    <tr>\n",
       "      <th>3447</th>\n",
       "      <td>Thanks, I'll try the chat.</td>\n",
       "    </tr>\n",
       "    <tr>\n",
       "      <th>1456</th>\n",
       "      <td>@AmazonHelp N DON STOP THE RAIN (LOVE I MEANT)</td>\n",
       "    </tr>\n",
       "    <tr>\n",
       "      <th>6042</th>\n",
       "      <td>Your delivery driver is</td>\n",
       "    </tr>\n",
       "    <tr>\n",
       "      <th>2571</th>\n",
       "      <td>@AmazonHelp So, is there a reason why films are only available in English and somehow they don’t have other languages?</td>\n",
       "    </tr>\n",
       "    <tr>\n",
       "      <th>1906</th>\n",
       "      <td>They do not wish to listen and solve my problem only promise since 23 January</td>\n",
       "    </tr>\n",
       "    <tr>\n",
       "      <th>1092</th>\n",
       "      <td>Two items didn’t arrived yesterday and today. How long I have to wait for this poor Prime delivery services?TBA805904183000\\nTBA805904183000</td>\n",
       "    </tr>\n",
       "    <tr>\n",
       "      <th>6245</th>\n",
       "      <td>Yes, can you please tell me who I send the Chiropractor and Doctor bills to from having to sleep on the floor? Due to your companies lies. Was told it would be delivered guaranteed, never was.</td>\n",
       "    </tr>\n",
       "    <tr>\n",
       "      <th>1475</th>\n",
       "      <td>It would be quicker for me to walk to Anfield and watch the match live than it would be for you to look into this for me. Thanks but no thanks 👍</td>\n",
       "    </tr>\n",
       "    <tr>\n",
       "      <th>1824</th>\n",
       "      <td>If orders cannot be delivered on time, I suggest not to use the word \"guaranteed\" because as a customer, this is what I will expect.</td>\n",
       "    </tr>\n",
       "    <tr>\n",
       "      <th>3137</th>\n",
       "      <td>And now there's only resellers selling them at a way more expensive price and we can't even be sure it's real. @AmazonHelp</td>\n",
       "    </tr>\n",
       "    <tr>\n",
       "      <th>4332</th>\n",
       "      <td>What a bizarre response. This suggests it’s a fault, rather than that the license has ended? Can you explain, @amazonhelp?</td>\n",
       "    </tr>\n",
       "    <tr>\n",
       "      <th>4758</th>\n",
       "      <td>It just would’ve been nice for him to open his present without it looking like I’d dragged it from a skip. I don’t expect to pay c.£70 on an item and have it treated in this way.</td>\n",
       "    </tr>\n",
       "    <tr>\n",
       "      <th>3190</th>\n",
       "      <td>They are waiting to see what you do.</td>\n",
       "    </tr>\n",
       "    <tr>\n",
       "      <th>1489</th>\n",
       "      <td>Hey @amazon @AmazonHelp I’m STILL waiting for y’all to call me about your package delivery drivers driving the wrong way down my street, DAILY. TWO WEEKS ago you said I’d get a call in 24 hours. So far I got empty promises.</td>\n",
       "    </tr>\n",
       "    <tr>\n",
       "      <th>1376</th>\n",
       "      <td>Buy with amazon pay balance</td>\n",
       "    </tr>\n",
       "    <tr>\n",
       "      <th>3294</th>\n",
       "      <td>It’s been escalated, sent to ARC Claims &amp; liability has been denied on the grounds of not enough evidence... hmmm 🧐 pic.twitter.com/usvf1RTHKV</td>\n",
       "    </tr>\n",
       "    <tr>\n",
       "      <th>4315</th>\n",
       "      <td>@AmazonHelp Hi. No one has reached me yet. What else can I do? Thanks.</td>\n",
       "    </tr>\n",
       "    <tr>\n",
       "      <th>3636</th>\n",
       "      <td>@AmazonHelp Good Monday morning 🌞 ☀️</td>\n",
       "    </tr>\n",
       "    <tr>\n",
       "      <th>3083</th>\n",
       "      <td>I sent them the document including MY name and billing address,The last 4 digits of the card number,Recent transactions using the card, the copy of my passport and the Authorization of ownership for a prepaid USD Visa card\\n But still they can't unlock my acc.</td>\n",
       "    </tr>\n",
       "    <tr>\n",
       "      <th>3902</th>\n",
       "      <td>Is it?what about Spotify?</td>\n",
       "    </tr>\n",
       "    <tr>\n",
       "      <th>6180</th>\n",
       "      <td>Yes.  New one coming tomorrow...I needed today.  It’s just gross that 2 things have arrived clearly used in the last couple months.  Ewww</td>\n",
       "    </tr>\n",
       "    <tr>\n",
       "      <th>4203</th>\n",
       "      <td>I’ll just watch it on @youtubetv. Rock solid picture. Not an @amazonhelp issue, a @FOXSports issue.</td>\n",
       "    </tr>\n",
       "    <tr>\n",
       "      <th>2998</th>\n",
       "      <td>If she’s going to use her platform to endorse Elizabeth Warren, who is for a complete ban on fracking, she can surely use her platform to stand up for the schools full of children that now have to incur the risks of the Mariner East Pipelines. And hell, she should.</td>\n",
       "    </tr>\n",
       "    <tr>\n",
       "      <th>2925</th>\n",
       "      <td>So sorry. It was a nightmare dealing with them when my mom’s account was hacked &amp; all her gift card money accessed. No resolution, no refund after hours of phone calls. They never followed up with us even once. We had to abandon her account.</td>\n",
       "    </tr>\n",
       "    <tr>\n",
       "      <th>4304</th>\n",
       "      <td>I already spoke to someone at Amazon customer service but all he said was sorry and that’s it even though Amazon dropped the ball big time on this by lying about when a promotion actually ended.</td>\n",
       "    </tr>\n",
       "    <tr>\n",
       "      <th>6200</th>\n",
       "      <td>If yu want i can forward the mail trail to you..\\nPlease educate GURU to not play with peoples emotion and situations..\\nGuru: +91 74838 26820</td>\n",
       "    </tr>\n",
       "    <tr>\n",
       "      <th>5303</th>\n",
       "      <td>Thank you..</td>\n",
       "    </tr>\n",
       "    <tr>\n",
       "      <th>6081</th>\n",
       "      <td>It seems that my home assistant used your music service by default and therefore I can't get a refund. That's disappointing.</td>\n",
       "    </tr>\n",
       "    <tr>\n",
       "      <th>111</th>\n",
       "      <td>@amazon @amazonIN \\nOver the email you have not provided solutions. You have explained your terms &amp; conditions only. \\nIf I am not able to use product so It should be return as it is in return policy time which is 10 days and last day is 3rd Feb. \\nKindly arrange verification.</td>\n",
       "    </tr>\n",
       "  </tbody>\n",
       "</table>\n",
       "</div>"
      ],
      "text/plain": [
       "                                                                                                                                                                                                                                                                                                                                                     raw\n",
       "1761                                                                                                                                                                                                                                                                                                                      Just sent one now again too :)\n",
       "1701                                                                                                                                                                                                                                                                                     Blah blah blah..  actions not meaningless words  #boycottamazon\n",
       "694                                                                                                                                                        #techfect20\\n\\nBecause knowledge has beginning but no ending... ☺️\\n#tech #TechTuesday #Tech4All #technology @amazon @AmazonStudios @alexa99 @AmazonHelp @amazonIN pic.twitter.com/yyIA9uBPuG\n",
       "6037                                                                                                    Yeah I resolved it but I will still be in the negative all weekend because of the refund situation...you know maybe a giftcard or something would make me feel a bit better about this since you guys love taking my money without notifying me.\n",
       "3572                                                                                                                                                                                                                                                                            Done.  Can I delete the above Tweet with the details of my delivery now?\n",
       "4238                                                                                                                                                                                                                                Thanks...but im confused as to why you dont offer this? Its a fairly basic requirement. Will this ever be an option?\n",
       "1333                                                                                                                                                                                                                                                                                                               Yes... and that doesn’t apply at all.\n",
       "6177                                                                                                                                                                                                                                                                     It’s not possible because it’s written there....so change what’s written there!\n",
       "5389                                                               here is a portion of the refund email i received about this #cpsc #recall which is not appropriate\\n\\n“On this occasion, we don't require you to return the original. You're welcome to keep, donate or dispose of it - whichever option is most appropriate and convenient for you.”\n",
       "6195                                                                                                                                                                                                    Prime Support told me to log off Prime and then go to the show’s page - it would then (and only then) display the show’s expiry date. Really?? 😡\n",
       "4042                                                                                                                                                                                                                                                    What I want to reply ???? Already i have reply to you guys through my mail on through Amazon APP\n",
       "1699                                                                                                                                                                                                                                                                                                                 Till Now...i did n't get cashback😡😭\n",
       "5614                                                                                                                                                                                                                                                @JeffBezos please look at the robotic non human replies sent to customers even after a week of delay\n",
       "2243                                                                                                                                                                                                                                                                                                             upset? apologies? you can’t do anything\n",
       "3028                                                                                                                                                                                                                                                                                        This has caused a broken heart, defo haha, anyway thank you!\n",
       "5315                                                               Thanks. Non-recyclable packaging is the thing that puts me off getting things delivered. I’m surprised you introduced these bubble-lined plastic bags & they shouldn’t have any place in your delivery chain. It’s 2020. There’s a climate crisis. You are massive. Do better please.\n",
       "2377  See this how @amazonIN @AmazonHelp @amazon @AmazonFashionIn  doing fraud and making us fool #spammers and even blocked me for tweeting on his platform #pooramazon #boycottamazon  and please help me @Flipkart @flipkartsupport @snapdeal @AmitAgarwal @JeffBezos @BJP4India @BBCWorld https://twitter.com/adi211197/status/1216225875034697728 …\n",
       "4383                                                                                                                                                                                                                                                       No the CS team is in T1 so you go there and find this person and thank him for such service 😂\n",
       "5047                                                                                                                                                                                                                                                                 I'm chatting with Beneth now on the app. Do you still want me to fill the form out?\n",
       "4958                                                                                                                                                                                                                                                                                                   You have yet to help me this is really a disgrace\n",
       "153                                                                                                                                                                                                hope they will provide an update us soon as possibile.\\n\\nBest regards,\\n\\nGiorgia\\n\\nSocial Media Specialist , You have send me this email the 31/01\n",
       "2069                                                                                                                                                                                                                                                                                                          Isn't there a legal way to approach this ?\n",
       "2987                                                                                                                                                                it seems someone has changed all of my login info, some \"penduan81c@yeah.net\", seems to be a chinese mail site or something, and no, i can still not call numbers outside of sweden.\n",
       "3268                                                            @KosherTechMedia:above is why @MicroCenter is the unbeatable king when it comes to getting computer hardware. Amazon lost a $200 computer case, took them a week to figure it out & send a new one. Now the video card keeps getting pushed back by weeks. Unfortunately I had giftcards\n",
       "1278                                                              It’s definitely an issue of using app controls, not streaming. If I leave a song playing (WiFi or LTE) all is fine. The minute I hit pause on car stereo issues begin. App will show music playing but none over car Bluetooth, starts/stops, etc. No issues if I use in-app controls.\n",
       "1312                                                                                                                                                                                                                                                                                        I'll return item then. I don't appreciate being overcharged.\n",
       "935                                                                                                                                                                                                                                                                                                          AFTER AN HOUR SHE HUNG UP ON ME. I AM LIVID\n",
       "4591                                                                                                                                                                                                                                               But the promotional email came yesterday giving the £8 discount and it wasn't available then either??\n",
       "1171                                                                                                                                                                                                                                                                                         I should get a $100 gift card for having to wait 15 minutes\n",
       "4698                                                                                                                                                       Got it. It sure would be nice if there was a user preference available to allow us to choose to override that publisher’s choice. (Just like how we can choose a different font, if we want.)\n",
       "72                                                                                        I’ve just received exactly the same automatic reply I’ve been getting for a week. Clearly my emails are not being read by a human. I’ve been asking for a reason for my account termination for a week now and I’m getting nowhere. pic.twitter.com/lgHC7eBl0c\n",
       "2976                                                                                                                                                                                                                                                                                                                          Terrible Customer Service.\n",
       "2691                                                                                                                                                                                                                                                                                                     And yet it keeps happening. I'd look into that.\n",
       "288                                                                                                                                                                                                                                                                                                                      What is the status of my mobile\n",
       "818                                                                            I don't need to look at some website for policy. I have policy on the ticket I was given that says 24 hrs for refund. Not footnotes. No fine print. I guess I have to do another chargeback so you don't hold onto my money for a month and don't respond like last time.\n",
       "1249                                                                                                                                                      Having responded to @AmazonHelp it seems @AmazonUK aren’t interested in the damage caused.  It’s ok though the logistics company (amazon) will retrain the driver #Amazon #poorcustomerservice\n",
       "1944                                      My Amazon product was cancelled which I purchased on 20/01 using my canara bank debit card. As per their confirmation refund was initiated on 27/01. Still it was not reflected in my account. @AmazonHelp told me to contact my bank support. The bank said no refund from seller  pic.twitter.com/UgowlX0Nuq\n",
       "2851                                                                                                                                                                                                   Went to the link, not sure what I am looking at. Same message with “will come back with update” sent on 28 Jan which I have low confidence on it.\n",
       "3002                                                                                                                                                                                                                                                                         Submitted.  I still have the problem of not having a knee scooter for work.\n",
       "5641                                                                                                                                                                                                                                                      Umm looks fine don’t really know why you are completely? Unless you are looking for attention.\n",
       "4669                                                        @AmazonHelp @ShieldVoC \\nAlready talked to cust care & escalation team\\nAll agree it was server issue, but still no refund policy\\nPolicy also states voucher will be delivered within few mins\\nMy concern only that customer is penalized due Amazon technical issue & still no resolution\n",
       "1488                                                                                                                                                           An item was sent to my friends address likely by a person in an active harassment case. Details were needed to give to the police. You refused and advised it will be handled internally.\n",
       "5650                                                                                                                                                                                                                                                                                                                        😂😂 Alexa is a filthy so n so\n",
       "4769                                                                                                                                                                                                                                                                                 Still Now waiting many customers.. @amazonIN @AmazonHelp @JeffBezos\n",
       "2109                                                                                                                                                                                                                                                     @AmazonHelp I just canceled my Prime membership and no one wants to know why?????? WHy is this?\n",
       "3457                                                                                                                                                                                                                                                                         Must suck when you are waiting for you dildos and they never show up Ralph!\n",
       "4181                                                                                                                                                        @AmazonHelp very frustrating that account holders are NOT allowed to directly contact billing regarding issues with personal accounts.  Not ok when you have been a customer for many years.\n",
       "5077                                                                                                                           I guess so, it is just a pity because I have access to prime video in different countries and I found this limitation mostly in Germany. In other countries there is always the option to switch to the original content.\n",
       "6047                                                                                                                                                                                                                                                          People hate replies like that. Click here to read through 70,000 words of non-sense. 🤦🏻‍♂️\n",
       "4925                                                                            Thx. This didn’t work (it’s mobile); it just resumes the broken session.  But I know that eventually it’ll time out and then I’ll try again. In the meantime, Amazon decided to contact me by email with this completely meaningless message: pic.twitter.com/AXv8xMOEk6\n",
       "1113                                                                                                                                                                                                                                                                              If you can get me my order by 10am at the latest all will be forgotten\n",
       "5404                                                                                                                                                                                                                                                                                                   I tried America's best they said they won't do it\n",
       "2190                                                                                                                                             @amazon @AmazonHelp \\nWhat is the point of providing reschedule option , if after opting for it , u can't the delivery on that date ...\\nIs it fine that the customer should suffer for your wrongs ...\n",
       "4262                                                                                                                    Also @CitySelfDrive have stayed quiet haven’t they! They must be able to give a statement to @AmazonUK @AmazonHelp on the state of the van upon return etc? There was also a dash cam that for some reason isn’t being checked??\n",
       "2034                                                           @AmazonHelp @HDFCBank_Cares @JeffBezos @AmitAgarwal \\nHDFC MI A3 Cashback Offer of August 2019 still not given to me till date! Been following up with Amazon last 40 days (6 calls!) Forwarded HDFC's mail on 22nd Jan and was assured 3-4 TAT but no call, no mail! Extremely pathetic!\n",
       "5757                                                                                      your link mentions price matching. price matching isn't the same thing as a price adjustment. you are the maker and seller of the device. You really want to have me return and then rebuy, increasing YOUR cost, and wasting everyone's time. that's strange.\n",
       "4969                                                                                                                                                                                                                                                                                                               Wow, a 2-minute call fixed things up.\n",
       "3972                                                      @reliancejio @JioCare @AmazonHelp what's going on with recharge transaction. I want to pay 75/- for a jio phone recharge and amazon was showing not for my phone. Meanwhile that's actually a jio phone and insame time other app are ready to do this recharge!!!  pic.twitter.com/7PLLsSCerx\n",
       "5512                                                                                                                                                                                                                                                                            You're welcome! I literally had a delivery this morning! #AmazonFresh :)\n",
       "4523                                                                                                                                                                                                  Nah... I’ll just cancel the order and buy elsewhere.   Although I’ll still use Amazon I will cancel any orders in transit you sent via Hermes.....\n",
       "2516                                                                                                                        Hey boAthead,\\n                        We have shared your concern and details to our team,please don't worry our team will resolve this issue on priority,please be patient with us in the meantime.\\n\\nRegards,\\nboAt Crew\n",
       "2575                                                                                                                                                                                                                                                                                    It’s not quite for free, it’s with an Amazon Prime subscription.\n",
       "2374                                                                                                                                                         @amazonIN fraud @AmazonHelp fraud #SPAM #FRAUD #CHOR #liar #BoycottAmazon see my tweet its over 1months but still no resolution https://twitter.com/Saketxyz01/status/1224591933680435202 …\n",
       "2617                                                                                                                                                                                                                                                                                                                                          Well done!\n",
       "502                                                                                                                                                                                         Earlier I complaint to @amazonIN @AmazonHelp  but I didn’t get any updates regarding my complaint so kindly update me the status of the complaint. Thank you\n",
       "1815                                                                                                                                                                                                                                                                          If immediate action will not be taken i will file a case in consumer court\n",
       "5301                                                                                                                                                                                                                                                                                                     Thank you. It's rediculous it can't be changed!\n",
       "2266                                                                                                                                                                                                                                                                                                                                          Thank you.\n",
       "2469                                                                                                                                                                                                                                                                                                                                  I love @AmazonHelp\n",
       "1147                                                                                                                                                                                           I don't mind things being late, what I object to, is being told they will arrive at the next stop, only for over an hour later the package not being here\n",
       "35                                                                                                                                                                                                                                                                                                               Sorry to say this but they are useless.\n",
       "6173                                                                                                                                                                Hi guys, I called in and the issue has been flagged for escalation, and a refund issued. Order number was 206-2151443-9009922 if you want to follow it up at your end. Thanks again.\n",
       "1082                                                                                                                                        I want to know when Fage 0% 32oz will be restocked so I dont have to buy the lesser quality Chobani that tastes like diasppointment and giving up. I don't need to eat that, as that is my lived experience.\n",
       "916                                                             @amazon @AmazonHelp HOW DARE YOU tell an American military service member past or present what they can & can not say! We defend the right to freedom of speech! You're employees will NOT tell me what I can and can not say! IDC if the 1st if only against gov or not I DONT CARE!!!!\n",
       "216                                                                                                                                                                                                                                                               I am not seeing an Option in Dominoz for Unlink amazon pay \\n\\nSo tell me how ot do it\n",
       "962                                                                                                                                                                                                                                                                  Why can't you talk to them. Is it my job. Dear Amazon I am losing my precious time.\n",
       "6100                                                                                                                                                                                                                      @AmazonHelp please check the Amazon small business day quiz \\nThanks this quiz winner not announce  pic.twitter.com/TV9uxBeglW\n",
       "1750                                                                                   Same- but we use our account a ton. Prime, videos, and music. Why are we locked out while you all investigate 4.00-5.00 in charges? We didn’t do anything wrong. We called after the 1st charge and changed passwords as told. Then disputed after the 2nd movie!\n",
       "1180                                                                                         I have had more difficult with Amazon's own drivers than any carrier, by far. It's not even close. Haha-- not just delays, but also they deliver to the wrong place then tell Amazon it is delivered. That has happened to me 3 times in the last 3 months.\n",
       "1961                                                                                                                                                                                                                                                     You were also informed of this same photo a YEAR ago and did nothing pic.twitter.com/aMIqKKZD1m\n",
       "4551                                              Arre khufiyon, order cancelled 25/1/2020 today is 2nd February! 9:days. Don't you read tweets or you are dumb? Is this how @JeffBezos became rich. Banks pay ₹100/day from 5 days of ATM dispute! What do you Jeff? @amazon @AmazonHelp 😖  https://twitter.com/AmazonHelp/status/1223981877574295553 …\n",
       "5478                                                                                                                                                                                 @AmazonHelp, think your delivery guy is going to enter my DOB in your system at the door because someone in my house ordered alcohol? Think again. Package refused.\n",
       "4377                                                                           @amazonca @AmazonHelp Seriously, the Amazon experience is falling  off a cliff. Waiting around all day for my subscribe and save orders only to check and see that you declared the shipment damaged at 2am. It  says I'll be refunded and to reorder if I need them. 1/2\n",
       "5226                                                                                                                                                               @AmazonHelp I would like my twitch account to be linked to this one not my other one. It keeps linking me to my other account is Tonyncfc27 it’s annoying  pic.twitter.com/AnA17M4yYv\n",
       "2767                                                                     Hey @realDonaldTrump @POTUS, @amazon is firing me before I ever saw a penny, after my contingent hire background check returned results that prompted them to ask me to purjure myself with questions that should be illegal to ask any employee without financial compensation\n",
       "6127                                                                               And clearly at this point @UPS no longer has the package since it was delivered to an @amazon warehouse. So logically it should be at the Amazon warehouse. I just want to know which one so I can pick it up. I’ll DM the screenshot that shows the employee’s name.\n",
       "2773                                                                                                                                                                                                                                                                       I saw this same sticker (a smaller one) on a truck recently too here in PA. 😡\n",
       "4959                                                                                                                                                                                                                @AmazonHelp your customer service has yet to help me with refunding my money for my package that never came. Jesus Christ y'all suck\n",
       "1052                                                             To repeat, I’ve already opened a return for these items that were delivered damaged. I asked for a Royal Mail return label but the return QR code provided is for Doodle and there’s no Doodles near me. I can’t seem to change the Doodle return labels provided for a Royal Mail one.\n",
       "1133                                                                                                                                                                                                                                                                You just posted your number online for everyone to see. Not the smartest thing to do\n",
       "6201                                                          Ya AmazonI dia\\nSomehow my details were wrongly updated, but the PF consultant \"Guru\" of Amazon is highly unprofessional and irresponsible person. He has been bluffing & fake promising & lying me fr past 6 months\\nPlease help\\nPlease update my details of employment in epfo portal 🙏\n",
       "3875                                                                                                                                                                                                                                                         Oh that’s right! They probably wanted you to click the link. Ugh These scammers piss me off\n",
       "4643                                                                                                                                                                                                                                                                                      @AmazonHelp  when is the digital release of sarileru neekevaru\n",
       "4743                                                                                                                                                                                                                                                                                                                                    That’s terrible!\n",
       "2901                                                                                                                                                       oh i’ve received my order. what I haven’t revived is my promo credit to use on NON AMAZON PRODUCTS AND SOMETHING I ACTUALLY WANT OR NEED i’ve gotten $15 to use on “amazon fulfilled” things.\n",
       "2119                                                                                                                                                                                                                                                                                                       @hardikmdev  bro did u recieve the cashback ?\n",
       "1196                                                                                                                                                                                                                                                                                                                            well thats terrifying...\n",
       "5944                                                                                                                                                                                                                                                                             Hi Das, skipping requires me to be less lazy and that is not an option.\n",
       "6106                                                                                                                                                                        @WholeFoods @AmazonHelp you really need to get these panorama meats out of your stores. It’s disgusting and shoppers love to send it by mistake.  pic.twitter.com/VIMiOeM3Ul\n",
       "5326                                                                     @AmazonHelp bad experience in Brazil: without warning, Seinfeld series, a forever champion, was deleted from the catalog! Impressive how a brand, struggling for the Brazilian market, gives up this way! A complete shame. Just cancelling in a couple of days, unfortunately.\n",
       "5667                                                                                                       @AmazonHelp will amazon be adding the functionality to add a locker pickup barcode to Apple wallet soon? So it comes up on home screen when you get close to the locker your item is in? Just another way to make the service even better 🧐🤞🏻\n",
       "5962                                                                                                                                                     Not so much at you guys as it is @hulu !  Could watch three episodes at night with my parents when they visit. Now with about 15 minutes of commercials we cut it to one or two. Just stinks! 😔\n",
       "79                                                                          Tweet 3 @AmazonHelp saying in 2 hours change your password... but when I try it’s still locked. Fed up of going round in circles. Fed up of not speaking to actual human who knows what there doing. And to add further insult, in still paying for prime which I can’t use.\n",
       "789                                                                                                                                                                                                                                         Go to settings, apps, manage apps, clear data, clear cache. Then restart your fire stick. That worked for me\n",
       "4170                                                             @AmazonHelp You amazon piece of shit have refused to resolve my complaints for five months showing the same monotonous message whenever I try to log in since October aren’t you people ashamed of your slimy,thieving,filthy ways of robbing your customers of their hard earned money\n",
       "1111                                                                                                                                                                                                                            Part 2 of the @amazon Live Chat run-around given to me this afternoon @AmazonHelp is NO HELP  pic.twitter.com/Oa0vnzyh0I\n",
       "493                                                             @amazonIN @AmazonHelp  I’m waiting and waiting only. I have no other options except waiting. This is the way to treat your customers like this? After providing a used product , you are all playing game like this. Do you think it’s easy to wait even you don’t know what’s happening\n",
       "2522                                                                                                                                                                                                                                                                                                           There is also stuff that ships from China\n",
       "2818                                                                                                                                                                Totally agree with you, the distribution warehouse is in Brampton and lots of stuff will show 3-4 days for delivery even with prime and it gives an option to pay and get it earlier\n",
       "1316                                                                                                                                                                                                                                                                                                                                           *baseball\n",
       "2410                                                          Hello,\\n\\nWe regret the inconvenience caused.We request you to send us your details via DM or on ho-mgr@tpcglobe.com along with the Consignment number, delivery address, booking date, and consignee mobile number.Our concerned team shall get back to you with a reply at the earliest.\n",
       "3418                                                                                                                                                                                                                  Received a text from “Amazon Rewards” to confirm my address. It’s...URGENT. \\n\\n@AmazonHelp send me a giftcard since y’all hacked.\n",
       "2938                                                                                                                                                                                                                                                   You sent me to support for Author Central, but the book is being shipped to you by a distributor.\n",
       "1127                                                                                                                                                                                                                                                                                                                Ok I will thank you for your support\n",
       "2899                                                                    No the item was not purchased, I requested them not sending a refund and maybe giving me a coupon code to reorder the item but that was impossible apparently since the order was cancelled. I love amazon and order a lot through you but this left a sour taste in my mouth! 😔\n",
       "1700                                                                                                                                                                                                                                                                                                        We don't want subtitles..we need Tamil voice\n",
       "1348                                                                                                                                                                                                                                                                                            You are the ones that misinformed me in the first place!\n",
       "4526                                                             I have not received any update- only requests for information or payment for fraudulent charges typically the same information (likely just repeating for each of the charges). Otherwise when I try to login I am given the message that my account is still locked & wait for updates\n",
       "4344                                                                                                                                                                                                                                                                                 Apparently it has been removed from the catalogue \\nThats a shame 😒\n",
       "1548                                                                                                                                                                                                                                                                                @AmazonHelp I send A message on twitter in Jan 6, 2020 But No Answer\n",
       "6010                                                                                                                                                                                                How am I supposed to contact them, though? I can’t even email them so I’m just stuck. Could I at least get a reason as to why my account was closed?\n",
       "1428                                                                                                                                                                                                                                                                         I will PM you the order number. Fresh Flowers from Whole Foods Market. Yes.\n",
       "4053                                                                                                                                                                    Am getting SERVICE COMPLETED acknowledge notification but problem is not resolved its only a inspection.when am getting replace @AmazonHelp @amazon @OnePlus_IN @OnePlus_Support\n",
       "3299                                                                    1/2 @amazonhelp I have multiple Alexa devices (Dots/Shows/FireTV) but I'm considering ditching them all in favour of #googleassistant if you won't stop the bloody thing wishing me a nice day or to have a great afternoon every time I simply ask the weather or a time check.\n",
       "6277                                                                                                                                     Full marks for the speedy response - thank you. But I’m really annoyed you’ve ruined my night in. I had to buy the DVD to continue watching. Thank goodness for @Cex who’ll get me the DVD for tomorrow for £8.\n",
       "2552                                                                                                                                                                                                                                                                                                      No person from Amazon only carrier info. Lame!\n",
       "2768                                                                                                                                             I cant answer your questions without a real #seattlelawyer and I wanted a job so I could work toward not being homeless anymore and satisfying Probation with @SeaMuniCourt. pic.twitter.com/4DLV8NnZGw\n",
       "2476                                                                                                                                                                                                                                                                                                You must be boycotted coz of your pathetic services.\n",
       "4609                                                                               Still waiting for UPDATE and my #money\\n#Amazon #AmazonPrime #amazonindia #JeffBezos #onlinefrauds #consumeraffairs @AmazonHelp @amazonIN @JagoGrahakJago_ @JagoGrahakJagoo @Flipkart @snapdeal @AJIOLife https://twitter.com/AmazonHelp/status/1221782765559001088 …\n",
       "127                                                                                                                                                                                                                                                                                                      @AmazonHelp \\nshame  pic.twitter.com/PpxhMIN4zd\n",
       "2501                                                  @amazon @AmazonHelp @amazonIN what the hell is mathrubhasha? Why don't you never talk in a language all Indians can understand? Why do you communicate with most of the Indians in an alien language? Do you have guts to use some other languages in France or German? pic.twitter.com/YGig10Lgll\n",
       "1837                                                                                                                               I note that @AmazonHelp have the wrong item in their warehouse rack, so I'll order it and return it every day until they sort it.\\n\\nOf course, there's no way to contact them. Wonder how much this is costing them?\n",
       "2545                                                                                                                                                       Not much help to be honest. They say they can’t do anything. I just wanted a properly replacement dispatched like I’ve had previously  but they’re just offering to send e-mail in my behalf.\n",
       "4863                                                                                                                                                                                      I’m not filling out some BS forms with my personal information.  Tell your driver I won’t slam on my breaks next time.  I’ll just let amazon buy me a new car.\n",
       "4567                                   🏈 Punt? [Day 16]\\n\\n@AmazonHelp \\nWhat is #Amazon's delivery *policy*?\\n\\nDlvr pkgs 2 the door? Or just @Amazon drivers' *usual* dump-it-on-TOP-of-a-bunch-of-mailboxes-near-a-public-pkg-lot & call it a day?\\n\\nInquiring grndprnts w hip rplcmnts & porch-pirates 🏴‍☠️ WANT 2 KNOW! pic.twitter.com/1BUN2LGcvy\n",
       "5275                                                                                                                                                                                                                                                                                                  Just refresh it. Now it's available in our region.\n",
       "5320                                                                               This isn’t the first time it’s happened either. We’re already working on returning it. Last time I ordered an action figure the leg instantly fell off. Figures are fragile in the cold so the littlest bump can easily break them. Carriers need to be more careful.\n",
       "2917                                                                                                                                                                                                                                                                          Yes you can. Honor what your website says and honor the same day delivery.\n",
       "6085                                                                                                                                                                                                                        Your \"transportation team\" is now refusing to deliver the package until Monday because they don't feel like driving tonight.\n",
       "3508                                                                                                                                                                                                                                                                               All posts are about the item purchased and my feelings after using it\n",
       "1765                                                                                                                                                                                                                              My cellular is working perfectly but updating the app gives the error in the original post. pic.twitter.com/Jvikwq1Cdt\n",
       "2944                                                                                                                                                                                                                                                                                                               So what did you think of my feedback?\n",
       "2187                                                                                                                                                                                                                                       Your team said they will respond me in 6-12 hrs , are u feeling #drowsiness , #dizziness\\n@AmazonHelp @amazon\n",
       "5349                                                                     Says item was shipped with UPS and delivered yesterday, the item was never at my front door or downstairs, when I called amazon it says for me to wait until monday to call to confirm I never got it then to issue a replacement. But why can't I issue one now the day after?\n",
       "5414                                                                                                                                                                                                                                 Grrrr, I would have preferred the reply \"Sorry but we're all sold out of Buttigieg hats\", but thanks for the reply.\n",
       "2072                                                                                                                                                                                                                                                                                            Yes, we've sent them emails, but the ads still continue!\n",
       "97                                                                                                                                                                                                                                                                                                                Then I'll be left with only one eye :P\n",
       "1736                                                                                                                                                                                                                                                                                                            Nice one 👍🏻 I hung up after having ago 🤣\n",
       "515                                        Part-5 Your promised 2nd delivery date is also failed. It is half month passed now. \\n\\nYour customer care executive are telling lies about delivery.\\n\\nI request you please deliver my order today at least.\\n\\nIf you can't deliver in delhi then give me your answer @Flipkart pic.twitter.com/HwF5QMPq9S\n",
       "3981                                                                                                                                                                                                                                                                                                                            Search on @Flipkart 😂🤣😂🤣\n",
       "3291                                                                                                                                                                                                                                                                                                          Update - still no contact from @AmazonHelp\n",
       "5385                                                                                                                               Well, I did call you twice to ask about this but your phone lines and so bad they cut out before your Non-English speaking staff could work out what I was on about. \\n\\nIs Jeff Bezos really worth  $129.5 billion ?\n",
       "2073                                                                                           How many more tweets to get your attention, @GoogleIndia? The trademark violation by @amazonIN  continues to date, and our hard-earned traffic is still getting misdirected! \\n\\n@sundarpichai @Google @GoogleAds @AmazonHelp  pic.twitter.com/VS9D5zuVys\n",
       "4581                    Dear @AmazonHelp, I am really frustrated about your service. I immediately contacted you. Your support agent could easily cancel those orders, but they asked me to wait for email from you. 36 hours passed, no email from you to me till now. Feeling disturbed.  https://twitter.com/DrBariHasan/status/1223609112283570177 …\n",
       "2257                                                                                                                                                             @AmazonHelp @amazonIN @amazon @amazonmusic @AmazonMusicIN Hi Amazon, could you please explain me why there aren’t any songs from YRF or YRF music on Amazon Prime Music? @yrfmusic @yrf\n",
       "3342                                                                                                                                                                                                                                                                                              Awaiting closer... Disappointed with amazon experience\n",
       "4118                                                                                       I already said I had in original tweet. I fixed the issue thanks to a thread online. The hardware in your device is terrible and doesn’t support all the channels on my router. So I had force my router to stay on a router the device supports - it’s 2020!\n",
       "3252                                                                                                                                                                                                                                                                                               + @AnuragJaisingh\\nThere is no option to pre-order...\n",
       "6019                                                                                                                                                                                                                                                                                  Firestick was my nickname in college. Just tossing that out there.\n",
       "1681                                                                                   So I qm tire as I gave every opportunity to Amazon Customer service to fix the issues..... I gave up!! But Amazon sit tight!! I will work with the media, others competitors ...BBB+ Walmart etc for them to advertise the New Amazon..you want to help?! Call me\n",
       "1284                                                                                                                                                                                                                                                                                                  Thanks I’ll try the customer service chat tonight.\n",
       "4763                                                                                                                         @AmazonHelp my order track no: 1817570064\\nMy shipment is too late for delivery\\nAll the required documents were sent to the carrier, but he is very late in sending them to customs and clearing them\\nWhat's the solution\n",
       "3717                                                                                                                                                                                                                                                                                                                           I have sent you an email.\n",
       "4254                                                                                                                                                                                                                                                                               seinfeld is the only reason i have my subscription please add it back\n",
       "5959                                                                                                                                                                                                                                               Nope... Unless you change your rules... Only thing I'd say is making the guidelines easier to find...\n",
       "1115                                                                @AmazonHelp is just an automated system recommending the troubleshooting tips its programmed to, Today I have spent over an hour trying to get this issue resolved and NOTHING thanks 4 wasted time, false advertising, take my advise & go to @BestBuy @Target @Walmart not @amazon\n",
       "4064                                                                                                                                                                                                                                                                                                Not my job. It's yours, you keep your customers safe\n",
       "587                                  @AmazonHelp @amazon @JeffBezos says I need approval to sell an item but puts “sell yours” tab there. Then claims I need approval for a none branded item. Not a single brand mark on the product but they steal my $5k the very own company they say I’m listing against can’t tell diff pic.twitter.com/92iRV9Xw0b\n",
       "3487                                                                                                                                                                                                                     Yep. Some years ago I had a package I wasn't expecting stuck in a rarely used random box on my patio. Didn't find it for weeks!\n",
       "5083                                                                                                 @AmazonHelp I’ve applied for a position in CA and have been contacted to set up an interview but my access to my account is blocked and I don’t know why. I have DM’d you, please you’re my last hope 😭 no one has been able to help me or know why\n",
       "3022                                                                                                So your response is sending the link to the standard chat function. This is brilliant double underlines that amazon do care at all about customer service or understand customers issues #sendthemanaward #CustomerExperience #customerchampions2020\n",
       "2066                                                                                                                                                                      Mad panic, how about an apology to @AmazonHelp ??? Trying to take to social media claiming they are ripping you off  https://twitter.com/mark3028/status/1224660042756083713 …\n",
       "6167                                                                                                                                                                                                                                                                                             Still not made it any better pic.twitter.com/lelg5MdzpY\n",
       "4435                                                                                                                                                                                                                                     Delivery time was to be delivered the 1st now the 4th cause the shipping label wasn’t even created till the 1st\n",
       "4972                                                                                                                                                                                                                                                         “ we are sorry we have a poor customer service model. Here’s a FAQ page that tells you why”\n",
       "2420                                                                                                                                                                                                                                                                                                                 Stop replying copy paste tweet team\n",
       "1871                                                          @AmazonHelp @amazon I get it, it is difficult for a common person to raise the voice. @JeffBezos is that what you wanted Amazon to become!\\n\\nHow difficult is it for your account department to call a customer. Don't say you can not trace from social media. order 114-2689790-1555427\n",
       "5429                                                                                                                                                                                                                              It's sorted now fam, they apoligised for the inconvenience and sent me some credit. Still wish I had the chocolate tho\n",
       "1349                                                                  Wow! That's so disappointing. Amazon customer service is unable to assist me but I should pay £79 for prime again. Thanks @AmazonHelp @AmazonUK @PrimeVideo @primevideouk and most of all a big thanks to @amazon .com for closing my account and providing the wrong information.\n",
       "5341                                                                                                                                                                                                                                      Hello @Flipkart @AmazonHelp Hello Why Apple airpods pro are not available for sale from past many days? @Apple\n",
       "5388                                                                                                                                    The refund email I received stated the reason for the refund was because of damaged package versus having been sold a recalled item.  None of this seems like it complies with @USCPSC regulations and guidance.\n",
       "4379                                                                                                                                                                                                                                                                                      What happened is you epically failed to do a very simple task.\n",
       "6236                                                                      Yeah idk if it's worth it to return. Last return I did, they got the item but didn't refund me for 3 weeks after they got it. I wouldn't have gotten a refund had I not called support 10+ times. I contacted CTV and global News to report on the illicit resales of returns.\n",
       "1745                                                                                                                                                                                                                                                                                                                                huh? English please!\n",
       "4261                                                                                                                                                                                                                                                                     Terrible service! They haven’t even logged on to twitter since 2015 it seems...\n",
       "4903                                                                                                                                                                                                                                                                                                                    I have also emailed the contract\n",
       "3514                                                                                                                              Everything from @amazon ships fast even without prime, currently trying to watch a TV show on @PrimeVideo and there are multiple non-Amazon commercials... Time to cancel prime? What am I paying for? Cc: @AmazonHelp\n",
       "3433                                                            Your customer service employees has said they sent a A-z claim.  That said that the claims keeping getting canceled or denied.  I definitely not happy how Amazon is handling this issue.  I am losing my lost trust regardless. Does anyone else have experience this issue with Amazon\n",
       "460                                                                                                                                                                               Weirdly, I only have the one card, it’s still in date, and you’ve been happily taking my money with it for two years. I rang the bank. They have not flagged the card.\n",
       "446                                                                                                                                      Every customer service associate promises amazon will make it right with the guarantee. And no one is making it right. This item was $340. You make billions of dollars and no one will help give me my refund.\n",
       "3219                                                                                                                                                                                                                                                                                                                                @FitbitSupport help?\n",
       "1879                                                                                                                              The form says to contact care, did that. They say the account is closed, they cant access. You can message me here for number. @AmazonHelp As I mentioned before, its all a mistake. Everything is legit. Kindly help.\n",
       "3146                                                                                          @AmazonHelp I would like you to know that  http://Amzon.it  is not helping @amazon to be the most Customer Centric Company. Multiple orders and even charged CC fo my order but no shipment for over three months. No solution, no compensation. Very bad!\n",
       "2811                                                                                                                                                                                                                                              He also never paid us for the mailbox one of his driver's ran over. \\n@amazon\\n@AmazonHelp\\n@JeffBezos\n",
       "1005                                                                                                                                                                                                                                                                                                                  Do I choose change shipping speed?\n",
       "1448                                                                                                                                                                                                                                                              OK THANK. SAY THANKS TO MY BROTHERS TOO. I LOVE THEM VERY MUCH. PROMISE OF MY GODDESS.\n",
       "4866                                                                                                                                                                            I’m glad you got the team to help you out because so far, the show it’s included on the membership.\\nHope the issue gets resolved soon! \\nChuck is very important to us!\n",
       "5267                                                                                                                                                                                                    Amazon isn't exploiting people.  They're just providing a platform for others to exploit people.  In their minds, they're doing nothing wrong...\n",
       "3276                                                                                                                                                                       Sorry, but I don't need to chat to someone on the phone about it. The subtitles are broken, a simple message to whichever department deals with videos would suffice. Cheers.\n",
       "3447                                                                                                                                                                                                                                                                                                                          Thanks, I'll try the chat.\n",
       "1456                                                                                                                                                                                                                                                                                                      @AmazonHelp N DON STOP THE RAIN (LOVE I MEANT)\n",
       "6042                                                                                                                                                                                                                                                                                                                             Your delivery driver is\n",
       "2571                                                                                                                                                                                                                              @AmazonHelp So, is there a reason why films are only available in English and somehow they don’t have other languages?\n",
       "1906                                                                                                                                                                                                                                                                       They do not wish to listen and solve my problem only promise since 23 January\n",
       "1092                                                                                                                                                                                                        Two items didn’t arrived yesterday and today. How long I have to wait for this poor Prime delivery services?TBA805904183000\\nTBA805904183000\n",
       "6245                                                                                                                                                    Yes, can you please tell me who I send the Chiropractor and Doctor bills to from having to sleep on the floor? Due to your companies lies. Was told it would be delivered guaranteed, never was.\n",
       "1475                                                                                                                                                                                                    It would be quicker for me to walk to Anfield and watch the match live than it would be for you to look into this for me. Thanks but no thanks 👍\n",
       "1824                                                                                                                                                                                                                If orders cannot be delivered on time, I suggest not to use the word \"guaranteed\" because as a customer, this is what I will expect.\n",
       "3137                                                                                                                                                                                                                          And now there's only resellers selling them at a way more expensive price and we can't even be sure it's real. @AmazonHelp\n",
       "4332                                                                                                                                                                                                                          What a bizarre response. This suggests it’s a fault, rather than that the license has ended? Can you explain, @amazonhelp?\n",
       "4758                                                                                                                                                                  It just would’ve been nice for him to open his present without it looking like I’d dragged it from a skip. I don’t expect to pay c.£70 on an item and have it treated in this way.\n",
       "3190                                                                                                                                                                                                                                                                                                                They are waiting to see what you do.\n",
       "1489                                                                                                                     Hey @amazon @AmazonHelp I’m STILL waiting for y’all to call me about your package delivery drivers driving the wrong way down my street, DAILY. TWO WEEKS ago you said I’d get a call in 24 hours. So far I got empty promises.\n",
       "1376                                                                                                                                                                                                                                                                                                                         Buy with amazon pay balance\n",
       "3294                                                                                                                                                                                                      It’s been escalated, sent to ARC Claims & liability has been denied on the grounds of not enough evidence... hmmm 🧐 pic.twitter.com/usvf1RTHKV\n",
       "4315                                                                                                                                                                                                                                                                              @AmazonHelp Hi. No one has reached me yet. What else can I do? Thanks.\n",
       "3636                                                                                                                                                                                                                                                                                                                @AmazonHelp Good Monday morning 🌞 ☀️\n",
       "3083                                                                                I sent them the document including MY name and billing address,The last 4 digits of the card number,Recent transactions using the card, the copy of my passport and the Authorization of ownership for a prepaid USD Visa card\\n But still they can't unlock my acc.\n",
       "3902                                                                                                                                                                                                                                                                                                                           Is it?what about Spotify?\n",
       "6180                                                                                                                                                                                                           Yes.  New one coming tomorrow...I needed today.  It’s just gross that 2 things have arrived clearly used in the last couple months.  Ewww\n",
       "4203                                                                                                                                                                                                                                                 I’ll just watch it on @youtubetv. Rock solid picture. Not an @amazonhelp issue, a @FOXSports issue.\n",
       "2998                                                                           If she’s going to use her platform to endorse Elizabeth Warren, who is for a complete ban on fracking, she can surely use her platform to stand up for the schools full of children that now have to incur the risks of the Mariner East Pipelines. And hell, she should.\n",
       "2925                                                                                                   So sorry. It was a nightmare dealing with them when my mom’s account was hacked & all her gift card money accessed. No resolution, no refund after hours of phone calls. They never followed up with us even once. We had to abandon her account.\n",
       "4304                                                                                                                                                  I already spoke to someone at Amazon customer service but all he said was sorry and that’s it even though Amazon dropped the ball big time on this by lying about when a promotion actually ended.\n",
       "6200                                                                                                                                                                                                      If yu want i can forward the mail trail to you..\\nPlease educate GURU to not play with peoples emotion and situations..\\nGuru: +91 74838 26820\n",
       "5303                                                                                                                                                                                                                                                                                                                                         Thank you..\n",
       "6081                                                                                                                                                                                                                        It seems that my home assistant used your music service by default and therefore I can't get a refund. That's disappointing.\n",
       "111                                                                @amazon @amazonIN \\nOver the email you have not provided solutions. You have explained your terms & conditions only. \\nIf I am not able to use product so It should be return as it is in return policy time which is 10 days and last day is 3rd Feb. \\nKindly arrange verification."
      ]
     },
     "execution_count": 151,
     "metadata": {},
     "output_type": "execute_result"
    }
   ],
   "source": [
    "df.loc[false_positive_index][['raw']]"
   ]
  },
  {
   "cell_type": "code",
   "execution_count": 152,
   "metadata": {},
   "outputs": [
    {
     "data": {
      "text/html": [
       "<div>\n",
       "<style scoped>\n",
       "    .dataframe tbody tr th:only-of-type {\n",
       "        vertical-align: middle;\n",
       "    }\n",
       "\n",
       "    .dataframe tbody tr th {\n",
       "        vertical-align: top;\n",
       "    }\n",
       "\n",
       "    .dataframe thead th {\n",
       "        text-align: right;\n",
       "    }\n",
       "</style>\n",
       "<table border=\"1\" class=\"dataframe\">\n",
       "  <thead>\n",
       "    <tr style=\"text-align: right;\">\n",
       "      <th></th>\n",
       "      <th>raw</th>\n",
       "    </tr>\n",
       "  </thead>\n",
       "  <tbody>\n",
       "    <tr>\n",
       "      <th>5874</th>\n",
       "      <td>I did do that.. and that’s strange as the last person commented on my order? Amazon your service is slipping now you are using your own delivery service - bring back DPD or @RoyalMail for SY5 postcodes!</td>\n",
       "    </tr>\n",
       "    <tr>\n",
       "      <th>6015</th>\n",
       "      <td>Ok thank you</td>\n",
       "    </tr>\n",
       "    <tr>\n",
       "      <th>4062</th>\n",
       "      <td>Don’t waste your time. They treat their employees like 💩 and don’t even pay them a livable salary. Go to Staples, anywhere but amazon. 🤢🤮🤢🤮🤢🤮🤢🤮🤢🤮</td>\n",
       "    </tr>\n",
       "    <tr>\n",
       "      <th>6242</th>\n",
       "      <td>@AmazonHelp i bought a bottle of hot sauce and it leaked out of the bottle :(</td>\n",
       "    </tr>\n",
       "    <tr>\n",
       "      <th>4102</th>\n",
       "      <td>Thanks for answering! I‘m having the most difficulties with the subtitles of Picard. Are there no English subtitles or just not because I have German Amazon?</td>\n",
       "    </tr>\n",
       "    <tr>\n",
       "      <th>1539</th>\n",
       "      <td>BOTH, IVE PURCHASED FROM BOTH SITE WITH THE SAME ACCOUNT.</td>\n",
       "    </tr>\n",
       "    <tr>\n",
       "      <th>4044</th>\n",
       "      <td>Need SOS ACTION @AmazonHelp</td>\n",
       "    </tr>\n",
       "    <tr>\n",
       "      <th>2061</th>\n",
       "      <td>Oh maybe actually, let me check with the person I'm sharing with</td>\n",
       "    </tr>\n",
       "    <tr>\n",
       "      <th>6206</th>\n",
       "      <td>@amazon @AmazonHelp is this legit or spam? Looks hella shady. Thanks!  pic.twitter.com/gcJvU9jgyZ</td>\n",
       "    </tr>\n",
       "    <tr>\n",
       "      <th>146</th>\n",
       "      <td>@amazon @amazonmusic @PrimeVideo @AmazonUK @AmazonStudios @amazonIN @AmazonHelp @ComplaintEComm1\\n@AmazonHelp @ComplaintEComm1 @AmazonUK @amazon @TimesNow @timesofindia\\n@flipkartsupport @ComplaintEComm1\\nNow a days Amazon send refurbished product instead of brand new products..</td>\n",
       "    </tr>\n",
       "    <tr>\n",
       "      <th>2963</th>\n",
       "      <td>brilliant, thank you!</td>\n",
       "    </tr>\n",
       "    <tr>\n",
       "      <th>1790</th>\n",
       "      <td>1/3 So this is on @AmazonUK under item description... [Hassle-free service]: This product comes with a 36-month warranty and we offer friendly, easy-to-reach customer service at no additional cost. We are always here for you... what a load of utter nonsense @AmazonHelp! Spent</td>\n",
       "    </tr>\n",
       "    <tr>\n",
       "      <th>2757</th>\n",
       "      <td>Wanna see what it looks like? pic.twitter.com/wCnzyfWBjH</td>\n",
       "    </tr>\n",
       "    <tr>\n",
       "      <th>936</th>\n",
       "      <td>No manager or supervisor who can take care of this?</td>\n",
       "    </tr>\n",
       "    <tr>\n",
       "      <th>6004</th>\n",
       "      <td>@AmazonHelp 𝙏𝙃𝙀𝙔 𝘿𝙄𝘿𝙉'𝙏 𝙏𝘼𝙆𝙀 𝙊𝙉𝙀 𝙊𝙁 𝙏𝙃𝙀 𝙍𝙀𝙋𝙇𝘼𝘾𝙀𝙈𝙀𝙉𝙏. 𝘽𝙐𝙏 𝙏𝙃𝙀 𝘿𝙄𝘿 𝙏𝘼𝙆𝙀 𝘼 𝘿𝙀𝙇𝙄𝙑𝙀𝙍𝙔 𝙋𝙃𝙊𝙏𝙊  𝙊𝙁 𝘾𝙀𝙇𝙇𝙋𝙃𝙊𝙉𝙀 𝙋𝙍𝙊𝙏𝙀𝘾𝙏𝙄𝙊𝙉 , 𝘽𝙊𝙏𝙃 𝙐𝙉𝘿𝙀𝙍 10 𝘿𝙊𝙇𝙇𝘼𝙍𝙎. 𝙒𝙃𝙀𝙉 𝙏𝙃𝙀𝙔 𝙎𝙀𝙉𝙏 𝙊𝙐𝙏 𝙏𝙃𝙀</td>\n",
       "    </tr>\n",
       "    <tr>\n",
       "      <th>5626</th>\n",
       "      <td>No , but I am located in Ireland not the uk \\nDoes that make a difference?</td>\n",
       "    </tr>\n",
       "    <tr>\n",
       "      <th>6107</th>\n",
       "      <td>Disappointment abounds... pic.twitter.com/rqgQbOS9Ya</td>\n",
       "    </tr>\n",
       "    <tr>\n",
       "      <th>5844</th>\n",
       "      <td>No I'm good thanks enjoy your weekend</td>\n",
       "    </tr>\n",
       "    <tr>\n",
       "      <th>4250</th>\n",
       "      <td>This is preventing me from shopping in Amazon app. Had to close and reopen most of the times.\\n@AmazonHelp</td>\n",
       "    </tr>\n",
       "    <tr>\n",
       "      <th>5288</th>\n",
       "      <td>@AmazonHelp scam or not, my guess it is but did buy something yesterday.  pic.twitter.com/KyV4Yi0sY5</td>\n",
       "    </tr>\n",
       "    <tr>\n",
       "      <th>2503</th>\n",
       "      <td>Okk thanks 🙂</td>\n",
       "    </tr>\n",
       "    <tr>\n",
       "      <th>3536</th>\n",
       "      <td>Never mind. I've changed your #dropdown through the @firefox #developerMode and logged in successfully.</td>\n",
       "    </tr>\n",
       "    <tr>\n",
       "      <th>3122</th>\n",
       "      <td>i believe so, went here ( https://www.amazon.co.uk/b?ie=UTF8&amp;node=14074016031 …) and installed it again after uninstalling</td>\n",
       "    </tr>\n",
       "    <tr>\n",
       "      <th>4138</th>\n",
       "      <td>This is awesome I honestly never seen this before! Thanks</td>\n",
       "    </tr>\n",
       "    <tr>\n",
       "      <th>917</th>\n",
       "      <td>THEN YOU SHOULD NOT HAVE THAT IN THE MENU. THAT IS A BUG I SAY. IT SHOULD KNOW WHAT SYSTEM I AM USING.</td>\n",
       "    </tr>\n",
       "    <tr>\n",
       "      <th>930</th>\n",
       "      <td>Sent away. I’m amazed how horrid this experience has been.</td>\n",
       "    </tr>\n",
       "    <tr>\n",
       "      <th>3548</th>\n",
       "      <td>Thank you</td>\n",
       "    </tr>\n",
       "  </tbody>\n",
       "</table>\n",
       "</div>"
      ],
      "text/plain": [
       "                                                                                                                                                                                                                                                                                          raw\n",
       "5874                                                                               I did do that.. and that’s strange as the last person commented on my order? Amazon your service is slipping now you are using your own delivery service - bring back DPD or @RoyalMail for SY5 postcodes!\n",
       "6015                                                                                                                                                                                                                                                                             Ok thank you\n",
       "4062                                                                                                                                        Don’t waste your time. They treat their employees like 💩 and don’t even pay them a livable salary. Go to Staples, anywhere but amazon. 🤢🤮🤢🤮🤢🤮🤢🤮🤢🤮\n",
       "6242                                                                                                                                                                                                            @AmazonHelp i bought a bottle of hot sauce and it leaked out of the bottle :(\n",
       "4102                                                                                                                            Thanks for answering! I‘m having the most difficulties with the subtitles of Picard. Are there no English subtitles or just not because I have German Amazon?\n",
       "1539                                                                                                                                                                                                                                BOTH, IVE PURCHASED FROM BOTH SITE WITH THE SAME ACCOUNT.\n",
       "4044                                                                                                                                                                                                                                                              Need SOS ACTION @AmazonHelp\n",
       "2061                                                                                                                                                                                                                         Oh maybe actually, let me check with the person I'm sharing with\n",
       "6206                                                                                                                                                                                        @amazon @AmazonHelp is this legit or spam? Looks hella shady. Thanks!  pic.twitter.com/gcJvU9jgyZ\n",
       "146   @amazon @amazonmusic @PrimeVideo @AmazonUK @AmazonStudios @amazonIN @AmazonHelp @ComplaintEComm1\\n@AmazonHelp @ComplaintEComm1 @AmazonUK @amazon @TimesNow @timesofindia\\n@flipkartsupport @ComplaintEComm1\\nNow a days Amazon send refurbished product instead of brand new products..\n",
       "2963                                                                                                                                                                                                                                                                    brilliant, thank you!\n",
       "1790     1/3 So this is on @AmazonUK under item description... [Hassle-free service]: This product comes with a 36-month warranty and we offer friendly, easy-to-reach customer service at no additional cost. We are always here for you... what a load of utter nonsense @AmazonHelp! Spent\n",
       "2757                                                                                                                                                                                                                                 Wanna see what it looks like? pic.twitter.com/wCnzyfWBjH\n",
       "936                                                                                                                                                                                                                                       No manager or supervisor who can take care of this?\n",
       "6004                                                                                                                          @AmazonHelp 𝙏𝙃𝙀𝙔 𝘿𝙄𝘿𝙉'𝙏 𝙏𝘼𝙆𝙀 𝙊𝙉𝙀 𝙊𝙁 𝙏𝙃𝙀 𝙍𝙀𝙋𝙇𝘼𝘾𝙀𝙈𝙀𝙉𝙏. 𝘽𝙐𝙏 𝙏𝙃𝙀 𝘿𝙄𝘿 𝙏𝘼𝙆𝙀 𝘼 𝘿𝙀𝙇𝙄𝙑𝙀𝙍𝙔 𝙋𝙃𝙊𝙏𝙊  𝙊𝙁 𝘾𝙀𝙇𝙇𝙋𝙃𝙊𝙉𝙀 𝙋𝙍𝙊𝙏𝙀𝘾𝙏𝙄𝙊𝙉 , 𝘽𝙊𝙏𝙃 𝙐𝙉𝘿𝙀𝙍 10 𝘿𝙊𝙇𝙇𝘼𝙍𝙎. 𝙒𝙃𝙀𝙉 𝙏𝙃𝙀𝙔 𝙎𝙀𝙉𝙏 𝙊𝙐𝙏 𝙏𝙃𝙀\n",
       "5626                                                                                                                                                                                                               No , but I am located in Ireland not the uk \\nDoes that make a difference?\n",
       "6107                                                                                                                                                                                                                                     Disappointment abounds... pic.twitter.com/rqgQbOS9Ya\n",
       "5844                                                                                                                                                                                                                                                    No I'm good thanks enjoy your weekend\n",
       "4250                                                                                                                                                                               This is preventing me from shopping in Amazon app. Had to close and reopen most of the times.\\n@AmazonHelp\n",
       "5288                                                                                                                                                                                     @AmazonHelp scam or not, my guess it is but did buy something yesterday.  pic.twitter.com/KyV4Yi0sY5\n",
       "2503                                                                                                                                                                                                                                                                             Okk thanks 🙂\n",
       "3536                                                                                                                                                                                  Never mind. I've changed your #dropdown through the @firefox #developerMode and logged in successfully.\n",
       "3122                                                                                                                                                               i believe so, went here ( https://www.amazon.co.uk/b?ie=UTF8&node=14074016031 …) and installed it again after uninstalling\n",
       "4138                                                                                                                                                                                                                                This is awesome I honestly never seen this before! Thanks\n",
       "917                                                                                                                                                                                    THEN YOU SHOULD NOT HAVE THAT IN THE MENU. THAT IS A BUG I SAY. IT SHOULD KNOW WHAT SYSTEM I AM USING.\n",
       "930                                                                                                                                                                                                                                Sent away. I’m amazed how horrid this experience has been.\n",
       "3548                                                                                                                                                                                                                                                                                Thank you"
      ]
     },
     "execution_count": 152,
     "metadata": {},
     "output_type": "execute_result"
    }
   ],
   "source": [
    "df.loc[false_negative_index][['raw']]"
   ]
  },
  {
   "cell_type": "markdown",
   "metadata": {},
   "source": [
    "# 6. Save Model"
   ]
  },
  {
   "cell_type": "code",
   "execution_count": null,
   "metadata": {},
   "outputs": [],
   "source": []
  }
 ],
 "metadata": {
  "kernelspec": {
   "display_name": "Python 3",
   "language": "python",
   "name": "python3"
  },
  "language_info": {
   "codemirror_mode": {
    "name": "ipython",
    "version": 3
   },
   "file_extension": ".py",
   "mimetype": "text/x-python",
   "name": "python",
   "nbconvert_exporter": "python",
   "pygments_lexer": "ipython3",
   "version": "3.7.3"
  }
 },
 "nbformat": 4,
 "nbformat_minor": 2
}
