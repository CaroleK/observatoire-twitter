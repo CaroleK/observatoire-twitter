{
  "nbformat": 4,
  "nbformat_minor": 0,
  "metadata": {
    "colab": {
      "name": "Observatoire_Twitter.ipynb",
      "provenance": [],
      "include_colab_link": true
    },
    "kernelspec": {
      "name": "python3",
      "display_name": "Python 3"
    }
  },
  "cells": [
    {
      "cell_type": "markdown",
      "metadata": {
        "colab_type": "text",
        "id": "view-in-github"
      },
      "source": [
        "<a href=\"https://colab.research.google.com/github/CaroleK/observatoire-twitter/blob/master/Observatoire_Twitter.ipynb\" target=\"_parent\"><img src=\"https://colab.research.google.com/assets/colab-badge.svg\" alt=\"Open In Colab\"/></a>"
      ]
    },
    {
      "cell_type": "code",
      "execution_count": 2,
      "metadata": {},
      "outputs": [],
      "source": [
        "import sys\n",
        "sys.path.insert(0, \"D:/Centrale 3A/OSY/Data Science/repos/observatoire-twitter\")"
      ]
    },
    {
      "cell_type": "code",
      "execution_count": 54,
      "metadata": {},
      "outputs": [],
      "source": [
        "from source.preprocessing import Preprocess"
      ]
    },
    {
      "cell_type": "code",
      "execution_count": 55,
      "metadata": {},
      "outputs": [],
      "source": [
        "filename = \"D:/Centrale 3A/OSY/Data Science/repos/observatoire-twitter/data/extraction-kaggle/tweets_data/sample.csv\"\n",
        "file = Preprocess(filename)"
      ]
    },
    {
      "cell_type": "code",
      "execution_count": 56,
      "metadata": {},
      "outputs": [],
      "source": [
        "file.convert_to_df(filename)"
      ]
    },
    {
      "cell_type": "code",
      "execution_count": 57,
      "metadata": {},
      "outputs": [
        {
          "data": {
            "text/html": "<div>\n<style scoped>\n    .dataframe tbody tr th:only-of-type {\n        vertical-align: middle;\n    }\n\n    .dataframe tbody tr th {\n        vertical-align: top;\n    }\n\n    .dataframe thead th {\n        text-align: right;\n    }\n</style>\n<table border=\"1\" class=\"dataframe\">\n  <thead>\n    <tr style=\"text-align: right;\">\n      <th></th>\n      <th>tweet_id</th>\n      <th>author_id</th>\n      <th>inbound</th>\n      <th>created_at</th>\n      <th>text</th>\n      <th>response_tweet_id</th>\n      <th>in_response_to_tweet_id</th>\n    </tr>\n  </thead>\n  <tbody>\n    <tr>\n      <th>0</th>\n      <td>119237</td>\n      <td>105834</td>\n      <td>True</td>\n      <td>Wed Oct 11 06:55:44 +0000 2017</td>\n      <td>@AppleSupport causing the reply to be disregar...</td>\n      <td>119236</td>\n      <td>NaN</td>\n    </tr>\n    <tr>\n      <th>1</th>\n      <td>119238</td>\n      <td>ChaseSupport</td>\n      <td>False</td>\n      <td>Wed Oct 11 13:25:49 +0000 2017</td>\n      <td>@105835 Your business means a lot to us. Pleas...</td>\n      <td>NaN</td>\n      <td>119239.0</td>\n    </tr>\n    <tr>\n      <th>2</th>\n      <td>119239</td>\n      <td>105835</td>\n      <td>True</td>\n      <td>Wed Oct 11 13:00:09 +0000 2017</td>\n      <td>@76328 I really hope you all change but I'm su...</td>\n      <td>119238</td>\n      <td>NaN</td>\n    </tr>\n    <tr>\n      <th>3</th>\n      <td>119240</td>\n      <td>VirginTrains</td>\n      <td>False</td>\n      <td>Tue Oct 10 15:16:08 +0000 2017</td>\n      <td>@105836 LiveChat is online at the moment - htt...</td>\n      <td>119241</td>\n      <td>119242.0</td>\n    </tr>\n    <tr>\n      <th>4</th>\n      <td>119241</td>\n      <td>105836</td>\n      <td>True</td>\n      <td>Tue Oct 10 15:17:21 +0000 2017</td>\n      <td>@VirginTrains see attached error message. I've...</td>\n      <td>119243</td>\n      <td>119240.0</td>\n    </tr>\n  </tbody>\n</table>\n</div>",
            "text/plain": "   tweet_id     author_id  inbound                      created_at  \\\n0    119237        105834     True  Wed Oct 11 06:55:44 +0000 2017   \n1    119238  ChaseSupport    False  Wed Oct 11 13:25:49 +0000 2017   \n2    119239        105835     True  Wed Oct 11 13:00:09 +0000 2017   \n3    119240  VirginTrains    False  Tue Oct 10 15:16:08 +0000 2017   \n4    119241        105836     True  Tue Oct 10 15:17:21 +0000 2017   \n\n                                                text response_tweet_id  \\\n0  @AppleSupport causing the reply to be disregar...            119236   \n1  @105835 Your business means a lot to us. Pleas...               NaN   \n2  @76328 I really hope you all change but I'm su...            119238   \n3  @105836 LiveChat is online at the moment - htt...            119241   \n4  @VirginTrains see attached error message. I've...            119243   \n\n   in_response_to_tweet_id  \n0                      NaN  \n1                 119239.0  \n2                      NaN  \n3                 119242.0  \n4                 119240.0  "
          },
          "execution_count": 57,
          "metadata": {},
          "output_type": "execute_result"
        }
      ],
      "source": [
        "file.full_df.head()"
      ]
    },
    {
      "cell_type": "code",
      "execution_count": 52,
      "metadata": {},
      "outputs": [
        {
          "data": {
            "text/plain": "0     @applesupport causing the reply to be disregar...\n1     @105835 your business means a lot to us. pleas...\n2     @76328 i really hope you all change but i'm su...\n3     @105836 livechat is online at the moment - htt...\n4     @virgintrains see attached error message. i've...\n5     @105836 have you tried from another device, mi...\n6     @virgintrains yep, i've tried laptop too sever...\n7     @105836 it's working ok from here, miriam. doe...\n8     @virgintrains i still haven't heard &amp; the ...\n9     @105836 that's what we're here for miriam 😊  t...\n10    @105837 we can help. which version of ios are ...\n11    @105838 @applesupport me too am suffering , ho...\n12    @applesupport hi #apple, i’ve a concern about ...\n13    @105839 thanks for reaching out to us. we are ...\n14    i just updated my phone and suddenly everythin...\n15    @105840 hi there! what device is this happenin...\n16    @spotifycares thanks! version 8.4.22.857 armv7...\n17    @105840 thanks. the distance could possibly af...\n18    @spotifycares no, but i've moved speaker to ab...\n19    @105840 that's great to hear. if anything come...\n20                     @spotifycares brilliant thanks 😊\n21    @105840 you're welcome! if there's anything el...\n22    @76495 @91226 please help! spotify premium ski...\n23    @105841 we'd love to help! please dm us and le...\n24    @applesupport after the 11.0.2 my phone just s...\n25    @105842 we're sorry your flight has been delay...\n26    first flight for long time with @british_airwa...\n27    @105843 battery life is important, and we're h...\n28    okay @76099 i used my fucking phone for 2 minu...\n29    @105844 thanks for reaching out to us. we are ...\n                            ...                        \n63    @british_airways thanks for your answer. respo...\n64    @105842 very sorry to hear this.  we hope you ...\n65    @105854 i am sorry for the poor experience. ca...\n66    @ask_spectrum it's just in my yard. i've calle...\n67    @76501 i guess this means free cable for the n...\n68    @105855 hi thomas, if a colleague believes the...\n69            @tesco maybe hire colleagues who can see?\n70    @tesco the point is if it's enforced they do i...\n71    @105855 hi thomas, this is correct but this he...\n72               @tesco uk offlicense law is 18. not 25\n73    @105855 hi thomas, we operate a think 25 polic...\n74    got id's @tesco for buying one adnams broadsid...\n75    @105856 hi there, could you try deleting your ...\n76    @tesco will i lose all the shopping i've done ...\n77    @105856 hi there, as long as you sign out of y...\n78    @tesco done all that. still telling me there a...\n79    @105856 can you dm me your full name, address ...\n80    hey @tesco, your website's broken. it's tellin...\n81    @105857 is there a particular app that seems t...\n82    @applesupport i have the latest version ios. i...\n83    @105857 we'd like to help if we can. when did ...\n84    my apps stop working without warning and my ph...\n85    @105858 hi agoura, thanks for tweeting. please...\n86    @hpsupport problem with printhead  serial# th5...\n87    @105859 ups has a service called my choice tha...\n88    @105860 i wish amazon had an option of where i...\n89    they reschedule my shit for tomorrow https://t...\n90    @105861 hey sara, sorry to hear of the issues ...\n91    @tesco bit of both - finding the layout cumber...\n92    @105861 if that doesn't help please dm your fu...\nName: raw, Length: 93, dtype: object"
          },
          "execution_count": 52,
          "metadata": {},
          "output_type": "execute_result"
        }
      ],
      "source": [
        "file.text_df[\"raw\"].apply(lambda t: t.lower())"
      ]
    },
    {
      "cell_type": "code",
      "execution_count": 58,
      "metadata": {},
      "outputs": [
        {
          "ename": "AttributeError",
          "evalue": "'str' object has no attribute 'str'",
          "output_type": "error",
          "traceback": [
            "\u001b[1;31m---------------------------------------------------------------------------\u001b[0m",
            "\u001b[1;31mAttributeError\u001b[0m                            Traceback (most recent call last)",
            "\u001b[1;32m<ipython-input-58-e5e4e670ef29>\u001b[0m in \u001b[0;36m<module>\u001b[1;34m\u001b[0m\n\u001b[1;32m----> 1\u001b[1;33m \u001b[0mfile\u001b[0m\u001b[1;33m.\u001b[0m\u001b[0mprocess_text\u001b[0m\u001b[1;33m(\u001b[0m\u001b[1;32mTrue\u001b[0m\u001b[1;33m,\u001b[0m \u001b[1;32mTrue\u001b[0m\u001b[1;33m)\u001b[0m\u001b[1;33m\u001b[0m\u001b[1;33m\u001b[0m\u001b[0m\n\u001b[0m",
            "\u001b[1;32mD:/Centrale 3A/OSY/Data Science/repos/observatoire-twitter\\source\\preprocessing.py\u001b[0m in \u001b[0;36mprocess_text\u001b[1;34m(self, lower_cases, remove_punctuation, remove_stopwords, remove_frequent_words)\u001b[0m\n\u001b[0;32m     46\u001b[0m      \u001b[1;32mdef\u001b[0m \u001b[0mprocess_text\u001b[0m \u001b[1;33m(\u001b[0m\u001b[0mself\u001b[0m\u001b[1;33m,\u001b[0m \u001b[0mlower_cases\u001b[0m \u001b[1;33m=\u001b[0m \u001b[1;32mFalse\u001b[0m\u001b[1;33m,\u001b[0m \u001b[0mremove_punctuation\u001b[0m \u001b[1;33m=\u001b[0m \u001b[1;32mFalse\u001b[0m\u001b[1;33m,\u001b[0m \u001b[0mremove_stopwords\u001b[0m \u001b[1;33m=\u001b[0m \u001b[1;32mFalse\u001b[0m\u001b[1;33m,\u001b[0m \u001b[0mremove_frequent_words\u001b[0m \u001b[1;33m=\u001b[0m \u001b[1;32mFalse\u001b[0m\u001b[1;33m)\u001b[0m\u001b[1;33m:\u001b[0m\u001b[1;33m\u001b[0m\u001b[1;33m\u001b[0m\u001b[0m\n\u001b[0;32m     47\u001b[0m          \u001b[1;32mif\u001b[0m \u001b[0mlower_cases\u001b[0m\u001b[1;33m:\u001b[0m\u001b[1;33m\u001b[0m\u001b[1;33m\u001b[0m\u001b[0m\n\u001b[1;32m---> 48\u001b[1;33m              \u001b[0mself\u001b[0m\u001b[1;33m.\u001b[0m\u001b[0mtext_df\u001b[0m\u001b[1;33m[\u001b[0m\u001b[1;34m\"processed\"\u001b[0m\u001b[1;33m]\u001b[0m \u001b[1;33m=\u001b[0m \u001b[0mself\u001b[0m\u001b[1;33m.\u001b[0m\u001b[0mtext_df\u001b[0m\u001b[1;33m[\u001b[0m\u001b[1;34m\"raw\"\u001b[0m\u001b[1;33m]\u001b[0m\u001b[1;33m.\u001b[0m\u001b[0mapply\u001b[0m\u001b[1;33m(\u001b[0m\u001b[1;32mlambda\u001b[0m \u001b[0mt\u001b[0m\u001b[1;33m:\u001b[0m \u001b[0mself\u001b[0m\u001b[1;33m.\u001b[0m\u001b[0mremove_upper_cases\u001b[0m\u001b[1;33m(\u001b[0m\u001b[0mt\u001b[0m\u001b[1;33m)\u001b[0m\u001b[1;33m)\u001b[0m\u001b[1;33m\u001b[0m\u001b[1;33m\u001b[0m\u001b[0m\n\u001b[0m\u001b[0;32m     49\u001b[0m          \u001b[1;32mif\u001b[0m \u001b[0mremove_punctuation\u001b[0m\u001b[1;33m:\u001b[0m\u001b[1;33m\u001b[0m\u001b[1;33m\u001b[0m\u001b[0m\n\u001b[0;32m     50\u001b[0m              \u001b[0mself\u001b[0m\u001b[1;33m.\u001b[0m\u001b[0mtext_df\u001b[0m\u001b[1;33m[\u001b[0m\u001b[1;34m\"processed\"\u001b[0m\u001b[1;33m]\u001b[0m \u001b[1;33m=\u001b[0m \u001b[0mself\u001b[0m\u001b[1;33m.\u001b[0m\u001b[0mtext_df\u001b[0m\u001b[1;33m[\u001b[0m\u001b[1;34m\"processed\"\u001b[0m\u001b[1;33m]\u001b[0m\u001b[1;33m.\u001b[0m\u001b[0mapply\u001b[0m\u001b[1;33m(\u001b[0m\u001b[1;32mlambda\u001b[0m \u001b[0mt\u001b[0m\u001b[1;33m:\u001b[0m \u001b[0mremove_punctuation\u001b[0m\u001b[1;33m(\u001b[0m\u001b[0mt\u001b[0m\u001b[1;33m)\u001b[0m\u001b[1;33m)\u001b[0m\u001b[1;33m\u001b[0m\u001b[1;33m\u001b[0m\u001b[0m\n",
            "\u001b[1;32m~\\Anaconda3\\lib\\site-packages\\pandas\\core\\series.py\u001b[0m in \u001b[0;36mapply\u001b[1;34m(self, func, convert_dtype, args, **kwds)\u001b[0m\n\u001b[0;32m   3589\u001b[0m             \u001b[1;32melse\u001b[0m\u001b[1;33m:\u001b[0m\u001b[1;33m\u001b[0m\u001b[1;33m\u001b[0m\u001b[0m\n\u001b[0;32m   3590\u001b[0m                 \u001b[0mvalues\u001b[0m \u001b[1;33m=\u001b[0m \u001b[0mself\u001b[0m\u001b[1;33m.\u001b[0m\u001b[0mastype\u001b[0m\u001b[1;33m(\u001b[0m\u001b[0mobject\u001b[0m\u001b[1;33m)\u001b[0m\u001b[1;33m.\u001b[0m\u001b[0mvalues\u001b[0m\u001b[1;33m\u001b[0m\u001b[1;33m\u001b[0m\u001b[0m\n\u001b[1;32m-> 3591\u001b[1;33m                 \u001b[0mmapped\u001b[0m \u001b[1;33m=\u001b[0m \u001b[0mlib\u001b[0m\u001b[1;33m.\u001b[0m\u001b[0mmap_infer\u001b[0m\u001b[1;33m(\u001b[0m\u001b[0mvalues\u001b[0m\u001b[1;33m,\u001b[0m \u001b[0mf\u001b[0m\u001b[1;33m,\u001b[0m \u001b[0mconvert\u001b[0m\u001b[1;33m=\u001b[0m\u001b[0mconvert_dtype\u001b[0m\u001b[1;33m)\u001b[0m\u001b[1;33m\u001b[0m\u001b[1;33m\u001b[0m\u001b[0m\n\u001b[0m\u001b[0;32m   3592\u001b[0m \u001b[1;33m\u001b[0m\u001b[0m\n\u001b[0;32m   3593\u001b[0m         \u001b[1;32mif\u001b[0m \u001b[0mlen\u001b[0m\u001b[1;33m(\u001b[0m\u001b[0mmapped\u001b[0m\u001b[1;33m)\u001b[0m \u001b[1;32mand\u001b[0m \u001b[0misinstance\u001b[0m\u001b[1;33m(\u001b[0m\u001b[0mmapped\u001b[0m\u001b[1;33m[\u001b[0m\u001b[1;36m0\u001b[0m\u001b[1;33m]\u001b[0m\u001b[1;33m,\u001b[0m \u001b[0mSeries\u001b[0m\u001b[1;33m)\u001b[0m\u001b[1;33m:\u001b[0m\u001b[1;33m\u001b[0m\u001b[1;33m\u001b[0m\u001b[0m\n",
            "\u001b[1;32mpandas/_libs/lib.pyx\u001b[0m in \u001b[0;36mpandas._libs.lib.map_infer\u001b[1;34m()\u001b[0m\n",
            "\u001b[1;32mD:/Centrale 3A/OSY/Data Science/repos/observatoire-twitter\\source\\preprocessing.py\u001b[0m in \u001b[0;36m<lambda>\u001b[1;34m(t)\u001b[0m\n\u001b[0;32m     46\u001b[0m      \u001b[1;32mdef\u001b[0m \u001b[0mprocess_text\u001b[0m \u001b[1;33m(\u001b[0m\u001b[0mself\u001b[0m\u001b[1;33m,\u001b[0m \u001b[0mlower_cases\u001b[0m \u001b[1;33m=\u001b[0m \u001b[1;32mFalse\u001b[0m\u001b[1;33m,\u001b[0m \u001b[0mremove_punctuation\u001b[0m \u001b[1;33m=\u001b[0m \u001b[1;32mFalse\u001b[0m\u001b[1;33m,\u001b[0m \u001b[0mremove_stopwords\u001b[0m \u001b[1;33m=\u001b[0m \u001b[1;32mFalse\u001b[0m\u001b[1;33m,\u001b[0m \u001b[0mremove_frequent_words\u001b[0m \u001b[1;33m=\u001b[0m \u001b[1;32mFalse\u001b[0m\u001b[1;33m)\u001b[0m\u001b[1;33m:\u001b[0m\u001b[1;33m\u001b[0m\u001b[1;33m\u001b[0m\u001b[0m\n\u001b[0;32m     47\u001b[0m          \u001b[1;32mif\u001b[0m \u001b[0mlower_cases\u001b[0m\u001b[1;33m:\u001b[0m\u001b[1;33m\u001b[0m\u001b[1;33m\u001b[0m\u001b[0m\n\u001b[1;32m---> 48\u001b[1;33m              \u001b[0mself\u001b[0m\u001b[1;33m.\u001b[0m\u001b[0mtext_df\u001b[0m\u001b[1;33m[\u001b[0m\u001b[1;34m\"processed\"\u001b[0m\u001b[1;33m]\u001b[0m \u001b[1;33m=\u001b[0m \u001b[0mself\u001b[0m\u001b[1;33m.\u001b[0m\u001b[0mtext_df\u001b[0m\u001b[1;33m[\u001b[0m\u001b[1;34m\"raw\"\u001b[0m\u001b[1;33m]\u001b[0m\u001b[1;33m.\u001b[0m\u001b[0mapply\u001b[0m\u001b[1;33m(\u001b[0m\u001b[1;32mlambda\u001b[0m \u001b[0mt\u001b[0m\u001b[1;33m:\u001b[0m \u001b[0mself\u001b[0m\u001b[1;33m.\u001b[0m\u001b[0mremove_upper_cases\u001b[0m\u001b[1;33m(\u001b[0m\u001b[0mt\u001b[0m\u001b[1;33m)\u001b[0m\u001b[1;33m)\u001b[0m\u001b[1;33m\u001b[0m\u001b[1;33m\u001b[0m\u001b[0m\n\u001b[0m\u001b[0;32m     49\u001b[0m          \u001b[1;32mif\u001b[0m \u001b[0mremove_punctuation\u001b[0m\u001b[1;33m:\u001b[0m\u001b[1;33m\u001b[0m\u001b[1;33m\u001b[0m\u001b[0m\n\u001b[0;32m     50\u001b[0m              \u001b[0mself\u001b[0m\u001b[1;33m.\u001b[0m\u001b[0mtext_df\u001b[0m\u001b[1;33m[\u001b[0m\u001b[1;34m\"processed\"\u001b[0m\u001b[1;33m]\u001b[0m \u001b[1;33m=\u001b[0m \u001b[0mself\u001b[0m\u001b[1;33m.\u001b[0m\u001b[0mtext_df\u001b[0m\u001b[1;33m[\u001b[0m\u001b[1;34m\"processed\"\u001b[0m\u001b[1;33m]\u001b[0m\u001b[1;33m.\u001b[0m\u001b[0mapply\u001b[0m\u001b[1;33m(\u001b[0m\u001b[1;32mlambda\u001b[0m \u001b[0mt\u001b[0m\u001b[1;33m:\u001b[0m \u001b[0mremove_punctuation\u001b[0m\u001b[1;33m(\u001b[0m\u001b[0mt\u001b[0m\u001b[1;33m)\u001b[0m\u001b[1;33m)\u001b[0m\u001b[1;33m\u001b[0m\u001b[1;33m\u001b[0m\u001b[0m\n",
            "\u001b[1;32mD:/Centrale 3A/OSY/Data Science/repos/observatoire-twitter\\source\\preprocessing.py\u001b[0m in \u001b[0;36mremove_upper_cases\u001b[1;34m(self, text)\u001b[0m\n\u001b[0;32m     21\u001b[0m \u001b[1;33m\u001b[0m\u001b[0m\n\u001b[0;32m     22\u001b[0m      \u001b[1;32mdef\u001b[0m \u001b[0mremove_upper_cases\u001b[0m\u001b[1;33m(\u001b[0m\u001b[0mself\u001b[0m\u001b[1;33m,\u001b[0m \u001b[0mtext\u001b[0m\u001b[1;33m)\u001b[0m\u001b[1;33m:\u001b[0m\u001b[1;33m\u001b[0m\u001b[1;33m\u001b[0m\u001b[0m\n\u001b[1;32m---> 23\u001b[1;33m         \u001b[1;32mreturn\u001b[0m \u001b[0mtext\u001b[0m\u001b[1;33m.\u001b[0m\u001b[0mlower\u001b[0m\u001b[1;33m(\u001b[0m\u001b[1;33m)\u001b[0m\u001b[1;33m\u001b[0m\u001b[1;33m\u001b[0m\u001b[0m\n\u001b[0m\u001b[0;32m     24\u001b[0m \u001b[1;33m\u001b[0m\u001b[0m\n\u001b[0;32m     25\u001b[0m      \u001b[1;32mdef\u001b[0m \u001b[0mremove_punctuation\u001b[0m\u001b[1;33m(\u001b[0m\u001b[0mself\u001b[0m\u001b[1;33m,\u001b[0m \u001b[0mtext\u001b[0m\u001b[1;33m)\u001b[0m\u001b[1;33m:\u001b[0m\u001b[1;33m\u001b[0m\u001b[1;33m\u001b[0m\u001b[0m\n",
            "\u001b[1;31mAttributeError\u001b[0m: 'str' object has no attribute 'str'"
          ]
        }
      ],
      "source": [
        "file.process_text(True, True)"
      ]
    },
    {
      "cell_type": "code",
      "execution_count": null,
      "metadata": {},
      "outputs": [],
      "source": []
    }
  ]
}